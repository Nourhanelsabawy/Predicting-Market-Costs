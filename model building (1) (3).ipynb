{
 "cells": [
  {
   "cell_type": "code",
   "execution_count": 1,
   "id": "5879cc50",
   "metadata": {},
   "outputs": [],
   "source": [
    "import pandas as pd\n",
    "import numpy as np\n",
    "import matplotlib.pyplot as plt\n",
    "import lightgbm as lgb\n",
    "from lazypredict.Supervised import LazyRegressor\n",
    "from sklearn.preprocessing import OrdinalEncoder, StandardScaler, OneHotEncoder\n",
    "from sklearn.pipeline import make_pipeline\n",
    "from sklearn.tree import DecisionTreeRegressor\n",
    "from sklearn.model_selection import train_test_split, cross_val_score,KFold,GridSearchCV\n",
    "from sklearn.impute import SimpleImputer\n",
    "from sklearn.compose import ColumnTransformer\n",
    "from sklearn.metrics import make_scorer\n",
    "from sklearn.ensemble import RandomForestRegressor\n",
    "from sklearn.metrics import mean_squared_error"
   ]
  },
  {
   "cell_type": "code",
   "execution_count": 2,
   "id": "66e4dce8",
   "metadata": {},
   "outputs": [
    {
     "data": {
      "text/html": [
       "<div>\n",
       "<style scoped>\n",
       "    .dataframe tbody tr th:only-of-type {\n",
       "        vertical-align: middle;\n",
       "    }\n",
       "\n",
       "    .dataframe tbody tr th {\n",
       "        vertical-align: top;\n",
       "    }\n",
       "\n",
       "    .dataframe thead th {\n",
       "        text-align: right;\n",
       "    }\n",
       "</style>\n",
       "<table border=\"1\" class=\"dataframe\">\n",
       "  <thead>\n",
       "    <tr style=\"text-align: right;\">\n",
       "      <th></th>\n",
       "      <th>id</th>\n",
       "      <th>Place Code</th>\n",
       "      <th>Promotion Name</th>\n",
       "      <th>Store Kind</th>\n",
       "      <th>Store Sales</th>\n",
       "      <th>Store Cost</th>\n",
       "      <th>Is Recyclable?</th>\n",
       "      <th>Store Area</th>\n",
       "      <th>Grocery Area</th>\n",
       "      <th>Frozen Area</th>\n",
       "      <th>...</th>\n",
       "      <th>Department</th>\n",
       "      <th>Bar For Salad</th>\n",
       "      <th>Florist</th>\n",
       "      <th>Coffee Bar</th>\n",
       "      <th>Ready Food</th>\n",
       "      <th>Video Store</th>\n",
       "      <th>Gross Weight</th>\n",
       "      <th>Net Weight</th>\n",
       "      <th>Package Weight</th>\n",
       "      <th>Min. Person Yearly Income</th>\n",
       "    </tr>\n",
       "  </thead>\n",
       "  <tbody>\n",
       "    <tr>\n",
       "      <th>0</th>\n",
       "      <td>mc_ID_0</td>\n",
       "      <td>H11go_ZA</td>\n",
       "      <td>Dimes Off</td>\n",
       "      <td>Deluxe</td>\n",
       "      <td>8760000.00</td>\n",
       "      <td>4292400.00</td>\n",
       "      <td>yes</td>\n",
       "      <td>2842.23</td>\n",
       "      <td>2037.64</td>\n",
       "      <td>481.98</td>\n",
       "      <td>...</td>\n",
       "      <td>Household</td>\n",
       "      <td>1</td>\n",
       "      <td>1</td>\n",
       "      <td>1</td>\n",
       "      <td>1</td>\n",
       "      <td>1</td>\n",
       "      <td>28.20</td>\n",
       "      <td>26.60</td>\n",
       "      <td>1.60</td>\n",
       "      <td>10000.00</td>\n",
       "    </tr>\n",
       "    <tr>\n",
       "      <th>1</th>\n",
       "      <td>mc_ID_1</td>\n",
       "      <td>S04ne_WA</td>\n",
       "      <td>Budget Bargains</td>\n",
       "      <td>Supermarket</td>\n",
       "      <td>6360000.00</td>\n",
       "      <td>1971600.00</td>\n",
       "      <td>no</td>\n",
       "      <td>2814.95</td>\n",
       "      <td>2049.72</td>\n",
       "      <td>457.36</td>\n",
       "      <td>...</td>\n",
       "      <td>Snack Foods</td>\n",
       "      <td>0</td>\n",
       "      <td>0</td>\n",
       "      <td>0</td>\n",
       "      <td>0</td>\n",
       "      <td>0</td>\n",
       "      <td>16.57</td>\n",
       "      <td>14.97</td>\n",
       "      <td>1.60</td>\n",
       "      <td>50000.00</td>\n",
       "    </tr>\n",
       "    <tr>\n",
       "      <th>2</th>\n",
       "      <td>mc_ID_2</td>\n",
       "      <td>L05es_CA</td>\n",
       "      <td>Shelf Emptiers</td>\n",
       "      <td>Supermarket</td>\n",
       "      <td>10860000.00</td>\n",
       "      <td>4452600.00</td>\n",
       "      <td>yes</td>\n",
       "      <td>2192.32</td>\n",
       "      <td>1322.21</td>\n",
       "      <td>523.32</td>\n",
       "      <td>...</td>\n",
       "      <td>Periodicals</td>\n",
       "      <td>0</td>\n",
       "      <td>1</td>\n",
       "      <td>0</td>\n",
       "      <td>0</td>\n",
       "      <td>0</td>\n",
       "      <td>28.64</td>\n",
       "      <td>27.18</td>\n",
       "      <td>1.45</td>\n",
       "      <td>30000.00</td>\n",
       "    </tr>\n",
       "    <tr>\n",
       "      <th>3</th>\n",
       "      <td>mc_ID_4</td>\n",
       "      <td>M10da_YU</td>\n",
       "      <td>Sale Winners</td>\n",
       "      <td>Deluxe</td>\n",
       "      <td>11560000.00</td>\n",
       "      <td>4970800.00</td>\n",
       "      <td>no</td>\n",
       "      <td>2862.30</td>\n",
       "      <td>1872.19</td>\n",
       "      <td>593.93</td>\n",
       "      <td>...</td>\n",
       "      <td>Produce</td>\n",
       "      <td>1</td>\n",
       "      <td>1</td>\n",
       "      <td>1</td>\n",
       "      <td>1</td>\n",
       "      <td>1</td>\n",
       "      <td>12.62</td>\n",
       "      <td>9.71</td>\n",
       "      <td>2.91</td>\n",
       "      <td>50000.00</td>\n",
       "    </tr>\n",
       "    <tr>\n",
       "      <th>4</th>\n",
       "      <td>mc_ID_5</td>\n",
       "      <td>S03le_WA</td>\n",
       "      <td>Weekend Discount</td>\n",
       "      <td>Supermarket</td>\n",
       "      <td>5220000.00</td>\n",
       "      <td>1618200.00</td>\n",
       "      <td>yes</td>\n",
       "      <td>1970.17</td>\n",
       "      <td>1236.07</td>\n",
       "      <td>440.92</td>\n",
       "      <td>...</td>\n",
       "      <td>Household</td>\n",
       "      <td>0</td>\n",
       "      <td>0</td>\n",
       "      <td>1</td>\n",
       "      <td>0</td>\n",
       "      <td>0</td>\n",
       "      <td>15.41</td>\n",
       "      <td>13.95</td>\n",
       "      <td>1.45</td>\n",
       "      <td>30000.00</td>\n",
       "    </tr>\n",
       "  </tbody>\n",
       "</table>\n",
       "<p>5 rows × 29 columns</p>\n",
       "</div>"
      ],
      "text/plain": [
       "        id Place Code    Promotion Name   Store Kind  Store Sales  Store Cost  \\\n",
       "0  mc_ID_0   H11go_ZA         Dimes Off       Deluxe   8760000.00  4292400.00   \n",
       "1  mc_ID_1   S04ne_WA   Budget Bargains  Supermarket   6360000.00  1971600.00   \n",
       "2  mc_ID_2   L05es_CA    Shelf Emptiers  Supermarket  10860000.00  4452600.00   \n",
       "3  mc_ID_4   M10da_YU      Sale Winners       Deluxe  11560000.00  4970800.00   \n",
       "4  mc_ID_5   S03le_WA  Weekend Discount  Supermarket   5220000.00  1618200.00   \n",
       "\n",
       "  Is Recyclable?  Store Area  Grocery Area  Frozen Area  ...   Department  \\\n",
       "0            yes     2842.23       2037.64       481.98  ...    Household   \n",
       "1             no     2814.95       2049.72       457.36  ...  Snack Foods   \n",
       "2            yes     2192.32       1322.21       523.32  ...  Periodicals   \n",
       "3             no     2862.30       1872.19       593.93  ...      Produce   \n",
       "4            yes     1970.17       1236.07       440.92  ...    Household   \n",
       "\n",
       "   Bar For Salad Florist Coffee Bar Ready Food Video Store Gross Weight  \\\n",
       "0              1       1          1          1           1        28.20   \n",
       "1              0       0          0          0           0        16.57   \n",
       "2              0       1          0          0           0        28.64   \n",
       "3              1       1          1          1           1        12.62   \n",
       "4              0       0          1          0           0        15.41   \n",
       "\n",
       "  Net Weight Package Weight Min. Person Yearly Income  \n",
       "0      26.60           1.60                  10000.00  \n",
       "1      14.97           1.60                  50000.00  \n",
       "2      27.18           1.45                  30000.00  \n",
       "3       9.71           2.91                  50000.00  \n",
       "4      13.95           1.45                  30000.00  \n",
       "\n",
       "[5 rows x 29 columns]"
      ]
     },
     "execution_count": 2,
     "metadata": {},
     "output_type": "execute_result"
    }
   ],
   "source": [
    "df = pd.read_csv(\"cleaned_train.csv\")\n",
    "df.head()"
   ]
  },
  {
   "cell_type": "code",
   "execution_count": 9,
   "id": "8e325d21",
   "metadata": {},
   "outputs": [
    {
     "data": {
      "text/plain": [
       "Index(['id', 'Place Code', 'Promotion Name', 'Store Kind', 'Store Sales',\n",
       "       'Store Cost', 'Is Recyclable?', 'Store Area', 'Grocery Area',\n",
       "       'Frozen Area', 'Meat Area', 'Cost', 'Marriage', 'Gender', 'Children',\n",
       "       'Degree', 'Work', 'Oreder Brand', 'Product', 'Department',\n",
       "       'Bar For Salad', 'Florist', 'Coffee Bar', 'Ready Food', 'Video Store',\n",
       "       'Gross Weight', 'Net Weight', 'Package Weight',\n",
       "       'Min. Person Yearly Income'],\n",
       "      dtype='object')"
      ]
     },
     "execution_count": 9,
     "metadata": {},
     "output_type": "execute_result"
    }
   ],
   "source": [
    "df.columns"
   ]
  },
  {
   "cell_type": "code",
   "execution_count": 3,
   "id": "ffc21627",
   "metadata": {},
   "outputs": [],
   "source": [
    "target = \"Cost\"\n",
    "X = df.drop(columns=target)\n",
    "y = df[target]"
   ]
  },
  {
   "cell_type": "code",
   "execution_count": 4,
   "id": "1414b816",
   "metadata": {},
   "outputs": [],
   "source": [
    "X_train, X_test, y_train, y_test = train_test_split(X, y, test_size=0.2, random_state=42)"
   ]
  },
  {
   "cell_type": "code",
   "execution_count": 5,
   "id": "743b94c5",
   "metadata": {},
   "outputs": [],
   "source": [
    "ord_categorical_columns = ['Place Code', 'Promotion Name', 'Store Kind', 'Is Recyclable?',\n",
    "                            'Children', 'Degree', 'Work', 'Oreder Brand',\n",
    "                            'Product', 'Department']\n",
    "\n",
    "hot_categorical_columns = ['Marriage', 'Gender']\n",
    "\n",
    "all_categorical_columns = X.select_dtypes(\"object\").columns\n",
    "\n",
    "numeric_columns = X.select_dtypes(\"float\").columns"
   ]
  },
  {
   "cell_type": "code",
   "execution_count": 6,
   "id": "30bb9249",
   "metadata": {},
   "outputs": [],
   "source": [
    "preprocessor = ColumnTransformer(\n",
    "    transformers=[\n",
    "        ('cat', OrdinalEncoder(), ord_categorical_columns),\n",
    "        ('ohe', OneHotEncoder(), hot_categorical_columns),\n",
    "        ('num', StandardScaler(), numeric_columns)\n",
    "    ]\n",
    ")"
   ]
  },
  {
   "cell_type": "code",
   "execution_count": 7,
   "id": "fed89b9c",
   "metadata": {},
   "outputs": [
    {
     "data": {
      "text/plain": [
       "Pipeline(steps=[('columntransformer',\n",
       "                 ColumnTransformer(transformers=[('cat', OrdinalEncoder(),\n",
       "                                                  ['Place Code',\n",
       "                                                   'Promotion Name',\n",
       "                                                   'Store Kind',\n",
       "                                                   'Is Recyclable?', 'Children',\n",
       "                                                   'Degree', 'Work',\n",
       "                                                   'Oreder Brand', 'Product',\n",
       "                                                   'Department']),\n",
       "                                                 ('ohe', OneHotEncoder(),\n",
       "                                                  ['Marriage', 'Gender']),\n",
       "                                                 ('num', StandardScaler(),\n",
       "                                                  Index(['Store Sales', 'Store Cost', 'Store Area', 'Grocery Area',\n",
       "       'Frozen Area', 'Meat Area', 'Gross Weight', 'Net Weight',\n",
       "       'Package Weight', 'Min. Person Yearly Income'],\n",
       "      dtype='object'))])),\n",
       "                ('decisiontreeregressor',\n",
       "                 DecisionTreeRegressor(max_depth=20, random_state=42))])"
      ]
     },
     "execution_count": 7,
     "metadata": {},
     "output_type": "execute_result"
    }
   ],
   "source": [
    "model = make_pipeline(\n",
    "    preprocessor,\n",
    "    DecisionTreeRegressor(max_depth=20, random_state=42)\n",
    ")\n",
    "model.fit(X_train, y_train)"
   ]
  },
  {
   "cell_type": "code",
   "execution_count": 8,
   "id": "5d2c57da",
   "metadata": {},
   "outputs": [
    {
     "data": {
      "text/plain": [
       "16.24279568376655"
      ]
     },
     "execution_count": 8,
     "metadata": {},
     "output_type": "execute_result"
    }
   ],
   "source": [
    "# Check if the model fitted well or not\n",
    "predictions = model.predict(X_train)\n",
    "\n",
    "mse = mean_squared_error(y_train, predictions)\n",
    "rmse = np.sqrt(mse)\n",
    "rmse"
   ]
  },
  {
   "cell_type": "code",
   "execution_count": 10,
   "id": "7ea2f1fd",
   "metadata": {},
   "outputs": [
    {
     "data": {
      "text/plain": [
       "66.13992962598071"
      ]
     },
     "execution_count": 10,
     "metadata": {},
     "output_type": "execute_result"
    }
   ],
   "source": [
    "predictions = model.predict(X_test)\n",
    "\n",
    "mse = mean_squared_error(y_test, predictions)\n",
    "rmse = np.sqrt(mse)\n",
    "rmse"
   ]
  },
  {
   "cell_type": "code",
   "execution_count": 11,
   "id": "8aeb123a",
   "metadata": {},
   "outputs": [
    {
     "data": {
      "text/plain": [
       "Pipeline(steps=[('columntransformer',\n",
       "                 ColumnTransformer(transformers=[('cat', OrdinalEncoder(),\n",
       "                                                  ['Place Code',\n",
       "                                                   'Promotion Name',\n",
       "                                                   'Store Kind',\n",
       "                                                   'Is Recyclable?', 'Children',\n",
       "                                                   'Degree', 'Work',\n",
       "                                                   'Oreder Brand', 'Product',\n",
       "                                                   'Department']),\n",
       "                                                 ('ohe', OneHotEncoder(),\n",
       "                                                  ['Marriage', 'Gender']),\n",
       "                                                 ('num', StandardScaler(),\n",
       "                                                  Index(['Store Sales', 'Store Cost', 'Store Area', 'Grocery Area',\n",
       "       'Frozen Area', 'Meat Area', 'Gross Weight', 'Net Weight',\n",
       "       'Package Weight', 'Min. Person Yearly Income'],\n",
       "      dtype='object'))])),\n",
       "                ('randomforestregressor',\n",
       "                 RandomForestRegressor(random_state=42))])"
      ]
     },
     "execution_count": 11,
     "metadata": {},
     "output_type": "execute_result"
    }
   ],
   "source": [
    "rfmodel = make_pipeline(\n",
    "    preprocessor,\n",
    "    RandomForestRegressor(n_estimators=100, random_state=42)\n",
    ")\n",
    "rfmodel.fit(X_train, y_train)"
   ]
  },
  {
   "cell_type": "code",
   "execution_count": 12,
   "id": "ddddbe21",
   "metadata": {},
   "outputs": [
    {
     "data": {
      "text/plain": [
       "19.280206350134836"
      ]
     },
     "execution_count": 12,
     "metadata": {},
     "output_type": "execute_result"
    }
   ],
   "source": [
    "# Check if the model fitted well or not\n",
    "predictions = rfmodel.predict(X_train)\n",
    "\n",
    "mse = mean_squared_error(y_train, predictions)\n",
    "rmse = np.sqrt(mse)\n",
    "rmse"
   ]
  },
  {
   "cell_type": "code",
   "execution_count": 13,
   "id": "0a30a1be",
   "metadata": {},
   "outputs": [
    {
     "data": {
      "text/plain": [
       "53.03544924733378"
      ]
     },
     "execution_count": 13,
     "metadata": {},
     "output_type": "execute_result"
    }
   ],
   "source": [
    "predictions = rfmodel.predict(X_test)\n",
    "\n",
    "mse = mean_squared_error(y_test, predictions)\n",
    "rmse = np.sqrt(mse)\n",
    "rmse"
   ]
  },
  {
   "cell_type": "code",
   "execution_count": 14,
   "id": "bc729291",
   "metadata": {},
   "outputs": [
    {
     "name": "stdout",
     "output_type": "stream",
     "text": [
      "Cross-validation RMSE scores: [53.65738053 56.10354203 52.34148074 52.18038972 50.51044931]\n"
     ]
    }
   ],
   "source": [
    "def rmse(y_true, y_pred):\n",
    "    return np.sqrt(np.mean((y_true - y_pred)**2))\n",
    "\n",
    "rmse_scorer = make_scorer(rmse, greater_is_better=False)\n",
    "\n",
    "scores = cross_val_score(rfmodel, X_train, y_train, cv=5, scoring=rmse_scorer)\n",
    "\n",
    "positive_scores = -scores\n",
    "\n",
    "print(\"Cross-validation RMSE scores:\", positive_scores)"
   ]
  },
  {
   "cell_type": "code",
   "execution_count": 15,
   "id": "d7a85d62",
   "metadata": {},
   "outputs": [],
   "source": [
    "preprocessor.fit(X_train)\n",
    "\n",
    "X_train_transformed = preprocessor.transform(X_train)\n",
    "X_test_transformed = preprocessor.transform(X_test)"
   ]
  },
  {
   "cell_type": "markdown",
   "id": "0cd9ff52",
   "metadata": {},
   "source": [
    "## Try Lazypredict"
   ]
  },
  {
   "cell_type": "code",
   "execution_count": 16,
   "id": "542dc7d7",
   "metadata": {},
   "outputs": [
    {
     "name": "stderr",
     "output_type": "stream",
     "text": [
      "  2%|██                                                                                 | 1/41 [00:01<01:18,  1.95s/it]"
     ]
    },
    {
     "name": "stdout",
     "output_type": "stream",
     "text": [
      "{'Model': 'AdaBoostRegressor', 'R-Squared': 0.1229879692040099, 'Adjusted R-Squared': 0.11924272209740783, 'RMSE': 147.04110042057997, 'Time taken': 1.9538815021514893}\n"
     ]
    },
    {
     "name": "stderr",
     "output_type": "stream",
     "text": [
      "  5%|████                                                                               | 2/41 [00:09<03:21,  5.16s/it]"
     ]
    },
    {
     "name": "stdout",
     "output_type": "stream",
     "text": [
      "{'Model': 'BaggingRegressor', 'R-Squared': 0.8722005560563311, 'Adjusted R-Squared': 0.8716547933063937, 'RMSE': 56.130699031326074, 'Time taken': 7.39117169380188}\n"
     ]
    },
    {
     "name": "stderr",
     "output_type": "stream",
     "text": [
      "  7%|██████                                                                             | 3/41 [00:09<01:53,  2.99s/it]"
     ]
    },
    {
     "name": "stdout",
     "output_type": "stream",
     "text": [
      "{'Model': 'BayesianRidge', 'R-Squared': 0.016696374049479545, 'Adjusted R-Squared': 0.012497212657520018, 'RMSE': 155.69683667700198, 'Time taken': 0.40448904037475586}\n"
     ]
    },
    {
     "name": "stderr",
     "output_type": "stream",
     "text": [
      " 12%|██████████                                                                         | 5/41 [00:11<00:54,  1.51s/it]"
     ]
    },
    {
     "name": "stdout",
     "output_type": "stream",
     "text": [
      "{'Model': 'DecisionTreeRegressor', 'R-Squared': 0.8071444327947982, 'Adjusted R-Squared': 0.8063208503013952, 'RMSE': 68.95282418809465, 'Time taken': 1.2073006629943848}\n",
      "{'Model': 'DummyRegressor', 'R-Squared': -3.504148029964682e-06, 'Adjusted R-Squared': -0.004273981745815281, 'RMSE': 157.01340419741697, 'Time taken': 0.12865519523620605}\n"
     ]
    },
    {
     "name": "stderr",
     "output_type": "stream",
     "text": [
      " 15%|████████████▏                                                                      | 6/41 [00:11<00:37,  1.06s/it]"
     ]
    },
    {
     "name": "stdout",
     "output_type": "stream",
     "text": [
      "{'Model': 'ElasticNet', 'R-Squared': 0.01438935405967523, 'Adjusted R-Squared': 0.010180340625054574, 'RMSE': 155.87937707768427, 'Time taken': 0.20059704780578613}\n"
     ]
    },
    {
     "name": "stderr",
     "output_type": "stream",
     "text": [
      " 17%|██████████████▏                                                                    | 7/41 [00:13<00:43,  1.29s/it]"
     ]
    },
    {
     "name": "stdout",
     "output_type": "stream",
     "text": [
      "{'Model': 'ElasticNetCV', 'R-Squared': 0.016740751681517674, 'Adjusted R-Squared': 0.012541779802577535, 'RMSE': 155.69332324803412, 'Time taken': 1.7603068351745605}\n"
     ]
    },
    {
     "name": "stderr",
     "output_type": "stream",
     "text": [
      " 20%|████████████████▏                                                                  | 8/41 [00:13<00:34,  1.04s/it]"
     ]
    },
    {
     "name": "stdout",
     "output_type": "stream",
     "text": [
      "{'Model': 'ExtraTreeRegressor', 'R-Squared': 0.7436033515424032, 'Adjusted R-Squared': 0.7425084192358227, 'RMSE': 79.50457871545507, 'Time taken': 0.5083816051483154}\n"
     ]
    },
    {
     "name": "stderr",
     "output_type": "stream",
     "text": [
      " 22%|██████████████████▏                                                                | 9/41 [00:44<05:34, 10.45s/it]"
     ]
    },
    {
     "name": "stdout",
     "output_type": "stream",
     "text": [
      "{'Model': 'ExtraTreesRegressor', 'R-Squared': 0.8952187312382067, 'Adjusted R-Squared': 0.8947712667452739, 'RMSE': 50.8250477268684, 'Time taken': 31.140395641326904}\n"
     ]
    },
    {
     "name": "stderr",
     "output_type": "stream",
     "text": [
      " 24%|████████████████████                                                              | 10/41 [00:45<03:46,  7.31s/it]"
     ]
    },
    {
     "name": "stdout",
     "output_type": "stream",
     "text": [
      "{'Model': 'GammaRegressor', 'R-Squared': 0.012413960599017226, 'Adjusted R-Squared': 0.008196511320436528, 'RMSE': 156.03550818807867, 'Time taken': 0.28238964080810547}\n"
     ]
    },
    {
     "name": "stderr",
     "output_type": "stream",
     "text": [
      " 27%|█████████████████████▏                                                         | 11/41 [10:12<1:29:20, 178.70s/it]"
     ]
    },
    {
     "name": "stdout",
     "output_type": "stream",
     "text": [
      "{'Model': 'GaussianProcessRegressor', 'R-Squared': -5.9800688849087935, 'Adjusted R-Squared': -6.009877008260718, 'RMSE': 414.82586074184235, 'Time taken': 567.2829926013947}\n"
     ]
    },
    {
     "name": "stderr",
     "output_type": "stream",
     "text": [
      " 29%|███████████████████████                                                        | 12/41 [10:34<1:03:25, 131.22s/it]"
     ]
    },
    {
     "name": "stdout",
     "output_type": "stream",
     "text": [
      "{'Model': 'GradientBoostingRegressor', 'R-Squared': 0.4747478194542283, 'Adjusted R-Squared': 0.4725047496440684, 'RMSE': 113.79414071212821, 'Time taken': 22.612470388412476}\n"
     ]
    },
    {
     "name": "stderr",
     "output_type": "stream",
     "text": [
      " 32%|██████████████████████████                                                        | 13/41 [10:41<43:36, 93.45s/it]"
     ]
    },
    {
     "name": "stdout",
     "output_type": "stream",
     "text": [
      "{'Model': 'HistGradientBoostingRegressor', 'R-Squared': 0.8243723247407336, 'Adjusted R-Squared': 0.8236223133161389, 'RMSE': 65.8009926167201, 'Time taken': 6.543072462081909}\n"
     ]
    },
    {
     "name": "stderr",
     "output_type": "stream",
     "text": [
      " 34%|████████████████████████████                                                      | 14/41 [10:42<29:29, 65.52s/it]"
     ]
    },
    {
     "name": "stdout",
     "output_type": "stream",
     "text": [
      "{'Model': 'HuberRegressor', 'R-Squared': 0.014051531776593795, 'Adjusted R-Squared': 0.009841075684536515, 'RMSE': 155.9060889520537, 'Time taken': 0.9933726787567139}\n"
     ]
    },
    {
     "name": "stderr",
     "output_type": "stream",
     "text": [
      " 37%|██████████████████████████████                                                    | 15/41 [10:51<20:59, 48.44s/it]"
     ]
    },
    {
     "name": "stdout",
     "output_type": "stream",
     "text": [
      "{'Model': 'KNeighborsRegressor', 'R-Squared': -0.03713842973321135, 'Adjusted R-Squared': -0.041567490643104055, 'RMSE': 159.9021606324316, 'Time taken': 8.837711095809937}\n"
     ]
    },
    {
     "name": "stderr",
     "output_type": "stream",
     "text": [
      " 39%|███████████████████████████████▌                                                 | 16/41 [14:46<43:39, 104.77s/it]"
     ]
    },
    {
     "name": "stdout",
     "output_type": "stream",
     "text": [
      "{'Model': 'KernelRidge', 'R-Squared': -10.95020055635004, 'Adjusted R-Squared': -11.001233441288191, 'RMSE': 542.7796612977268, 'Time taken': 235.5947666168213}\n",
      "{'Model': 'Lars', 'R-Squared': 0.016506461702418318, 'Adjusted R-Squared': 0.012306489296877055, 'RMSE': 155.7118713638147, 'Time taken': 0.21408700942993164}\n"
     ]
    },
    {
     "name": "stderr",
     "output_type": "stream",
     "text": [
      " 44%|████████████████████████████████████                                              | 18/41 [14:47<19:45, 51.53s/it]"
     ]
    },
    {
     "name": "stdout",
     "output_type": "stream",
     "text": [
      "{'Model': 'LarsCV', 'R-Squared': 0.01699069899152994, 'Adjusted R-Squared': 0.012792794503237559, 'RMSE': 155.67353314649284, 'Time taken': 0.7789764404296875}\n"
     ]
    },
    {
     "name": "stderr",
     "output_type": "stream",
     "text": [
      " 46%|██████████████████████████████████████                                            | 19/41 [14:48<13:14, 36.13s/it]"
     ]
    },
    {
     "name": "stdout",
     "output_type": "stream",
     "text": [
      "{'Model': 'Lasso', 'R-Squared': 0.016594826256287054, 'Adjusted R-Squared': 0.012395231208271129, 'RMSE': 155.70487603614566, 'Time taken': 0.2490708827972412}\n"
     ]
    },
    {
     "name": "stderr",
     "output_type": "stream",
     "text": [
      " 49%|████████████████████████████████████████                                          | 20/41 [14:49<09:01, 25.81s/it]"
     ]
    },
    {
     "name": "stdout",
     "output_type": "stream",
     "text": [
      "{'Model': 'LassoCV', 'R-Squared': 0.017012684028474556, 'Adjusted R-Squared': 0.012814873426460927, 'RMSE': 155.6717923147885, 'Time taken': 1.746098279953003}\n"
     ]
    },
    {
     "name": "stderr",
     "output_type": "stream",
     "text": [
      " 51%|██████████████████████████████████████████                                        | 21/41 [14:50<06:02, 18.13s/it]"
     ]
    },
    {
     "name": "stdout",
     "output_type": "stream",
     "text": [
      "{'Model': 'LassoLars', 'R-Squared': -3.504148029964682e-06, 'Adjusted R-Squared': -0.004273981745815281, 'RMSE': 157.01340419741697, 'Time taken': 0.23388361930847168}\n"
     ]
    },
    {
     "name": "stderr",
     "output_type": "stream",
     "text": [
      " 54%|████████████████████████████████████████████                                      | 22/41 [14:50<04:05, 12.95s/it]"
     ]
    },
    {
     "name": "stdout",
     "output_type": "stream",
     "text": [
      "{'Model': 'LassoLarsCV', 'R-Squared': 0.016950951023656402, 'Adjusted R-Squared': 0.012752876793152401, 'RMSE': 155.67668044328812, 'Time taken': 0.8482048511505127}\n"
     ]
    },
    {
     "name": "stderr",
     "output_type": "stream",
     "text": [
      " 56%|██████████████████████████████████████████████                                    | 23/41 [14:51<02:44,  9.15s/it]"
     ]
    },
    {
     "name": "stdout",
     "output_type": "stream",
     "text": [
      "{'Model': 'LassoLarsIC', 'R-Squared': 0.01714137829930784, 'Adjusted R-Squared': 0.012944117281368905, 'RMSE': 155.6616015812756, 'Time taken': 0.28336143493652344}\n"
     ]
    },
    {
     "name": "stderr",
     "output_type": "stream",
     "text": [
      " 59%|████████████████████████████████████████████████                                  | 24/41 [14:51<01:50,  6.48s/it]"
     ]
    },
    {
     "name": "stdout",
     "output_type": "stream",
     "text": [
      "{'Model': 'LinearRegression', 'R-Squared': 0.016506461702418096, 'Adjusted R-Squared': 0.012306489296876832, 'RMSE': 155.7118713638147, 'Time taken': 0.2522721290588379}\n"
     ]
    },
    {
     "name": "stderr",
     "output_type": "stream",
     "text": [
      " 61%|██████████████████████████████████████████████████                                | 25/41 [14:51<01:14,  4.63s/it]"
     ]
    },
    {
     "name": "stdout",
     "output_type": "stream",
     "text": [
      "{'Model': 'LinearSVR', 'R-Squared': 0.010171962685455394, 'Adjusted R-Squared': 0.005944939038560526, 'RMSE': 156.2125221139118, 'Time taken': 0.31273865699768066}\n"
     ]
    },
    {
     "name": "stderr",
     "output_type": "stream",
     "text": [
      " 63%|████████████████████████████████████████████████████                              | 26/41 [16:27<08:01, 32.07s/it]"
     ]
    },
    {
     "name": "stdout",
     "output_type": "stream",
     "text": [
      "{'Model': 'MLPRegressor', 'R-Squared': 0.08731012415470973, 'Adjusted R-Squared': 0.08341251614398248, 'RMSE': 150.0021850004357, 'Time taken': 96.07265114784241}\n"
     ]
    },
    {
     "name": "stderr",
     "output_type": "stream",
     "text": [
      " 66%|██████████████████████████████████████████████████████                            | 27/41 [19:19<17:12, 73.77s/it]"
     ]
    },
    {
     "name": "stdout",
     "output_type": "stream",
     "text": [
      "{'Model': 'NuSVR', 'R-Squared': 0.02547180780149738, 'Adjusted R-Squared': 0.021310121571468166, 'RMSE': 155.00052614784155, 'Time taken': 171.06666731834412}\n",
      "{'Model': 'OrthogonalMatchingPursuit', 'R-Squared': 0.014820330442103402, 'Adjusted R-Squared': 0.010613157476019874, 'RMSE': 155.84529278898992, 'Time taken': 0.16894030570983887}\n"
     ]
    },
    {
     "name": "stderr",
     "output_type": "stream",
     "text": [
      " 71%|██████████████████████████████████████████████████████████                        | 29/41 [19:19<07:16, 36.36s/it]"
     ]
    },
    {
     "name": "stdout",
     "output_type": "stream",
     "text": [
      "{'Model': 'OrthogonalMatchingPursuitCV', 'R-Squared': 0.016798998235654672, 'Adjusted R-Squared': 0.012600275096447455, 'RMSE': 155.68871167997472, 'Time taken': 0.5670478343963623}\n"
     ]
    },
    {
     "name": "stderr",
     "output_type": "stream",
     "text": [
      " 73%|████████████████████████████████████████████████████████████                      | 30/41 [19:20<04:41, 25.55s/it]"
     ]
    },
    {
     "name": "stdout",
     "output_type": "stream",
     "text": [
      "{'Model': 'PassiveAggressiveRegressor', 'R-Squared': -0.06439319981599412, 'Adjusted R-Squared': -0.06893865120310871, 'RMSE': 161.98955573181004, 'Time taken': 0.3503565788269043}\n"
     ]
    },
    {
     "name": "stderr",
     "output_type": "stream",
     "text": [
      " 76%|██████████████████████████████████████████████████████████████                    | 31/41 [19:20<03:00, 18.03s/it]"
     ]
    },
    {
     "name": "stdout",
     "output_type": "stream",
     "text": [
      "{'Model': 'PoissonRegressor', 'R-Squared': 0.016442369775478638, 'Adjusted R-Squared': 0.012242123667758231, 'RMSE': 155.71694496669497, 'Time taken': 0.4661848545074463}\n"
     ]
    },
    {
     "name": "stderr",
     "output_type": "stream",
     "text": [
      " 78%|████████████████████████████████████████████████████████████████                  | 32/41 [19:21<01:56, 12.90s/it]"
     ]
    },
    {
     "name": "stdout",
     "output_type": "stream",
     "text": [
      "{'Model': 'RANSACRegressor', 'R-Squared': -1.3665839682302154, 'Adjusted R-Squared': -1.376690376635469, 'RMSE': 241.5443747451886, 'Time taken': 0.9357280731201172}\n"
     ]
    },
    {
     "name": "stderr",
     "output_type": "stream",
     "text": [
      " 83%|████████████████████████████████████████████████████████████████████              | 34/41 [20:25<02:18, 19.76s/it]"
     ]
    },
    {
     "name": "stdout",
     "output_type": "stream",
     "text": [
      "{'Model': 'RandomForestRegressor', 'R-Squared': 0.8858349484275655, 'Adjusted R-Squared': 0.8853474108407793, 'RMSE': 53.05209727756488, 'Time taken': 63.75239706039429}\n",
      "{'Model': 'Ridge', 'R-Squared': 0.0165068418332045, 'Adjusted R-Squared': 0.012306871050997481, 'RMSE': 155.71184127165878, 'Time taken': 0.1579442024230957}\n"
     ]
    },
    {
     "name": "stderr",
     "output_type": "stream",
     "text": [
      " 85%|██████████████████████████████████████████████████████████████████████            | 35/41 [20:25<01:23, 13.92s/it]"
     ]
    },
    {
     "name": "stdout",
     "output_type": "stream",
     "text": [
      "{'Model': 'RidgeCV', 'R-Squared': 0.016510236875647455, 'Adjusted R-Squared': 0.01231028059184236, 'RMSE': 155.71157251088408, 'Time taken': 0.3004794120788574}\n"
     ]
    },
    {
     "name": "stderr",
     "output_type": "stream",
     "text": [
      " 88%|████████████████████████████████████████████████████████████████████████          | 36/41 [20:26<00:49,  9.92s/it]"
     ]
    },
    {
     "name": "stdout",
     "output_type": "stream",
     "text": [
      "{'Model': 'SGDRegressor', 'R-Squared': 0.013561621981421412, 'Adjusted R-Squared': 0.009349073747890069, 'RMSE': 155.9448183769587, 'Time taken': 0.5684065818786621}\n"
     ]
    },
    {
     "name": "stderr",
     "output_type": "stream",
     "text": [
      " 93%|████████████████████████████████████████████████████████████████████████████      | 38/41 [23:23<02:06, 42.11s/it]"
     ]
    },
    {
     "name": "stdout",
     "output_type": "stream",
     "text": [
      "{'Model': 'SVR', 'R-Squared': 0.03079171715819351, 'Adjusted R-Squared': 0.02665274940228546, 'RMSE': 154.57687643348802, 'Time taken': 177.1359601020813}\n",
      "{'Model': 'TransformedTargetRegressor', 'R-Squared': 0.016506461702418096, 'Adjusted R-Squared': 0.012306489296876832, 'RMSE': 155.7118713638147, 'Time taken': 0.1798996925354004}\n"
     ]
    },
    {
     "name": "stderr",
     "output_type": "stream",
     "text": [
      " 95%|██████████████████████████████████████████████████████████████████████████████    | 39/41 [23:23<00:59, 29.55s/it]"
     ]
    },
    {
     "name": "stdout",
     "output_type": "stream",
     "text": [
      "{'Model': 'TweedieRegressor', 'R-Squared': 0.012382814440567103, 'Adjusted R-Squared': 0.008165232153480528, 'RMSE': 156.03796866653374, 'Time taken': 0.23825287818908691}\n"
     ]
    },
    {
     "name": "stderr",
     "output_type": "stream",
     "text": [
      " 98%|████████████████████████████████████████████████████████████████████████████████  | 40/41 [23:29<00:22, 22.47s/it]"
     ]
    },
    {
     "name": "stdout",
     "output_type": "stream",
     "text": [
      "{'Model': 'XGBRegressor', 'R-Squared': 0.8527332424729093, 'Adjusted R-Squared': 0.8521043452877402, 'RMSE': 60.25433963077798, 'Time taken': 5.949170827865601}\n",
      "[LightGBM] [Warning] Auto-choosing row-wise multi-threading, the overhead of testing was 0.005732 seconds.\n",
      "You can set `force_row_wise=true` to remove the overhead.\n",
      "And if memory is not enough, you can set `force_col_wise=true`.\n",
      "[LightGBM] [Info] Total Bins 2080\n",
      "[LightGBM] [Info] Number of data points in the train set: 22580, number of used features: 24\n",
      "[LightGBM] [Info] Start training from score 519.389129\n"
     ]
    },
    {
     "name": "stderr",
     "output_type": "stream",
     "text": [
      "100%|██████████████████████████████████████████████████████████████████████████████████| 41/41 [23:31<00:00, 34.43s/it]"
     ]
    },
    {
     "name": "stdout",
     "output_type": "stream",
     "text": [
      "{'Model': 'LGBMRegressor', 'R-Squared': 0.8287743411010376, 'Adjusted R-Squared': 0.8280431283228215, 'RMSE': 64.97112573940814, 'Time taken': 1.879643440246582}\n"
     ]
    },
    {
     "name": "stderr",
     "output_type": "stream",
     "text": [
      "\n"
     ]
    }
   ],
   "source": [
    "reg = LazyRegressor(verbose=1,ignore_warnings=False, custom_metric=None)\n",
    "models,predictions = reg.fit(X_train_transformed, X_test_transformed, y_train, y_test)\n"
   ]
  },
  {
   "cell_type": "code",
   "execution_count": 17,
   "id": "2361b879",
   "metadata": {},
   "outputs": [
    {
     "name": "stdout",
     "output_type": "stream",
     "text": [
      "                               Adjusted R-Squared  R-Squared   RMSE  \\\n",
      "Model                                                                 \n",
      "ExtraTreesRegressor                          0.89       0.90  50.83   \n",
      "RandomForestRegressor                        0.89       0.89  53.05   \n",
      "BaggingRegressor                             0.87       0.87  56.13   \n",
      "XGBRegressor                                 0.85       0.85  60.25   \n",
      "LGBMRegressor                                0.83       0.83  64.97   \n",
      "HistGradientBoostingRegressor                0.82       0.82  65.80   \n",
      "DecisionTreeRegressor                        0.81       0.81  68.95   \n",
      "ExtraTreeRegressor                           0.74       0.74  79.50   \n",
      "GradientBoostingRegressor                    0.47       0.47 113.79   \n",
      "AdaBoostRegressor                            0.12       0.12 147.04   \n",
      "MLPRegressor                                 0.08       0.09 150.00   \n",
      "SVR                                          0.03       0.03 154.58   \n",
      "NuSVR                                        0.02       0.03 155.00   \n",
      "LassoLarsIC                                  0.01       0.02 155.66   \n",
      "LassoCV                                      0.01       0.02 155.67   \n",
      "LarsCV                                       0.01       0.02 155.67   \n",
      "LassoLarsCV                                  0.01       0.02 155.68   \n",
      "OrthogonalMatchingPursuitCV                  0.01       0.02 155.69   \n",
      "ElasticNetCV                                 0.01       0.02 155.69   \n",
      "BayesianRidge                                0.01       0.02 155.70   \n",
      "Lasso                                        0.01       0.02 155.70   \n",
      "RidgeCV                                      0.01       0.02 155.71   \n",
      "Ridge                                        0.01       0.02 155.71   \n",
      "Lars                                         0.01       0.02 155.71   \n",
      "LinearRegression                             0.01       0.02 155.71   \n",
      "TransformedTargetRegressor                   0.01       0.02 155.71   \n",
      "PoissonRegressor                             0.01       0.02 155.72   \n",
      "OrthogonalMatchingPursuit                    0.01       0.01 155.85   \n",
      "ElasticNet                                   0.01       0.01 155.88   \n",
      "HuberRegressor                               0.01       0.01 155.91   \n",
      "SGDRegressor                                 0.01       0.01 155.94   \n",
      "GammaRegressor                               0.01       0.01 156.04   \n",
      "TweedieRegressor                             0.01       0.01 156.04   \n",
      "LinearSVR                                    0.01       0.01 156.21   \n",
      "LassoLars                                   -0.00      -0.00 157.01   \n",
      "DummyRegressor                              -0.00      -0.00 157.01   \n",
      "KNeighborsRegressor                         -0.04      -0.04 159.90   \n",
      "PassiveAggressiveRegressor                  -0.07      -0.06 161.99   \n",
      "RANSACRegressor                             -1.38      -1.37 241.54   \n",
      "GaussianProcessRegressor                    -6.01      -5.98 414.83   \n",
      "KernelRidge                                -11.00     -10.95 542.78   \n",
      "\n",
      "                               Time Taken  \n",
      "Model                                      \n",
      "ExtraTreesRegressor                 31.14  \n",
      "RandomForestRegressor               63.75  \n",
      "BaggingRegressor                     7.39  \n",
      "XGBRegressor                         5.95  \n",
      "LGBMRegressor                        1.88  \n",
      "HistGradientBoostingRegressor        6.54  \n",
      "DecisionTreeRegressor                1.21  \n",
      "ExtraTreeRegressor                   0.51  \n",
      "GradientBoostingRegressor           22.61  \n",
      "AdaBoostRegressor                    1.95  \n",
      "MLPRegressor                        96.07  \n",
      "SVR                                177.14  \n",
      "NuSVR                              171.07  \n",
      "LassoLarsIC                          0.28  \n",
      "LassoCV                              1.75  \n",
      "LarsCV                               0.78  \n",
      "LassoLarsCV                          0.85  \n",
      "OrthogonalMatchingPursuitCV          0.57  \n",
      "ElasticNetCV                         1.76  \n",
      "BayesianRidge                        0.40  \n",
      "Lasso                                0.25  \n",
      "RidgeCV                              0.30  \n",
      "Ridge                                0.16  \n",
      "Lars                                 0.21  \n",
      "LinearRegression                     0.25  \n",
      "TransformedTargetRegressor           0.18  \n",
      "PoissonRegressor                     0.47  \n",
      "OrthogonalMatchingPursuit            0.17  \n",
      "ElasticNet                           0.20  \n",
      "HuberRegressor                       0.99  \n",
      "SGDRegressor                         0.57  \n",
      "GammaRegressor                       0.28  \n",
      "TweedieRegressor                     0.24  \n",
      "LinearSVR                            0.31  \n",
      "LassoLars                            0.23  \n",
      "DummyRegressor                       0.13  \n",
      "KNeighborsRegressor                  8.84  \n",
      "PassiveAggressiveRegressor           0.35  \n",
      "RANSACRegressor                      0.94  \n",
      "GaussianProcessRegressor           567.28  \n",
      "KernelRidge                        235.59  \n"
     ]
    }
   ],
   "source": [
    "print(models)"
   ]
  },
  {
   "cell_type": "code",
   "execution_count": 18,
   "id": "f8c20f68",
   "metadata": {},
   "outputs": [],
   "source": [
    "from sklearn.ensemble import ExtraTreesRegressor\n",
    "from sklearn.decomposition import PCA\n",
    "from sklearn.linear_model import LinearRegression\n",
    "from sklearn.metrics import mean_squared_error\n",
    "from sklearn.model_selection import train_test_split\n",
    "from sklearn.preprocessing import StandardScaler"
   ]
  },
  {
   "cell_type": "markdown",
   "id": "6c288f48",
   "metadata": {},
   "source": [
    "# Extra tree regressor"
   ]
  },
  {
   "cell_type": "code",
   "execution_count": 20,
   "id": "663bef5c",
   "metadata": {},
   "outputs": [],
   "source": [
    "# Preprocess the data by removing missing values and scaling the features\n",
    "scaler = StandardScaler()\n",
    "X_train = scaler.fit_transform(X_train_transformed)\n",
    "X_test = scaler.transform(X_test_transformed)"
   ]
  },
  {
   "cell_type": "code",
   "execution_count": 25,
   "id": "fe4441b0",
   "metadata": {},
   "outputs": [],
   "source": [
    "# Apply PCA to reduce the dimensionality of the data\n",
    "pca = PCA(n_components=10)\n",
    "X_train_pca = pca.fit_transform(X_train)\n",
    "X_test_pca = pca.transform(X_test)"
   ]
  },
  {
   "cell_type": "code",
   "execution_count": 26,
   "id": "f459f29e",
   "metadata": {},
   "outputs": [
    {
     "data": {
      "text/plain": [
       "Pipeline(steps=[('extratreesregressor', ExtraTreesRegressor(random_state=42))])"
      ]
     },
     "execution_count": 26,
     "metadata": {},
     "output_type": "execute_result"
    }
   ],
   "source": [
    "\n",
    "# Train an ExtraTreesRegressor model on the reduced dataset\n",
    "exmodel = make_pipeline(ExtraTreesRegressor(random_state=42))\n",
    "exmodel.fit(X_train_pca, y_train)\n"
   ]
  },
  {
   "cell_type": "code",
   "execution_count": 27,
   "id": "58acf9f7",
   "metadata": {},
   "outputs": [
    {
     "data": {
      "text/plain": [
       "7.680054705663122e-13"
      ]
     },
     "execution_count": 27,
     "metadata": {},
     "output_type": "execute_result"
    }
   ],
   "source": [
    "# Check if the model fitted well or not\n",
    "predictions = exmodel.predict(X_train_pca)\n",
    "\n",
    "mse = mean_squared_error(y_train, predictions)\n",
    "rmse = np.sqrt(mse)\n",
    "rmse"
   ]
  },
  {
   "cell_type": "code",
   "execution_count": 28,
   "id": "b6cd2757",
   "metadata": {},
   "outputs": [
    {
     "name": "stdout",
     "output_type": "stream",
     "text": [
      "RMSE: 138.25\n"
     ]
    }
   ],
   "source": [
    "# Evaluate the performance of the model on the testing set\n",
    "y_pred = exmodel.predict(X_test_pca)\n",
    "rmse = mean_squared_error(y_test, y_pred, squared=False)\n",
    "print(f'RMSE: {rmse:.2f}')"
   ]
  },
  {
   "cell_type": "markdown",
   "id": "2bb68489",
   "metadata": {},
   "source": [
    "# LGBMRegressor"
   ]
  },
  {
   "cell_type": "code",
   "execution_count": 35,
   "id": "f53ffa89",
   "metadata": {},
   "outputs": [],
   "source": [
    "# Preprocess the data by removing missing values and scaling the features\n",
    "scaler = StandardScaler()\n",
    "X_train = scaler.fit_transform(X_train)\n",
    "X_test = scaler.transform(X_test)\n"
   ]
  },
  {
   "cell_type": "code",
   "execution_count": 38,
   "id": "0716df7d",
   "metadata": {},
   "outputs": [],
   "source": [
    "# Apply pPCA to reduce the dimensionality of the data\n",
    "ppca = PCA(n_components=10)\n",
    "X_train_ppca = ppca.fit_transform(X_train)\n",
    "X_test_ppca = ppca.transform(X_test)"
   ]
  },
  {
   "cell_type": "code",
   "execution_count": 41,
   "id": "f98efeab",
   "metadata": {},
   "outputs": [],
   "source": [
    "from lightgbm import LGBMRegressor"
   ]
  },
  {
   "cell_type": "code",
   "execution_count": null,
   "id": "c7c7c376",
   "metadata": {},
   "outputs": [],
   "source": [
    "\n",
    "# Train an LGBMRegressor model on the reduced dataset using GridSearchCV for hyperparameter tuning\n",
    "model = make_pipeline(LGBMRegressor())\n",
    "param_grid = {\n",
    "    'lgbmregressor__learning_rate': [0.01, 0.1],\n",
    "    'lgbmregressor__n_estimators': range(50, 501, 50),\n",
    "    'lgbmregressor__num_leaves': [31, 45, 61],\n",
    "    'lgbmregressor__max_depth': [2, 4, 8, 16, 32],\n",
    "}\n",
    "grid_search = GridSearchCV(model, param_grid=param_grid, cv=5,n_jobs=-1,\n",
    "    verbose=1)\n",
    "grid_search.fit(X_train_pca, y_train)\n"
   ]
  },
  {
   "cell_type": "code",
   "execution_count": null,
   "id": "5bbcc9b1",
   "metadata": {},
   "outputs": [],
   "source": [
    "# Evaluate the performance of the model on the testing set\n",
    "y_pred = grid_search.predict(X_test_pca)\n",
    "rmse = mean_squared_error(y_test, y_pred, squared=False)\n",
    "print(f'RMSE: {rmse:.2f}')"
   ]
  },
  {
   "cell_type": "code",
   "execution_count": null,
   "id": "be089d96",
   "metadata": {},
   "outputs": [],
   "source": []
  },
  {
   "cell_type": "markdown",
   "id": "9f0bc755",
   "metadata": {},
   "source": [
    "# XGBRegressor"
   ]
  },
  {
   "cell_type": "code",
   "execution_count": null,
   "id": "5aaa1bb4",
   "metadata": {},
   "outputs": [],
   "source": [
    "# Preprocess the data by removing missing values and scaling the features using StandardScaler\n",
    "scaler = StandardScaler()\n",
    "X_train_transformed = scaler.fit_transform(X_train)\n",
    "X_test_transformed = scaler.transform(X_test)"
   ]
  },
  {
   "cell_type": "code",
   "execution_count": null,
   "id": "ace1ff7e",
   "metadata": {},
   "outputs": [],
   "source": [
    "# Apply PCA to reduce the dimensionality of the data\n",
    "pca = PCA(n_components=10)\n",
    "X_train_pca = pca.fit_transform(X_train_transformed)\n",
    "X_test_pca = pca.transform(X_test_transformed)"
   ]
  },
  {
   "cell_type": "code",
   "execution_count": null,
   "id": "baea699c",
   "metadata": {},
   "outputs": [],
   "source": [
    "model = make_pipeline(preprocessor, XGBRegressor(n_estimators=500, learning_rate=0.1, max_depth=12, min_split_loss=5))\n",
    "model.fit(X_train, y_train)"
   ]
  },
  {
   "cell_type": "code",
   "execution_count": null,
   "id": "9f097492",
   "metadata": {},
   "outputs": [],
   "source": [
    "y_pred = model.predict(X_test)\n",
    "rmse = mean_squared_error(y_test, y_pred, squared=False)\n",
    "print(f'Root Mean Squared Error: {rmse:.2f}')"
   ]
  },
  {
   "cell_type": "code",
   "execution_count": null,
   "id": "9b2d1bc5",
   "metadata": {},
   "outputs": [],
   "source": [
    "param_grid = {\n",
    "    'xgbregressor__learning_rate': [0.01, 0.1],\n",
    "    'xgbregressor__n_estimators': range(50, 501, 50),\n",
    "    'xgbregressor__max_depth': [2, 4, 8, 16, 32],\n",
    "    'xgbregressor__min_split_loss': range(0, 7, 2)\n",
    "    \n",
    "}\n",
    "\n",
    "\n",
    "grid_search = GridSearchCV(\n",
    "    model,\n",
    "    param_grid=param_grid,\n",
    "    cv=5,\n",
    "    n_jobs=-1,\n",
    "    verbose=1\n",
    ")\n",
    "\n",
    "grid_search.fit(X_train_pca, y_train)"
   ]
  },
  {
   "cell_type": "code",
   "execution_count": null,
   "id": "1df86491",
   "metadata": {},
   "outputs": [],
   "source": [
    "y_pred = grid_search.predict(X_test_pca)\n",
    "rmse = mean_squared_error(y_test, y_pred, squared=False)\n",
    "print(f'Root Mean Squared Error: {rmse:.2f}')"
   ]
  },
  {
   "cell_type": "code",
   "execution_count": null,
   "id": "347865bf",
   "metadata": {},
   "outputs": [],
   "source": [
    "print(f'Best hyperparameters: {grid_search.best_params_}')\n"
   ]
  },
  {
   "cell_type": "markdown",
   "id": "9eef2369",
   "metadata": {},
   "source": [
    "# BaggingRegressor"
   ]
  },
  {
   "cell_type": "code",
   "execution_count": null,
   "id": "1d6290b3",
   "metadata": {},
   "outputs": [],
   "source": [
    "# Preprocess the data by removing missing values and scaling the features using StandardScaler\n",
    "scaler = StandardScaler()\n",
    "X_train_transformed = scaler.fit_transform(X_train)\n",
    "X_test_transformed = scaler.transform(X_test)\n",
    "\n",
    "# Apply PCA to reduce the dimensionality of the data\n",
    "pca = PCA(n_components=10)\n",
    "X_train_pca = pca.fit_transform(X_train_transformed)\n",
    "X_test_pca = pca.transform(X_test_transformed)\n",
    "\n",
    "# Train a BaggingRegressor model on the reduced dataset using GridSearchCV for hyperparameter tuning\n",
    "params = {\n",
    "    'n_estimators': range(100, 801, 20),\n",
    "}\n",
    "BAG_RF = GridSearchCV(\n",
    "    BaggingRegressor(random_state=42, n_jobs=-1),\n",
    "    param_grid=params,\n",
    "    cv=3,\n",
    "    n_jobs=-1,\n",
    "    verbose=1\n",
    ")\n",
    "BAG_RF.fit(X_train_pca, y_train)\n"
   ]
  },
  {
   "cell_type": "code",
   "execution_count": null,
   "id": "2488a595",
   "metadata": {},
   "outputs": [],
   "source": [
    "BAG_RF.best_params_\n",
    "BAG = BAG_RF.best_estimator_\n",
    "BAG"
   ]
  },
  {
   "cell_type": "markdown",
   "id": "f5ad7b27",
   "metadata": {},
   "source": [
    "# RandomForestRegressor"
   ]
  },
  {
   "cell_type": "code",
   "execution_count": null,
   "id": "909619ab",
   "metadata": {},
   "outputs": [],
   "source": [
    "scaler = StandardScaler()\n",
    "X_train_transformed = scaler.fit_transform(X_train)\n",
    "X_test_transformed = scaler.transform(X_test)\n",
    "\n",
    "# Apply PCA to reduce the dimensionality of the data\n",
    "pca = PCA(n_components=10)\n",
    "X_train_pca = pca.fit_transform(X_train_transformed)\n",
    "X_test_pca = pca.transform(X_test_transformed)"
   ]
  },
  {
   "cell_type": "code",
   "execution_count": null,
   "id": "af9633e9",
   "metadata": {},
   "outputs": [],
   "source": [
    "\n",
    "params = {\n",
    "    'n_estimators': range(100, 501, 100),\n",
    "    'max_depth': [2, 8, 16, 32, 64],\n",
    "    'min_samples_split': [2,4,6],\n",
    "    'min_samples_leaf': [1,2,3],\n",
    "}\n",
    "GS_RF = GridSearchCV(\n",
    "    RandomForestRegressor(random_state=42, n_jobs=-1),\n",
    "    param_grid=params,\n",
    "    cv=3,\n",
    "    n_jobs=-1,\n",
    "    verbose=1\n",
    ")\n",
    "GS_RF.fit(X_train_pca, y_train)\n",
    "\n",
    "# Evaluate the performance of the model on the testing set\n",
    "y_pred = GS_RF.predict(X_test_pca)\n",
    "rmse = mean_squared_error(y_test, y_pred, squared=False)\n",
    "print(f'RMSE: {rmse:.2f}')"
   ]
  },
  {
   "cell_type": "code",
   "execution_count": null,
   "id": "f96416ba",
   "metadata": {},
   "outputs": [],
   "source": [
    "GS_RF.best_params_"
   ]
  },
  {
   "cell_type": "code",
   "execution_count": null,
   "id": "4d1b47da",
   "metadata": {},
   "outputs": [],
   "source": [
    "RF = GS_RF.best_estimator_\n",
    "RF"
   ]
  },
  {
   "cell_type": "markdown",
   "id": "f7066c75",
   "metadata": {},
   "source": [
    "# STacking"
   ]
  },
  {
   "cell_type": "code",
   "execution_count": null,
   "id": "c6b7f319",
   "metadata": {},
   "outputs": [],
   "source": [
    "from sklearn.ensemble import StackingRegressor, VotingRegressor\n",
    "from xgboost import XGBRegressor\n",
    "from lightgbm import LGBMRegressor\n"
   ]
  },
  {
   "cell_type": "code",
   "execution_count": null,
   "id": "e2493c59",
   "metadata": {},
   "outputs": [],
   "source": [
    "# Define the pipelines for each model\n",
    "rf = make_pipeline(\n",
    "    preprocessor,\n",
    "    RandomForestRegressor(n_estimators=512, max_depth=16, n_jobs=-1, random_state=42)\n",
    ")\n",
    "\n",
    "et = make_pipeline(\n",
    "    preprocessor,\n",
    "    ExtraTreesRegressor(n_estimators=512, max_depth=16, n_jobs=-1, random_state=42)\n",
    ")\n",
    "\n",
    "bag = make_pipeline(\n",
    "    preprocessor,\n",
    "    BaggingRegressor(n_estimators=75, n_jobs=-1, random_state=42)\n",
    ")\n",
    "\n",
    "xgb = make_pipeline(\n",
    "    preprocessor,\n",
    "    XGBRegressor(n_estimators=1000, learning_rate=0.05, max_depth=8, random_state=42)\n",
    ")\n",
    "\n",
    "lgbm = make_pipeline(\n",
    "    preprocessor,\n",
    "    LGBMRegressor(n_estimators=1000, learning_rate=0.05, max_depth=8, random_state=42)\n",
    ")"
   ]
  },
  {
   "cell_type": "code",
   "execution_count": null,
   "id": "f3b654a5",
   "metadata": {},
   "outputs": [],
   "source": [
    "# Define the estimators for the ensemble models\n",
    "estimators_pca = [\n",
    "              ('rf', rf),\n",
    "              ('et', et),\n",
    "              ('bag', bag),\n",
    "              ('xgb', xgb),\n",
    "              ('lgbm', lgbm)\n",
    "             ]\n",
    "\n",
    "# Create the stacking model\n",
    "stack_model_pca = StackingRegressor(estimators=estimators_pca, final_estimator=RandomForestRegressor(random_state=42)) # Train the stacking model with PCA\n",
    "stack_model_pca.fit(X_train_transformed, y_train)\n"
   ]
  },
  {
   "cell_type": "code",
   "execution_count": null,
   "id": "c29aa88f",
   "metadata": {},
   "outputs": [],
   "source": [
    "# Check if the model fitted well or not with PCA\n",
    "predictions_pca = stack_model_pca.predict(X_train_transformed)\n",
    "mse_pca = mean_squared_error(y_train, predictions_pca)\n",
    "rmse_pca = np.sqrt(mse_pca)\n",
    "print(f'Training Root Mean Squared Error with PCA: {rmse_pca:.2f}')"
   ]
  },
  {
   "cell_type": "code",
   "execution_count": null,
   "id": "a5610254",
   "metadata": {},
   "outputs": [],
   "source": [
    "\n",
    "predictions_pca = stack_model_pca.predict(X_test_transformed)\n",
    "mse_pca = mean_squared_error(y_test, predictions_pca)\n",
    "rmse_pca = np.sqrt(mse_pca)\n",
    "print(f'Testing Root Mean Squared Error with PCA: {rmse_pca:.2f}')\n",
    "\n"
   ]
  },
  {
   "cell_type": "code",
   "execution_count": null,
   "id": "ab62b27b",
   "metadata": {},
   "outputs": [],
   "source": [
    "# Create the voting model with PCA\n",
    "voting_model_pca = VotingRegressor(estimators=estimators_pca)\n",
    "\n",
    "voting_model_pca.fit(X_train_transformed, y_train)"
   ]
  },
  {
   "cell_type": "code",
   "execution_count": null,
   "id": "e183dea0",
   "metadata": {},
   "outputs": [],
   "source": [
    "# Check if the model fitted well or not with PCA\n",
    "predictions_pca = voting_model_pca.predict(X_train_transformed)\n",
    "mse_pca = mean_squared_error(y_train, predictions_pca)\n",
    "rmse_pca = np.sqrt(mse_pca)\n",
    "print(f'Training Root Mean Squared Error with PCA: {rmse_pca:.2f}')"
   ]
  },
  {
   "cell_type": "code",
   "execution_count": null,
   "id": "db613d74",
   "metadata": {},
   "outputs": [],
   "source": [
    "predictions_pca = voting_model_pca.predict(X_test_transformed)\n",
    "mse_pca = mean_squared_error(y_test, predictions_pca)\n",
    "rmse_pca = np.sqrt(mse_pca)\n",
    "print(f'Testing Root Mean Squared Error with PCA: {rmse_pca:.2f}')\n"
   ]
  },
  {
   "cell_type": "code",
   "execution_count": null,
   "id": "a91d02af",
   "metadata": {},
   "outputs": [],
   "source": []
  },
  {
   "cell_type": "code",
   "execution_count": null,
   "id": "5e90b0a4",
   "metadata": {},
   "outputs": [],
   "source": []
  },
  {
   "cell_type": "code",
   "execution_count": null,
   "id": "57b982e2",
   "metadata": {},
   "outputs": [],
   "source": []
  },
  {
   "cell_type": "markdown",
   "id": "9e3877de",
   "metadata": {},
   "source": [
    "## Extract submissions"
   ]
  },
  {
   "cell_type": "code",
   "execution_count": null,
   "id": "8b291afc",
   "metadata": {},
   "outputs": [],
   "source": [
    "samples = pd.read_csv('data/sample_submission.csv')\n",
    "samples.head()"
   ]
  },
  {
   "cell_type": "code",
   "execution_count": null,
   "id": "47086017",
   "metadata": {},
   "outputs": [],
   "source": [
    "test = pd.read_csv(\"data/cleaned_test.csv\")\n",
    "test.head()"
   ]
  },
  {
   "cell_type": "code",
   "execution_count": null,
   "id": "a9e62c7e",
   "metadata": {},
   "outputs": [],
   "source": [
    "test.isna().sum()"
   ]
  },
  {
   "cell_type": "code",
   "execution_count": null,
   "id": "c504c264",
   "metadata": {},
   "outputs": [],
   "source": [
    "y_sub_pred = exmodel.predict(test)"
   ]
  },
  {
   "cell_type": "code",
   "execution_count": null,
   "id": "ddd74515",
   "metadata": {},
   "outputs": [],
   "source": [
    "samples[\"Cost\"] = y_sub_pred"
   ]
  },
  {
   "cell_type": "code",
   "execution_count": null,
   "id": "c218e8d6",
   "metadata": {},
   "outputs": [],
   "source": [
    "samples.to_csv(\"data/submission.csv\", index=False)"
   ]
  },
  {
   "cell_type": "code",
   "execution_count": null,
   "id": "a3605273",
   "metadata": {},
   "outputs": [],
   "source": []
  }
 ],
 "metadata": {
  "kernelspec": {
   "display_name": "Python 3 (ipykernel)",
   "language": "python",
   "name": "python3"
  },
  "language_info": {
   "codemirror_mode": {
    "name": "ipython",
    "version": 3
   },
   "file_extension": ".py",
   "mimetype": "text/x-python",
   "name": "python",
   "nbconvert_exporter": "python",
   "pygments_lexer": "ipython3",
   "version": "3.9.7"
  }
 },
 "nbformat": 4,
 "nbformat_minor": 5
}
