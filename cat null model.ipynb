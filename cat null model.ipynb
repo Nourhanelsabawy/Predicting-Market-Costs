{
 "cells": [
  {
   "cell_type": "code",
   "execution_count": 1,
   "id": "27123330",
   "metadata": {},
   "outputs": [],
   "source": [
    "import pandas as pd\n",
    "from sklearn.model_selection import train_test_split\n",
    "from sklearn.ensemble import RandomForestClassifier, ExtraTreesClassifier\n",
    "from sklearn.preprocessing import OrdinalEncoder, StandardScaler, OneHotEncoder, LabelEncoder\n",
    "from lazypredict.Supervised import LazyClassifier\n",
    "from sklearn.compose import ColumnTransformer\n",
    "from sklearn.pipeline import make_pipeline\n",
    "\n",
    "from catboost import CatBoostClassifier\n",
    "\n",
    "import pre_processing_funcs as pre"
   ]
  },
  {
   "cell_type": "code",
   "execution_count": 2,
   "id": "14c9c6c4",
   "metadata": {},
   "outputs": [
    {
     "name": "stdout",
     "output_type": "stream",
     "text": [
      "<class 'pandas.core.frame.DataFrame'>\n",
      "RangeIndex: 38862 entries, 0 to 38861\n",
      "Data columns (total 29 columns):\n",
      " #   Column                     Non-Null Count  Dtype  \n",
      "---  ------                     --------------  -----  \n",
      " 0   Promotion Name             33034 non-null  object \n",
      " 1   Store Kind                 33053 non-null  object \n",
      " 2   Store Sales                38847 non-null  float64\n",
      " 3   Store Cost                 38855 non-null  float64\n",
      " 4   Is Recyclable?             38862 non-null  bool   \n",
      " 5   Store Area                 35296 non-null  float64\n",
      " 6   Grocery Area               35255 non-null  float64\n",
      " 7   Frozen Area                35309 non-null  float64\n",
      " 8   Meat Area                  35313 non-null  float64\n",
      " 9   Cost                       38831 non-null  float64\n",
      " 10  Marriage                   38862 non-null  object \n",
      " 11  Gender                     38862 non-null  object \n",
      " 12  Children                   38862 non-null  int64  \n",
      " 13  Degree                     38862 non-null  object \n",
      " 14  Work                       38862 non-null  object \n",
      " 15  Store Code                 38862 non-null  object \n",
      " 16  Country ISO2               38862 non-null  object \n",
      " 17  Order Brand                38860 non-null  object \n",
      " 18  Order                      38860 non-null  object \n",
      " 19  Department                 38860 non-null  object \n",
      " 20  Video Store                38862 non-null  int64  \n",
      " 21  Florist                    38862 non-null  int64  \n",
      " 22  Bar For Salad              38862 non-null  int64  \n",
      " 23  Coffee Bar                 38862 non-null  int64  \n",
      " 24  Ready Food                 38862 non-null  int64  \n",
      " 25  Gross Weight               35945 non-null  float64\n",
      " 26  Net Weight                 35969 non-null  float64\n",
      " 27  Package Weight             33496 non-null  float64\n",
      " 28  Min. Person Yearly Income  38854 non-null  float64\n",
      "dtypes: bool(1), float64(11), int64(6), object(11)\n",
      "memory usage: 8.3+ MB\n"
     ]
    }
   ],
   "source": [
    "df = pd.read_csv('data/half_cleaned.csv')\n",
    "df.info()"
   ]
  },
  {
   "cell_type": "code",
   "execution_count": 3,
   "id": "16cd6e5d",
   "metadata": {},
   "outputs": [],
   "source": [
    "cols_to_drop = []\n",
    "\n",
    "# Amenities Score\n",
    "df['Amenities Score'] = (\n",
    "    df['Coffee Bar'].astype(int) + \n",
    "    df['Video Store'].astype(int) + \n",
    "    df['Bar For Salad'].astype(int) + \n",
    "    df['Florist'].astype(int) +\n",
    "    df['Ready Food'].astype(int)\n",
    ")\n",
    "cols_to_drop+=[\"Bar For Salad\", \"Ready Food\", \"Florist\", \"Coffee Bar\", \"Video Store\"]\n",
    "\n",
    "df.drop(columns=cols_to_drop,inplace=True)"
   ]
  },
  {
   "cell_type": "code",
   "execution_count": 4,
   "id": "616a3bc3",
   "metadata": {},
   "outputs": [
    {
     "name": "stdout",
     "output_type": "stream",
     "text": [
      "<class 'pandas.core.frame.DataFrame'>\n",
      "RangeIndex: 38862 entries, 0 to 38861\n",
      "Data columns (total 25 columns):\n",
      " #   Column                     Non-Null Count  Dtype  \n",
      "---  ------                     --------------  -----  \n",
      " 0   Promotion Name             33034 non-null  object \n",
      " 1   Store Kind                 33053 non-null  object \n",
      " 2   Store Sales                38862 non-null  float64\n",
      " 3   Store Cost                 38862 non-null  float64\n",
      " 4   Is Recyclable?             38862 non-null  bool   \n",
      " 5   Store Area                 38862 non-null  float64\n",
      " 6   Grocery Area               38862 non-null  float64\n",
      " 7   Frozen Area                38862 non-null  float64\n",
      " 8   Meat Area                  38862 non-null  float64\n",
      " 9   Cost                       38862 non-null  float64\n",
      " 10  Marriage                   38862 non-null  object \n",
      " 11  Gender                     38862 non-null  object \n",
      " 12  Children                   38862 non-null  int64  \n",
      " 13  Degree                     38862 non-null  object \n",
      " 14  Work                       38862 non-null  object \n",
      " 15  Store Code                 38862 non-null  object \n",
      " 16  Country ISO2               38862 non-null  object \n",
      " 17  Order Brand                38860 non-null  object \n",
      " 18  Order                      38860 non-null  object \n",
      " 19  Department                 38860 non-null  object \n",
      " 20  Gross Weight               38862 non-null  float64\n",
      " 21  Net Weight                 38862 non-null  float64\n",
      " 22  Package Weight             38862 non-null  float64\n",
      " 23  Min. Person Yearly Income  38862 non-null  float64\n",
      " 24  Amenities Score            38862 non-null  int32  \n",
      "dtypes: bool(1), float64(11), int32(1), int64(1), object(11)\n",
      "memory usage: 7.0+ MB\n"
     ]
    }
   ],
   "source": [
    "df = pre.fill_nulls(df)\n",
    "df.info()"
   ]
  },
  {
   "cell_type": "markdown",
   "id": "c26a8107",
   "metadata": {},
   "source": [
    "## Split"
   ]
  },
  {
   "cell_type": "code",
   "execution_count": 16,
   "id": "b3989107",
   "metadata": {},
   "outputs": [],
   "source": [
    "df[\"Promotion Name\"] = df[\"Promotion Name\"].fillna(\"missing\")\n",
    "pro_test = df[df[\"Promotion Name\"] == \"missing\"].drop(columns=[\"Promotion Name\", \"Cost\"])\n",
    "pro_train = df[df[\"Promotion Name\"] != \"missing\"].drop(columns=[\"Cost\"])"
   ]
  },
  {
   "cell_type": "code",
   "execution_count": 17,
   "id": "17e1e9d5",
   "metadata": {},
   "outputs": [],
   "source": [
    "pro_train.dropna(inplace=True)"
   ]
  },
  {
   "cell_type": "code",
   "execution_count": 5,
   "id": "ac95dda8",
   "metadata": {},
   "outputs": [],
   "source": [
    "df[\"Store Kind\"] = df[\"Store Kind\"].fillna(\"missing\")\n",
    "kind_test = df[df[\"Store Kind\"] == \"missing\"].drop(columns=[\"Promotion Name\", \"Cost\", \"Store Kind\"])\n",
    "kind_train = df[df[\"Store Kind\"] != \"missing\"].drop(columns=[\"Promotion Name\", \"Cost\"])"
   ]
  },
  {
   "cell_type": "code",
   "execution_count": 6,
   "id": "8886c64c",
   "metadata": {},
   "outputs": [],
   "source": [
    "kind_train.dropna(inplace=True)"
   ]
  },
  {
   "cell_type": "markdown",
   "id": "a8b8ef40",
   "metadata": {},
   "source": [
    "## Promotion Name as Target"
   ]
  },
  {
   "cell_type": "code",
   "execution_count": 18,
   "id": "fe9ab464",
   "metadata": {},
   "outputs": [],
   "source": [
    "# Encode categorical features using Label Encoding\n",
    "label_encoders = {}\n",
    "categorical_columns = ['Marriage', 'Gender', 'Degree', 'Work', 'Store Code', 'Country ISO2', 'Order Brand', 'Order', 'Department', 'Store Kind']\n",
    "for column in categorical_columns:\n",
    "    label_encoders[column] = LabelEncoder()\n",
    "    pro_train[column] = label_encoders[column].fit_transform(pro_train[column])\n",
    "    \n",
    "for column in categorical_columns:\n",
    "    label_encoders[column] = LabelEncoder()\n",
    "    pro_test[column] = label_encoders[column].fit_transform(pro_test[column])"
   ]
  },
  {
   "cell_type": "code",
   "execution_count": 19,
   "id": "3f7a4cd9",
   "metadata": {},
   "outputs": [
    {
     "data": {
      "text/html": [
       "<div>\n",
       "<style scoped>\n",
       "    .dataframe tbody tr th:only-of-type {\n",
       "        vertical-align: middle;\n",
       "    }\n",
       "\n",
       "    .dataframe tbody tr th {\n",
       "        vertical-align: top;\n",
       "    }\n",
       "\n",
       "    .dataframe thead th {\n",
       "        text-align: right;\n",
       "    }\n",
       "</style>\n",
       "<table border=\"1\" class=\"dataframe\">\n",
       "  <thead>\n",
       "    <tr style=\"text-align: right;\">\n",
       "      <th></th>\n",
       "      <th>Promotion Name</th>\n",
       "      <th>Store Kind</th>\n",
       "      <th>Store Sales</th>\n",
       "      <th>Store Cost</th>\n",
       "      <th>Is Recyclable?</th>\n",
       "      <th>Store Area</th>\n",
       "      <th>Grocery Area</th>\n",
       "      <th>Frozen Area</th>\n",
       "      <th>Meat Area</th>\n",
       "      <th>Marriage</th>\n",
       "      <th>...</th>\n",
       "      <th>Store Code</th>\n",
       "      <th>Country ISO2</th>\n",
       "      <th>Order Brand</th>\n",
       "      <th>Order</th>\n",
       "      <th>Department</th>\n",
       "      <th>Gross Weight</th>\n",
       "      <th>Net Weight</th>\n",
       "      <th>Package Weight</th>\n",
       "      <th>Min. Person Yearly Income</th>\n",
       "      <th>Amenities Score</th>\n",
       "    </tr>\n",
       "  </thead>\n",
       "  <tbody>\n",
       "    <tr>\n",
       "      <th>0</th>\n",
       "      <td>Dimes Off</td>\n",
       "      <td>0</td>\n",
       "      <td>8760000.00</td>\n",
       "      <td>4292400.00</td>\n",
       "      <td>True</td>\n",
       "      <td>2842.23</td>\n",
       "      <td>2037.64</td>\n",
       "      <td>481.98</td>\n",
       "      <td>323.00</td>\n",
       "      <td>1</td>\n",
       "      <td>...</td>\n",
       "      <td>6</td>\n",
       "      <td>9</td>\n",
       "      <td>88</td>\n",
       "      <td>15</td>\n",
       "      <td>14</td>\n",
       "      <td>28.20</td>\n",
       "      <td>26.60</td>\n",
       "      <td>1.60</td>\n",
       "      <td>10000.00</td>\n",
       "      <td>5</td>\n",
       "    </tr>\n",
       "    <tr>\n",
       "      <th>1</th>\n",
       "      <td>Budget Bargains</td>\n",
       "      <td>4</td>\n",
       "      <td>6360000.00</td>\n",
       "      <td>1971600.00</td>\n",
       "      <td>False</td>\n",
       "      <td>2814.95</td>\n",
       "      <td>2049.72</td>\n",
       "      <td>457.36</td>\n",
       "      <td>305.02</td>\n",
       "      <td>1</td>\n",
       "      <td>...</td>\n",
       "      <td>14</td>\n",
       "      <td>7</td>\n",
       "      <td>77</td>\n",
       "      <td>41</td>\n",
       "      <td>19</td>\n",
       "      <td>16.57</td>\n",
       "      <td>14.97</td>\n",
       "      <td>1.60</td>\n",
       "      <td>50000.00</td>\n",
       "      <td>0</td>\n",
       "    </tr>\n",
       "    <tr>\n",
       "      <th>2</th>\n",
       "      <td>Shelf Emptiers</td>\n",
       "      <td>4</td>\n",
       "      <td>10860000.00</td>\n",
       "      <td>4452600.00</td>\n",
       "      <td>True</td>\n",
       "      <td>2192.32</td>\n",
       "      <td>1322.21</td>\n",
       "      <td>523.32</td>\n",
       "      <td>348.85</td>\n",
       "      <td>0</td>\n",
       "      <td>...</td>\n",
       "      <td>7</td>\n",
       "      <td>1</td>\n",
       "      <td>35</td>\n",
       "      <td>30</td>\n",
       "      <td>16</td>\n",
       "      <td>28.64</td>\n",
       "      <td>27.18</td>\n",
       "      <td>1.45</td>\n",
       "      <td>30000.00</td>\n",
       "      <td>1</td>\n",
       "    </tr>\n",
       "    <tr>\n",
       "      <th>3</th>\n",
       "      <td>Savings Galore</td>\n",
       "      <td>4</td>\n",
       "      <td>1980000.00</td>\n",
       "      <td>673200.00</td>\n",
       "      <td>True</td>\n",
       "      <td>1974.73</td>\n",
       "      <td>1243.14</td>\n",
       "      <td>440.92</td>\n",
       "      <td>293.95</td>\n",
       "      <td>1</td>\n",
       "      <td>...</td>\n",
       "      <td>13</td>\n",
       "      <td>7</td>\n",
       "      <td>19</td>\n",
       "      <td>17</td>\n",
       "      <td>9</td>\n",
       "      <td>14.22</td>\n",
       "      <td>11.29</td>\n",
       "      <td>2.92</td>\n",
       "      <td>30000.00</td>\n",
       "      <td>1</td>\n",
       "    </tr>\n",
       "    <tr>\n",
       "      <th>4</th>\n",
       "      <td>Sale Winners</td>\n",
       "      <td>0</td>\n",
       "      <td>11560000.00</td>\n",
       "      <td>4970800.00</td>\n",
       "      <td>False</td>\n",
       "      <td>2862.30</td>\n",
       "      <td>1872.19</td>\n",
       "      <td>593.93</td>\n",
       "      <td>395.95</td>\n",
       "      <td>0</td>\n",
       "      <td>...</td>\n",
       "      <td>8</td>\n",
       "      <td>8</td>\n",
       "      <td>54</td>\n",
       "      <td>44</td>\n",
       "      <td>17</td>\n",
       "      <td>12.62</td>\n",
       "      <td>9.71</td>\n",
       "      <td>2.91</td>\n",
       "      <td>50000.00</td>\n",
       "      <td>5</td>\n",
       "    </tr>\n",
       "  </tbody>\n",
       "</table>\n",
       "<p>5 rows × 24 columns</p>\n",
       "</div>"
      ],
      "text/plain": [
       "    Promotion Name  Store Kind  Store Sales  Store Cost  Is Recyclable?  \\\n",
       "0        Dimes Off           0   8760000.00  4292400.00            True   \n",
       "1  Budget Bargains           4   6360000.00  1971600.00           False   \n",
       "2   Shelf Emptiers           4  10860000.00  4452600.00            True   \n",
       "3   Savings Galore           4   1980000.00   673200.00            True   \n",
       "4     Sale Winners           0  11560000.00  4970800.00           False   \n",
       "\n",
       "   Store Area  Grocery Area  Frozen Area  Meat Area  Marriage  ...  \\\n",
       "0     2842.23       2037.64       481.98     323.00         1  ...   \n",
       "1     2814.95       2049.72       457.36     305.02         1  ...   \n",
       "2     2192.32       1322.21       523.32     348.85         0  ...   \n",
       "3     1974.73       1243.14       440.92     293.95         1  ...   \n",
       "4     2862.30       1872.19       593.93     395.95         0  ...   \n",
       "\n",
       "   Store Code  Country ISO2  Order Brand  Order  Department  Gross Weight  \\\n",
       "0           6             9           88     15          14         28.20   \n",
       "1          14             7           77     41          19         16.57   \n",
       "2           7             1           35     30          16         28.64   \n",
       "3          13             7           19     17           9         14.22   \n",
       "4           8             8           54     44          17         12.62   \n",
       "\n",
       "   Net Weight  Package Weight  Min. Person Yearly Income  Amenities Score  \n",
       "0       26.60            1.60                   10000.00                5  \n",
       "1       14.97            1.60                   50000.00                0  \n",
       "2       27.18            1.45                   30000.00                1  \n",
       "3       11.29            2.92                   30000.00                1  \n",
       "4        9.71            2.91                   50000.00                5  \n",
       "\n",
       "[5 rows x 24 columns]"
      ]
     },
     "execution_count": 19,
     "metadata": {},
     "output_type": "execute_result"
    }
   ],
   "source": [
    "pro_train.head()"
   ]
  },
  {
   "cell_type": "code",
   "execution_count": 20,
   "id": "a6c88b6d",
   "metadata": {},
   "outputs": [],
   "source": [
    "target = \"Promotion Name\"\n",
    "X = pro_train.drop(columns=target)\n",
    "y = pro_train[target]\n",
    "\n",
    "X_pro_train, X_pro_val, y_pro_train, y_pro_val = train_test_split(X, y, test_size=0.2, random_state=42)"
   ]
  },
  {
   "cell_type": "code",
   "execution_count": 20,
   "id": "c4a38641",
   "metadata": {},
   "outputs": [],
   "source": [
    "ord_categorical_columns = X.select_dtypes(\"object\").columns\n",
    "\n",
    "hot_categorical_columns = ['Marriage', 'Gender', 'Is Recyclable?']\n",
    "\n",
    "numeric_columns = X.select_dtypes(\"float\").columns\n",
    "\n",
    "preprocessor = ColumnTransformer(\n",
    "    transformers=[\n",
    "        ('cat', OrdinalEncoder(), ord_categorical_columns),\n",
    "        ('num', StandardScaler(), numeric_columns)\n",
    "    ]\n",
    ")"
   ]
  },
  {
   "cell_type": "code",
   "execution_count": 24,
   "id": "111d3b51",
   "metadata": {},
   "outputs": [
    {
     "data": {
      "text/plain": [
       "RandomForestClassifier(n_estimators=400, random_state=42)"
      ]
     },
     "execution_count": 24,
     "metadata": {},
     "output_type": "execute_result"
    }
   ],
   "source": [
    "pro_clf = RandomForestClassifier(n_estimators=400, random_state=42)\n",
    "pro_clf.fit(X_pro_train, y_pro_train)"
   ]
  },
  {
   "cell_type": "code",
   "execution_count": 25,
   "id": "3ae7af51",
   "metadata": {},
   "outputs": [
    {
     "data": {
      "text/plain": [
       "0.20962615407900712"
      ]
     },
     "execution_count": 25,
     "metadata": {},
     "output_type": "execute_result"
    }
   ],
   "source": [
    "pro_clf.score(X_pro_val, y_pro_val)"
   ]
  },
  {
   "cell_type": "code",
   "execution_count": 28,
   "id": "83925618",
   "metadata": {},
   "outputs": [
    {
     "data": {
      "text/plain": [
       "ExtraTreesClassifier(n_estimators=400, random_state=42)"
      ]
     },
     "execution_count": 28,
     "metadata": {},
     "output_type": "execute_result"
    }
   ],
   "source": [
    "pro_ext = ExtraTreesClassifier(n_estimators=400, random_state=42)\n",
    "pro_ext.fit(X_pro_train, y_pro_train)"
   ]
  },
  {
   "cell_type": "code",
   "execution_count": 29,
   "id": "252924e9",
   "metadata": {},
   "outputs": [
    {
     "data": {
      "text/plain": [
       "0.26835174814590584"
      ]
     },
     "execution_count": 29,
     "metadata": {},
     "output_type": "execute_result"
    }
   ],
   "source": [
    "pro_ext.score(X_pro_val, y_pro_val)"
   ]
  },
  {
   "cell_type": "code",
   "execution_count": 36,
   "id": "825f3e60",
   "metadata": {},
   "outputs": [
    {
     "data": {
      "text/plain": [
       "array(['One Day Sale', 'You Save Days', 'Dimes Off', ...,\n",
       "       'Lottery Cash Registerion', 'Wallet Savers', 'Weekend Discount'],\n",
       "      dtype=object)"
      ]
     },
     "execution_count": 36,
     "metadata": {},
     "output_type": "execute_result"
    }
   ],
   "source": [
    "y_pro_pred = pro_ext.predict(pro_test)\n",
    "y_pro_pred"
   ]
  },
  {
   "cell_type": "code",
   "execution_count": 37,
   "id": "507fd11c",
   "metadata": {},
   "outputs": [
    {
     "data": {
      "text/plain": [
       "missing                     5828\n",
       "Save Price                  1288\n",
       "Weekend Discount            1279\n",
       "Two Day Sale                1258\n",
       "Price Winners               1157\n",
       "Super Savers                1086\n",
       "Save It (Sale)              1074\n",
       "Super Duper Savers          1066\n",
       "One Day Sale                1010\n",
       "Roller Savings (High)        992\n",
       "Sale : Double Down           970\n",
       "GLD                          966\n",
       "Price Slashers               941\n",
       "Shelf Clearing Days          909\n",
       "Full Free                    892\n",
       "Lottery Cash Registerion     828\n",
       "Go For It                    812\n",
       "Two for One                  803\n",
       "Money Savers                 790\n",
       "Big Time Discounts           771\n",
       "Price Destroyers             739\n",
       "Saving Days                  721\n",
       "Budget Bargains              720\n",
       "Discount Frenzy              667\n",
       "Best Price Savers            652\n",
       "Dimes Off                    636\n",
       "Promo Big                    607\n",
       "You Save Days                605\n",
       "Savings Galore               596\n",
       "Price Cutters                589\n",
       "Sales Days                   586\n",
       "Bag Stuffer                  575\n",
       "Three for One                547\n",
       "I Cant Believe It Sale       530\n",
       "Sale Winners                 507\n",
       "Sale Sale Sale               499\n",
       "Tip Top Savings              494\n",
       "Pick Your Savings            466\n",
       "Shelf Emptiers               456\n",
       "Best Savings                 451\n",
       "Big Time Saving              408\n",
       "Wallet Savers                329\n",
       "Dollar Days                  298\n",
       "Mystery Sale                 283\n",
       "Price Smashers               252\n",
       "Green Light Special          246\n",
       "Coupon Spectacular           210\n",
       "Super Wallet Savers          201\n",
       "Double Your Savings          139\n",
       "Fantastic Discounts          133\n",
       "Name: Promotion Name, dtype: int64"
      ]
     },
     "execution_count": 37,
     "metadata": {},
     "output_type": "execute_result"
    }
   ],
   "source": [
    "df[\"Promotion Name\"].value_counts()"
   ]
  },
  {
   "cell_type": "code",
   "execution_count": 38,
   "id": "17575026",
   "metadata": {},
   "outputs": [],
   "source": [
    "df.loc[df['Promotion Name'] == \"missing\", 'Promotion Name'] = y_pro_pred"
   ]
  },
  {
   "cell_type": "code",
   "execution_count": 39,
   "id": "db22b4d5",
   "metadata": {},
   "outputs": [
    {
     "data": {
      "text/plain": [
       "Weekend Discount            1663\n",
       "Save Price                  1481\n",
       "Two Day Sale                1474\n",
       "Price Winners               1381\n",
       "Super Duper Savers          1308\n",
       "Save It (Sale)              1277\n",
       "Super Savers                1275\n",
       "Roller Savings (High)       1179\n",
       "One Day Sale                1176\n",
       "GLD                         1164\n",
       "Lottery Cash Registerion    1161\n",
       "Sale : Double Down          1112\n",
       "Shelf Clearing Days         1076\n",
       "Price Slashers              1068\n",
       "Full Free                   1050\n",
       "Go For It                    944\n",
       "Two for One                  932\n",
       "Money Savers                 920\n",
       "Big Time Discounts           879\n",
       "Price Destroyers             849\n",
       "Saving Days                  836\n",
       "Budget Bargains              829\n",
       "Best Price Savers            792\n",
       "Dimes Off                    776\n",
       "Discount Frenzy              768\n",
       "You Save Days                708\n",
       "Promo Big                    708\n",
       "Price Cutters                707\n",
       "Sales Days                   704\n",
       "Savings Galore               668\n",
       "Bag Stuffer                  656\n",
       "Three for One                611\n",
       "Sale Winners                 606\n",
       "I Cant Believe It Sale       589\n",
       "Sale Sale Sale               571\n",
       "Tip Top Savings              553\n",
       "Shelf Emptiers               549\n",
       "Best Savings                 515\n",
       "Pick Your Savings            509\n",
       "Big Time Saving              440\n",
       "Wallet Savers                379\n",
       "Dollar Days                  338\n",
       "Mystery Sale                 329\n",
       "Green Light Special          284\n",
       "Price Smashers               280\n",
       "Coupon Spectacular           250\n",
       "Super Wallet Savers          237\n",
       "Double Your Savings          156\n",
       "Fantastic Discounts          145\n",
       "Name: Promotion Name, dtype: int64"
      ]
     },
     "execution_count": 39,
     "metadata": {},
     "output_type": "execute_result"
    }
   ],
   "source": [
    "df[\"Promotion Name\"].value_counts()"
   ]
  },
  {
   "cell_type": "code",
   "execution_count": 40,
   "id": "71faa2da",
   "metadata": {},
   "outputs": [
    {
     "data": {
      "text/plain": [
       "Promotion Name               0\n",
       "Store Kind                   0\n",
       "Store Sales                  0\n",
       "Store Cost                   0\n",
       "Is Recyclable?               0\n",
       "Store Area                   0\n",
       "Grocery Area                 0\n",
       "Frozen Area                  0\n",
       "Meat Area                    0\n",
       "Cost                         0\n",
       "Marriage                     0\n",
       "Gender                       0\n",
       "Children                     0\n",
       "Degree                       0\n",
       "Work                         0\n",
       "Store Code                   0\n",
       "Country ISO2                 0\n",
       "Order Brand                  2\n",
       "Order                        2\n",
       "Department                   2\n",
       "Gross Weight                 0\n",
       "Net Weight                   0\n",
       "Package Weight               0\n",
       "Min. Person Yearly Income    0\n",
       "Amenities Score              0\n",
       "dtype: int64"
      ]
     },
     "execution_count": 40,
     "metadata": {},
     "output_type": "execute_result"
    }
   ],
   "source": [
    "df.isna().sum()"
   ]
  },
  {
   "cell_type": "code",
   "execution_count": null,
   "id": "123de0c7",
   "metadata": {},
   "outputs": [],
   "source": []
  },
  {
   "cell_type": "code",
   "execution_count": null,
   "id": "12a39776",
   "metadata": {},
   "outputs": [
    {
     "name": "stderr",
     "output_type": "stream",
     "text": [
      "  3%|██▊                                                                                | 1/29 [00:10<05:04, 10.89s/it]"
     ]
    },
    {
     "name": "stdout",
     "output_type": "stream",
     "text": [
      "{'Model': 'AdaBoostClassifier', 'Accuracy': 0.06553655214166793, 'Balanced Accuracy': 0.05549800099100037, 'ROC AUC': None, 'F1 Score': 0.02309763285709612, 'Time taken': 10.882581233978271}\n"
     ]
    },
    {
     "name": "stderr",
     "output_type": "stream",
     "text": [
      "\r",
      "  7%|█████▋                                                                             | 2/29 [00:16<03:25,  7.60s/it]"
     ]
    },
    {
     "name": "stdout",
     "output_type": "stream",
     "text": [
      "{'Model': 'BaggingClassifier', 'Accuracy': 0.16936582412592704, 'Balanced Accuracy': 0.1693295875472231, 'ROC AUC': None, 'F1 Score': 0.16513341778943344, 'Time taken': 5.293038606643677}\n"
     ]
    },
    {
     "name": "stderr",
     "output_type": "stream",
     "text": [
      "\r",
      " 10%|████████▌                                                                          | 3/29 [00:16<01:53,  4.38s/it]"
     ]
    },
    {
     "name": "stdout",
     "output_type": "stream",
     "text": [
      "{'Model': 'BernoulliNB', 'Accuracy': 0.11079158468291206, 'Balanced Accuracy': 0.13869676790651464, 'ROC AUC': None, 'F1 Score': 0.05066174699567309, 'Time taken': 0.542926549911499}\n"
     ]
    }
   ],
   "source": [
    "clf = LazyClassifier(verbose=1,ignore_warnings=True, custom_metric=None)\n",
    "models,predictions = clf.fit(X_pro_train, X_pro_val, y_pro_train, y_pro_val)\n",
    "\n",
    "print(models)"
   ]
  },
  {
   "cell_type": "code",
   "execution_count": null,
   "id": "dfcc613e",
   "metadata": {},
   "outputs": [],
   "source": [
    "cat = CatBoostClassifier(\n",
    "    iterations=500,\n",
    "    random_state=42,\n",
    "    loss_function='MultiClass',\n",
    ")\n",
    "cat.fit(\n",
    "    X_pro_train,\n",
    "    y_pro_train,\n",
    "    cat_features=list(X_pro_train.select_dtypes(\"object\").columns),\n",
    "    eval_set=(X_pro_val, y_pro_val),\n",
    "    plot=True\n",
    ")"
   ]
  },
  {
   "cell_type": "markdown",
   "id": "5ed46dbf",
   "metadata": {},
   "source": [
    "## Store Kind as Target"
   ]
  },
  {
   "cell_type": "code",
   "execution_count": 7,
   "id": "67890470",
   "metadata": {},
   "outputs": [],
   "source": [
    "# Encode categorical features using Label Encoding\n",
    "label_encoders = {}\n",
    "categorical_columns = ['Marriage', 'Gender', 'Degree', 'Work', 'Store Code', 'Country ISO2', 'Order Brand', 'Order', 'Department']\n",
    "for column in categorical_columns:\n",
    "    label_encoders[column] = LabelEncoder()\n",
    "    kind_train[column] = label_encoders[column].fit_transform(kind_train[column])\n",
    "    \n",
    "for column in categorical_columns:\n",
    "    label_encoders[column] = LabelEncoder()\n",
    "    kind_test[column] = label_encoders[column].fit_transform(kind_test[column])"
   ]
  },
  {
   "cell_type": "code",
   "execution_count": 8,
   "id": "3bbb5f6d",
   "metadata": {},
   "outputs": [],
   "source": [
    "target = \"Store Kind\"\n",
    "X = kind_train.drop(columns=target)\n",
    "y = kind_train[target]\n",
    "\n",
    "X_kind_train, X_kind_val, y_kind_train, y_kind_val = train_test_split(X, y, test_size=0.2, random_state=42)"
   ]
  },
  {
   "cell_type": "code",
   "execution_count": 9,
   "id": "e38dbd96",
   "metadata": {},
   "outputs": [
    {
     "data": {
      "text/plain": [
       "RandomForestClassifier(random_state=42)"
      ]
     },
     "execution_count": 9,
     "metadata": {},
     "output_type": "execute_result"
    }
   ],
   "source": [
    "kind_clf = RandomForestClassifier(random_state=42)\n",
    "kind_clf.fit(X_kind_train, y_kind_train)"
   ]
  },
  {
   "cell_type": "code",
   "execution_count": 10,
   "id": "fb1c6268",
   "metadata": {},
   "outputs": [
    {
     "data": {
      "text/plain": [
       "0.9998487369535622"
      ]
     },
     "execution_count": 10,
     "metadata": {},
     "output_type": "execute_result"
    }
   ],
   "source": [
    "kind_clf.score(X_kind_val, y_kind_val)"
   ]
  },
  {
   "cell_type": "code",
   "execution_count": 11,
   "id": "7df832f1",
   "metadata": {},
   "outputs": [
    {
     "data": {
      "text/plain": [
       "1.0"
      ]
     },
     "execution_count": 11,
     "metadata": {},
     "output_type": "execute_result"
    }
   ],
   "source": [
    "from sklearn.metrics import accuracy_score\n",
    "accuracy_score(y_kind_train, kind_clf.predict(X_kind_train))"
   ]
  },
  {
   "cell_type": "code",
   "execution_count": 12,
   "id": "71370a1f",
   "metadata": {},
   "outputs": [
    {
     "data": {
      "text/plain": [
       "array(['Supermarket', 'Supermarket', 'Supermarket', ..., 'Small Grocery',\n",
       "       'Deluxe', 'Gourmet'], dtype=object)"
      ]
     },
     "execution_count": 12,
     "metadata": {},
     "output_type": "execute_result"
    }
   ],
   "source": [
    "y_kind_pred = kind_clf.predict(kind_test)\n",
    "y_kind_pred"
   ]
  },
  {
   "cell_type": "code",
   "execution_count": 13,
   "id": "4df1f1cb",
   "metadata": {},
   "outputs": [
    {
     "data": {
      "text/plain": [
       "Supermarket      14315\n",
       "Deluxe           12602\n",
       "missing           5809\n",
       "Gourmet           3554\n",
       "Mid-Size          1497\n",
       "Small Grocery     1085\n",
       "Name: Store Kind, dtype: int64"
      ]
     },
     "execution_count": 13,
     "metadata": {},
     "output_type": "execute_result"
    }
   ],
   "source": [
    "df[\"Store Kind\"].value_counts()"
   ]
  },
  {
   "cell_type": "code",
   "execution_count": 14,
   "id": "a6f2198c",
   "metadata": {},
   "outputs": [],
   "source": [
    "df.loc[df['Store Kind'] == \"missing\", 'Store Kind'] = y_kind_pred"
   ]
  },
  {
   "cell_type": "code",
   "execution_count": 15,
   "id": "76f4ecbd",
   "metadata": {},
   "outputs": [
    {
     "data": {
      "text/plain": [
       "Supermarket      16855\n",
       "Deluxe           14779\n",
       "Gourmet           4190\n",
       "Mid-Size          1785\n",
       "Small Grocery     1253\n",
       "Name: Store Kind, dtype: int64"
      ]
     },
     "execution_count": 15,
     "metadata": {},
     "output_type": "execute_result"
    }
   ],
   "source": [
    "df[\"Store Kind\"].value_counts()"
   ]
  },
  {
   "cell_type": "code",
   "execution_count": 16,
   "id": "c83f999a",
   "metadata": {},
   "outputs": [
    {
     "data": {
      "text/plain": [
       "Promotion Name               5828\n",
       "Store Kind                      0\n",
       "Store Sales                     0\n",
       "Store Cost                      0\n",
       "Is Recyclable?                  0\n",
       "Store Area                      0\n",
       "Grocery Area                    0\n",
       "Frozen Area                     0\n",
       "Meat Area                       0\n",
       "Cost                            0\n",
       "Marriage                        0\n",
       "Gender                          0\n",
       "Children                        0\n",
       "Degree                          0\n",
       "Work                            0\n",
       "Store Code                      0\n",
       "Country ISO2                    0\n",
       "Order Brand                     2\n",
       "Order                           2\n",
       "Department                      2\n",
       "Gross Weight                    0\n",
       "Net Weight                      0\n",
       "Package Weight                  0\n",
       "Min. Person Yearly Income       0\n",
       "Amenities Score                 0\n",
       "dtype: int64"
      ]
     },
     "execution_count": 16,
     "metadata": {},
     "output_type": "execute_result"
    }
   ],
   "source": [
    "df.isna().sum()"
   ]
  },
  {
   "cell_type": "code",
   "execution_count": 41,
   "id": "284b28ef",
   "metadata": {},
   "outputs": [],
   "source": [
    "df.to_csv(\"data/half_test.csv\", index=False)"
   ]
  },
  {
   "cell_type": "code",
   "execution_count": null,
   "id": "43571c32",
   "metadata": {},
   "outputs": [],
   "source": [
    "\n",
    "\n",
    "# Load your dataset\n",
    "# Replace 'your_dataset.csv' with the actual filename of your dataset\n",
    "\n",
    "# Split the data into features (X) and target variables (y)\n",
    "# Fill missing values with a placeholder (e.g., 'Missing') for the target columns\n",
    "X = df.drop(['Promotion Name', 'Store Kind'], axis=1)\n",
    "y_promotion = df['Promotion Name'].fillna('Missing')\n",
    "y_store_kind = df['Store Kind'].fillna('Missing')\n",
    "\n",
    "# Encode categorical features using Label Encoding\n",
    "label_encoders = {}\n",
    "categorical_columns = ['Marriage', 'Gender', 'Degree', 'work', 'Store Code', 'Country ISO2', 'Order Brand', 'Order', 'Department']\n",
    "for column in categorical_columns:\n",
    "    label_encoders[column] = LabelEncoder()\n",
    "    X[column] = label_encoders[column].fit_transform(X[column])\n",
    "\n",
    "# Split the data into train and test sets\n",
    "X_train, X_test, y_promotion_train, y_promotion_test = train_test_split(X, y_promotion, test_size=0.2, random_state=42)\n",
    "X_train, X_test, y_store_kind_train, y_store_kind_test = train_test_split(X, y_store_kind, test_size=0.2, random_state=42)\n",
    "\n",
    "# Train a Random Forest Classifier for Promotion Name\n",
    "promotion_classifier = RandomForestClassifier(n_estimators=100, random_state=42)\n",
    "promotion_classifier.fit(X_train, y_promotion_train)\n",
    "\n",
    "# Train a Random Forest Classifier for Store Kind\n",
    "store_kind_classifier = RandomForestClassifier(n_estimators=100, random_state=42)\n",
    "store_kind_classifier.fit(X_train, y_store_kind_train)\n",
    "\n",
    "# Predict missing values for Promotion Name and Store Kind\n",
    "y_promotion_pred = promotion_classifier.predict(X_test)\n",
    "y_store_kind_pred = store_kind_classifier.predict(X_test)\n",
    "\n",
    "# Fill missing values in the original dataframe\n",
    "df.loc[df['Promotion Name'].isnull(), 'Promotion Name'] = y_promotion_pred\n",
    "df.loc[df['Store Kind'].isnull(), 'Store Kind'] = y_store_kind_pred\n",
    "\n",
    "# Now, df contains the missing values in \"Promotion Name\" and \"Store Kind\" filled with predictions\n",
    "\n",
    "# You can save the filled dataframe to a new CSV file if needed\n",
    "df.to_csv('filled_dataset.csv', index=False)\n"
   ]
  },
  {
   "cell_type": "code",
   "execution_count": null,
   "id": "622f01ae",
   "metadata": {},
   "outputs": [],
   "source": []
  }
 ],
 "metadata": {
  "kernelspec": {
   "display_name": "Python 3 (ipykernel)",
   "language": "python",
   "name": "python3"
  },
  "language_info": {
   "codemirror_mode": {
    "name": "ipython",
    "version": 3
   },
   "file_extension": ".py",
   "mimetype": "text/x-python",
   "name": "python",
   "nbconvert_exporter": "python",
   "pygments_lexer": "ipython3",
   "version": "3.9.12"
  }
 },
 "nbformat": 4,
 "nbformat_minor": 5
}
