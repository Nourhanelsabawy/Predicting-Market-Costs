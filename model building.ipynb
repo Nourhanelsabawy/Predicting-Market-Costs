{
 "cells": [
  {
   "cell_type": "code",
   "execution_count": 1,
   "id": "5879cc50",
   "metadata": {},
   "outputs": [],
   "source": [
    "import optuna\n",
    "\n",
    "import pandas as pd\n",
    "import numpy as np\n",
    "import matplotlib.pyplot as plt\n",
    "import seaborn as sns\n",
    "\n",
    "from lazypredict.Supervised import LazyRegressor\n",
    "\n",
    "from sklearn.preprocessing import OrdinalEncoder, StandardScaler, OneHotEncoder, PowerTransformer, LabelEncoder\n",
    "from sklearn.pipeline import make_pipeline\n",
    "from sklearn.tree import DecisionTreeRegressor\n",
    "from sklearn.model_selection import KFold, train_test_split, cross_val_score, GridSearchCV\n",
    "from sklearn.impute import SimpleImputer\n",
    "from sklearn.compose import ColumnTransformer\n",
    "from sklearn.metrics import make_scorer, mean_squared_error\n",
    "from sklearn.ensemble import ExtraTreesRegressor, RandomForestRegressor, BaggingRegressor\n",
    "from sklearn.ensemble import VotingRegressor, StackingRegressor\n",
    "\n",
    "from xgboost import XGBRegressor\n",
    "from lightgbm import LGBMRegressor\n",
    "\n",
    "from catboost import CatBoostRegressor\n",
    "\n",
    "# local Module\n",
    "import pre_processing_funcs as pre"
   ]
  },
  {
   "cell_type": "code",
   "execution_count": 198,
   "id": "66e4dce8",
   "metadata": {},
   "outputs": [
    {
     "data": {
      "text/html": [
       "<div>\n",
       "<style scoped>\n",
       "    .dataframe tbody tr th:only-of-type {\n",
       "        vertical-align: middle;\n",
       "    }\n",
       "\n",
       "    .dataframe tbody tr th {\n",
       "        vertical-align: top;\n",
       "    }\n",
       "\n",
       "    .dataframe thead th {\n",
       "        text-align: right;\n",
       "    }\n",
       "</style>\n",
       "<table border=\"1\" class=\"dataframe\">\n",
       "  <thead>\n",
       "    <tr style=\"text-align: right;\">\n",
       "      <th></th>\n",
       "      <th>Promotion Name</th>\n",
       "      <th>Store Kind</th>\n",
       "      <th>Store Sales</th>\n",
       "      <th>Store Cost</th>\n",
       "      <th>Is Recyclable?</th>\n",
       "      <th>Store Area</th>\n",
       "      <th>Grocery Area</th>\n",
       "      <th>Frozen Area</th>\n",
       "      <th>Meat Area</th>\n",
       "      <th>Cost</th>\n",
       "      <th>...</th>\n",
       "      <th>Store Code</th>\n",
       "      <th>Country ISO2</th>\n",
       "      <th>Order Brand</th>\n",
       "      <th>Order</th>\n",
       "      <th>Department</th>\n",
       "      <th>Amenities Score</th>\n",
       "      <th>Gross Weight</th>\n",
       "      <th>Net Weight</th>\n",
       "      <th>Package Weight</th>\n",
       "      <th>Min. Person Yearly Income</th>\n",
       "    </tr>\n",
       "  </thead>\n",
       "  <tbody>\n",
       "    <tr>\n",
       "      <th>0</th>\n",
       "      <td>Dimes Off</td>\n",
       "      <td>Deluxe</td>\n",
       "      <td>8760000.00</td>\n",
       "      <td>4292400.00</td>\n",
       "      <td>yes</td>\n",
       "      <td>2842.23</td>\n",
       "      <td>2037.64</td>\n",
       "      <td>481.98</td>\n",
       "      <td>323.00</td>\n",
       "      <td>602.76</td>\n",
       "      <td>...</td>\n",
       "      <td>H11go</td>\n",
       "      <td>ZA</td>\n",
       "      <td>Red Wing</td>\n",
       "      <td>Cleaning Supplies</td>\n",
       "      <td>Household</td>\n",
       "      <td>5</td>\n",
       "      <td>28.20</td>\n",
       "      <td>26.60</td>\n",
       "      <td>1.60</td>\n",
       "      <td>10000.00</td>\n",
       "    </tr>\n",
       "    <tr>\n",
       "      <th>1</th>\n",
       "      <td>Budget Bargains</td>\n",
       "      <td>Supermarket</td>\n",
       "      <td>6360000.00</td>\n",
       "      <td>1971600.00</td>\n",
       "      <td>no</td>\n",
       "      <td>2814.95</td>\n",
       "      <td>2049.72</td>\n",
       "      <td>457.36</td>\n",
       "      <td>304.98</td>\n",
       "      <td>708.66</td>\n",
       "      <td>...</td>\n",
       "      <td>S04ne</td>\n",
       "      <td>WA</td>\n",
       "      <td>Nationeel</td>\n",
       "      <td>Snack Foods</td>\n",
       "      <td>Snack Foods</td>\n",
       "      <td>0</td>\n",
       "      <td>16.57</td>\n",
       "      <td>14.97</td>\n",
       "      <td>1.60</td>\n",
       "      <td>50000.00</td>\n",
       "    </tr>\n",
       "    <tr>\n",
       "      <th>2</th>\n",
       "      <td>Shelf Emptiers</td>\n",
       "      <td>Supermarket</td>\n",
       "      <td>10860000.00</td>\n",
       "      <td>4452600.00</td>\n",
       "      <td>yes</td>\n",
       "      <td>2192.32</td>\n",
       "      <td>1322.21</td>\n",
       "      <td>523.32</td>\n",
       "      <td>348.85</td>\n",
       "      <td>564.26</td>\n",
       "      <td>...</td>\n",
       "      <td>L05es</td>\n",
       "      <td>CA</td>\n",
       "      <td>Excel</td>\n",
       "      <td>Magazines</td>\n",
       "      <td>Periodicals</td>\n",
       "      <td>1</td>\n",
       "      <td>28.64</td>\n",
       "      <td>27.18</td>\n",
       "      <td>1.45</td>\n",
       "      <td>30000.00</td>\n",
       "    </tr>\n",
       "    <tr>\n",
       "      <th>3</th>\n",
       "      <td>Sale Winners</td>\n",
       "      <td>Deluxe</td>\n",
       "      <td>11560000.00</td>\n",
       "      <td>4970800.00</td>\n",
       "      <td>no</td>\n",
       "      <td>2862.30</td>\n",
       "      <td>1872.19</td>\n",
       "      <td>593.93</td>\n",
       "      <td>395.95</td>\n",
       "      <td>519.76</td>\n",
       "      <td>...</td>\n",
       "      <td>M10da</td>\n",
       "      <td>YU</td>\n",
       "      <td>Hermanos</td>\n",
       "      <td>Vegetables</td>\n",
       "      <td>Produce</td>\n",
       "      <td>5</td>\n",
       "      <td>12.62</td>\n",
       "      <td>9.71</td>\n",
       "      <td>2.91</td>\n",
       "      <td>50000.00</td>\n",
       "    </tr>\n",
       "    <tr>\n",
       "      <th>4</th>\n",
       "      <td>Weekend Discount</td>\n",
       "      <td>Supermarket</td>\n",
       "      <td>5220000.00</td>\n",
       "      <td>1618200.00</td>\n",
       "      <td>yes</td>\n",
       "      <td>1970.17</td>\n",
       "      <td>1236.07</td>\n",
       "      <td>440.92</td>\n",
       "      <td>293.95</td>\n",
       "      <td>364.16</td>\n",
       "      <td>...</td>\n",
       "      <td>S03le</td>\n",
       "      <td>WA</td>\n",
       "      <td>Red Wing</td>\n",
       "      <td>Candles</td>\n",
       "      <td>Household</td>\n",
       "      <td>1</td>\n",
       "      <td>15.41</td>\n",
       "      <td>13.95</td>\n",
       "      <td>1.45</td>\n",
       "      <td>30000.00</td>\n",
       "    </tr>\n",
       "  </tbody>\n",
       "</table>\n",
       "<p>5 rows × 26 columns</p>\n",
       "</div>"
      ],
      "text/plain": [
       "     Promotion Name   Store Kind  Store Sales  Store Cost Is Recyclable?  \\\n",
       "0         Dimes Off       Deluxe   8760000.00  4292400.00            yes   \n",
       "1   Budget Bargains  Supermarket   6360000.00  1971600.00             no   \n",
       "2    Shelf Emptiers  Supermarket  10860000.00  4452600.00            yes   \n",
       "3      Sale Winners       Deluxe  11560000.00  4970800.00             no   \n",
       "4  Weekend Discount  Supermarket   5220000.00  1618200.00            yes   \n",
       "\n",
       "   Store Area  Grocery Area  Frozen Area  Meat Area   Cost  ... Store Code  \\\n",
       "0     2842.23       2037.64       481.98     323.00 602.76  ...      H11go   \n",
       "1     2814.95       2049.72       457.36     304.98 708.66  ...      S04ne   \n",
       "2     2192.32       1322.21       523.32     348.85 564.26  ...      L05es   \n",
       "3     2862.30       1872.19       593.93     395.95 519.76  ...      M10da   \n",
       "4     1970.17       1236.07       440.92     293.95 364.16  ...      S03le   \n",
       "\n",
       "  Country ISO2 Order Brand               Order   Department Amenities Score  \\\n",
       "0           ZA    Red Wing  Cleaning Supplies     Household               5   \n",
       "1           WA   Nationeel        Snack Foods   Snack Foods               0   \n",
       "2           CA       Excel          Magazines   Periodicals               1   \n",
       "3           YU    Hermanos         Vegetables       Produce               5   \n",
       "4           WA    Red Wing            Candles     Household               1   \n",
       "\n",
       "  Gross Weight Net Weight Package Weight Min. Person Yearly Income  \n",
       "0        28.20      26.60           1.60                  10000.00  \n",
       "1        16.57      14.97           1.60                  50000.00  \n",
       "2        28.64      27.18           1.45                  30000.00  \n",
       "3        12.62       9.71           2.91                  50000.00  \n",
       "4        15.41      13.95           1.45                  30000.00  \n",
       "\n",
       "[5 rows x 26 columns]"
      ]
     },
     "execution_count": 198,
     "metadata": {},
     "output_type": "execute_result"
    }
   ],
   "source": [
    "df = pd.read_csv(\"data/train_data_cleaned.csv\")\n",
    "df.head()"
   ]
  },
  {
   "cell_type": "code",
   "execution_count": 199,
   "id": "d32976d4",
   "metadata": {},
   "outputs": [
    {
     "name": "stdout",
     "output_type": "stream",
     "text": [
      "<class 'pandas.core.frame.DataFrame'>\n",
      "RangeIndex: 28218 entries, 0 to 28217\n",
      "Data columns (total 26 columns):\n",
      " #   Column                     Non-Null Count  Dtype  \n",
      "---  ------                     --------------  -----  \n",
      " 0   Promotion Name             28218 non-null  object \n",
      " 1   Store Kind                 28218 non-null  object \n",
      " 2   Store Sales                28218 non-null  float64\n",
      " 3   Store Cost                 28218 non-null  float64\n",
      " 4   Is Recyclable?             28218 non-null  object \n",
      " 5   Store Area                 28218 non-null  float64\n",
      " 6   Grocery Area               28218 non-null  float64\n",
      " 7   Frozen Area                28218 non-null  float64\n",
      " 8   Meat Area                  28218 non-null  float64\n",
      " 9   Cost                       28218 non-null  float64\n",
      " 10  Degree Work                28218 non-null  object \n",
      " 11  Marriage                   28218 non-null  object \n",
      " 12  Gender                     28218 non-null  object \n",
      " 13  Children                   28218 non-null  object \n",
      " 14  Degree                     28218 non-null  object \n",
      " 15  Work                       28218 non-null  object \n",
      " 16  Store Code                 28218 non-null  object \n",
      " 17  Country ISO2               28218 non-null  object \n",
      " 18  Order Brand                28218 non-null  object \n",
      " 19  Order                      28218 non-null  object \n",
      " 20  Department                 28218 non-null  object \n",
      " 21  Amenities Score            28218 non-null  int64  \n",
      " 22  Gross Weight               28218 non-null  float64\n",
      " 23  Net Weight                 28218 non-null  float64\n",
      " 24  Package Weight             28218 non-null  float64\n",
      " 25  Min. Person Yearly Income  28218 non-null  float64\n",
      "dtypes: float64(11), int64(1), object(14)\n",
      "memory usage: 5.6+ MB\n"
     ]
    }
   ],
   "source": [
    "df.info()"
   ]
  },
  {
   "cell_type": "code",
   "execution_count": 200,
   "id": "e38e74a6",
   "metadata": {},
   "outputs": [
    {
     "name": "stdout",
     "output_type": "stream",
     "text": [
      "(28218, 26)\n"
     ]
    },
    {
     "data": {
      "text/html": [
       "<div>\n",
       "<style scoped>\n",
       "    .dataframe tbody tr th:only-of-type {\n",
       "        vertical-align: middle;\n",
       "    }\n",
       "\n",
       "    .dataframe tbody tr th {\n",
       "        vertical-align: top;\n",
       "    }\n",
       "\n",
       "    .dataframe thead th {\n",
       "        text-align: right;\n",
       "    }\n",
       "</style>\n",
       "<table border=\"1\" class=\"dataframe\">\n",
       "  <thead>\n",
       "    <tr style=\"text-align: right;\">\n",
       "      <th></th>\n",
       "      <th>Promotion Name</th>\n",
       "      <th>Store Kind</th>\n",
       "      <th>Store Sales</th>\n",
       "      <th>Store Cost</th>\n",
       "      <th>Is Recyclable?</th>\n",
       "      <th>Store Area</th>\n",
       "      <th>Grocery Area</th>\n",
       "      <th>Frozen Area</th>\n",
       "      <th>Meat Area</th>\n",
       "      <th>Cost</th>\n",
       "      <th>...</th>\n",
       "      <th>Store Code</th>\n",
       "      <th>Country ISO2</th>\n",
       "      <th>Order Brand</th>\n",
       "      <th>Order</th>\n",
       "      <th>Department</th>\n",
       "      <th>Amenities Score</th>\n",
       "      <th>Gross Weight</th>\n",
       "      <th>Net Weight</th>\n",
       "      <th>Package Weight</th>\n",
       "      <th>Min. Person Yearly Income</th>\n",
       "    </tr>\n",
       "  </thead>\n",
       "  <tbody>\n",
       "    <tr>\n",
       "      <th>0</th>\n",
       "      <td>Dimes Off</td>\n",
       "      <td>Deluxe</td>\n",
       "      <td>8760000.00</td>\n",
       "      <td>4292400.00</td>\n",
       "      <td>yes</td>\n",
       "      <td>2842.23</td>\n",
       "      <td>2037.64</td>\n",
       "      <td>481.98</td>\n",
       "      <td>323.00</td>\n",
       "      <td>602.76</td>\n",
       "      <td>...</td>\n",
       "      <td>H11go</td>\n",
       "      <td>ZA</td>\n",
       "      <td>Red Wing</td>\n",
       "      <td>Cleaning Supplies</td>\n",
       "      <td>Household</td>\n",
       "      <td>5</td>\n",
       "      <td>28.20</td>\n",
       "      <td>26.60</td>\n",
       "      <td>1.60</td>\n",
       "      <td>10000.00</td>\n",
       "    </tr>\n",
       "    <tr>\n",
       "      <th>1</th>\n",
       "      <td>Budget Bargains</td>\n",
       "      <td>Supermarket</td>\n",
       "      <td>6360000.00</td>\n",
       "      <td>1971600.00</td>\n",
       "      <td>no</td>\n",
       "      <td>2814.95</td>\n",
       "      <td>2049.72</td>\n",
       "      <td>457.36</td>\n",
       "      <td>304.98</td>\n",
       "      <td>708.66</td>\n",
       "      <td>...</td>\n",
       "      <td>S04ne</td>\n",
       "      <td>WA</td>\n",
       "      <td>Nationeel</td>\n",
       "      <td>Snack Foods</td>\n",
       "      <td>Snack Foods</td>\n",
       "      <td>0</td>\n",
       "      <td>16.57</td>\n",
       "      <td>14.97</td>\n",
       "      <td>1.60</td>\n",
       "      <td>50000.00</td>\n",
       "    </tr>\n",
       "    <tr>\n",
       "      <th>2</th>\n",
       "      <td>Shelf Emptiers</td>\n",
       "      <td>Supermarket</td>\n",
       "      <td>10860000.00</td>\n",
       "      <td>4452600.00</td>\n",
       "      <td>yes</td>\n",
       "      <td>2192.32</td>\n",
       "      <td>1322.21</td>\n",
       "      <td>523.32</td>\n",
       "      <td>348.85</td>\n",
       "      <td>564.26</td>\n",
       "      <td>...</td>\n",
       "      <td>L05es</td>\n",
       "      <td>CA</td>\n",
       "      <td>Excel</td>\n",
       "      <td>Magazines</td>\n",
       "      <td>Periodicals</td>\n",
       "      <td>1</td>\n",
       "      <td>28.64</td>\n",
       "      <td>27.18</td>\n",
       "      <td>1.45</td>\n",
       "      <td>30000.00</td>\n",
       "    </tr>\n",
       "    <tr>\n",
       "      <th>3</th>\n",
       "      <td>Sale Winners</td>\n",
       "      <td>Deluxe</td>\n",
       "      <td>11560000.00</td>\n",
       "      <td>4970800.00</td>\n",
       "      <td>no</td>\n",
       "      <td>2862.30</td>\n",
       "      <td>1872.19</td>\n",
       "      <td>593.93</td>\n",
       "      <td>395.95</td>\n",
       "      <td>519.76</td>\n",
       "      <td>...</td>\n",
       "      <td>M10da</td>\n",
       "      <td>YU</td>\n",
       "      <td>Hermanos</td>\n",
       "      <td>Vegetables</td>\n",
       "      <td>Produce</td>\n",
       "      <td>5</td>\n",
       "      <td>12.62</td>\n",
       "      <td>9.71</td>\n",
       "      <td>2.91</td>\n",
       "      <td>50000.00</td>\n",
       "    </tr>\n",
       "    <tr>\n",
       "      <th>4</th>\n",
       "      <td>Weekend Discount</td>\n",
       "      <td>Supermarket</td>\n",
       "      <td>5220000.00</td>\n",
       "      <td>1618200.00</td>\n",
       "      <td>yes</td>\n",
       "      <td>1970.17</td>\n",
       "      <td>1236.07</td>\n",
       "      <td>440.92</td>\n",
       "      <td>293.95</td>\n",
       "      <td>364.16</td>\n",
       "      <td>...</td>\n",
       "      <td>S03le</td>\n",
       "      <td>WA</td>\n",
       "      <td>Red Wing</td>\n",
       "      <td>Candles</td>\n",
       "      <td>Household</td>\n",
       "      <td>1</td>\n",
       "      <td>15.41</td>\n",
       "      <td>13.95</td>\n",
       "      <td>1.45</td>\n",
       "      <td>30000.00</td>\n",
       "    </tr>\n",
       "  </tbody>\n",
       "</table>\n",
       "<p>5 rows × 26 columns</p>\n",
       "</div>"
      ],
      "text/plain": [
       "     Promotion Name   Store Kind  Store Sales  Store Cost Is Recyclable?  \\\n",
       "0         Dimes Off       Deluxe   8760000.00  4292400.00            yes   \n",
       "1   Budget Bargains  Supermarket   6360000.00  1971600.00             no   \n",
       "2    Shelf Emptiers  Supermarket  10860000.00  4452600.00            yes   \n",
       "3      Sale Winners       Deluxe  11560000.00  4970800.00             no   \n",
       "4  Weekend Discount  Supermarket   5220000.00  1618200.00            yes   \n",
       "\n",
       "   Store Area  Grocery Area  Frozen Area  Meat Area   Cost  ... Store Code  \\\n",
       "0     2842.23       2037.64       481.98     323.00 602.76  ...      H11go   \n",
       "1     2814.95       2049.72       457.36     304.98 708.66  ...      S04ne   \n",
       "2     2192.32       1322.21       523.32     348.85 564.26  ...      L05es   \n",
       "3     2862.30       1872.19       593.93     395.95 519.76  ...      M10da   \n",
       "4     1970.17       1236.07       440.92     293.95 364.16  ...      S03le   \n",
       "\n",
       "  Country ISO2 Order Brand               Order   Department Amenities Score  \\\n",
       "0           ZA    Red Wing  Cleaning Supplies     Household               5   \n",
       "1           WA   Nationeel        Snack Foods   Snack Foods               0   \n",
       "2           CA       Excel          Magazines   Periodicals               1   \n",
       "3           YU    Hermanos         Vegetables       Produce               5   \n",
       "4           WA    Red Wing            Candles     Household               1   \n",
       "\n",
       "  Gross Weight Net Weight Package Weight Min. Person Yearly Income  \n",
       "0        28.20      26.60           1.60                  10000.00  \n",
       "1        16.57      14.97           1.60                  50000.00  \n",
       "2        28.64      27.18           1.45                  30000.00  \n",
       "3        12.62       9.71           2.91                  50000.00  \n",
       "4        15.41      13.95           1.45                  30000.00  \n",
       "\n",
       "[5 rows x 26 columns]"
      ]
     },
     "execution_count": 200,
     "metadata": {},
     "output_type": "execute_result"
    }
   ],
   "source": [
    "print(df.shape)\n",
    "df.head()"
   ]
  },
  {
   "cell_type": "code",
   "execution_count": 201,
   "id": "c5ca14cc",
   "metadata": {},
   "outputs": [
    {
     "data": {
      "text/plain": [
       "Promotion Name               0\n",
       "Store Kind                   0\n",
       "Store Sales                  0\n",
       "Store Cost                   0\n",
       "Is Recyclable?               0\n",
       "Store Area                   0\n",
       "Grocery Area                 0\n",
       "Frozen Area                  0\n",
       "Meat Area                    0\n",
       "Cost                         0\n",
       "Degree Work                  0\n",
       "Marriage                     0\n",
       "Gender                       0\n",
       "Children                     0\n",
       "Degree                       0\n",
       "Work                         0\n",
       "Store Code                   0\n",
       "Country ISO2                 0\n",
       "Order Brand                  0\n",
       "Order                        0\n",
       "Department                   0\n",
       "Amenities Score              0\n",
       "Gross Weight                 0\n",
       "Net Weight                   0\n",
       "Package Weight               0\n",
       "Min. Person Yearly Income    0\n",
       "dtype: int64"
      ]
     },
     "execution_count": 201,
     "metadata": {},
     "output_type": "execute_result"
    }
   ],
   "source": [
    "df.isna().sum()"
   ]
  },
  {
   "cell_type": "code",
   "execution_count": 254,
   "id": "626efa66",
   "metadata": {},
   "outputs": [],
   "source": [
    "df[\"Store CountryISO2\"] = df[\"Store Code\"] + '_' + df[\"Country ISO2\"]"
   ]
  },
  {
   "cell_type": "code",
   "execution_count": 255,
   "id": "bfddd491",
   "metadata": {},
   "outputs": [],
   "source": [
    "df['Income Level'] = (\n",
    "    pd.cut(\n",
    "        df['Min. Person Yearly Income'],\n",
    "        bins=[0, 25000, 50000, float('inf')],\n",
    "        labels=['Low', 'Middle', 'High']\n",
    "    )\n",
    ")"
   ]
  },
  {
   "cell_type": "code",
   "execution_count": 256,
   "id": "e6bde89f",
   "metadata": {},
   "outputs": [],
   "source": [
    "df['Promotion Name Length'] = df['Promotion Name'].apply(lambda x: len(x))\n",
    "df['Promotion Name Length'] = df['Promotion Name Length'].astype(int)"
   ]
  },
  {
   "cell_type": "code",
   "execution_count": 257,
   "id": "d84531ce",
   "metadata": {},
   "outputs": [],
   "source": [
    "promotion_frequency = df['Promotion Name'].value_counts().reset_index()\n",
    "promotion_frequency.columns = ['Promotion Name', 'Promotion Frequency']\n",
    "test = df.merge(promotion_frequency, on='Promotion Name', how='left')"
   ]
  },
  {
   "cell_type": "code",
   "execution_count": 228,
   "id": "ffc21627",
   "metadata": {},
   "outputs": [],
   "source": [
    "target = \"Cost\"\n",
    "X = df.drop(columns=target)\n",
    "y = df[target]"
   ]
  },
  {
   "cell_type": "code",
   "execution_count": 229,
   "id": "1414b816",
   "metadata": {},
   "outputs": [],
   "source": [
    "X_train, X_test, y_train, y_test = train_test_split(X, y, test_size=0.2, random_state=42)"
   ]
  },
  {
   "cell_type": "code",
   "execution_count": 230,
   "id": "743b94c5",
   "metadata": {},
   "outputs": [],
   "source": [
    "ord_categorical_columns = df.select_dtypes(\"object\").drop(columns=['Marriage', 'Gender', \"Store CountryISO2\"]).columns\n",
    "\n",
    "hot_categorical_columns = ['Marriage', 'Gender', 'Is Recyclable?', \"Income Level\"]\n",
    "\n",
    "numeric_columns = X.select_dtypes(\"float\").columns"
   ]
  },
  {
   "cell_type": "code",
   "execution_count": 231,
   "id": "30bb9249",
   "metadata": {},
   "outputs": [],
   "source": [
    "preprocessor = ColumnTransformer(\n",
    "    transformers=[\n",
    "        ('cat', OrdinalEncoder(), ord_categorical_columns),\n",
    "        ('ohe', OneHotEncoder(), hot_categorical_columns),\n",
    "        ('num', StandardScaler(), numeric_columns)\n",
    "    ]\n",
    ")"
   ]
  },
  {
   "cell_type": "code",
   "execution_count": 232,
   "id": "fed89b9c",
   "metadata": {},
   "outputs": [
    {
     "data": {
      "text/plain": [
       "Pipeline(steps=[('columntransformer',\n",
       "                 ColumnTransformer(transformers=[('cat', OrdinalEncoder(),\n",
       "                                                  Index(['Promotion Name', 'Store Kind', 'Is Recyclable?', 'Degree Work',\n",
       "       'Children', 'Degree', 'Work', 'Store Code', 'Country ISO2',\n",
       "       'Order Brand', 'Order', 'Department'],\n",
       "      dtype='object')),\n",
       "                                                 ('ohe', OneHotEncoder(),\n",
       "                                                  ['Marriage', 'Gender',\n",
       "                                                   'Is Recyclable?',\n",
       "                                                   'Income Level']),\n",
       "                                                 ('num', StandardScaler(),\n",
       "                                                  Index(['Store Cost', 'Grocery Area', 'Meat Area', 'Gross Weight',\n",
       "       'Package Weight', 'Min. Person Yearly Income'],\n",
       "      dtype='object'))])),\n",
       "                ('decisiontreeregressor',\n",
       "                 DecisionTreeRegressor(max_depth=16, random_state=42))])"
      ]
     },
     "execution_count": 232,
     "metadata": {},
     "output_type": "execute_result"
    }
   ],
   "source": [
    "model = make_pipeline(\n",
    "    preprocessor,\n",
    "    DecisionTreeRegressor(max_depth=16, random_state=42)\n",
    ")\n",
    "model.fit(X_train, y_train)"
   ]
  },
  {
   "cell_type": "code",
   "execution_count": 233,
   "id": "5d2c57da",
   "metadata": {},
   "outputs": [
    {
     "data": {
      "text/plain": [
       "33.47950059701794"
      ]
     },
     "execution_count": 233,
     "metadata": {},
     "output_type": "execute_result"
    }
   ],
   "source": [
    "# Check if the model fitted well or not\n",
    "predictions = model.predict(X_train)\n",
    "\n",
    "mse = mean_squared_error(y_train, predictions)\n",
    "rmse = np.sqrt(mse)\n",
    "rmse"
   ]
  },
  {
   "cell_type": "code",
   "execution_count": 234,
   "id": "7ea2f1fd",
   "metadata": {},
   "outputs": [
    {
     "data": {
      "text/plain": [
       "63.42181437665818"
      ]
     },
     "execution_count": 234,
     "metadata": {},
     "output_type": "execute_result"
    }
   ],
   "source": [
    "predictions = model.predict(X_test)\n",
    "\n",
    "mse = mean_squared_error(y_test, predictions)\n",
    "rmse = np.sqrt(mse)\n",
    "rmse"
   ]
  },
  {
   "cell_type": "code",
   "execution_count": 235,
   "id": "8aeb123a",
   "metadata": {},
   "outputs": [
    {
     "data": {
      "text/plain": [
       "Pipeline(steps=[('columntransformer',\n",
       "                 ColumnTransformer(transformers=[('cat', OrdinalEncoder(),\n",
       "                                                  Index(['Promotion Name', 'Store Kind', 'Is Recyclable?', 'Degree Work',\n",
       "       'Children', 'Degree', 'Work', 'Store Code', 'Country ISO2',\n",
       "       'Order Brand', 'Order', 'Department'],\n",
       "      dtype='object')),\n",
       "                                                 ('ohe', OneHotEncoder(),\n",
       "                                                  ['Marriage', 'Gender',\n",
       "                                                   'Is Recyclable?',\n",
       "                                                   'Income Level']),\n",
       "                                                 ('num', StandardScaler(),\n",
       "                                                  Index(['Store Cost', 'Grocery Area', 'Meat Area', 'Gross Weight',\n",
       "       'Package Weight', 'Min. Person Yearly Income'],\n",
       "      dtype='object'))])),\n",
       "                ('randomforestregressor',\n",
       "                 RandomForestRegressor(max_depth=18, n_estimators=512,\n",
       "                                       n_jobs=-1, random_state=42))])"
      ]
     },
     "execution_count": 235,
     "metadata": {},
     "output_type": "execute_result"
    }
   ],
   "source": [
    "rfmodel = make_pipeline(\n",
    "    preprocessor,\n",
    "    RandomForestRegressor(n_estimators=512, max_depth=18, n_jobs=-1, random_state=42)\n",
    ")\n",
    "rfmodel.fit(X_train, y_train)"
   ]
  },
  {
   "cell_type": "code",
   "execution_count": 236,
   "id": "ddddbe21",
   "metadata": {},
   "outputs": [
    {
     "data": {
      "text/plain": [
       "23.9096820624614"
      ]
     },
     "execution_count": 236,
     "metadata": {},
     "output_type": "execute_result"
    }
   ],
   "source": [
    "# Check if the model fitted well or not\n",
    "predictions = rfmodel.predict(X_train)\n",
    "\n",
    "mse = mean_squared_error(y_train, predictions)\n",
    "rmse = np.sqrt(mse)\n",
    "rmse"
   ]
  },
  {
   "cell_type": "code",
   "execution_count": 237,
   "id": "0a30a1be",
   "metadata": {},
   "outputs": [
    {
     "data": {
      "text/plain": [
       "52.00064785019391"
      ]
     },
     "execution_count": 237,
     "metadata": {},
     "output_type": "execute_result"
    }
   ],
   "source": [
    "predictions = rfmodel.predict(X_test)\n",
    "\n",
    "mse = mean_squared_error(y_test, predictions)\n",
    "rmse = np.sqrt(mse)\n",
    "rmse"
   ]
  },
  {
   "cell_type": "code",
   "execution_count": 238,
   "id": "a49f4ce5",
   "metadata": {},
   "outputs": [
    {
     "data": {
      "image/png": "[encoded data removed]",
      "text/plain": [
       "<Figure size 432x288 with 1 Axes>"
      ]
     },
     "metadata": {
      "needs_background": "light"
     },
     "output_type": "display_data"
    }
   ],
   "source": [
    "pd.Series(rfmodel.named_steps[\"randomforestregressor\"].feature_importances_,\n",
    "         index=X_train.columns[:25]).sort_values().plot(kind=\"barh\");"
   ]
  },
  {
   "cell_type": "code",
   "execution_count": 239,
   "id": "f459f29e",
   "metadata": {},
   "outputs": [
    {
     "data": {
      "text/plain": [
       "Pipeline(steps=[('columntransformer',\n",
       "                 ColumnTransformer(transformers=[('cat', OrdinalEncoder(),\n",
       "                                                  Index(['Promotion Name', 'Store Kind', 'Is Recyclable?', 'Degree Work',\n",
       "       'Children', 'Degree', 'Work', 'Store Code', 'Country ISO2',\n",
       "       'Order Brand', 'Order', 'Department'],\n",
       "      dtype='object')),\n",
       "                                                 ('ohe', OneHotEncoder(),\n",
       "                                                  ['Marriage', 'Gender',\n",
       "                                                   'Is Recyclable?',\n",
       "                                                   'Income Level']),\n",
       "                                                 ('num', StandardScaler(),\n",
       "                                                  Index(['Store Cost', 'Grocery Area', 'Meat Area', 'Gross Weight',\n",
       "       'Package Weight', 'Min. Person Yearly Income'],\n",
       "      dtype='object'))])),\n",
       "                ('extratreesregressor',\n",
       "                 ExtraTreesRegressor(max_depth=18, n_estimators=512, n_jobs=-1,\n",
       "                                     random_state=42))])"
      ]
     },
     "execution_count": 239,
     "metadata": {},
     "output_type": "execute_result"
    }
   ],
   "source": [
    "exmodel = make_pipeline(\n",
    "    preprocessor,\n",
    "    ExtraTreesRegressor(n_estimators=512, max_depth=18, n_jobs=-1, random_state=42)\n",
    ")\n",
    "exmodel.fit(X_train, y_train)"
   ]
  },
  {
   "cell_type": "code",
   "execution_count": 240,
   "id": "58acf9f7",
   "metadata": {},
   "outputs": [
    {
     "data": {
      "text/plain": [
       "13.560555380860126"
      ]
     },
     "execution_count": 240,
     "metadata": {},
     "output_type": "execute_result"
    }
   ],
   "source": [
    "# Check if the model fitted well or not\n",
    "predictions = exmodel.predict(X_train)\n",
    "\n",
    "mse = mean_squared_error(y_train, predictions)\n",
    "rmse = np.sqrt(mse)\n",
    "rmse"
   ]
  },
  {
   "cell_type": "code",
   "execution_count": 241,
   "id": "b49063f0",
   "metadata": {},
   "outputs": [
    {
     "data": {
      "text/plain": [
       "46.39353917609783"
      ]
     },
     "execution_count": 241,
     "metadata": {},
     "output_type": "execute_result"
    }
   ],
   "source": [
    "predictions = exmodel.predict(X_test)\n",
    "\n",
    "mse = mean_squared_error(y_test, predictions)\n",
    "rmse = np.sqrt(mse)\n",
    "rmse"
   ]
  },
  {
   "cell_type": "code",
   "execution_count": 242,
   "id": "9aa22970",
   "metadata": {},
   "outputs": [
    {
     "data": {
      "image/png": "[encoded data removed]",
      "text/plain": [
       "<Figure size 432x288 with 1 Axes>"
      ]
     },
     "metadata": {
      "needs_background": "light"
     },
     "output_type": "display_data"
    }
   ],
   "source": [
    "pd.Series(exmodel.named_steps[\"extratreesregressor\"].feature_importances_,\n",
    "         index=X_train.columns[:25]).sort_values().plot(kind=\"barh\");"
   ]
  },
  {
   "cell_type": "code",
   "execution_count": 243,
   "id": "7e294cf6",
   "metadata": {},
   "outputs": [
    {
     "data": {
      "application/vnd.jupyter.widget-view+json": {
       "model_id": "2fd65b80de674dd4b2d3a901bd8284c7",
       "version_major": 2,
       "version_minor": 0
      },
      "text/plain": [
       "MetricVisualizer(layout=Layout(align_self='stretch', height='500px'))"
      ]
     },
     "metadata": {},
     "output_type": "display_data"
    },
    {
     "name": "stdout",
     "output_type": "stream",
     "text": [
      "Learning rate set to 0.083064\n",
      "0:\tlearn: 148.1718697\ttest: 148.2609019\tbest: 148.2609019 (0)\ttotal: 186ms\tremaining: 3m 5s\n",
      "1:\tlearn: 140.6559586\ttest: 140.6650842\tbest: 140.6650842 (1)\ttotal: 264ms\tremaining: 2m 11s\n",
      "2:\tlearn: 133.9310667\ttest: 133.7922572\tbest: 133.7922572 (2)\ttotal: 424ms\tremaining: 2m 20s\n",
      "3:\tlearn: 127.6983858\ttest: 127.5214762\tbest: 127.5214762 (3)\ttotal: 512ms\tremaining: 2m 7s\n",
      "4:\tlearn: 121.9650967\ttest: 121.6289622\tbest: 121.6289622 (4)\ttotal: 662ms\tremaining: 2m 11s\n",
      "5:\tlearn: 116.9579191\ttest: 116.4805682\tbest: 116.4805682 (5)\ttotal: 793ms\tremaining: 2m 11s\n",
      "6:\tlearn: 112.1660533\ttest: 111.6941220\tbest: 111.6941220 (6)\ttotal: 880ms\tremaining: 2m 4s\n",
      "7:\tlearn: 108.0624271\ttest: 107.5629109\tbest: 107.5629109 (7)\ttotal: 1.05s\tremaining: 2m 10s\n",
      "8:\tlearn: 104.2674178\ttest: 103.7336266\tbest: 103.7336266 (8)\ttotal: 1.1s\tremaining: 2m 1s\n",
      "9:\tlearn: 101.0283620\ttest: 100.4061190\tbest: 100.4061190 (9)\ttotal: 1.26s\tremaining: 2m 4s\n",
      "10:\tlearn: 98.5193405\ttest: 97.8596966\tbest: 97.8596966 (10)\ttotal: 1.39s\tremaining: 2m 5s\n",
      "11:\tlearn: 95.8878396\ttest: 95.1826905\tbest: 95.1826905 (11)\ttotal: 1.56s\tremaining: 2m 8s\n",
      "12:\tlearn: 93.4112272\ttest: 92.5283043\tbest: 92.5283043 (12)\ttotal: 1.72s\tremaining: 2m 10s\n",
      "13:\tlearn: 91.0816316\ttest: 90.1630951\tbest: 90.1630951 (13)\ttotal: 1.84s\tremaining: 2m 9s\n",
      "14:\tlearn: 89.0816295\ttest: 88.1022704\tbest: 88.1022704 (14)\ttotal: 2.01s\tremaining: 2m 11s\n",
      "15:\tlearn: 87.3807170\ttest: 86.3827085\tbest: 86.3827085 (15)\ttotal: 2.14s\tremaining: 2m 11s\n",
      "16:\tlearn: 85.6601819\ttest: 84.6571470\tbest: 84.6571470 (16)\ttotal: 2.34s\tremaining: 2m 15s\n",
      "17:\tlearn: 84.1794562\ttest: 83.1177250\tbest: 83.1177250 (17)\ttotal: 2.47s\tremaining: 2m 15s\n",
      "18:\tlearn: 82.9601827\ttest: 81.8359603\tbest: 81.8359603 (18)\ttotal: 2.63s\tremaining: 2m 15s\n",
      "19:\tlearn: 81.7863673\ttest: 80.6588074\tbest: 80.6588074 (19)\ttotal: 2.77s\tremaining: 2m 15s\n",
      "20:\tlearn: 80.5722915\ttest: 79.4159936\tbest: 79.4159936 (20)\ttotal: 2.9s\tremaining: 2m 14s\n",
      "21:\tlearn: 79.5965832\ttest: 78.4693917\tbest: 78.4693917 (21)\ttotal: 3.02s\tremaining: 2m 14s\n",
      "22:\tlearn: 78.7411268\ttest: 77.6693015\tbest: 77.6693015 (22)\ttotal: 3.16s\tremaining: 2m 14s\n",
      "23:\tlearn: 77.8088611\ttest: 76.7269889\tbest: 76.7269889 (23)\ttotal: 3.3s\tremaining: 2m 14s\n",
      "24:\tlearn: 76.9177115\ttest: 75.8048337\tbest: 75.8048337 (24)\ttotal: 3.48s\tremaining: 2m 15s\n",
      "25:\tlearn: 76.0949570\ttest: 74.9747314\tbest: 74.9747314 (25)\ttotal: 3.61s\tremaining: 2m 15s\n",
      "26:\tlearn: 75.5467243\ttest: 74.4282424\tbest: 74.4282424 (26)\ttotal: 3.75s\tremaining: 2m 15s\n",
      "27:\tlearn: 74.8308703\ttest: 73.6979266\tbest: 73.6979266 (27)\ttotal: 3.88s\tremaining: 2m 14s\n",
      "28:\tlearn: 74.2016236\ttest: 73.0651781\tbest: 73.0651781 (28)\ttotal: 3.99s\tremaining: 2m 13s\n",
      "29:\tlearn: 73.7016479\ttest: 72.5165041\tbest: 72.5165041 (29)\ttotal: 4.1s\tremaining: 2m 12s\n",
      "30:\tlearn: 73.0684976\ttest: 71.8222043\tbest: 71.8222043 (30)\ttotal: 4.23s\tremaining: 2m 12s\n",
      "31:\tlearn: 72.5713062\ttest: 71.2508394\tbest: 71.2508394 (31)\ttotal: 4.34s\tremaining: 2m 11s\n",
      "32:\tlearn: 72.1661070\ttest: 70.8426445\tbest: 70.8426445 (32)\ttotal: 4.49s\tremaining: 2m 11s\n",
      "33:\tlearn: 71.6087005\ttest: 70.2719187\tbest: 70.2719187 (33)\ttotal: 4.61s\tremaining: 2m 10s\n",
      "34:\tlearn: 71.2343201\ttest: 69.8685310\tbest: 69.8685310 (34)\ttotal: 4.77s\tremaining: 2m 11s\n",
      "35:\tlearn: 70.9933664\ttest: 69.6299079\tbest: 69.6299079 (35)\ttotal: 4.89s\tremaining: 2m 11s\n",
      "36:\tlearn: 70.5641254\ttest: 69.1059435\tbest: 69.1059435 (36)\ttotal: 5.06s\tremaining: 2m 11s\n",
      "37:\tlearn: 70.1729511\ttest: 68.7027967\tbest: 68.7027967 (37)\ttotal: 5.21s\tremaining: 2m 11s\n",
      "38:\tlearn: 69.9454342\ttest: 68.4849357\tbest: 68.4849357 (38)\ttotal: 5.33s\tremaining: 2m 11s\n",
      "39:\tlearn: 69.6516538\ttest: 68.2057386\tbest: 68.2057386 (39)\ttotal: 5.45s\tremaining: 2m 10s\n",
      "40:\tlearn: 69.2349986\ttest: 67.7988302\tbest: 67.7988302 (40)\ttotal: 5.59s\tremaining: 2m 10s\n",
      "41:\tlearn: 68.9175879\ttest: 67.4987756\tbest: 67.4987756 (41)\ttotal: 5.72s\tremaining: 2m 10s\n",
      "42:\tlearn: 68.5115042\ttest: 67.0828064\tbest: 67.0828064 (42)\ttotal: 5.84s\tremaining: 2m 9s\n",
      "43:\tlearn: 68.1216822\ttest: 66.7265113\tbest: 66.7265113 (43)\ttotal: 5.96s\tremaining: 2m 9s\n",
      "44:\tlearn: 67.8554354\ttest: 66.4538516\tbest: 66.4538516 (44)\ttotal: 6.09s\tremaining: 2m 9s\n",
      "45:\tlearn: 67.5057937\ttest: 66.0959967\tbest: 66.0959967 (45)\ttotal: 6.22s\tremaining: 2m 9s\n",
      "46:\tlearn: 67.1322647\ttest: 65.7577015\tbest: 65.7577015 (46)\ttotal: 6.33s\tremaining: 2m 8s\n",
      "47:\tlearn: 66.8892449\ttest: 65.5241018\tbest: 65.5241018 (47)\ttotal: 6.44s\tremaining: 2m 7s\n",
      "48:\tlearn: 66.6948968\ttest: 65.3254708\tbest: 65.3254708 (48)\ttotal: 6.58s\tremaining: 2m 7s\n",
      "49:\tlearn: 66.4795272\ttest: 65.1130957\tbest: 65.1130957 (49)\ttotal: 6.72s\tremaining: 2m 7s\n",
      "50:\tlearn: 66.3199633\ttest: 64.9473766\tbest: 64.9473766 (50)\ttotal: 6.84s\tremaining: 2m 7s\n",
      "51:\tlearn: 66.0102149\ttest: 64.6416122\tbest: 64.6416122 (51)\ttotal: 6.98s\tremaining: 2m 7s\n",
      "52:\tlearn: 65.8506516\ttest: 64.4937569\tbest: 64.4937569 (52)\ttotal: 7.13s\tremaining: 2m 7s\n",
      "53:\tlearn: 65.5957923\ttest: 64.2200613\tbest: 64.2200613 (53)\ttotal: 7.25s\tremaining: 2m 7s\n",
      "54:\tlearn: 65.2978754\ttest: 63.9181956\tbest: 63.9181956 (54)\ttotal: 7.39s\tremaining: 2m 6s\n",
      "55:\tlearn: 64.9922907\ttest: 63.6049660\tbest: 63.6049660 (55)\ttotal: 7.54s\tremaining: 2m 7s\n",
      "56:\tlearn: 64.7626243\ttest: 63.3716354\tbest: 63.3716354 (56)\ttotal: 7.66s\tremaining: 2m 6s\n",
      "57:\tlearn: 64.6884455\ttest: 63.2966282\tbest: 63.2966282 (57)\ttotal: 7.79s\tremaining: 2m 6s\n",
      "58:\tlearn: 64.4002141\ttest: 62.9770695\tbest: 62.9770695 (58)\ttotal: 7.9s\tremaining: 2m 6s\n",
      "59:\tlearn: 64.2902772\ttest: 62.8751180\tbest: 62.8751180 (59)\ttotal: 8.02s\tremaining: 2m 5s\n",
      "60:\tlearn: 64.1881855\ttest: 62.7925981\tbest: 62.7925981 (60)\ttotal: 8.1s\tremaining: 2m 4s\n",
      "61:\tlearn: 63.9117569\ttest: 62.5532167\tbest: 62.5532167 (61)\ttotal: 8.22s\tremaining: 2m 4s\n",
      "62:\tlearn: 63.6974877\ttest: 62.3165996\tbest: 62.3165996 (62)\ttotal: 8.36s\tremaining: 2m 4s\n",
      "63:\tlearn: 63.5846174\ttest: 62.1868354\tbest: 62.1868354 (63)\ttotal: 8.51s\tremaining: 2m 4s\n",
      "64:\tlearn: 63.4590982\ttest: 62.0412621\tbest: 62.0412621 (64)\ttotal: 8.64s\tremaining: 2m 4s\n",
      "65:\tlearn: 63.1370283\ttest: 61.7395978\tbest: 61.7395978 (65)\ttotal: 8.76s\tremaining: 2m 3s\n",
      "66:\tlearn: 62.8864431\ttest: 61.4935400\tbest: 61.4935400 (66)\ttotal: 8.89s\tremaining: 2m 3s\n",
      "67:\tlearn: 62.6912079\ttest: 61.3003295\tbest: 61.3003295 (67)\ttotal: 8.99s\tremaining: 2m 3s\n",
      "68:\tlearn: 62.5322440\ttest: 61.1418517\tbest: 61.1418517 (68)\ttotal: 9.1s\tremaining: 2m 2s\n",
      "69:\tlearn: 62.5233872\ttest: 61.1426369\tbest: 61.1418517 (68)\ttotal: 9.23s\tremaining: 2m 2s\n",
      "70:\tlearn: 62.4238643\ttest: 61.0044246\tbest: 61.0044246 (70)\ttotal: 9.43s\tremaining: 2m 3s\n",
      "71:\tlearn: 62.1481350\ttest: 60.7297145\tbest: 60.7297145 (71)\ttotal: 9.6s\tremaining: 2m 3s\n",
      "72:\tlearn: 62.0595029\ttest: 60.6440061\tbest: 60.6440061 (72)\ttotal: 9.79s\tremaining: 2m 4s\n",
      "73:\tlearn: 61.9832469\ttest: 60.5806220\tbest: 60.5806220 (73)\ttotal: 9.91s\tremaining: 2m 3s\n",
      "74:\tlearn: 61.8333268\ttest: 60.4197191\tbest: 60.4197191 (74)\ttotal: 10s\tremaining: 2m 3s\n",
      "75:\tlearn: 61.7380099\ttest: 60.3236629\tbest: 60.3236629 (75)\ttotal: 10.2s\tremaining: 2m 3s\n",
      "76:\tlearn: 61.6812913\ttest: 60.2618438\tbest: 60.2618438 (76)\ttotal: 10.3s\tremaining: 2m 3s\n",
      "77:\tlearn: 61.5942548\ttest: 60.2127585\tbest: 60.2127585 (77)\ttotal: 10.4s\tremaining: 2m 3s\n",
      "78:\tlearn: 61.5111050\ttest: 60.1259962\tbest: 60.1259962 (78)\ttotal: 10.6s\tremaining: 2m 3s\n",
      "79:\tlearn: 61.4515722\ttest: 60.0787525\tbest: 60.0787525 (79)\ttotal: 10.7s\tremaining: 2m 2s\n",
      "80:\tlearn: 61.2796213\ttest: 59.9202140\tbest: 59.9202140 (80)\ttotal: 10.8s\tremaining: 2m 2s\n",
      "81:\tlearn: 61.2617303\ttest: 59.9203485\tbest: 59.9202140 (80)\ttotal: 11s\tremaining: 2m 2s\n",
      "82:\tlearn: 61.2525770\ttest: 59.9194717\tbest: 59.9194717 (82)\ttotal: 11.1s\tremaining: 2m 2s\n",
      "83:\tlearn: 61.2438150\ttest: 59.9193132\tbest: 59.9193132 (83)\ttotal: 11.2s\tremaining: 2m 2s\n",
      "84:\tlearn: 61.2319324\ttest: 59.9191786\tbest: 59.9191786 (84)\ttotal: 11.3s\tremaining: 2m 1s\n",
      "85:\tlearn: 61.2260841\ttest: 59.9194254\tbest: 59.9191786 (84)\ttotal: 11.4s\tremaining: 2m 1s\n",
      "86:\tlearn: 61.0760196\ttest: 59.7620750\tbest: 59.7620750 (86)\ttotal: 11.5s\tremaining: 2m 1s\n",
      "87:\tlearn: 61.0708155\ttest: 59.7606304\tbest: 59.7606304 (87)\ttotal: 11.6s\tremaining: 2m\n",
      "88:\tlearn: 60.9921803\ttest: 59.6808264\tbest: 59.6808264 (88)\ttotal: 11.8s\tremaining: 2m\n",
      "89:\tlearn: 60.7727625\ttest: 59.4561173\tbest: 59.4561173 (89)\ttotal: 11.9s\tremaining: 2m\n"
     ]
    },
    {
     "name": "stdout",
     "output_type": "stream",
     "text": [
      "90:\tlearn: 60.7348636\ttest: 59.4257365\tbest: 59.4257365 (90)\ttotal: 12.1s\tremaining: 2m\n",
      "91:\tlearn: 60.7226671\ttest: 59.4290343\tbest: 59.4257365 (90)\ttotal: 12.1s\tremaining: 1m 59s\n",
      "92:\tlearn: 60.6818793\ttest: 59.3827050\tbest: 59.3827050 (92)\ttotal: 12.3s\tremaining: 1m 59s\n",
      "93:\tlearn: 60.5751238\ttest: 59.2810502\tbest: 59.2810502 (93)\ttotal: 12.4s\tremaining: 1m 59s\n",
      "94:\tlearn: 60.5057733\ttest: 59.2014138\tbest: 59.2014138 (94)\ttotal: 12.6s\tremaining: 1m 59s\n",
      "95:\tlearn: 60.5052822\ttest: 59.2014030\tbest: 59.2014030 (95)\ttotal: 12.6s\tremaining: 1m 59s\n",
      "96:\tlearn: 60.4970802\ttest: 59.2012381\tbest: 59.2012381 (96)\ttotal: 12.8s\tremaining: 1m 58s\n",
      "97:\tlearn: 60.3929146\ttest: 59.0741302\tbest: 59.0741302 (97)\ttotal: 12.8s\tremaining: 1m 58s\n",
      "98:\tlearn: 60.2430672\ttest: 58.9196844\tbest: 58.9196844 (98)\ttotal: 13s\tremaining: 1m 58s\n",
      "99:\tlearn: 60.1636535\ttest: 58.8000588\tbest: 58.8000588 (99)\ttotal: 13.2s\tremaining: 1m 58s\n",
      "100:\tlearn: 60.1575053\ttest: 58.8000030\tbest: 58.8000030 (100)\ttotal: 13.3s\tremaining: 1m 58s\n",
      "101:\tlearn: 60.1530086\ttest: 58.8000058\tbest: 58.8000030 (100)\ttotal: 13.4s\tremaining: 1m 58s\n",
      "102:\tlearn: 60.1234516\ttest: 58.7684859\tbest: 58.7684859 (102)\ttotal: 13.5s\tremaining: 1m 57s\n",
      "103:\tlearn: 60.0125214\ttest: 58.6492336\tbest: 58.6492336 (103)\ttotal: 13.7s\tremaining: 1m 58s\n",
      "104:\tlearn: 59.9710918\ttest: 58.6083906\tbest: 58.6083906 (104)\ttotal: 13.8s\tremaining: 1m 57s\n",
      "105:\tlearn: 59.8434608\ttest: 58.4891980\tbest: 58.4891980 (105)\ttotal: 13.9s\tremaining: 1m 57s\n",
      "106:\tlearn: 59.7665936\ttest: 58.4089768\tbest: 58.4089768 (106)\ttotal: 14.1s\tremaining: 1m 57s\n",
      "107:\tlearn: 59.7562703\ttest: 58.4008223\tbest: 58.4008223 (107)\ttotal: 14.2s\tremaining: 1m 57s\n",
      "108:\tlearn: 59.6401446\ttest: 58.2830341\tbest: 58.2830341 (108)\ttotal: 14.4s\tremaining: 1m 57s\n",
      "109:\tlearn: 59.5691517\ttest: 58.2086488\tbest: 58.2086488 (109)\ttotal: 14.5s\tremaining: 1m 57s\n",
      "110:\tlearn: 59.5611986\ttest: 58.2094195\tbest: 58.2086488 (109)\ttotal: 14.7s\tremaining: 1m 57s\n",
      "111:\tlearn: 59.5495383\ttest: 58.2109688\tbest: 58.2086488 (109)\ttotal: 14.8s\tremaining: 1m 57s\n",
      "112:\tlearn: 59.4994397\ttest: 58.1719821\tbest: 58.1719821 (112)\ttotal: 15s\tremaining: 1m 57s\n",
      "113:\tlearn: 59.3448365\ttest: 58.0296233\tbest: 58.0296233 (113)\ttotal: 15.1s\tremaining: 1m 57s\n",
      "114:\tlearn: 59.2267781\ttest: 57.9096530\tbest: 57.9096530 (114)\ttotal: 15.3s\tremaining: 1m 57s\n",
      "115:\tlearn: 59.1945532\ttest: 57.8810312\tbest: 57.8810312 (115)\ttotal: 15.4s\tremaining: 1m 57s\n",
      "116:\tlearn: 59.1796630\ttest: 57.8804635\tbest: 57.8804635 (116)\ttotal: 15.5s\tremaining: 1m 56s\n",
      "117:\tlearn: 59.1516740\ttest: 57.8520088\tbest: 57.8520088 (117)\ttotal: 15.7s\tremaining: 1m 57s\n",
      "118:\tlearn: 59.1439343\ttest: 57.8449160\tbest: 57.8449160 (118)\ttotal: 15.8s\tremaining: 1m 56s\n",
      "119:\tlearn: 59.1356757\ttest: 57.8451095\tbest: 57.8449160 (118)\ttotal: 15.9s\tremaining: 1m 56s\n",
      "120:\tlearn: 59.1110611\ttest: 57.8366896\tbest: 57.8366896 (120)\ttotal: 16s\tremaining: 1m 56s\n",
      "121:\tlearn: 59.0319362\ttest: 57.7425361\tbest: 57.7425361 (121)\ttotal: 16.2s\tremaining: 1m 56s\n",
      "122:\tlearn: 59.0295420\ttest: 57.7430329\tbest: 57.7425361 (121)\ttotal: 16.3s\tremaining: 1m 56s\n",
      "123:\tlearn: 59.0256412\ttest: 57.7430656\tbest: 57.7425361 (121)\ttotal: 16.4s\tremaining: 1m 55s\n",
      "124:\tlearn: 59.0227454\ttest: 57.7430100\tbest: 57.7425361 (121)\ttotal: 16.5s\tremaining: 1m 55s\n",
      "125:\tlearn: 58.9341759\ttest: 57.6545878\tbest: 57.6545878 (125)\ttotal: 16.7s\tremaining: 1m 55s\n",
      "126:\tlearn: 58.9326822\ttest: 57.6546024\tbest: 57.6545878 (125)\ttotal: 16.8s\tremaining: 1m 55s\n",
      "127:\tlearn: 58.9207400\ttest: 57.6504320\tbest: 57.6504320 (127)\ttotal: 16.9s\tremaining: 1m 55s\n",
      "128:\tlearn: 58.8426974\ttest: 57.5688210\tbest: 57.5688210 (128)\ttotal: 17s\tremaining: 1m 55s\n",
      "129:\tlearn: 58.7548643\ttest: 57.4802001\tbest: 57.4802001 (129)\ttotal: 17.2s\tremaining: 1m 54s\n",
      "130:\tlearn: 58.7539073\ttest: 57.4801417\tbest: 57.4801417 (130)\ttotal: 17.3s\tremaining: 1m 54s\n",
      "131:\tlearn: 58.7499539\ttest: 57.4806000\tbest: 57.4801417 (130)\ttotal: 17.4s\tremaining: 1m 54s\n",
      "132:\tlearn: 58.6603242\ttest: 57.3949450\tbest: 57.3949450 (132)\ttotal: 17.5s\tremaining: 1m 54s\n",
      "133:\tlearn: 58.6586086\ttest: 57.3958142\tbest: 57.3949450 (132)\ttotal: 17.6s\tremaining: 1m 53s\n",
      "134:\tlearn: 58.6507369\ttest: 57.3954494\tbest: 57.3949450 (132)\ttotal: 17.7s\tremaining: 1m 53s\n",
      "135:\tlearn: 58.6501693\ttest: 57.3954338\tbest: 57.3949450 (132)\ttotal: 17.8s\tremaining: 1m 53s\n",
      "136:\tlearn: 58.6350719\ttest: 57.3846352\tbest: 57.3846352 (136)\ttotal: 18s\tremaining: 1m 53s\n",
      "137:\tlearn: 58.6288072\ttest: 57.3775982\tbest: 57.3775982 (137)\ttotal: 18.1s\tremaining: 1m 52s\n",
      "138:\tlearn: 58.6196944\ttest: 57.3770784\tbest: 57.3770784 (138)\ttotal: 18.2s\tremaining: 1m 52s\n",
      "139:\tlearn: 58.6076447\ttest: 57.3800320\tbest: 57.3770784 (138)\ttotal: 18.3s\tremaining: 1m 52s\n",
      "140:\tlearn: 58.6071923\ttest: 57.3799911\tbest: 57.3770784 (138)\ttotal: 18.5s\tremaining: 1m 52s\n",
      "141:\tlearn: 58.5908119\ttest: 57.3679071\tbest: 57.3679071 (141)\ttotal: 18.5s\tremaining: 1m 51s\n",
      "142:\tlearn: 58.5901200\ttest: 57.3678969\tbest: 57.3678969 (142)\ttotal: 18.7s\tremaining: 1m 51s\n",
      "143:\tlearn: 58.5884481\ttest: 57.3678268\tbest: 57.3678268 (143)\ttotal: 18.8s\tremaining: 1m 51s\n",
      "144:\tlearn: 58.5445015\ttest: 57.3279741\tbest: 57.3279741 (144)\ttotal: 18.9s\tremaining: 1m 51s\n",
      "145:\tlearn: 58.5392042\ttest: 57.3295484\tbest: 57.3279741 (144)\ttotal: 19s\tremaining: 1m 51s\n",
      "146:\tlearn: 58.5388845\ttest: 57.3295434\tbest: 57.3279741 (144)\ttotal: 19.2s\tremaining: 1m 51s\n",
      "147:\tlearn: 58.4296011\ttest: 57.2137367\tbest: 57.2137367 (147)\ttotal: 19.3s\tremaining: 1m 51s\n",
      "148:\tlearn: 58.3560164\ttest: 57.1394940\tbest: 57.1394940 (148)\ttotal: 19.4s\tremaining: 1m 51s\n",
      "149:\tlearn: 58.3517111\ttest: 57.1383720\tbest: 57.1383720 (149)\ttotal: 19.5s\tremaining: 1m 50s\n",
      "150:\tlearn: 58.3483209\ttest: 57.1379895\tbest: 57.1379895 (150)\ttotal: 19.6s\tremaining: 1m 50s\n",
      "151:\tlearn: 58.2990895\ttest: 57.1351394\tbest: 57.1351394 (151)\ttotal: 19.8s\tremaining: 1m 50s\n",
      "152:\tlearn: 58.2907347\ttest: 57.1345529\tbest: 57.1345529 (152)\ttotal: 19.9s\tremaining: 1m 50s\n",
      "153:\tlearn: 58.2802724\ttest: 57.1342017\tbest: 57.1342017 (153)\ttotal: 20s\tremaining: 1m 49s\n",
      "154:\tlearn: 58.2301857\ttest: 57.0912557\tbest: 57.0912557 (154)\ttotal: 20.1s\tremaining: 1m 49s\n",
      "155:\tlearn: 58.0863870\ttest: 56.8967094\tbest: 56.8967094 (155)\ttotal: 20.3s\tremaining: 1m 49s\n",
      "156:\tlearn: 57.9855953\ttest: 56.7982515\tbest: 56.7982515 (156)\ttotal: 20.4s\tremaining: 1m 49s\n",
      "157:\tlearn: 57.9837665\ttest: 56.7982603\tbest: 56.7982515 (156)\ttotal: 20.6s\tremaining: 1m 49s\n",
      "158:\tlearn: 57.9472676\ttest: 56.7656486\tbest: 56.7656486 (158)\ttotal: 20.7s\tremaining: 1m 49s\n",
      "159:\tlearn: 57.8831499\ttest: 56.7058501\tbest: 56.7058501 (159)\ttotal: 20.8s\tremaining: 1m 49s\n",
      "160:\tlearn: 57.8826105\ttest: 56.7058568\tbest: 56.7058501 (159)\ttotal: 20.9s\tremaining: 1m 49s\n",
      "161:\tlearn: 57.8815410\ttest: 56.7058114\tbest: 56.7058114 (161)\ttotal: 21.1s\tremaining: 1m 49s\n",
      "162:\tlearn: 57.8352530\ttest: 56.6722547\tbest: 56.6722547 (162)\ttotal: 21.2s\tremaining: 1m 48s\n",
      "163:\tlearn: 57.8268513\ttest: 56.6722464\tbest: 56.6722464 (163)\ttotal: 21.3s\tremaining: 1m 48s\n",
      "164:\tlearn: 57.7804125\ttest: 56.6431423\tbest: 56.6431423 (164)\ttotal: 21.4s\tremaining: 1m 48s\n",
      "165:\tlearn: 57.7711634\ttest: 56.6351705\tbest: 56.6351705 (165)\ttotal: 21.6s\tremaining: 1m 48s\n",
      "166:\tlearn: 57.7707048\ttest: 56.6351628\tbest: 56.6351628 (166)\ttotal: 21.6s\tremaining: 1m 47s\n",
      "167:\tlearn: 57.7691809\ttest: 56.6351719\tbest: 56.6351628 (166)\ttotal: 21.7s\tremaining: 1m 47s\n",
      "168:\tlearn: 57.7625039\ttest: 56.6363928\tbest: 56.6351628 (166)\ttotal: 21.9s\tremaining: 1m 47s\n",
      "169:\tlearn: 57.7079898\ttest: 56.5943274\tbest: 56.5943274 (169)\ttotal: 22s\tremaining: 1m 47s\n",
      "170:\tlearn: 57.7076828\ttest: 56.5943201\tbest: 56.5943201 (170)\ttotal: 22.1s\tremaining: 1m 47s\n",
      "171:\tlearn: 57.6529223\ttest: 56.5343837\tbest: 56.5343837 (171)\ttotal: 22.2s\tremaining: 1m 46s\n",
      "172:\tlearn: 57.6523679\ttest: 56.5343829\tbest: 56.5343829 (172)\ttotal: 22.3s\tremaining: 1m 46s\n",
      "173:\tlearn: 57.5951881\ttest: 56.4752855\tbest: 56.4752855 (173)\ttotal: 22.4s\tremaining: 1m 46s\n",
      "174:\tlearn: 57.5916402\ttest: 56.4742374\tbest: 56.4742374 (174)\ttotal: 22.6s\tremaining: 1m 46s\n",
      "175:\tlearn: 57.4984161\ttest: 56.3853702\tbest: 56.3853702 (175)\ttotal: 22.7s\tremaining: 1m 46s\n",
      "176:\tlearn: 57.4610294\ttest: 56.3434928\tbest: 56.3434928 (176)\ttotal: 22.8s\tremaining: 1m 46s\n",
      "177:\tlearn: 57.3805446\ttest: 56.2646599\tbest: 56.2646599 (177)\ttotal: 23s\tremaining: 1m 46s\n",
      "178:\tlearn: 57.2734832\ttest: 56.1449871\tbest: 56.1449871 (178)\ttotal: 23.1s\tremaining: 1m 46s\n"
     ]
    },
    {
     "name": "stdout",
     "output_type": "stream",
     "text": [
      "179:\tlearn: 57.2692108\ttest: 56.1432306\tbest: 56.1432306 (179)\ttotal: 23.3s\tremaining: 1m 45s\n",
      "180:\tlearn: 57.2631287\ttest: 56.1431267\tbest: 56.1431267 (180)\ttotal: 23.4s\tremaining: 1m 45s\n",
      "181:\tlearn: 57.2342896\ttest: 56.1099852\tbest: 56.1099852 (181)\ttotal: 23.5s\tremaining: 1m 45s\n",
      "182:\tlearn: 57.2278236\ttest: 56.1102431\tbest: 56.1099852 (181)\ttotal: 23.7s\tremaining: 1m 45s\n",
      "183:\tlearn: 57.2232388\ttest: 56.1102753\tbest: 56.1099852 (181)\ttotal: 23.8s\tremaining: 1m 45s\n",
      "184:\tlearn: 57.2195742\ttest: 56.1070315\tbest: 56.1070315 (184)\ttotal: 24s\tremaining: 1m 45s\n",
      "185:\tlearn: 57.2153411\ttest: 56.1070786\tbest: 56.1070315 (184)\ttotal: 24.1s\tremaining: 1m 45s\n",
      "186:\tlearn: 57.2037849\ttest: 56.1054522\tbest: 56.1054522 (186)\ttotal: 24.2s\tremaining: 1m 45s\n",
      "187:\tlearn: 57.1220890\ttest: 56.0366777\tbest: 56.0366777 (187)\ttotal: 24.3s\tremaining: 1m 45s\n",
      "188:\tlearn: 57.0565120\ttest: 55.9759679\tbest: 55.9759679 (188)\ttotal: 24.5s\tremaining: 1m 45s\n",
      "189:\tlearn: 57.0144969\ttest: 55.9471888\tbest: 55.9471888 (189)\ttotal: 24.6s\tremaining: 1m 44s\n",
      "190:\tlearn: 56.9728718\ttest: 55.9033110\tbest: 55.9033110 (190)\ttotal: 24.8s\tremaining: 1m 44s\n",
      "191:\tlearn: 56.9636055\ttest: 55.9029278\tbest: 55.9029278 (191)\ttotal: 24.9s\tremaining: 1m 44s\n",
      "192:\tlearn: 56.9610020\ttest: 55.9034768\tbest: 55.9029278 (191)\ttotal: 25.1s\tremaining: 1m 44s\n",
      "193:\tlearn: 56.9204009\ttest: 55.8742837\tbest: 55.8742837 (193)\ttotal: 25.2s\tremaining: 1m 44s\n",
      "194:\tlearn: 56.8645829\ttest: 55.8217340\tbest: 55.8217340 (194)\ttotal: 25.3s\tremaining: 1m 44s\n",
      "195:\tlearn: 56.8305072\ttest: 55.8217631\tbest: 55.8217340 (194)\ttotal: 25.5s\tremaining: 1m 44s\n",
      "196:\tlearn: 56.8236577\ttest: 55.8065611\tbest: 55.8065611 (196)\ttotal: 25.6s\tremaining: 1m 44s\n",
      "197:\tlearn: 56.8215445\ttest: 55.8062512\tbest: 55.8062512 (197)\ttotal: 25.8s\tremaining: 1m 44s\n",
      "198:\tlearn: 56.8171539\ttest: 55.8011140\tbest: 55.8011140 (198)\ttotal: 25.9s\tremaining: 1m 44s\n",
      "199:\tlearn: 56.7545119\ttest: 55.7810126\tbest: 55.7810126 (199)\ttotal: 26s\tremaining: 1m 44s\n",
      "200:\tlearn: 56.7305419\ttest: 55.7713974\tbest: 55.7713974 (200)\ttotal: 26.2s\tremaining: 1m 44s\n",
      "201:\tlearn: 56.7053558\ttest: 55.7429101\tbest: 55.7429101 (201)\ttotal: 26.3s\tremaining: 1m 43s\n",
      "202:\tlearn: 56.5993584\ttest: 55.6377306\tbest: 55.6377306 (202)\ttotal: 26.4s\tremaining: 1m 43s\n",
      "203:\tlearn: 56.5988529\ttest: 55.6377296\tbest: 55.6377296 (203)\ttotal: 26.5s\tremaining: 1m 43s\n",
      "204:\tlearn: 56.5971733\ttest: 55.6365381\tbest: 55.6365381 (204)\ttotal: 26.6s\tremaining: 1m 43s\n",
      "205:\tlearn: 56.5669355\ttest: 55.6026934\tbest: 55.6026934 (205)\ttotal: 26.8s\tremaining: 1m 43s\n",
      "206:\tlearn: 56.5346647\ttest: 55.5701965\tbest: 55.5701965 (206)\ttotal: 26.9s\tremaining: 1m 43s\n",
      "207:\tlearn: 56.4543288\ttest: 55.5211563\tbest: 55.5211563 (207)\ttotal: 27s\tremaining: 1m 42s\n",
      "208:\tlearn: 56.4021173\ttest: 55.4681172\tbest: 55.4681172 (208)\ttotal: 27.2s\tremaining: 1m 42s\n",
      "209:\tlearn: 56.3906407\ttest: 55.4686929\tbest: 55.4681172 (208)\ttotal: 27.3s\tremaining: 1m 42s\n",
      "210:\tlearn: 56.3901761\ttest: 55.4686944\tbest: 55.4681172 (208)\ttotal: 27.4s\tremaining: 1m 42s\n",
      "211:\tlearn: 56.3831267\ttest: 55.4641145\tbest: 55.4641145 (211)\ttotal: 27.5s\tremaining: 1m 42s\n",
      "212:\tlearn: 56.3346242\ttest: 55.4387349\tbest: 55.4387349 (212)\ttotal: 27.7s\tremaining: 1m 42s\n",
      "213:\tlearn: 56.3081796\ttest: 55.4182300\tbest: 55.4182300 (213)\ttotal: 27.8s\tremaining: 1m 42s\n",
      "214:\tlearn: 56.2937856\ttest: 55.4139026\tbest: 55.4139026 (214)\ttotal: 27.9s\tremaining: 1m 41s\n",
      "215:\tlearn: 56.2115791\ttest: 55.3187728\tbest: 55.3187728 (215)\ttotal: 28.1s\tremaining: 1m 41s\n",
      "216:\tlearn: 56.2050223\ttest: 55.3245217\tbest: 55.3187728 (215)\ttotal: 28.2s\tremaining: 1m 41s\n",
      "217:\tlearn: 56.2038692\ttest: 55.3257270\tbest: 55.3187728 (215)\ttotal: 28.3s\tremaining: 1m 41s\n",
      "218:\tlearn: 56.1932648\ttest: 55.3263157\tbest: 55.3187728 (215)\ttotal: 28.4s\tremaining: 1m 41s\n",
      "219:\tlearn: 56.1586949\ttest: 55.3070190\tbest: 55.3070190 (219)\ttotal: 28.6s\tremaining: 1m 41s\n",
      "220:\tlearn: 56.1555885\ttest: 55.3068657\tbest: 55.3068657 (220)\ttotal: 28.7s\tremaining: 1m 41s\n",
      "221:\tlearn: 56.0791432\ttest: 55.2216452\tbest: 55.2216452 (221)\ttotal: 28.9s\tremaining: 1m 41s\n",
      "222:\tlearn: 56.0749668\ttest: 55.2217365\tbest: 55.2216452 (221)\ttotal: 29.1s\tremaining: 1m 41s\n",
      "223:\tlearn: 56.0625608\ttest: 55.2231883\tbest: 55.2216452 (221)\ttotal: 29.2s\tremaining: 1m 41s\n",
      "224:\tlearn: 56.0495821\ttest: 55.2093139\tbest: 55.2093139 (224)\ttotal: 29.4s\tremaining: 1m 41s\n",
      "225:\tlearn: 55.9852731\ttest: 55.1323954\tbest: 55.1323954 (225)\ttotal: 29.6s\tremaining: 1m 41s\n",
      "226:\tlearn: 55.9765279\ttest: 55.1224407\tbest: 55.1224407 (226)\ttotal: 29.7s\tremaining: 1m 41s\n",
      "227:\tlearn: 55.9350425\ttest: 55.0809305\tbest: 55.0809305 (227)\ttotal: 29.8s\tremaining: 1m 40s\n",
      "228:\tlearn: 55.9337299\ttest: 55.0809997\tbest: 55.0809305 (227)\ttotal: 29.9s\tremaining: 1m 40s\n",
      "229:\tlearn: 55.9294290\ttest: 55.0768418\tbest: 55.0768418 (229)\ttotal: 30.1s\tremaining: 1m 40s\n",
      "230:\tlearn: 55.9282007\ttest: 55.0768270\tbest: 55.0768270 (230)\ttotal: 30.2s\tremaining: 1m 40s\n",
      "231:\tlearn: 55.9268274\ttest: 55.0768955\tbest: 55.0768270 (230)\ttotal: 30.4s\tremaining: 1m 40s\n",
      "232:\tlearn: 55.9075923\ttest: 55.0663639\tbest: 55.0663639 (232)\ttotal: 30.5s\tremaining: 1m 40s\n",
      "233:\tlearn: 55.8987303\ttest: 55.0668826\tbest: 55.0663639 (232)\ttotal: 30.7s\tremaining: 1m 40s\n",
      "234:\tlearn: 55.8895545\ttest: 55.0625422\tbest: 55.0625422 (234)\ttotal: 30.8s\tremaining: 1m 40s\n",
      "235:\tlearn: 55.8784953\ttest: 55.0615985\tbest: 55.0615985 (235)\ttotal: 31s\tremaining: 1m 40s\n",
      "236:\tlearn: 55.8773204\ttest: 55.0616660\tbest: 55.0615985 (235)\ttotal: 31.1s\tremaining: 1m 40s\n",
      "237:\tlearn: 55.8745053\ttest: 55.0618892\tbest: 55.0615985 (235)\ttotal: 31.3s\tremaining: 1m 40s\n",
      "238:\tlearn: 55.8722367\ttest: 55.0599673\tbest: 55.0599673 (238)\ttotal: 31.4s\tremaining: 1m 39s\n",
      "239:\tlearn: 55.8605862\ttest: 55.0563243\tbest: 55.0563243 (239)\ttotal: 31.5s\tremaining: 1m 39s\n",
      "240:\tlearn: 55.8583760\ttest: 55.0561466\tbest: 55.0561466 (240)\ttotal: 31.7s\tremaining: 1m 39s\n",
      "241:\tlearn: 55.8532819\ttest: 55.0571271\tbest: 55.0561466 (240)\ttotal: 31.8s\tremaining: 1m 39s\n",
      "242:\tlearn: 55.8468492\ttest: 55.0536109\tbest: 55.0536109 (242)\ttotal: 32s\tremaining: 1m 39s\n",
      "243:\tlearn: 55.8238454\ttest: 55.0691391\tbest: 55.0536109 (242)\ttotal: 32.1s\tremaining: 1m 39s\n",
      "244:\tlearn: 55.8102395\ttest: 55.0682610\tbest: 55.0536109 (242)\ttotal: 32.2s\tremaining: 1m 39s\n",
      "245:\tlearn: 55.7916250\ttest: 55.0602114\tbest: 55.0536109 (242)\ttotal: 32.4s\tremaining: 1m 39s\n",
      "246:\tlearn: 55.7857888\ttest: 55.0538374\tbest: 55.0536109 (242)\ttotal: 32.6s\tremaining: 1m 39s\n",
      "247:\tlearn: 55.7238294\ttest: 55.0310684\tbest: 55.0310684 (247)\ttotal: 32.7s\tremaining: 1m 39s\n",
      "248:\tlearn: 55.7179369\ttest: 55.0321066\tbest: 55.0310684 (247)\ttotal: 32.8s\tremaining: 1m 38s\n",
      "249:\tlearn: 55.6947782\ttest: 55.0336263\tbest: 55.0310684 (247)\ttotal: 32.9s\tremaining: 1m 38s\n",
      "250:\tlearn: 55.6871672\ttest: 55.0351504\tbest: 55.0310684 (247)\ttotal: 33s\tremaining: 1m 38s\n",
      "251:\tlearn: 55.6635932\ttest: 55.0432213\tbest: 55.0310684 (247)\ttotal: 33.2s\tremaining: 1m 38s\n",
      "252:\tlearn: 55.6590743\ttest: 55.0411935\tbest: 55.0310684 (247)\ttotal: 33.3s\tremaining: 1m 38s\n",
      "253:\tlearn: 55.6475451\ttest: 55.0406527\tbest: 55.0310684 (247)\ttotal: 33.4s\tremaining: 1m 38s\n",
      "254:\tlearn: 55.6338791\ttest: 55.0366981\tbest: 55.0310684 (247)\ttotal: 33.5s\tremaining: 1m 37s\n",
      "255:\tlearn: 55.6147220\ttest: 55.0502139\tbest: 55.0310684 (247)\ttotal: 33.7s\tremaining: 1m 38s\n",
      "256:\tlearn: 55.6023604\ttest: 55.0479976\tbest: 55.0310684 (247)\ttotal: 33.9s\tremaining: 1m 37s\n",
      "257:\tlearn: 55.6018047\ttest: 55.0477578\tbest: 55.0310684 (247)\ttotal: 34s\tremaining: 1m 37s\n",
      "258:\tlearn: 55.5898938\ttest: 55.0432552\tbest: 55.0310684 (247)\ttotal: 34.1s\tremaining: 1m 37s\n",
      "259:\tlearn: 55.5681462\ttest: 55.0009303\tbest: 55.0009303 (259)\ttotal: 34.3s\tremaining: 1m 37s\n",
      "260:\tlearn: 55.4979466\ttest: 54.9147861\tbest: 54.9147861 (260)\ttotal: 34.4s\tremaining: 1m 37s\n",
      "261:\tlearn: 55.4866197\ttest: 54.9106841\tbest: 54.9106841 (261)\ttotal: 34.6s\tremaining: 1m 37s\n",
      "262:\tlearn: 55.4697417\ttest: 54.8914917\tbest: 54.8914917 (262)\ttotal: 34.7s\tremaining: 1m 37s\n",
      "263:\tlearn: 55.3809482\ttest: 54.8074425\tbest: 54.8074425 (263)\ttotal: 34.9s\tremaining: 1m 37s\n",
      "264:\tlearn: 55.3776221\ttest: 54.8071942\tbest: 54.8071942 (264)\ttotal: 35s\tremaining: 1m 37s\n",
      "265:\tlearn: 55.3733235\ttest: 54.8078119\tbest: 54.8071942 (264)\ttotal: 35.1s\tremaining: 1m 36s\n",
      "266:\tlearn: 55.3482149\ttest: 54.7856414\tbest: 54.7856414 (266)\ttotal: 35.3s\tremaining: 1m 36s\n"
     ]
    },
    {
     "name": "stdout",
     "output_type": "stream",
     "text": [
      "267:\tlearn: 55.3412607\ttest: 54.7864644\tbest: 54.7856414 (266)\ttotal: 35.4s\tremaining: 1m 36s\n",
      "268:\tlearn: 55.3229572\ttest: 54.7843618\tbest: 54.7843618 (268)\ttotal: 35.6s\tremaining: 1m 36s\n",
      "269:\tlearn: 55.3177368\ttest: 54.7826533\tbest: 54.7826533 (269)\ttotal: 35.8s\tremaining: 1m 36s\n",
      "270:\tlearn: 55.3065486\ttest: 54.7789421\tbest: 54.7789421 (270)\ttotal: 35.9s\tremaining: 1m 36s\n",
      "271:\tlearn: 55.2956446\ttest: 54.7670957\tbest: 54.7670957 (271)\ttotal: 36.1s\tremaining: 1m 36s\n",
      "272:\tlearn: 55.2207641\ttest: 54.6933831\tbest: 54.6933831 (272)\ttotal: 36.2s\tremaining: 1m 36s\n",
      "273:\tlearn: 55.2100015\ttest: 54.6856638\tbest: 54.6856638 (273)\ttotal: 36.3s\tremaining: 1m 36s\n",
      "274:\tlearn: 55.1713397\ttest: 54.6386948\tbest: 54.6386948 (274)\ttotal: 36.5s\tremaining: 1m 36s\n",
      "275:\tlearn: 55.1506373\ttest: 54.6226249\tbest: 54.6226249 (275)\ttotal: 36.6s\tremaining: 1m 35s\n",
      "276:\tlearn: 55.0731005\ttest: 54.6305059\tbest: 54.6226249 (275)\ttotal: 36.8s\tremaining: 1m 36s\n",
      "277:\tlearn: 55.0623649\ttest: 54.6361683\tbest: 54.6226249 (275)\ttotal: 37s\tremaining: 1m 36s\n",
      "278:\tlearn: 55.0538673\ttest: 54.6377414\tbest: 54.6226249 (275)\ttotal: 37.1s\tremaining: 1m 35s\n",
      "279:\tlearn: 55.0130818\ttest: 54.6156428\tbest: 54.6156428 (279)\ttotal: 37.3s\tremaining: 1m 35s\n",
      "280:\tlearn: 55.0089893\ttest: 54.6140933\tbest: 54.6140933 (280)\ttotal: 37.4s\tremaining: 1m 35s\n",
      "281:\tlearn: 54.9991163\ttest: 54.6011810\tbest: 54.6011810 (281)\ttotal: 37.5s\tremaining: 1m 35s\n",
      "282:\tlearn: 54.9813269\ttest: 54.6002741\tbest: 54.6002741 (282)\ttotal: 37.6s\tremaining: 1m 35s\n",
      "283:\tlearn: 54.9215136\ttest: 54.4876797\tbest: 54.4876797 (283)\ttotal: 37.7s\tremaining: 1m 35s\n",
      "284:\tlearn: 54.9100738\ttest: 54.4881305\tbest: 54.4876797 (283)\ttotal: 37.9s\tremaining: 1m 35s\n",
      "285:\tlearn: 54.8884378\ttest: 54.4749362\tbest: 54.4749362 (285)\ttotal: 38s\tremaining: 1m 34s\n",
      "286:\tlearn: 54.8865981\ttest: 54.4748013\tbest: 54.4748013 (286)\ttotal: 38.2s\tremaining: 1m 34s\n",
      "287:\tlearn: 54.8670903\ttest: 54.4407521\tbest: 54.4407521 (287)\ttotal: 38.2s\tremaining: 1m 34s\n",
      "288:\tlearn: 54.8469360\ttest: 54.4272401\tbest: 54.4272401 (288)\ttotal: 38.4s\tremaining: 1m 34s\n",
      "289:\tlearn: 54.7742651\ttest: 54.3592324\tbest: 54.3592324 (289)\ttotal: 38.6s\tremaining: 1m 34s\n",
      "290:\tlearn: 54.7336544\ttest: 54.3521349\tbest: 54.3521349 (290)\ttotal: 38.7s\tremaining: 1m 34s\n",
      "291:\tlearn: 54.7037168\ttest: 54.3029281\tbest: 54.3029281 (291)\ttotal: 38.9s\tremaining: 1m 34s\n",
      "292:\tlearn: 54.6675482\ttest: 54.2934535\tbest: 54.2934535 (292)\ttotal: 39s\tremaining: 1m 34s\n",
      "293:\tlearn: 54.6592750\ttest: 54.2930972\tbest: 54.2930972 (293)\ttotal: 39.1s\tremaining: 1m 33s\n",
      "294:\tlearn: 54.6582577\ttest: 54.2930373\tbest: 54.2930373 (294)\ttotal: 39.3s\tremaining: 1m 33s\n",
      "295:\tlearn: 54.6053524\ttest: 54.2485798\tbest: 54.2485798 (295)\ttotal: 39.4s\tremaining: 1m 33s\n",
      "296:\tlearn: 54.5976943\ttest: 54.2476590\tbest: 54.2476590 (296)\ttotal: 39.5s\tremaining: 1m 33s\n",
      "297:\tlearn: 54.5872630\ttest: 54.2448539\tbest: 54.2448539 (297)\ttotal: 39.7s\tremaining: 1m 33s\n",
      "298:\tlearn: 54.5306385\ttest: 54.1887698\tbest: 54.1887698 (298)\ttotal: 39.8s\tremaining: 1m 33s\n",
      "299:\tlearn: 54.4654231\ttest: 54.1237471\tbest: 54.1237471 (299)\ttotal: 40s\tremaining: 1m 33s\n",
      "300:\tlearn: 54.4508714\ttest: 54.1247496\tbest: 54.1237471 (299)\ttotal: 40.1s\tremaining: 1m 33s\n",
      "301:\tlearn: 54.4505490\ttest: 54.1247864\tbest: 54.1237471 (299)\ttotal: 40.3s\tremaining: 1m 33s\n",
      "302:\tlearn: 54.4477933\ttest: 54.1245973\tbest: 54.1237471 (299)\ttotal: 40.4s\tremaining: 1m 32s\n",
      "303:\tlearn: 54.4430573\ttest: 54.1251016\tbest: 54.1237471 (299)\ttotal: 40.5s\tremaining: 1m 32s\n",
      "304:\tlearn: 54.4305619\ttest: 54.1167541\tbest: 54.1167541 (304)\ttotal: 40.7s\tremaining: 1m 32s\n",
      "305:\tlearn: 54.3247984\ttest: 54.0217021\tbest: 54.0217021 (305)\ttotal: 40.8s\tremaining: 1m 32s\n",
      "306:\tlearn: 54.3185847\ttest: 54.0202056\tbest: 54.0202056 (306)\ttotal: 41s\tremaining: 1m 32s\n",
      "307:\tlearn: 54.3115584\ttest: 54.0212578\tbest: 54.0202056 (306)\ttotal: 41.1s\tremaining: 1m 32s\n",
      "308:\tlearn: 54.3062625\ttest: 54.0201389\tbest: 54.0201389 (308)\ttotal: 41.3s\tremaining: 1m 32s\n",
      "309:\tlearn: 54.2935178\ttest: 54.0191322\tbest: 54.0191322 (309)\ttotal: 41.4s\tremaining: 1m 32s\n",
      "310:\tlearn: 54.2875932\ttest: 54.0179369\tbest: 54.0179369 (310)\ttotal: 41.6s\tremaining: 1m 32s\n",
      "311:\tlearn: 54.2866430\ttest: 54.0170053\tbest: 54.0170053 (311)\ttotal: 41.7s\tremaining: 1m 32s\n",
      "312:\tlearn: 54.2856141\ttest: 54.0171262\tbest: 54.0170053 (311)\ttotal: 41.8s\tremaining: 1m 31s\n",
      "313:\tlearn: 54.2397725\ttest: 53.9956590\tbest: 53.9956590 (313)\ttotal: 42s\tremaining: 1m 31s\n",
      "314:\tlearn: 54.2375545\ttest: 53.9955672\tbest: 53.9955672 (314)\ttotal: 42.1s\tremaining: 1m 31s\n",
      "315:\tlearn: 54.2363665\ttest: 53.9956889\tbest: 53.9955672 (314)\ttotal: 42.3s\tremaining: 1m 31s\n",
      "316:\tlearn: 54.2257950\ttest: 53.9865186\tbest: 53.9865186 (316)\ttotal: 42.4s\tremaining: 1m 31s\n",
      "317:\tlearn: 54.1647502\ttest: 53.9855866\tbest: 53.9855866 (317)\ttotal: 42.5s\tremaining: 1m 31s\n",
      "318:\tlearn: 54.1382950\ttest: 53.9600618\tbest: 53.9600618 (318)\ttotal: 42.7s\tremaining: 1m 31s\n",
      "319:\tlearn: 54.1223688\ttest: 53.9312415\tbest: 53.9312415 (319)\ttotal: 42.8s\tremaining: 1m 31s\n",
      "320:\tlearn: 54.1122403\ttest: 53.9303373\tbest: 53.9303373 (320)\ttotal: 43s\tremaining: 1m 30s\n",
      "321:\tlearn: 54.1121637\ttest: 53.9303151\tbest: 53.9303151 (321)\ttotal: 43.1s\tremaining: 1m 30s\n",
      "322:\tlearn: 54.0438673\ttest: 53.8801838\tbest: 53.8801838 (322)\ttotal: 43.2s\tremaining: 1m 30s\n",
      "323:\tlearn: 53.9320626\ttest: 53.7514668\tbest: 53.7514668 (323)\ttotal: 43.4s\tremaining: 1m 30s\n",
      "324:\tlearn: 53.8916579\ttest: 53.7239982\tbest: 53.7239982 (324)\ttotal: 43.5s\tremaining: 1m 30s\n",
      "325:\tlearn: 53.8298156\ttest: 53.6682572\tbest: 53.6682572 (325)\ttotal: 43.7s\tremaining: 1m 30s\n",
      "326:\tlearn: 53.8063617\ttest: 53.6564947\tbest: 53.6564947 (326)\ttotal: 43.8s\tremaining: 1m 30s\n",
      "327:\tlearn: 53.8060735\ttest: 53.6564976\tbest: 53.6564947 (326)\ttotal: 44s\tremaining: 1m 30s\n",
      "328:\tlearn: 53.7777054\ttest: 53.6633255\tbest: 53.6564947 (326)\ttotal: 44.1s\tremaining: 1m 29s\n",
      "329:\tlearn: 53.7531772\ttest: 53.6586146\tbest: 53.6564947 (326)\ttotal: 44.3s\tremaining: 1m 29s\n",
      "330:\tlearn: 53.7053148\ttest: 53.6272215\tbest: 53.6272215 (330)\ttotal: 44.4s\tremaining: 1m 29s\n",
      "331:\tlearn: 53.6986783\ttest: 53.6270237\tbest: 53.6270237 (331)\ttotal: 44.6s\tremaining: 1m 29s\n",
      "332:\tlearn: 53.6392868\ttest: 53.5740461\tbest: 53.5740461 (332)\ttotal: 44.8s\tremaining: 1m 29s\n",
      "333:\tlearn: 53.6269196\ttest: 53.5743193\tbest: 53.5740461 (332)\ttotal: 45s\tremaining: 1m 29s\n",
      "334:\tlearn: 53.6107661\ttest: 53.5639001\tbest: 53.5639001 (334)\ttotal: 45.1s\tremaining: 1m 29s\n",
      "335:\tlearn: 53.6024697\ttest: 53.5630577\tbest: 53.5630577 (335)\ttotal: 45.4s\tremaining: 1m 29s\n",
      "336:\tlearn: 53.6002771\ttest: 53.5633235\tbest: 53.5630577 (335)\ttotal: 45.6s\tremaining: 1m 29s\n",
      "337:\tlearn: 53.5924771\ttest: 53.5520016\tbest: 53.5520016 (337)\ttotal: 45.7s\tremaining: 1m 29s\n",
      "338:\tlearn: 53.5567661\ttest: 53.5239390\tbest: 53.5239390 (338)\ttotal: 45.8s\tremaining: 1m 29s\n",
      "339:\tlearn: 53.5409676\ttest: 53.5346987\tbest: 53.5239390 (338)\ttotal: 46.1s\tremaining: 1m 29s\n",
      "340:\tlearn: 53.5136428\ttest: 53.4811199\tbest: 53.4811199 (340)\ttotal: 46.2s\tremaining: 1m 29s\n",
      "341:\tlearn: 53.4481133\ttest: 53.4223017\tbest: 53.4223017 (341)\ttotal: 46.4s\tremaining: 1m 29s\n",
      "342:\tlearn: 53.4424790\ttest: 53.4215016\tbest: 53.4215016 (342)\ttotal: 46.5s\tremaining: 1m 29s\n",
      "343:\tlearn: 53.4210045\ttest: 53.4209841\tbest: 53.4209841 (343)\ttotal: 46.6s\tremaining: 1m 28s\n",
      "344:\tlearn: 53.4126448\ttest: 53.4199312\tbest: 53.4199312 (344)\ttotal: 46.8s\tremaining: 1m 28s\n",
      "345:\tlearn: 53.3970783\ttest: 53.4152080\tbest: 53.4152080 (345)\ttotal: 46.9s\tremaining: 1m 28s\n",
      "346:\tlearn: 53.3940778\ttest: 53.4140598\tbest: 53.4140598 (346)\ttotal: 47s\tremaining: 1m 28s\n",
      "347:\tlearn: 53.3429359\ttest: 53.4184803\tbest: 53.4140598 (346)\ttotal: 47.1s\tremaining: 1m 28s\n",
      "348:\tlearn: 53.3199441\ttest: 53.4016448\tbest: 53.4016448 (348)\ttotal: 47.3s\tremaining: 1m 28s\n",
      "349:\tlearn: 53.3092851\ttest: 53.3939808\tbest: 53.3939808 (349)\ttotal: 47.4s\tremaining: 1m 28s\n",
      "350:\tlearn: 53.2901383\ttest: 53.3856567\tbest: 53.3856567 (350)\ttotal: 47.6s\tremaining: 1m 28s\n",
      "351:\tlearn: 53.2691159\ttest: 53.3763005\tbest: 53.3763005 (351)\ttotal: 47.7s\tremaining: 1m 27s\n",
      "352:\tlearn: 53.2680889\ttest: 53.3764462\tbest: 53.3763005 (351)\ttotal: 47.9s\tremaining: 1m 27s\n",
      "353:\tlearn: 53.1460798\ttest: 53.2376029\tbest: 53.2376029 (353)\ttotal: 48.1s\tremaining: 1m 27s\n",
      "354:\tlearn: 53.1410986\ttest: 53.2375940\tbest: 53.2375940 (354)\ttotal: 48.3s\tremaining: 1m 27s\n",
      "355:\tlearn: 53.1281812\ttest: 53.2237711\tbest: 53.2237711 (355)\ttotal: 48.5s\tremaining: 1m 27s\n"
     ]
    },
    {
     "name": "stdout",
     "output_type": "stream",
     "text": [
      "356:\tlearn: 53.1182906\ttest: 53.2240777\tbest: 53.2237711 (355)\ttotal: 48.6s\tremaining: 1m 27s\n",
      "357:\tlearn: 53.0687296\ttest: 53.2149730\tbest: 53.2149730 (357)\ttotal: 48.7s\tremaining: 1m 27s\n",
      "358:\tlearn: 53.0468099\ttest: 53.2043552\tbest: 53.2043552 (358)\ttotal: 48.8s\tremaining: 1m 27s\n",
      "359:\tlearn: 52.9969168\ttest: 53.2375700\tbest: 53.2043552 (358)\ttotal: 49s\tremaining: 1m 27s\n",
      "360:\tlearn: 52.9842577\ttest: 53.2222385\tbest: 53.2043552 (358)\ttotal: 49.1s\tremaining: 1m 26s\n",
      "361:\tlearn: 52.9511440\ttest: 53.1729976\tbest: 53.1729976 (361)\ttotal: 49.3s\tremaining: 1m 26s\n",
      "362:\tlearn: 52.9359612\ttest: 53.1719092\tbest: 53.1719092 (362)\ttotal: 49.4s\tremaining: 1m 26s\n",
      "363:\tlearn: 52.9326373\ttest: 53.1716691\tbest: 53.1716691 (363)\ttotal: 49.6s\tremaining: 1m 26s\n",
      "364:\tlearn: 52.9269377\ttest: 53.1712553\tbest: 53.1712553 (364)\ttotal: 49.7s\tremaining: 1m 26s\n",
      "365:\tlearn: 52.9201034\ttest: 53.1715711\tbest: 53.1712553 (364)\ttotal: 49.9s\tremaining: 1m 26s\n",
      "366:\tlearn: 52.9067311\ttest: 53.1497978\tbest: 53.1497978 (366)\ttotal: 50s\tremaining: 1m 26s\n",
      "367:\tlearn: 52.9050292\ttest: 53.1500750\tbest: 53.1497978 (366)\ttotal: 50.1s\tremaining: 1m 26s\n",
      "368:\tlearn: 52.9009022\ttest: 53.1496911\tbest: 53.1496911 (368)\ttotal: 50.2s\tremaining: 1m 25s\n",
      "369:\tlearn: 52.8686981\ttest: 53.1312070\tbest: 53.1312070 (369)\ttotal: 50.3s\tremaining: 1m 25s\n",
      "370:\tlearn: 52.8503762\ttest: 53.1389270\tbest: 53.1312070 (369)\ttotal: 50.5s\tremaining: 1m 25s\n",
      "371:\tlearn: 52.7854110\ttest: 53.0785054\tbest: 53.0785054 (371)\ttotal: 50.6s\tremaining: 1m 25s\n",
      "372:\tlearn: 52.7771322\ttest: 53.0737474\tbest: 53.0737474 (372)\ttotal: 50.8s\tremaining: 1m 25s\n",
      "373:\tlearn: 52.7718088\ttest: 53.0736569\tbest: 53.0736569 (373)\ttotal: 50.9s\tremaining: 1m 25s\n",
      "374:\tlearn: 52.7691105\ttest: 53.0740526\tbest: 53.0736569 (373)\ttotal: 51s\tremaining: 1m 25s\n",
      "375:\tlearn: 52.7656930\ttest: 53.0732508\tbest: 53.0732508 (375)\ttotal: 51.2s\tremaining: 1m 24s\n",
      "376:\tlearn: 52.7634984\ttest: 53.0728917\tbest: 53.0728917 (376)\ttotal: 51.3s\tremaining: 1m 24s\n",
      "377:\tlearn: 52.7579864\ttest: 53.0723315\tbest: 53.0723315 (377)\ttotal: 51.5s\tremaining: 1m 24s\n",
      "378:\tlearn: 52.7516981\ttest: 53.0713815\tbest: 53.0713815 (378)\ttotal: 51.6s\tremaining: 1m 24s\n",
      "379:\tlearn: 52.7326136\ttest: 53.0641559\tbest: 53.0641559 (379)\ttotal: 51.7s\tremaining: 1m 24s\n",
      "380:\tlearn: 52.7021878\ttest: 53.0423846\tbest: 53.0423846 (380)\ttotal: 51.9s\tremaining: 1m 24s\n",
      "381:\tlearn: 52.6019831\ttest: 52.8906122\tbest: 52.8906122 (381)\ttotal: 52.1s\tremaining: 1m 24s\n",
      "382:\tlearn: 52.5494749\ttest: 52.8538116\tbest: 52.8538116 (382)\ttotal: 52.2s\tremaining: 1m 24s\n",
      "383:\tlearn: 52.5414052\ttest: 52.8469838\tbest: 52.8469838 (383)\ttotal: 52.3s\tremaining: 1m 23s\n",
      "384:\tlearn: 52.5264527\ttest: 52.8348578\tbest: 52.8348578 (384)\ttotal: 52.5s\tremaining: 1m 23s\n",
      "385:\tlearn: 52.5242726\ttest: 52.8350195\tbest: 52.8348578 (384)\ttotal: 52.7s\tremaining: 1m 23s\n",
      "386:\tlearn: 52.5205642\ttest: 52.8351570\tbest: 52.8348578 (384)\ttotal: 52.8s\tremaining: 1m 23s\n",
      "387:\tlearn: 52.4967799\ttest: 52.7933955\tbest: 52.7933955 (387)\ttotal: 53s\tremaining: 1m 23s\n",
      "388:\tlearn: 52.4920764\ttest: 52.7929377\tbest: 52.7929377 (388)\ttotal: 53.1s\tremaining: 1m 23s\n",
      "389:\tlearn: 52.4837438\ttest: 52.7891492\tbest: 52.7891492 (389)\ttotal: 53.2s\tremaining: 1m 23s\n",
      "390:\tlearn: 52.4791505\ttest: 52.7898548\tbest: 52.7891492 (389)\ttotal: 53.3s\tremaining: 1m 23s\n",
      "391:\tlearn: 52.4598832\ttest: 52.7695097\tbest: 52.7695097 (391)\ttotal: 53.5s\tremaining: 1m 22s\n",
      "392:\tlearn: 52.4361077\ttest: 52.7506587\tbest: 52.7506587 (392)\ttotal: 53.6s\tremaining: 1m 22s\n",
      "393:\tlearn: 52.4348833\ttest: 52.7506491\tbest: 52.7506491 (393)\ttotal: 53.8s\tremaining: 1m 22s\n",
      "394:\tlearn: 52.4305395\ttest: 52.7507168\tbest: 52.7506491 (393)\ttotal: 53.9s\tremaining: 1m 22s\n",
      "395:\tlearn: 52.4053290\ttest: 52.7406551\tbest: 52.7406551 (395)\ttotal: 54s\tremaining: 1m 22s\n",
      "396:\tlearn: 52.3977681\ttest: 52.7390286\tbest: 52.7390286 (396)\ttotal: 54.2s\tremaining: 1m 22s\n",
      "397:\tlearn: 52.3850001\ttest: 52.7356816\tbest: 52.7356816 (397)\ttotal: 54.3s\tremaining: 1m 22s\n",
      "398:\tlearn: 52.3776541\ttest: 52.7251857\tbest: 52.7251857 (398)\ttotal: 54.4s\tremaining: 1m 21s\n",
      "399:\tlearn: 52.3044545\ttest: 52.6643038\tbest: 52.6643038 (399)\ttotal: 54.6s\tremaining: 1m 21s\n",
      "400:\tlearn: 52.2982249\ttest: 52.6666042\tbest: 52.6643038 (399)\ttotal: 54.7s\tremaining: 1m 21s\n",
      "401:\tlearn: 52.2915548\ttest: 52.6667515\tbest: 52.6643038 (399)\ttotal: 54.9s\tremaining: 1m 21s\n",
      "402:\tlearn: 52.2760798\ttest: 52.6662330\tbest: 52.6643038 (399)\ttotal: 55s\tremaining: 1m 21s\n",
      "403:\tlearn: 52.2739712\ttest: 52.6662838\tbest: 52.6643038 (399)\ttotal: 55.1s\tremaining: 1m 21s\n",
      "404:\tlearn: 52.2619397\ttest: 52.6657323\tbest: 52.6643038 (399)\ttotal: 55.2s\tremaining: 1m 21s\n",
      "405:\tlearn: 52.2553086\ttest: 52.6599160\tbest: 52.6599160 (405)\ttotal: 55.4s\tremaining: 1m 21s\n",
      "406:\tlearn: 52.2118086\ttest: 52.6836111\tbest: 52.6599160 (405)\ttotal: 55.5s\tremaining: 1m 20s\n",
      "407:\tlearn: 52.1782854\ttest: 52.6861520\tbest: 52.6599160 (405)\ttotal: 55.7s\tremaining: 1m 20s\n",
      "408:\tlearn: 52.1704012\ttest: 52.6854761\tbest: 52.6599160 (405)\ttotal: 55.8s\tremaining: 1m 20s\n",
      "409:\tlearn: 52.1686753\ttest: 52.6856292\tbest: 52.6599160 (405)\ttotal: 56s\tremaining: 1m 20s\n",
      "410:\tlearn: 52.1180753\ttest: 52.6774744\tbest: 52.6599160 (405)\ttotal: 56.2s\tremaining: 1m 20s\n",
      "411:\tlearn: 52.1104775\ttest: 52.6759566\tbest: 52.6599160 (405)\ttotal: 56.3s\tremaining: 1m 20s\n",
      "412:\tlearn: 52.0984098\ttest: 52.6624038\tbest: 52.6599160 (405)\ttotal: 56.4s\tremaining: 1m 20s\n",
      "413:\tlearn: 52.0842297\ttest: 52.6516749\tbest: 52.6516749 (413)\ttotal: 56.5s\tremaining: 1m 20s\n",
      "414:\tlearn: 52.0828502\ttest: 52.6492782\tbest: 52.6492782 (414)\ttotal: 56.7s\tremaining: 1m 19s\n",
      "415:\tlearn: 52.0700513\ttest: 52.6420202\tbest: 52.6420202 (415)\ttotal: 56.9s\tremaining: 1m 19s\n",
      "416:\tlearn: 52.0575189\ttest: 52.6439987\tbest: 52.6420202 (415)\ttotal: 57.1s\tremaining: 1m 19s\n",
      "417:\tlearn: 52.0506848\ttest: 52.6419893\tbest: 52.6419893 (417)\ttotal: 57.2s\tremaining: 1m 19s\n",
      "418:\tlearn: 52.0473189\ttest: 52.6460497\tbest: 52.6419893 (417)\ttotal: 57.4s\tremaining: 1m 19s\n",
      "419:\tlearn: 52.0452645\ttest: 52.6464926\tbest: 52.6419893 (417)\ttotal: 57.5s\tremaining: 1m 19s\n",
      "420:\tlearn: 52.0349469\ttest: 52.6499488\tbest: 52.6419893 (417)\ttotal: 57.7s\tremaining: 1m 19s\n",
      "421:\tlearn: 52.0282299\ttest: 52.6498513\tbest: 52.6419893 (417)\ttotal: 57.8s\tremaining: 1m 19s\n",
      "422:\tlearn: 52.0244513\ttest: 52.6498186\tbest: 52.6419893 (417)\ttotal: 57.9s\tremaining: 1m 19s\n",
      "423:\tlearn: 52.0080439\ttest: 52.6634980\tbest: 52.6419893 (417)\ttotal: 58.1s\tremaining: 1m 18s\n",
      "424:\tlearn: 52.0056573\ttest: 52.6634892\tbest: 52.6419893 (417)\ttotal: 58.3s\tremaining: 1m 18s\n",
      "425:\tlearn: 51.9550811\ttest: 52.6232954\tbest: 52.6232954 (425)\ttotal: 58.4s\tremaining: 1m 18s\n",
      "426:\tlearn: 51.9484506\ttest: 52.6235222\tbest: 52.6232954 (425)\ttotal: 58.5s\tremaining: 1m 18s\n",
      "427:\tlearn: 51.9447756\ttest: 52.6266115\tbest: 52.6232954 (425)\ttotal: 58.6s\tremaining: 1m 18s\n",
      "428:\tlearn: 51.9374551\ttest: 52.6256094\tbest: 52.6232954 (425)\ttotal: 58.8s\tremaining: 1m 18s\n",
      "429:\tlearn: 51.9332357\ttest: 52.6257847\tbest: 52.6232954 (425)\ttotal: 59s\tremaining: 1m 18s\n",
      "430:\tlearn: 51.9316807\ttest: 52.6259401\tbest: 52.6232954 (425)\ttotal: 59.2s\tremaining: 1m 18s\n",
      "431:\tlearn: 51.9278301\ttest: 52.6260274\tbest: 52.6232954 (425)\ttotal: 59.3s\tremaining: 1m 17s\n",
      "432:\tlearn: 51.9254357\ttest: 52.6263908\tbest: 52.6232954 (425)\ttotal: 59.4s\tremaining: 1m 17s\n",
      "433:\tlearn: 51.8844376\ttest: 52.6034737\tbest: 52.6034737 (433)\ttotal: 59.5s\tremaining: 1m 17s\n",
      "434:\tlearn: 51.8587651\ttest: 52.5929079\tbest: 52.5929079 (434)\ttotal: 59.6s\tremaining: 1m 17s\n",
      "435:\tlearn: 51.8529330\ttest: 52.5901495\tbest: 52.5901495 (435)\ttotal: 59.8s\tremaining: 1m 17s\n",
      "436:\tlearn: 51.8501853\ttest: 52.5938519\tbest: 52.5901495 (435)\ttotal: 59.9s\tremaining: 1m 17s\n",
      "437:\tlearn: 51.8473167\ttest: 52.5943970\tbest: 52.5901495 (435)\ttotal: 1m\tremaining: 1m 17s\n",
      "438:\tlearn: 51.8370877\ttest: 52.5956485\tbest: 52.5901495 (435)\ttotal: 1m\tremaining: 1m 16s\n",
      "439:\tlearn: 51.8140168\ttest: 52.5742945\tbest: 52.5742945 (439)\ttotal: 1m\tremaining: 1m 16s\n",
      "440:\tlearn: 51.7828500\ttest: 52.5782990\tbest: 52.5742945 (439)\ttotal: 1m\tremaining: 1m 16s\n",
      "441:\tlearn: 51.7805286\ttest: 52.5753797\tbest: 52.5742945 (439)\ttotal: 1m\tremaining: 1m 16s\n",
      "442:\tlearn: 51.7702199\ttest: 52.5718407\tbest: 52.5718407 (442)\ttotal: 1m\tremaining: 1m 16s\n",
      "443:\tlearn: 51.7441293\ttest: 52.5575358\tbest: 52.5575358 (443)\ttotal: 1m\tremaining: 1m 16s\n",
      "444:\tlearn: 51.7288614\ttest: 52.5412401\tbest: 52.5412401 (444)\ttotal: 1m\tremaining: 1m 16s\n"
     ]
    },
    {
     "name": "stdout",
     "output_type": "stream",
     "text": [
      "445:\tlearn: 51.7241650\ttest: 52.5406859\tbest: 52.5406859 (445)\ttotal: 1m 1s\tremaining: 1m 15s\n",
      "446:\tlearn: 51.7182385\ttest: 52.5404363\tbest: 52.5404363 (446)\ttotal: 1m 1s\tremaining: 1m 15s\n",
      "447:\tlearn: 51.7111730\ttest: 52.5312908\tbest: 52.5312908 (447)\ttotal: 1m 1s\tremaining: 1m 15s\n",
      "448:\tlearn: 51.6956748\ttest: 52.5302269\tbest: 52.5302269 (448)\ttotal: 1m 1s\tremaining: 1m 15s\n",
      "449:\tlearn: 51.6891238\ttest: 52.5315040\tbest: 52.5302269 (448)\ttotal: 1m 1s\tremaining: 1m 15s\n",
      "450:\tlearn: 51.6856770\ttest: 52.5314432\tbest: 52.5302269 (448)\ttotal: 1m 1s\tremaining: 1m 15s\n",
      "451:\tlearn: 51.6623027\ttest: 52.5050565\tbest: 52.5050565 (451)\ttotal: 1m 2s\tremaining: 1m 15s\n",
      "452:\tlearn: 51.6585403\ttest: 52.5037539\tbest: 52.5037539 (452)\ttotal: 1m 2s\tremaining: 1m 15s\n",
      "453:\tlearn: 51.6547383\ttest: 52.5043447\tbest: 52.5037539 (452)\ttotal: 1m 2s\tremaining: 1m 14s\n",
      "454:\tlearn: 51.6514298\ttest: 52.5048793\tbest: 52.5037539 (452)\ttotal: 1m 2s\tremaining: 1m 14s\n",
      "455:\tlearn: 51.6480874\ttest: 52.4990179\tbest: 52.4990179 (455)\ttotal: 1m 2s\tremaining: 1m 14s\n",
      "456:\tlearn: 51.6473925\ttest: 52.4989365\tbest: 52.4989365 (456)\ttotal: 1m 2s\tremaining: 1m 14s\n",
      "457:\tlearn: 51.6467127\ttest: 52.4992144\tbest: 52.4989365 (456)\ttotal: 1m 2s\tremaining: 1m 14s\n",
      "458:\tlearn: 51.6426791\ttest: 52.4984879\tbest: 52.4984879 (458)\ttotal: 1m 3s\tremaining: 1m 14s\n",
      "459:\tlearn: 51.6266039\ttest: 52.5057767\tbest: 52.4984879 (458)\ttotal: 1m 3s\tremaining: 1m 14s\n",
      "460:\tlearn: 51.6173832\ttest: 52.5039938\tbest: 52.4984879 (458)\ttotal: 1m 3s\tremaining: 1m 14s\n",
      "461:\tlearn: 51.5976266\ttest: 52.4958127\tbest: 52.4958127 (461)\ttotal: 1m 3s\tremaining: 1m 13s\n",
      "462:\tlearn: 51.5971708\ttest: 52.4955782\tbest: 52.4955782 (462)\ttotal: 1m 3s\tremaining: 1m 13s\n",
      "463:\tlearn: 51.5878552\ttest: 52.4929649\tbest: 52.4929649 (463)\ttotal: 1m 3s\tremaining: 1m 13s\n",
      "464:\tlearn: 51.5686187\ttest: 52.4906338\tbest: 52.4906338 (464)\ttotal: 1m 3s\tremaining: 1m 13s\n",
      "465:\tlearn: 51.5372045\ttest: 52.4958876\tbest: 52.4906338 (464)\ttotal: 1m 4s\tremaining: 1m 13s\n",
      "466:\tlearn: 51.5265391\ttest: 52.4838147\tbest: 52.4838147 (466)\ttotal: 1m 4s\tremaining: 1m 13s\n",
      "467:\tlearn: 51.5236678\ttest: 52.4849929\tbest: 52.4838147 (466)\ttotal: 1m 4s\tremaining: 1m 13s\n",
      "468:\tlearn: 51.5152838\ttest: 52.4821010\tbest: 52.4821010 (468)\ttotal: 1m 4s\tremaining: 1m 13s\n",
      "469:\tlearn: 51.5076077\ttest: 52.4785077\tbest: 52.4785077 (469)\ttotal: 1m 4s\tremaining: 1m 12s\n",
      "470:\tlearn: 51.5022774\ttest: 52.4764160\tbest: 52.4764160 (470)\ttotal: 1m 4s\tremaining: 1m 12s\n",
      "471:\tlearn: 51.4996781\ttest: 52.4776420\tbest: 52.4764160 (470)\ttotal: 1m 4s\tremaining: 1m 12s\n",
      "472:\tlearn: 51.4933635\ttest: 52.4703077\tbest: 52.4703077 (472)\ttotal: 1m 4s\tremaining: 1m 12s\n",
      "473:\tlearn: 51.4888687\ttest: 52.4695529\tbest: 52.4695529 (473)\ttotal: 1m 5s\tremaining: 1m 12s\n",
      "474:\tlearn: 51.4851147\ttest: 52.4703139\tbest: 52.4695529 (473)\ttotal: 1m 5s\tremaining: 1m 12s\n",
      "475:\tlearn: 51.4848649\ttest: 52.4702033\tbest: 52.4695529 (473)\ttotal: 1m 5s\tremaining: 1m 11s\n",
      "476:\tlearn: 51.4635751\ttest: 52.4411336\tbest: 52.4411336 (476)\ttotal: 1m 5s\tremaining: 1m 11s\n",
      "477:\tlearn: 51.4613744\ttest: 52.4415260\tbest: 52.4411336 (476)\ttotal: 1m 5s\tremaining: 1m 11s\n",
      "478:\tlearn: 51.4490093\ttest: 52.4068639\tbest: 52.4068639 (478)\ttotal: 1m 5s\tremaining: 1m 11s\n",
      "479:\tlearn: 51.4459980\ttest: 52.4062109\tbest: 52.4062109 (479)\ttotal: 1m 5s\tremaining: 1m 11s\n",
      "480:\tlearn: 51.4405550\ttest: 52.4059593\tbest: 52.4059593 (480)\ttotal: 1m 6s\tremaining: 1m 11s\n",
      "481:\tlearn: 51.4064118\ttest: 52.3957998\tbest: 52.3957998 (481)\ttotal: 1m 6s\tremaining: 1m 11s\n",
      "482:\tlearn: 51.2965262\ttest: 52.2327660\tbest: 52.2327660 (482)\ttotal: 1m 6s\tremaining: 1m 11s\n",
      "483:\tlearn: 51.2257214\ttest: 52.1290191\tbest: 52.1290191 (483)\ttotal: 1m 6s\tremaining: 1m 11s\n",
      "484:\tlearn: 51.2101222\ttest: 52.1439378\tbest: 52.1290191 (483)\ttotal: 1m 6s\tremaining: 1m 10s\n",
      "485:\tlearn: 51.2026674\ttest: 52.1434160\tbest: 52.1290191 (483)\ttotal: 1m 6s\tremaining: 1m 10s\n",
      "486:\tlearn: 51.2007719\ttest: 52.1434200\tbest: 52.1290191 (483)\ttotal: 1m 7s\tremaining: 1m 10s\n",
      "487:\tlearn: 51.1612763\ttest: 52.1026852\tbest: 52.1026852 (487)\ttotal: 1m 7s\tremaining: 1m 10s\n",
      "488:\tlearn: 51.0972672\ttest: 51.9821755\tbest: 51.9821755 (488)\ttotal: 1m 7s\tremaining: 1m 10s\n",
      "489:\tlearn: 51.0753606\ttest: 51.9627848\tbest: 51.9627848 (489)\ttotal: 1m 7s\tremaining: 1m 10s\n",
      "490:\tlearn: 51.0381059\ttest: 51.9288657\tbest: 51.9288657 (490)\ttotal: 1m 7s\tremaining: 1m 10s\n",
      "491:\tlearn: 51.0328652\ttest: 51.9282420\tbest: 51.9282420 (491)\ttotal: 1m 7s\tremaining: 1m 10s\n",
      "492:\tlearn: 51.0223437\ttest: 51.9213862\tbest: 51.9213862 (492)\ttotal: 1m 7s\tremaining: 1m 9s\n",
      "493:\tlearn: 50.9813402\ttest: 51.8783967\tbest: 51.8783967 (493)\ttotal: 1m 8s\tremaining: 1m 9s\n",
      "494:\tlearn: 50.9625090\ttest: 51.8743063\tbest: 51.8743063 (494)\ttotal: 1m 8s\tremaining: 1m 9s\n",
      "495:\tlearn: 50.9570573\ttest: 51.8752465\tbest: 51.8743063 (494)\ttotal: 1m 8s\tremaining: 1m 9s\n",
      "496:\tlearn: 50.9534343\ttest: 51.8612924\tbest: 51.8612924 (496)\ttotal: 1m 8s\tremaining: 1m 9s\n",
      "497:\tlearn: 50.9252337\ttest: 51.8319590\tbest: 51.8319590 (497)\ttotal: 1m 8s\tremaining: 1m 9s\n",
      "498:\tlearn: 50.8818214\ttest: 51.7984540\tbest: 51.7984540 (498)\ttotal: 1m 8s\tremaining: 1m 9s\n",
      "499:\tlearn: 50.8678510\ttest: 51.7875020\tbest: 51.7875020 (499)\ttotal: 1m 8s\tremaining: 1m 8s\n",
      "500:\tlearn: 50.8561686\ttest: 51.7895062\tbest: 51.7875020 (499)\ttotal: 1m 9s\tremaining: 1m 8s\n",
      "501:\tlearn: 50.7940630\ttest: 51.7336972\tbest: 51.7336972 (501)\ttotal: 1m 9s\tremaining: 1m 8s\n",
      "502:\tlearn: 50.7888759\ttest: 51.7345294\tbest: 51.7336972 (501)\ttotal: 1m 9s\tremaining: 1m 8s\n",
      "503:\tlearn: 50.7768228\ttest: 51.7368695\tbest: 51.7336972 (501)\ttotal: 1m 9s\tremaining: 1m 8s\n",
      "504:\tlearn: 50.7431556\ttest: 51.7562593\tbest: 51.7336972 (501)\ttotal: 1m 9s\tremaining: 1m 8s\n",
      "505:\tlearn: 50.7395715\ttest: 51.7567293\tbest: 51.7336972 (501)\ttotal: 1m 9s\tremaining: 1m 8s\n",
      "506:\tlearn: 50.7343566\ttest: 51.7487917\tbest: 51.7336972 (501)\ttotal: 1m 9s\tremaining: 1m 7s\n",
      "507:\tlearn: 50.7343223\ttest: 51.7488101\tbest: 51.7336972 (501)\ttotal: 1m 10s\tremaining: 1m 7s\n",
      "508:\tlearn: 50.6717205\ttest: 51.6625159\tbest: 51.6625159 (508)\ttotal: 1m 10s\tremaining: 1m 7s\n",
      "509:\tlearn: 50.6469319\ttest: 51.6566219\tbest: 51.6566219 (509)\ttotal: 1m 10s\tremaining: 1m 7s\n",
      "510:\tlearn: 50.6198571\ttest: 51.6478662\tbest: 51.6478662 (510)\ttotal: 1m 10s\tremaining: 1m 7s\n",
      "511:\tlearn: 50.6101494\ttest: 51.6469152\tbest: 51.6469152 (511)\ttotal: 1m 10s\tremaining: 1m 7s\n",
      "512:\tlearn: 50.6080290\ttest: 51.6465036\tbest: 51.6465036 (512)\ttotal: 1m 10s\tremaining: 1m 7s\n",
      "513:\tlearn: 50.5946327\ttest: 51.6505350\tbest: 51.6465036 (512)\ttotal: 1m 11s\tremaining: 1m 7s\n",
      "514:\tlearn: 50.5856735\ttest: 51.6494944\tbest: 51.6465036 (512)\ttotal: 1m 11s\tremaining: 1m 7s\n",
      "515:\tlearn: 50.5723777\ttest: 51.6428684\tbest: 51.6428684 (515)\ttotal: 1m 11s\tremaining: 1m 6s\n",
      "516:\tlearn: 50.5708939\ttest: 51.6457211\tbest: 51.6428684 (515)\ttotal: 1m 11s\tremaining: 1m 6s\n",
      "517:\tlearn: 50.5642838\ttest: 51.6467665\tbest: 51.6428684 (515)\ttotal: 1m 11s\tremaining: 1m 6s\n",
      "518:\tlearn: 50.5533850\ttest: 51.6439685\tbest: 51.6428684 (515)\ttotal: 1m 11s\tremaining: 1m 6s\n",
      "519:\tlearn: 50.5330058\ttest: 51.6446281\tbest: 51.6428684 (515)\ttotal: 1m 11s\tremaining: 1m 6s\n",
      "520:\tlearn: 50.5281035\ttest: 51.6450932\tbest: 51.6428684 (515)\ttotal: 1m 12s\tremaining: 1m 6s\n",
      "521:\tlearn: 50.5183249\ttest: 51.6424534\tbest: 51.6424534 (521)\ttotal: 1m 12s\tremaining: 1m 6s\n",
      "522:\tlearn: 50.5115328\ttest: 51.6446804\tbest: 51.6424534 (521)\ttotal: 1m 12s\tremaining: 1m 6s\n",
      "523:\tlearn: 50.5005326\ttest: 51.6443190\tbest: 51.6424534 (521)\ttotal: 1m 12s\tremaining: 1m 5s\n",
      "524:\tlearn: 50.4985966\ttest: 51.6441977\tbest: 51.6424534 (521)\ttotal: 1m 12s\tremaining: 1m 5s\n",
      "525:\tlearn: 50.4969579\ttest: 51.6441632\tbest: 51.6424534 (521)\ttotal: 1m 12s\tremaining: 1m 5s\n",
      "526:\tlearn: 50.4911158\ttest: 51.6472672\tbest: 51.6424534 (521)\ttotal: 1m 12s\tremaining: 1m 5s\n",
      "527:\tlearn: 50.4857963\ttest: 51.6489361\tbest: 51.6424534 (521)\ttotal: 1m 13s\tremaining: 1m 5s\n",
      "528:\tlearn: 50.4829090\ttest: 51.6493432\tbest: 51.6424534 (521)\ttotal: 1m 13s\tremaining: 1m 5s\n",
      "529:\tlearn: 50.4762099\ttest: 51.6485630\tbest: 51.6424534 (521)\ttotal: 1m 13s\tremaining: 1m 5s\n",
      "530:\tlearn: 50.4678003\ttest: 51.6458458\tbest: 51.6424534 (521)\ttotal: 1m 13s\tremaining: 1m 5s\n",
      "531:\tlearn: 50.4450159\ttest: 51.6233133\tbest: 51.6233133 (531)\ttotal: 1m 13s\tremaining: 1m 4s\n",
      "532:\tlearn: 50.4361759\ttest: 51.6221276\tbest: 51.6221276 (532)\ttotal: 1m 14s\tremaining: 1m 4s\n",
      "533:\tlearn: 50.4306810\ttest: 51.6222022\tbest: 51.6221276 (532)\ttotal: 1m 14s\tremaining: 1m 4s\n"
     ]
    },
    {
     "name": "stdout",
     "output_type": "stream",
     "text": [
      "534:\tlearn: 50.4257464\ttest: 51.6212223\tbest: 51.6212223 (534)\ttotal: 1m 14s\tremaining: 1m 4s\n",
      "535:\tlearn: 50.4158421\ttest: 51.6151659\tbest: 51.6151659 (535)\ttotal: 1m 14s\tremaining: 1m 4s\n",
      "536:\tlearn: 50.3737093\ttest: 51.5993811\tbest: 51.5993811 (536)\ttotal: 1m 14s\tremaining: 1m 4s\n",
      "537:\tlearn: 50.3719605\ttest: 51.5990343\tbest: 51.5990343 (537)\ttotal: 1m 14s\tremaining: 1m 4s\n",
      "538:\tlearn: 50.3648192\ttest: 51.5986950\tbest: 51.5986950 (538)\ttotal: 1m 15s\tremaining: 1m 4s\n",
      "539:\tlearn: 50.3585006\ttest: 51.5986026\tbest: 51.5986026 (539)\ttotal: 1m 15s\tremaining: 1m 4s\n",
      "540:\tlearn: 50.3511018\ttest: 51.5982602\tbest: 51.5982602 (540)\ttotal: 1m 15s\tremaining: 1m 4s\n",
      "541:\tlearn: 50.3346143\ttest: 51.5934886\tbest: 51.5934886 (541)\ttotal: 1m 15s\tremaining: 1m 3s\n",
      "542:\tlearn: 50.3232928\ttest: 51.5893358\tbest: 51.5893358 (542)\ttotal: 1m 15s\tremaining: 1m 3s\n",
      "543:\tlearn: 50.3210804\ttest: 51.5887206\tbest: 51.5887206 (543)\ttotal: 1m 15s\tremaining: 1m 3s\n",
      "544:\tlearn: 50.3045777\ttest: 51.5892399\tbest: 51.5887206 (543)\ttotal: 1m 16s\tremaining: 1m 3s\n",
      "545:\tlearn: 50.2853816\ttest: 51.5902413\tbest: 51.5887206 (543)\ttotal: 1m 16s\tremaining: 1m 3s\n",
      "546:\tlearn: 50.2754918\ttest: 51.5910689\tbest: 51.5887206 (543)\ttotal: 1m 16s\tremaining: 1m 3s\n",
      "547:\tlearn: 50.2587381\ttest: 51.5958797\tbest: 51.5887206 (543)\ttotal: 1m 16s\tremaining: 1m 3s\n",
      "548:\tlearn: 50.2511965\ttest: 51.6074520\tbest: 51.5887206 (543)\ttotal: 1m 16s\tremaining: 1m 2s\n",
      "549:\tlearn: 50.2446047\ttest: 51.6067369\tbest: 51.5887206 (543)\ttotal: 1m 16s\tremaining: 1m 2s\n",
      "550:\tlearn: 50.2336514\ttest: 51.6044521\tbest: 51.5887206 (543)\ttotal: 1m 16s\tremaining: 1m 2s\n",
      "551:\tlearn: 50.2158532\ttest: 51.6057223\tbest: 51.5887206 (543)\ttotal: 1m 17s\tremaining: 1m 2s\n",
      "552:\tlearn: 50.1976175\ttest: 51.6072340\tbest: 51.5887206 (543)\ttotal: 1m 17s\tremaining: 1m 2s\n",
      "553:\tlearn: 50.1941758\ttest: 51.6069465\tbest: 51.5887206 (543)\ttotal: 1m 17s\tremaining: 1m 2s\n",
      "554:\tlearn: 50.1589433\ttest: 51.6139427\tbest: 51.5887206 (543)\ttotal: 1m 17s\tremaining: 1m 2s\n",
      "555:\tlearn: 50.1559590\ttest: 51.6138511\tbest: 51.5887206 (543)\ttotal: 1m 17s\tremaining: 1m 2s\n",
      "556:\tlearn: 50.1330539\ttest: 51.5911726\tbest: 51.5887206 (543)\ttotal: 1m 17s\tremaining: 1m 1s\n",
      "557:\tlearn: 50.1135962\ttest: 51.5942079\tbest: 51.5887206 (543)\ttotal: 1m 17s\tremaining: 1m 1s\n",
      "558:\tlearn: 50.1031711\ttest: 51.5977760\tbest: 51.5887206 (543)\ttotal: 1m 18s\tremaining: 1m 1s\n",
      "559:\tlearn: 50.1015591\ttest: 51.5980456\tbest: 51.5887206 (543)\ttotal: 1m 18s\tremaining: 1m 1s\n",
      "560:\tlearn: 50.0926591\ttest: 51.6024832\tbest: 51.5887206 (543)\ttotal: 1m 18s\tremaining: 1m 1s\n",
      "561:\tlearn: 50.0908791\ttest: 51.6022732\tbest: 51.5887206 (543)\ttotal: 1m 18s\tremaining: 1m 1s\n",
      "562:\tlearn: 50.0881221\ttest: 51.6019029\tbest: 51.5887206 (543)\ttotal: 1m 18s\tremaining: 1m 1s\n",
      "563:\tlearn: 50.0879620\ttest: 51.6020635\tbest: 51.5887206 (543)\ttotal: 1m 19s\tremaining: 1m 1s\n",
      "564:\tlearn: 50.0878448\ttest: 51.6021826\tbest: 51.5887206 (543)\ttotal: 1m 19s\tremaining: 1m\n",
      "565:\tlearn: 50.0802603\ttest: 51.6006448\tbest: 51.5887206 (543)\ttotal: 1m 19s\tremaining: 1m\n",
      "566:\tlearn: 50.0741999\ttest: 51.6026688\tbest: 51.5887206 (543)\ttotal: 1m 19s\tremaining: 1m\n",
      "567:\tlearn: 50.0668698\ttest: 51.6059218\tbest: 51.5887206 (543)\ttotal: 1m 19s\tremaining: 1m\n",
      "568:\tlearn: 50.0427760\ttest: 51.6035962\tbest: 51.5887206 (543)\ttotal: 1m 19s\tremaining: 1m\n",
      "569:\tlearn: 49.9556599\ttest: 51.5144524\tbest: 51.5144524 (569)\ttotal: 1m 19s\tremaining: 1m\n",
      "570:\tlearn: 49.9531628\ttest: 51.5152280\tbest: 51.5144524 (569)\ttotal: 1m 20s\tremaining: 1m\n",
      "571:\tlearn: 49.9494249\ttest: 51.5133336\tbest: 51.5133336 (571)\ttotal: 1m 20s\tremaining: 1m\n",
      "572:\tlearn: 49.9226243\ttest: 51.4597014\tbest: 51.4597014 (572)\ttotal: 1m 20s\tremaining: 60s\n",
      "573:\tlearn: 49.9171698\ttest: 51.4596214\tbest: 51.4596214 (573)\ttotal: 1m 20s\tremaining: 59.8s\n",
      "574:\tlearn: 49.9149945\ttest: 51.4604346\tbest: 51.4596214 (573)\ttotal: 1m 20s\tremaining: 59.7s\n",
      "575:\tlearn: 49.9030980\ttest: 51.4618926\tbest: 51.4596214 (573)\ttotal: 1m 20s\tremaining: 59.6s\n",
      "576:\tlearn: 49.8986365\ttest: 51.4610332\tbest: 51.4596214 (573)\ttotal: 1m 21s\tremaining: 59.5s\n",
      "577:\tlearn: 49.8968367\ttest: 51.4612676\tbest: 51.4596214 (573)\ttotal: 1m 21s\tremaining: 59.4s\n",
      "578:\tlearn: 49.8936921\ttest: 51.4614463\tbest: 51.4596214 (573)\ttotal: 1m 21s\tremaining: 59.2s\n",
      "579:\tlearn: 49.8908772\ttest: 51.4595123\tbest: 51.4595123 (579)\ttotal: 1m 21s\tremaining: 59.1s\n",
      "580:\tlearn: 49.8787785\ttest: 51.4552140\tbest: 51.4552140 (580)\ttotal: 1m 21s\tremaining: 58.9s\n",
      "581:\tlearn: 49.8515474\ttest: 51.4286844\tbest: 51.4286844 (581)\ttotal: 1m 21s\tremaining: 58.8s\n",
      "582:\tlearn: 49.8480954\ttest: 51.4267424\tbest: 51.4267424 (582)\ttotal: 1m 22s\tremaining: 58.7s\n",
      "583:\tlearn: 49.8442154\ttest: 51.4284452\tbest: 51.4267424 (582)\ttotal: 1m 22s\tremaining: 58.5s\n",
      "584:\tlearn: 49.8389067\ttest: 51.4274290\tbest: 51.4267424 (582)\ttotal: 1m 22s\tremaining: 58.4s\n",
      "585:\tlearn: 49.8371112\ttest: 51.4277625\tbest: 51.4267424 (582)\ttotal: 1m 22s\tremaining: 58.2s\n",
      "586:\tlearn: 49.8338606\ttest: 51.4277845\tbest: 51.4267424 (582)\ttotal: 1m 22s\tremaining: 58.1s\n",
      "587:\tlearn: 49.8233272\ttest: 51.4308753\tbest: 51.4267424 (582)\ttotal: 1m 22s\tremaining: 57.9s\n",
      "588:\tlearn: 49.8216011\ttest: 51.4309082\tbest: 51.4267424 (582)\ttotal: 1m 22s\tremaining: 57.9s\n",
      "589:\tlearn: 49.8211191\ttest: 51.4317726\tbest: 51.4267424 (582)\ttotal: 1m 23s\tremaining: 57.7s\n",
      "590:\tlearn: 49.8109263\ttest: 51.4210836\tbest: 51.4210836 (590)\ttotal: 1m 23s\tremaining: 57.6s\n",
      "591:\tlearn: 49.8016498\ttest: 51.4180220\tbest: 51.4180220 (591)\ttotal: 1m 23s\tremaining: 57.5s\n",
      "592:\tlearn: 49.7923482\ttest: 51.4183914\tbest: 51.4180220 (591)\ttotal: 1m 23s\tremaining: 57.3s\n",
      "593:\tlearn: 49.7590003\ttest: 51.4068531\tbest: 51.4068531 (593)\ttotal: 1m 23s\tremaining: 57.2s\n",
      "594:\tlearn: 49.7548816\ttest: 51.4074445\tbest: 51.4068531 (593)\ttotal: 1m 23s\tremaining: 57s\n",
      "595:\tlearn: 49.7431480\ttest: 51.3983968\tbest: 51.3983968 (595)\ttotal: 1m 23s\tremaining: 56.9s\n",
      "596:\tlearn: 49.7327284\ttest: 51.3885047\tbest: 51.3885047 (596)\ttotal: 1m 24s\tremaining: 56.8s\n",
      "597:\tlearn: 49.7118001\ttest: 51.3767911\tbest: 51.3767911 (597)\ttotal: 1m 24s\tremaining: 56.7s\n",
      "598:\tlearn: 49.6960763\ttest: 51.3597787\tbest: 51.3597787 (598)\ttotal: 1m 24s\tremaining: 56.5s\n",
      "599:\tlearn: 49.6915355\ttest: 51.3616755\tbest: 51.3597787 (598)\ttotal: 1m 24s\tremaining: 56.3s\n",
      "600:\tlearn: 49.6768511\ttest: 51.3548190\tbest: 51.3548190 (600)\ttotal: 1m 24s\tremaining: 56.2s\n",
      "601:\tlearn: 49.6614805\ttest: 51.3523619\tbest: 51.3523619 (601)\ttotal: 1m 24s\tremaining: 56.1s\n",
      "602:\tlearn: 49.6585673\ttest: 51.3533620\tbest: 51.3523619 (601)\ttotal: 1m 25s\tremaining: 56s\n",
      "603:\tlearn: 49.6448614\ttest: 51.3501794\tbest: 51.3501794 (603)\ttotal: 1m 25s\tremaining: 55.9s\n",
      "604:\tlearn: 49.6346166\ttest: 51.3407063\tbest: 51.3407063 (604)\ttotal: 1m 25s\tremaining: 55.8s\n",
      "605:\tlearn: 49.6327189\ttest: 51.3411973\tbest: 51.3407063 (604)\ttotal: 1m 25s\tremaining: 55.6s\n",
      "606:\tlearn: 49.6273089\ttest: 51.3438427\tbest: 51.3407063 (604)\ttotal: 1m 25s\tremaining: 55.5s\n",
      "607:\tlearn: 49.6262303\ttest: 51.3445254\tbest: 51.3407063 (604)\ttotal: 1m 25s\tremaining: 55.4s\n",
      "608:\tlearn: 49.6182822\ttest: 51.3388262\tbest: 51.3388262 (608)\ttotal: 1m 26s\tremaining: 55.3s\n",
      "609:\tlearn: 49.5923902\ttest: 51.3067585\tbest: 51.3067585 (609)\ttotal: 1m 26s\tremaining: 55.2s\n",
      "610:\tlearn: 49.5830510\ttest: 51.3008781\tbest: 51.3008781 (610)\ttotal: 1m 26s\tremaining: 55s\n",
      "611:\tlearn: 49.5659202\ttest: 51.2826197\tbest: 51.2826197 (611)\ttotal: 1m 26s\tremaining: 54.9s\n",
      "612:\tlearn: 49.5399889\ttest: 51.2570271\tbest: 51.2570271 (612)\ttotal: 1m 26s\tremaining: 54.7s\n",
      "613:\tlearn: 49.5084120\ttest: 51.2318615\tbest: 51.2318615 (613)\ttotal: 1m 26s\tremaining: 54.7s\n",
      "614:\tlearn: 49.4794825\ttest: 51.2111509\tbest: 51.2111509 (614)\ttotal: 1m 27s\tremaining: 54.5s\n",
      "615:\tlearn: 49.4557458\ttest: 51.2114307\tbest: 51.2111509 (614)\ttotal: 1m 27s\tremaining: 54.4s\n",
      "616:\tlearn: 49.4541964\ttest: 51.2122107\tbest: 51.2111509 (614)\ttotal: 1m 27s\tremaining: 54.3s\n",
      "617:\tlearn: 49.4505534\ttest: 51.2117784\tbest: 51.2111509 (614)\ttotal: 1m 27s\tremaining: 54.2s\n",
      "618:\tlearn: 49.4388445\ttest: 51.2178241\tbest: 51.2111509 (614)\ttotal: 1m 27s\tremaining: 54.1s\n",
      "619:\tlearn: 49.4155518\ttest: 51.2019769\tbest: 51.2019769 (619)\ttotal: 1m 28s\tremaining: 54s\n",
      "620:\tlearn: 49.4136286\ttest: 51.2031824\tbest: 51.2019769 (619)\ttotal: 1m 28s\tremaining: 53.8s\n",
      "621:\tlearn: 49.4108293\ttest: 51.2038933\tbest: 51.2019769 (619)\ttotal: 1m 28s\tremaining: 53.7s\n",
      "622:\tlearn: 49.4047382\ttest: 51.2046300\tbest: 51.2019769 (619)\ttotal: 1m 28s\tremaining: 53.6s\n"
     ]
    },
    {
     "name": "stdout",
     "output_type": "stream",
     "text": [
      "623:\tlearn: 49.4004328\ttest: 51.2066867\tbest: 51.2019769 (619)\ttotal: 1m 28s\tremaining: 53.4s\n",
      "624:\tlearn: 49.3898698\ttest: 51.1968566\tbest: 51.1968566 (624)\ttotal: 1m 28s\tremaining: 53.3s\n",
      "625:\tlearn: 49.3553803\ttest: 51.1689329\tbest: 51.1689329 (625)\ttotal: 1m 29s\tremaining: 53.2s\n",
      "626:\tlearn: 49.3496851\ttest: 51.1696825\tbest: 51.1689329 (625)\ttotal: 1m 29s\tremaining: 53s\n",
      "627:\tlearn: 49.3408841\ttest: 51.1689100\tbest: 51.1689100 (627)\ttotal: 1m 29s\tremaining: 52.9s\n",
      "628:\tlearn: 49.3056924\ttest: 51.1726548\tbest: 51.1689100 (627)\ttotal: 1m 29s\tremaining: 52.7s\n",
      "629:\tlearn: 49.2978132\ttest: 51.1721676\tbest: 51.1689100 (627)\ttotal: 1m 29s\tremaining: 52.6s\n",
      "630:\tlearn: 49.2966177\ttest: 51.1728062\tbest: 51.1689100 (627)\ttotal: 1m 30s\tremaining: 52.7s\n",
      "631:\tlearn: 49.2922357\ttest: 51.1741932\tbest: 51.1689100 (627)\ttotal: 1m 30s\tremaining: 52.6s\n",
      "632:\tlearn: 49.2859612\ttest: 51.1605090\tbest: 51.1605090 (632)\ttotal: 1m 30s\tremaining: 52.5s\n",
      "633:\tlearn: 49.2661216\ttest: 51.1482068\tbest: 51.1482068 (633)\ttotal: 1m 30s\tremaining: 52.5s\n",
      "634:\tlearn: 49.1929077\ttest: 51.0388161\tbest: 51.0388161 (634)\ttotal: 1m 31s\tremaining: 52.4s\n",
      "635:\tlearn: 49.1842923\ttest: 51.0380268\tbest: 51.0380268 (635)\ttotal: 1m 31s\tremaining: 52.2s\n",
      "636:\tlearn: 49.1837442\ttest: 51.0386205\tbest: 51.0380268 (635)\ttotal: 1m 31s\tremaining: 52.1s\n",
      "637:\tlearn: 49.1762208\ttest: 51.0392716\tbest: 51.0380268 (635)\ttotal: 1m 31s\tremaining: 52s\n",
      "638:\tlearn: 49.1722100\ttest: 51.0396196\tbest: 51.0380268 (635)\ttotal: 1m 31s\tremaining: 51.8s\n",
      "639:\tlearn: 49.1326764\ttest: 51.0119032\tbest: 51.0119032 (639)\ttotal: 1m 31s\tremaining: 51.7s\n",
      "640:\tlearn: 49.0936323\ttest: 50.9570765\tbest: 50.9570765 (640)\ttotal: 1m 32s\tremaining: 51.6s\n",
      "641:\tlearn: 49.0928161\ttest: 50.9577995\tbest: 50.9570765 (640)\ttotal: 1m 32s\tremaining: 51.4s\n",
      "642:\tlearn: 49.0897172\ttest: 50.9589107\tbest: 50.9570765 (640)\ttotal: 1m 32s\tremaining: 51.3s\n",
      "643:\tlearn: 49.0873947\ttest: 50.9578018\tbest: 50.9570765 (640)\ttotal: 1m 32s\tremaining: 51.2s\n",
      "644:\tlearn: 49.0818499\ttest: 50.9647827\tbest: 50.9570765 (640)\ttotal: 1m 32s\tremaining: 51s\n",
      "645:\tlearn: 49.0690472\ttest: 50.9605793\tbest: 50.9570765 (640)\ttotal: 1m 32s\tremaining: 50.9s\n",
      "646:\tlearn: 49.0678151\ttest: 50.9600551\tbest: 50.9570765 (640)\ttotal: 1m 33s\tremaining: 50.7s\n",
      "647:\tlearn: 49.0595570\ttest: 50.9604661\tbest: 50.9570765 (640)\ttotal: 1m 33s\tremaining: 50.6s\n",
      "648:\tlearn: 49.0488162\ttest: 50.9550583\tbest: 50.9550583 (648)\ttotal: 1m 33s\tremaining: 50.5s\n",
      "649:\tlearn: 49.0458685\ttest: 50.9548866\tbest: 50.9548866 (649)\ttotal: 1m 33s\tremaining: 50.4s\n",
      "650:\tlearn: 49.0431018\ttest: 50.9551871\tbest: 50.9548866 (649)\ttotal: 1m 33s\tremaining: 50.3s\n",
      "651:\tlearn: 49.0390461\ttest: 50.9550434\tbest: 50.9548866 (649)\ttotal: 1m 33s\tremaining: 50.1s\n",
      "652:\tlearn: 49.0191884\ttest: 50.9543166\tbest: 50.9543166 (652)\ttotal: 1m 34s\tremaining: 50s\n",
      "653:\tlearn: 49.0132484\ttest: 50.9532966\tbest: 50.9532966 (653)\ttotal: 1m 34s\tremaining: 49.9s\n",
      "654:\tlearn: 49.0069241\ttest: 50.9524129\tbest: 50.9524129 (654)\ttotal: 1m 34s\tremaining: 49.7s\n",
      "655:\tlearn: 49.0053867\ttest: 50.9512230\tbest: 50.9512230 (655)\ttotal: 1m 34s\tremaining: 49.6s\n",
      "656:\tlearn: 48.9947377\ttest: 50.9423937\tbest: 50.9423937 (656)\ttotal: 1m 34s\tremaining: 49.5s\n",
      "657:\tlearn: 48.9934377\ttest: 50.9421995\tbest: 50.9421995 (657)\ttotal: 1m 34s\tremaining: 49.3s\n",
      "658:\tlearn: 48.9875141\ttest: 50.9429339\tbest: 50.9421995 (657)\ttotal: 1m 35s\tremaining: 49.2s\n",
      "659:\tlearn: 48.9608565\ttest: 50.9216248\tbest: 50.9216248 (659)\ttotal: 1m 35s\tremaining: 49.1s\n",
      "660:\tlearn: 48.9572871\ttest: 50.9214196\tbest: 50.9214196 (660)\ttotal: 1m 35s\tremaining: 49s\n",
      "661:\tlearn: 48.9355562\ttest: 50.9011731\tbest: 50.9011731 (661)\ttotal: 1m 35s\tremaining: 48.8s\n",
      "662:\tlearn: 48.9310487\ttest: 50.9003052\tbest: 50.9003052 (662)\ttotal: 1m 35s\tremaining: 48.7s\n",
      "663:\tlearn: 48.9232245\ttest: 50.9047843\tbest: 50.9003052 (662)\ttotal: 1m 35s\tremaining: 48.5s\n",
      "664:\tlearn: 48.9147310\ttest: 50.9060751\tbest: 50.9003052 (662)\ttotal: 1m 36s\tremaining: 48.4s\n",
      "665:\tlearn: 48.9040398\ttest: 50.9081480\tbest: 50.9003052 (662)\ttotal: 1m 36s\tremaining: 48.2s\n",
      "666:\tlearn: 48.8986039\ttest: 50.9053854\tbest: 50.9003052 (662)\ttotal: 1m 36s\tremaining: 48.1s\n",
      "667:\tlearn: 48.8909588\ttest: 50.9019336\tbest: 50.9003052 (662)\ttotal: 1m 36s\tremaining: 48s\n",
      "668:\tlearn: 48.8828639\ttest: 50.8998041\tbest: 50.8998041 (668)\ttotal: 1m 36s\tremaining: 47.8s\n",
      "669:\tlearn: 48.8323820\ttest: 50.8388002\tbest: 50.8388002 (669)\ttotal: 1m 36s\tremaining: 47.7s\n",
      "670:\tlearn: 48.8239551\ttest: 50.8254141\tbest: 50.8254141 (670)\ttotal: 1m 37s\tremaining: 47.6s\n",
      "671:\tlearn: 48.8208825\ttest: 50.8251704\tbest: 50.8251704 (671)\ttotal: 1m 37s\tremaining: 47.5s\n",
      "672:\tlearn: 48.8178273\ttest: 50.8211182\tbest: 50.8211182 (672)\ttotal: 1m 37s\tremaining: 47.3s\n",
      "673:\tlearn: 48.8038232\ttest: 50.8216713\tbest: 50.8211182 (672)\ttotal: 1m 37s\tremaining: 47.3s\n",
      "674:\tlearn: 48.8027798\ttest: 50.8220678\tbest: 50.8211182 (672)\ttotal: 1m 38s\tremaining: 47.2s\n",
      "675:\tlearn: 48.8012543\ttest: 50.8232706\tbest: 50.8211182 (672)\ttotal: 1m 38s\tremaining: 47.1s\n",
      "676:\tlearn: 48.7889425\ttest: 50.8188551\tbest: 50.8188551 (676)\ttotal: 1m 38s\tremaining: 46.9s\n",
      "677:\tlearn: 48.7731917\ttest: 50.7931017\tbest: 50.7931017 (677)\ttotal: 1m 38s\tremaining: 46.8s\n",
      "678:\tlearn: 48.7510981\ttest: 50.7941116\tbest: 50.7931017 (677)\ttotal: 1m 38s\tremaining: 46.6s\n",
      "679:\tlearn: 48.7398268\ttest: 50.7930592\tbest: 50.7930592 (679)\ttotal: 1m 38s\tremaining: 46.5s\n",
      "680:\tlearn: 48.7182132\ttest: 50.7845673\tbest: 50.7845673 (680)\ttotal: 1m 38s\tremaining: 46.3s\n",
      "681:\tlearn: 48.7154226\ttest: 50.7863805\tbest: 50.7845673 (680)\ttotal: 1m 39s\tremaining: 46.2s\n",
      "682:\tlearn: 48.7130288\ttest: 50.7882334\tbest: 50.7845673 (680)\ttotal: 1m 39s\tremaining: 46s\n",
      "683:\tlearn: 48.7105607\ttest: 50.7880013\tbest: 50.7845673 (680)\ttotal: 1m 39s\tremaining: 45.9s\n",
      "684:\tlearn: 48.6956910\ttest: 50.8002174\tbest: 50.7845673 (680)\ttotal: 1m 39s\tremaining: 45.8s\n",
      "685:\tlearn: 48.6949665\ttest: 50.8000529\tbest: 50.7845673 (680)\ttotal: 1m 39s\tremaining: 45.6s\n",
      "686:\tlearn: 48.6894307\ttest: 50.7963419\tbest: 50.7845673 (680)\ttotal: 1m 39s\tremaining: 45.4s\n",
      "687:\tlearn: 48.6730148\ttest: 50.7971385\tbest: 50.7845673 (680)\ttotal: 1m 39s\tremaining: 45.3s\n",
      "688:\tlearn: 48.6539297\ttest: 50.7913131\tbest: 50.7845673 (680)\ttotal: 1m 40s\tremaining: 45.2s\n",
      "689:\tlearn: 48.6220523\ttest: 50.7850617\tbest: 50.7845673 (680)\ttotal: 1m 40s\tremaining: 45s\n",
      "690:\tlearn: 48.6211555\ttest: 50.7857853\tbest: 50.7845673 (680)\ttotal: 1m 40s\tremaining: 44.9s\n",
      "691:\tlearn: 48.6195956\ttest: 50.7852042\tbest: 50.7845673 (680)\ttotal: 1m 40s\tremaining: 44.8s\n",
      "692:\tlearn: 48.6102823\ttest: 50.7861676\tbest: 50.7845673 (680)\ttotal: 1m 40s\tremaining: 44.6s\n",
      "693:\tlearn: 48.6019398\ttest: 50.7930962\tbest: 50.7845673 (680)\ttotal: 1m 41s\tremaining: 44.5s\n",
      "694:\tlearn: 48.5742619\ttest: 50.7767066\tbest: 50.7767066 (694)\ttotal: 1m 41s\tremaining: 44.4s\n",
      "695:\tlearn: 48.5537992\ttest: 50.7618809\tbest: 50.7618809 (695)\ttotal: 1m 41s\tremaining: 44.2s\n",
      "696:\tlearn: 48.5476486\ttest: 50.7612907\tbest: 50.7612907 (696)\ttotal: 1m 41s\tremaining: 44.1s\n",
      "697:\tlearn: 48.5350853\ttest: 50.7532768\tbest: 50.7532768 (697)\ttotal: 1m 41s\tremaining: 44s\n",
      "698:\tlearn: 48.5346466\ttest: 50.7540813\tbest: 50.7532768 (697)\ttotal: 1m 41s\tremaining: 43.8s\n",
      "699:\tlearn: 48.5272433\ttest: 50.7548910\tbest: 50.7532768 (697)\ttotal: 1m 41s\tremaining: 43.7s\n",
      "700:\tlearn: 48.5186143\ttest: 50.7560394\tbest: 50.7532768 (697)\ttotal: 1m 42s\tremaining: 43.5s\n",
      "701:\tlearn: 48.5174904\ttest: 50.7558598\tbest: 50.7532768 (697)\ttotal: 1m 42s\tremaining: 43.4s\n",
      "702:\tlearn: 48.5108564\ttest: 50.7571910\tbest: 50.7532768 (697)\ttotal: 1m 42s\tremaining: 43.2s\n",
      "703:\tlearn: 48.5064084\ttest: 50.7588058\tbest: 50.7532768 (697)\ttotal: 1m 42s\tremaining: 43.1s\n",
      "704:\tlearn: 48.4992621\ttest: 50.7577890\tbest: 50.7532768 (697)\ttotal: 1m 42s\tremaining: 42.9s\n",
      "705:\tlearn: 48.4851203\ttest: 50.7313189\tbest: 50.7313189 (705)\ttotal: 1m 42s\tremaining: 42.8s\n",
      "706:\tlearn: 48.4782611\ttest: 50.7286850\tbest: 50.7286850 (706)\ttotal: 1m 42s\tremaining: 42.7s\n",
      "707:\tlearn: 48.4356045\ttest: 50.7103801\tbest: 50.7103801 (707)\ttotal: 1m 43s\tremaining: 42.5s\n",
      "708:\tlearn: 48.4225999\ttest: 50.6975622\tbest: 50.6975622 (708)\ttotal: 1m 43s\tremaining: 42.4s\n",
      "709:\tlearn: 48.4105968\ttest: 50.6956134\tbest: 50.6956134 (709)\ttotal: 1m 43s\tremaining: 42.3s\n",
      "710:\tlearn: 48.3987338\ttest: 50.6828809\tbest: 50.6828809 (710)\ttotal: 1m 43s\tremaining: 42.1s\n"
     ]
    },
    {
     "name": "stdout",
     "output_type": "stream",
     "text": [
      "711:\tlearn: 48.3866326\ttest: 50.6802587\tbest: 50.6802587 (711)\ttotal: 1m 43s\tremaining: 42s\n",
      "712:\tlearn: 48.3848905\ttest: 50.6807097\tbest: 50.6802587 (711)\ttotal: 1m 43s\tremaining: 41.8s\n",
      "713:\tlearn: 48.3836649\ttest: 50.6806524\tbest: 50.6802587 (711)\ttotal: 1m 44s\tremaining: 41.7s\n",
      "714:\tlearn: 48.3666284\ttest: 50.6737814\tbest: 50.6737814 (714)\ttotal: 1m 44s\tremaining: 41.6s\n",
      "715:\tlearn: 48.3498166\ttest: 50.6777647\tbest: 50.6737814 (714)\ttotal: 1m 44s\tremaining: 41.4s\n",
      "716:\tlearn: 48.3470098\ttest: 50.6772476\tbest: 50.6737814 (714)\ttotal: 1m 44s\tremaining: 41.3s\n",
      "717:\tlearn: 48.3126970\ttest: 50.6499376\tbest: 50.6499376 (717)\ttotal: 1m 44s\tremaining: 41.1s\n",
      "718:\tlearn: 48.3118282\ttest: 50.6501463\tbest: 50.6499376 (717)\ttotal: 1m 44s\tremaining: 41s\n",
      "719:\tlearn: 48.3094996\ttest: 50.6498820\tbest: 50.6498820 (719)\ttotal: 1m 45s\tremaining: 40.8s\n",
      "720:\tlearn: 48.3059990\ttest: 50.6520355\tbest: 50.6498820 (719)\ttotal: 1m 45s\tremaining: 40.7s\n",
      "721:\tlearn: 48.2739479\ttest: 50.6169691\tbest: 50.6169691 (721)\ttotal: 1m 45s\tremaining: 40.6s\n",
      "722:\tlearn: 48.2669330\ttest: 50.6138757\tbest: 50.6138757 (722)\ttotal: 1m 45s\tremaining: 40.4s\n",
      "723:\tlearn: 48.2649148\ttest: 50.6139370\tbest: 50.6138757 (722)\ttotal: 1m 45s\tremaining: 40.3s\n",
      "724:\tlearn: 48.2573982\ttest: 50.6145527\tbest: 50.6138757 (722)\ttotal: 1m 45s\tremaining: 40.2s\n",
      "725:\tlearn: 48.2515782\ttest: 50.6121121\tbest: 50.6121121 (725)\ttotal: 1m 46s\tremaining: 40s\n",
      "726:\tlearn: 48.2404422\ttest: 50.6031167\tbest: 50.6031167 (726)\ttotal: 1m 46s\tremaining: 39.9s\n",
      "727:\tlearn: 48.2286608\ttest: 50.5996071\tbest: 50.5996071 (727)\ttotal: 1m 46s\tremaining: 39.8s\n",
      "728:\tlearn: 48.2211623\ttest: 50.6006410\tbest: 50.5996071 (727)\ttotal: 1m 46s\tremaining: 39.6s\n",
      "729:\tlearn: 48.1974422\ttest: 50.5476293\tbest: 50.5476293 (729)\ttotal: 1m 46s\tremaining: 39.5s\n",
      "730:\tlearn: 48.1935317\ttest: 50.5470115\tbest: 50.5470115 (730)\ttotal: 1m 46s\tremaining: 39.3s\n",
      "731:\tlearn: 48.1884331\ttest: 50.5458194\tbest: 50.5458194 (731)\ttotal: 1m 47s\tremaining: 39.2s\n",
      "732:\tlearn: 48.1769382\ttest: 50.5427443\tbest: 50.5427443 (732)\ttotal: 1m 47s\tremaining: 39s\n",
      "733:\tlearn: 48.1655890\ttest: 50.5152497\tbest: 50.5152497 (733)\ttotal: 1m 47s\tremaining: 38.9s\n",
      "734:\tlearn: 48.1375571\ttest: 50.4933936\tbest: 50.4933936 (734)\ttotal: 1m 47s\tremaining: 38.8s\n",
      "735:\tlearn: 48.1368485\ttest: 50.4934998\tbest: 50.4933936 (734)\ttotal: 1m 47s\tremaining: 38.6s\n",
      "736:\tlearn: 48.1250539\ttest: 50.4886914\tbest: 50.4886914 (736)\ttotal: 1m 47s\tremaining: 38.5s\n",
      "737:\tlearn: 48.1062709\ttest: 50.4951942\tbest: 50.4886914 (736)\ttotal: 1m 48s\tremaining: 38.3s\n",
      "738:\tlearn: 48.0618004\ttest: 50.4523423\tbest: 50.4523423 (738)\ttotal: 1m 48s\tremaining: 38.2s\n",
      "739:\tlearn: 48.0567279\ttest: 50.4508516\tbest: 50.4508516 (739)\ttotal: 1m 48s\tremaining: 38.1s\n",
      "740:\tlearn: 48.0474036\ttest: 50.4328707\tbest: 50.4328707 (740)\ttotal: 1m 48s\tremaining: 37.9s\n",
      "741:\tlearn: 48.0395579\ttest: 50.4292892\tbest: 50.4292892 (741)\ttotal: 1m 48s\tremaining: 37.8s\n",
      "742:\tlearn: 48.0358242\ttest: 50.4300134\tbest: 50.4292892 (741)\ttotal: 1m 48s\tremaining: 37.6s\n",
      "743:\tlearn: 48.0304048\ttest: 50.4323804\tbest: 50.4292892 (741)\ttotal: 1m 48s\tremaining: 37.5s\n",
      "744:\tlearn: 47.9898876\ttest: 50.3637106\tbest: 50.3637106 (744)\ttotal: 1m 49s\tremaining: 37.3s\n",
      "745:\tlearn: 47.9682656\ttest: 50.3517716\tbest: 50.3517716 (745)\ttotal: 1m 49s\tremaining: 37.2s\n",
      "746:\tlearn: 47.9558152\ttest: 50.3470007\tbest: 50.3470007 (746)\ttotal: 1m 49s\tremaining: 37s\n",
      "747:\tlearn: 47.9532467\ttest: 50.3469046\tbest: 50.3469046 (747)\ttotal: 1m 49s\tremaining: 36.9s\n",
      "748:\tlearn: 47.9448701\ttest: 50.3469288\tbest: 50.3469046 (747)\ttotal: 1m 49s\tremaining: 36.7s\n",
      "749:\tlearn: 47.9336373\ttest: 50.3355777\tbest: 50.3355777 (749)\ttotal: 1m 49s\tremaining: 36.6s\n",
      "750:\tlearn: 47.9298018\ttest: 50.3360589\tbest: 50.3355777 (749)\ttotal: 1m 49s\tremaining: 36.4s\n",
      "751:\tlearn: 47.9212546\ttest: 50.3323217\tbest: 50.3323217 (751)\ttotal: 1m 50s\tremaining: 36.3s\n",
      "752:\tlearn: 47.9072847\ttest: 50.3264681\tbest: 50.3264681 (752)\ttotal: 1m 50s\tremaining: 36.2s\n",
      "753:\tlearn: 47.9028940\ttest: 50.3272125\tbest: 50.3264681 (752)\ttotal: 1m 50s\tremaining: 36s\n",
      "754:\tlearn: 47.8954113\ttest: 50.3260944\tbest: 50.3260944 (754)\ttotal: 1m 50s\tremaining: 35.9s\n",
      "755:\tlearn: 47.8846612\ttest: 50.3274449\tbest: 50.3260944 (754)\ttotal: 1m 51s\tremaining: 35.8s\n",
      "756:\tlearn: 47.8842363\ttest: 50.3274433\tbest: 50.3260944 (754)\ttotal: 1m 51s\tremaining: 35.7s\n",
      "757:\tlearn: 47.8818882\ttest: 50.3268403\tbest: 50.3260944 (754)\ttotal: 1m 51s\tremaining: 35.6s\n",
      "758:\tlearn: 47.8653591\ttest: 50.3392283\tbest: 50.3260944 (754)\ttotal: 1m 51s\tremaining: 35.5s\n",
      "759:\tlearn: 47.8591807\ttest: 50.3400976\tbest: 50.3260944 (754)\ttotal: 1m 51s\tremaining: 35.3s\n",
      "760:\tlearn: 47.8569865\ttest: 50.3382118\tbest: 50.3260944 (754)\ttotal: 1m 52s\tremaining: 35.2s\n",
      "761:\tlearn: 47.8548750\ttest: 50.3310475\tbest: 50.3260944 (754)\ttotal: 1m 52s\tremaining: 35s\n",
      "762:\tlearn: 47.8528342\ttest: 50.3321250\tbest: 50.3260944 (754)\ttotal: 1m 52s\tremaining: 34.9s\n",
      "763:\tlearn: 47.8427614\ttest: 50.3232065\tbest: 50.3232065 (763)\ttotal: 1m 52s\tremaining: 34.7s\n",
      "764:\tlearn: 47.8299069\ttest: 50.3159491\tbest: 50.3159491 (764)\ttotal: 1m 52s\tremaining: 34.6s\n",
      "765:\tlearn: 47.8218078\ttest: 50.2890412\tbest: 50.2890412 (765)\ttotal: 1m 52s\tremaining: 34.5s\n",
      "766:\tlearn: 47.7828253\ttest: 50.2580562\tbest: 50.2580562 (766)\ttotal: 1m 53s\tremaining: 34.3s\n",
      "767:\tlearn: 47.7527622\ttest: 50.2369096\tbest: 50.2369096 (767)\ttotal: 1m 53s\tremaining: 34.2s\n",
      "768:\tlearn: 47.7500479\ttest: 50.2386383\tbest: 50.2369096 (767)\ttotal: 1m 53s\tremaining: 34s\n",
      "769:\tlearn: 47.7433620\ttest: 50.2355485\tbest: 50.2355485 (769)\ttotal: 1m 53s\tremaining: 33.9s\n",
      "770:\tlearn: 47.7386405\ttest: 50.2336363\tbest: 50.2336363 (770)\ttotal: 1m 53s\tremaining: 33.8s\n",
      "771:\tlearn: 47.7144758\ttest: 50.2085389\tbest: 50.2085389 (771)\ttotal: 1m 53s\tremaining: 33.6s\n",
      "772:\tlearn: 47.7122277\ttest: 50.2081191\tbest: 50.2081191 (772)\ttotal: 1m 53s\tremaining: 33.5s\n",
      "773:\tlearn: 47.6972900\ttest: 50.2044414\tbest: 50.2044414 (773)\ttotal: 1m 54s\tremaining: 33.3s\n",
      "774:\tlearn: 47.6912445\ttest: 50.2065402\tbest: 50.2044414 (773)\ttotal: 1m 54s\tremaining: 33.2s\n",
      "775:\tlearn: 47.6815434\ttest: 50.1981639\tbest: 50.1981639 (775)\ttotal: 1m 54s\tremaining: 33s\n",
      "776:\tlearn: 47.6809163\ttest: 50.1981818\tbest: 50.1981639 (775)\ttotal: 1m 54s\tremaining: 32.9s\n",
      "777:\tlearn: 47.6807427\ttest: 50.1981817\tbest: 50.1981639 (775)\ttotal: 1m 54s\tremaining: 32.7s\n",
      "778:\tlearn: 47.6705532\ttest: 50.1897650\tbest: 50.1897650 (778)\ttotal: 1m 54s\tremaining: 32.6s\n",
      "779:\tlearn: 47.6683001\ttest: 50.1895839\tbest: 50.1895839 (779)\ttotal: 1m 54s\tremaining: 32.4s\n",
      "780:\tlearn: 47.6478415\ttest: 50.1908813\tbest: 50.1895839 (779)\ttotal: 1m 55s\tremaining: 32.3s\n",
      "781:\tlearn: 47.6409596\ttest: 50.1953596\tbest: 50.1895839 (779)\ttotal: 1m 55s\tremaining: 32.1s\n",
      "782:\tlearn: 47.6355028\ttest: 50.1934190\tbest: 50.1895839 (779)\ttotal: 1m 55s\tremaining: 32s\n",
      "783:\tlearn: 47.6306565\ttest: 50.1930114\tbest: 50.1895839 (779)\ttotal: 1m 55s\tremaining: 31.8s\n",
      "784:\tlearn: 47.6300934\ttest: 50.1937801\tbest: 50.1895839 (779)\ttotal: 1m 55s\tremaining: 31.7s\n",
      "785:\tlearn: 47.6238582\ttest: 50.1900786\tbest: 50.1895839 (779)\ttotal: 1m 55s\tremaining: 31.5s\n",
      "786:\tlearn: 47.6138388\ttest: 50.1852920\tbest: 50.1852920 (786)\ttotal: 1m 55s\tremaining: 31.4s\n",
      "787:\tlearn: 47.5946841\ttest: 50.2011582\tbest: 50.1852920 (786)\ttotal: 1m 56s\tremaining: 31.2s\n",
      "788:\tlearn: 47.5937622\ttest: 50.2009556\tbest: 50.1852920 (786)\ttotal: 1m 56s\tremaining: 31.1s\n",
      "789:\tlearn: 47.5893909\ttest: 50.2014751\tbest: 50.1852920 (786)\ttotal: 1m 56s\tremaining: 30.9s\n",
      "790:\tlearn: 47.5835229\ttest: 50.2016718\tbest: 50.1852920 (786)\ttotal: 1m 56s\tremaining: 30.8s\n",
      "791:\tlearn: 47.5726756\ttest: 50.1975657\tbest: 50.1852920 (786)\ttotal: 1m 56s\tremaining: 30.6s\n",
      "792:\tlearn: 47.5587554\ttest: 50.1664296\tbest: 50.1664296 (792)\ttotal: 1m 56s\tremaining: 30.5s\n",
      "793:\tlearn: 47.5496539\ttest: 50.1656797\tbest: 50.1656797 (793)\ttotal: 1m 57s\tremaining: 30.4s\n",
      "794:\tlearn: 47.5430711\ttest: 50.1654418\tbest: 50.1654418 (794)\ttotal: 1m 57s\tremaining: 30.2s\n",
      "795:\tlearn: 47.5397103\ttest: 50.1656029\tbest: 50.1654418 (794)\ttotal: 1m 57s\tremaining: 30.1s\n",
      "796:\tlearn: 47.5308936\ttest: 50.1661508\tbest: 50.1654418 (794)\ttotal: 1m 57s\tremaining: 29.9s\n",
      "797:\tlearn: 47.5273662\ttest: 50.1663273\tbest: 50.1654418 (794)\ttotal: 1m 57s\tremaining: 29.8s\n",
      "798:\tlearn: 47.5221659\ttest: 50.1668781\tbest: 50.1654418 (794)\ttotal: 1m 57s\tremaining: 29.7s\n",
      "799:\tlearn: 47.5172099\ttest: 50.1661491\tbest: 50.1654418 (794)\ttotal: 1m 58s\tremaining: 29.5s\n"
     ]
    },
    {
     "name": "stdout",
     "output_type": "stream",
     "text": [
      "800:\tlearn: 47.5148979\ttest: 50.1661191\tbest: 50.1654418 (794)\ttotal: 1m 58s\tremaining: 29.4s\n",
      "801:\tlearn: 47.5073836\ttest: 50.1652008\tbest: 50.1652008 (801)\ttotal: 1m 58s\tremaining: 29.2s\n",
      "802:\tlearn: 47.4999435\ttest: 50.1647157\tbest: 50.1647157 (802)\ttotal: 1m 58s\tremaining: 29.1s\n",
      "803:\tlearn: 47.4946010\ttest: 50.1670176\tbest: 50.1647157 (802)\ttotal: 1m 58s\tremaining: 28.9s\n",
      "804:\tlearn: 47.4909415\ttest: 50.1700323\tbest: 50.1647157 (802)\ttotal: 1m 58s\tremaining: 28.8s\n",
      "805:\tlearn: 47.4907934\ttest: 50.1700369\tbest: 50.1647157 (802)\ttotal: 1m 59s\tremaining: 28.6s\n",
      "806:\tlearn: 47.4736580\ttest: 50.1627222\tbest: 50.1627222 (806)\ttotal: 1m 59s\tremaining: 28.5s\n",
      "807:\tlearn: 47.4567960\ttest: 50.1643814\tbest: 50.1627222 (806)\ttotal: 1m 59s\tremaining: 28.3s\n",
      "808:\tlearn: 47.4411892\ttest: 50.1497099\tbest: 50.1497099 (808)\ttotal: 1m 59s\tremaining: 28.2s\n",
      "809:\tlearn: 47.4394597\ttest: 50.1490669\tbest: 50.1490669 (809)\ttotal: 1m 59s\tremaining: 28s\n",
      "810:\tlearn: 47.4343603\ttest: 50.1478429\tbest: 50.1478429 (810)\ttotal: 1m 59s\tremaining: 27.9s\n",
      "811:\tlearn: 47.4164143\ttest: 50.1309719\tbest: 50.1309719 (811)\ttotal: 1m 59s\tremaining: 27.7s\n",
      "812:\tlearn: 47.4114691\ttest: 50.1284941\tbest: 50.1284941 (812)\ttotal: 1m 59s\tremaining: 27.6s\n",
      "813:\tlearn: 47.4025760\ttest: 50.1352124\tbest: 50.1284941 (812)\ttotal: 2m\tremaining: 27.4s\n",
      "814:\tlearn: 47.3947782\ttest: 50.1204483\tbest: 50.1204483 (814)\ttotal: 2m\tremaining: 27.3s\n",
      "815:\tlearn: 47.3945164\ttest: 50.1206593\tbest: 50.1204483 (814)\ttotal: 2m\tremaining: 27.1s\n",
      "816:\tlearn: 47.3916628\ttest: 50.1207450\tbest: 50.1204483 (814)\ttotal: 2m\tremaining: 27s\n",
      "817:\tlearn: 47.3855159\ttest: 50.1106207\tbest: 50.1106207 (817)\ttotal: 2m\tremaining: 26.8s\n",
      "818:\tlearn: 47.3850306\ttest: 50.1113764\tbest: 50.1106207 (817)\ttotal: 2m\tremaining: 26.7s\n",
      "819:\tlearn: 47.3753105\ttest: 50.1095859\tbest: 50.1095859 (819)\ttotal: 2m\tremaining: 26.5s\n",
      "820:\tlearn: 47.3732571\ttest: 50.1085850\tbest: 50.1085850 (820)\ttotal: 2m 1s\tremaining: 26.4s\n",
      "821:\tlearn: 47.3719478\ttest: 50.1092605\tbest: 50.1085850 (820)\ttotal: 2m 1s\tremaining: 26.3s\n",
      "822:\tlearn: 47.3698258\ttest: 50.1098081\tbest: 50.1085850 (820)\ttotal: 2m 1s\tremaining: 26.1s\n",
      "823:\tlearn: 47.3623923\ttest: 50.1110872\tbest: 50.1085850 (820)\ttotal: 2m 1s\tremaining: 26s\n",
      "824:\tlearn: 47.3450412\ttest: 50.0958258\tbest: 50.0958258 (824)\ttotal: 2m 1s\tremaining: 25.8s\n",
      "825:\tlearn: 47.3385130\ttest: 50.0965598\tbest: 50.0958258 (824)\ttotal: 2m 1s\tremaining: 25.7s\n",
      "826:\tlearn: 47.3236591\ttest: 50.0999098\tbest: 50.0958258 (824)\ttotal: 2m 2s\tremaining: 25.5s\n",
      "827:\tlearn: 47.3153291\ttest: 50.0969575\tbest: 50.0958258 (824)\ttotal: 2m 2s\tremaining: 25.4s\n",
      "828:\tlearn: 47.3135795\ttest: 50.0967294\tbest: 50.0958258 (824)\ttotal: 2m 2s\tremaining: 25.2s\n",
      "829:\tlearn: 47.2937545\ttest: 50.1050564\tbest: 50.0958258 (824)\ttotal: 2m 2s\tremaining: 25.1s\n",
      "830:\tlearn: 47.2896551\ttest: 50.1036131\tbest: 50.0958258 (824)\ttotal: 2m 2s\tremaining: 24.9s\n",
      "831:\tlearn: 47.2775223\ttest: 50.1056570\tbest: 50.0958258 (824)\ttotal: 2m 2s\tremaining: 24.8s\n",
      "832:\tlearn: 47.2709556\ttest: 50.1027288\tbest: 50.0958258 (824)\ttotal: 2m 2s\tremaining: 24.6s\n",
      "833:\tlearn: 47.2700368\ttest: 50.1029114\tbest: 50.0958258 (824)\ttotal: 2m 3s\tremaining: 24.5s\n",
      "834:\tlearn: 47.2587777\ttest: 50.0913814\tbest: 50.0913814 (834)\ttotal: 2m 3s\tremaining: 24.4s\n",
      "835:\tlearn: 47.2535906\ttest: 50.0946077\tbest: 50.0913814 (834)\ttotal: 2m 3s\tremaining: 24.2s\n",
      "836:\tlearn: 47.2389073\ttest: 50.0682474\tbest: 50.0682474 (836)\ttotal: 2m 3s\tremaining: 24.1s\n",
      "837:\tlearn: 47.2373654\ttest: 50.0677682\tbest: 50.0677682 (837)\ttotal: 2m 3s\tremaining: 23.9s\n",
      "838:\tlearn: 47.2268190\ttest: 50.0692180\tbest: 50.0677682 (837)\ttotal: 2m 3s\tremaining: 23.8s\n",
      "839:\tlearn: 47.2237487\ttest: 50.0700308\tbest: 50.0677682 (837)\ttotal: 2m 4s\tremaining: 23.6s\n",
      "840:\tlearn: 47.2200745\ttest: 50.0705796\tbest: 50.0677682 (837)\ttotal: 2m 4s\tremaining: 23.5s\n",
      "841:\tlearn: 47.2118143\ttest: 50.0793233\tbest: 50.0677682 (837)\ttotal: 2m 4s\tremaining: 23.3s\n",
      "842:\tlearn: 47.2080317\ttest: 50.0770209\tbest: 50.0677682 (837)\ttotal: 2m 4s\tremaining: 23.2s\n",
      "843:\tlearn: 47.1983456\ttest: 50.0745816\tbest: 50.0677682 (837)\ttotal: 2m 4s\tremaining: 23s\n",
      "844:\tlearn: 47.1747201\ttest: 50.0421842\tbest: 50.0421842 (844)\ttotal: 2m 4s\tremaining: 22.9s\n",
      "845:\tlearn: 47.1745768\ttest: 50.0421844\tbest: 50.0421842 (844)\ttotal: 2m 5s\tremaining: 22.8s\n",
      "846:\tlearn: 47.1705728\ttest: 50.0474357\tbest: 50.0421842 (844)\ttotal: 2m 5s\tremaining: 22.6s\n",
      "847:\tlearn: 47.1562667\ttest: 50.0585533\tbest: 50.0421842 (844)\ttotal: 2m 5s\tremaining: 22.5s\n",
      "848:\tlearn: 47.1374515\ttest: 50.0491483\tbest: 50.0421842 (844)\ttotal: 2m 5s\tremaining: 22.3s\n",
      "849:\tlearn: 47.1356547\ttest: 50.0482770\tbest: 50.0421842 (844)\ttotal: 2m 5s\tremaining: 22.2s\n",
      "850:\tlearn: 47.1253511\ttest: 50.0538892\tbest: 50.0421842 (844)\ttotal: 2m 5s\tremaining: 22s\n",
      "851:\tlearn: 47.0912893\ttest: 50.0287345\tbest: 50.0287345 (851)\ttotal: 2m 5s\tremaining: 21.9s\n",
      "852:\tlearn: 47.0698814\ttest: 49.9753147\tbest: 49.9753147 (852)\ttotal: 2m 6s\tremaining: 21.7s\n",
      "853:\tlearn: 47.0640396\ttest: 49.9759238\tbest: 49.9753147 (852)\ttotal: 2m 6s\tremaining: 21.6s\n",
      "854:\tlearn: 47.0616192\ttest: 49.9756546\tbest: 49.9753147 (852)\ttotal: 2m 6s\tremaining: 21.4s\n",
      "855:\tlearn: 47.0599796\ttest: 49.9761776\tbest: 49.9753147 (852)\ttotal: 2m 6s\tremaining: 21.3s\n",
      "856:\tlearn: 47.0597868\ttest: 49.9761605\tbest: 49.9753147 (852)\ttotal: 2m 6s\tremaining: 21.1s\n",
      "857:\tlearn: 47.0575587\ttest: 49.9764515\tbest: 49.9753147 (852)\ttotal: 2m 6s\tremaining: 21s\n",
      "858:\tlearn: 47.0526852\ttest: 49.9692527\tbest: 49.9692527 (858)\ttotal: 2m 7s\tremaining: 20.8s\n",
      "859:\tlearn: 47.0506593\ttest: 49.9701225\tbest: 49.9692527 (858)\ttotal: 2m 7s\tremaining: 20.7s\n",
      "860:\tlearn: 47.0435678\ttest: 49.9706900\tbest: 49.9692527 (858)\ttotal: 2m 7s\tremaining: 20.6s\n",
      "861:\tlearn: 47.0029513\ttest: 49.9362626\tbest: 49.9362626 (861)\ttotal: 2m 7s\tremaining: 20.4s\n",
      "862:\tlearn: 47.0029484\ttest: 49.9361792\tbest: 49.9361792 (862)\ttotal: 2m 7s\tremaining: 20.3s\n",
      "863:\tlearn: 46.9914865\ttest: 49.9379487\tbest: 49.9361792 (862)\ttotal: 2m 7s\tremaining: 20.1s\n",
      "864:\tlearn: 46.9835481\ttest: 49.9386240\tbest: 49.9361792 (862)\ttotal: 2m 7s\tremaining: 20s\n",
      "865:\tlearn: 46.9731325\ttest: 49.9325386\tbest: 49.9325386 (865)\ttotal: 2m 7s\tremaining: 19.8s\n",
      "866:\tlearn: 46.9676293\ttest: 49.9331884\tbest: 49.9325386 (865)\ttotal: 2m 8s\tremaining: 19.6s\n",
      "867:\tlearn: 46.9655916\ttest: 49.9324715\tbest: 49.9324715 (867)\ttotal: 2m 8s\tremaining: 19.5s\n",
      "868:\tlearn: 46.9655900\ttest: 49.9324716\tbest: 49.9324715 (867)\ttotal: 2m 8s\tremaining: 19.3s\n",
      "869:\tlearn: 46.9623431\ttest: 49.9299348\tbest: 49.9299348 (869)\ttotal: 2m 8s\tremaining: 19.2s\n",
      "870:\tlearn: 46.9526341\ttest: 49.9083228\tbest: 49.9083228 (870)\ttotal: 2m 8s\tremaining: 19.1s\n",
      "871:\tlearn: 46.9318286\ttest: 49.9018957\tbest: 49.9018957 (871)\ttotal: 2m 8s\tremaining: 18.9s\n",
      "872:\tlearn: 46.9111977\ttest: 49.8860212\tbest: 49.8860212 (872)\ttotal: 2m 9s\tremaining: 18.8s\n",
      "873:\tlearn: 46.9107928\ttest: 49.8864694\tbest: 49.8860212 (872)\ttotal: 2m 9s\tremaining: 18.6s\n",
      "874:\tlearn: 46.9020161\ttest: 49.8874989\tbest: 49.8860212 (872)\ttotal: 2m 9s\tremaining: 18.5s\n",
      "875:\tlearn: 46.8607070\ttest: 49.8467843\tbest: 49.8467843 (875)\ttotal: 2m 9s\tremaining: 18.3s\n",
      "876:\tlearn: 46.8542419\ttest: 49.8470749\tbest: 49.8467843 (875)\ttotal: 2m 9s\tremaining: 18.2s\n",
      "877:\tlearn: 46.8539865\ttest: 49.8475213\tbest: 49.8467843 (875)\ttotal: 2m 9s\tremaining: 18s\n",
      "878:\tlearn: 46.8238140\ttest: 49.8147097\tbest: 49.8147097 (878)\ttotal: 2m 9s\tremaining: 17.9s\n",
      "879:\tlearn: 46.8231109\ttest: 49.8146907\tbest: 49.8146907 (879)\ttotal: 2m 10s\tremaining: 17.7s\n",
      "880:\tlearn: 46.8223194\ttest: 49.8158351\tbest: 49.8146907 (879)\ttotal: 2m 10s\tremaining: 17.6s\n",
      "881:\tlearn: 46.8182760\ttest: 49.8148641\tbest: 49.8146907 (879)\ttotal: 2m 10s\tremaining: 17.4s\n",
      "882:\tlearn: 46.8126621\ttest: 49.8168657\tbest: 49.8146907 (879)\ttotal: 2m 10s\tremaining: 17.3s\n",
      "883:\tlearn: 46.7972610\ttest: 49.8084296\tbest: 49.8084296 (883)\ttotal: 2m 10s\tremaining: 17.1s\n",
      "884:\tlearn: 46.7960991\ttest: 49.8085279\tbest: 49.8084296 (883)\ttotal: 2m 10s\tremaining: 17s\n",
      "885:\tlearn: 46.7850861\ttest: 49.8086554\tbest: 49.8084296 (883)\ttotal: 2m 10s\tremaining: 16.8s\n",
      "886:\tlearn: 46.7671450\ttest: 49.8072802\tbest: 49.8072802 (886)\ttotal: 2m 10s\tremaining: 16.7s\n",
      "887:\tlearn: 46.7440409\ttest: 49.7865043\tbest: 49.7865043 (887)\ttotal: 2m 11s\tremaining: 16.5s\n",
      "888:\tlearn: 46.7334728\ttest: 49.7787481\tbest: 49.7787481 (888)\ttotal: 2m 11s\tremaining: 16.4s\n"
     ]
    },
    {
     "name": "stdout",
     "output_type": "stream",
     "text": [
      "889:\tlearn: 46.6847909\ttest: 49.7151224\tbest: 49.7151224 (889)\ttotal: 2m 11s\tremaining: 16.2s\n",
      "890:\tlearn: 46.6589290\ttest: 49.7037435\tbest: 49.7037435 (890)\ttotal: 2m 11s\tremaining: 16.1s\n",
      "891:\tlearn: 46.6307109\ttest: 49.6779681\tbest: 49.6779681 (891)\ttotal: 2m 11s\tremaining: 16s\n",
      "892:\tlearn: 46.6096797\ttest: 49.6639555\tbest: 49.6639555 (892)\ttotal: 2m 11s\tremaining: 15.8s\n",
      "893:\tlearn: 46.5694048\ttest: 49.6573899\tbest: 49.6573899 (893)\ttotal: 2m 12s\tremaining: 15.7s\n",
      "894:\tlearn: 46.5667018\ttest: 49.6569679\tbest: 49.6569679 (894)\ttotal: 2m 12s\tremaining: 15.5s\n",
      "895:\tlearn: 46.5610738\ttest: 49.6554919\tbest: 49.6554919 (895)\ttotal: 2m 12s\tremaining: 15.4s\n",
      "896:\tlearn: 46.5567748\ttest: 49.6546740\tbest: 49.6546740 (896)\ttotal: 2m 12s\tremaining: 15.2s\n",
      "897:\tlearn: 46.5562246\ttest: 49.6546346\tbest: 49.6546346 (897)\ttotal: 2m 12s\tremaining: 15.1s\n",
      "898:\tlearn: 46.5518556\ttest: 49.6505355\tbest: 49.6505355 (898)\ttotal: 2m 12s\tremaining: 14.9s\n",
      "899:\tlearn: 46.5352481\ttest: 49.6483499\tbest: 49.6483499 (899)\ttotal: 2m 13s\tremaining: 14.8s\n",
      "900:\tlearn: 46.4961469\ttest: 49.6555725\tbest: 49.6483499 (899)\ttotal: 2m 13s\tremaining: 14.6s\n",
      "901:\tlearn: 46.4856031\ttest: 49.6543344\tbest: 49.6483499 (899)\ttotal: 2m 13s\tremaining: 14.5s\n",
      "902:\tlearn: 46.4802048\ttest: 49.6551038\tbest: 49.6483499 (899)\ttotal: 2m 13s\tremaining: 14.3s\n",
      "903:\tlearn: 46.4801106\ttest: 49.6555332\tbest: 49.6483499 (899)\ttotal: 2m 13s\tremaining: 14.2s\n",
      "904:\tlearn: 46.4729927\ttest: 49.6558395\tbest: 49.6483499 (899)\ttotal: 2m 13s\tremaining: 14s\n",
      "905:\tlearn: 46.4554283\ttest: 49.6451288\tbest: 49.6451288 (905)\ttotal: 2m 13s\tremaining: 13.9s\n",
      "906:\tlearn: 46.4327901\ttest: 49.6225422\tbest: 49.6225422 (906)\ttotal: 2m 14s\tremaining: 13.8s\n",
      "907:\tlearn: 46.4283698\ttest: 49.6213858\tbest: 49.6213858 (907)\ttotal: 2m 14s\tremaining: 13.6s\n",
      "908:\tlearn: 46.3794968\ttest: 49.6525344\tbest: 49.6213858 (907)\ttotal: 2m 14s\tremaining: 13.5s\n",
      "909:\tlearn: 46.3697937\ttest: 49.6507645\tbest: 49.6213858 (907)\ttotal: 2m 14s\tremaining: 13.3s\n",
      "910:\tlearn: 46.3628301\ttest: 49.6451177\tbest: 49.6213858 (907)\ttotal: 2m 14s\tremaining: 13.2s\n",
      "911:\tlearn: 46.3453110\ttest: 49.6546473\tbest: 49.6213858 (907)\ttotal: 2m 14s\tremaining: 13s\n",
      "912:\tlearn: 46.3248586\ttest: 49.6466032\tbest: 49.6213858 (907)\ttotal: 2m 15s\tremaining: 12.9s\n",
      "913:\tlearn: 46.3246995\ttest: 49.6470450\tbest: 49.6213858 (907)\ttotal: 2m 15s\tremaining: 12.7s\n",
      "914:\tlearn: 46.3183974\ttest: 49.6426975\tbest: 49.6213858 (907)\ttotal: 2m 15s\tremaining: 12.6s\n",
      "915:\tlearn: 46.2956635\ttest: 49.6427912\tbest: 49.6213858 (907)\ttotal: 2m 15s\tremaining: 12.4s\n",
      "916:\tlearn: 46.2749889\ttest: 49.6451268\tbest: 49.6213858 (907)\ttotal: 2m 15s\tremaining: 12.3s\n",
      "917:\tlearn: 46.2647507\ttest: 49.6328778\tbest: 49.6213858 (907)\ttotal: 2m 15s\tremaining: 12.1s\n",
      "918:\tlearn: 46.2548516\ttest: 49.6289715\tbest: 49.6213858 (907)\ttotal: 2m 16s\tremaining: 12s\n",
      "919:\tlearn: 46.2119598\ttest: 49.6056347\tbest: 49.6056347 (919)\ttotal: 2m 16s\tremaining: 11.8s\n",
      "920:\tlearn: 46.2109446\ttest: 49.6059888\tbest: 49.6056347 (919)\ttotal: 2m 16s\tremaining: 11.7s\n",
      "921:\tlearn: 46.2054107\ttest: 49.6047330\tbest: 49.6047330 (921)\ttotal: 2m 16s\tremaining: 11.5s\n",
      "922:\tlearn: 46.1967515\ttest: 49.5939485\tbest: 49.5939485 (922)\ttotal: 2m 16s\tremaining: 11.4s\n",
      "923:\tlearn: 46.1933550\ttest: 49.5943445\tbest: 49.5939485 (922)\ttotal: 2m 16s\tremaining: 11.3s\n",
      "924:\tlearn: 46.1885899\ttest: 49.5938555\tbest: 49.5938555 (924)\ttotal: 2m 17s\tremaining: 11.1s\n",
      "925:\tlearn: 46.1842397\ttest: 49.5935648\tbest: 49.5935648 (925)\ttotal: 2m 17s\tremaining: 11s\n",
      "926:\tlearn: 46.1825231\ttest: 49.5940678\tbest: 49.5935648 (925)\ttotal: 2m 17s\tremaining: 10.8s\n",
      "927:\tlearn: 46.1644463\ttest: 49.5749885\tbest: 49.5749885 (927)\ttotal: 2m 17s\tremaining: 10.7s\n",
      "928:\tlearn: 46.1569949\ttest: 49.5688790\tbest: 49.5688790 (928)\ttotal: 2m 17s\tremaining: 10.5s\n",
      "929:\tlearn: 46.1514461\ttest: 49.5689057\tbest: 49.5688790 (928)\ttotal: 2m 17s\tremaining: 10.4s\n",
      "930:\tlearn: 46.1485572\ttest: 49.5688644\tbest: 49.5688644 (930)\ttotal: 2m 17s\tremaining: 10.2s\n",
      "931:\tlearn: 46.1449214\ttest: 49.5685004\tbest: 49.5685004 (931)\ttotal: 2m 17s\tremaining: 10.1s\n",
      "932:\tlearn: 46.1394121\ttest: 49.5669293\tbest: 49.5669293 (932)\ttotal: 2m 18s\tremaining: 9.92s\n",
      "933:\tlearn: 46.1205421\ttest: 49.5671370\tbest: 49.5669293 (932)\ttotal: 2m 18s\tremaining: 9.77s\n",
      "934:\tlearn: 46.1144910\ttest: 49.5648598\tbest: 49.5648598 (934)\ttotal: 2m 18s\tremaining: 9.62s\n",
      "935:\tlearn: 46.1093682\ttest: 49.5646748\tbest: 49.5646748 (935)\ttotal: 2m 18s\tremaining: 9.47s\n",
      "936:\tlearn: 46.1056689\ttest: 49.5634895\tbest: 49.5634895 (936)\ttotal: 2m 18s\tremaining: 9.32s\n",
      "937:\tlearn: 46.0794104\ttest: 49.5643221\tbest: 49.5634895 (936)\ttotal: 2m 18s\tremaining: 9.17s\n",
      "938:\tlearn: 46.0701164\ttest: 49.5583154\tbest: 49.5583154 (938)\ttotal: 2m 18s\tremaining: 9.03s\n",
      "939:\tlearn: 46.0633018\ttest: 49.5585435\tbest: 49.5583154 (938)\ttotal: 2m 19s\tremaining: 8.88s\n",
      "940:\tlearn: 46.0610055\ttest: 49.5596184\tbest: 49.5583154 (938)\ttotal: 2m 19s\tremaining: 8.73s\n",
      "941:\tlearn: 46.0550843\ttest: 49.5598928\tbest: 49.5583154 (938)\ttotal: 2m 19s\tremaining: 8.59s\n",
      "942:\tlearn: 46.0499564\ttest: 49.5598714\tbest: 49.5583154 (938)\ttotal: 2m 19s\tremaining: 8.44s\n",
      "943:\tlearn: 46.0470504\ttest: 49.5598318\tbest: 49.5583154 (938)\ttotal: 2m 19s\tremaining: 8.29s\n",
      "944:\tlearn: 46.0428434\ttest: 49.5627258\tbest: 49.5583154 (938)\ttotal: 2m 19s\tremaining: 8.15s\n",
      "945:\tlearn: 46.0388530\ttest: 49.5615264\tbest: 49.5583154 (938)\ttotal: 2m 20s\tremaining: 8s\n",
      "946:\tlearn: 46.0354073\ttest: 49.5676535\tbest: 49.5583154 (938)\ttotal: 2m 20s\tremaining: 7.85s\n",
      "947:\tlearn: 46.0202416\ttest: 49.5768638\tbest: 49.5583154 (938)\ttotal: 2m 20s\tremaining: 7.7s\n",
      "948:\tlearn: 46.0144101\ttest: 49.5756301\tbest: 49.5583154 (938)\ttotal: 2m 20s\tremaining: 7.55s\n",
      "949:\tlearn: 46.0135844\ttest: 49.5745071\tbest: 49.5583154 (938)\ttotal: 2m 20s\tremaining: 7.41s\n",
      "950:\tlearn: 46.0114487\ttest: 49.5767125\tbest: 49.5583154 (938)\ttotal: 2m 20s\tremaining: 7.26s\n",
      "951:\tlearn: 46.0037853\ttest: 49.5755258\tbest: 49.5583154 (938)\ttotal: 2m 21s\tremaining: 7.11s\n",
      "952:\tlearn: 46.0023622\ttest: 49.5753504\tbest: 49.5583154 (938)\ttotal: 2m 21s\tremaining: 6.97s\n",
      "953:\tlearn: 45.9947337\ttest: 49.5740166\tbest: 49.5583154 (938)\ttotal: 2m 21s\tremaining: 6.83s\n",
      "954:\tlearn: 45.9772749\ttest: 49.5800185\tbest: 49.5583154 (938)\ttotal: 2m 21s\tremaining: 6.68s\n",
      "955:\tlearn: 45.9704668\ttest: 49.5847998\tbest: 49.5583154 (938)\ttotal: 2m 21s\tremaining: 6.53s\n",
      "956:\tlearn: 45.9652210\ttest: 49.5767930\tbest: 49.5583154 (938)\ttotal: 2m 21s\tremaining: 6.38s\n",
      "957:\tlearn: 45.9608774\ttest: 49.5779791\tbest: 49.5583154 (938)\ttotal: 2m 22s\tremaining: 6.23s\n",
      "958:\tlearn: 45.9603424\ttest: 49.5778668\tbest: 49.5583154 (938)\ttotal: 2m 22s\tremaining: 6.08s\n",
      "959:\tlearn: 45.9572979\ttest: 49.5790833\tbest: 49.5583154 (938)\ttotal: 2m 22s\tremaining: 5.93s\n",
      "960:\tlearn: 45.9269445\ttest: 49.5573972\tbest: 49.5573972 (960)\ttotal: 2m 22s\tremaining: 5.79s\n",
      "961:\tlearn: 45.8972983\ttest: 49.5720264\tbest: 49.5573972 (960)\ttotal: 2m 22s\tremaining: 5.64s\n",
      "962:\tlearn: 45.8910773\ttest: 49.5695775\tbest: 49.5573972 (960)\ttotal: 2m 22s\tremaining: 5.49s\n",
      "963:\tlearn: 45.8886858\ttest: 49.5722819\tbest: 49.5573972 (960)\ttotal: 2m 23s\tremaining: 5.34s\n",
      "964:\tlearn: 45.8878661\ttest: 49.5722143\tbest: 49.5573972 (960)\ttotal: 2m 23s\tremaining: 5.19s\n",
      "965:\tlearn: 45.8813261\ttest: 49.5777652\tbest: 49.5573972 (960)\ttotal: 2m 23s\tremaining: 5.05s\n",
      "966:\tlearn: 45.8811330\ttest: 49.5781375\tbest: 49.5573972 (960)\ttotal: 2m 23s\tremaining: 4.9s\n",
      "967:\tlearn: 45.8598302\ttest: 49.5889803\tbest: 49.5573972 (960)\ttotal: 2m 23s\tremaining: 4.75s\n",
      "968:\tlearn: 45.8593220\ttest: 49.5860817\tbest: 49.5573972 (960)\ttotal: 2m 23s\tremaining: 4.6s\n",
      "969:\tlearn: 45.8579265\ttest: 49.5864271\tbest: 49.5573972 (960)\ttotal: 2m 24s\tremaining: 4.45s\n",
      "970:\tlearn: 45.8472448\ttest: 49.5782740\tbest: 49.5573972 (960)\ttotal: 2m 24s\tremaining: 4.3s\n",
      "971:\tlearn: 45.8421380\ttest: 49.5759361\tbest: 49.5573972 (960)\ttotal: 2m 24s\tremaining: 4.16s\n",
      "972:\tlearn: 45.8369398\ttest: 49.5738550\tbest: 49.5573972 (960)\ttotal: 2m 24s\tremaining: 4.01s\n",
      "973:\tlearn: 45.8359225\ttest: 49.5732595\tbest: 49.5573972 (960)\ttotal: 2m 24s\tremaining: 3.87s\n",
      "974:\tlearn: 45.8355993\ttest: 49.5729955\tbest: 49.5573972 (960)\ttotal: 2m 25s\tremaining: 3.72s\n",
      "975:\tlearn: 45.8268613\ttest: 49.5740573\tbest: 49.5573972 (960)\ttotal: 2m 25s\tremaining: 3.57s\n",
      "976:\tlearn: 45.8128438\ttest: 49.5674395\tbest: 49.5573972 (960)\ttotal: 2m 25s\tremaining: 3.43s\n"
     ]
    },
    {
     "name": "stdout",
     "output_type": "stream",
     "text": [
      "977:\tlearn: 45.8115015\ttest: 49.5675153\tbest: 49.5573972 (960)\ttotal: 2m 25s\tremaining: 3.28s\n",
      "978:\tlearn: 45.8044124\ttest: 49.5671624\tbest: 49.5573972 (960)\ttotal: 2m 26s\tremaining: 3.13s\n",
      "979:\tlearn: 45.8035294\ttest: 49.5666836\tbest: 49.5573972 (960)\ttotal: 2m 26s\tremaining: 2.98s\n",
      "980:\tlearn: 45.7440364\ttest: 49.5073005\tbest: 49.5073005 (980)\ttotal: 2m 26s\tremaining: 2.84s\n",
      "981:\tlearn: 45.7297471\ttest: 49.5112905\tbest: 49.5073005 (980)\ttotal: 2m 26s\tremaining: 2.69s\n",
      "982:\tlearn: 45.7264645\ttest: 49.5089201\tbest: 49.5073005 (980)\ttotal: 2m 26s\tremaining: 2.54s\n",
      "983:\tlearn: 45.7224776\ttest: 49.5076272\tbest: 49.5073005 (980)\ttotal: 2m 26s\tremaining: 2.39s\n",
      "984:\tlearn: 45.7133739\ttest: 49.5069951\tbest: 49.5069951 (984)\ttotal: 2m 26s\tremaining: 2.24s\n",
      "985:\tlearn: 45.6699861\ttest: 49.4465214\tbest: 49.4465214 (985)\ttotal: 2m 27s\tremaining: 2.09s\n",
      "986:\tlearn: 45.6662707\ttest: 49.4434616\tbest: 49.4434616 (986)\ttotal: 2m 27s\tremaining: 1.94s\n",
      "987:\tlearn: 45.6484070\ttest: 49.4279866\tbest: 49.4279866 (987)\ttotal: 2m 27s\tremaining: 1.79s\n",
      "988:\tlearn: 45.6347895\ttest: 49.4514096\tbest: 49.4279866 (987)\ttotal: 2m 27s\tremaining: 1.64s\n",
      "989:\tlearn: 45.6261128\ttest: 49.4460838\tbest: 49.4279866 (987)\ttotal: 2m 27s\tremaining: 1.49s\n",
      "990:\tlearn: 45.6249936\ttest: 49.4465630\tbest: 49.4279866 (987)\ttotal: 2m 27s\tremaining: 1.34s\n",
      "991:\tlearn: 45.6145825\ttest: 49.4412692\tbest: 49.4279866 (987)\ttotal: 2m 28s\tremaining: 1.19s\n",
      "992:\tlearn: 45.6127943\ttest: 49.4413545\tbest: 49.4279866 (987)\ttotal: 2m 28s\tremaining: 1.04s\n",
      "993:\tlearn: 45.6026043\ttest: 49.4458007\tbest: 49.4279866 (987)\ttotal: 2m 28s\tremaining: 896ms\n",
      "994:\tlearn: 45.5957565\ttest: 49.4464559\tbest: 49.4279866 (987)\ttotal: 2m 28s\tremaining: 746ms\n",
      "995:\tlearn: 45.5934543\ttest: 49.4445409\tbest: 49.4279866 (987)\ttotal: 2m 28s\tremaining: 597ms\n",
      "996:\tlearn: 45.5888509\ttest: 49.4433955\tbest: 49.4279866 (987)\ttotal: 2m 28s\tremaining: 448ms\n",
      "997:\tlearn: 45.5824545\ttest: 49.4432762\tbest: 49.4279866 (987)\ttotal: 2m 29s\tremaining: 299ms\n",
      "998:\tlearn: 45.5796553\ttest: 49.4432619\tbest: 49.4279866 (987)\ttotal: 2m 29s\tremaining: 149ms\n",
      "999:\tlearn: 45.5745591\ttest: 49.4395847\tbest: 49.4279866 (987)\ttotal: 2m 29s\tremaining: 0us\n",
      "\n",
      "bestTest = 49.42798656\n",
      "bestIteration = 987\n",
      "\n",
      "Shrink model to first 988 iterations.\n"
     ]
    },
    {
     "data": {
      "text/plain": [
       "<catboost.core.CatBoostRegressor at 0x1bcb0ab2430>"
      ]
     },
     "execution_count": 243,
     "metadata": {},
     "output_type": "execute_result"
    }
   ],
   "source": [
    "cat = CatBoostRegressor(\n",
    "    iterations=1000,\n",
    "    random_state=42,\n",
    "    loss_function='RMSE',\n",
    ")\n",
    "cat.fit(\n",
    "    X_train,\n",
    "    y_train,\n",
    "    cat_features=list((list(X_train.select_dtypes(\"object\").columns)+[\"Income Level\"])),\n",
    "    eval_set=(X_test, y_test),\n",
    "    plot=True\n",
    ")"
   ]
  },
  {
   "cell_type": "code",
   "execution_count": 244,
   "id": "4860205c",
   "metadata": {},
   "outputs": [
    {
     "data": {
      "text/plain": [
       "44.00779807144021"
      ]
     },
     "execution_count": 244,
     "metadata": {},
     "output_type": "execute_result"
    }
   ],
   "source": [
    "np.sqrt(mean_squared_error(y_train, cat.predict(X_train)))"
   ]
  },
  {
   "cell_type": "code",
   "execution_count": 245,
   "id": "b6587b6a",
   "metadata": {},
   "outputs": [
    {
     "data": {
      "text/plain": [
       "49.4279860224923"
      ]
     },
     "execution_count": 245,
     "metadata": {},
     "output_type": "execute_result"
    }
   ],
   "source": [
    "np.sqrt(mean_squared_error(y_test, cat.predict(X_test)))"
   ]
  },
  {
   "cell_type": "code",
   "execution_count": 4,
   "id": "2c9cc99b",
   "metadata": {},
   "outputs": [],
   "source": []
  },
  {
   "cell_type": "code",
   "execution_count": 118,
   "id": "904444ff",
   "metadata": {},
   "outputs": [],
   "source": []
  },
  {
   "cell_type": "code",
   "execution_count": 107,
   "id": "c28bd25c",
   "metadata": {},
   "outputs": [],
   "source": []
  },
  {
   "cell_type": "code",
   "execution_count": 117,
   "id": "47a2f625",
   "metadata": {},
   "outputs": [],
   "source": []
  },
  {
   "cell_type": "code",
   "execution_count": null,
   "id": "0edabccd",
   "metadata": {},
   "outputs": [],
   "source": []
  },
  {
   "cell_type": "code",
   "execution_count": null,
   "id": "6b210e63",
   "metadata": {},
   "outputs": [],
   "source": []
  },
  {
   "cell_type": "code",
   "execution_count": null,
   "id": "3388c215",
   "metadata": {},
   "outputs": [],
   "source": []
  },
  {
   "cell_type": "code",
   "execution_count": null,
   "id": "bec780fe",
   "metadata": {},
   "outputs": [],
   "source": []
  },
  {
   "cell_type": "code",
   "execution_count": null,
   "id": "72fa402a",
   "metadata": {},
   "outputs": [],
   "source": []
  },
  {
   "cell_type": "code",
   "execution_count": 167,
   "id": "9eddfb4b",
   "metadata": {},
   "outputs": [],
   "source": []
  },
  {
   "cell_type": "code",
   "execution_count": null,
   "id": "8c8acfd7",
   "metadata": {},
   "outputs": [],
   "source": []
  },
  {
   "cell_type": "code",
   "execution_count": null,
   "id": "c03eb917",
   "metadata": {},
   "outputs": [],
   "source": []
  },
  {
   "cell_type": "code",
   "execution_count": 258,
   "id": "a1c34ee6",
   "metadata": {},
   "outputs": [],
   "source": [
    "df.drop(columns=[\"Store Sales\", \"Frozen Area\", \"Net Weight\", \"Store Area\"], inplace = True)"
   ]
  },
  {
   "cell_type": "code",
   "execution_count": 246,
   "id": "c958ea07",
   "metadata": {},
   "outputs": [
    {
     "data": {
      "image/png": "[encoded data removed]",
      "text/plain": [
       "<Figure size 1152x864 with 2 Axes>"
      ]
     },
     "metadata": {
      "needs_background": "light"
     },
     "output_type": "display_data"
    }
   ],
   "source": [
    "plt.figure(figsize=(16, 12)) \n",
    "sns.heatmap(df.corr(), cmap='YlGnBu', annot=True, fmt='.3f', linewidths=0.5);"
   ]
  },
  {
   "cell_type": "markdown",
   "id": "0cd9ff52",
   "metadata": {},
   "source": [
    "## Try Lazypredict"
   ]
  },
  {
   "cell_type": "code",
   "execution_count": 30,
   "id": "d7a85d62",
   "metadata": {},
   "outputs": [],
   "source": [
    "preprocessor.fit(X_train)\n",
    "\n",
    "X_train_transformed = preprocessor.transform(X_train)\n",
    "X_test_transformed = preprocessor.transform(X_test)"
   ]
  },
  {
   "cell_type": "code",
   "execution_count": 31,
   "id": "542dc7d7",
   "metadata": {},
   "outputs": [
    {
     "name": "stderr",
     "output_type": "stream",
     "text": [
      "  2%|█▉                                                                                 | 1/42 [00:00<00:31,  1.29it/s]"
     ]
    },
    {
     "name": "stdout",
     "output_type": "stream",
     "text": [
      "{'Model': 'AdaBoostRegressor', 'R-Squared': 0.11951398275585601, 'Adjusted R-Squared': 0.11575456905476011, 'RMSE': 148.32596671558767, 'Time taken': 0.7735717296600342}\n"
     ]
    },
    {
     "name": "stderr",
     "output_type": "stream",
     "text": [
      "\r",
      "  5%|███▉                                                                               | 2/42 [00:02<00:45,  1.14s/it]"
     ]
    },
    {
     "name": "stdout",
     "output_type": "stream",
     "text": [
      "{'Model': 'BaggingRegressor', 'R-Squared': 0.8860127607149402, 'Adjusted R-Squared': 0.88552606906882, 'RMSE': 53.368386578582395, 'Time taken': 1.3892617225646973}\n",
      "{'Model': 'BayesianRidge', 'R-Squared': 0.016610610970420714, 'Adjusted R-Squared': 0.0124118304444093, 'RMSE': 156.75402992317584, 'Time taken': 0.07195925712585449}\n"
     ]
    },
    {
     "name": "stderr",
     "output_type": "stream",
     "text": [
      " 14%|███████████▊                                                                       | 6/42 [00:02<00:11,  3.27it/s]"
     ]
    },
    {
     "name": "stdout",
     "output_type": "stream",
     "text": [
      "{'Model': 'DecisionTreeRegressor', 'R-Squared': 0.8199970267005273, 'Adjusted R-Squared': 0.8192284674834507, 'RMSE': 67.06497935689084, 'Time taken': 0.23787927627563477}\n",
      "{'Model': 'DummyRegressor', 'R-Squared': -0.00035584667892929467, 'Adjusted R-Squared': -0.0046270689383662855, 'RMSE': 158.1004889993646, 'Time taken': 0.04496884346008301}\n",
      "{'Model': 'ElasticNet', 'R-Squared': 0.013252880255355537, 'Adjusted R-Squared': 0.009039763216773133, 'RMSE': 157.02141601872205, 'Time taken': 0.08672118186950684}\n"
     ]
    },
    {
     "name": "stderr",
     "output_type": "stream",
     "text": [
      " 19%|███████████████▊                                                                   | 8/42 [00:03<00:09,  3.69it/s]"
     ]
    },
    {
     "name": "stdout",
     "output_type": "stream",
     "text": [
      "{'Model': 'ElasticNetCV', 'R-Squared': 0.016423292249665544, 'Adjusted R-Squared': 0.012223711928368908, 'RMSE': 156.76895868208584, 'Time taken': 0.3812437057495117}\n",
      "{'Model': 'ExtraTreeRegressor', 'R-Squared': 0.7617291382573985, 'Adjusted R-Squared': 0.7607117924680687, 'RMSE': 77.1598586830595, 'Time taken': 0.11893892288208008}\n"
     ]
    },
    {
     "name": "stderr",
     "output_type": "stream",
     "text": [
      "\r",
      " 21%|█████████████████▊                                                                 | 9/42 [00:10<01:16,  2.30s/it]"
     ]
    },
    {
     "name": "stdout",
     "output_type": "stream",
     "text": [
      "{'Model': 'ExtraTreesRegressor', 'R-Squared': 0.9090683611318773, 'Adjusted R-Squared': 0.9086801100497148, 'RMSE': 47.666522041562914, 'Time taken': 7.6735968589782715}\n",
      "{'Model': 'GammaRegressor', 'R-Squared': 0.011457117014007201, 'Adjusted R-Squared': 0.007236332599905748, 'RMSE': 157.16423128943975, 'Time taken': 0.07008194923400879}\n"
     ]
    },
    {
     "name": "stderr",
     "output_type": "stream",
     "text": [
      "\r",
      " 26%|████████████████████▋                                                          | 11/42 [28:39<3:14:41, 376.83s/it]"
     ]
    },
    {
     "name": "stdout",
     "output_type": "stream",
     "text": [
      "{'Model': 'GaussianProcessRegressor', 'R-Squared': -4.6229282729035965, 'Adjusted R-Squared': -4.646936506056005, 'RMSE': 374.83248972274265, 'Time taken': 1708.3506803512573}\n"
     ]
    },
    {
     "name": "stderr",
     "output_type": "stream",
     "text": [
      "\r",
      " 29%|██████████████████████▌                                                        | 12/42 [28:45<2:24:07, 288.25s/it]"
     ]
    },
    {
     "name": "stdout",
     "output_type": "stream",
     "text": [
      "{'Model': 'GradientBoostingRegressor', 'R-Squared': 0.4990932453487479, 'Adjusted R-Squared': 0.496954522325864, 'RMSE': 111.87534816230519, 'Time taken': 6.067062854766846}\n"
     ]
    },
    {
     "name": "stderr",
     "output_type": "stream",
     "text": [
      "\r",
      " 31%|████████████████████████▍                                                      | 13/42 [28:47<1:44:04, 215.31s/it]"
     ]
    },
    {
     "name": "stdout",
     "output_type": "stream",
     "text": [
      "{'Model': 'HistGradientBoostingRegressor', 'R-Squared': 0.8495669732109444, 'Adjusted R-Squared': 0.8489246688802314, 'RMSE': 61.30946871684031, 'Time taken': 1.6547677516937256}\n"
     ]
    },
    {
     "name": "stderr",
     "output_type": "stream",
     "text": [
      "\r",
      " 33%|██████████████████████████▎                                                    | 14/42 [28:47<1:13:43, 157.98s/it]"
     ]
    },
    {
     "name": "stdout",
     "output_type": "stream",
     "text": [
      "{'Model': 'HuberRegressor', 'R-Squared': 0.014497162037611977, 'Adjusted R-Squared': 0.010289357712563452, 'RMSE': 156.92238329026972, 'Time taken': 0.29457855224609375}\n"
     ]
    },
    {
     "name": "stderr",
     "output_type": "stream",
     "text": [
      "\r",
      " 36%|████████████████████████████▉                                                    | 15/42 [28:51<51:56, 115.42s/it]"
     ]
    },
    {
     "name": "stdout",
     "output_type": "stream",
     "text": [
      "{'Model': 'KNeighborsRegressor', 'R-Squared': -0.02282660449464613, 'Adjusted R-Squared': -0.027193770213890467, 'RMSE': 159.86631476463396, 'Time taken': 3.6652843952178955}\n"
     ]
    },
    {
     "name": "stderr",
     "output_type": "stream",
     "text": [
      " 40%|█████████████████████████████████▏                                                | 17/42 [29:00<25:23, 60.94s/it]"
     ]
    },
    {
     "name": "stdout",
     "output_type": "stream",
     "text": [
      "KernelRidge model failed to execute\n",
      "solve() got an unexpected keyword argument 'sym_pos'\n",
      "{'Model': 'Lars', 'R-Squared': 0.01640006814545203, 'Adjusted R-Squared': 0.012200388664130313, 'RMSE': 156.77080947679957, 'Time taken': 0.17290091514587402}\n"
     ]
    },
    {
     "name": "stderr",
     "output_type": "stream",
     "text": [
      " 45%|█████████████████████████████████████                                             | 19/42 [29:01<11:43, 30.61s/it]"
     ]
    },
    {
     "name": "stdout",
     "output_type": "stream",
     "text": [
      "{'Model': 'LarsCV', 'R-Squared': 0.0157703376071886, 'Adjusted R-Squared': 0.011567969363561525, 'RMSE': 156.82098616280337, 'Time taken': 0.3627922534942627}\n",
      "{'Model': 'Lasso', 'R-Squared': 0.015307594558051973, 'Adjusted R-Squared': 0.011103250539086118, 'RMSE': 156.85784711939942, 'Time taken': 0.10294318199157715}\n"
     ]
    },
    {
     "name": "stderr",
     "output_type": "stream",
     "text": [
      "\r",
      " 48%|███████████████████████████████████████                                           | 20/42 [29:01<07:57, 21.69s/it]"
     ]
    },
    {
     "name": "stdout",
     "output_type": "stream",
     "text": [
      "{'Model': 'LassoCV', 'R-Squared': 0.015941486782073744, 'Adjusted R-Squared': 0.011739849294574944, 'RMSE': 156.8073506515421, 'Time taken': 0.43175840377807617}\n",
      "{'Model': 'LassoLars', 'R-Squared': -0.00035584667892929467, 'Adjusted R-Squared': -0.0046270689383662855, 'RMSE': 158.1004889993646, 'Time taken': 0.07295846939086914}\n"
     ]
    },
    {
     "name": "stderr",
     "output_type": "stream",
     "text": [
      " 55%|████████████████████████████████████████████▉                                     | 23/42 [29:02<02:50,  8.95s/it]"
     ]
    },
    {
     "name": "stdout",
     "output_type": "stream",
     "text": [
      "{'Model': 'LassoLarsCV', 'R-Squared': 0.0157703376071886, 'Adjusted R-Squared': 0.011567969363561525, 'RMSE': 156.82098616280337, 'Time taken': 0.28983354568481445}\n",
      "{'Model': 'LassoLarsIC', 'R-Squared': 0.015689610334281623, 'Adjusted R-Squared': 0.011486897409183294, 'RMSE': 156.82741731980443, 'Time taken': 0.1156306266784668}\n",
      "{'Model': 'LinearRegression', 'R-Squared': 0.016958239597027136, 'Adjusted R-Squared': 0.012760943341970754, 'RMSE': 156.72632116134136, 'Time taken': 0.0659632682800293}\n"
     ]
    },
    {
     "name": "stderr",
     "output_type": "stream",
     "text": [
      "\r",
      " 60%|████████████████████████████████████████████████▊                                 | 25/42 [29:02<01:29,  5.29s/it]"
     ]
    },
    {
     "name": "stdout",
     "output_type": "stream",
     "text": [
      "{'Model': 'LinearSVR', 'R-Squared': 0.0076711370410588176, 'Adjusted R-Squared': 0.003434187617288087, 'RMSE': 157.4649021148593, 'Time taken': 0.11540985107421875}\n"
     ]
    },
    {
     "name": "stderr",
     "output_type": "stream",
     "text": [
      "\r",
      " 62%|██████████████████████████████████████████████████▊                               | 26/42 [29:25<02:31,  9.45s/it]"
     ]
    },
    {
     "name": "stdout",
     "output_type": "stream",
     "text": [
      "{'Model': 'MLPRegressor', 'R-Squared': 0.10680464650140331, 'Adjusted R-Squared': 0.1029909677104468, 'RMSE': 149.3926336022615, 'Time taken': 23.552865743637085}\n"
     ]
    },
    {
     "name": "stderr",
     "output_type": "stream",
     "text": [
      "\r",
      " 64%|████████████████████████████████████████████████████▋                             | 27/42 [30:15<04:48, 19.22s/it]"
     ]
    },
    {
     "name": "stdout",
     "output_type": "stream",
     "text": [
      "{'Model': 'NuSVR', 'R-Squared': 0.022383755944963557, 'Adjusted R-Squared': 0.01820962503279111, 'RMSE': 156.29322779998782, 'Time taken': 49.20276403427124}\n",
      "{'Model': 'OrthogonalMatchingPursuit', 'R-Squared': 0.01389100916049757, 'Adjusted R-Squared': 0.00968061674275189, 'RMSE': 156.9706349688812, 'Time taken': 0.05883502960205078}\n"
     ]
    },
    {
     "name": "stderr",
     "output_type": "stream",
     "text": [
      " 74%|████████████████████████████████████████████████████████████▌                     | 31/42 [30:15<01:18,  7.17s/it]"
     ]
    },
    {
     "name": "stdout",
     "output_type": "stream",
     "text": [
      "{'Model': 'OrthogonalMatchingPursuitCV', 'R-Squared': 0.015009637762740002, 'Adjusted R-Squared': 0.010804021556781174, 'RMSE': 156.8815770304926, 'Time taken': 0.15592503547668457}\n",
      "{'Model': 'PassiveAggressiveRegressor', 'R-Squared': -0.042870864067186876, 'Adjusted R-Squared': -0.04732361281965325, 'RMSE': 161.4251590281673, 'Time taken': 0.0743558406829834}\n",
      "{'Model': 'PoissonRegressor', 'R-Squared': 0.016857724106845384, 'Adjusted R-Squared': 0.012659998680509155, 'RMSE': 156.7343335474659, 'Time taken': 0.1131901741027832}\n",
      "QuantileRegressor model failed to execute\n",
      "Unable to allocate 7.61 GiB for an array with shape (22581, 45212) and data type float64\n"
     ]
    },
    {
     "name": "stderr",
     "output_type": "stream",
     "text": [
      " 79%|████████████████████████████████████████████████████████████████▍                 | 33/42 [31:41<02:44, 18.28s/it]"
     ]
    },
    {
     "name": "stdout",
     "output_type": "stream",
     "text": [
      "{'Model': 'RANSACRegressor', 'R-Squared': -0.6681428305704047, 'Adjusted R-Squared': -0.6752653048514383, 'RMSE': 204.16090042792646, 'Time taken': 0.695340633392334}\n"
     ]
    },
    {
     "name": "stderr",
     "output_type": "stream",
     "text": [
      "\r",
      " 81%|██████████████████████████████████████████████████████████████████▍               | 34/42 [31:55<02:17, 17.17s/it]"
     ]
    },
    {
     "name": "stdout",
     "output_type": "stream",
     "text": [
      "{'Model': 'RandomForestRegressor', 'R-Squared': 0.8936103904877174, 'Adjusted R-Squared': 0.89315613846347, 'RMSE': 51.55912794850355, 'Time taken': 13.794043779373169}\n",
      "Ridge model failed to execute\n",
      "solve() got an unexpected keyword argument 'sym_pos'\n"
     ]
    },
    {
     "name": "stderr",
     "output_type": "stream",
     "text": [
      "\r",
      " 86%|██████████████████████████████████████████████████████████████████████▎           | 36/42 [31:55<01:00, 10.12s/it]"
     ]
    },
    {
     "name": "stdout",
     "output_type": "stream",
     "text": [
      "{'Model': 'RidgeCV', 'R-Squared': 0.016930994688121537, 'Adjusted R-Squared': 0.012733582105398655, 'RMSE': 156.72849297383698, 'Time taken': 0.22087335586547852}\n"
     ]
    },
    {
     "name": "stderr",
     "output_type": "stream",
     "text": [
      "\r",
      " 88%|████████████████████████████████████████████████████████████████████████▏         | 37/42 [31:55<00:39,  7.87s/it]"
     ]
    },
    {
     "name": "stdout",
     "output_type": "stream",
     "text": [
      "{'Model': 'SGDRegressor', 'R-Squared': 0.014856167545086785, 'Adjusted R-Squared': 0.010649896066894593, 'RMSE': 156.8937983236798, 'Time taken': 0.2508566379547119}\n"
     ]
    },
    {
     "name": "stderr",
     "output_type": "stream",
     "text": [
      " 95%|██████████████████████████████████████████████████████████████████████████████    | 40/42 [32:49<00:22, 11.26s/it]"
     ]
    },
    {
     "name": "stdout",
     "output_type": "stream",
     "text": [
      "{'Model': 'SVR', 'R-Squared': 0.028270139909234437, 'Adjusted R-Squared': 0.024121142107743854, 'RMSE': 155.82198409355664, 'Time taken': 53.641679763793945}\n",
      "{'Model': 'TransformedTargetRegressor', 'R-Squared': 0.016958239597027136, 'Adjusted R-Squared': 0.012760943341970754, 'RMSE': 156.72632116134136, 'Time taken': 0.06357288360595703}\n",
      "{'Model': 'TweedieRegressor', 'R-Squared': 0.011428067939245556, 'Adjusted R-Squared': 0.007207159494225346, 'RMSE': 157.16654046693913, 'Time taken': 0.08664321899414062}\n"
     ]
    },
    {
     "name": "stderr",
     "output_type": "stream",
     "text": [
      "\r",
      " 98%|████████████████████████████████████████████████████████████████████████████████  | 41/42 [32:51<00:09,  9.13s/it]"
     ]
    },
    {
     "name": "stdout",
     "output_type": "stream",
     "text": [
      "{'Model': 'XGBRegressor', 'R-Squared': 0.879312536051422, 'Adjusted R-Squared': 0.8787972364366264, 'RMSE': 54.914500358140096, 'Time taken': 1.8800573348999023}\n",
      "[LightGBM] [Warning] Auto-choosing row-wise multi-threading, the overhead of testing was 0.001589 seconds.\n",
      "You can set `force_row_wise=true` to remove the overhead.\n",
      "And if memory is not enough, you can set `force_col_wise=true`.\n",
      "[LightGBM] [Info] Total Bins 1591\n",
      "[LightGBM] [Info] Number of data points in the train set: 22581, number of used features: 24\n",
      "[LightGBM] [Info] Start training from score 518.858765\n"
     ]
    },
    {
     "name": "stderr",
     "output_type": "stream",
     "text": [
      "100%|██████████████████████████████████████████████████████████████████████████████████| 42/42 [32:52<00:00, 46.96s/it]"
     ]
    },
    {
     "name": "stdout",
     "output_type": "stream",
     "text": [
      "{'Model': 'LGBMRegressor', 'R-Squared': 0.847738514486305, 'Adjusted R-Squared': 0.8470884031800732, 'RMSE': 61.680940496314996, 'Time taken': 0.7798466682434082}\n"
     ]
    },
    {
     "name": "stderr",
     "output_type": "stream",
     "text": [
      "\n"
     ]
    }
   ],
   "source": [
    "reg = LazyRegressor(verbose=1,ignore_warnings=False, custom_metric=None)\n",
    "models,predictions = reg.fit(X_train_transformed, X_test_transformed, y_train, y_test)"
   ]
  },
  {
   "cell_type": "code",
   "execution_count": 32,
   "id": "2361b879",
   "metadata": {},
   "outputs": [
    {
     "name": "stdout",
     "output_type": "stream",
     "text": [
      "                               Adjusted R-Squared  R-Squared   RMSE  \\\n",
      "Model                                                                 \n",
      "ExtraTreesRegressor                          0.91       0.91  47.67   \n",
      "RandomForestRegressor                        0.89       0.89  51.56   \n",
      "BaggingRegressor                             0.89       0.89  53.37   \n",
      "XGBRegressor                                 0.88       0.88  54.91   \n",
      "HistGradientBoostingRegressor                0.85       0.85  61.31   \n",
      "LGBMRegressor                                0.85       0.85  61.68   \n",
      "DecisionTreeRegressor                        0.82       0.82  67.06   \n",
      "ExtraTreeRegressor                           0.76       0.76  77.16   \n",
      "GradientBoostingRegressor                    0.50       0.50 111.88   \n",
      "AdaBoostRegressor                            0.12       0.12 148.33   \n",
      "MLPRegressor                                 0.10       0.11 149.39   \n",
      "SVR                                          0.02       0.03 155.82   \n",
      "NuSVR                                        0.02       0.02 156.29   \n",
      "LinearRegression                             0.01       0.02 156.73   \n",
      "TransformedTargetRegressor                   0.01       0.02 156.73   \n",
      "RidgeCV                                      0.01       0.02 156.73   \n",
      "PoissonRegressor                             0.01       0.02 156.73   \n",
      "BayesianRidge                                0.01       0.02 156.75   \n",
      "ElasticNetCV                                 0.01       0.02 156.77   \n",
      "Lars                                         0.01       0.02 156.77   \n",
      "LassoCV                                      0.01       0.02 156.81   \n",
      "LarsCV                                       0.01       0.02 156.82   \n",
      "LassoLarsCV                                  0.01       0.02 156.82   \n",
      "LassoLarsIC                                  0.01       0.02 156.83   \n",
      "Lasso                                        0.01       0.02 156.86   \n",
      "OrthogonalMatchingPursuitCV                  0.01       0.02 156.88   \n",
      "SGDRegressor                                 0.01       0.01 156.89   \n",
      "HuberRegressor                               0.01       0.01 156.92   \n",
      "OrthogonalMatchingPursuit                    0.01       0.01 156.97   \n",
      "ElasticNet                                   0.01       0.01 157.02   \n",
      "GammaRegressor                               0.01       0.01 157.16   \n",
      "TweedieRegressor                             0.01       0.01 157.17   \n",
      "LinearSVR                                    0.00       0.01 157.46   \n",
      "LassoLars                                   -0.00      -0.00 158.10   \n",
      "DummyRegressor                              -0.00      -0.00 158.10   \n",
      "KNeighborsRegressor                         -0.03      -0.02 159.87   \n",
      "PassiveAggressiveRegressor                  -0.05      -0.04 161.43   \n",
      "RANSACRegressor                             -0.68      -0.67 204.16   \n",
      "GaussianProcessRegressor                    -4.65      -4.62 374.83   \n",
      "\n",
      "                               Time Taken  \n",
      "Model                                      \n",
      "ExtraTreesRegressor                  7.67  \n",
      "RandomForestRegressor               13.79  \n",
      "BaggingRegressor                     1.39  \n",
      "XGBRegressor                         1.88  \n",
      "HistGradientBoostingRegressor        1.65  \n",
      "LGBMRegressor                        0.78  \n",
      "DecisionTreeRegressor                0.24  \n",
      "ExtraTreeRegressor                   0.12  \n",
      "GradientBoostingRegressor            6.07  \n",
      "AdaBoostRegressor                    0.77  \n",
      "MLPRegressor                        23.55  \n",
      "SVR                                 53.64  \n",
      "NuSVR                               49.20  \n",
      "LinearRegression                     0.07  \n",
      "TransformedTargetRegressor           0.06  \n",
      "RidgeCV                              0.22  \n",
      "PoissonRegressor                     0.11  \n",
      "BayesianRidge                        0.07  \n",
      "ElasticNetCV                         0.38  \n",
      "Lars                                 0.17  \n",
      "LassoCV                              0.43  \n",
      "LarsCV                               0.36  \n",
      "LassoLarsCV                          0.29  \n",
      "LassoLarsIC                          0.12  \n",
      "Lasso                                0.10  \n",
      "OrthogonalMatchingPursuitCV          0.16  \n",
      "SGDRegressor                         0.25  \n",
      "HuberRegressor                       0.29  \n",
      "OrthogonalMatchingPursuit            0.06  \n",
      "ElasticNet                           0.09  \n",
      "GammaRegressor                       0.07  \n",
      "TweedieRegressor                     0.09  \n",
      "LinearSVR                            0.12  \n",
      "LassoLars                            0.07  \n",
      "DummyRegressor                       0.04  \n",
      "KNeighborsRegressor                  3.67  \n",
      "PassiveAggressiveRegressor           0.07  \n",
      "RANSACRegressor                      0.70  \n",
      "GaussianProcessRegressor          1708.35  \n"
     ]
    }
   ],
   "source": [
    "print(models)"
   ]
  },
  {
   "cell_type": "markdown",
   "id": "23acb3cb",
   "metadata": {},
   "source": [
    "## ExtraTreesRegressor"
   ]
  },
  {
   "cell_type": "code",
   "execution_count": null,
   "id": "eb5a6f37",
   "metadata": {},
   "outputs": [],
   "source": [
    "# Preprocess the data by removing missing values and scaling the features\n",
    "scaler = StandardScaler()\n",
    "X_train = scaler.fit_transform(X_train_transformed)\n",
    "X_test = scaler.transform(X_test_transformed)"
   ]
  },
  {
   "cell_type": "code",
   "execution_count": null,
   "id": "639dc57b",
   "metadata": {},
   "outputs": [],
   "source": [
    "# Apply PCA to reduce the dimensionality of the data\n",
    "pca = PCA(n_components=24)\n",
    "X_train_pca = pca.fit_transform(X_train)\n",
    "X_test_pca = pca.transform(X_test)"
   ]
  },
  {
   "cell_type": "code",
   "execution_count": null,
   "id": "95f48921",
   "metadata": {},
   "outputs": [],
   "source": [
    "\n",
    "# Train an ExtraTreesRegressor model on the reduced dataset\n",
    "exmodel = ExtraTreesRegressor(n_estimators=512, max_depth=16, n_jobs=-1, random_state=42)\n",
    "exmodel.fit(X_train_pca, y_train)\n"
   ]
  },
  {
   "cell_type": "code",
   "execution_count": null,
   "id": "a90a7e14",
   "metadata": {},
   "outputs": [],
   "source": [
    "# Check if the model fitted well or not\n",
    "predictions = exmodel.predict(X_train_pca)\n",
    "\n",
    "mse = mean_squared_error(y_train, predictions)\n",
    "rmse = np.sqrt(mse)\n",
    "rmse"
   ]
  },
  {
   "cell_type": "code",
   "execution_count": null,
   "id": "ab5b3923",
   "metadata": {},
   "outputs": [],
   "source": [
    "# Evaluate the performance of the model on the testing set\n",
    "y_pred = exmodel.predict(X_test_pca)\n",
    "rmse = mean_squared_error(y_test, y_pred, squared=False)\n",
    "print(f'RMSE: {rmse:.2f}')"
   ]
  },
  {
   "cell_type": "code",
   "execution_count": null,
   "id": "f8c20f68",
   "metadata": {},
   "outputs": [],
   "source": [
    "# GridSearch for ExtraTree Regressor\n",
    "params = {\n",
    "    'n_estimators': range(100, 501, 100),\n",
    "    'max_depth': [2, 8, 16, 32, 64],\n",
    "    'min_samples_split': [2,4],\n",
    "    'min_samples_leaf': [1,2],\n",
    "}\n",
    "\n",
    "GS_EXTRA = GridSearchCV(\n",
    "    ExtraTreesRegressor(random_state=42, n_jobs=-1),\n",
    "    param_grid=params,\n",
    "    cv=3,\n",
    "    n_jobs=-1,\n",
    "    verbose=1\n",
    ")\n",
    "\n",
    "GS_EXTRA.fit(X_train_transformed, y_train)"
   ]
  },
  {
   "cell_type": "code",
   "execution_count": null,
   "id": "771c68ed",
   "metadata": {},
   "outputs": [],
   "source": [
    "GS_EXTRA.best_params_"
   ]
  },
  {
   "cell_type": "code",
   "execution_count": null,
   "id": "f39f8d26",
   "metadata": {},
   "outputs": [],
   "source": [
    "EXTRA = GS_EXTRA.best_estimator_\n",
    "EXTRA"
   ]
  },
  {
   "cell_type": "markdown",
   "id": "02bf1c02",
   "metadata": {},
   "source": [
    "## RandomForestRegressor"
   ]
  },
  {
   "cell_type": "code",
   "execution_count": 15,
   "id": "44854899",
   "metadata": {},
   "outputs": [
    {
     "name": "stdout",
     "output_type": "stream",
     "text": [
      "Fitting 3 folds for each of 450 candidates, totalling 1350 fits\n"
     ]
    },
    {
     "data": {
      "text/plain": [
       "GridSearchCV(cv=3, estimator=RandomForestRegressor(n_jobs=-1, random_state=42),\n",
       "             n_jobs=-1,\n",
       "             param_grid={'max_depth': [2, 8, 16, 32, 64],\n",
       "                         'max_features': ['sqrt', 'log2'],\n",
       "                         'min_samples_leaf': [1, 2, 3],\n",
       "                         'min_samples_split': [2, 4, 6],\n",
       "                         'n_estimators': range(100, 501, 100)},\n",
       "             verbose=1)"
      ]
     },
     "execution_count": 15,
     "metadata": {},
     "output_type": "execute_result"
    }
   ],
   "source": [
    "# GridSearch for RandomForest Regressor\n",
    "params = {\n",
    "    'n_estimators': range(100, 501, 100),\n",
    "    'max_depth': [2, 8, 16, 32, 64],\n",
    "    'min_samples_split': [2,4,6],\n",
    "    'min_samples_leaf': [1,2,3],\n",
    "    # 'max_features': [\"sqrt\", \"log2\"] add 1 is the default\n",
    "}\n",
    "\n",
    "GS_RF = GridSearchCV(\n",
    "    RandomForestRegressor(random_state=42, n_jobs=-1),\n",
    "    param_grid=params,\n",
    "    cv=3,\n",
    "    n_jobs=-1,\n",
    "    verbose=1\n",
    ")\n",
    "\n",
    "GS_RF.fit(X_train_transformed, y_train)"
   ]
  },
  {
   "cell_type": "code",
   "execution_count": 16,
   "id": "193d7475",
   "metadata": {},
   "outputs": [
    {
     "data": {
      "text/plain": [
       "{'max_depth': 32,\n",
       " 'max_features': 'sqrt',\n",
       " 'min_samples_leaf': 1,\n",
       " 'min_samples_split': 2,\n",
       " 'n_estimators': 500}"
      ]
     },
     "execution_count": 16,
     "metadata": {},
     "output_type": "execute_result"
    }
   ],
   "source": [
    "GS_RF.best_params_"
   ]
  },
  {
   "cell_type": "code",
   "execution_count": 19,
   "id": "9418c456",
   "metadata": {},
   "outputs": [
    {
     "data": {
      "text/plain": [
       "RandomForestRegressor(max_depth=32, max_features='sqrt', n_estimators=500,\n",
       "                      n_jobs=-1, random_state=42)"
      ]
     },
     "execution_count": 19,
     "metadata": {},
     "output_type": "execute_result"
    }
   ],
   "source": [
    "RF = GS_RF.best_estimator_\n",
    "RF"
   ]
  },
  {
   "cell_type": "markdown",
   "id": "cb52d014",
   "metadata": {},
   "source": [
    "## BaggingRegressor"
   ]
  },
  {
   "cell_type": "code",
   "execution_count": null,
   "id": "07d2d39c",
   "metadata": {},
   "outputs": [
    {
     "name": "stdout",
     "output_type": "stream",
     "text": [
      "Fitting 3 folds for each of 36 candidates, totalling 108 fits\n"
     ]
    }
   ],
   "source": [
    "# GridSearch for Bagging Regressor\n",
    "params = {\n",
    "    'n_estimators': range(100, 801, 20),\n",
    "}\n",
    "\n",
    "BAG_RF = GridSearchCV(\n",
    "    BaggingRegressor(random_state=42, n_jobs=-1),\n",
    "    param_grid=params,\n",
    "    cv=3,\n",
    "    n_jobs=-1,\n",
    "    verbose=1\n",
    ")\n",
    "\n",
    "BAG_RF.fit(X_train_transformed, y_train)"
   ]
  },
  {
   "cell_type": "code",
   "execution_count": null,
   "id": "624338bb",
   "metadata": {},
   "outputs": [],
   "source": [
    "BAG_RF.best_params_"
   ]
  },
  {
   "cell_type": "code",
   "execution_count": null,
   "id": "f2baa2ce",
   "metadata": {},
   "outputs": [],
   "source": [
    "BAG = BAG_RF.best_estimator_\n",
    "BAG"
   ]
  },
  {
   "cell_type": "code",
   "execution_count": null,
   "id": "ed7111c3",
   "metadata": {},
   "outputs": [],
   "source": []
  },
  {
   "cell_type": "markdown",
   "id": "879bab2d",
   "metadata": {},
   "source": [
    "## XGBRegressor"
   ]
  },
  {
   "cell_type": "code",
   "execution_count": 22,
   "id": "edd87f66",
   "metadata": {},
   "outputs": [
    {
     "data": {
      "text/plain": [
       "Pipeline(steps=[('columntransformer',\n",
       "                 ColumnTransformer(transformers=[('cat', OrdinalEncoder(),\n",
       "                                                  Index(['Promotion Name', 'Store Kind', 'Degree', 'Work', 'Store Code',\n",
       "       'Country ISO2', 'Order Brand', 'Order', 'Department', 'Income Level',\n",
       "       'Price Tier'],\n",
       "      dtype='object')),\n",
       "                                                 ('ohe', OneHotEncoder(),\n",
       "                                                  ['Marriage', 'Gender',\n",
       "                                                   'Is Recyclable?',\n",
       "                                                   'Income Level',\n",
       "                                                   'Price Tier']),\n",
       "                                                 ('num', Standar...\n",
       "                              feature_types=None, gamma=None, gpu_id=None,\n",
       "                              grow_policy=None, importance_type=None,\n",
       "                              interaction_constraints=None, learning_rate=0.1,\n",
       "                              max_bin=None, max_cat_threshold=None,\n",
       "                              max_cat_to_onehot=None, max_delta_step=None,\n",
       "                              max_depth=12, max_leaves=None,\n",
       "                              min_child_weight=None, min_split_loss=5,\n",
       "                              missing=nan, monotone_constraints=None,\n",
       "                              n_estimators=500, n_jobs=None,\n",
       "                              num_parallel_tree=None, predictor=None, ...))])"
      ]
     },
     "execution_count": 22,
     "metadata": {},
     "output_type": "execute_result"
    }
   ],
   "source": [
    "model = make_pipeline(preprocessor, XGBRegressor(n_estimators=500, learning_rate=0.1, max_depth=12, min_split_loss=5))\n",
    "model.fit(X_train, y_train)"
   ]
  },
  {
   "cell_type": "code",
   "execution_count": 23,
   "id": "d9745b79",
   "metadata": {},
   "outputs": [
    {
     "name": "stdout",
     "output_type": "stream",
     "text": [
      "Root Mean Squared Error: 52.29\n"
     ]
    }
   ],
   "source": [
    "y_pred = model.predict(X_test)\n",
    "rmse = mean_squared_error(y_test, y_pred, squared=False)\n",
    "print(f'Root Mean Squared Error: {rmse:.2f}')"
   ]
  },
  {
   "cell_type": "code",
   "execution_count": null,
   "id": "6a9c6b6f",
   "metadata": {},
   "outputs": [],
   "source": [
    "param_grid = {\n",
    "    'xgbregressor__learning_rate': [0.01, 0.1],\n",
    "    'xgbregressor__n_estimators': range(50, 501, 50),\n",
    "    'xgbregressor__max_depth': [2, 4, 8, 16, 32],\n",
    "    'xgbregressor__min_split_loss': range(0, 7, 2)\n",
    "    \n",
    "}\n",
    "\n",
    "\n",
    "grid_search = GridSearchCV(\n",
    "    model,\n",
    "    param_grid=param_grid,\n",
    "    cv=5,\n",
    "    n_jobs=-1,\n",
    "    verbose=1\n",
    ")\n",
    "\n",
    "grid_search.fit(X_train_transformed, y_train)"
   ]
  },
  {
   "cell_type": "code",
   "execution_count": null,
   "id": "e6fd6f69",
   "metadata": {},
   "outputs": [],
   "source": [
    "y_pred = grid_search.predict(X_test_transformed)\n",
    "rmse = mean_squared_error(y_test, y_pred, squared=False)\n",
    "print(f'Root Mean Squared Error: {rmse:.2f}')"
   ]
  },
  {
   "cell_type": "code",
   "execution_count": null,
   "id": "a869287c",
   "metadata": {},
   "outputs": [],
   "source": [
    "print(f'Best hyperparameters: {grid_search.best_params_}')"
   ]
  },
  {
   "cell_type": "markdown",
   "id": "9aad317c",
   "metadata": {},
   "source": [
    "## LGBMRegressor"
   ]
  },
  {
   "cell_type": "code",
   "execution_count": null,
   "id": "f9a976ae",
   "metadata": {},
   "outputs": [],
   "source": [
    "# Preprocess the data by removing missing values and scaling the features\n",
    "scaler = StandardScaler()\n",
    "X_train = scaler.fit_transform(X_train)\n",
    "X_test = scaler.transform(X_test)\n"
   ]
  },
  {
   "cell_type": "code",
   "execution_count": null,
   "id": "68e9c794",
   "metadata": {},
   "outputs": [],
   "source": [
    "# Apply pPCA to reduce the dimensionality of the data\n",
    "ppca = PCA(n_components=10)\n",
    "X_train_ppca = ppca.fit_transform(X_train)\n",
    "X_test_ppca = ppca.transform(X_test)"
   ]
  },
  {
   "cell_type": "code",
   "execution_count": null,
   "id": "3704f697",
   "metadata": {},
   "outputs": [],
   "source": []
  },
  {
   "cell_type": "code",
   "execution_count": 24,
   "id": "5c238ed4",
   "metadata": {},
   "outputs": [
    {
     "name": "stdout",
     "output_type": "stream",
     "text": [
      "[LightGBM] [Warning] Auto-choosing row-wise multi-threading, the overhead of testing was 0.001821 seconds.\n",
      "You can set `force_row_wise=true` to remove the overhead.\n",
      "And if memory is not enough, you can set `force_col_wise=true`.\n",
      "[LightGBM] [Info] Total Bins 1584\n",
      "[LightGBM] [Info] Number of data points in the train set: 22581, number of used features: 29\n",
      "[LightGBM] [Info] Start training from score 518.858765\n"
     ]
    },
    {
     "data": {
      "text/plain": [
       "Pipeline(steps=[('columntransformer',\n",
       "                 ColumnTransformer(transformers=[('cat', OrdinalEncoder(),\n",
       "                                                  Index(['Promotion Name', 'Store Kind', 'Degree', 'Work', 'Store Code',\n",
       "       'Country ISO2', 'Order Brand', 'Order', 'Department', 'Income Level',\n",
       "       'Price Tier'],\n",
       "      dtype='object')),\n",
       "                                                 ('ohe', OneHotEncoder(),\n",
       "                                                  ['Marriage', 'Gender',\n",
       "                                                   'Is Recyclable?',\n",
       "                                                   'Income Level',\n",
       "                                                   'Price Tier']),\n",
       "                                                 ('num', StandardScaler(),\n",
       "                                                  Index(['Grocery Area', 'Meat Area', 'Gross Weight', 'Package Weight',\n",
       "       'Min. Person Yearly Income', 'Family Expenses', 'Store Efficiency'],\n",
       "      dtype='object'))])),\n",
       "                ('lgbmregressor', LGBMRegressor())])"
      ]
     },
     "execution_count": 24,
     "metadata": {},
     "output_type": "execute_result"
    }
   ],
   "source": [
    "model = make_pipeline(preprocessor, LGBMRegressor())\n",
    "model.fit(X_train, y_train)"
   ]
  },
  {
   "cell_type": "code",
   "execution_count": 25,
   "id": "47152a7d",
   "metadata": {},
   "outputs": [
    {
     "name": "stdout",
     "output_type": "stream",
     "text": [
      "Root Mean Squared Error: 61.68\n"
     ]
    }
   ],
   "source": [
    "y_pred = model.predict(X_test)\n",
    "rmse = mean_squared_error(y_test, y_pred, squared=False)\n",
    "print(f'Root Mean Squared Error: {rmse:.2f}')"
   ]
  },
  {
   "cell_type": "code",
   "execution_count": null,
   "id": "48012fbc",
   "metadata": {},
   "outputs": [],
   "source": [
    "param_grid = {\n",
    "    'lgbmregressor__learning_rate': [0.01, 0.1],\n",
    "    'lgbmregressor__n_estimators': range(50, 501, 50),\n",
    "    'lgbmregressor__num_leaves': [31, 45, 61],\n",
    "    'lgbmregressor__max_depth': [2, 4, 8, 16, 32],\n",
    "}\n",
    "\n",
    "grid_search = GridSearchCV(\n",
    "    model,\n",
    "    param_grid=param_grid,\n",
    "    cv=5,\n",
    "    n_jobs=-1,\n",
    "    verbose=1\n",
    ")\n",
    "\n",
    "grid_search.fit(X_train_transformed, y_train)"
   ]
  },
  {
   "cell_type": "code",
   "execution_count": 161,
   "id": "cfc81a2c",
   "metadata": {},
   "outputs": [],
   "source": [
    "y_pred = grid_search.predict(X_test_transformed)\n",
    "rmse = mean_squared_error(y_test, y_pred, squared=False)\n",
    "print(f'Root Mean Squared Error: {rmse:.2f}')"
   ]
  },
  {
   "cell_type": "code",
   "execution_count": null,
   "id": "3171c4ee",
   "metadata": {},
   "outputs": [],
   "source": [
    "print(f'Best hyperparameters: {grid_search.best_params_}')"
   ]
  },
  {
   "cell_type": "markdown",
   "id": "2f06dccf",
   "metadata": {},
   "source": [
    "## Stacking & Boosting"
   ]
  },
  {
   "cell_type": "code",
   "execution_count": 33,
   "id": "1f42c775",
   "metadata": {},
   "outputs": [],
   "source": [
    "rf = make_pipeline(\n",
    "    preprocessor,\n",
    "    RandomForestRegressor(n_estimators=512, max_depth=16, n_jobs=-1, random_state=42)\n",
    ")\n",
    "\n",
    "et = make_pipeline(\n",
    "    preprocessor,\n",
    "    ExtraTreesRegressor(n_estimators=512, max_depth=16, n_jobs=-1, random_state=42)\n",
    ")\n",
    "\n",
    "bag = make_pipeline(\n",
    "    preprocessor,\n",
    "    BaggingRegressor(n_estimators=75, n_jobs=-1, random_state=42)\n",
    ")\n",
    "\n",
    "\n",
    "#lr = LogisticRegression(random_state=0, max_iter=500, C = 10, penalty= 'l2', solver= 'newton-cg')\n",
    "\n",
    "#mlp = MLPClassifier(random_state=0, hidden_layer_sizes = (512,) , max_iter=100, early_stopping=True,\n",
    "              #      solver='adam', learning_rate = 'adaptive', alpha=0.001, activation='relu', batch_size=128)\n",
    "\n",
    "#gb = GradientBoostingClassifier(random_state=0, learning_rate=0.1, n_estimators=100)\n",
    "\n",
    "#hgb = HistGradientBoostingClassifier(random_state=0, learning_rate=0.01, l2_regularization=0.001)\n",
    "\n",
    "#lgbm = LGBMClassifier(random_state=0, learning_rate=0.01, n_estimators=1000, num_leaves=10)\n",
    "\n",
    "#cat = CatBoostClassifier(n_estimators=1500, learning_rate=0.05, random_state=0, eval_metric= 'MultiClass')"
   ]
  },
  {
   "cell_type": "code",
   "execution_count": 40,
   "id": "c4e3c0b1",
   "metadata": {},
   "outputs": [],
   "source": [
    "# Define the pipelines for each model\n",
    "rf = make_pipeline(\n",
    "    preprocessor,\n",
    "    RandomForestRegressor(n_estimators=512, max_depth=16, n_jobs=-1, random_state=42)\n",
    ")\n",
    "\n",
    "et = make_pipeline(\n",
    "    preprocessor,\n",
    "    ExtraTreesRegressor(n_estimators=512, max_depth=16, n_jobs=-1, random_state=42)\n",
    ")\n",
    "\n",
    "bag = make_pipeline(\n",
    "    preprocessor,\n",
    "    BaggingRegressor(n_estimators=75, n_jobs=-1, random_state=42)\n",
    ")\n",
    "\n",
    "xgb = make_pipeline(\n",
    "    preprocessor,\n",
    "    XGBRegressor(n_estimators=1000, learning_rate=0.05, max_depth=8, random_state=42)\n",
    ")\n",
    "\n",
    "lgbm = make_pipeline(\n",
    "    preprocessor,\n",
    "    LGBMRegressor(n_estimators=1000, learning_rate=0.05, max_depth=8, random_state=42)\n",
    ")"
   ]
  },
  {
   "cell_type": "code",
   "execution_count": 50,
   "id": "d60d2ee9",
   "metadata": {},
   "outputs": [
    {
     "ename": "ValueError",
     "evalue": "Specifying the columns using strings is only supported for pandas DataFrames",
     "output_type": "error",
     "traceback": [
      "\u001b[1;31m---------------------------------------------------------------------------\u001b[0m",
      "\u001b[1;31mAttributeError\u001b[0m                            Traceback (most recent call last)",
      "File \u001b[1;32m~\\anaconda3\\lib\\site-packages\\sklearn\\utils\\__init__.py:409\u001b[0m, in \u001b[0;36m_get_column_indices\u001b[1;34m(X, key)\u001b[0m\n\u001b[0;32m    408\u001b[0m \u001b[38;5;28;01mtry\u001b[39;00m:\n\u001b[1;32m--> 409\u001b[0m     all_columns \u001b[38;5;241m=\u001b[39m \u001b[43mX\u001b[49m\u001b[38;5;241;43m.\u001b[39;49m\u001b[43mcolumns\u001b[49m\n\u001b[0;32m    410\u001b[0m \u001b[38;5;28;01mexcept\u001b[39;00m \u001b[38;5;167;01mAttributeError\u001b[39;00m:\n",
      "\u001b[1;31mAttributeError\u001b[0m: 'numpy.ndarray' object has no attribute 'columns'",
      "\nDuring handling of the above exception, another exception occurred:\n",
      "\u001b[1;31mValueError\u001b[0m                                Traceback (most recent call last)",
      "Input \u001b[1;32mIn [50]\u001b[0m, in \u001b[0;36m<cell line: 9>\u001b[1;34m()\u001b[0m\n\u001b[0;32m      1\u001b[0m estimators \u001b[38;5;241m=\u001b[39m [\n\u001b[0;32m      2\u001b[0m               (\u001b[38;5;124m'\u001b[39m\u001b[38;5;124mrf\u001b[39m\u001b[38;5;124m'\u001b[39m, rf),\n\u001b[0;32m      3\u001b[0m               (\u001b[38;5;124m'\u001b[39m\u001b[38;5;124met\u001b[39m\u001b[38;5;124m'\u001b[39m, et),\n\u001b[0;32m      4\u001b[0m               \u001b[38;5;66;03m# ('bag', bag),\u001b[39;00m\n\u001b[0;32m      5\u001b[0m              ]\n\u001b[0;32m      7\u001b[0m stack_model \u001b[38;5;241m=\u001b[39m StackingRegressor(estimators\u001b[38;5;241m=\u001b[39mestimators, final_estimator\u001b[38;5;241m=\u001b[39mbag)\n\u001b[1;32m----> 9\u001b[0m \u001b[43mstack_model\u001b[49m\u001b[38;5;241;43m.\u001b[39;49m\u001b[43mfit\u001b[49m\u001b[43m(\u001b[49m\u001b[43mX_train\u001b[49m\u001b[43m,\u001b[49m\u001b[43m \u001b[49m\u001b[43my_train\u001b[49m\u001b[43m)\u001b[49m\n",
      "File \u001b[1;32m~\\anaconda3\\lib\\site-packages\\sklearn\\ensemble\\_stacking.py:759\u001b[0m, in \u001b[0;36mStackingRegressor.fit\u001b[1;34m(self, X, y, sample_weight)\u001b[0m\n\u001b[0;32m    737\u001b[0m \u001b[38;5;124;03m\"\"\"Fit the estimators.\u001b[39;00m\n\u001b[0;32m    738\u001b[0m \n\u001b[0;32m    739\u001b[0m \u001b[38;5;124;03mParameters\u001b[39;00m\n\u001b[1;32m   (...)\u001b[0m\n\u001b[0;32m    756\u001b[0m \u001b[38;5;124;03m    Returns a fitted instance.\u001b[39;00m\n\u001b[0;32m    757\u001b[0m \u001b[38;5;124;03m\"\"\"\u001b[39;00m\n\u001b[0;32m    758\u001b[0m y \u001b[38;5;241m=\u001b[39m column_or_1d(y, warn\u001b[38;5;241m=\u001b[39m\u001b[38;5;28;01mTrue\u001b[39;00m)\n\u001b[1;32m--> 759\u001b[0m \u001b[38;5;28;01mreturn\u001b[39;00m \u001b[38;5;28;43msuper\u001b[39;49m\u001b[43m(\u001b[49m\u001b[43m)\u001b[49m\u001b[38;5;241;43m.\u001b[39;49m\u001b[43mfit\u001b[49m\u001b[43m(\u001b[49m\u001b[43mX\u001b[49m\u001b[43m,\u001b[49m\u001b[43m \u001b[49m\u001b[43my\u001b[49m\u001b[43m,\u001b[49m\u001b[43m \u001b[49m\u001b[43msample_weight\u001b[49m\u001b[43m)\u001b[49m\n",
      "File \u001b[1;32m~\\anaconda3\\lib\\site-packages\\sklearn\\ensemble\\_stacking.py:217\u001b[0m, in \u001b[0;36m_BaseStacking.fit\u001b[1;34m(self, X, y, sample_weight)\u001b[0m\n\u001b[0;32m    210\u001b[0m \u001b[38;5;28mself\u001b[39m\u001b[38;5;241m.\u001b[39mstack_method_ \u001b[38;5;241m=\u001b[39m [\n\u001b[0;32m    211\u001b[0m     meth\n\u001b[0;32m    212\u001b[0m     \u001b[38;5;28;01mfor\u001b[39;00m (meth, est) \u001b[38;5;129;01min\u001b[39;00m \u001b[38;5;28mzip\u001b[39m(\u001b[38;5;28mself\u001b[39m\u001b[38;5;241m.\u001b[39mstack_method_, all_estimators)\n\u001b[0;32m    213\u001b[0m     \u001b[38;5;28;01mif\u001b[39;00m est \u001b[38;5;241m!=\u001b[39m \u001b[38;5;124m\"\u001b[39m\u001b[38;5;124mdrop\u001b[39m\u001b[38;5;124m\"\u001b[39m\n\u001b[0;32m    214\u001b[0m ]\n\u001b[0;32m    216\u001b[0m X_meta \u001b[38;5;241m=\u001b[39m \u001b[38;5;28mself\u001b[39m\u001b[38;5;241m.\u001b[39m_concatenate_predictions(X, predictions)\n\u001b[1;32m--> 217\u001b[0m \u001b[43m_fit_single_estimator\u001b[49m\u001b[43m(\u001b[49m\n\u001b[0;32m    218\u001b[0m \u001b[43m    \u001b[49m\u001b[38;5;28;43mself\u001b[39;49m\u001b[38;5;241;43m.\u001b[39;49m\u001b[43mfinal_estimator_\u001b[49m\u001b[43m,\u001b[49m\u001b[43m \u001b[49m\u001b[43mX_meta\u001b[49m\u001b[43m,\u001b[49m\u001b[43m \u001b[49m\u001b[43my\u001b[49m\u001b[43m,\u001b[49m\u001b[43m \u001b[49m\u001b[43msample_weight\u001b[49m\u001b[38;5;241;43m=\u001b[39;49m\u001b[43msample_weight\u001b[49m\n\u001b[0;32m    219\u001b[0m \u001b[43m\u001b[49m\u001b[43m)\u001b[49m\n\u001b[0;32m    221\u001b[0m \u001b[38;5;28;01mreturn\u001b[39;00m \u001b[38;5;28mself\u001b[39m\n",
      "File \u001b[1;32m~\\anaconda3\\lib\\site-packages\\sklearn\\ensemble\\_base.py:42\u001b[0m, in \u001b[0;36m_fit_single_estimator\u001b[1;34m(estimator, X, y, sample_weight, message_clsname, message)\u001b[0m\n\u001b[0;32m     40\u001b[0m \u001b[38;5;28;01melse\u001b[39;00m:\n\u001b[0;32m     41\u001b[0m     \u001b[38;5;28;01mwith\u001b[39;00m _print_elapsed_time(message_clsname, message):\n\u001b[1;32m---> 42\u001b[0m         \u001b[43mestimator\u001b[49m\u001b[38;5;241;43m.\u001b[39;49m\u001b[43mfit\u001b[49m\u001b[43m(\u001b[49m\u001b[43mX\u001b[49m\u001b[43m,\u001b[49m\u001b[43m \u001b[49m\u001b[43my\u001b[49m\u001b[43m)\u001b[49m\n\u001b[0;32m     43\u001b[0m \u001b[38;5;28;01mreturn\u001b[39;00m estimator\n",
      "File \u001b[1;32m~\\anaconda3\\lib\\site-packages\\sklearn\\pipeline.py:390\u001b[0m, in \u001b[0;36mPipeline.fit\u001b[1;34m(self, X, y, **fit_params)\u001b[0m\n\u001b[0;32m    364\u001b[0m \u001b[38;5;124;03m\"\"\"Fit the model.\u001b[39;00m\n\u001b[0;32m    365\u001b[0m \n\u001b[0;32m    366\u001b[0m \u001b[38;5;124;03mFit all the transformers one after the other and transform the\u001b[39;00m\n\u001b[1;32m   (...)\u001b[0m\n\u001b[0;32m    387\u001b[0m \u001b[38;5;124;03m    Pipeline with fitted steps.\u001b[39;00m\n\u001b[0;32m    388\u001b[0m \u001b[38;5;124;03m\"\"\"\u001b[39;00m\n\u001b[0;32m    389\u001b[0m fit_params_steps \u001b[38;5;241m=\u001b[39m \u001b[38;5;28mself\u001b[39m\u001b[38;5;241m.\u001b[39m_check_fit_params(\u001b[38;5;241m*\u001b[39m\u001b[38;5;241m*\u001b[39mfit_params)\n\u001b[1;32m--> 390\u001b[0m Xt \u001b[38;5;241m=\u001b[39m \u001b[38;5;28mself\u001b[39m\u001b[38;5;241m.\u001b[39m_fit(X, y, \u001b[38;5;241m*\u001b[39m\u001b[38;5;241m*\u001b[39mfit_params_steps)\n\u001b[0;32m    391\u001b[0m \u001b[38;5;28;01mwith\u001b[39;00m _print_elapsed_time(\u001b[38;5;124m\"\u001b[39m\u001b[38;5;124mPipeline\u001b[39m\u001b[38;5;124m\"\u001b[39m, \u001b[38;5;28mself\u001b[39m\u001b[38;5;241m.\u001b[39m_log_message(\u001b[38;5;28mlen\u001b[39m(\u001b[38;5;28mself\u001b[39m\u001b[38;5;241m.\u001b[39msteps) \u001b[38;5;241m-\u001b[39m \u001b[38;5;241m1\u001b[39m)):\n\u001b[0;32m    392\u001b[0m     \u001b[38;5;28;01mif\u001b[39;00m \u001b[38;5;28mself\u001b[39m\u001b[38;5;241m.\u001b[39m_final_estimator \u001b[38;5;241m!=\u001b[39m \u001b[38;5;124m\"\u001b[39m\u001b[38;5;124mpassthrough\u001b[39m\u001b[38;5;124m\"\u001b[39m:\n",
      "File \u001b[1;32m~\\anaconda3\\lib\\site-packages\\sklearn\\pipeline.py:348\u001b[0m, in \u001b[0;36mPipeline._fit\u001b[1;34m(self, X, y, **fit_params_steps)\u001b[0m\n\u001b[0;32m    346\u001b[0m     cloned_transformer \u001b[38;5;241m=\u001b[39m clone(transformer)\n\u001b[0;32m    347\u001b[0m \u001b[38;5;66;03m# Fit or load from cache the current transformer\u001b[39;00m\n\u001b[1;32m--> 348\u001b[0m X, fitted_transformer \u001b[38;5;241m=\u001b[39m fit_transform_one_cached(\n\u001b[0;32m    349\u001b[0m     cloned_transformer,\n\u001b[0;32m    350\u001b[0m     X,\n\u001b[0;32m    351\u001b[0m     y,\n\u001b[0;32m    352\u001b[0m     \u001b[38;5;28;01mNone\u001b[39;00m,\n\u001b[0;32m    353\u001b[0m     message_clsname\u001b[38;5;241m=\u001b[39m\u001b[38;5;124m\"\u001b[39m\u001b[38;5;124mPipeline\u001b[39m\u001b[38;5;124m\"\u001b[39m,\n\u001b[0;32m    354\u001b[0m     message\u001b[38;5;241m=\u001b[39m\u001b[38;5;28mself\u001b[39m\u001b[38;5;241m.\u001b[39m_log_message(step_idx),\n\u001b[0;32m    355\u001b[0m     \u001b[38;5;241m*\u001b[39m\u001b[38;5;241m*\u001b[39mfit_params_steps[name],\n\u001b[0;32m    356\u001b[0m )\n\u001b[0;32m    357\u001b[0m \u001b[38;5;66;03m# Replace the transformer of the step with the fitted\u001b[39;00m\n\u001b[0;32m    358\u001b[0m \u001b[38;5;66;03m# transformer. This is necessary when loading the transformer\u001b[39;00m\n\u001b[0;32m    359\u001b[0m \u001b[38;5;66;03m# from the cache.\u001b[39;00m\n\u001b[0;32m    360\u001b[0m \u001b[38;5;28mself\u001b[39m\u001b[38;5;241m.\u001b[39msteps[step_idx] \u001b[38;5;241m=\u001b[39m (name, fitted_transformer)\n",
      "File \u001b[1;32m~\\anaconda3\\lib\\site-packages\\joblib\\memory.py:349\u001b[0m, in \u001b[0;36mNotMemorizedFunc.__call__\u001b[1;34m(self, *args, **kwargs)\u001b[0m\n\u001b[0;32m    348\u001b[0m \u001b[38;5;28;01mdef\u001b[39;00m \u001b[38;5;21m__call__\u001b[39m(\u001b[38;5;28mself\u001b[39m, \u001b[38;5;241m*\u001b[39margs, \u001b[38;5;241m*\u001b[39m\u001b[38;5;241m*\u001b[39mkwargs):\n\u001b[1;32m--> 349\u001b[0m     \u001b[38;5;28;01mreturn\u001b[39;00m \u001b[38;5;28mself\u001b[39m\u001b[38;5;241m.\u001b[39mfunc(\u001b[38;5;241m*\u001b[39margs, \u001b[38;5;241m*\u001b[39m\u001b[38;5;241m*\u001b[39mkwargs)\n",
      "File \u001b[1;32m~\\anaconda3\\lib\\site-packages\\sklearn\\pipeline.py:893\u001b[0m, in \u001b[0;36m_fit_transform_one\u001b[1;34m(transformer, X, y, weight, message_clsname, message, **fit_params)\u001b[0m\n\u001b[0;32m    891\u001b[0m \u001b[38;5;28;01mwith\u001b[39;00m _print_elapsed_time(message_clsname, message):\n\u001b[0;32m    892\u001b[0m     \u001b[38;5;28;01mif\u001b[39;00m \u001b[38;5;28mhasattr\u001b[39m(transformer, \u001b[38;5;124m\"\u001b[39m\u001b[38;5;124mfit_transform\u001b[39m\u001b[38;5;124m\"\u001b[39m):\n\u001b[1;32m--> 893\u001b[0m         res \u001b[38;5;241m=\u001b[39m transformer\u001b[38;5;241m.\u001b[39mfit_transform(X, y, \u001b[38;5;241m*\u001b[39m\u001b[38;5;241m*\u001b[39mfit_params)\n\u001b[0;32m    894\u001b[0m     \u001b[38;5;28;01melse\u001b[39;00m:\n\u001b[0;32m    895\u001b[0m         res \u001b[38;5;241m=\u001b[39m transformer\u001b[38;5;241m.\u001b[39mfit(X, y, \u001b[38;5;241m*\u001b[39m\u001b[38;5;241m*\u001b[39mfit_params)\u001b[38;5;241m.\u001b[39mtransform(X)\n",
      "File \u001b[1;32m~\\anaconda3\\lib\\site-packages\\sklearn\\compose\\_column_transformer.py:672\u001b[0m, in \u001b[0;36mColumnTransformer.fit_transform\u001b[1;34m(self, X, y)\u001b[0m\n\u001b[0;32m    670\u001b[0m \u001b[38;5;28mself\u001b[39m\u001b[38;5;241m.\u001b[39m_check_n_features(X, reset\u001b[38;5;241m=\u001b[39m\u001b[38;5;28;01mTrue\u001b[39;00m)\n\u001b[0;32m    671\u001b[0m \u001b[38;5;28mself\u001b[39m\u001b[38;5;241m.\u001b[39m_validate_transformers()\n\u001b[1;32m--> 672\u001b[0m \u001b[38;5;28;43mself\u001b[39;49m\u001b[38;5;241;43m.\u001b[39;49m\u001b[43m_validate_column_callables\u001b[49m\u001b[43m(\u001b[49m\u001b[43mX\u001b[49m\u001b[43m)\u001b[49m\n\u001b[0;32m    673\u001b[0m \u001b[38;5;28mself\u001b[39m\u001b[38;5;241m.\u001b[39m_validate_remainder(X)\n\u001b[0;32m    675\u001b[0m result \u001b[38;5;241m=\u001b[39m \u001b[38;5;28mself\u001b[39m\u001b[38;5;241m.\u001b[39m_fit_transform(X, y, _fit_transform_one)\n",
      "File \u001b[1;32m~\\anaconda3\\lib\\site-packages\\sklearn\\compose\\_column_transformer.py:352\u001b[0m, in \u001b[0;36mColumnTransformer._validate_column_callables\u001b[1;34m(self, X)\u001b[0m\n\u001b[0;32m    350\u001b[0m         columns \u001b[38;5;241m=\u001b[39m columns(X)\n\u001b[0;32m    351\u001b[0m     all_columns\u001b[38;5;241m.\u001b[39mappend(columns)\n\u001b[1;32m--> 352\u001b[0m     transformer_to_input_indices[name] \u001b[38;5;241m=\u001b[39m \u001b[43m_get_column_indices\u001b[49m\u001b[43m(\u001b[49m\u001b[43mX\u001b[49m\u001b[43m,\u001b[49m\u001b[43m \u001b[49m\u001b[43mcolumns\u001b[49m\u001b[43m)\u001b[49m\n\u001b[0;32m    354\u001b[0m \u001b[38;5;28mself\u001b[39m\u001b[38;5;241m.\u001b[39m_columns \u001b[38;5;241m=\u001b[39m all_columns\n\u001b[0;32m    355\u001b[0m \u001b[38;5;28mself\u001b[39m\u001b[38;5;241m.\u001b[39m_transformer_to_input_indices \u001b[38;5;241m=\u001b[39m transformer_to_input_indices\n",
      "File \u001b[1;32m~\\anaconda3\\lib\\site-packages\\sklearn\\utils\\__init__.py:411\u001b[0m, in \u001b[0;36m_get_column_indices\u001b[1;34m(X, key)\u001b[0m\n\u001b[0;32m    409\u001b[0m     all_columns \u001b[38;5;241m=\u001b[39m X\u001b[38;5;241m.\u001b[39mcolumns\n\u001b[0;32m    410\u001b[0m \u001b[38;5;28;01mexcept\u001b[39;00m \u001b[38;5;167;01mAttributeError\u001b[39;00m:\n\u001b[1;32m--> 411\u001b[0m     \u001b[38;5;28;01mraise\u001b[39;00m \u001b[38;5;167;01mValueError\u001b[39;00m(\n\u001b[0;32m    412\u001b[0m         \u001b[38;5;124m\"\u001b[39m\u001b[38;5;124mSpecifying the columns using strings is only \u001b[39m\u001b[38;5;124m\"\u001b[39m\n\u001b[0;32m    413\u001b[0m         \u001b[38;5;124m\"\u001b[39m\u001b[38;5;124msupported for pandas DataFrames\u001b[39m\u001b[38;5;124m\"\u001b[39m\n\u001b[0;32m    414\u001b[0m     )\n\u001b[0;32m    415\u001b[0m \u001b[38;5;28;01mif\u001b[39;00m \u001b[38;5;28misinstance\u001b[39m(key, \u001b[38;5;28mstr\u001b[39m):\n\u001b[0;32m    416\u001b[0m     columns \u001b[38;5;241m=\u001b[39m [key]\n",
      "\u001b[1;31mValueError\u001b[0m: Specifying the columns using strings is only supported for pandas DataFrames"
     ]
    }
   ],
   "source": [
    "estimators_pca = [\n",
    "              ('rf', rf),\n",
    "              ('et', et),\n",
    "              ('bag', bag),\n",
    "              ('xgb', xgb),\n",
    "              ('lgbm', lgbm)\n",
    "             ]\n",
    "\n",
    "stack_model = StackingRegressor(estimators=estimators, final_estimator=bag)\n",
    "\n",
    "stack_model.fit(X_train, y_train)"
   ]
  },
  {
   "cell_type": "code",
   "execution_count": 37,
   "id": "05c33dd2",
   "metadata": {},
   "outputs": [
    {
     "data": {
      "text/plain": [
       "32.003467789896284"
      ]
     },
     "execution_count": 37,
     "metadata": {},
     "output_type": "execute_result"
    }
   ],
   "source": [
    "# Check if the model fitted well or not\n",
    "predictions = stack_model.predict(X_train)\n",
    "\n",
    "mse = mean_squared_error(y_train, predictions)\n",
    "rmse = np.sqrt(mse)\n",
    "rmse"
   ]
  },
  {
   "cell_type": "code",
   "execution_count": 38,
   "id": "0f683930",
   "metadata": {},
   "outputs": [
    {
     "data": {
      "text/plain": [
       "52.91357827365574"
      ]
     },
     "execution_count": 38,
     "metadata": {},
     "output_type": "execute_result"
    }
   ],
   "source": [
    "# Check if the model fitted well or not\n",
    "predictions = stack_model.predict(X_test)\n",
    "\n",
    "mse = mean_squared_error(y_test, predictions)\n",
    "rmse = np.sqrt(mse)\n",
    "rmse"
   ]
  },
  {
   "cell_type": "code",
   "execution_count": 37,
   "id": "4fd7079a",
   "metadata": {},
   "outputs": [
    {
     "data": {
      "text/plain": [
       "VotingRegressor(estimators=[('rf',\n",
       "                             Pipeline(steps=[('columntransformer',\n",
       "                                              ColumnTransformer(transformers=[('cat',\n",
       "                                                                               OrdinalEncoder(),\n",
       "                                                                               Index(['Promotion Name', 'Store Kind', 'Degree', 'Work', 'Store Code',\n",
       "       'Country ISO2', 'Order Brand', 'Order', 'Department', 'Income Level',\n",
       "       'Price Tier'],\n",
       "      dtype='object')),\n",
       "                                                                              ('ohe',\n",
       "                                                                               OneHotEncoder(),\n",
       "                                                                               ['Marriage',\n",
       "                                                                                'Gender',\n",
       "                                                                                'Is '\n",
       "                                                                                'Recyclable?']),\n",
       "                                                                              ('nu...\n",
       "      dtype='object')),\n",
       "                                                                              ('ohe',\n",
       "                                                                               OneHotEncoder(),\n",
       "                                                                               ['Marriage',\n",
       "                                                                                'Gender',\n",
       "                                                                                'Is '\n",
       "                                                                                'Recyclable?']),\n",
       "                                                                              ('num',\n",
       "                                                                               StandardScaler(),\n",
       "                                                                               Index(['Grocery Area', 'Meat Area', 'Gross Weight', 'Package Weight',\n",
       "       'Min. Person Yearly Income', 'Family Expenses', 'Store Efficiency'],\n",
       "      dtype='object'))])),\n",
       "                                             ('baggingregressor',\n",
       "                                              BaggingRegressor(n_estimators=75,\n",
       "                                                               n_jobs=-1,\n",
       "                                                               random_state=42))]))],\n",
       "                weights=[0.3, 1, 0.2])"
      ]
     },
     "execution_count": 37,
     "metadata": {},
     "output_type": "execute_result"
    }
   ],
   "source": [
    "estimators = [\n",
    "              ('rf', rf),\n",
    "              ('et', et),\n",
    "              ('bag', bag),\n",
    "             ]\n",
    "\n",
    "voting_model = VotingRegressor(estimators=estimators, weights=[0.3, 1, 0.2])\n",
    "\n",
    "voting_model.fit(X_train, y_train)"
   ]
  },
  {
   "cell_type": "code",
   "execution_count": 38,
   "id": "b8bbd4ad",
   "metadata": {},
   "outputs": [
    {
     "data": {
      "text/plain": [
       "24.041391985513222"
      ]
     },
     "execution_count": 38,
     "metadata": {},
     "output_type": "execute_result"
    }
   ],
   "source": [
    "# Check if the model fitted well or not\n",
    "predictions = voting_model.predict(X_train)\n",
    "\n",
    "mse = mean_squared_error(y_train, predictions)\n",
    "rmse = np.sqrt(mse)\n",
    "rmse"
   ]
  },
  {
   "cell_type": "code",
   "execution_count": 39,
   "id": "f525ac2c",
   "metadata": {},
   "outputs": [
    {
     "data": {
      "text/plain": [
       "47.91169884488162"
      ]
     },
     "execution_count": 39,
     "metadata": {},
     "output_type": "execute_result"
    }
   ],
   "source": [
    "predictions = voting_model.predict(X_test)\n",
    "\n",
    "mse = mean_squared_error(y_test, predictions)\n",
    "rmse = np.sqrt(mse)\n",
    "rmse"
   ]
  },
  {
   "cell_type": "markdown",
   "id": "4677ed5e",
   "metadata": {},
   "source": [
    "## Optuna Optimization"
   ]
  },
  {
   "cell_type": "code",
   "execution_count": 37,
   "id": "9fca49b5",
   "metadata": {},
   "outputs": [
    {
     "name": "stderr",
     "output_type": "stream",
     "text": [
      "[I 2023-09-02 22:03:41,055] A new study created in memory with name: no-name-3055d8b8-0f16-447d-b8fd-353ad4cbbbc3\n",
      "[I 2023-09-02 22:04:01,158] Trial 0 finished with value: 137.13294977144182 and parameters: {'n_estimators': 524, 'max_depth': 5}. Best is trial 0 with value: 137.13294977144182.\n",
      "[I 2023-09-02 22:05:07,340] Trial 1 finished with value: 50.40120047242929 and parameters: {'n_estimators': 797, 'max_depth': 26}. Best is trial 1 with value: 50.40120047242929.\n",
      "[I 2023-09-02 22:05:48,127] Trial 2 finished with value: 50.227880417511166 and parameters: {'n_estimators': 480, 'max_depth': 17}. Best is trial 2 with value: 50.227880417511166.\n",
      "[I 2023-09-02 22:06:42,185] Trial 3 finished with value: 50.29874410584554 and parameters: {'n_estimators': 608, 'max_depth': 19}. Best is trial 2 with value: 50.227880417511166.\n",
      "[I 2023-09-02 22:08:00,554] Trial 4 finished with value: 50.301167973490934 and parameters: {'n_estimators': 942, 'max_depth': 21}. Best is trial 2 with value: 50.227880417511166.\n",
      "[I 2023-09-02 22:08:40,269] Trial 5 finished with value: 53.866682783658305 and parameters: {'n_estimators': 587, 'max_depth': 13}. Best is trial 2 with value: 50.227880417511166.\n",
      "[I 2023-09-02 22:09:43,048] Trial 6 finished with value: 50.257722498387075 and parameters: {'n_estimators': 782, 'max_depth': 19}. Best is trial 2 with value: 50.227880417511166.\n",
      "[I 2023-09-02 22:10:30,535] Trial 7 finished with value: 50.09393309051568 and parameters: {'n_estimators': 584, 'max_depth': 18}. Best is trial 7 with value: 50.09393309051568.\n",
      "[I 2023-09-02 22:10:53,046] Trial 8 finished with value: 112.74430838120975 and parameters: {'n_estimators': 551, 'max_depth': 7}. Best is trial 7 with value: 50.09393309051568.\n",
      "[I 2023-09-02 22:11:16,430] Trial 9 finished with value: 50.49012362416576 and parameters: {'n_estimators': 267, 'max_depth': 32}. Best is trial 7 with value: 50.09393309051568.\n",
      "[I 2023-09-02 22:11:24,228] Trial 10 finished with value: 63.88216946623474 and parameters: {'n_estimators': 115, 'max_depth': 11}. Best is trial 7 with value: 50.09393309051568.\n",
      "[I 2023-09-02 22:11:50,120] Trial 11 finished with value: 51.774778496477595 and parameters: {'n_estimators': 369, 'max_depth': 14}. Best is trial 7 with value: 50.09393309051568.\n",
      "[I 2023-09-02 22:12:23,050] Trial 12 finished with value: 50.462082658957236 and parameters: {'n_estimators': 391, 'max_depth': 26}. Best is trial 7 with value: 50.09393309051568.\n",
      "[W 2023-09-02 22:13:12,541] Trial 13 failed with parameters: {'n_estimators': 760, 'max_depth': 23} because of the following error: KeyboardInterrupt().\n",
      "Traceback (most recent call last):\n",
      "  File \"C:\\Users\\Kershrita\\anaconda3\\lib\\site-packages\\optuna\\study\\_optimize.py\", line 200, in _run_trial\n",
      "    value_or_values = func(trial)\n",
      "  File \"C:\\Users\\Kershrita\\AppData\\Local\\Temp\\ipykernel_11096\\1541749604.py\", line 18, in objective\n",
      "    scores=cross_val_score(model, X_train_transformed, y_train, cv=kf, scoring=rmse_scorer)\n",
      "  File \"C:\\Users\\Kershrita\\anaconda3\\lib\\site-packages\\sklearn\\model_selection\\_validation.py\", line 509, in cross_val_score\n",
      "    cv_results = cross_validate(\n",
      "  File \"C:\\Users\\Kershrita\\anaconda3\\lib\\site-packages\\sklearn\\model_selection\\_validation.py\", line 267, in cross_validate\n",
      "    results = parallel(\n",
      "  File \"C:\\Users\\Kershrita\\anaconda3\\lib\\site-packages\\joblib\\parallel.py\", line 1046, in __call__\n",
      "    while self.dispatch_one_batch(iterator):\n",
      "  File \"C:\\Users\\Kershrita\\anaconda3\\lib\\site-packages\\joblib\\parallel.py\", line 861, in dispatch_one_batch\n",
      "    self._dispatch(tasks)\n",
      "  File \"C:\\Users\\Kershrita\\anaconda3\\lib\\site-packages\\joblib\\parallel.py\", line 779, in _dispatch\n",
      "    job = self._backend.apply_async(batch, callback=cb)\n",
      "  File \"C:\\Users\\Kershrita\\anaconda3\\lib\\site-packages\\joblib\\_parallel_backends.py\", line 208, in apply_async\n",
      "    result = ImmediateResult(func)\n",
      "  File \"C:\\Users\\Kershrita\\anaconda3\\lib\\site-packages\\joblib\\_parallel_backends.py\", line 572, in __init__\n",
      "    self.results = batch()\n",
      "  File \"C:\\Users\\Kershrita\\anaconda3\\lib\\site-packages\\joblib\\parallel.py\", line 262, in __call__\n",
      "    return [func(*args, **kwargs)\n",
      "  File \"C:\\Users\\Kershrita\\anaconda3\\lib\\site-packages\\joblib\\parallel.py\", line 262, in <listcomp>\n",
      "    return [func(*args, **kwargs)\n",
      "  File \"C:\\Users\\Kershrita\\anaconda3\\lib\\site-packages\\sklearn\\utils\\fixes.py\", line 216, in __call__\n",
      "    return self.function(*args, **kwargs)\n",
      "  File \"C:\\Users\\Kershrita\\anaconda3\\lib\\site-packages\\sklearn\\model_selection\\_validation.py\", line 680, in _fit_and_score\n",
      "    estimator.fit(X_train, y_train, **fit_params)\n",
      "  File \"C:\\Users\\Kershrita\\anaconda3\\lib\\site-packages\\sklearn\\ensemble\\_forest.py\", line 450, in fit\n",
      "    trees = Parallel(\n",
      "  File \"C:\\Users\\Kershrita\\anaconda3\\lib\\site-packages\\joblib\\parallel.py\", line 1056, in __call__\n",
      "    self.retrieve()\n",
      "  File \"C:\\Users\\Kershrita\\anaconda3\\lib\\site-packages\\joblib\\parallel.py\", line 935, in retrieve\n",
      "    self._output.extend(job.get(timeout=self.timeout))\n",
      "  File \"C:\\Users\\Kershrita\\anaconda3\\lib\\site-packages\\joblib\\_parallel_backends.py\", line 542, in wrap_future_result\n",
      "    return future.result(timeout=timeout)\n",
      "  File \"C:\\Users\\Kershrita\\anaconda3\\lib\\concurrent\\futures\\_base.py\", line 441, in result\n",
      "    self._condition.wait(timeout)\n",
      "  File \"C:\\Users\\Kershrita\\anaconda3\\lib\\threading.py\", line 312, in wait\n",
      "    waiter.acquire()\n",
      "KeyboardInterrupt\n",
      "[W 2023-09-02 22:13:12,557] Trial 13 failed with value None.\n"
     ]
    },
    {
     "ename": "KeyboardInterrupt",
     "evalue": "",
     "output_type": "error",
     "traceback": [
      "\u001b[1;31m---------------------------------------------------------------------------\u001b[0m",
      "\u001b[1;31mKeyboardInterrupt\u001b[0m                         Traceback (most recent call last)",
      "Input \u001b[1;32mIn [37]\u001b[0m, in \u001b[0;36m<cell line: 25>\u001b[1;34m()\u001b[0m\n\u001b[0;32m     22\u001b[0m     \u001b[38;5;28;01mreturn\u001b[39;00m positive_scores\n\u001b[0;32m     24\u001b[0m study \u001b[38;5;241m=\u001b[39m optuna\u001b[38;5;241m.\u001b[39mcreate_study(direction\u001b[38;5;241m=\u001b[39m\u001b[38;5;124m'\u001b[39m\u001b[38;5;124mminimize\u001b[39m\u001b[38;5;124m'\u001b[39m)\n\u001b[1;32m---> 25\u001b[0m \u001b[43mstudy\u001b[49m\u001b[38;5;241;43m.\u001b[39;49m\u001b[43moptimize\u001b[49m\u001b[43m(\u001b[49m\u001b[43mobjective\u001b[49m\u001b[43m,\u001b[49m\u001b[43m \u001b[49m\u001b[43mn_trials\u001b[49m\u001b[38;5;241;43m=\u001b[39;49m\u001b[38;5;241;43m50\u001b[39;49m\u001b[43m)\u001b[49m\n",
      "File \u001b[1;32m~\\anaconda3\\lib\\site-packages\\optuna\\study\\study.py:442\u001b[0m, in \u001b[0;36mStudy.optimize\u001b[1;34m(self, func, n_trials, timeout, n_jobs, catch, callbacks, gc_after_trial, show_progress_bar)\u001b[0m\n\u001b[0;32m    339\u001b[0m \u001b[38;5;28;01mdef\u001b[39;00m \u001b[38;5;21moptimize\u001b[39m(\n\u001b[0;32m    340\u001b[0m     \u001b[38;5;28mself\u001b[39m,\n\u001b[0;32m    341\u001b[0m     func: ObjectiveFuncType,\n\u001b[1;32m   (...)\u001b[0m\n\u001b[0;32m    348\u001b[0m     show_progress_bar: \u001b[38;5;28mbool\u001b[39m \u001b[38;5;241m=\u001b[39m \u001b[38;5;28;01mFalse\u001b[39;00m,\n\u001b[0;32m    349\u001b[0m ) \u001b[38;5;241m-\u001b[39m\u001b[38;5;241m>\u001b[39m \u001b[38;5;28;01mNone\u001b[39;00m:\n\u001b[0;32m    350\u001b[0m     \u001b[38;5;124;03m\"\"\"Optimize an objective function.\u001b[39;00m\n\u001b[0;32m    351\u001b[0m \n\u001b[0;32m    352\u001b[0m \u001b[38;5;124;03m    Optimization is done by choosing a suitable set of hyperparameter values from a given\u001b[39;00m\n\u001b[1;32m   (...)\u001b[0m\n\u001b[0;32m    440\u001b[0m \u001b[38;5;124;03m            If nested invocation of this method occurs.\u001b[39;00m\n\u001b[0;32m    441\u001b[0m \u001b[38;5;124;03m    \"\"\"\u001b[39;00m\n\u001b[1;32m--> 442\u001b[0m     \u001b[43m_optimize\u001b[49m\u001b[43m(\u001b[49m\n\u001b[0;32m    443\u001b[0m \u001b[43m        \u001b[49m\u001b[43mstudy\u001b[49m\u001b[38;5;241;43m=\u001b[39;49m\u001b[38;5;28;43mself\u001b[39;49m\u001b[43m,\u001b[49m\n\u001b[0;32m    444\u001b[0m \u001b[43m        \u001b[49m\u001b[43mfunc\u001b[49m\u001b[38;5;241;43m=\u001b[39;49m\u001b[43mfunc\u001b[49m\u001b[43m,\u001b[49m\n\u001b[0;32m    445\u001b[0m \u001b[43m        \u001b[49m\u001b[43mn_trials\u001b[49m\u001b[38;5;241;43m=\u001b[39;49m\u001b[43mn_trials\u001b[49m\u001b[43m,\u001b[49m\n\u001b[0;32m    446\u001b[0m \u001b[43m        \u001b[49m\u001b[43mtimeout\u001b[49m\u001b[38;5;241;43m=\u001b[39;49m\u001b[43mtimeout\u001b[49m\u001b[43m,\u001b[49m\n\u001b[0;32m    447\u001b[0m \u001b[43m        \u001b[49m\u001b[43mn_jobs\u001b[49m\u001b[38;5;241;43m=\u001b[39;49m\u001b[43mn_jobs\u001b[49m\u001b[43m,\u001b[49m\n\u001b[0;32m    448\u001b[0m \u001b[43m        \u001b[49m\u001b[43mcatch\u001b[49m\u001b[38;5;241;43m=\u001b[39;49m\u001b[38;5;28;43mtuple\u001b[39;49m\u001b[43m(\u001b[49m\u001b[43mcatch\u001b[49m\u001b[43m)\u001b[49m\u001b[43m \u001b[49m\u001b[38;5;28;43;01mif\u001b[39;49;00m\u001b[43m \u001b[49m\u001b[38;5;28;43misinstance\u001b[39;49m\u001b[43m(\u001b[49m\u001b[43mcatch\u001b[49m\u001b[43m,\u001b[49m\u001b[43m \u001b[49m\u001b[43mIterable\u001b[49m\u001b[43m)\u001b[49m\u001b[43m \u001b[49m\u001b[38;5;28;43;01melse\u001b[39;49;00m\u001b[43m \u001b[49m\u001b[43m(\u001b[49m\u001b[43mcatch\u001b[49m\u001b[43m,\u001b[49m\u001b[43m)\u001b[49m\u001b[43m,\u001b[49m\n\u001b[0;32m    449\u001b[0m \u001b[43m        \u001b[49m\u001b[43mcallbacks\u001b[49m\u001b[38;5;241;43m=\u001b[39;49m\u001b[43mcallbacks\u001b[49m\u001b[43m,\u001b[49m\n\u001b[0;32m    450\u001b[0m \u001b[43m        \u001b[49m\u001b[43mgc_after_trial\u001b[49m\u001b[38;5;241;43m=\u001b[39;49m\u001b[43mgc_after_trial\u001b[49m\u001b[43m,\u001b[49m\n\u001b[0;32m    451\u001b[0m \u001b[43m        \u001b[49m\u001b[43mshow_progress_bar\u001b[49m\u001b[38;5;241;43m=\u001b[39;49m\u001b[43mshow_progress_bar\u001b[49m\u001b[43m,\u001b[49m\n\u001b[0;32m    452\u001b[0m \u001b[43m    \u001b[49m\u001b[43m)\u001b[49m\n",
      "File \u001b[1;32m~\\anaconda3\\lib\\site-packages\\optuna\\study\\_optimize.py:66\u001b[0m, in \u001b[0;36m_optimize\u001b[1;34m(study, func, n_trials, timeout, n_jobs, catch, callbacks, gc_after_trial, show_progress_bar)\u001b[0m\n\u001b[0;32m     64\u001b[0m \u001b[38;5;28;01mtry\u001b[39;00m:\n\u001b[0;32m     65\u001b[0m     \u001b[38;5;28;01mif\u001b[39;00m n_jobs \u001b[38;5;241m==\u001b[39m \u001b[38;5;241m1\u001b[39m:\n\u001b[1;32m---> 66\u001b[0m         \u001b[43m_optimize_sequential\u001b[49m\u001b[43m(\u001b[49m\n\u001b[0;32m     67\u001b[0m \u001b[43m            \u001b[49m\u001b[43mstudy\u001b[49m\u001b[43m,\u001b[49m\n\u001b[0;32m     68\u001b[0m \u001b[43m            \u001b[49m\u001b[43mfunc\u001b[49m\u001b[43m,\u001b[49m\n\u001b[0;32m     69\u001b[0m \u001b[43m            \u001b[49m\u001b[43mn_trials\u001b[49m\u001b[43m,\u001b[49m\n\u001b[0;32m     70\u001b[0m \u001b[43m            \u001b[49m\u001b[43mtimeout\u001b[49m\u001b[43m,\u001b[49m\n\u001b[0;32m     71\u001b[0m \u001b[43m            \u001b[49m\u001b[43mcatch\u001b[49m\u001b[43m,\u001b[49m\n\u001b[0;32m     72\u001b[0m \u001b[43m            \u001b[49m\u001b[43mcallbacks\u001b[49m\u001b[43m,\u001b[49m\n\u001b[0;32m     73\u001b[0m \u001b[43m            \u001b[49m\u001b[43mgc_after_trial\u001b[49m\u001b[43m,\u001b[49m\n\u001b[0;32m     74\u001b[0m \u001b[43m            \u001b[49m\u001b[43mreseed_sampler_rng\u001b[49m\u001b[38;5;241;43m=\u001b[39;49m\u001b[38;5;28;43;01mFalse\u001b[39;49;00m\u001b[43m,\u001b[49m\n\u001b[0;32m     75\u001b[0m \u001b[43m            \u001b[49m\u001b[43mtime_start\u001b[49m\u001b[38;5;241;43m=\u001b[39;49m\u001b[38;5;28;43;01mNone\u001b[39;49;00m\u001b[43m,\u001b[49m\n\u001b[0;32m     76\u001b[0m \u001b[43m            \u001b[49m\u001b[43mprogress_bar\u001b[49m\u001b[38;5;241;43m=\u001b[39;49m\u001b[43mprogress_bar\u001b[49m\u001b[43m,\u001b[49m\n\u001b[0;32m     77\u001b[0m \u001b[43m        \u001b[49m\u001b[43m)\u001b[49m\n\u001b[0;32m     78\u001b[0m     \u001b[38;5;28;01melse\u001b[39;00m:\n\u001b[0;32m     79\u001b[0m         \u001b[38;5;28;01mif\u001b[39;00m n_jobs \u001b[38;5;241m==\u001b[39m \u001b[38;5;241m-\u001b[39m\u001b[38;5;241m1\u001b[39m:\n",
      "File \u001b[1;32m~\\anaconda3\\lib\\site-packages\\optuna\\study\\_optimize.py:163\u001b[0m, in \u001b[0;36m_optimize_sequential\u001b[1;34m(study, func, n_trials, timeout, catch, callbacks, gc_after_trial, reseed_sampler_rng, time_start, progress_bar)\u001b[0m\n\u001b[0;32m    160\u001b[0m         \u001b[38;5;28;01mbreak\u001b[39;00m\n\u001b[0;32m    162\u001b[0m \u001b[38;5;28;01mtry\u001b[39;00m:\n\u001b[1;32m--> 163\u001b[0m     frozen_trial \u001b[38;5;241m=\u001b[39m \u001b[43m_run_trial\u001b[49m\u001b[43m(\u001b[49m\u001b[43mstudy\u001b[49m\u001b[43m,\u001b[49m\u001b[43m \u001b[49m\u001b[43mfunc\u001b[49m\u001b[43m,\u001b[49m\u001b[43m \u001b[49m\u001b[43mcatch\u001b[49m\u001b[43m)\u001b[49m\n\u001b[0;32m    164\u001b[0m \u001b[38;5;28;01mfinally\u001b[39;00m:\n\u001b[0;32m    165\u001b[0m     \u001b[38;5;66;03m# The following line mitigates memory problems that can be occurred in some\u001b[39;00m\n\u001b[0;32m    166\u001b[0m     \u001b[38;5;66;03m# environments (e.g., services that use computing containers such as GitHub Actions).\u001b[39;00m\n\u001b[0;32m    167\u001b[0m     \u001b[38;5;66;03m# Please refer to the following PR for further details:\u001b[39;00m\n\u001b[0;32m    168\u001b[0m     \u001b[38;5;66;03m# https://github.com/optuna/optuna/pull/325.\u001b[39;00m\n\u001b[0;32m    169\u001b[0m     \u001b[38;5;28;01mif\u001b[39;00m gc_after_trial:\n",
      "File \u001b[1;32m~\\anaconda3\\lib\\site-packages\\optuna\\study\\_optimize.py:251\u001b[0m, in \u001b[0;36m_run_trial\u001b[1;34m(study, func, catch)\u001b[0m\n\u001b[0;32m    244\u001b[0m         \u001b[38;5;28;01massert\u001b[39;00m \u001b[38;5;28;01mFalse\u001b[39;00m, \u001b[38;5;124m\"\u001b[39m\u001b[38;5;124mShould not reach.\u001b[39m\u001b[38;5;124m\"\u001b[39m\n\u001b[0;32m    246\u001b[0m \u001b[38;5;28;01mif\u001b[39;00m (\n\u001b[0;32m    247\u001b[0m     frozen_trial\u001b[38;5;241m.\u001b[39mstate \u001b[38;5;241m==\u001b[39m TrialState\u001b[38;5;241m.\u001b[39mFAIL\n\u001b[0;32m    248\u001b[0m     \u001b[38;5;129;01mand\u001b[39;00m func_err \u001b[38;5;129;01mis\u001b[39;00m \u001b[38;5;129;01mnot\u001b[39;00m \u001b[38;5;28;01mNone\u001b[39;00m\n\u001b[0;32m    249\u001b[0m     \u001b[38;5;129;01mand\u001b[39;00m \u001b[38;5;129;01mnot\u001b[39;00m \u001b[38;5;28misinstance\u001b[39m(func_err, catch)\n\u001b[0;32m    250\u001b[0m ):\n\u001b[1;32m--> 251\u001b[0m     \u001b[38;5;28;01mraise\u001b[39;00m func_err\n\u001b[0;32m    252\u001b[0m \u001b[38;5;28;01mreturn\u001b[39;00m frozen_trial\n",
      "File \u001b[1;32m~\\anaconda3\\lib\\site-packages\\optuna\\study\\_optimize.py:200\u001b[0m, in \u001b[0;36m_run_trial\u001b[1;34m(study, func, catch)\u001b[0m\n\u001b[0;32m    198\u001b[0m \u001b[38;5;28;01mwith\u001b[39;00m get_heartbeat_thread(trial\u001b[38;5;241m.\u001b[39m_trial_id, study\u001b[38;5;241m.\u001b[39m_storage):\n\u001b[0;32m    199\u001b[0m     \u001b[38;5;28;01mtry\u001b[39;00m:\n\u001b[1;32m--> 200\u001b[0m         value_or_values \u001b[38;5;241m=\u001b[39m \u001b[43mfunc\u001b[49m\u001b[43m(\u001b[49m\u001b[43mtrial\u001b[49m\u001b[43m)\u001b[49m\n\u001b[0;32m    201\u001b[0m     \u001b[38;5;28;01mexcept\u001b[39;00m exceptions\u001b[38;5;241m.\u001b[39mTrialPruned \u001b[38;5;28;01mas\u001b[39;00m e:\n\u001b[0;32m    202\u001b[0m         \u001b[38;5;66;03m# TODO(mamu): Handle multi-objective cases.\u001b[39;00m\n\u001b[0;32m    203\u001b[0m         state \u001b[38;5;241m=\u001b[39m TrialState\u001b[38;5;241m.\u001b[39mPRUNED\n",
      "Input \u001b[1;32mIn [37]\u001b[0m, in \u001b[0;36mobjective\u001b[1;34m(trial)\u001b[0m\n\u001b[0;32m     13\u001b[0m model \u001b[38;5;241m=\u001b[39m ExtraTreesRegressor(\u001b[38;5;241m*\u001b[39m\u001b[38;5;241m*\u001b[39mparams, n_jobs\u001b[38;5;241m=\u001b[39m\u001b[38;5;241m-\u001b[39m\u001b[38;5;241m1\u001b[39m, random_state\u001b[38;5;241m=\u001b[39m\u001b[38;5;241m42\u001b[39m)\n\u001b[0;32m     16\u001b[0m kf \u001b[38;5;241m=\u001b[39m KFold(n_splits\u001b[38;5;241m=\u001b[39m\u001b[38;5;241m5\u001b[39m, shuffle\u001b[38;5;241m=\u001b[39m\u001b[38;5;28;01mTrue\u001b[39;00m, random_state\u001b[38;5;241m=\u001b[39m\u001b[38;5;241m42\u001b[39m)\n\u001b[1;32m---> 18\u001b[0m scores\u001b[38;5;241m=\u001b[39m\u001b[43mcross_val_score\u001b[49m\u001b[43m(\u001b[49m\u001b[43mmodel\u001b[49m\u001b[43m,\u001b[49m\u001b[43m \u001b[49m\u001b[43mX_train_transformed\u001b[49m\u001b[43m,\u001b[49m\u001b[43m \u001b[49m\u001b[43my_train\u001b[49m\u001b[43m,\u001b[49m\u001b[43m \u001b[49m\u001b[43mcv\u001b[49m\u001b[38;5;241;43m=\u001b[39;49m\u001b[43mkf\u001b[49m\u001b[43m,\u001b[49m\u001b[43m \u001b[49m\u001b[43mscoring\u001b[49m\u001b[38;5;241;43m=\u001b[39;49m\u001b[43mrmse_scorer\u001b[49m\u001b[43m)\u001b[49m\n\u001b[0;32m     19\u001b[0m positive_scores \u001b[38;5;241m=\u001b[39m (\u001b[38;5;241m-\u001b[39mscores)\u001b[38;5;241m.\u001b[39mmean()\n\u001b[0;32m     22\u001b[0m \u001b[38;5;28;01mreturn\u001b[39;00m positive_scores\n",
      "File \u001b[1;32m~\\anaconda3\\lib\\site-packages\\sklearn\\model_selection\\_validation.py:509\u001b[0m, in \u001b[0;36mcross_val_score\u001b[1;34m(estimator, X, y, groups, scoring, cv, n_jobs, verbose, fit_params, pre_dispatch, error_score)\u001b[0m\n\u001b[0;32m    506\u001b[0m \u001b[38;5;66;03m# To ensure multimetric format is not supported\u001b[39;00m\n\u001b[0;32m    507\u001b[0m scorer \u001b[38;5;241m=\u001b[39m check_scoring(estimator, scoring\u001b[38;5;241m=\u001b[39mscoring)\n\u001b[1;32m--> 509\u001b[0m cv_results \u001b[38;5;241m=\u001b[39m \u001b[43mcross_validate\u001b[49m\u001b[43m(\u001b[49m\n\u001b[0;32m    510\u001b[0m \u001b[43m    \u001b[49m\u001b[43mestimator\u001b[49m\u001b[38;5;241;43m=\u001b[39;49m\u001b[43mestimator\u001b[49m\u001b[43m,\u001b[49m\n\u001b[0;32m    511\u001b[0m \u001b[43m    \u001b[49m\u001b[43mX\u001b[49m\u001b[38;5;241;43m=\u001b[39;49m\u001b[43mX\u001b[49m\u001b[43m,\u001b[49m\n\u001b[0;32m    512\u001b[0m \u001b[43m    \u001b[49m\u001b[43my\u001b[49m\u001b[38;5;241;43m=\u001b[39;49m\u001b[43my\u001b[49m\u001b[43m,\u001b[49m\n\u001b[0;32m    513\u001b[0m \u001b[43m    \u001b[49m\u001b[43mgroups\u001b[49m\u001b[38;5;241;43m=\u001b[39;49m\u001b[43mgroups\u001b[49m\u001b[43m,\u001b[49m\n\u001b[0;32m    514\u001b[0m \u001b[43m    \u001b[49m\u001b[43mscoring\u001b[49m\u001b[38;5;241;43m=\u001b[39;49m\u001b[43m{\u001b[49m\u001b[38;5;124;43m\"\u001b[39;49m\u001b[38;5;124;43mscore\u001b[39;49m\u001b[38;5;124;43m\"\u001b[39;49m\u001b[43m:\u001b[49m\u001b[43m \u001b[49m\u001b[43mscorer\u001b[49m\u001b[43m}\u001b[49m\u001b[43m,\u001b[49m\n\u001b[0;32m    515\u001b[0m \u001b[43m    \u001b[49m\u001b[43mcv\u001b[49m\u001b[38;5;241;43m=\u001b[39;49m\u001b[43mcv\u001b[49m\u001b[43m,\u001b[49m\n\u001b[0;32m    516\u001b[0m \u001b[43m    \u001b[49m\u001b[43mn_jobs\u001b[49m\u001b[38;5;241;43m=\u001b[39;49m\u001b[43mn_jobs\u001b[49m\u001b[43m,\u001b[49m\n\u001b[0;32m    517\u001b[0m \u001b[43m    \u001b[49m\u001b[43mverbose\u001b[49m\u001b[38;5;241;43m=\u001b[39;49m\u001b[43mverbose\u001b[49m\u001b[43m,\u001b[49m\n\u001b[0;32m    518\u001b[0m \u001b[43m    \u001b[49m\u001b[43mfit_params\u001b[49m\u001b[38;5;241;43m=\u001b[39;49m\u001b[43mfit_params\u001b[49m\u001b[43m,\u001b[49m\n\u001b[0;32m    519\u001b[0m \u001b[43m    \u001b[49m\u001b[43mpre_dispatch\u001b[49m\u001b[38;5;241;43m=\u001b[39;49m\u001b[43mpre_dispatch\u001b[49m\u001b[43m,\u001b[49m\n\u001b[0;32m    520\u001b[0m \u001b[43m    \u001b[49m\u001b[43merror_score\u001b[49m\u001b[38;5;241;43m=\u001b[39;49m\u001b[43merror_score\u001b[49m\u001b[43m,\u001b[49m\n\u001b[0;32m    521\u001b[0m \u001b[43m\u001b[49m\u001b[43m)\u001b[49m\n\u001b[0;32m    522\u001b[0m \u001b[38;5;28;01mreturn\u001b[39;00m cv_results[\u001b[38;5;124m\"\u001b[39m\u001b[38;5;124mtest_score\u001b[39m\u001b[38;5;124m\"\u001b[39m]\n",
      "File \u001b[1;32m~\\anaconda3\\lib\\site-packages\\sklearn\\model_selection\\_validation.py:267\u001b[0m, in \u001b[0;36mcross_validate\u001b[1;34m(estimator, X, y, groups, scoring, cv, n_jobs, verbose, fit_params, pre_dispatch, return_train_score, return_estimator, error_score)\u001b[0m\n\u001b[0;32m    264\u001b[0m \u001b[38;5;66;03m# We clone the estimator to make sure that all the folds are\u001b[39;00m\n\u001b[0;32m    265\u001b[0m \u001b[38;5;66;03m# independent, and that it is pickle-able.\u001b[39;00m\n\u001b[0;32m    266\u001b[0m parallel \u001b[38;5;241m=\u001b[39m Parallel(n_jobs\u001b[38;5;241m=\u001b[39mn_jobs, verbose\u001b[38;5;241m=\u001b[39mverbose, pre_dispatch\u001b[38;5;241m=\u001b[39mpre_dispatch)\n\u001b[1;32m--> 267\u001b[0m results \u001b[38;5;241m=\u001b[39m \u001b[43mparallel\u001b[49m\u001b[43m(\u001b[49m\n\u001b[0;32m    268\u001b[0m \u001b[43m    \u001b[49m\u001b[43mdelayed\u001b[49m\u001b[43m(\u001b[49m\u001b[43m_fit_and_score\u001b[49m\u001b[43m)\u001b[49m\u001b[43m(\u001b[49m\n\u001b[0;32m    269\u001b[0m \u001b[43m        \u001b[49m\u001b[43mclone\u001b[49m\u001b[43m(\u001b[49m\u001b[43mestimator\u001b[49m\u001b[43m)\u001b[49m\u001b[43m,\u001b[49m\n\u001b[0;32m    270\u001b[0m \u001b[43m        \u001b[49m\u001b[43mX\u001b[49m\u001b[43m,\u001b[49m\n\u001b[0;32m    271\u001b[0m \u001b[43m        \u001b[49m\u001b[43my\u001b[49m\u001b[43m,\u001b[49m\n\u001b[0;32m    272\u001b[0m \u001b[43m        \u001b[49m\u001b[43mscorers\u001b[49m\u001b[43m,\u001b[49m\n\u001b[0;32m    273\u001b[0m \u001b[43m        \u001b[49m\u001b[43mtrain\u001b[49m\u001b[43m,\u001b[49m\n\u001b[0;32m    274\u001b[0m \u001b[43m        \u001b[49m\u001b[43mtest\u001b[49m\u001b[43m,\u001b[49m\n\u001b[0;32m    275\u001b[0m \u001b[43m        \u001b[49m\u001b[43mverbose\u001b[49m\u001b[43m,\u001b[49m\n\u001b[0;32m    276\u001b[0m \u001b[43m        \u001b[49m\u001b[38;5;28;43;01mNone\u001b[39;49;00m\u001b[43m,\u001b[49m\n\u001b[0;32m    277\u001b[0m \u001b[43m        \u001b[49m\u001b[43mfit_params\u001b[49m\u001b[43m,\u001b[49m\n\u001b[0;32m    278\u001b[0m \u001b[43m        \u001b[49m\u001b[43mreturn_train_score\u001b[49m\u001b[38;5;241;43m=\u001b[39;49m\u001b[43mreturn_train_score\u001b[49m\u001b[43m,\u001b[49m\n\u001b[0;32m    279\u001b[0m \u001b[43m        \u001b[49m\u001b[43mreturn_times\u001b[49m\u001b[38;5;241;43m=\u001b[39;49m\u001b[38;5;28;43;01mTrue\u001b[39;49;00m\u001b[43m,\u001b[49m\n\u001b[0;32m    280\u001b[0m \u001b[43m        \u001b[49m\u001b[43mreturn_estimator\u001b[49m\u001b[38;5;241;43m=\u001b[39;49m\u001b[43mreturn_estimator\u001b[49m\u001b[43m,\u001b[49m\n\u001b[0;32m    281\u001b[0m \u001b[43m        \u001b[49m\u001b[43merror_score\u001b[49m\u001b[38;5;241;43m=\u001b[39;49m\u001b[43merror_score\u001b[49m\u001b[43m,\u001b[49m\n\u001b[0;32m    282\u001b[0m \u001b[43m    \u001b[49m\u001b[43m)\u001b[49m\n\u001b[0;32m    283\u001b[0m \u001b[43m    \u001b[49m\u001b[38;5;28;43;01mfor\u001b[39;49;00m\u001b[43m \u001b[49m\u001b[43mtrain\u001b[49m\u001b[43m,\u001b[49m\u001b[43m \u001b[49m\u001b[43mtest\u001b[49m\u001b[43m \u001b[49m\u001b[38;5;129;43;01min\u001b[39;49;00m\u001b[43m \u001b[49m\u001b[43mcv\u001b[49m\u001b[38;5;241;43m.\u001b[39;49m\u001b[43msplit\u001b[49m\u001b[43m(\u001b[49m\u001b[43mX\u001b[49m\u001b[43m,\u001b[49m\u001b[43m \u001b[49m\u001b[43my\u001b[49m\u001b[43m,\u001b[49m\u001b[43m \u001b[49m\u001b[43mgroups\u001b[49m\u001b[43m)\u001b[49m\n\u001b[0;32m    284\u001b[0m \u001b[43m\u001b[49m\u001b[43m)\u001b[49m\n\u001b[0;32m    286\u001b[0m _warn_about_fit_failures(results, error_score)\n\u001b[0;32m    288\u001b[0m \u001b[38;5;66;03m# For callabe scoring, the return type is only know after calling. If the\u001b[39;00m\n\u001b[0;32m    289\u001b[0m \u001b[38;5;66;03m# return type is a dictionary, the error scores can now be inserted with\u001b[39;00m\n\u001b[0;32m    290\u001b[0m \u001b[38;5;66;03m# the correct key.\u001b[39;00m\n",
      "File \u001b[1;32m~\\anaconda3\\lib\\site-packages\\joblib\\parallel.py:1046\u001b[0m, in \u001b[0;36mParallel.__call__\u001b[1;34m(self, iterable)\u001b[0m\n\u001b[0;32m   1043\u001b[0m \u001b[38;5;28;01mif\u001b[39;00m \u001b[38;5;28mself\u001b[39m\u001b[38;5;241m.\u001b[39mdispatch_one_batch(iterator):\n\u001b[0;32m   1044\u001b[0m     \u001b[38;5;28mself\u001b[39m\u001b[38;5;241m.\u001b[39m_iterating \u001b[38;5;241m=\u001b[39m \u001b[38;5;28mself\u001b[39m\u001b[38;5;241m.\u001b[39m_original_iterator \u001b[38;5;129;01mis\u001b[39;00m \u001b[38;5;129;01mnot\u001b[39;00m \u001b[38;5;28;01mNone\u001b[39;00m\n\u001b[1;32m-> 1046\u001b[0m \u001b[38;5;28;01mwhile\u001b[39;00m \u001b[38;5;28;43mself\u001b[39;49m\u001b[38;5;241;43m.\u001b[39;49m\u001b[43mdispatch_one_batch\u001b[49m\u001b[43m(\u001b[49m\u001b[43miterator\u001b[49m\u001b[43m)\u001b[49m:\n\u001b[0;32m   1047\u001b[0m     \u001b[38;5;28;01mpass\u001b[39;00m\n\u001b[0;32m   1049\u001b[0m \u001b[38;5;28;01mif\u001b[39;00m pre_dispatch \u001b[38;5;241m==\u001b[39m \u001b[38;5;124m\"\u001b[39m\u001b[38;5;124mall\u001b[39m\u001b[38;5;124m\"\u001b[39m \u001b[38;5;129;01mor\u001b[39;00m n_jobs \u001b[38;5;241m==\u001b[39m \u001b[38;5;241m1\u001b[39m:\n\u001b[0;32m   1050\u001b[0m     \u001b[38;5;66;03m# The iterable was consumed all at once by the above for loop.\u001b[39;00m\n\u001b[0;32m   1051\u001b[0m     \u001b[38;5;66;03m# No need to wait for async callbacks to trigger to\u001b[39;00m\n\u001b[0;32m   1052\u001b[0m     \u001b[38;5;66;03m# consumption.\u001b[39;00m\n",
      "File \u001b[1;32m~\\anaconda3\\lib\\site-packages\\joblib\\parallel.py:861\u001b[0m, in \u001b[0;36mParallel.dispatch_one_batch\u001b[1;34m(self, iterator)\u001b[0m\n\u001b[0;32m    859\u001b[0m     \u001b[38;5;28;01mreturn\u001b[39;00m \u001b[38;5;28;01mFalse\u001b[39;00m\n\u001b[0;32m    860\u001b[0m \u001b[38;5;28;01melse\u001b[39;00m:\n\u001b[1;32m--> 861\u001b[0m     \u001b[38;5;28;43mself\u001b[39;49m\u001b[38;5;241;43m.\u001b[39;49m\u001b[43m_dispatch\u001b[49m\u001b[43m(\u001b[49m\u001b[43mtasks\u001b[49m\u001b[43m)\u001b[49m\n\u001b[0;32m    862\u001b[0m     \u001b[38;5;28;01mreturn\u001b[39;00m \u001b[38;5;28;01mTrue\u001b[39;00m\n",
      "File \u001b[1;32m~\\anaconda3\\lib\\site-packages\\joblib\\parallel.py:779\u001b[0m, in \u001b[0;36mParallel._dispatch\u001b[1;34m(self, batch)\u001b[0m\n\u001b[0;32m    777\u001b[0m \u001b[38;5;28;01mwith\u001b[39;00m \u001b[38;5;28mself\u001b[39m\u001b[38;5;241m.\u001b[39m_lock:\n\u001b[0;32m    778\u001b[0m     job_idx \u001b[38;5;241m=\u001b[39m \u001b[38;5;28mlen\u001b[39m(\u001b[38;5;28mself\u001b[39m\u001b[38;5;241m.\u001b[39m_jobs)\n\u001b[1;32m--> 779\u001b[0m     job \u001b[38;5;241m=\u001b[39m \u001b[38;5;28;43mself\u001b[39;49m\u001b[38;5;241;43m.\u001b[39;49m\u001b[43m_backend\u001b[49m\u001b[38;5;241;43m.\u001b[39;49m\u001b[43mapply_async\u001b[49m\u001b[43m(\u001b[49m\u001b[43mbatch\u001b[49m\u001b[43m,\u001b[49m\u001b[43m \u001b[49m\u001b[43mcallback\u001b[49m\u001b[38;5;241;43m=\u001b[39;49m\u001b[43mcb\u001b[49m\u001b[43m)\u001b[49m\n\u001b[0;32m    780\u001b[0m     \u001b[38;5;66;03m# A job can complete so quickly than its callback is\u001b[39;00m\n\u001b[0;32m    781\u001b[0m     \u001b[38;5;66;03m# called before we get here, causing self._jobs to\u001b[39;00m\n\u001b[0;32m    782\u001b[0m     \u001b[38;5;66;03m# grow. To ensure correct results ordering, .insert is\u001b[39;00m\n\u001b[0;32m    783\u001b[0m     \u001b[38;5;66;03m# used (rather than .append) in the following line\u001b[39;00m\n\u001b[0;32m    784\u001b[0m     \u001b[38;5;28mself\u001b[39m\u001b[38;5;241m.\u001b[39m_jobs\u001b[38;5;241m.\u001b[39minsert(job_idx, job)\n",
      "File \u001b[1;32m~\\anaconda3\\lib\\site-packages\\joblib\\_parallel_backends.py:208\u001b[0m, in \u001b[0;36mSequentialBackend.apply_async\u001b[1;34m(self, func, callback)\u001b[0m\n\u001b[0;32m    206\u001b[0m \u001b[38;5;28;01mdef\u001b[39;00m \u001b[38;5;21mapply_async\u001b[39m(\u001b[38;5;28mself\u001b[39m, func, callback\u001b[38;5;241m=\u001b[39m\u001b[38;5;28;01mNone\u001b[39;00m):\n\u001b[0;32m    207\u001b[0m     \u001b[38;5;124;03m\"\"\"Schedule a func to be run\"\"\"\u001b[39;00m\n\u001b[1;32m--> 208\u001b[0m     result \u001b[38;5;241m=\u001b[39m \u001b[43mImmediateResult\u001b[49m\u001b[43m(\u001b[49m\u001b[43mfunc\u001b[49m\u001b[43m)\u001b[49m\n\u001b[0;32m    209\u001b[0m     \u001b[38;5;28;01mif\u001b[39;00m callback:\n\u001b[0;32m    210\u001b[0m         callback(result)\n",
      "File \u001b[1;32m~\\anaconda3\\lib\\site-packages\\joblib\\_parallel_backends.py:572\u001b[0m, in \u001b[0;36mImmediateResult.__init__\u001b[1;34m(self, batch)\u001b[0m\n\u001b[0;32m    569\u001b[0m \u001b[38;5;28;01mdef\u001b[39;00m \u001b[38;5;21m__init__\u001b[39m(\u001b[38;5;28mself\u001b[39m, batch):\n\u001b[0;32m    570\u001b[0m     \u001b[38;5;66;03m# Don't delay the application, to avoid keeping the input\u001b[39;00m\n\u001b[0;32m    571\u001b[0m     \u001b[38;5;66;03m# arguments in memory\u001b[39;00m\n\u001b[1;32m--> 572\u001b[0m     \u001b[38;5;28mself\u001b[39m\u001b[38;5;241m.\u001b[39mresults \u001b[38;5;241m=\u001b[39m \u001b[43mbatch\u001b[49m\u001b[43m(\u001b[49m\u001b[43m)\u001b[49m\n",
      "File \u001b[1;32m~\\anaconda3\\lib\\site-packages\\joblib\\parallel.py:262\u001b[0m, in \u001b[0;36mBatchedCalls.__call__\u001b[1;34m(self)\u001b[0m\n\u001b[0;32m    258\u001b[0m \u001b[38;5;28;01mdef\u001b[39;00m \u001b[38;5;21m__call__\u001b[39m(\u001b[38;5;28mself\u001b[39m):\n\u001b[0;32m    259\u001b[0m     \u001b[38;5;66;03m# Set the default nested backend to self._backend but do not set the\u001b[39;00m\n\u001b[0;32m    260\u001b[0m     \u001b[38;5;66;03m# change the default number of processes to -1\u001b[39;00m\n\u001b[0;32m    261\u001b[0m     \u001b[38;5;28;01mwith\u001b[39;00m parallel_backend(\u001b[38;5;28mself\u001b[39m\u001b[38;5;241m.\u001b[39m_backend, n_jobs\u001b[38;5;241m=\u001b[39m\u001b[38;5;28mself\u001b[39m\u001b[38;5;241m.\u001b[39m_n_jobs):\n\u001b[1;32m--> 262\u001b[0m         \u001b[38;5;28;01mreturn\u001b[39;00m [func(\u001b[38;5;241m*\u001b[39margs, \u001b[38;5;241m*\u001b[39m\u001b[38;5;241m*\u001b[39mkwargs)\n\u001b[0;32m    263\u001b[0m                 \u001b[38;5;28;01mfor\u001b[39;00m func, args, kwargs \u001b[38;5;129;01min\u001b[39;00m \u001b[38;5;28mself\u001b[39m\u001b[38;5;241m.\u001b[39mitems]\n",
      "File \u001b[1;32m~\\anaconda3\\lib\\site-packages\\joblib\\parallel.py:262\u001b[0m, in \u001b[0;36m<listcomp>\u001b[1;34m(.0)\u001b[0m\n\u001b[0;32m    258\u001b[0m \u001b[38;5;28;01mdef\u001b[39;00m \u001b[38;5;21m__call__\u001b[39m(\u001b[38;5;28mself\u001b[39m):\n\u001b[0;32m    259\u001b[0m     \u001b[38;5;66;03m# Set the default nested backend to self._backend but do not set the\u001b[39;00m\n\u001b[0;32m    260\u001b[0m     \u001b[38;5;66;03m# change the default number of processes to -1\u001b[39;00m\n\u001b[0;32m    261\u001b[0m     \u001b[38;5;28;01mwith\u001b[39;00m parallel_backend(\u001b[38;5;28mself\u001b[39m\u001b[38;5;241m.\u001b[39m_backend, n_jobs\u001b[38;5;241m=\u001b[39m\u001b[38;5;28mself\u001b[39m\u001b[38;5;241m.\u001b[39m_n_jobs):\n\u001b[1;32m--> 262\u001b[0m         \u001b[38;5;28;01mreturn\u001b[39;00m [func(\u001b[38;5;241m*\u001b[39margs, \u001b[38;5;241m*\u001b[39m\u001b[38;5;241m*\u001b[39mkwargs)\n\u001b[0;32m    263\u001b[0m                 \u001b[38;5;28;01mfor\u001b[39;00m func, args, kwargs \u001b[38;5;129;01min\u001b[39;00m \u001b[38;5;28mself\u001b[39m\u001b[38;5;241m.\u001b[39mitems]\n",
      "File \u001b[1;32m~\\anaconda3\\lib\\site-packages\\sklearn\\utils\\fixes.py:216\u001b[0m, in \u001b[0;36m_FuncWrapper.__call__\u001b[1;34m(self, *args, **kwargs)\u001b[0m\n\u001b[0;32m    214\u001b[0m \u001b[38;5;28;01mdef\u001b[39;00m \u001b[38;5;21m__call__\u001b[39m(\u001b[38;5;28mself\u001b[39m, \u001b[38;5;241m*\u001b[39margs, \u001b[38;5;241m*\u001b[39m\u001b[38;5;241m*\u001b[39mkwargs):\n\u001b[0;32m    215\u001b[0m     \u001b[38;5;28;01mwith\u001b[39;00m config_context(\u001b[38;5;241m*\u001b[39m\u001b[38;5;241m*\u001b[39m\u001b[38;5;28mself\u001b[39m\u001b[38;5;241m.\u001b[39mconfig):\n\u001b[1;32m--> 216\u001b[0m         \u001b[38;5;28;01mreturn\u001b[39;00m \u001b[38;5;28mself\u001b[39m\u001b[38;5;241m.\u001b[39mfunction(\u001b[38;5;241m*\u001b[39margs, \u001b[38;5;241m*\u001b[39m\u001b[38;5;241m*\u001b[39mkwargs)\n",
      "File \u001b[1;32m~\\anaconda3\\lib\\site-packages\\sklearn\\model_selection\\_validation.py:680\u001b[0m, in \u001b[0;36m_fit_and_score\u001b[1;34m(estimator, X, y, scorer, train, test, verbose, parameters, fit_params, return_train_score, return_parameters, return_n_test_samples, return_times, return_estimator, split_progress, candidate_progress, error_score)\u001b[0m\n\u001b[0;32m    678\u001b[0m         estimator\u001b[38;5;241m.\u001b[39mfit(X_train, \u001b[38;5;241m*\u001b[39m\u001b[38;5;241m*\u001b[39mfit_params)\n\u001b[0;32m    679\u001b[0m     \u001b[38;5;28;01melse\u001b[39;00m:\n\u001b[1;32m--> 680\u001b[0m         estimator\u001b[38;5;241m.\u001b[39mfit(X_train, y_train, \u001b[38;5;241m*\u001b[39m\u001b[38;5;241m*\u001b[39mfit_params)\n\u001b[0;32m    682\u001b[0m \u001b[38;5;28;01mexcept\u001b[39;00m \u001b[38;5;167;01mException\u001b[39;00m:\n\u001b[0;32m    683\u001b[0m     \u001b[38;5;66;03m# Note fit time as time until error\u001b[39;00m\n\u001b[0;32m    684\u001b[0m     fit_time \u001b[38;5;241m=\u001b[39m time\u001b[38;5;241m.\u001b[39mtime() \u001b[38;5;241m-\u001b[39m start_time\n",
      "File \u001b[1;32m~\\anaconda3\\lib\\site-packages\\sklearn\\ensemble\\_forest.py:450\u001b[0m, in \u001b[0;36mBaseForest.fit\u001b[1;34m(self, X, y, sample_weight)\u001b[0m\n\u001b[0;32m    439\u001b[0m trees \u001b[38;5;241m=\u001b[39m [\n\u001b[0;32m    440\u001b[0m     \u001b[38;5;28mself\u001b[39m\u001b[38;5;241m.\u001b[39m_make_estimator(append\u001b[38;5;241m=\u001b[39m\u001b[38;5;28;01mFalse\u001b[39;00m, random_state\u001b[38;5;241m=\u001b[39mrandom_state)\n\u001b[0;32m    441\u001b[0m     \u001b[38;5;28;01mfor\u001b[39;00m i \u001b[38;5;129;01min\u001b[39;00m \u001b[38;5;28mrange\u001b[39m(n_more_estimators)\n\u001b[0;32m    442\u001b[0m ]\n\u001b[0;32m    444\u001b[0m \u001b[38;5;66;03m# Parallel loop: we prefer the threading backend as the Cython code\u001b[39;00m\n\u001b[0;32m    445\u001b[0m \u001b[38;5;66;03m# for fitting the trees is internally releasing the Python GIL\u001b[39;00m\n\u001b[0;32m    446\u001b[0m \u001b[38;5;66;03m# making threading more efficient than multiprocessing in\u001b[39;00m\n\u001b[0;32m    447\u001b[0m \u001b[38;5;66;03m# that case. However, for joblib 0.12+ we respect any\u001b[39;00m\n\u001b[0;32m    448\u001b[0m \u001b[38;5;66;03m# parallel_backend contexts set at a higher level,\u001b[39;00m\n\u001b[0;32m    449\u001b[0m \u001b[38;5;66;03m# since correctness does not rely on using threads.\u001b[39;00m\n\u001b[1;32m--> 450\u001b[0m trees \u001b[38;5;241m=\u001b[39m \u001b[43mParallel\u001b[49m\u001b[43m(\u001b[49m\n\u001b[0;32m    451\u001b[0m \u001b[43m    \u001b[49m\u001b[43mn_jobs\u001b[49m\u001b[38;5;241;43m=\u001b[39;49m\u001b[38;5;28;43mself\u001b[39;49m\u001b[38;5;241;43m.\u001b[39;49m\u001b[43mn_jobs\u001b[49m\u001b[43m,\u001b[49m\n\u001b[0;32m    452\u001b[0m \u001b[43m    \u001b[49m\u001b[43mverbose\u001b[49m\u001b[38;5;241;43m=\u001b[39;49m\u001b[38;5;28;43mself\u001b[39;49m\u001b[38;5;241;43m.\u001b[39;49m\u001b[43mverbose\u001b[49m\u001b[43m,\u001b[49m\n\u001b[0;32m    453\u001b[0m \u001b[43m    \u001b[49m\u001b[38;5;241;43m*\u001b[39;49m\u001b[38;5;241;43m*\u001b[39;49m\u001b[43m_joblib_parallel_args\u001b[49m\u001b[43m(\u001b[49m\u001b[43mprefer\u001b[49m\u001b[38;5;241;43m=\u001b[39;49m\u001b[38;5;124;43m\"\u001b[39;49m\u001b[38;5;124;43mthreads\u001b[39;49m\u001b[38;5;124;43m\"\u001b[39;49m\u001b[43m)\u001b[49m\u001b[43m,\u001b[49m\n\u001b[0;32m    454\u001b[0m \u001b[43m\u001b[49m\u001b[43m)\u001b[49m\u001b[43m(\u001b[49m\n\u001b[0;32m    455\u001b[0m \u001b[43m    \u001b[49m\u001b[43mdelayed\u001b[49m\u001b[43m(\u001b[49m\u001b[43m_parallel_build_trees\u001b[49m\u001b[43m)\u001b[49m\u001b[43m(\u001b[49m\n\u001b[0;32m    456\u001b[0m \u001b[43m        \u001b[49m\u001b[43mt\u001b[49m\u001b[43m,\u001b[49m\n\u001b[0;32m    457\u001b[0m \u001b[43m        \u001b[49m\u001b[38;5;28;43mself\u001b[39;49m\u001b[43m,\u001b[49m\n\u001b[0;32m    458\u001b[0m \u001b[43m        \u001b[49m\u001b[43mX\u001b[49m\u001b[43m,\u001b[49m\n\u001b[0;32m    459\u001b[0m \u001b[43m        \u001b[49m\u001b[43my\u001b[49m\u001b[43m,\u001b[49m\n\u001b[0;32m    460\u001b[0m \u001b[43m        \u001b[49m\u001b[43msample_weight\u001b[49m\u001b[43m,\u001b[49m\n\u001b[0;32m    461\u001b[0m \u001b[43m        \u001b[49m\u001b[43mi\u001b[49m\u001b[43m,\u001b[49m\n\u001b[0;32m    462\u001b[0m \u001b[43m        \u001b[49m\u001b[38;5;28;43mlen\u001b[39;49m\u001b[43m(\u001b[49m\u001b[43mtrees\u001b[49m\u001b[43m)\u001b[49m\u001b[43m,\u001b[49m\n\u001b[0;32m    463\u001b[0m \u001b[43m        \u001b[49m\u001b[43mverbose\u001b[49m\u001b[38;5;241;43m=\u001b[39;49m\u001b[38;5;28;43mself\u001b[39;49m\u001b[38;5;241;43m.\u001b[39;49m\u001b[43mverbose\u001b[49m\u001b[43m,\u001b[49m\n\u001b[0;32m    464\u001b[0m \u001b[43m        \u001b[49m\u001b[43mclass_weight\u001b[49m\u001b[38;5;241;43m=\u001b[39;49m\u001b[38;5;28;43mself\u001b[39;49m\u001b[38;5;241;43m.\u001b[39;49m\u001b[43mclass_weight\u001b[49m\u001b[43m,\u001b[49m\n\u001b[0;32m    465\u001b[0m \u001b[43m        \u001b[49m\u001b[43mn_samples_bootstrap\u001b[49m\u001b[38;5;241;43m=\u001b[39;49m\u001b[43mn_samples_bootstrap\u001b[49m\u001b[43m,\u001b[49m\n\u001b[0;32m    466\u001b[0m \u001b[43m    \u001b[49m\u001b[43m)\u001b[49m\n\u001b[0;32m    467\u001b[0m \u001b[43m    \u001b[49m\u001b[38;5;28;43;01mfor\u001b[39;49;00m\u001b[43m \u001b[49m\u001b[43mi\u001b[49m\u001b[43m,\u001b[49m\u001b[43m \u001b[49m\u001b[43mt\u001b[49m\u001b[43m \u001b[49m\u001b[38;5;129;43;01min\u001b[39;49;00m\u001b[43m \u001b[49m\u001b[38;5;28;43menumerate\u001b[39;49m\u001b[43m(\u001b[49m\u001b[43mtrees\u001b[49m\u001b[43m)\u001b[49m\n\u001b[0;32m    468\u001b[0m \u001b[43m\u001b[49m\u001b[43m)\u001b[49m\n\u001b[0;32m    470\u001b[0m \u001b[38;5;66;03m# Collect newly grown trees\u001b[39;00m\n\u001b[0;32m    471\u001b[0m \u001b[38;5;28mself\u001b[39m\u001b[38;5;241m.\u001b[39mestimators_\u001b[38;5;241m.\u001b[39mextend(trees)\n",
      "File \u001b[1;32m~\\anaconda3\\lib\\site-packages\\joblib\\parallel.py:1056\u001b[0m, in \u001b[0;36mParallel.__call__\u001b[1;34m(self, iterable)\u001b[0m\n\u001b[0;32m   1053\u001b[0m     \u001b[38;5;28mself\u001b[39m\u001b[38;5;241m.\u001b[39m_iterating \u001b[38;5;241m=\u001b[39m \u001b[38;5;28;01mFalse\u001b[39;00m\n\u001b[0;32m   1055\u001b[0m \u001b[38;5;28;01mwith\u001b[39;00m \u001b[38;5;28mself\u001b[39m\u001b[38;5;241m.\u001b[39m_backend\u001b[38;5;241m.\u001b[39mretrieval_context():\n\u001b[1;32m-> 1056\u001b[0m     \u001b[38;5;28;43mself\u001b[39;49m\u001b[38;5;241;43m.\u001b[39;49m\u001b[43mretrieve\u001b[49m\u001b[43m(\u001b[49m\u001b[43m)\u001b[49m\n\u001b[0;32m   1057\u001b[0m \u001b[38;5;66;03m# Make sure that we get a last message telling us we are done\u001b[39;00m\n\u001b[0;32m   1058\u001b[0m elapsed_time \u001b[38;5;241m=\u001b[39m time\u001b[38;5;241m.\u001b[39mtime() \u001b[38;5;241m-\u001b[39m \u001b[38;5;28mself\u001b[39m\u001b[38;5;241m.\u001b[39m_start_time\n",
      "File \u001b[1;32m~\\anaconda3\\lib\\site-packages\\joblib\\parallel.py:935\u001b[0m, in \u001b[0;36mParallel.retrieve\u001b[1;34m(self)\u001b[0m\n\u001b[0;32m    933\u001b[0m \u001b[38;5;28;01mtry\u001b[39;00m:\n\u001b[0;32m    934\u001b[0m     \u001b[38;5;28;01mif\u001b[39;00m \u001b[38;5;28mgetattr\u001b[39m(\u001b[38;5;28mself\u001b[39m\u001b[38;5;241m.\u001b[39m_backend, \u001b[38;5;124m'\u001b[39m\u001b[38;5;124msupports_timeout\u001b[39m\u001b[38;5;124m'\u001b[39m, \u001b[38;5;28;01mFalse\u001b[39;00m):\n\u001b[1;32m--> 935\u001b[0m         \u001b[38;5;28mself\u001b[39m\u001b[38;5;241m.\u001b[39m_output\u001b[38;5;241m.\u001b[39mextend(\u001b[43mjob\u001b[49m\u001b[38;5;241;43m.\u001b[39;49m\u001b[43mget\u001b[49m\u001b[43m(\u001b[49m\u001b[43mtimeout\u001b[49m\u001b[38;5;241;43m=\u001b[39;49m\u001b[38;5;28;43mself\u001b[39;49m\u001b[38;5;241;43m.\u001b[39;49m\u001b[43mtimeout\u001b[49m\u001b[43m)\u001b[49m)\n\u001b[0;32m    936\u001b[0m     \u001b[38;5;28;01melse\u001b[39;00m:\n\u001b[0;32m    937\u001b[0m         \u001b[38;5;28mself\u001b[39m\u001b[38;5;241m.\u001b[39m_output\u001b[38;5;241m.\u001b[39mextend(job\u001b[38;5;241m.\u001b[39mget())\n",
      "File \u001b[1;32m~\\anaconda3\\lib\\site-packages\\joblib\\_parallel_backends.py:542\u001b[0m, in \u001b[0;36mLokyBackend.wrap_future_result\u001b[1;34m(future, timeout)\u001b[0m\n\u001b[0;32m    539\u001b[0m \u001b[38;5;124;03m\"\"\"Wrapper for Future.result to implement the same behaviour as\u001b[39;00m\n\u001b[0;32m    540\u001b[0m \u001b[38;5;124;03mAsyncResults.get from multiprocessing.\"\"\"\u001b[39;00m\n\u001b[0;32m    541\u001b[0m \u001b[38;5;28;01mtry\u001b[39;00m:\n\u001b[1;32m--> 542\u001b[0m     \u001b[38;5;28;01mreturn\u001b[39;00m \u001b[43mfuture\u001b[49m\u001b[38;5;241;43m.\u001b[39;49m\u001b[43mresult\u001b[49m\u001b[43m(\u001b[49m\u001b[43mtimeout\u001b[49m\u001b[38;5;241;43m=\u001b[39;49m\u001b[43mtimeout\u001b[49m\u001b[43m)\u001b[49m\n\u001b[0;32m    543\u001b[0m \u001b[38;5;28;01mexcept\u001b[39;00m CfTimeoutError \u001b[38;5;28;01mas\u001b[39;00m e:\n\u001b[0;32m    544\u001b[0m     \u001b[38;5;28;01mraise\u001b[39;00m \u001b[38;5;167;01mTimeoutError\u001b[39;00m \u001b[38;5;28;01mfrom\u001b[39;00m \u001b[38;5;21;01me\u001b[39;00m\n",
      "File \u001b[1;32m~\\anaconda3\\lib\\concurrent\\futures\\_base.py:441\u001b[0m, in \u001b[0;36mFuture.result\u001b[1;34m(self, timeout)\u001b[0m\n\u001b[0;32m    438\u001b[0m \u001b[38;5;28;01melif\u001b[39;00m \u001b[38;5;28mself\u001b[39m\u001b[38;5;241m.\u001b[39m_state \u001b[38;5;241m==\u001b[39m FINISHED:\n\u001b[0;32m    439\u001b[0m     \u001b[38;5;28;01mreturn\u001b[39;00m \u001b[38;5;28mself\u001b[39m\u001b[38;5;241m.\u001b[39m__get_result()\n\u001b[1;32m--> 441\u001b[0m \u001b[38;5;28;43mself\u001b[39;49m\u001b[38;5;241;43m.\u001b[39;49m\u001b[43m_condition\u001b[49m\u001b[38;5;241;43m.\u001b[39;49m\u001b[43mwait\u001b[49m\u001b[43m(\u001b[49m\u001b[43mtimeout\u001b[49m\u001b[43m)\u001b[49m\n\u001b[0;32m    443\u001b[0m \u001b[38;5;28;01mif\u001b[39;00m \u001b[38;5;28mself\u001b[39m\u001b[38;5;241m.\u001b[39m_state \u001b[38;5;129;01min\u001b[39;00m [CANCELLED, CANCELLED_AND_NOTIFIED]:\n\u001b[0;32m    444\u001b[0m     \u001b[38;5;28;01mraise\u001b[39;00m CancelledError()\n",
      "File \u001b[1;32m~\\anaconda3\\lib\\threading.py:312\u001b[0m, in \u001b[0;36mCondition.wait\u001b[1;34m(self, timeout)\u001b[0m\n\u001b[0;32m    310\u001b[0m \u001b[38;5;28;01mtry\u001b[39;00m:    \u001b[38;5;66;03m# restore state no matter what (e.g., KeyboardInterrupt)\u001b[39;00m\n\u001b[0;32m    311\u001b[0m     \u001b[38;5;28;01mif\u001b[39;00m timeout \u001b[38;5;129;01mis\u001b[39;00m \u001b[38;5;28;01mNone\u001b[39;00m:\n\u001b[1;32m--> 312\u001b[0m         \u001b[43mwaiter\u001b[49m\u001b[38;5;241;43m.\u001b[39;49m\u001b[43macquire\u001b[49m\u001b[43m(\u001b[49m\u001b[43m)\u001b[49m\n\u001b[0;32m    313\u001b[0m         gotit \u001b[38;5;241m=\u001b[39m \u001b[38;5;28;01mTrue\u001b[39;00m\n\u001b[0;32m    314\u001b[0m     \u001b[38;5;28;01melse\u001b[39;00m:\n",
      "\u001b[1;31mKeyboardInterrupt\u001b[0m: "
     ]
    }
   ],
   "source": [
    "def rmse(y_true, y_pred):\n",
    "    return np.sqrt(np.mean((y_true - y_pred)**2))\n",
    "\n",
    "rmse_scorer = make_scorer(rmse, greater_is_better=False)\n",
    "\n",
    "def objective(trial):\n",
    "\n",
    "    params = {\n",
    "        'n_estimators': trial.suggest_int('n_estimators', 100, 1000),\n",
    "        'max_depth': trial.suggest_int('max_depth', 4, 32),\n",
    "    }\n",
    "    \n",
    "    model = ExtraTreesRegressor(**params, n_jobs=-1, random_state=42)\n",
    "\n",
    "\n",
    "    kf = KFold(n_splits=5, shuffle=True, random_state=42)\n",
    "\n",
    "    scores=cross_val_score(model, X_train_transformed, y_train, cv=kf, scoring=rmse_scorer)\n",
    "    positive_scores = (-scores).mean()\n",
    "\n",
    "\n",
    "    return positive_scores\n",
    "\n",
    "study = optuna.create_study(direction='minimize')\n",
    "study.optimize(objective, n_trials=50)"
   ]
  },
  {
   "cell_type": "code",
   "execution_count": null,
   "id": "2a70e3e6",
   "metadata": {},
   "outputs": [],
   "source": [
    "# Print the best hyperparameters and corresponding RMSE\n",
    "print(\"Best trial:\")\n",
    "trial = study.best_trial\n",
    "print(\"Value (RMSE): {}\".format(trial.value))\n",
    "print(\"Params: \")\n",
    "for key, value in trial.params.items():\n",
    "    print(\"    {}: {}\".format(key, value))"
   ]
  },
  {
   "cell_type": "code",
   "execution_count": null,
   "id": "30b2fd2a",
   "metadata": {},
   "outputs": [],
   "source": []
  },
  {
   "cell_type": "code",
   "execution_count": null,
   "id": "916f0504",
   "metadata": {},
   "outputs": [],
   "source": []
  },
  {
   "cell_type": "markdown",
   "id": "9e3877de",
   "metadata": {},
   "source": [
    "## Extract submissions"
   ]
  },
  {
   "cell_type": "code",
   "execution_count": 247,
   "id": "8b291afc",
   "metadata": {},
   "outputs": [
    {
     "data": {
      "text/html": [
       "<div>\n",
       "<style scoped>\n",
       "    .dataframe tbody tr th:only-of-type {\n",
       "        vertical-align: middle;\n",
       "    }\n",
       "\n",
       "    .dataframe tbody tr th {\n",
       "        vertical-align: top;\n",
       "    }\n",
       "\n",
       "    .dataframe thead th {\n",
       "        text-align: right;\n",
       "    }\n",
       "</style>\n",
       "<table border=\"1\" class=\"dataframe\">\n",
       "  <thead>\n",
       "    <tr style=\"text-align: right;\">\n",
       "      <th></th>\n",
       "      <th>ID</th>\n",
       "      <th>Cost</th>\n",
       "    </tr>\n",
       "  </thead>\n",
       "  <tbody>\n",
       "    <tr>\n",
       "      <th>0</th>\n",
       "      <td>0</td>\n",
       "      <td>0</td>\n",
       "    </tr>\n",
       "    <tr>\n",
       "      <th>1</th>\n",
       "      <td>1</td>\n",
       "      <td>0</td>\n",
       "    </tr>\n",
       "    <tr>\n",
       "      <th>2</th>\n",
       "      <td>2</td>\n",
       "      <td>0</td>\n",
       "    </tr>\n",
       "    <tr>\n",
       "      <th>3</th>\n",
       "      <td>3</td>\n",
       "      <td>0</td>\n",
       "    </tr>\n",
       "    <tr>\n",
       "      <th>4</th>\n",
       "      <td>4</td>\n",
       "      <td>0</td>\n",
       "    </tr>\n",
       "  </tbody>\n",
       "</table>\n",
       "</div>"
      ],
      "text/plain": [
       "   ID  Cost\n",
       "0   0     0\n",
       "1   1     0\n",
       "2   2     0\n",
       "3   3     0\n",
       "4   4     0"
      ]
     },
     "execution_count": 247,
     "metadata": {},
     "output_type": "execute_result"
    }
   ],
   "source": [
    "samples = pd.read_csv('data/sample_submission.csv')\n",
    "samples.head()"
   ]
  },
  {
   "cell_type": "code",
   "execution_count": 252,
   "id": "47086017",
   "metadata": {},
   "outputs": [
    {
     "data": {
      "text/html": [
       "<div>\n",
       "<style scoped>\n",
       "    .dataframe tbody tr th:only-of-type {\n",
       "        vertical-align: middle;\n",
       "    }\n",
       "\n",
       "    .dataframe tbody tr th {\n",
       "        vertical-align: top;\n",
       "    }\n",
       "\n",
       "    .dataframe thead th {\n",
       "        text-align: right;\n",
       "    }\n",
       "</style>\n",
       "<table border=\"1\" class=\"dataframe\">\n",
       "  <thead>\n",
       "    <tr style=\"text-align: right;\">\n",
       "      <th></th>\n",
       "      <th>Promotion Name</th>\n",
       "      <th>Store Kind</th>\n",
       "      <th>Store Sales</th>\n",
       "      <th>Store Cost</th>\n",
       "      <th>Is Recyclable?</th>\n",
       "      <th>Store Area</th>\n",
       "      <th>Grocery Area</th>\n",
       "      <th>Frozen Area</th>\n",
       "      <th>Meat Area</th>\n",
       "      <th>Degree Work</th>\n",
       "      <th>...</th>\n",
       "      <th>Store Code</th>\n",
       "      <th>Country ISO2</th>\n",
       "      <th>Order Brand</th>\n",
       "      <th>Order</th>\n",
       "      <th>Department</th>\n",
       "      <th>Amenities Score</th>\n",
       "      <th>Gross Weight</th>\n",
       "      <th>Net Weight</th>\n",
       "      <th>Package Weight</th>\n",
       "      <th>Min. Person Yearly Income</th>\n",
       "    </tr>\n",
       "  </thead>\n",
       "  <tbody>\n",
       "    <tr>\n",
       "      <th>0</th>\n",
       "      <td>Fantastic Discounts</td>\n",
       "      <td>Gourmet</td>\n",
       "      <td>11760000.00</td>\n",
       "      <td>4704000.00</td>\n",
       "      <td>yes</td>\n",
       "      <td>2201.06</td>\n",
       "      <td>1424.85</td>\n",
       "      <td>465.54</td>\n",
       "      <td>308.73</td>\n",
       "      <td>partial high school working as skilled manual</td>\n",
       "      <td>...</td>\n",
       "      <td>B06ls</td>\n",
       "      <td>CA</td>\n",
       "      <td>Gulf Coast</td>\n",
       "      <td>Candy</td>\n",
       "      <td>Snacks</td>\n",
       "      <td>5</td>\n",
       "      <td>31.83</td>\n",
       "      <td>28.78</td>\n",
       "      <td>3.05</td>\n",
       "      <td>50000.00</td>\n",
       "    </tr>\n",
       "    <tr>\n",
       "      <th>1</th>\n",
       "      <td>Bag Stuffer</td>\n",
       "      <td>Deluxe</td>\n",
       "      <td>2160000.00</td>\n",
       "      <td>669600.00</td>\n",
       "      <td>no</td>\n",
       "      <td>2577.16</td>\n",
       "      <td>1735.17</td>\n",
       "      <td>505.07</td>\n",
       "      <td>336.59</td>\n",
       "      <td>graduate degree working as professional</td>\n",
       "      <td>...</td>\n",
       "      <td>S01em</td>\n",
       "      <td>OR</td>\n",
       "      <td>Golden</td>\n",
       "      <td>Vegetables</td>\n",
       "      <td>Frozen Foods</td>\n",
       "      <td>5</td>\n",
       "      <td>29.94</td>\n",
       "      <td>27.04</td>\n",
       "      <td>2.91</td>\n",
       "      <td>70000.00</td>\n",
       "    </tr>\n",
       "    <tr>\n",
       "      <th>2</th>\n",
       "      <td>Pick Your Savings</td>\n",
       "      <td>Deluxe</td>\n",
       "      <td>1830000.00</td>\n",
       "      <td>823500.00</td>\n",
       "      <td>no</td>\n",
       "      <td>2837.58</td>\n",
       "      <td>2038.11</td>\n",
       "      <td>481.98</td>\n",
       "      <td>321.26</td>\n",
       "      <td>partial high school working as management</td>\n",
       "      <td>...</td>\n",
       "      <td>H11go</td>\n",
       "      <td>ZA</td>\n",
       "      <td>Club</td>\n",
       "      <td>Dairy</td>\n",
       "      <td>Dairy</td>\n",
       "      <td>5</td>\n",
       "      <td>29.22</td>\n",
       "      <td>26.31</td>\n",
       "      <td>2.91</td>\n",
       "      <td>130000.00</td>\n",
       "    </tr>\n",
       "    <tr>\n",
       "      <th>3</th>\n",
       "      <td>Price Winners</td>\n",
       "      <td>Deluxe</td>\n",
       "      <td>8820000.00</td>\n",
       "      <td>4410000.00</td>\n",
       "      <td>no</td>\n",
       "      <td>2859.04</td>\n",
       "      <td>1871.16</td>\n",
       "      <td>593.93</td>\n",
       "      <td>394.58</td>\n",
       "      <td>partial high school working as manual</td>\n",
       "      <td>...</td>\n",
       "      <td>M10da</td>\n",
       "      <td>YU</td>\n",
       "      <td>Imagine</td>\n",
       "      <td>Frozen Desserts</td>\n",
       "      <td>Frozen Foods</td>\n",
       "      <td>5</td>\n",
       "      <td>28.05</td>\n",
       "      <td>25.00</td>\n",
       "      <td>3.05</td>\n",
       "      <td>10000.00</td>\n",
       "    </tr>\n",
       "    <tr>\n",
       "      <th>4</th>\n",
       "      <td>Dollar Days</td>\n",
       "      <td>Supermarket</td>\n",
       "      <td>4320000.00</td>\n",
       "      <td>1987200.00</td>\n",
       "      <td>no</td>\n",
       "      <td>2193.97</td>\n",
       "      <td>1320.15</td>\n",
       "      <td>523.32</td>\n",
       "      <td>348.85</td>\n",
       "      <td>high school degree working as manual</td>\n",
       "      <td>...</td>\n",
       "      <td>L05es</td>\n",
       "      <td>CA</td>\n",
       "      <td>BBB Best</td>\n",
       "      <td>Hot Beverages</td>\n",
       "      <td>Beverages</td>\n",
       "      <td>1</td>\n",
       "      <td>23.55</td>\n",
       "      <td>20.64</td>\n",
       "      <td>2.91</td>\n",
       "      <td>30000.00</td>\n",
       "    </tr>\n",
       "  </tbody>\n",
       "</table>\n",
       "<p>5 rows × 25 columns</p>\n",
       "</div>"
      ],
      "text/plain": [
       "        Promotion Name   Store Kind  Store Sales  Store Cost Is Recyclable?  \\\n",
       "0  Fantastic Discounts      Gourmet  11760000.00  4704000.00            yes   \n",
       "1          Bag Stuffer       Deluxe   2160000.00   669600.00             no   \n",
       "2    Pick Your Savings       Deluxe   1830000.00   823500.00             no   \n",
       "3        Price Winners       Deluxe   8820000.00  4410000.00             no   \n",
       "4          Dollar Days  Supermarket   4320000.00  1987200.00             no   \n",
       "\n",
       "   Store Area  Grocery Area  Frozen Area  Meat Area  \\\n",
       "0     2201.06       1424.85       465.54     308.73   \n",
       "1     2577.16       1735.17       505.07     336.59   \n",
       "2     2837.58       2038.11       481.98     321.26   \n",
       "3     2859.04       1871.16       593.93     394.58   \n",
       "4     2193.97       1320.15       523.32     348.85   \n",
       "\n",
       "                                     Degree Work  ... Store Code Country ISO2  \\\n",
       "0  partial high school working as skilled manual  ...      B06ls           CA   \n",
       "1        graduate degree working as professional  ...      S01em           OR   \n",
       "2      partial high school working as management  ...      H11go           ZA   \n",
       "3          partial high school working as manual  ...      M10da           YU   \n",
       "4           high school degree working as manual  ...      L05es           CA   \n",
       "\n",
       "  Order Brand             Order    Department Amenities Score Gross Weight  \\\n",
       "0  Gulf Coast            Candy         Snacks               5        31.83   \n",
       "1      Golden       Vegetables   Frozen Foods               5        29.94   \n",
       "2        Club            Dairy          Dairy               5        29.22   \n",
       "3     Imagine  Frozen Desserts   Frozen Foods               5        28.05   \n",
       "4    BBB Best    Hot Beverages      Beverages               1        23.55   \n",
       "\n",
       "  Net Weight Package Weight Min. Person Yearly Income  \n",
       "0      28.78           3.05                  50000.00  \n",
       "1      27.04           2.91                  70000.00  \n",
       "2      26.31           2.91                 130000.00  \n",
       "3      25.00           3.05                  10000.00  \n",
       "4      20.64           2.91                  30000.00  \n",
       "\n",
       "[5 rows x 25 columns]"
      ]
     },
     "execution_count": 252,
     "metadata": {},
     "output_type": "execute_result"
    }
   ],
   "source": [
    "test = pd.read_csv(\"data/test_data_cleaned.csv\")\n",
    "test.head()"
   ]
  },
  {
   "cell_type": "code",
   "execution_count": 259,
   "id": "a9e62c7e",
   "metadata": {},
   "outputs": [
    {
     "data": {
      "text/plain": [
       "Promotion Name               0\n",
       "Store Kind                   0\n",
       "Store Cost                   0\n",
       "Is Recyclable?               0\n",
       "Grocery Area                 0\n",
       "Meat Area                    0\n",
       "Degree Work                  0\n",
       "Marriage                     0\n",
       "Gender                       0\n",
       "Children                     0\n",
       "Degree                       0\n",
       "Work                         0\n",
       "Store Code                   0\n",
       "Country ISO2                 0\n",
       "Order Brand                  0\n",
       "Order                        0\n",
       "Department                   0\n",
       "Amenities Score              0\n",
       "Gross Weight                 0\n",
       "Package Weight               0\n",
       "Min. Person Yearly Income    0\n",
       "Store CountryISO2            0\n",
       "Income Level                 0\n",
       "Promotion Name Length        0\n",
       "Promotion Frequency          0\n",
       "dtype: int64"
      ]
     },
     "execution_count": 259,
     "metadata": {},
     "output_type": "execute_result"
    }
   ],
   "source": [
    "test.isna().sum()"
   ]
  },
  {
   "cell_type": "code",
   "execution_count": 260,
   "id": "c504c264",
   "metadata": {},
   "outputs": [],
   "source": [
    "y_sub_pred = exmodel.predict(test)"
   ]
  },
  {
   "cell_type": "code",
   "execution_count": 261,
   "id": "ddd74515",
   "metadata": {},
   "outputs": [],
   "source": [
    "samples[\"Cost\"] = y_sub_pred"
   ]
  },
  {
   "cell_type": "code",
   "execution_count": 262,
   "id": "c218e8d6",
   "metadata": {},
   "outputs": [],
   "source": [
    "samples.to_csv(\"data/submission.csv\", index=False)"
   ]
  },
  {
   "cell_type": "code",
   "execution_count": null,
   "id": "1d31cd00",
   "metadata": {},
   "outputs": [],
   "source": []
  }
 ],
 "metadata": {
  "kernelspec": {
   "display_name": "Python 3 (ipykernel)",
   "language": "python",
   "name": "python3"
  },
  "language_info": {
   "codemirror_mode": {
    "name": "ipython",
    "version": 3
   },
   "file_extension": ".py",
   "mimetype": "text/x-python",
   "name": "python",
   "nbconvert_exporter": "python",
   "pygments_lexer": "ipython3",
   "version": "3.9.12"
  }
 },
 "nbformat": 4,
 "nbformat_minor": 5
}
