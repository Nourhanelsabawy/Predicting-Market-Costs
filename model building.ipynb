{
 "cells": [
  {
   "cell_type": "code",
   "execution_count": 177,
   "id": "5879cc50",
   "metadata": {},
   "outputs": [],
   "source": [
    "import pandas as pd\n",
    "import numpy as np\n",
    "import matplotlib.pyplot as plt\n",
    "\n",
    "from lazypredict.Supervised import LazyRegressor\n",
    "from sklearn.preprocessing import OrdinalEncoder, StandardScaler, OneHotEncoder\n",
    "from sklearn.pipeline import make_pipeline\n",
    "from sklearn.tree import DecisionTreeRegressor\n",
    "from sklearn.model_selection import KFold, train_test_split, cross_val_score, GridSearchCV\n",
    "from sklearn.impute import SimpleImputer\n",
    "from sklearn.compose import ColumnTransformer\n",
    "from sklearn.metrics import make_scorer\n",
    "from sklearn.ensemble import RandomForestRegressor, ExtraTreesRegressor\n",
    "from sklearn.metrics import mean_squared_error\n",
    "from sklearn.neighbors import KNeighborsRegressor\n",
    "\n",
    "import pre_processing_funcs as pre\n",
    "\n",
    "knn = KNeighborsRegressor()"
   ]
  },
  {
   "cell_type": "code",
   "execution_count": 159,
   "id": "66e4dce8",
   "metadata": {},
   "outputs": [
    {
     "data": {
      "text/html": [
       "<div>\n",
       "<style scoped>\n",
       "    .dataframe tbody tr th:only-of-type {\n",
       "        vertical-align: middle;\n",
       "    }\n",
       "\n",
       "    .dataframe tbody tr th {\n",
       "        vertical-align: top;\n",
       "    }\n",
       "\n",
       "    .dataframe thead th {\n",
       "        text-align: right;\n",
       "    }\n",
       "</style>\n",
       "<table border=\"1\" class=\"dataframe\">\n",
       "  <thead>\n",
       "    <tr style=\"text-align: right;\">\n",
       "      <th></th>\n",
       "      <th>Promotion Name</th>\n",
       "      <th>Store Kind</th>\n",
       "      <th>Store Sales</th>\n",
       "      <th>Store Cost</th>\n",
       "      <th>Is Recyclable?</th>\n",
       "      <th>Store Area</th>\n",
       "      <th>Grocery Area</th>\n",
       "      <th>Frozen Area</th>\n",
       "      <th>Meat Area</th>\n",
       "      <th>Cost</th>\n",
       "      <th>...</th>\n",
       "      <th>Department</th>\n",
       "      <th>Florist</th>\n",
       "      <th>Coffee Bar</th>\n",
       "      <th>Bar For Salad</th>\n",
       "      <th>Video Store</th>\n",
       "      <th>Ready Food</th>\n",
       "      <th>Gross Weight</th>\n",
       "      <th>Net Weight</th>\n",
       "      <th>Package Weight</th>\n",
       "      <th>Min. Person Yearly Income</th>\n",
       "    </tr>\n",
       "    <tr>\n",
       "      <th>id</th>\n",
       "      <th></th>\n",
       "      <th></th>\n",
       "      <th></th>\n",
       "      <th></th>\n",
       "      <th></th>\n",
       "      <th></th>\n",
       "      <th></th>\n",
       "      <th></th>\n",
       "      <th></th>\n",
       "      <th></th>\n",
       "      <th></th>\n",
       "      <th></th>\n",
       "      <th></th>\n",
       "      <th></th>\n",
       "      <th></th>\n",
       "      <th></th>\n",
       "      <th></th>\n",
       "      <th></th>\n",
       "      <th></th>\n",
       "      <th></th>\n",
       "      <th></th>\n",
       "    </tr>\n",
       "  </thead>\n",
       "  <tbody>\n",
       "    <tr>\n",
       "      <th>mc_ID_0</th>\n",
       "      <td>Dimes Off</td>\n",
       "      <td>Deluxe</td>\n",
       "      <td>8760000.00</td>\n",
       "      <td>4292400.00</td>\n",
       "      <td>True</td>\n",
       "      <td>2842.23</td>\n",
       "      <td>2037.64</td>\n",
       "      <td>481.98</td>\n",
       "      <td>323.00</td>\n",
       "      <td>602.76</td>\n",
       "      <td>...</td>\n",
       "      <td>Household</td>\n",
       "      <td>1</td>\n",
       "      <td>1</td>\n",
       "      <td>1</td>\n",
       "      <td>1</td>\n",
       "      <td>1</td>\n",
       "      <td>28.20</td>\n",
       "      <td>26.60</td>\n",
       "      <td>1.60</td>\n",
       "      <td>10000.00</td>\n",
       "    </tr>\n",
       "    <tr>\n",
       "      <th>mc_ID_1</th>\n",
       "      <td>Budget Bargains</td>\n",
       "      <td>Supermarket</td>\n",
       "      <td>6360000.00</td>\n",
       "      <td>1971600.00</td>\n",
       "      <td>False</td>\n",
       "      <td>2814.95</td>\n",
       "      <td>2049.72</td>\n",
       "      <td>457.36</td>\n",
       "      <td>328.94</td>\n",
       "      <td>708.66</td>\n",
       "      <td>...</td>\n",
       "      <td>Snack Foods</td>\n",
       "      <td>0</td>\n",
       "      <td>0</td>\n",
       "      <td>0</td>\n",
       "      <td>0</td>\n",
       "      <td>0</td>\n",
       "      <td>16.57</td>\n",
       "      <td>14.97</td>\n",
       "      <td>1.60</td>\n",
       "      <td>50000.00</td>\n",
       "    </tr>\n",
       "    <tr>\n",
       "      <th>mc_ID_2</th>\n",
       "      <td>Shelf Emptiers</td>\n",
       "      <td>Supermarket</td>\n",
       "      <td>10860000.00</td>\n",
       "      <td>4452600.00</td>\n",
       "      <td>True</td>\n",
       "      <td>2192.32</td>\n",
       "      <td>1322.21</td>\n",
       "      <td>523.32</td>\n",
       "      <td>348.85</td>\n",
       "      <td>564.26</td>\n",
       "      <td>...</td>\n",
       "      <td>Periodicals</td>\n",
       "      <td>1</td>\n",
       "      <td>0</td>\n",
       "      <td>0</td>\n",
       "      <td>0</td>\n",
       "      <td>0</td>\n",
       "      <td>28.64</td>\n",
       "      <td>27.18</td>\n",
       "      <td>1.45</td>\n",
       "      <td>30000.00</td>\n",
       "    </tr>\n",
       "    <tr>\n",
       "      <th>mc_ID_4</th>\n",
       "      <td>Sale Winners</td>\n",
       "      <td>Deluxe</td>\n",
       "      <td>11560000.00</td>\n",
       "      <td>4970800.00</td>\n",
       "      <td>False</td>\n",
       "      <td>2862.30</td>\n",
       "      <td>1872.19</td>\n",
       "      <td>593.93</td>\n",
       "      <td>395.95</td>\n",
       "      <td>519.76</td>\n",
       "      <td>...</td>\n",
       "      <td>Produce</td>\n",
       "      <td>1</td>\n",
       "      <td>1</td>\n",
       "      <td>1</td>\n",
       "      <td>1</td>\n",
       "      <td>1</td>\n",
       "      <td>12.62</td>\n",
       "      <td>9.71</td>\n",
       "      <td>2.91</td>\n",
       "      <td>50000.00</td>\n",
       "    </tr>\n",
       "    <tr>\n",
       "      <th>mc_ID_5</th>\n",
       "      <td>Weekend Discount</td>\n",
       "      <td>Supermarket</td>\n",
       "      <td>5220000.00</td>\n",
       "      <td>1618200.00</td>\n",
       "      <td>True</td>\n",
       "      <td>1970.17</td>\n",
       "      <td>1236.07</td>\n",
       "      <td>440.92</td>\n",
       "      <td>293.95</td>\n",
       "      <td>364.16</td>\n",
       "      <td>...</td>\n",
       "      <td>Household</td>\n",
       "      <td>0</td>\n",
       "      <td>1</td>\n",
       "      <td>0</td>\n",
       "      <td>0</td>\n",
       "      <td>0</td>\n",
       "      <td>15.41</td>\n",
       "      <td>13.95</td>\n",
       "      <td>1.45</td>\n",
       "      <td>30000.00</td>\n",
       "    </tr>\n",
       "  </tbody>\n",
       "</table>\n",
       "<p>5 rows × 29 columns</p>\n",
       "</div>"
      ],
      "text/plain": [
       "           Promotion Name   Store Kind  Store Sales  Store Cost  \\\n",
       "id                                                                \n",
       "mc_ID_0         Dimes Off       Deluxe   8760000.00  4292400.00   \n",
       "mc_ID_1   Budget Bargains  Supermarket   6360000.00  1971600.00   \n",
       "mc_ID_2    Shelf Emptiers  Supermarket  10860000.00  4452600.00   \n",
       "mc_ID_4      Sale Winners       Deluxe  11560000.00  4970800.00   \n",
       "mc_ID_5  Weekend Discount  Supermarket   5220000.00  1618200.00   \n",
       "\n",
       "         Is Recyclable?  Store Area  Grocery Area  Frozen Area  Meat Area  \\\n",
       "id                                                                          \n",
       "mc_ID_0            True     2842.23       2037.64       481.98     323.00   \n",
       "mc_ID_1           False     2814.95       2049.72       457.36     328.94   \n",
       "mc_ID_2            True     2192.32       1322.21       523.32     348.85   \n",
       "mc_ID_4           False     2862.30       1872.19       593.93     395.95   \n",
       "mc_ID_5            True     1970.17       1236.07       440.92     293.95   \n",
       "\n",
       "          Cost  ...   Department Florist  Coffee Bar Bar For Salad  \\\n",
       "id              ...                                                  \n",
       "mc_ID_0 602.76  ...    Household       1           1             1   \n",
       "mc_ID_1 708.66  ...  Snack Foods       0           0             0   \n",
       "mc_ID_2 564.26  ...  Periodicals       1           0             0   \n",
       "mc_ID_4 519.76  ...      Produce       1           1             1   \n",
       "mc_ID_5 364.16  ...    Household       0           1             0   \n",
       "\n",
       "        Video Store Ready Food Gross Weight Net Weight Package Weight  \\\n",
       "id                                                                      \n",
       "mc_ID_0           1          1        28.20      26.60           1.60   \n",
       "mc_ID_1           0          0        16.57      14.97           1.60   \n",
       "mc_ID_2           0          0        28.64      27.18           1.45   \n",
       "mc_ID_4           1          1        12.62       9.71           2.91   \n",
       "mc_ID_5           0          0        15.41      13.95           1.45   \n",
       "\n",
       "        Min. Person Yearly Income  \n",
       "id                                 \n",
       "mc_ID_0                  10000.00  \n",
       "mc_ID_1                  50000.00  \n",
       "mc_ID_2                  30000.00  \n",
       "mc_ID_4                  50000.00  \n",
       "mc_ID_5                  30000.00  \n",
       "\n",
       "[5 rows x 29 columns]"
      ]
     },
     "execution_count": 159,
     "metadata": {},
     "output_type": "execute_result"
    }
   ],
   "source": [
    "df = pre.set_index(pd.read_csv(\"data/cleaned_train.csv\"))\n",
    "df.head()"
   ]
  },
  {
   "cell_type": "code",
   "execution_count": 165,
   "id": "d32976d4",
   "metadata": {},
   "outputs": [
    {
     "name": "stdout",
     "output_type": "stream",
     "text": [
      "<class 'pandas.core.frame.DataFrame'>\n",
      "Index: 28227 entries, mc_ID_0 to mc_ID_6465\n",
      "Data columns (total 29 columns):\n",
      " #   Column                     Non-Null Count  Dtype  \n",
      "---  ------                     --------------  -----  \n",
      " 0   Promotion Name             28227 non-null  object \n",
      " 1   Store Kind                 28227 non-null  object \n",
      " 2   Store Sales                28227 non-null  float64\n",
      " 3   Store Cost                 28227 non-null  float64\n",
      " 4   Is Recyclable?             28227 non-null  bool   \n",
      " 5   Store Area                 28227 non-null  float64\n",
      " 6   Grocery Area               28227 non-null  float64\n",
      " 7   Frozen Area                28227 non-null  float64\n",
      " 8   Meat Area                  28227 non-null  float64\n",
      " 9   Cost                       28227 non-null  float64\n",
      " 10  Marriage                   28227 non-null  object \n",
      " 11  Gender                     28227 non-null  object \n",
      " 12  Children                   28227 non-null  int64  \n",
      " 13  Degree                     28227 non-null  object \n",
      " 14  Work                       28227 non-null  object \n",
      " 15  Store Code                 28227 non-null  object \n",
      " 16  Country ISO2               28227 non-null  object \n",
      " 17  Oreder Brand               28227 non-null  object \n",
      " 18  Order                      28227 non-null  object \n",
      " 19  Department                 28227 non-null  object \n",
      " 20  Florist                    28227 non-null  int64  \n",
      " 21  Coffee Bar                 28227 non-null  int64  \n",
      " 22  Bar For Salad              28227 non-null  int64  \n",
      " 23  Video Store                28227 non-null  int64  \n",
      " 24  Ready Food                 28227 non-null  int64  \n",
      " 25  Gross Weight               28227 non-null  float64\n",
      " 26  Net Weight                 28227 non-null  float64\n",
      " 27  Package Weight             28227 non-null  float64\n",
      " 28  Min. Person Yearly Income  28227 non-null  float64\n",
      "dtypes: bool(1), float64(11), int64(6), object(11)\n",
      "memory usage: 7.3+ MB\n"
     ]
    }
   ],
   "source": [
    "df.info()"
   ]
  },
  {
   "cell_type": "code",
   "execution_count": 160,
   "id": "ffc21627",
   "metadata": {},
   "outputs": [],
   "source": [
    "target = \"Cost\"\n",
    "X = df.drop(columns=target)\n",
    "y = df[target]"
   ]
  },
  {
   "cell_type": "code",
   "execution_count": 167,
   "id": "1414b816",
   "metadata": {},
   "outputs": [],
   "source": [
    "X_train, X_test, y_train, y_test = train_test_split(X, y, test_size=0.2, random_state=42)"
   ]
  },
  {
   "cell_type": "code",
   "execution_count": 168,
   "id": "743b94c5",
   "metadata": {},
   "outputs": [],
   "source": [
    "ord_categorical_columns = ['Store Code', 'Promotion Name', 'Store Kind',\n",
    "                            'Degree', 'Work', 'Oreder Brand',\n",
    "                            'Order', 'Department', \"Country ISO2\"]\n",
    "\n",
    "hot_categorical_columns = ['Marriage', 'Gender', 'Is Recyclable?']\n",
    "\n",
    "\n",
    "numeric_columns = X.select_dtypes(\"float\").columns"
   ]
  },
  {
   "cell_type": "code",
   "execution_count": 169,
   "id": "30bb9249",
   "metadata": {},
   "outputs": [],
   "source": [
    "preprocessor = ColumnTransformer(\n",
    "    transformers=[\n",
    "        ('cat', OrdinalEncoder(), ord_categorical_columns),\n",
    "        ('ohe', OneHotEncoder(), hot_categorical_columns),\n",
    "        ('num', StandardScaler(), numeric_columns)\n",
    "    ]\n",
    ")"
   ]
  },
  {
   "cell_type": "code",
   "execution_count": 170,
   "id": "fed89b9c",
   "metadata": {},
   "outputs": [
    {
     "data": {
      "text/plain": [
       "Pipeline(steps=[('columntransformer',\n",
       "                 ColumnTransformer(transformers=[('cat', OrdinalEncoder(),\n",
       "                                                  ['Store Code',\n",
       "                                                   'Promotion Name',\n",
       "                                                   'Store Kind', 'Degree',\n",
       "                                                   'Work', 'Oreder Brand',\n",
       "                                                   'Order', 'Department',\n",
       "                                                   'Country ISO2']),\n",
       "                                                 ('ohe', OneHotEncoder(),\n",
       "                                                  ['Marriage', 'Gender',\n",
       "                                                   'Is Recyclable?']),\n",
       "                                                 ('num', StandardScaler(),\n",
       "                                                  Index(['Store Sales', 'Store Cost', 'Store Area', 'Grocery Area',\n",
       "       'Frozen Area', 'Meat Area', 'Gross Weight', 'Net Weight',\n",
       "       'Package Weight', 'Min. Person Yearly Income'],\n",
       "      dtype='object'))])),\n",
       "                ('decisiontreeregressor',\n",
       "                 DecisionTreeRegressor(max_depth=16, random_state=42))])"
      ]
     },
     "execution_count": 170,
     "metadata": {},
     "output_type": "execute_result"
    }
   ],
   "source": [
    "model = make_pipeline(\n",
    "    preprocessor,\n",
    "    DecisionTreeRegressor(max_depth=16, random_state=42)\n",
    ")\n",
    "model.fit(X_train, y_train)"
   ]
  },
  {
   "cell_type": "code",
   "execution_count": 171,
   "id": "5d2c57da",
   "metadata": {},
   "outputs": [
    {
     "data": {
      "text/plain": [
       "31.225928695904216"
      ]
     },
     "execution_count": 171,
     "metadata": {},
     "output_type": "execute_result"
    }
   ],
   "source": [
    "# Check if the model fitted well or not\n",
    "predictions = model.predict(X_train)\n",
    "\n",
    "mse = mean_squared_error(y_train, predictions)\n",
    "rmse = np.sqrt(mse)\n",
    "rmse"
   ]
  },
  {
   "cell_type": "code",
   "execution_count": 172,
   "id": "7ea2f1fd",
   "metadata": {},
   "outputs": [
    {
     "data": {
      "text/plain": [
       "64.27330280492905"
      ]
     },
     "execution_count": 172,
     "metadata": {},
     "output_type": "execute_result"
    }
   ],
   "source": [
    "predictions = model.predict(X_test)\n",
    "\n",
    "mse = mean_squared_error(y_test, predictions)\n",
    "rmse = np.sqrt(mse)\n",
    "rmse"
   ]
  },
  {
   "cell_type": "code",
   "execution_count": 173,
   "id": "8aeb123a",
   "metadata": {},
   "outputs": [
    {
     "data": {
      "text/plain": [
       "Pipeline(steps=[('columntransformer',\n",
       "                 ColumnTransformer(transformers=[('cat', OrdinalEncoder(),\n",
       "                                                  ['Store Code',\n",
       "                                                   'Promotion Name',\n",
       "                                                   'Store Kind', 'Degree',\n",
       "                                                   'Work', 'Oreder Brand',\n",
       "                                                   'Order', 'Department',\n",
       "                                                   'Country ISO2']),\n",
       "                                                 ('ohe', OneHotEncoder(),\n",
       "                                                  ['Marriage', 'Gender',\n",
       "                                                   'Is Recyclable?']),\n",
       "                                                 ('num', StandardScaler(),\n",
       "                                                  Index(['Store Sales', 'Store Cost', 'Store Area', 'Grocery Area',\n",
       "       'Frozen Area', 'Meat Area', 'Gross Weight', 'Net Weight',\n",
       "       'Package Weight', 'Min. Person Yearly Income'],\n",
       "      dtype='object'))])),\n",
       "                ('randomforestregressor',\n",
       "                 RandomForestRegressor(max_depth=16, n_estimators=400,\n",
       "                                       random_state=42))])"
      ]
     },
     "execution_count": 173,
     "metadata": {},
     "output_type": "execute_result"
    }
   ],
   "source": [
    "rfmodel = make_pipeline(\n",
    "    preprocessor,\n",
    "    RandomForestRegressor(n_estimators=400, max_depth=16, random_state=42)\n",
    ")\n",
    "rfmodel.fit(X_train, y_train)"
   ]
  },
  {
   "cell_type": "code",
   "execution_count": 174,
   "id": "ddddbe21",
   "metadata": {},
   "outputs": [
    {
     "data": {
      "text/plain": [
       "28.61634461012867"
      ]
     },
     "execution_count": 174,
     "metadata": {},
     "output_type": "execute_result"
    }
   ],
   "source": [
    "# Check if the model fitted well or not\n",
    "predictions = rfmodel.predict(X_train)\n",
    "\n",
    "mse = mean_squared_error(y_train, predictions)\n",
    "rmse = np.sqrt(mse)\n",
    "rmse"
   ]
  },
  {
   "cell_type": "code",
   "execution_count": 175,
   "id": "0a30a1be",
   "metadata": {},
   "outputs": [
    {
     "data": {
      "text/plain": [
       "51.940643056981266"
      ]
     },
     "execution_count": 175,
     "metadata": {},
     "output_type": "execute_result"
    }
   ],
   "source": [
    "predictions = rfmodel.predict(X_test)\n",
    "\n",
    "mse = mean_squared_error(y_test, predictions)\n",
    "rmse = np.sqrt(mse)\n",
    "rmse"
   ]
  },
  {
   "cell_type": "code",
   "execution_count": 154,
   "id": "d7a85d62",
   "metadata": {},
   "outputs": [],
   "source": [
    "preprocessor.fit(X_train)\n",
    "\n",
    "X_train_transformed = preprocessor.transform(X_train)\n",
    "X_test_transformed = preprocessor.transform(X_test)"
   ]
  },
  {
   "cell_type": "markdown",
   "id": "0cd9ff52",
   "metadata": {},
   "source": [
    "## Try Lazypredict"
   ]
  },
  {
   "cell_type": "code",
   "execution_count": 155,
   "id": "542dc7d7",
   "metadata": {},
   "outputs": [
    {
     "name": "stderr",
     "output_type": "stream",
     "text": [
      "  2%|█▉                                                                                 | 1/42 [00:00<00:35,  1.15it/s]"
     ]
    },
    {
     "name": "stdout",
     "output_type": "stream",
     "text": [
      "{'Model': 'AdaBoostRegressor', 'R-Squared': 0.11551702036224154, 'Adjusted R-Squared': 0.1114236495059614, 'RMSE': 147.66606729864304, 'Time taken': 0.8679823875427246}\n"
     ]
    },
    {
     "name": "stderr",
     "output_type": "stream",
     "text": [
      "  7%|█████▉                                                                             | 3/42 [00:02<00:33,  1.17it/s]"
     ]
    },
    {
     "name": "stdout",
     "output_type": "stream",
     "text": [
      "{'Model': 'BaggingRegressor', 'R-Squared': 0.8783221797591636, 'Adjusted R-Squared': 0.8777590570595798, 'RMSE': 54.76986610736036, 'Time taken': 1.8664119243621826}\n",
      "{'Model': 'BayesianRidge', 'R-Squared': 0.017614026497484225, 'Adjusted R-Squared': 0.013067562397970911, 'RMSE': 155.62416892250292, 'Time taken': 0.1361832618713379}\n"
     ]
    },
    {
     "name": "stderr",
     "output_type": "stream",
     "text": [
      " 14%|███████████▊                                                                       | 6/42 [00:03<00:11,  3.07it/s]"
     ]
    },
    {
     "name": "stdout",
     "output_type": "stream",
     "text": [
      "{'Model': 'DecisionTreeRegressor', 'R-Squared': 0.7834835604753536, 'Adjusted R-Squared': 0.7824815264013698, 'RMSE': 73.06029258235051, 'Time taken': 0.2960188388824463}\n",
      "{'Model': 'DummyRegressor', 'R-Squared': -3.504148029964682e-06, 'Adjusted R-Squared': -0.004631501853236353, 'RMSE': 157.01340419741697, 'Time taken': 0.04697299003601074}\n",
      "{'Model': 'ElasticNet', 'R-Squared': 0.014770269955669324, 'Adjusted R-Squared': 0.010210645003523977, 'RMSE': 155.84925226577428, 'Time taken': 0.05974245071411133}\n"
     ]
    },
    {
     "name": "stderr",
     "output_type": "stream",
     "text": [
      " 19%|███████████████▊                                                                   | 8/42 [00:03<00:09,  3.56it/s]"
     ]
    },
    {
     "name": "stdout",
     "output_type": "stream",
     "text": [
      "{'Model': 'ElasticNetCV', 'R-Squared': 0.017618614484656958, 'Adjusted R-Squared': 0.01307217161826335, 'RMSE': 155.62380552026406, 'Time taken': 0.3807823657989502}\n",
      "{'Model': 'ExtraTreeRegressor', 'R-Squared': 0.695579056170362, 'Adjusted R-Squared': 0.6941702016777364, 'RMSE': 86.63098108393301, 'Time taken': 0.12792754173278809}\n"
     ]
    },
    {
     "name": "stderr",
     "output_type": "stream",
     "text": [
      "\r",
      " 21%|█████████████████▊                                                                 | 9/42 [00:11<01:23,  2.52s/it]"
     ]
    },
    {
     "name": "stdout",
     "output_type": "stream",
     "text": [
      "{'Model': 'ExtraTreesRegressor', 'R-Squared': 0.8983151969683448, 'Adjusted R-Squared': 0.8978446015822958, 'RMSE': 50.068432438290785, 'Time taken': 8.096688508987427}\n",
      "{'Model': 'GammaRegressor', 'R-Squared': 0.012690081462677583, 'Adjusted R-Squared': 0.008120829436694899, 'RMSE': 156.0136935463599, 'Time taken': 0.07796645164489746}\n"
     ]
    },
    {
     "name": "stderr",
     "output_type": "stream",
     "text": [
      " 24%|███████████████████▌                                                              | 10/42 [00:21<01:08,  2.14s/it]\n"
     ]
    },
    {
     "ename": "KeyboardInterrupt",
     "evalue": "",
     "output_type": "error",
     "traceback": [
      "\u001b[1;31m---------------------------------------------------------------------------\u001b[0m",
      "\u001b[1;31mKeyboardInterrupt\u001b[0m                         Traceback (most recent call last)",
      "Input \u001b[1;32mIn [155]\u001b[0m, in \u001b[0;36m<cell line: 2>\u001b[1;34m()\u001b[0m\n\u001b[0;32m      1\u001b[0m reg \u001b[38;5;241m=\u001b[39m LazyRegressor(verbose\u001b[38;5;241m=\u001b[39m\u001b[38;5;241m1\u001b[39m,ignore_warnings\u001b[38;5;241m=\u001b[39m\u001b[38;5;28;01mFalse\u001b[39;00m, custom_metric\u001b[38;5;241m=\u001b[39m\u001b[38;5;28;01mNone\u001b[39;00m)\n\u001b[1;32m----> 2\u001b[0m models,predictions \u001b[38;5;241m=\u001b[39m \u001b[43mreg\u001b[49m\u001b[38;5;241;43m.\u001b[39;49m\u001b[43mfit\u001b[49m\u001b[43m(\u001b[49m\u001b[43mX_train_transformed\u001b[49m\u001b[43m,\u001b[49m\u001b[43m \u001b[49m\u001b[43mX_test_transformed\u001b[49m\u001b[43m,\u001b[49m\u001b[43m \u001b[49m\u001b[43my_train\u001b[49m\u001b[43m,\u001b[49m\u001b[43m \u001b[49m\u001b[43my_test\u001b[49m\u001b[43m)\u001b[49m\n",
      "File \u001b[1;32m~\\anaconda3\\lib\\site-packages\\lazypredict\\Supervised.py:603\u001b[0m, in \u001b[0;36mLazyRegressor.fit\u001b[1;34m(self, X_train, X_test, y_train, y_test)\u001b[0m\n\u001b[0;32m    598\u001b[0m \u001b[38;5;28;01melse\u001b[39;00m:\n\u001b[0;32m    599\u001b[0m     pipe \u001b[38;5;241m=\u001b[39m Pipeline(\n\u001b[0;32m    600\u001b[0m         steps\u001b[38;5;241m=\u001b[39m[(\u001b[38;5;124m\"\u001b[39m\u001b[38;5;124mpreprocessor\u001b[39m\u001b[38;5;124m\"\u001b[39m, preprocessor), (\u001b[38;5;124m\"\u001b[39m\u001b[38;5;124mregressor\u001b[39m\u001b[38;5;124m\"\u001b[39m, model())]\n\u001b[0;32m    601\u001b[0m     )\n\u001b[1;32m--> 603\u001b[0m \u001b[43mpipe\u001b[49m\u001b[38;5;241;43m.\u001b[39;49m\u001b[43mfit\u001b[49m\u001b[43m(\u001b[49m\u001b[43mX_train\u001b[49m\u001b[43m,\u001b[49m\u001b[43m \u001b[49m\u001b[43my_train\u001b[49m\u001b[43m)\u001b[49m\n\u001b[0;32m    604\u001b[0m \u001b[38;5;28mself\u001b[39m\u001b[38;5;241m.\u001b[39mmodels[name] \u001b[38;5;241m=\u001b[39m pipe\n\u001b[0;32m    605\u001b[0m y_pred \u001b[38;5;241m=\u001b[39m pipe\u001b[38;5;241m.\u001b[39mpredict(X_test)\n",
      "File \u001b[1;32m~\\anaconda3\\lib\\site-packages\\sklearn\\pipeline.py:394\u001b[0m, in \u001b[0;36mPipeline.fit\u001b[1;34m(self, X, y, **fit_params)\u001b[0m\n\u001b[0;32m    392\u001b[0m     \u001b[38;5;28;01mif\u001b[39;00m \u001b[38;5;28mself\u001b[39m\u001b[38;5;241m.\u001b[39m_final_estimator \u001b[38;5;241m!=\u001b[39m \u001b[38;5;124m\"\u001b[39m\u001b[38;5;124mpassthrough\u001b[39m\u001b[38;5;124m\"\u001b[39m:\n\u001b[0;32m    393\u001b[0m         fit_params_last_step \u001b[38;5;241m=\u001b[39m fit_params_steps[\u001b[38;5;28mself\u001b[39m\u001b[38;5;241m.\u001b[39msteps[\u001b[38;5;241m-\u001b[39m\u001b[38;5;241m1\u001b[39m][\u001b[38;5;241m0\u001b[39m]]\n\u001b[1;32m--> 394\u001b[0m         \u001b[38;5;28mself\u001b[39m\u001b[38;5;241m.\u001b[39m_final_estimator\u001b[38;5;241m.\u001b[39mfit(Xt, y, \u001b[38;5;241m*\u001b[39m\u001b[38;5;241m*\u001b[39mfit_params_last_step)\n\u001b[0;32m    396\u001b[0m \u001b[38;5;28;01mreturn\u001b[39;00m \u001b[38;5;28mself\u001b[39m\n",
      "File \u001b[1;32m~\\anaconda3\\lib\\site-packages\\sklearn\\gaussian_process\\_gpr.py:300\u001b[0m, in \u001b[0;36mGaussianProcessRegressor.fit\u001b[1;34m(self, X, y)\u001b[0m\n\u001b[0;32m    298\u001b[0m     \u001b[38;5;28mself\u001b[39m\u001b[38;5;241m.\u001b[39mlog_marginal_likelihood_value_ \u001b[38;5;241m=\u001b[39m \u001b[38;5;241m-\u001b[39mnp\u001b[38;5;241m.\u001b[39mmin(lml_values)\n\u001b[0;32m    299\u001b[0m \u001b[38;5;28;01melse\u001b[39;00m:\n\u001b[1;32m--> 300\u001b[0m     \u001b[38;5;28mself\u001b[39m\u001b[38;5;241m.\u001b[39mlog_marginal_likelihood_value_ \u001b[38;5;241m=\u001b[39m \u001b[38;5;28;43mself\u001b[39;49m\u001b[38;5;241;43m.\u001b[39;49m\u001b[43mlog_marginal_likelihood\u001b[49m\u001b[43m(\u001b[49m\n\u001b[0;32m    301\u001b[0m \u001b[43m        \u001b[49m\u001b[38;5;28;43mself\u001b[39;49m\u001b[38;5;241;43m.\u001b[39;49m\u001b[43mkernel_\u001b[49m\u001b[38;5;241;43m.\u001b[39;49m\u001b[43mtheta\u001b[49m\u001b[43m,\u001b[49m\u001b[43m \u001b[49m\u001b[43mclone_kernel\u001b[49m\u001b[38;5;241;43m=\u001b[39;49m\u001b[38;5;28;43;01mFalse\u001b[39;49;00m\n\u001b[0;32m    302\u001b[0m \u001b[43m    \u001b[49m\u001b[43m)\u001b[49m\n\u001b[0;32m    304\u001b[0m \u001b[38;5;66;03m# Precompute quantities required for predictions which are independent\u001b[39;00m\n\u001b[0;32m    305\u001b[0m \u001b[38;5;66;03m# of actual query points\u001b[39;00m\n\u001b[0;32m    306\u001b[0m \u001b[38;5;66;03m# Alg. 2.1, page 19, line 2 -> L = cholesky(K + sigma^2 I)\u001b[39;00m\n\u001b[0;32m    307\u001b[0m K \u001b[38;5;241m=\u001b[39m \u001b[38;5;28mself\u001b[39m\u001b[38;5;241m.\u001b[39mkernel_(\u001b[38;5;28mself\u001b[39m\u001b[38;5;241m.\u001b[39mX_train_)\n",
      "File \u001b[1;32m~\\anaconda3\\lib\\site-packages\\sklearn\\gaussian_process\\_gpr.py:529\u001b[0m, in \u001b[0;36mGaussianProcessRegressor.log_marginal_likelihood\u001b[1;34m(self, theta, eval_gradient, clone_kernel)\u001b[0m\n\u001b[0;32m    527\u001b[0m     K, K_gradient \u001b[38;5;241m=\u001b[39m kernel(\u001b[38;5;28mself\u001b[39m\u001b[38;5;241m.\u001b[39mX_train_, eval_gradient\u001b[38;5;241m=\u001b[39m\u001b[38;5;28;01mTrue\u001b[39;00m)\n\u001b[0;32m    528\u001b[0m \u001b[38;5;28;01melse\u001b[39;00m:\n\u001b[1;32m--> 529\u001b[0m     K \u001b[38;5;241m=\u001b[39m \u001b[43mkernel\u001b[49m\u001b[43m(\u001b[49m\u001b[38;5;28;43mself\u001b[39;49m\u001b[38;5;241;43m.\u001b[39;49m\u001b[43mX_train_\u001b[49m\u001b[43m)\u001b[49m\n\u001b[0;32m    531\u001b[0m \u001b[38;5;66;03m# Alg. 2.1, page 19, line 2 -> L = cholesky(K + sigma^2 I)\u001b[39;00m\n\u001b[0;32m    532\u001b[0m K[np\u001b[38;5;241m.\u001b[39mdiag_indices_from(K)] \u001b[38;5;241m+\u001b[39m\u001b[38;5;241m=\u001b[39m \u001b[38;5;28mself\u001b[39m\u001b[38;5;241m.\u001b[39malpha\n",
      "File \u001b[1;32m~\\anaconda3\\lib\\site-packages\\sklearn\\gaussian_process\\kernels.py:946\u001b[0m, in \u001b[0;36mProduct.__call__\u001b[1;34m(self, X, Y, eval_gradient)\u001b[0m\n\u001b[0;32m    942\u001b[0m     \u001b[38;5;28;01mreturn\u001b[39;00m K1 \u001b[38;5;241m*\u001b[39m K2, np\u001b[38;5;241m.\u001b[39mdstack(\n\u001b[0;32m    943\u001b[0m         (K1_gradient \u001b[38;5;241m*\u001b[39m K2[:, :, np\u001b[38;5;241m.\u001b[39mnewaxis], K2_gradient \u001b[38;5;241m*\u001b[39m K1[:, :, np\u001b[38;5;241m.\u001b[39mnewaxis])\n\u001b[0;32m    944\u001b[0m     )\n\u001b[0;32m    945\u001b[0m \u001b[38;5;28;01melse\u001b[39;00m:\n\u001b[1;32m--> 946\u001b[0m     \u001b[38;5;28;01mreturn\u001b[39;00m \u001b[38;5;28;43mself\u001b[39;49m\u001b[38;5;241;43m.\u001b[39;49m\u001b[43mk1\u001b[49m\u001b[43m(\u001b[49m\u001b[43mX\u001b[49m\u001b[43m,\u001b[49m\u001b[43m \u001b[49m\u001b[43mY\u001b[49m\u001b[43m)\u001b[49m \u001b[38;5;241m*\u001b[39m \u001b[38;5;28mself\u001b[39m\u001b[38;5;241m.\u001b[39mk2(X, Y)\n",
      "File \u001b[1;32m~\\anaconda3\\lib\\site-packages\\sklearn\\gaussian_process\\kernels.py:1253\u001b[0m, in \u001b[0;36mConstantKernel.__call__\u001b[1;34m(self, X, Y, eval_gradient)\u001b[0m\n\u001b[0;32m   1250\u001b[0m \u001b[38;5;28;01melif\u001b[39;00m eval_gradient:\n\u001b[0;32m   1251\u001b[0m     \u001b[38;5;28;01mraise\u001b[39;00m \u001b[38;5;167;01mValueError\u001b[39;00m(\u001b[38;5;124m\"\u001b[39m\u001b[38;5;124mGradient can only be evaluated when Y is None.\u001b[39m\u001b[38;5;124m\"\u001b[39m)\n\u001b[1;32m-> 1253\u001b[0m K \u001b[38;5;241m=\u001b[39m \u001b[43mnp\u001b[49m\u001b[38;5;241;43m.\u001b[39;49m\u001b[43mfull\u001b[49m\u001b[43m(\u001b[49m\n\u001b[0;32m   1254\u001b[0m \u001b[43m    \u001b[49m\u001b[43m(\u001b[49m\u001b[43m_num_samples\u001b[49m\u001b[43m(\u001b[49m\u001b[43mX\u001b[49m\u001b[43m)\u001b[49m\u001b[43m,\u001b[49m\u001b[43m \u001b[49m\u001b[43m_num_samples\u001b[49m\u001b[43m(\u001b[49m\u001b[43mY\u001b[49m\u001b[43m)\u001b[49m\u001b[43m)\u001b[49m\u001b[43m,\u001b[49m\n\u001b[0;32m   1255\u001b[0m \u001b[43m    \u001b[49m\u001b[38;5;28;43mself\u001b[39;49m\u001b[38;5;241;43m.\u001b[39;49m\u001b[43mconstant_value\u001b[49m\u001b[43m,\u001b[49m\n\u001b[0;32m   1256\u001b[0m \u001b[43m    \u001b[49m\u001b[43mdtype\u001b[49m\u001b[38;5;241;43m=\u001b[39;49m\u001b[43mnp\u001b[49m\u001b[38;5;241;43m.\u001b[39;49m\u001b[43marray\u001b[49m\u001b[43m(\u001b[49m\u001b[38;5;28;43mself\u001b[39;49m\u001b[38;5;241;43m.\u001b[39;49m\u001b[43mconstant_value\u001b[49m\u001b[43m)\u001b[49m\u001b[38;5;241;43m.\u001b[39;49m\u001b[43mdtype\u001b[49m\u001b[43m,\u001b[49m\n\u001b[0;32m   1257\u001b[0m \u001b[43m\u001b[49m\u001b[43m)\u001b[49m\n\u001b[0;32m   1258\u001b[0m \u001b[38;5;28;01mif\u001b[39;00m eval_gradient:\n\u001b[0;32m   1259\u001b[0m     \u001b[38;5;28;01mif\u001b[39;00m \u001b[38;5;129;01mnot\u001b[39;00m \u001b[38;5;28mself\u001b[39m\u001b[38;5;241m.\u001b[39mhyperparameter_constant_value\u001b[38;5;241m.\u001b[39mfixed:\n",
      "File \u001b[1;32m~\\anaconda3\\lib\\site-packages\\numpy\\core\\numeric.py:344\u001b[0m, in \u001b[0;36mfull\u001b[1;34m(shape, fill_value, dtype, order, like)\u001b[0m\n\u001b[0;32m    342\u001b[0m     dtype \u001b[38;5;241m=\u001b[39m fill_value\u001b[38;5;241m.\u001b[39mdtype\n\u001b[0;32m    343\u001b[0m a \u001b[38;5;241m=\u001b[39m empty(shape, dtype, order)\n\u001b[1;32m--> 344\u001b[0m \u001b[43mmultiarray\u001b[49m\u001b[38;5;241;43m.\u001b[39;49m\u001b[43mcopyto\u001b[49m\u001b[43m(\u001b[49m\u001b[43ma\u001b[49m\u001b[43m,\u001b[49m\u001b[43m \u001b[49m\u001b[43mfill_value\u001b[49m\u001b[43m,\u001b[49m\u001b[43m \u001b[49m\u001b[43mcasting\u001b[49m\u001b[38;5;241;43m=\u001b[39;49m\u001b[38;5;124;43m'\u001b[39;49m\u001b[38;5;124;43munsafe\u001b[39;49m\u001b[38;5;124;43m'\u001b[39;49m\u001b[43m)\u001b[49m\n\u001b[0;32m    345\u001b[0m \u001b[38;5;28;01mreturn\u001b[39;00m a\n",
      "File \u001b[1;32m<__array_function__ internals>:5\u001b[0m, in \u001b[0;36mcopyto\u001b[1;34m(*args, **kwargs)\u001b[0m\n",
      "\u001b[1;31mKeyboardInterrupt\u001b[0m: "
     ]
    }
   ],
   "source": [
    "reg = LazyRegressor(verbose=1,ignore_warnings=False, custom_metric=None)\n",
    "models,predictions = reg.fit(X_train_transformed, X_test_transformed, y_train, y_test)"
   ]
  },
  {
   "cell_type": "code",
   "execution_count": null,
   "id": "2361b879",
   "metadata": {},
   "outputs": [],
   "source": [
    "print(models)"
   ]
  },
  {
   "cell_type": "code",
   "execution_count": null,
   "id": "e57388b5",
   "metadata": {},
   "outputs": [],
   "source": [
    "df = pd.read_csv(\"data/train_transformed.csv\")\n",
    "test = pd.read_csv(\"data/test_transformed.csv\")"
   ]
  },
  {
   "cell_type": "code",
   "execution_count": 176,
   "id": "f459f29e",
   "metadata": {},
   "outputs": [
    {
     "data": {
      "text/plain": [
       "Pipeline(steps=[('columntransformer',\n",
       "                 ColumnTransformer(transformers=[('cat', OrdinalEncoder(),\n",
       "                                                  ['Store Code',\n",
       "                                                   'Promotion Name',\n",
       "                                                   'Store Kind', 'Degree',\n",
       "                                                   'Work', 'Oreder Brand',\n",
       "                                                   'Order', 'Department',\n",
       "                                                   'Country ISO2']),\n",
       "                                                 ('ohe', OneHotEncoder(),\n",
       "                                                  ['Marriage', 'Gender',\n",
       "                                                   'Is Recyclable?']),\n",
       "                                                 ('num', StandardScaler(),\n",
       "                                                  Index(['Store Sales', 'Store Cost', 'Store Area', 'Grocery Area',\n",
       "       'Frozen Area', 'Meat Area', 'Gross Weight', 'Net Weight',\n",
       "       'Package Weight', 'Min. Person Yearly Income'],\n",
       "      dtype='object'))])),\n",
       "                ('extratreesregressor',\n",
       "                 ExtraTreesRegressor(max_depth=16, n_estimators=500,\n",
       "                                     random_state=42))])"
      ]
     },
     "execution_count": 176,
     "metadata": {},
     "output_type": "execute_result"
    }
   ],
   "source": [
    "exmodel = make_pipeline(\n",
    "    preprocessor,\n",
    "    ExtraTreesRegressor(n_estimators=500, max_depth=16, random_state=42)\n",
    ")\n",
    "exmodel.fit(X_train, y_train)"
   ]
  },
  {
   "cell_type": "code",
   "execution_count": 178,
   "id": "58acf9f7",
   "metadata": {},
   "outputs": [
    {
     "data": {
      "text/plain": [
       "25.28647673163381"
      ]
     },
     "execution_count": 178,
     "metadata": {},
     "output_type": "execute_result"
    }
   ],
   "source": [
    "# Check if the model fitted well or not\n",
    "predictions = exmodel.predict(X_train)\n",
    "\n",
    "mse = mean_squared_error(y_train, predictions)\n",
    "rmse = np.sqrt(mse)\n",
    "rmse"
   ]
  },
  {
   "cell_type": "code",
   "execution_count": 179,
   "id": "b49063f0",
   "metadata": {},
   "outputs": [
    {
     "data": {
      "text/plain": [
       "50.58440706856533"
      ]
     },
     "execution_count": 179,
     "metadata": {},
     "output_type": "execute_result"
    }
   ],
   "source": [
    "predictions = exmodel.predict(X_test)\n",
    "\n",
    "mse = mean_squared_error(y_test, predictions)\n",
    "rmse = np.sqrt(mse)\n",
    "rmse"
   ]
  },
  {
   "cell_type": "code",
   "execution_count": 74,
   "id": "f8c20f68",
   "metadata": {},
   "outputs": [
    {
     "data": {
      "text/plain": [
       "GridSearchCV(cv=5, estimator=ExtraTreesRegressor(random_state=42), n_jobs=-1,\n",
       "             param_grid={'max_depth': [2, 8, 16, 32, 64],\n",
       "                         'min_samples_leaf': [1, 2],\n",
       "                         'min_samples_split': [2, 4],\n",
       "                         'n_estimators': range(100, 301, 100)},\n",
       "             verbose=1)"
      ]
     },
     "execution_count": 74,
     "metadata": {},
     "output_type": "execute_result"
    }
   ],
   "source": [
    "params = {\n",
    "    'n_estimators': range(100, 301, 100),\n",
    "    'max_depth': [2, 8, 16, 32, 64],\n",
    "    'min_samples_split': [2,4],\n",
    "    'min_samples_leaf': [1,2],\n",
    "}\n",
    "\n",
    "gsCV = GridSearchCV(\n",
    "    ExtraTreesRegressor(random_state=42),\n",
    "    param_grid=params,\n",
    "    cv=5,\n",
    "    n_jobs=-1,\n",
    "    verbose=1\n",
    ")\n",
    "gsCV"
   ]
  },
  {
   "cell_type": "code",
   "execution_count": 75,
   "id": "771c68ed",
   "metadata": {},
   "outputs": [
    {
     "name": "stdout",
     "output_type": "stream",
     "text": [
      "Fitting 5 folds for each of 60 candidates, totalling 300 fits\n"
     ]
    },
    {
     "data": {
      "text/plain": [
       "GridSearchCV(cv=5, estimator=ExtraTreesRegressor(random_state=42), n_jobs=-1,\n",
       "             param_grid={'max_depth': [2, 8, 16, 32, 64],\n",
       "                         'min_samples_leaf': [1, 2],\n",
       "                         'min_samples_split': [2, 4],\n",
       "                         'n_estimators': range(100, 301, 100)},\n",
       "             verbose=1)"
      ]
     },
     "execution_count": 75,
     "metadata": {},
     "output_type": "execute_result"
    }
   ],
   "source": [
    "gsCV.fit(X_train_transformed, y_train)"
   ]
  },
  {
   "cell_type": "code",
   "execution_count": 78,
   "id": "f39f8d26",
   "metadata": {},
   "outputs": [
    {
     "data": {
      "text/plain": [
       "{'max_depth': 16,\n",
       " 'min_samples_leaf': 1,\n",
       " 'min_samples_split': 2,\n",
       " 'n_estimators': 300}"
      ]
     },
     "execution_count": 78,
     "metadata": {},
     "output_type": "execute_result"
    }
   ],
   "source": [
    "gsCV.best_params_"
   ]
  },
  {
   "cell_type": "code",
   "execution_count": 85,
   "id": "44854899",
   "metadata": {},
   "outputs": [],
   "source": [
    "best = gsCV.best_estimator_"
   ]
  },
  {
   "cell_type": "code",
   "execution_count": 86,
   "id": "f8c6ca5f",
   "metadata": {},
   "outputs": [
    {
     "data": {
      "text/plain": [
       "27.991098921693695"
      ]
     },
     "execution_count": 86,
     "metadata": {},
     "output_type": "execute_result"
    }
   ],
   "source": [
    "# Check if the model fitted well or not\n",
    "predictions = best.predict(X_train_transformed)\n",
    "\n",
    "mse = mean_squared_error(y_train, predictions)\n",
    "rmse = np.sqrt(mse)\n",
    "rmse"
   ]
  },
  {
   "cell_type": "code",
   "execution_count": 87,
   "id": "5b90e4c3",
   "metadata": {},
   "outputs": [
    {
     "data": {
      "text/plain": [
       "51.687590330980036"
      ]
     },
     "execution_count": 87,
     "metadata": {},
     "output_type": "execute_result"
    }
   ],
   "source": [
    "predictions = best.predict(X_test_transformed)\n",
    "\n",
    "mse = mean_squared_error(y_test, predictions)\n",
    "rmse = np.sqrt(mse)\n",
    "rmse"
   ]
  },
  {
   "cell_type": "code",
   "execution_count": 180,
   "id": "10de504e",
   "metadata": {},
   "outputs": [
    {
     "data": {
      "text/plain": [
       "array([50.72777279, 52.1449524 , 51.66919402, 48.70748587, 51.09358654])"
      ]
     },
     "execution_count": 180,
     "metadata": {},
     "output_type": "execute_result"
    }
   ],
   "source": [
    "def rmse(y_true, y_pred):\n",
    "    return np.sqrt(np.mean((y_true - y_pred)**2))\n",
    "\n",
    "kf=KFold(n_splits=5,shuffle=True,random_state=42)\n",
    "\n",
    "rmse_scorer = make_scorer(rmse, greater_is_better=False)\n",
    "\n",
    "scores=cross_val_score(exmodel,X,y,cv=kf,scoring=rmse_scorer)\n",
    "\n",
    "positive_scores = -scores\n",
    "\n",
    "positive_scores"
   ]
  },
  {
   "cell_type": "code",
   "execution_count": null,
   "id": "d7b5b5d2",
   "metadata": {},
   "outputs": [],
   "source": []
  },
  {
   "cell_type": "code",
   "execution_count": null,
   "id": "20a4073c",
   "metadata": {},
   "outputs": [],
   "source": [
    "from sklearn.ensemble import VotingRegressor, StackingRegressor"
   ]
  },
  {
   "cell_type": "code",
   "execution_count": null,
   "id": "1f42c775",
   "metadata": {},
   "outputs": [],
   "source": [
    "lr = LogisticRegression(random_state=0, max_iter=500, C = 10, penalty= 'l2', solver= 'newton-cg')\n",
    "\n",
    "mlp = MLPClassifier(random_state=0, hidden_layer_sizes = (512,) , max_iter=100, early_stopping=True,\n",
    "                    solver='adam', learning_rate = 'adaptive', alpha=0.001, activation='relu', batch_size=128)\n",
    "\n",
    "gb = GradientBoostingClassifier(random_state=0, learning_rate=0.1, n_estimators=100)\n",
    "\n",
    "hgb = HistGradientBoostingClassifier(random_state=0, learning_rate=0.01, l2_regularization=0.001)\n",
    "\n",
    "lgbm = LGBMClassifier(random_state=0, learning_rate=0.01, n_estimators=1000, num_leaves=10)\n",
    "\n",
    "cat = CatBoostClassifier(n_estimators=1500, learning_rate=0.05, random_state=0, eval_metric= 'MultiClass')"
   ]
  },
  {
   "cell_type": "code",
   "execution_count": null,
   "id": "d60d2ee9",
   "metadata": {},
   "outputs": [],
   "source": [
    "estimators = [\n",
    "              ('gb', gb),\n",
    "              ('lgbm', lgbm),\n",
    "              ('cat', cat),\n",
    "             ]\n",
    "\n",
    "stack_model = StackingClassifier(estimators=estimators, final_estimator = lr\n",
    "                                 ,n_jobs =-1, verbose = False, passthrough=True)\n",
    "\n",
    "stack_model.fit(X_train, y_train)"
   ]
  },
  {
   "cell_type": "code",
   "execution_count": null,
   "id": "4fd7079a",
   "metadata": {},
   "outputs": [],
   "source": [
    "estimators = [\n",
    "              ('hgb', hgb),\n",
    "              ('gb', gb),\n",
    "              ('lgbm', lgbm),\n",
    "              ('cat', cat),\n",
    "             ]\n",
    "\n",
    "voting_model = VotingClassifier(estimators=estimators, n_jobs =-1, verbose = False, voting = 'soft')\n",
    "\n",
    "voting_model.fit(X_train,y_train)"
   ]
  },
  {
   "cell_type": "code",
   "execution_count": null,
   "id": "2d042269",
   "metadata": {},
   "outputs": [],
   "source": []
  },
  {
   "cell_type": "markdown",
   "id": "9e3877de",
   "metadata": {},
   "source": [
    "## Extract submissions"
   ]
  },
  {
   "cell_type": "code",
   "execution_count": 88,
   "id": "8b291afc",
   "metadata": {},
   "outputs": [
    {
     "data": {
      "text/html": [
       "<div>\n",
       "<style scoped>\n",
       "    .dataframe tbody tr th:only-of-type {\n",
       "        vertical-align: middle;\n",
       "    }\n",
       "\n",
       "    .dataframe tbody tr th {\n",
       "        vertical-align: top;\n",
       "    }\n",
       "\n",
       "    .dataframe thead th {\n",
       "        text-align: right;\n",
       "    }\n",
       "</style>\n",
       "<table border=\"1\" class=\"dataframe\">\n",
       "  <thead>\n",
       "    <tr style=\"text-align: right;\">\n",
       "      <th></th>\n",
       "      <th>ID</th>\n",
       "      <th>Cost</th>\n",
       "    </tr>\n",
       "  </thead>\n",
       "  <tbody>\n",
       "    <tr>\n",
       "      <th>0</th>\n",
       "      <td>0</td>\n",
       "      <td>0</td>\n",
       "    </tr>\n",
       "    <tr>\n",
       "      <th>1</th>\n",
       "      <td>1</td>\n",
       "      <td>0</td>\n",
       "    </tr>\n",
       "    <tr>\n",
       "      <th>2</th>\n",
       "      <td>2</td>\n",
       "      <td>0</td>\n",
       "    </tr>\n",
       "    <tr>\n",
       "      <th>3</th>\n",
       "      <td>3</td>\n",
       "      <td>0</td>\n",
       "    </tr>\n",
       "    <tr>\n",
       "      <th>4</th>\n",
       "      <td>4</td>\n",
       "      <td>0</td>\n",
       "    </tr>\n",
       "  </tbody>\n",
       "</table>\n",
       "</div>"
      ],
      "text/plain": [
       "   ID  Cost\n",
       "0   0     0\n",
       "1   1     0\n",
       "2   2     0\n",
       "3   3     0\n",
       "4   4     0"
      ]
     },
     "execution_count": 88,
     "metadata": {},
     "output_type": "execute_result"
    }
   ],
   "source": [
    "samples = pd.read_csv('data/sample_submission.csv')\n",
    "samples.head()"
   ]
  },
  {
   "cell_type": "code",
   "execution_count": 89,
   "id": "47086017",
   "metadata": {},
   "outputs": [
    {
     "data": {
      "text/html": [
       "<div>\n",
       "<style scoped>\n",
       "    .dataframe tbody tr th:only-of-type {\n",
       "        vertical-align: middle;\n",
       "    }\n",
       "\n",
       "    .dataframe tbody tr th {\n",
       "        vertical-align: top;\n",
       "    }\n",
       "\n",
       "    .dataframe thead th {\n",
       "        text-align: right;\n",
       "    }\n",
       "</style>\n",
       "<table border=\"1\" class=\"dataframe\">\n",
       "  <thead>\n",
       "    <tr style=\"text-align: right;\">\n",
       "      <th></th>\n",
       "      <th>id</th>\n",
       "      <th>Promotion Name</th>\n",
       "      <th>Store Kind</th>\n",
       "      <th>Store Sales</th>\n",
       "      <th>Store Cost</th>\n",
       "      <th>Is Recyclable?</th>\n",
       "      <th>Store Area</th>\n",
       "      <th>Grocery Area</th>\n",
       "      <th>Frozen Area</th>\n",
       "      <th>Meat Area</th>\n",
       "      <th>...</th>\n",
       "      <th>Department</th>\n",
       "      <th>Video Store</th>\n",
       "      <th>Bar For Salad</th>\n",
       "      <th>Florist</th>\n",
       "      <th>Coffee Bar</th>\n",
       "      <th>Ready Food</th>\n",
       "      <th>Gross Weight</th>\n",
       "      <th>Net Weight</th>\n",
       "      <th>Package Weight</th>\n",
       "      <th>Min. Person Yearly Income</th>\n",
       "    </tr>\n",
       "  </thead>\n",
       "  <tbody>\n",
       "    <tr>\n",
       "      <th>0</th>\n",
       "      <td>0</td>\n",
       "      <td>Fantastic Discounts</td>\n",
       "      <td>Gourmet</td>\n",
       "      <td>11760000.00</td>\n",
       "      <td>4704000.00</td>\n",
       "      <td>True</td>\n",
       "      <td>2201.06</td>\n",
       "      <td>1424.85</td>\n",
       "      <td>465.54</td>\n",
       "      <td>308.73</td>\n",
       "      <td>...</td>\n",
       "      <td>Snacks</td>\n",
       "      <td>1</td>\n",
       "      <td>1</td>\n",
       "      <td>1</td>\n",
       "      <td>1</td>\n",
       "      <td>1</td>\n",
       "      <td>31.83</td>\n",
       "      <td>28.78</td>\n",
       "      <td>3.05</td>\n",
       "      <td>50000.00</td>\n",
       "    </tr>\n",
       "    <tr>\n",
       "      <th>1</th>\n",
       "      <td>1</td>\n",
       "      <td>Bag Stuffer</td>\n",
       "      <td>Deluxe</td>\n",
       "      <td>2160000.00</td>\n",
       "      <td>669600.00</td>\n",
       "      <td>False</td>\n",
       "      <td>2577.16</td>\n",
       "      <td>1735.17</td>\n",
       "      <td>505.07</td>\n",
       "      <td>336.59</td>\n",
       "      <td>...</td>\n",
       "      <td>Frozen Foods</td>\n",
       "      <td>1</td>\n",
       "      <td>1</td>\n",
       "      <td>1</td>\n",
       "      <td>1</td>\n",
       "      <td>1</td>\n",
       "      <td>29.94</td>\n",
       "      <td>27.04</td>\n",
       "      <td>2.91</td>\n",
       "      <td>70000.00</td>\n",
       "    </tr>\n",
       "    <tr>\n",
       "      <th>2</th>\n",
       "      <td>2</td>\n",
       "      <td>Pick Your Savings</td>\n",
       "      <td>Deluxe</td>\n",
       "      <td>1830000.00</td>\n",
       "      <td>823500.00</td>\n",
       "      <td>False</td>\n",
       "      <td>2837.58</td>\n",
       "      <td>2038.11</td>\n",
       "      <td>481.98</td>\n",
       "      <td>321.26</td>\n",
       "      <td>...</td>\n",
       "      <td>Dairy</td>\n",
       "      <td>1</td>\n",
       "      <td>1</td>\n",
       "      <td>1</td>\n",
       "      <td>1</td>\n",
       "      <td>1</td>\n",
       "      <td>29.22</td>\n",
       "      <td>26.31</td>\n",
       "      <td>2.91</td>\n",
       "      <td>130000.00</td>\n",
       "    </tr>\n",
       "    <tr>\n",
       "      <th>3</th>\n",
       "      <td>3</td>\n",
       "      <td>Price Winners</td>\n",
       "      <td>Deluxe</td>\n",
       "      <td>8820000.00</td>\n",
       "      <td>4410000.00</td>\n",
       "      <td>False</td>\n",
       "      <td>2859.04</td>\n",
       "      <td>1871.16</td>\n",
       "      <td>593.93</td>\n",
       "      <td>394.58</td>\n",
       "      <td>...</td>\n",
       "      <td>Frozen Foods</td>\n",
       "      <td>1</td>\n",
       "      <td>1</td>\n",
       "      <td>1</td>\n",
       "      <td>1</td>\n",
       "      <td>1</td>\n",
       "      <td>28.05</td>\n",
       "      <td>25.00</td>\n",
       "      <td>3.05</td>\n",
       "      <td>10000.00</td>\n",
       "    </tr>\n",
       "    <tr>\n",
       "      <th>4</th>\n",
       "      <td>4</td>\n",
       "      <td>Dollar Days</td>\n",
       "      <td>Supermarket</td>\n",
       "      <td>4320000.00</td>\n",
       "      <td>1987200.00</td>\n",
       "      <td>False</td>\n",
       "      <td>2193.97</td>\n",
       "      <td>1320.15</td>\n",
       "      <td>523.32</td>\n",
       "      <td>348.85</td>\n",
       "      <td>...</td>\n",
       "      <td>Beverages</td>\n",
       "      <td>0</td>\n",
       "      <td>0</td>\n",
       "      <td>1</td>\n",
       "      <td>0</td>\n",
       "      <td>0</td>\n",
       "      <td>23.55</td>\n",
       "      <td>20.64</td>\n",
       "      <td>2.91</td>\n",
       "      <td>30000.00</td>\n",
       "    </tr>\n",
       "  </tbody>\n",
       "</table>\n",
       "<p>5 rows × 29 columns</p>\n",
       "</div>"
      ],
      "text/plain": [
       "   id       Promotion Name   Store Kind  Store Sales  Store Cost  \\\n",
       "0   0  Fantastic Discounts      Gourmet  11760000.00  4704000.00   \n",
       "1   1          Bag Stuffer       Deluxe   2160000.00   669600.00   \n",
       "2   2    Pick Your Savings       Deluxe   1830000.00   823500.00   \n",
       "3   3        Price Winners       Deluxe   8820000.00  4410000.00   \n",
       "4   4          Dollar Days  Supermarket   4320000.00  1987200.00   \n",
       "\n",
       "   Is Recyclable?  Store Area  Grocery Area  Frozen Area  Meat Area  ...  \\\n",
       "0            True     2201.06       1424.85       465.54     308.73  ...   \n",
       "1           False     2577.16       1735.17       505.07     336.59  ...   \n",
       "2           False     2837.58       2038.11       481.98     321.26  ...   \n",
       "3           False     2859.04       1871.16       593.93     394.58  ...   \n",
       "4           False     2193.97       1320.15       523.32     348.85  ...   \n",
       "\n",
       "     Department  Video Store  Bar For Salad Florist Coffee Bar Ready Food  \\\n",
       "0        Snacks            1              1       1          1          1   \n",
       "1  Frozen Foods            1              1       1          1          1   \n",
       "2         Dairy            1              1       1          1          1   \n",
       "3  Frozen Foods            1              1       1          1          1   \n",
       "4     Beverages            0              0       1          0          0   \n",
       "\n",
       "  Gross Weight Net Weight Package Weight Min. Person Yearly Income  \n",
       "0        31.83      28.78           3.05                  50000.00  \n",
       "1        29.94      27.04           2.91                  70000.00  \n",
       "2        29.22      26.31           2.91                 130000.00  \n",
       "3        28.05      25.00           3.05                  10000.00  \n",
       "4        23.55      20.64           2.91                  30000.00  \n",
       "\n",
       "[5 rows x 29 columns]"
      ]
     },
     "execution_count": 89,
     "metadata": {},
     "output_type": "execute_result"
    }
   ],
   "source": [
    "test = pd.read_csv(\"data/cleaned_test.csv\")\n",
    "test.head()"
   ]
  },
  {
   "cell_type": "code",
   "execution_count": 90,
   "id": "a9e62c7e",
   "metadata": {},
   "outputs": [
    {
     "data": {
      "text/plain": [
       "id                           0\n",
       "Promotion Name               0\n",
       "Store Kind                   0\n",
       "Store Sales                  0\n",
       "Store Cost                   0\n",
       "Is Recyclable?               0\n",
       "Store Area                   0\n",
       "Grocery Area                 0\n",
       "Frozen Area                  0\n",
       "Meat Area                    0\n",
       "Marriage                     0\n",
       "Gender                       0\n",
       "Children                     0\n",
       "Degree                       0\n",
       "Work                         0\n",
       "Store Code                   0\n",
       "Country ISO2                 0\n",
       "Oreder Brand                 0\n",
       "Order                        0\n",
       "Department                   0\n",
       "Video Store                  0\n",
       "Bar For Salad                0\n",
       "Florist                      0\n",
       "Coffee Bar                   0\n",
       "Ready Food                   0\n",
       "Gross Weight                 0\n",
       "Net Weight                   0\n",
       "Package Weight               0\n",
       "Min. Person Yearly Income    0\n",
       "dtype: int64"
      ]
     },
     "execution_count": 90,
     "metadata": {},
     "output_type": "execute_result"
    }
   ],
   "source": [
    "test.isna().sum()"
   ]
  },
  {
   "cell_type": "code",
   "execution_count": 92,
   "id": "c504c264",
   "metadata": {},
   "outputs": [],
   "source": [
    "y_sub_pred = best.predict(preprocessor.transform(test))"
   ]
  },
  {
   "cell_type": "code",
   "execution_count": 93,
   "id": "ddd74515",
   "metadata": {},
   "outputs": [],
   "source": [
    "samples[\"Cost\"] = y_sub_pred"
   ]
  },
  {
   "cell_type": "code",
   "execution_count": 94,
   "id": "c218e8d6",
   "metadata": {},
   "outputs": [],
   "source": [
    "samples.to_csv(\"data/submission.csv\", index=False)"
   ]
  },
  {
   "cell_type": "code",
   "execution_count": null,
   "id": "1d31cd00",
   "metadata": {},
   "outputs": [],
   "source": []
  }
 ],
 "metadata": {
  "kernelspec": {
   "display_name": "Python 3 (ipykernel)",
   "language": "python",
   "name": "python3"
  },
  "language_info": {
   "codemirror_mode": {
    "name": "ipython",
    "version": 3
   },
   "file_extension": ".py",
   "mimetype": "text/x-python",
   "name": "python",
   "nbconvert_exporter": "python",
   "pygments_lexer": "ipython3",
   "version": "3.9.12"
  }
 },
 "nbformat": 4,
 "nbformat_minor": 5
}
