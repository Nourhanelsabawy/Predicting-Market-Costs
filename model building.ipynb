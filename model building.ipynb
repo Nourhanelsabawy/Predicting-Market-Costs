{
 "cells": [
  {
   "cell_type": "code",
   "execution_count": 1,
   "id": "5879cc50",
   "metadata": {},
   "outputs": [],
   "source": [
    "import pandas as pd\n",
    "import numpy as np\n",
    "import matplotlib.pyplot as plt\n",
    "\n",
    "from lazypredict.Supervised import LazyRegressor\n",
    "from sklearn.preprocessing import OrdinalEncoder, StandardScaler, OneHotEncoder\n",
    "from sklearn.pipeline import make_pipeline\n",
    "from sklearn.tree import DecisionTreeRegressor\n",
    "from sklearn.model_selection import train_test_split, cross_val_score\n",
    "from sklearn.impute import SimpleImputer\n",
    "from sklearn.compose import ColumnTransformer\n",
    "from sklearn.metrics import make_scorer\n",
    "from sklearn.ensemble import RandomForestRegressor\n",
    "from sklearn.metrics import mean_squared_error"
   ]
  },
  {
   "cell_type": "code",
   "execution_count": 3,
   "id": "66e4dce8",
   "metadata": {},
   "outputs": [
    {
     "data": {
      "text/html": [
       "<div>\n",
       "<style scoped>\n",
       "    .dataframe tbody tr th:only-of-type {\n",
       "        vertical-align: middle;\n",
       "    }\n",
       "\n",
       "    .dataframe tbody tr th {\n",
       "        vertical-align: top;\n",
       "    }\n",
       "\n",
       "    .dataframe thead th {\n",
       "        text-align: right;\n",
       "    }\n",
       "</style>\n",
       "<table border=\"1\" class=\"dataframe\">\n",
       "  <thead>\n",
       "    <tr style=\"text-align: right;\">\n",
       "      <th></th>\n",
       "      <th>id</th>\n",
       "      <th>Place Code</th>\n",
       "      <th>Promotion Name</th>\n",
       "      <th>Store Kind</th>\n",
       "      <th>Store Sales</th>\n",
       "      <th>Store Cost</th>\n",
       "      <th>Is Recyclable?</th>\n",
       "      <th>Store Area</th>\n",
       "      <th>Grocery Area</th>\n",
       "      <th>Frozen Area</th>\n",
       "      <th>...</th>\n",
       "      <th>Department</th>\n",
       "      <th>Bar For Salad</th>\n",
       "      <th>Florist</th>\n",
       "      <th>Coffee Bar</th>\n",
       "      <th>Ready Food</th>\n",
       "      <th>Video Store</th>\n",
       "      <th>Gross Weight</th>\n",
       "      <th>Net Weight</th>\n",
       "      <th>Package Weight</th>\n",
       "      <th>Min. Person Yearly Income</th>\n",
       "    </tr>\n",
       "  </thead>\n",
       "  <tbody>\n",
       "    <tr>\n",
       "      <th>0</th>\n",
       "      <td>mc_ID_0</td>\n",
       "      <td>H11go_ZA</td>\n",
       "      <td>Dimes Off</td>\n",
       "      <td>Deluxe</td>\n",
       "      <td>8760000.00</td>\n",
       "      <td>4292400.00</td>\n",
       "      <td>yes</td>\n",
       "      <td>2842.23</td>\n",
       "      <td>2037.64</td>\n",
       "      <td>481.98</td>\n",
       "      <td>...</td>\n",
       "      <td>Household</td>\n",
       "      <td>1</td>\n",
       "      <td>1</td>\n",
       "      <td>1</td>\n",
       "      <td>1</td>\n",
       "      <td>1</td>\n",
       "      <td>28.20</td>\n",
       "      <td>26.60</td>\n",
       "      <td>1.60</td>\n",
       "      <td>10000.00</td>\n",
       "    </tr>\n",
       "    <tr>\n",
       "      <th>1</th>\n",
       "      <td>mc_ID_1</td>\n",
       "      <td>S04ne_WA</td>\n",
       "      <td>Budget Bargains</td>\n",
       "      <td>Supermarket</td>\n",
       "      <td>6360000.00</td>\n",
       "      <td>1971600.00</td>\n",
       "      <td>no</td>\n",
       "      <td>2814.95</td>\n",
       "      <td>2049.72</td>\n",
       "      <td>457.36</td>\n",
       "      <td>...</td>\n",
       "      <td>Snack Foods</td>\n",
       "      <td>0</td>\n",
       "      <td>0</td>\n",
       "      <td>0</td>\n",
       "      <td>0</td>\n",
       "      <td>0</td>\n",
       "      <td>16.57</td>\n",
       "      <td>14.97</td>\n",
       "      <td>1.60</td>\n",
       "      <td>50000.00</td>\n",
       "    </tr>\n",
       "    <tr>\n",
       "      <th>2</th>\n",
       "      <td>mc_ID_2</td>\n",
       "      <td>L05es_CA</td>\n",
       "      <td>Shelf Emptiers</td>\n",
       "      <td>Supermarket</td>\n",
       "      <td>10860000.00</td>\n",
       "      <td>4452600.00</td>\n",
       "      <td>yes</td>\n",
       "      <td>2192.32</td>\n",
       "      <td>1322.21</td>\n",
       "      <td>523.32</td>\n",
       "      <td>...</td>\n",
       "      <td>Periodicals</td>\n",
       "      <td>0</td>\n",
       "      <td>1</td>\n",
       "      <td>0</td>\n",
       "      <td>0</td>\n",
       "      <td>0</td>\n",
       "      <td>28.64</td>\n",
       "      <td>27.18</td>\n",
       "      <td>1.45</td>\n",
       "      <td>30000.00</td>\n",
       "    </tr>\n",
       "    <tr>\n",
       "      <th>3</th>\n",
       "      <td>mc_ID_4</td>\n",
       "      <td>M10da_YU</td>\n",
       "      <td>Sale Winners</td>\n",
       "      <td>Deluxe</td>\n",
       "      <td>11560000.00</td>\n",
       "      <td>4970800.00</td>\n",
       "      <td>no</td>\n",
       "      <td>2862.30</td>\n",
       "      <td>1872.19</td>\n",
       "      <td>593.93</td>\n",
       "      <td>...</td>\n",
       "      <td>Produce</td>\n",
       "      <td>1</td>\n",
       "      <td>1</td>\n",
       "      <td>1</td>\n",
       "      <td>1</td>\n",
       "      <td>1</td>\n",
       "      <td>12.62</td>\n",
       "      <td>9.71</td>\n",
       "      <td>2.91</td>\n",
       "      <td>50000.00</td>\n",
       "    </tr>\n",
       "    <tr>\n",
       "      <th>4</th>\n",
       "      <td>mc_ID_5</td>\n",
       "      <td>S03le_WA</td>\n",
       "      <td>Weekend Discount</td>\n",
       "      <td>Supermarket</td>\n",
       "      <td>5220000.00</td>\n",
       "      <td>1618200.00</td>\n",
       "      <td>yes</td>\n",
       "      <td>1970.17</td>\n",
       "      <td>1236.07</td>\n",
       "      <td>440.92</td>\n",
       "      <td>...</td>\n",
       "      <td>Household</td>\n",
       "      <td>0</td>\n",
       "      <td>0</td>\n",
       "      <td>1</td>\n",
       "      <td>0</td>\n",
       "      <td>0</td>\n",
       "      <td>15.41</td>\n",
       "      <td>13.95</td>\n",
       "      <td>1.45</td>\n",
       "      <td>30000.00</td>\n",
       "    </tr>\n",
       "  </tbody>\n",
       "</table>\n",
       "<p>5 rows × 29 columns</p>\n",
       "</div>"
      ],
      "text/plain": [
       "        id Place Code    Promotion Name   Store Kind  Store Sales  Store Cost  \\\n",
       "0  mc_ID_0   H11go_ZA         Dimes Off       Deluxe   8760000.00  4292400.00   \n",
       "1  mc_ID_1   S04ne_WA   Budget Bargains  Supermarket   6360000.00  1971600.00   \n",
       "2  mc_ID_2   L05es_CA    Shelf Emptiers  Supermarket  10860000.00  4452600.00   \n",
       "3  mc_ID_4   M10da_YU      Sale Winners       Deluxe  11560000.00  4970800.00   \n",
       "4  mc_ID_5   S03le_WA  Weekend Discount  Supermarket   5220000.00  1618200.00   \n",
       "\n",
       "  Is Recyclable?  Store Area  Grocery Area  Frozen Area  ...   Department  \\\n",
       "0            yes     2842.23       2037.64       481.98  ...    Household   \n",
       "1             no     2814.95       2049.72       457.36  ...  Snack Foods   \n",
       "2            yes     2192.32       1322.21       523.32  ...  Periodicals   \n",
       "3             no     2862.30       1872.19       593.93  ...      Produce   \n",
       "4            yes     1970.17       1236.07       440.92  ...    Household   \n",
       "\n",
       "   Bar For Salad Florist Coffee Bar Ready Food Video Store Gross Weight  \\\n",
       "0              1       1          1          1           1        28.20   \n",
       "1              0       0          0          0           0        16.57   \n",
       "2              0       1          0          0           0        28.64   \n",
       "3              1       1          1          1           1        12.62   \n",
       "4              0       0          1          0           0        15.41   \n",
       "\n",
       "  Net Weight Package Weight Min. Person Yearly Income  \n",
       "0      26.60           1.60                  10000.00  \n",
       "1      14.97           1.60                  50000.00  \n",
       "2      27.18           1.45                  30000.00  \n",
       "3       9.71           2.91                  50000.00  \n",
       "4      13.95           1.45                  30000.00  \n",
       "\n",
       "[5 rows x 29 columns]"
      ]
     },
     "execution_count": 3,
     "metadata": {},
     "output_type": "execute_result"
    }
   ],
   "source": [
    "df = pd.read_csv(\"data/cleaned_train.csv\")\n",
    "df.head()"
   ]
  },
  {
   "cell_type": "code",
   "execution_count": 4,
   "id": "ffc21627",
   "metadata": {},
   "outputs": [],
   "source": [
    "target = \"Cost\"\n",
    "X = df.drop(columns=target)\n",
    "y = df[target]"
   ]
  },
  {
   "cell_type": "code",
   "execution_count": 5,
   "id": "1414b816",
   "metadata": {},
   "outputs": [],
   "source": [
    "X_train, X_test, y_train, y_test = train_test_split(X, y, test_size=0.2, random_state=42)"
   ]
  },
  {
   "cell_type": "code",
   "execution_count": 6,
   "id": "743b94c5",
   "metadata": {},
   "outputs": [],
   "source": [
    "ord_categorical_columns = ['Place Code', 'Promotion Name', 'Store Kind', 'Is Recyclable?',\n",
    "                            'Children', 'Degree', 'Work', 'Oreder Brand',\n",
    "                            'Product', 'Department']\n",
    "\n",
    "hot_categorical_columns = ['Marriage', 'Gender']\n",
    "\n",
    "all_categorical_columns = X.select_dtypes(\"object\").columns\n",
    "\n",
    "numeric_columns = X.select_dtypes(\"float\").columns"
   ]
  },
  {
   "cell_type": "code",
   "execution_count": 7,
   "id": "30bb9249",
   "metadata": {},
   "outputs": [],
   "source": [
    "preprocessor = ColumnTransformer(\n",
    "    transformers=[\n",
    "        ('cat', OrdinalEncoder(), ord_categorical_columns),\n",
    "        ('ohe', OneHotEncoder(), hot_categorical_columns),\n",
    "        ('num', StandardScaler(), numeric_columns)\n",
    "    ]\n",
    ")"
   ]
  },
  {
   "cell_type": "code",
   "execution_count": 8,
   "id": "fed89b9c",
   "metadata": {},
   "outputs": [
    {
     "data": {
      "text/plain": [
       "Pipeline(steps=[('columntransformer',\n",
       "                 ColumnTransformer(transformers=[('cat', OrdinalEncoder(),\n",
       "                                                  ['Place Code',\n",
       "                                                   'Promotion Name',\n",
       "                                                   'Store Kind',\n",
       "                                                   'Is Recyclable?', 'Children',\n",
       "                                                   'Degree', 'Work',\n",
       "                                                   'Oreder Brand', 'Product',\n",
       "                                                   'Department']),\n",
       "                                                 ('ohe', OneHotEncoder(),\n",
       "                                                  ['Marriage', 'Gender']),\n",
       "                                                 ('num', StandardScaler(),\n",
       "                                                  Index(['Store Sales', 'Store Cost', 'Store Area', 'Grocery Area',\n",
       "       'Frozen Area', 'Meat Area', 'Gross Weight', 'Net Weight',\n",
       "       'Package Weight', 'Min. Person Yearly Income'],\n",
       "      dtype='object'))])),\n",
       "                ('decisiontreeregressor',\n",
       "                 DecisionTreeRegressor(max_depth=20, random_state=42))])"
      ]
     },
     "execution_count": 8,
     "metadata": {},
     "output_type": "execute_result"
    }
   ],
   "source": [
    "model = make_pipeline(\n",
    "    preprocessor,\n",
    "    DecisionTreeRegressor(max_depth=20, random_state=42)\n",
    ")\n",
    "model.fit(X_train, y_train)"
   ]
  },
  {
   "cell_type": "code",
   "execution_count": 9,
   "id": "5d2c57da",
   "metadata": {},
   "outputs": [
    {
     "data": {
      "text/plain": [
       "16.24279568376655"
      ]
     },
     "execution_count": 9,
     "metadata": {},
     "output_type": "execute_result"
    }
   ],
   "source": [
    "# Check if the model fitted well or not\n",
    "predictions = model.predict(X_train)\n",
    "\n",
    "mse = mean_squared_error(y_train, predictions)\n",
    "rmse = np.sqrt(mse)\n",
    "rmse"
   ]
  },
  {
   "cell_type": "code",
   "execution_count": 10,
   "id": "7ea2f1fd",
   "metadata": {},
   "outputs": [
    {
     "data": {
      "text/plain": [
       "66.13992962598071"
      ]
     },
     "execution_count": 10,
     "metadata": {},
     "output_type": "execute_result"
    }
   ],
   "source": [
    "predictions = model.predict(X_test)\n",
    "\n",
    "mse = mean_squared_error(y_test, predictions)\n",
    "rmse = np.sqrt(mse)\n",
    "rmse"
   ]
  },
  {
   "cell_type": "code",
   "execution_count": 11,
   "id": "8aeb123a",
   "metadata": {},
   "outputs": [
    {
     "data": {
      "text/plain": [
       "Pipeline(steps=[('columntransformer',\n",
       "                 ColumnTransformer(transformers=[('cat', OrdinalEncoder(),\n",
       "                                                  ['Place Code',\n",
       "                                                   'Promotion Name',\n",
       "                                                   'Store Kind',\n",
       "                                                   'Is Recyclable?', 'Children',\n",
       "                                                   'Degree', 'Work',\n",
       "                                                   'Oreder Brand', 'Product',\n",
       "                                                   'Department']),\n",
       "                                                 ('ohe', OneHotEncoder(),\n",
       "                                                  ['Marriage', 'Gender']),\n",
       "                                                 ('num', StandardScaler(),\n",
       "                                                  Index(['Store Sales', 'Store Cost', 'Store Area', 'Grocery Area',\n",
       "       'Frozen Area', 'Meat Area', 'Gross Weight', 'Net Weight',\n",
       "       'Package Weight', 'Min. Person Yearly Income'],\n",
       "      dtype='object'))])),\n",
       "                ('randomforestregressor',\n",
       "                 RandomForestRegressor(random_state=42))])"
      ]
     },
     "execution_count": 11,
     "metadata": {},
     "output_type": "execute_result"
    }
   ],
   "source": [
    "rfmodel = make_pipeline(\n",
    "    preprocessor,\n",
    "    RandomForestRegressor(n_estimators=100, random_state=42)\n",
    ")\n",
    "rfmodel.fit(X_train, y_train)"
   ]
  },
  {
   "cell_type": "code",
   "execution_count": 12,
   "id": "ddddbe21",
   "metadata": {},
   "outputs": [
    {
     "data": {
      "text/plain": [
       "19.280206350134836"
      ]
     },
     "execution_count": 12,
     "metadata": {},
     "output_type": "execute_result"
    }
   ],
   "source": [
    "# Check if the model fitted well or not\n",
    "predictions = rfmodel.predict(X_train)\n",
    "\n",
    "mse = mean_squared_error(y_train, predictions)\n",
    "rmse = np.sqrt(mse)\n",
    "rmse"
   ]
  },
  {
   "cell_type": "code",
   "execution_count": 13,
   "id": "0a30a1be",
   "metadata": {},
   "outputs": [
    {
     "data": {
      "text/plain": [
       "53.03544924733378"
      ]
     },
     "execution_count": 13,
     "metadata": {},
     "output_type": "execute_result"
    }
   ],
   "source": [
    "predictions = rfmodel.predict(X_test)\n",
    "\n",
    "mse = mean_squared_error(y_test, predictions)\n",
    "rmse = np.sqrt(mse)\n",
    "rmse"
   ]
  },
  {
   "cell_type": "code",
   "execution_count": 14,
   "id": "bc729291",
   "metadata": {},
   "outputs": [
    {
     "name": "stdout",
     "output_type": "stream",
     "text": [
      "Cross-validation RMSE scores: [53.65738053 56.10354203 52.34148074 52.18038972 50.51044931]\n"
     ]
    }
   ],
   "source": [
    "def rmse(y_true, y_pred):\n",
    "    return np.sqrt(np.mean((y_true - y_pred)**2))\n",
    "\n",
    "rmse_scorer = make_scorer(rmse, greater_is_better=False)\n",
    "\n",
    "scores = cross_val_score(rfmodel, X_train, y_train, cv=5, scoring=rmse_scorer)\n",
    "\n",
    "positive_scores = -scores\n",
    "\n",
    "print(\"Cross-validation RMSE scores:\", positive_scores)"
   ]
  },
  {
   "cell_type": "code",
   "execution_count": 15,
   "id": "d7a85d62",
   "metadata": {},
   "outputs": [],
   "source": [
    "preprocessor.fit(X_train)\n",
    "\n",
    "X_train_transformed = preprocessor.transform(X_train)\n",
    "X_test_transformed = preprocessor.transform(X_test)"
   ]
  },
  {
   "cell_type": "markdown",
   "id": "0cd9ff52",
   "metadata": {},
   "source": [
    "## Try Lazypredict"
   ]
  },
  {
   "cell_type": "code",
   "execution_count": 35,
   "id": "542dc7d7",
   "metadata": {},
   "outputs": [
    {
     "name": "stderr",
     "output_type": "stream",
     "text": [
      "  2%|█▉                                                                                 | 1/42 [00:00<00:19,  2.13it/s]"
     ]
    },
    {
     "name": "stdout",
     "output_type": "stream",
     "text": [
      "{'Model': 'AdaBoostRegressor', 'R-Squared': 0.1229879692040099, 'Adjusted R-Squared': 0.11924272209740783, 'RMSE': 147.04110042057997, 'Time taken': 0.4701058864593506}\n"
     ]
    },
    {
     "name": "stderr",
     "output_type": "stream",
     "text": [
      "  7%|█████▉                                                                             | 3/42 [00:02<00:26,  1.45it/s]"
     ]
    },
    {
     "name": "stdout",
     "output_type": "stream",
     "text": [
      "{'Model': 'BaggingRegressor', 'R-Squared': 0.8722005560563311, 'Adjusted R-Squared': 0.8716547933063937, 'RMSE': 56.130699031326074, 'Time taken': 1.659067153930664}\n",
      "{'Model': 'BayesianRidge', 'R-Squared': 0.016696374049479545, 'Adjusted R-Squared': 0.012497212657520018, 'RMSE': 155.69683667700198, 'Time taken': 0.11887073516845703}\n"
     ]
    },
    {
     "name": "stderr",
     "output_type": "stream",
     "text": [
      " 14%|███████████▊                                                                       | 6/42 [00:02<00:10,  3.58it/s]"
     ]
    },
    {
     "name": "stdout",
     "output_type": "stream",
     "text": [
      "{'Model': 'DecisionTreeRegressor', 'R-Squared': 0.8071444327947982, 'Adjusted R-Squared': 0.8063208503013952, 'RMSE': 68.95282418809465, 'Time taken': 0.28182339668273926}\n",
      "{'Model': 'DummyRegressor', 'R-Squared': -3.504148029964682e-06, 'Adjusted R-Squared': -0.004273981745815281, 'RMSE': 157.01340419741697, 'Time taken': 0.05338740348815918}\n",
      "{'Model': 'ElasticNet', 'R-Squared': 0.01438935405967523, 'Adjusted R-Squared': 0.010180340625054574, 'RMSE': 155.87937707768427, 'Time taken': 0.062494754791259766}\n"
     ]
    },
    {
     "name": "stderr",
     "output_type": "stream",
     "text": [
      " 19%|███████████████▊                                                                   | 8/42 [00:03<00:08,  3.98it/s]"
     ]
    },
    {
     "name": "stdout",
     "output_type": "stream",
     "text": [
      "{'Model': 'ElasticNetCV', 'R-Squared': 0.016740751681517674, 'Adjusted R-Squared': 0.012541779802577535, 'RMSE': 155.69332324803412, 'Time taken': 0.36518239974975586}\n",
      "{'Model': 'ExtraTreeRegressor', 'R-Squared': 0.7436033515424032, 'Adjusted R-Squared': 0.7425084192358227, 'RMSE': 79.50457871545507, 'Time taken': 0.12048888206481934}\n"
     ]
    },
    {
     "name": "stderr",
     "output_type": "stream",
     "text": [
      "\r",
      " 21%|█████████████████▊                                                                 | 9/42 [00:10<01:16,  2.32s/it]"
     ]
    },
    {
     "name": "stdout",
     "output_type": "stream",
     "text": [
      "{'Model': 'ExtraTreesRegressor', 'R-Squared': 0.8952187312382067, 'Adjusted R-Squared': 0.8947712667452739, 'RMSE': 50.8250477268684, 'Time taken': 7.474532604217529}\n",
      "{'Model': 'GammaRegressor', 'R-Squared': 0.012413960599017226, 'Adjusted R-Squared': 0.008196511320436528, 'RMSE': 156.03550818807867, 'Time taken': 0.06496620178222656}\n"
     ]
    },
    {
     "name": "stderr",
     "output_type": "stream",
     "text": [
      "\r",
      " 26%|████████████████████▋                                                          | 11/42 [12:18<1:25:22, 165.23s/it]"
     ]
    },
    {
     "name": "stdout",
     "output_type": "stream",
     "text": [
      "{'Model': 'GaussianProcessRegressor', 'R-Squared': -5.9800688849087935, 'Adjusted R-Squared': -6.009877008260718, 'RMSE': 414.82586074184235, 'Time taken': 727.6633887290955}\n"
     ]
    },
    {
     "name": "stderr",
     "output_type": "stream",
     "text": [
      "\r",
      " 29%|██████████████████████▌                                                        | 12/42 [12:23<1:03:10, 126.34s/it]"
     ]
    },
    {
     "name": "stdout",
     "output_type": "stream",
     "text": [
      "{'Model': 'GradientBoostingRegressor', 'R-Squared': 0.4747478194542283, 'Adjusted R-Squared': 0.4725047496440684, 'RMSE': 113.79414071212821, 'Time taken': 5.466938257217407}\n"
     ]
    },
    {
     "name": "stderr",
     "output_type": "stream",
     "text": [
      "\r",
      " 31%|█████████████████████████▍                                                        | 13/42 [12:24<45:26, 94.00s/it]"
     ]
    },
    {
     "name": "stdout",
     "output_type": "stream",
     "text": [
      "{'Model': 'HistGradientBoostingRegressor', 'R-Squared': 0.8243723247407336, 'Adjusted R-Squared': 0.8236223133161389, 'RMSE': 65.8009926167201, 'Time taken': 1.0338072776794434}\n"
     ]
    },
    {
     "name": "stderr",
     "output_type": "stream",
     "text": [
      "\r",
      " 33%|███████████████████████████▎                                                      | 14/42 [12:25<32:05, 68.77s/it]"
     ]
    },
    {
     "name": "stdout",
     "output_type": "stream",
     "text": [
      "{'Model': 'HuberRegressor', 'R-Squared': 0.014051531776593795, 'Adjusted R-Squared': 0.009841075684536515, 'RMSE': 155.9060889520537, 'Time taken': 0.3321394920349121}\n"
     ]
    },
    {
     "name": "stderr",
     "output_type": "stream",
     "text": [
      "\r",
      " 36%|█████████████████████████████▎                                                    | 15/42 [12:28<22:42, 50.46s/it]"
     ]
    },
    {
     "name": "stdout",
     "output_type": "stream",
     "text": [
      "{'Model': 'KNeighborsRegressor', 'R-Squared': -0.03713842973321135, 'Adjusted R-Squared': -0.041567490643104055, 'RMSE': 159.9021606324316, 'Time taken': 2.8709850311279297}\n"
     ]
    },
    {
     "name": "stderr",
     "output_type": "stream",
     "text": [
      " 40%|████████████████████████████████▊                                                | 17/42 [19:24<45:47, 109.90s/it]"
     ]
    },
    {
     "name": "stdout",
     "output_type": "stream",
     "text": [
      "{'Model': 'KernelRidge', 'R-Squared': -10.95020055635004, 'Adjusted R-Squared': -11.001233441288191, 'RMSE': 542.7796612977268, 'Time taken': 416.350843667984}\n",
      "{'Model': 'Lars', 'R-Squared': 0.016841011981447385, 'Adjusted R-Squared': 0.012642468260371631, 'RMSE': 155.6853852310479, 'Time taken': 0.17054057121276855}\n"
     ]
    },
    {
     "name": "stderr",
     "output_type": "stream",
     "text": [
      " 45%|█████████████████████████████████████                                             | 19/42 [19:25<21:05, 55.02s/it]"
     ]
    },
    {
     "name": "stdout",
     "output_type": "stream",
     "text": [
      "{'Model': 'LarsCV', 'R-Squared': 0.01699069899152994, 'Adjusted R-Squared': 0.012792794503237559, 'RMSE': 155.67353314649284, 'Time taken': 0.3013269901275635}\n",
      "{'Model': 'Lasso', 'R-Squared': 0.016594826256287054, 'Adjusted R-Squared': 0.012395231208271129, 'RMSE': 155.70487603614566, 'Time taken': 0.17048358917236328}\n"
     ]
    },
    {
     "name": "stderr",
     "output_type": "stream",
     "text": [
      "\r",
      " 48%|███████████████████████████████████████                                           | 20/42 [19:25<14:15, 38.87s/it]"
     ]
    },
    {
     "name": "stdout",
     "output_type": "stream",
     "text": [
      "{'Model': 'LassoCV', 'R-Squared': 0.017012684028474556, 'Adjusted R-Squared': 0.012814873426460927, 'RMSE': 155.6717923147885, 'Time taken': 0.4595353603363037}\n",
      "{'Model': 'LassoLars', 'R-Squared': -3.504148029964682e-06, 'Adjusted R-Squared': -0.004273981745815281, 'RMSE': 157.01340419741697, 'Time taken': 0.05022311210632324}\n"
     ]
    },
    {
     "name": "stderr",
     "output_type": "stream",
     "text": [
      "\r",
      " 52%|██████████████████████████████████████████▉                                       | 22/42 [19:25<07:02, 21.12s/it]"
     ]
    },
    {
     "name": "stdout",
     "output_type": "stream",
     "text": [
      "{'Model': 'LassoLarsCV', 'R-Squared': 0.016950951023656402, 'Adjusted R-Squared': 0.012752876793152401, 'RMSE': 155.67668044328812, 'Time taken': 0.25123095512390137}\n"
     ]
    },
    {
     "name": "stderr",
     "output_type": "stream",
     "text": [
      " 60%|████████████████████████████████████████████████▊                                 | 25/42 [19:26<02:39,  9.41s/it]"
     ]
    },
    {
     "name": "stdout",
     "output_type": "stream",
     "text": [
      "{'Model': 'LassoLarsIC', 'R-Squared': 0.01714137829930784, 'Adjusted R-Squared': 0.012944117281368905, 'RMSE': 155.6616015812756, 'Time taken': 0.22081422805786133}\n",
      "{'Model': 'LinearRegression', 'R-Squared': 0.016506461702418096, 'Adjusted R-Squared': 0.012306489296876832, 'RMSE': 155.7118713638147, 'Time taken': 0.050226449966430664}\n",
      "{'Model': 'LinearSVR', 'R-Squared': 0.010171962685455394, 'Adjusted R-Squared': 0.005944939038560526, 'RMSE': 156.2125221139118, 'Time taken': 0.13044428825378418}\n"
     ]
    },
    {
     "name": "stderr",
     "output_type": "stream",
     "text": [
      "\r",
      " 62%|██████████████████████████████████████████████████▊                               | 26/42 [19:43<03:00, 11.27s/it]"
     ]
    },
    {
     "name": "stdout",
     "output_type": "stream",
     "text": [
      "{'Model': 'MLPRegressor', 'R-Squared': 0.08731012415470973, 'Adjusted R-Squared': 0.08341251614398248, 'RMSE': 150.0021850004357, 'Time taken': 17.570504426956177}\n"
     ]
    },
    {
     "name": "stderr",
     "output_type": "stream",
     "text": [
      " 69%|████████████████████████████████████████████████████████▌                         | 29/42 [20:29<02:31, 11.63s/it]"
     ]
    },
    {
     "name": "stdout",
     "output_type": "stream",
     "text": [
      "{'Model': 'NuSVR', 'R-Squared': 0.02547180780149738, 'Adjusted R-Squared': 0.021310121571468166, 'RMSE': 155.00052614784155, 'Time taken': 45.70055341720581}\n",
      "{'Model': 'OrthogonalMatchingPursuit', 'R-Squared': 0.01482033044210318, 'Adjusted R-Squared': 0.010613157476019652, 'RMSE': 155.84529278898995, 'Time taken': 0.05140376091003418}\n",
      "{'Model': 'OrthogonalMatchingPursuitCV', 'R-Squared': 0.016798998235654672, 'Adjusted R-Squared': 0.012600275096447455, 'RMSE': 155.68871167997472, 'Time taken': 0.13150930404663086}\n"
     ]
    },
    {
     "name": "stderr",
     "output_type": "stream",
     "text": [
      "\r",
      " 74%|████████████████████████████████████████████████████████████▌                     | 31/42 [20:29<01:20,  7.36s/it]"
     ]
    },
    {
     "name": "stdout",
     "output_type": "stream",
     "text": [
      "{'Model': 'PassiveAggressiveRegressor', 'R-Squared': -0.06439319981599412, 'Adjusted R-Squared': -0.06893865120310871, 'RMSE': 161.98955573181004, 'Time taken': 0.0979766845703125}\n",
      "{'Model': 'PoissonRegressor', 'R-Squared': 0.016442369775478638, 'Adjusted R-Squared': 0.012242123667758231, 'RMSE': 155.71694496669497, 'Time taken': 0.11248302459716797}\n",
      "QuantileRegressor model failed to execute\n",
      "Unable to allocate 7.61 GiB for an array with shape (22580, 45210) and data type float64\n"
     ]
    },
    {
     "name": "stderr",
     "output_type": "stream",
     "text": [
      " 79%|████████████████████████████████████████████████████████████████▍                 | 33/42 [21:28<02:05, 13.95s/it]"
     ]
    },
    {
     "name": "stdout",
     "output_type": "stream",
     "text": [
      "{'Model': 'RANSACRegressor', 'R-Squared': -1.3665839682302154, 'Adjusted R-Squared': -1.376690376635469, 'RMSE': 241.5443747451886, 'Time taken': 0.402101993560791}\n"
     ]
    },
    {
     "name": "stderr",
     "output_type": "stream",
     "text": [
      " 86%|██████████████████████████████████████████████████████████████████████▎           | 36/42 [21:42<00:49,  8.23s/it]"
     ]
    },
    {
     "name": "stdout",
     "output_type": "stream",
     "text": [
      "{'Model': 'RandomForestRegressor', 'R-Squared': 0.8858349484275655, 'Adjusted R-Squared': 0.8853474108407793, 'RMSE': 53.05209727756488, 'Time taken': 14.149781227111816}\n",
      "{'Model': 'Ridge', 'R-Squared': 0.0165068418332045, 'Adjusted R-Squared': 0.012306871050997481, 'RMSE': 155.71184127165878, 'Time taken': 0.06493830680847168}\n",
      "{'Model': 'RidgeCV', 'R-Squared': 0.016510236875647455, 'Adjusted R-Squared': 0.01231028059184236, 'RMSE': 155.71157251088408, 'Time taken': 0.08463239669799805}\n"
     ]
    },
    {
     "name": "stderr",
     "output_type": "stream",
     "text": [
      "\r",
      " 88%|████████████████████████████████████████████████████████████████████████▏         | 37/42 [21:43<00:31,  6.39s/it]"
     ]
    },
    {
     "name": "stdout",
     "output_type": "stream",
     "text": [
      "{'Model': 'SGDRegressor', 'R-Squared': 0.013561621981421412, 'Adjusted R-Squared': 0.009349073747890069, 'RMSE': 155.9448183769587, 'Time taken': 0.1627511978149414}\n"
     ]
    },
    {
     "name": "stderr",
     "output_type": "stream",
     "text": [
      " 95%|██████████████████████████████████████████████████████████████████████████████    | 40/42 [22:30<00:19,  9.67s/it]"
     ]
    },
    {
     "name": "stdout",
     "output_type": "stream",
     "text": [
      "{'Model': 'SVR', 'R-Squared': 0.03079171715819351, 'Adjusted R-Squared': 0.02665274940228546, 'RMSE': 154.57687643348802, 'Time taken': 47.182443380355835}\n",
      "{'Model': 'TransformedTargetRegressor', 'R-Squared': 0.016506461702418096, 'Adjusted R-Squared': 0.012306489296876832, 'RMSE': 155.7118713638147, 'Time taken': 0.04932141304016113}\n",
      "{'Model': 'TweedieRegressor', 'R-Squared': 0.012382814440567103, 'Adjusted R-Squared': 0.008165232153480528, 'RMSE': 156.03796866653374, 'Time taken': 0.06249499320983887}\n",
      "{'Model': 'XGBRegressor', 'R-Squared': 0.8527332424729093, 'Adjusted R-Squared': 0.8521043452877402, 'RMSE': 60.25433963077798, 'Time taken': 1.2772939205169678}\n",
      "[LightGBM] [Warning] Auto-choosing row-wise multi-threading, the overhead of testing was 0.001697 seconds.\n",
      "You can set `force_row_wise=true` to remove the overhead.\n",
      "And if memory is not enough, you can set `force_col_wise=true`.\n",
      "[LightGBM] [Info] Total Bins 2080\n",
      "[LightGBM] [Info] Number of data points in the train set: 22580, number of used features: 24\n",
      "[LightGBM] [Info] Start training from score 519.389129\n"
     ]
    },
    {
     "name": "stderr",
     "output_type": "stream",
     "text": [
      "100%|██████████████████████████████████████████████████████████████████████████████████| 42/42 [22:32<00:00, 32.20s/it]"
     ]
    },
    {
     "name": "stdout",
     "output_type": "stream",
     "text": [
      "{'Model': 'LGBMRegressor', 'R-Squared': 0.8287743411010376, 'Adjusted R-Squared': 0.8280431283228215, 'RMSE': 64.97112573940814, 'Time taken': 0.8558270931243896}\n"
     ]
    },
    {
     "name": "stderr",
     "output_type": "stream",
     "text": [
      "\n"
     ]
    }
   ],
   "source": [
    "reg = LazyRegressor(verbose=1,ignore_warnings=False, custom_metric=None)\n",
    "models,predictions = reg.fit(X_train_transformed, X_test_transformed, y_train, y_test)"
   ]
  },
  {
   "cell_type": "code",
   "execution_count": 36,
   "id": "2361b879",
   "metadata": {},
   "outputs": [
    {
     "name": "stdout",
     "output_type": "stream",
     "text": [
      "                               Adjusted R-Squared  R-Squared   RMSE  \\\n",
      "Model                                                                 \n",
      "ExtraTreesRegressor                          0.89       0.90  50.83   \n",
      "RandomForestRegressor                        0.89       0.89  53.05   \n",
      "BaggingRegressor                             0.87       0.87  56.13   \n",
      "XGBRegressor                                 0.85       0.85  60.25   \n",
      "LGBMRegressor                                0.83       0.83  64.97   \n",
      "HistGradientBoostingRegressor                0.82       0.82  65.80   \n",
      "DecisionTreeRegressor                        0.81       0.81  68.95   \n",
      "ExtraTreeRegressor                           0.74       0.74  79.50   \n",
      "GradientBoostingRegressor                    0.47       0.47 113.79   \n",
      "AdaBoostRegressor                            0.12       0.12 147.04   \n",
      "MLPRegressor                                 0.08       0.09 150.00   \n",
      "SVR                                          0.03       0.03 154.58   \n",
      "NuSVR                                        0.02       0.03 155.00   \n",
      "LassoLarsIC                                  0.01       0.02 155.66   \n",
      "LassoCV                                      0.01       0.02 155.67   \n",
      "LarsCV                                       0.01       0.02 155.67   \n",
      "LassoLarsCV                                  0.01       0.02 155.68   \n",
      "Lars                                         0.01       0.02 155.69   \n",
      "OrthogonalMatchingPursuitCV                  0.01       0.02 155.69   \n",
      "ElasticNetCV                                 0.01       0.02 155.69   \n",
      "BayesianRidge                                0.01       0.02 155.70   \n",
      "Lasso                                        0.01       0.02 155.70   \n",
      "RidgeCV                                      0.01       0.02 155.71   \n",
      "Ridge                                        0.01       0.02 155.71   \n",
      "LinearRegression                             0.01       0.02 155.71   \n",
      "TransformedTargetRegressor                   0.01       0.02 155.71   \n",
      "PoissonRegressor                             0.01       0.02 155.72   \n",
      "OrthogonalMatchingPursuit                    0.01       0.01 155.85   \n",
      "ElasticNet                                   0.01       0.01 155.88   \n",
      "HuberRegressor                               0.01       0.01 155.91   \n",
      "SGDRegressor                                 0.01       0.01 155.94   \n",
      "GammaRegressor                               0.01       0.01 156.04   \n",
      "TweedieRegressor                             0.01       0.01 156.04   \n",
      "LinearSVR                                    0.01       0.01 156.21   \n",
      "LassoLars                                   -0.00      -0.00 157.01   \n",
      "DummyRegressor                              -0.00      -0.00 157.01   \n",
      "KNeighborsRegressor                         -0.04      -0.04 159.90   \n",
      "PassiveAggressiveRegressor                  -0.07      -0.06 161.99   \n",
      "RANSACRegressor                             -1.38      -1.37 241.54   \n",
      "GaussianProcessRegressor                    -6.01      -5.98 414.83   \n",
      "KernelRidge                                -11.00     -10.95 542.78   \n",
      "\n",
      "                               Time Taken  \n",
      "Model                                      \n",
      "ExtraTreesRegressor                  7.47  \n",
      "RandomForestRegressor               14.15  \n",
      "BaggingRegressor                     1.66  \n",
      "XGBRegressor                         1.28  \n",
      "LGBMRegressor                        0.86  \n",
      "HistGradientBoostingRegressor        1.03  \n",
      "DecisionTreeRegressor                0.28  \n",
      "ExtraTreeRegressor                   0.12  \n",
      "GradientBoostingRegressor            5.47  \n",
      "AdaBoostRegressor                    0.47  \n",
      "MLPRegressor                        17.57  \n",
      "SVR                                 47.18  \n",
      "NuSVR                               45.70  \n",
      "LassoLarsIC                          0.22  \n",
      "LassoCV                              0.46  \n",
      "LarsCV                               0.30  \n",
      "LassoLarsCV                          0.25  \n",
      "Lars                                 0.17  \n",
      "OrthogonalMatchingPursuitCV          0.13  \n",
      "ElasticNetCV                         0.37  \n",
      "BayesianRidge                        0.12  \n",
      "Lasso                                0.17  \n",
      "RidgeCV                              0.08  \n",
      "Ridge                                0.06  \n",
      "LinearRegression                     0.05  \n",
      "TransformedTargetRegressor           0.05  \n",
      "PoissonRegressor                     0.11  \n",
      "OrthogonalMatchingPursuit            0.05  \n",
      "ElasticNet                           0.06  \n",
      "HuberRegressor                       0.33  \n",
      "SGDRegressor                         0.16  \n",
      "GammaRegressor                       0.06  \n",
      "TweedieRegressor                     0.06  \n",
      "LinearSVR                            0.13  \n",
      "LassoLars                            0.05  \n",
      "DummyRegressor                       0.05  \n",
      "KNeighborsRegressor                  2.87  \n",
      "PassiveAggressiveRegressor           0.10  \n",
      "RANSACRegressor                      0.40  \n",
      "GaussianProcessRegressor           727.66  \n",
      "KernelRidge                        416.35  \n"
     ]
    }
   ],
   "source": [
    "print(models)"
   ]
  },
  {
   "cell_type": "code",
   "execution_count": 25,
   "id": "f8c20f68",
   "metadata": {},
   "outputs": [],
   "source": [
    "from sklearn.ensemble import ExtraTreesRegressor"
   ]
  },
  {
   "cell_type": "code",
   "execution_count": 26,
   "id": "f459f29e",
   "metadata": {},
   "outputs": [
    {
     "data": {
      "text/plain": [
       "Pipeline(steps=[('columntransformer',\n",
       "                 ColumnTransformer(transformers=[('cat', OrdinalEncoder(),\n",
       "                                                  ['Place Code',\n",
       "                                                   'Promotion Name',\n",
       "                                                   'Store Kind',\n",
       "                                                   'Is Recyclable?', 'Children',\n",
       "                                                   'Degree', 'Work',\n",
       "                                                   'Oreder Brand', 'Product',\n",
       "                                                   'Department']),\n",
       "                                                 ('ohe', OneHotEncoder(),\n",
       "                                                  ['Marriage', 'Gender']),\n",
       "                                                 ('num', StandardScaler(),\n",
       "                                                  Index(['Store Sales', 'Store Cost', 'Store Area', 'Grocery Area',\n",
       "       'Frozen Area', 'Meat Area', 'Gross Weight', 'Net Weight',\n",
       "       'Package Weight', 'Min. Person Yearly Income'],\n",
       "      dtype='object'))])),\n",
       "                ('extratreesregressor', ExtraTreesRegressor(random_state=42))])"
      ]
     },
     "execution_count": 26,
     "metadata": {},
     "output_type": "execute_result"
    }
   ],
   "source": [
    "exmodel = make_pipeline(\n",
    "    preprocessor,\n",
    "    ExtraTreesRegressor(random_state=42)\n",
    ")\n",
    "exmodel.fit(X_train, y_train)"
   ]
  },
  {
   "cell_type": "code",
   "execution_count": 29,
   "id": "58acf9f7",
   "metadata": {},
   "outputs": [
    {
     "data": {
      "text/plain": [
       "8.697849117431592e-13"
      ]
     },
     "execution_count": 29,
     "metadata": {},
     "output_type": "execute_result"
    }
   ],
   "source": [
    "# Check if the model fitted well or not\n",
    "predictions = exmodel.predict(X_train)\n",
    "\n",
    "mse = mean_squared_error(y_train, predictions)\n",
    "rmse = np.sqrt(mse)\n",
    "rmse"
   ]
  },
  {
   "cell_type": "code",
   "execution_count": 30,
   "id": "b6cd2757",
   "metadata": {},
   "outputs": [
    {
     "data": {
      "text/plain": [
       "50.8250477268684"
      ]
     },
     "execution_count": 30,
     "metadata": {},
     "output_type": "execute_result"
    }
   ],
   "source": [
    "predictions = exmodel.predict(X_test)\n",
    "\n",
    "mse = mean_squared_error(y_test, predictions)\n",
    "rmse = np.sqrt(mse)\n",
    "rmse"
   ]
  },
  {
   "cell_type": "markdown",
   "id": "9e3877de",
   "metadata": {},
   "source": [
    "## Extract submissions"
   ]
  },
  {
   "cell_type": "code",
   "execution_count": 16,
   "id": "8b291afc",
   "metadata": {},
   "outputs": [
    {
     "data": {
      "text/html": [
       "<div>\n",
       "<style scoped>\n",
       "    .dataframe tbody tr th:only-of-type {\n",
       "        vertical-align: middle;\n",
       "    }\n",
       "\n",
       "    .dataframe tbody tr th {\n",
       "        vertical-align: top;\n",
       "    }\n",
       "\n",
       "    .dataframe thead th {\n",
       "        text-align: right;\n",
       "    }\n",
       "</style>\n",
       "<table border=\"1\" class=\"dataframe\">\n",
       "  <thead>\n",
       "    <tr style=\"text-align: right;\">\n",
       "      <th></th>\n",
       "      <th>ID</th>\n",
       "      <th>Cost</th>\n",
       "    </tr>\n",
       "  </thead>\n",
       "  <tbody>\n",
       "    <tr>\n",
       "      <th>0</th>\n",
       "      <td>0</td>\n",
       "      <td>0</td>\n",
       "    </tr>\n",
       "    <tr>\n",
       "      <th>1</th>\n",
       "      <td>1</td>\n",
       "      <td>0</td>\n",
       "    </tr>\n",
       "    <tr>\n",
       "      <th>2</th>\n",
       "      <td>2</td>\n",
       "      <td>0</td>\n",
       "    </tr>\n",
       "    <tr>\n",
       "      <th>3</th>\n",
       "      <td>3</td>\n",
       "      <td>0</td>\n",
       "    </tr>\n",
       "    <tr>\n",
       "      <th>4</th>\n",
       "      <td>4</td>\n",
       "      <td>0</td>\n",
       "    </tr>\n",
       "  </tbody>\n",
       "</table>\n",
       "</div>"
      ],
      "text/plain": [
       "   ID  Cost\n",
       "0   0     0\n",
       "1   1     0\n",
       "2   2     0\n",
       "3   3     0\n",
       "4   4     0"
      ]
     },
     "execution_count": 16,
     "metadata": {},
     "output_type": "execute_result"
    }
   ],
   "source": [
    "samples = pd.read_csv('data/sample_submission.csv')\n",
    "samples.head()"
   ]
  },
  {
   "cell_type": "code",
   "execution_count": 17,
   "id": "47086017",
   "metadata": {},
   "outputs": [
    {
     "data": {
      "text/html": [
       "<div>\n",
       "<style scoped>\n",
       "    .dataframe tbody tr th:only-of-type {\n",
       "        vertical-align: middle;\n",
       "    }\n",
       "\n",
       "    .dataframe tbody tr th {\n",
       "        vertical-align: top;\n",
       "    }\n",
       "\n",
       "    .dataframe thead th {\n",
       "        text-align: right;\n",
       "    }\n",
       "</style>\n",
       "<table border=\"1\" class=\"dataframe\">\n",
       "  <thead>\n",
       "    <tr style=\"text-align: right;\">\n",
       "      <th></th>\n",
       "      <th>id</th>\n",
       "      <th>Place Code</th>\n",
       "      <th>Promotion Name</th>\n",
       "      <th>Store Kind</th>\n",
       "      <th>Store Sales</th>\n",
       "      <th>Store Cost</th>\n",
       "      <th>Is Recyclable?</th>\n",
       "      <th>Store Area</th>\n",
       "      <th>Grocery Area</th>\n",
       "      <th>Frozen Area</th>\n",
       "      <th>...</th>\n",
       "      <th>Department</th>\n",
       "      <th>Bar For Salad</th>\n",
       "      <th>Florist</th>\n",
       "      <th>Coffee Bar</th>\n",
       "      <th>Ready Food</th>\n",
       "      <th>Video Store</th>\n",
       "      <th>Gross Weight</th>\n",
       "      <th>Net Weight</th>\n",
       "      <th>Package Weight</th>\n",
       "      <th>Min. Person Yearly Income</th>\n",
       "    </tr>\n",
       "  </thead>\n",
       "  <tbody>\n",
       "    <tr>\n",
       "      <th>0</th>\n",
       "      <td>0</td>\n",
       "      <td>B06ls_CA</td>\n",
       "      <td>Fantastic Discounts</td>\n",
       "      <td>Gourmet</td>\n",
       "      <td>11760000.00</td>\n",
       "      <td>4704000.00</td>\n",
       "      <td>yes</td>\n",
       "      <td>2201.06</td>\n",
       "      <td>1424.85</td>\n",
       "      <td>465.54</td>\n",
       "      <td>...</td>\n",
       "      <td>Snacks</td>\n",
       "      <td>1</td>\n",
       "      <td>1</td>\n",
       "      <td>1</td>\n",
       "      <td>1</td>\n",
       "      <td>1</td>\n",
       "      <td>31.83</td>\n",
       "      <td>28.78</td>\n",
       "      <td>3.05</td>\n",
       "      <td>50000.00</td>\n",
       "    </tr>\n",
       "    <tr>\n",
       "      <th>1</th>\n",
       "      <td>1</td>\n",
       "      <td>S01em_OR</td>\n",
       "      <td>Bag Stuffer</td>\n",
       "      <td>Deluxe</td>\n",
       "      <td>2160000.00</td>\n",
       "      <td>669600.00</td>\n",
       "      <td>no</td>\n",
       "      <td>2577.16</td>\n",
       "      <td>1735.17</td>\n",
       "      <td>505.07</td>\n",
       "      <td>...</td>\n",
       "      <td>Frozen Foods</td>\n",
       "      <td>1</td>\n",
       "      <td>1</td>\n",
       "      <td>1</td>\n",
       "      <td>1</td>\n",
       "      <td>1</td>\n",
       "      <td>29.94</td>\n",
       "      <td>27.04</td>\n",
       "      <td>2.91</td>\n",
       "      <td>70000.00</td>\n",
       "    </tr>\n",
       "    <tr>\n",
       "      <th>2</th>\n",
       "      <td>2</td>\n",
       "      <td>H11go_ZA</td>\n",
       "      <td>Pick Your Savings</td>\n",
       "      <td>Deluxe</td>\n",
       "      <td>1830000.00</td>\n",
       "      <td>823500.00</td>\n",
       "      <td>no</td>\n",
       "      <td>2837.58</td>\n",
       "      <td>2038.11</td>\n",
       "      <td>481.98</td>\n",
       "      <td>...</td>\n",
       "      <td>Dairy</td>\n",
       "      <td>1</td>\n",
       "      <td>1</td>\n",
       "      <td>1</td>\n",
       "      <td>1</td>\n",
       "      <td>1</td>\n",
       "      <td>29.22</td>\n",
       "      <td>26.31</td>\n",
       "      <td>2.91</td>\n",
       "      <td>130000.00</td>\n",
       "    </tr>\n",
       "    <tr>\n",
       "      <th>3</th>\n",
       "      <td>3</td>\n",
       "      <td>M10da_YU</td>\n",
       "      <td>Price Winners</td>\n",
       "      <td>Deluxe</td>\n",
       "      <td>8820000.00</td>\n",
       "      <td>4410000.00</td>\n",
       "      <td>no</td>\n",
       "      <td>2859.04</td>\n",
       "      <td>1871.16</td>\n",
       "      <td>593.93</td>\n",
       "      <td>...</td>\n",
       "      <td>Frozen Foods</td>\n",
       "      <td>1</td>\n",
       "      <td>1</td>\n",
       "      <td>1</td>\n",
       "      <td>1</td>\n",
       "      <td>1</td>\n",
       "      <td>28.05</td>\n",
       "      <td>25.00</td>\n",
       "      <td>3.05</td>\n",
       "      <td>10000.00</td>\n",
       "    </tr>\n",
       "    <tr>\n",
       "      <th>4</th>\n",
       "      <td>4</td>\n",
       "      <td>L05es_CA</td>\n",
       "      <td>Dollar Days</td>\n",
       "      <td>Supermarket</td>\n",
       "      <td>4320000.00</td>\n",
       "      <td>1987200.00</td>\n",
       "      <td>no</td>\n",
       "      <td>2193.97</td>\n",
       "      <td>1320.15</td>\n",
       "      <td>523.32</td>\n",
       "      <td>...</td>\n",
       "      <td>Beverages</td>\n",
       "      <td>0</td>\n",
       "      <td>1</td>\n",
       "      <td>0</td>\n",
       "      <td>0</td>\n",
       "      <td>0</td>\n",
       "      <td>23.55</td>\n",
       "      <td>20.64</td>\n",
       "      <td>2.91</td>\n",
       "      <td>30000.00</td>\n",
       "    </tr>\n",
       "  </tbody>\n",
       "</table>\n",
       "<p>5 rows × 28 columns</p>\n",
       "</div>"
      ],
      "text/plain": [
       "   id Place Code       Promotion Name   Store Kind  Store Sales  Store Cost  \\\n",
       "0   0   B06ls_CA  Fantastic Discounts      Gourmet  11760000.00  4704000.00   \n",
       "1   1   S01em_OR          Bag Stuffer       Deluxe   2160000.00   669600.00   \n",
       "2   2   H11go_ZA    Pick Your Savings       Deluxe   1830000.00   823500.00   \n",
       "3   3   M10da_YU        Price Winners       Deluxe   8820000.00  4410000.00   \n",
       "4   4   L05es_CA          Dollar Days  Supermarket   4320000.00  1987200.00   \n",
       "\n",
       "  Is Recyclable?  Store Area  Grocery Area  Frozen Area  ...    Department  \\\n",
       "0            yes     2201.06       1424.85       465.54  ...        Snacks   \n",
       "1             no     2577.16       1735.17       505.07  ...  Frozen Foods   \n",
       "2             no     2837.58       2038.11       481.98  ...         Dairy   \n",
       "3             no     2859.04       1871.16       593.93  ...  Frozen Foods   \n",
       "4             no     2193.97       1320.15       523.32  ...     Beverages   \n",
       "\n",
       "  Bar For Salad Florist Coffee Bar Ready Food Video Store Gross Weight  \\\n",
       "0             1       1          1          1           1        31.83   \n",
       "1             1       1          1          1           1        29.94   \n",
       "2             1       1          1          1           1        29.22   \n",
       "3             1       1          1          1           1        28.05   \n",
       "4             0       1          0          0           0        23.55   \n",
       "\n",
       "  Net Weight Package Weight  Min. Person Yearly Income  \n",
       "0      28.78           3.05                   50000.00  \n",
       "1      27.04           2.91                   70000.00  \n",
       "2      26.31           2.91                  130000.00  \n",
       "3      25.00           3.05                   10000.00  \n",
       "4      20.64           2.91                   30000.00  \n",
       "\n",
       "[5 rows x 28 columns]"
      ]
     },
     "execution_count": 17,
     "metadata": {},
     "output_type": "execute_result"
    }
   ],
   "source": [
    "test = pd.read_csv(\"data/cleaned_test.csv\")\n",
    "test.head()"
   ]
  },
  {
   "cell_type": "code",
   "execution_count": 18,
   "id": "a9e62c7e",
   "metadata": {},
   "outputs": [
    {
     "data": {
      "text/plain": [
       "id                           0\n",
       "Place Code                   0\n",
       "Promotion Name               0\n",
       "Store Kind                   0\n",
       "Store Sales                  0\n",
       "Store Cost                   0\n",
       "Is Recyclable?               0\n",
       "Store Area                   0\n",
       "Grocery Area                 0\n",
       "Frozen Area                  0\n",
       "Meat Area                    0\n",
       "Marriage                     0\n",
       "Gender                       0\n",
       "Children                     0\n",
       "Degree                       0\n",
       "Work                         0\n",
       "Oreder Brand                 0\n",
       "Product                      0\n",
       "Department                   0\n",
       "Bar For Salad                0\n",
       "Florist                      0\n",
       "Coffee Bar                   0\n",
       "Ready Food                   0\n",
       "Video Store                  0\n",
       "Gross Weight                 0\n",
       "Net Weight                   0\n",
       "Package Weight               0\n",
       "Min. Person Yearly Income    0\n",
       "dtype: int64"
      ]
     },
     "execution_count": 18,
     "metadata": {},
     "output_type": "execute_result"
    }
   ],
   "source": [
    "test.isna().sum()"
   ]
  },
  {
   "cell_type": "code",
   "execution_count": 31,
   "id": "c504c264",
   "metadata": {},
   "outputs": [],
   "source": [
    "y_sub_pred = exmodel.predict(test)"
   ]
  },
  {
   "cell_type": "code",
   "execution_count": 32,
   "id": "ddd74515",
   "metadata": {},
   "outputs": [],
   "source": [
    "samples[\"Cost\"] = y_sub_pred"
   ]
  },
  {
   "cell_type": "code",
   "execution_count": 34,
   "id": "c218e8d6",
   "metadata": {},
   "outputs": [],
   "source": [
    "samples.to_csv(\"data/submission.csv\", index=False)"
   ]
  },
  {
   "cell_type": "code",
   "execution_count": null,
   "id": "a3605273",
   "metadata": {},
   "outputs": [],
   "source": []
  }
 ],
 "metadata": {
  "kernelspec": {
   "display_name": "Python 3 (ipykernel)",
   "language": "python",
   "name": "python3"
  },
  "language_info": {
   "codemirror_mode": {
    "name": "ipython",
    "version": 3
   },
   "file_extension": ".py",
   "mimetype": "text/x-python",
   "name": "python",
   "nbconvert_exporter": "python",
   "pygments_lexer": "ipython3",
   "version": "3.9.12"
  }
 },
 "nbformat": 4,
 "nbformat_minor": 5
}
