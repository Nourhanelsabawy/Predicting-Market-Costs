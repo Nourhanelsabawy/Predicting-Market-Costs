{
 "cells": [
  {
   "cell_type": "code",
   "execution_count": 51,
   "id": "5879cc50",
   "metadata": {},
   "outputs": [],
   "source": [
    "import optuna\n",
    "\n",
    "import pandas as pd\n",
    "import numpy as np\n",
    "import matplotlib.pyplot as plt\n",
    "import seaborn as sns\n",
    "\n",
    "from lazypredict.Supervised import LazyRegressor\n",
    "\n",
    "from sklearn.preprocessing import OrdinalEncoder, StandardScaler, OneHotEncoder, PowerTransformer, RobustScaler\n",
    "from sklearn.pipeline import make_pipeline\n",
    "from sklearn.tree import DecisionTreeRegressor\n",
    "from sklearn.model_selection import KFold, train_test_split, cross_val_score, GridSearchCV\n",
    "from sklearn.impute import SimpleImputer\n",
    "from sklearn.compose import ColumnTransformer\n",
    "from sklearn.metrics import make_scorer, mean_squared_error\n",
    "from sklearn.ensemble import ExtraTreesRegressor, RandomForestRegressor, BaggingRegressor\n",
    "from sklearn.ensemble import VotingRegressor, StackingRegressor\n",
    "\n",
    "from xgboost import XGBRegressor\n",
    "from lightgbm import LGBMRegressor\n",
    "\n",
    "from catboost import CatBoostRegressor\n",
    "\n",
    "# local Module\n",
    "import pre_processing_funcs as pre"
   ]
  },
  {
   "cell_type": "code",
   "execution_count": 2,
   "id": "66e4dce8",
   "metadata": {},
   "outputs": [
    {
     "data": {
      "text/html": [
       "<div>\n",
       "<style scoped>\n",
       "    .dataframe tbody tr th:only-of-type {\n",
       "        vertical-align: middle;\n",
       "    }\n",
       "\n",
       "    .dataframe tbody tr th {\n",
       "        vertical-align: top;\n",
       "    }\n",
       "\n",
       "    .dataframe thead th {\n",
       "        text-align: right;\n",
       "    }\n",
       "</style>\n",
       "<table border=\"1\" class=\"dataframe\">\n",
       "  <thead>\n",
       "    <tr style=\"text-align: right;\">\n",
       "      <th></th>\n",
       "      <th>Promotion Name</th>\n",
       "      <th>Store Kind</th>\n",
       "      <th>Is Recyclable?</th>\n",
       "      <th>Grocery Area</th>\n",
       "      <th>Meat Area</th>\n",
       "      <th>Cost</th>\n",
       "      <th>Marriage</th>\n",
       "      <th>Gender</th>\n",
       "      <th>Children</th>\n",
       "      <th>Degree</th>\n",
       "      <th>...</th>\n",
       "      <th>Min. Person Yearly Income</th>\n",
       "      <th>Amenities Score</th>\n",
       "      <th>Family Expenses</th>\n",
       "      <th>Store Efficiency</th>\n",
       "      <th>Promotion Name Length</th>\n",
       "      <th>Store Kind Length</th>\n",
       "      <th>Promotion Frequency</th>\n",
       "      <th>Income Level</th>\n",
       "      <th>Price Tier</th>\n",
       "      <th>Order Popularity</th>\n",
       "    </tr>\n",
       "  </thead>\n",
       "  <tbody>\n",
       "    <tr>\n",
       "      <th>0</th>\n",
       "      <td>Dimes Off</td>\n",
       "      <td>Deluxe</td>\n",
       "      <td>True</td>\n",
       "      <td>2037.64</td>\n",
       "      <td>323.00</td>\n",
       "      <td>602.76</td>\n",
       "      <td>Single</td>\n",
       "      <td>Female</td>\n",
       "      <td>4</td>\n",
       "      <td>bachelors degree</td>\n",
       "      <td>...</td>\n",
       "      <td>10000.00</td>\n",
       "      <td>5</td>\n",
       "      <td>2000.00</td>\n",
       "      <td>3082.09</td>\n",
       "      <td>9</td>\n",
       "      <td>6</td>\n",
       "      <td>539</td>\n",
       "      <td>Low</td>\n",
       "      <td>High Price</td>\n",
       "      <td>368</td>\n",
       "    </tr>\n",
       "    <tr>\n",
       "      <th>1</th>\n",
       "      <td>Budget Bargains</td>\n",
       "      <td>Supermarket</td>\n",
       "      <td>False</td>\n",
       "      <td>2049.72</td>\n",
       "      <td>305.02</td>\n",
       "      <td>708.66</td>\n",
       "      <td>Single</td>\n",
       "      <td>Female</td>\n",
       "      <td>3</td>\n",
       "      <td>bachelors degree</td>\n",
       "      <td>...</td>\n",
       "      <td>50000.00</td>\n",
       "      <td>0</td>\n",
       "      <td>12500.00</td>\n",
       "      <td>2259.37</td>\n",
       "      <td>15</td>\n",
       "      <td>11</td>\n",
       "      <td>615</td>\n",
       "      <td>Middle</td>\n",
       "      <td>High Price</td>\n",
       "      <td>3243</td>\n",
       "    </tr>\n",
       "    <tr>\n",
       "      <th>2</th>\n",
       "      <td>Shelf Emptiers</td>\n",
       "      <td>Supermarket</td>\n",
       "      <td>True</td>\n",
       "      <td>1322.21</td>\n",
       "      <td>348.85</td>\n",
       "      <td>564.26</td>\n",
       "      <td>Married</td>\n",
       "      <td>Male</td>\n",
       "      <td>2</td>\n",
       "      <td>high school degree</td>\n",
       "      <td>...</td>\n",
       "      <td>30000.00</td>\n",
       "      <td>1</td>\n",
       "      <td>7500.00</td>\n",
       "      <td>4953.66</td>\n",
       "      <td>14</td>\n",
       "      <td>11</td>\n",
       "      <td>393</td>\n",
       "      <td>Middle</td>\n",
       "      <td>High Price</td>\n",
       "      <td>431</td>\n",
       "    </tr>\n",
       "    <tr>\n",
       "      <th>3</th>\n",
       "      <td>Sale Winners</td>\n",
       "      <td>Deluxe</td>\n",
       "      <td>False</td>\n",
       "      <td>1872.19</td>\n",
       "      <td>395.95</td>\n",
       "      <td>519.76</td>\n",
       "      <td>Married</td>\n",
       "      <td>Female</td>\n",
       "      <td>5</td>\n",
       "      <td>bachelors degree</td>\n",
       "      <td>...</td>\n",
       "      <td>50000.00</td>\n",
       "      <td>5</td>\n",
       "      <td>7142.86</td>\n",
       "      <td>4038.71</td>\n",
       "      <td>12</td>\n",
       "      <td>6</td>\n",
       "      <td>438</td>\n",
       "      <td>Middle</td>\n",
       "      <td>High Price</td>\n",
       "      <td>3604</td>\n",
       "    </tr>\n",
       "    <tr>\n",
       "      <th>4</th>\n",
       "      <td>Weekend Discount</td>\n",
       "      <td>Supermarket</td>\n",
       "      <td>True</td>\n",
       "      <td>1236.07</td>\n",
       "      <td>293.95</td>\n",
       "      <td>364.16</td>\n",
       "      <td>Single</td>\n",
       "      <td>Male</td>\n",
       "      <td>4</td>\n",
       "      <td>high school degree</td>\n",
       "      <td>...</td>\n",
       "      <td>30000.00</td>\n",
       "      <td>1</td>\n",
       "      <td>6000.00</td>\n",
       "      <td>2649.52</td>\n",
       "      <td>16</td>\n",
       "      <td>11</td>\n",
       "      <td>1085</td>\n",
       "      <td>Middle</td>\n",
       "      <td>High Price</td>\n",
       "      <td>106</td>\n",
       "    </tr>\n",
       "  </tbody>\n",
       "</table>\n",
       "<p>5 rows × 28 columns</p>\n",
       "</div>"
      ],
      "text/plain": [
       "     Promotion Name   Store Kind  Is Recyclable?  Grocery Area  Meat Area  \\\n",
       "0         Dimes Off       Deluxe            True       2037.64     323.00   \n",
       "1   Budget Bargains  Supermarket           False       2049.72     305.02   \n",
       "2    Shelf Emptiers  Supermarket            True       1322.21     348.85   \n",
       "3      Sale Winners       Deluxe           False       1872.19     395.95   \n",
       "4  Weekend Discount  Supermarket            True       1236.07     293.95   \n",
       "\n",
       "    Cost Marriage  Gender  Children               Degree  ...  \\\n",
       "0 602.76   Single  Female         4    bachelors degree   ...   \n",
       "1 708.66   Single  Female         3    bachelors degree   ...   \n",
       "2 564.26  Married    Male         2  high school degree   ...   \n",
       "3 519.76  Married  Female         5    bachelors degree   ...   \n",
       "4 364.16   Single    Male         4  high school degree   ...   \n",
       "\n",
       "  Min. Person Yearly Income Amenities Score Family Expenses Store Efficiency  \\\n",
       "0                  10000.00               5         2000.00          3082.09   \n",
       "1                  50000.00               0        12500.00          2259.37   \n",
       "2                  30000.00               1         7500.00          4953.66   \n",
       "3                  50000.00               5         7142.86          4038.71   \n",
       "4                  30000.00               1         6000.00          2649.52   \n",
       "\n",
       "  Promotion Name Length Store Kind Length  Promotion Frequency  Income Level  \\\n",
       "0                     9                 6                  539           Low   \n",
       "1                    15                11                  615        Middle   \n",
       "2                    14                11                  393        Middle   \n",
       "3                    12                 6                  438        Middle   \n",
       "4                    16                11                 1085        Middle   \n",
       "\n",
       "   Price Tier  Order Popularity  \n",
       "0  High Price               368  \n",
       "1  High Price              3243  \n",
       "2  High Price               431  \n",
       "3  High Price              3604  \n",
       "4  High Price               106  \n",
       "\n",
       "[5 rows x 28 columns]"
      ]
     },
     "execution_count": 2,
     "metadata": {},
     "output_type": "execute_result"
    }
   ],
   "source": [
    "df = pd.read_csv(\"data/cleaned_train.csv\")\n",
    "df.head()"
   ]
  },
  {
   "cell_type": "code",
   "execution_count": 3,
   "id": "d32976d4",
   "metadata": {},
   "outputs": [
    {
     "name": "stdout",
     "output_type": "stream",
     "text": [
      "<class 'pandas.core.frame.DataFrame'>\n",
      "RangeIndex: 28227 entries, 0 to 28226\n",
      "Data columns (total 28 columns):\n",
      " #   Column                     Non-Null Count  Dtype  \n",
      "---  ------                     --------------  -----  \n",
      " 0   Promotion Name             28227 non-null  object \n",
      " 1   Store Kind                 28227 non-null  object \n",
      " 2   Is Recyclable?             28227 non-null  bool   \n",
      " 3   Grocery Area               28227 non-null  float64\n",
      " 4   Meat Area                  28227 non-null  float64\n",
      " 5   Cost                       28227 non-null  float64\n",
      " 6   Marriage                   28227 non-null  object \n",
      " 7   Gender                     28227 non-null  object \n",
      " 8   Children                   28227 non-null  int64  \n",
      " 9   Degree                     28227 non-null  object \n",
      " 10  Work                       28227 non-null  object \n",
      " 11  Store Code                 28227 non-null  object \n",
      " 12  Country ISO2               28227 non-null  object \n",
      " 13  Order Brand                28227 non-null  object \n",
      " 14  Order                      28227 non-null  object \n",
      " 15  Department                 28227 non-null  object \n",
      " 16  Gross Weight               28227 non-null  float64\n",
      " 17  Package Weight             28227 non-null  float64\n",
      " 18  Min. Person Yearly Income  28227 non-null  float64\n",
      " 19  Amenities Score            28227 non-null  int64  \n",
      " 20  Family Expenses            28227 non-null  float64\n",
      " 21  Store Efficiency           28227 non-null  float64\n",
      " 22  Promotion Name Length      28227 non-null  int64  \n",
      " 23  Store Kind Length          28227 non-null  int64  \n",
      " 24  Promotion Frequency        28227 non-null  int64  \n",
      " 25  Income Level               28227 non-null  object \n",
      " 26  Price Tier                 28227 non-null  object \n",
      " 27  Order Popularity           28227 non-null  int64  \n",
      "dtypes: bool(1), float64(8), int64(6), object(13)\n",
      "memory usage: 5.8+ MB\n"
     ]
    }
   ],
   "source": [
    "df.info()"
   ]
  },
  {
   "cell_type": "code",
   "execution_count": 4,
   "id": "e38e74a6",
   "metadata": {},
   "outputs": [
    {
     "data": {
      "text/html": [
       "<div>\n",
       "<style scoped>\n",
       "    .dataframe tbody tr th:only-of-type {\n",
       "        vertical-align: middle;\n",
       "    }\n",
       "\n",
       "    .dataframe tbody tr th {\n",
       "        vertical-align: top;\n",
       "    }\n",
       "\n",
       "    .dataframe thead th {\n",
       "        text-align: right;\n",
       "    }\n",
       "</style>\n",
       "<table border=\"1\" class=\"dataframe\">\n",
       "  <thead>\n",
       "    <tr style=\"text-align: right;\">\n",
       "      <th></th>\n",
       "      <th>Promotion Name</th>\n",
       "      <th>Store Kind</th>\n",
       "      <th>Is Recyclable?</th>\n",
       "      <th>Grocery Area</th>\n",
       "      <th>Meat Area</th>\n",
       "      <th>Cost</th>\n",
       "      <th>Marriage</th>\n",
       "      <th>Gender</th>\n",
       "      <th>Children</th>\n",
       "      <th>Degree</th>\n",
       "      <th>...</th>\n",
       "      <th>Min. Person Yearly Income</th>\n",
       "      <th>Amenities Score</th>\n",
       "      <th>Family Expenses</th>\n",
       "      <th>Store Efficiency</th>\n",
       "      <th>Promotion Name Length</th>\n",
       "      <th>Store Kind Length</th>\n",
       "      <th>Promotion Frequency</th>\n",
       "      <th>Income Level</th>\n",
       "      <th>Price Tier</th>\n",
       "      <th>Order Popularity</th>\n",
       "    </tr>\n",
       "  </thead>\n",
       "  <tbody>\n",
       "    <tr>\n",
       "      <th>0</th>\n",
       "      <td>Dimes Off</td>\n",
       "      <td>Deluxe</td>\n",
       "      <td>True</td>\n",
       "      <td>2037.64</td>\n",
       "      <td>323.00</td>\n",
       "      <td>602.76</td>\n",
       "      <td>Single</td>\n",
       "      <td>Female</td>\n",
       "      <td>4</td>\n",
       "      <td>bachelors degree</td>\n",
       "      <td>...</td>\n",
       "      <td>10000.00</td>\n",
       "      <td>5</td>\n",
       "      <td>2000.00</td>\n",
       "      <td>3082.09</td>\n",
       "      <td>9</td>\n",
       "      <td>6</td>\n",
       "      <td>539</td>\n",
       "      <td>Low</td>\n",
       "      <td>High Price</td>\n",
       "      <td>368</td>\n",
       "    </tr>\n",
       "    <tr>\n",
       "      <th>1</th>\n",
       "      <td>Budget Bargains</td>\n",
       "      <td>Supermarket</td>\n",
       "      <td>False</td>\n",
       "      <td>2049.72</td>\n",
       "      <td>305.02</td>\n",
       "      <td>708.66</td>\n",
       "      <td>Single</td>\n",
       "      <td>Female</td>\n",
       "      <td>3</td>\n",
       "      <td>bachelors degree</td>\n",
       "      <td>...</td>\n",
       "      <td>50000.00</td>\n",
       "      <td>0</td>\n",
       "      <td>12500.00</td>\n",
       "      <td>2259.37</td>\n",
       "      <td>15</td>\n",
       "      <td>11</td>\n",
       "      <td>615</td>\n",
       "      <td>Middle</td>\n",
       "      <td>High Price</td>\n",
       "      <td>3243</td>\n",
       "    </tr>\n",
       "    <tr>\n",
       "      <th>2</th>\n",
       "      <td>Shelf Emptiers</td>\n",
       "      <td>Supermarket</td>\n",
       "      <td>True</td>\n",
       "      <td>1322.21</td>\n",
       "      <td>348.85</td>\n",
       "      <td>564.26</td>\n",
       "      <td>Married</td>\n",
       "      <td>Male</td>\n",
       "      <td>2</td>\n",
       "      <td>high school degree</td>\n",
       "      <td>...</td>\n",
       "      <td>30000.00</td>\n",
       "      <td>1</td>\n",
       "      <td>7500.00</td>\n",
       "      <td>4953.66</td>\n",
       "      <td>14</td>\n",
       "      <td>11</td>\n",
       "      <td>393</td>\n",
       "      <td>Middle</td>\n",
       "      <td>High Price</td>\n",
       "      <td>431</td>\n",
       "    </tr>\n",
       "    <tr>\n",
       "      <th>3</th>\n",
       "      <td>Sale Winners</td>\n",
       "      <td>Deluxe</td>\n",
       "      <td>False</td>\n",
       "      <td>1872.19</td>\n",
       "      <td>395.95</td>\n",
       "      <td>519.76</td>\n",
       "      <td>Married</td>\n",
       "      <td>Female</td>\n",
       "      <td>5</td>\n",
       "      <td>bachelors degree</td>\n",
       "      <td>...</td>\n",
       "      <td>50000.00</td>\n",
       "      <td>5</td>\n",
       "      <td>7142.86</td>\n",
       "      <td>4038.71</td>\n",
       "      <td>12</td>\n",
       "      <td>6</td>\n",
       "      <td>438</td>\n",
       "      <td>Middle</td>\n",
       "      <td>High Price</td>\n",
       "      <td>3604</td>\n",
       "    </tr>\n",
       "    <tr>\n",
       "      <th>4</th>\n",
       "      <td>Weekend Discount</td>\n",
       "      <td>Supermarket</td>\n",
       "      <td>True</td>\n",
       "      <td>1236.07</td>\n",
       "      <td>293.95</td>\n",
       "      <td>364.16</td>\n",
       "      <td>Single</td>\n",
       "      <td>Male</td>\n",
       "      <td>4</td>\n",
       "      <td>high school degree</td>\n",
       "      <td>...</td>\n",
       "      <td>30000.00</td>\n",
       "      <td>1</td>\n",
       "      <td>6000.00</td>\n",
       "      <td>2649.52</td>\n",
       "      <td>16</td>\n",
       "      <td>11</td>\n",
       "      <td>1085</td>\n",
       "      <td>Middle</td>\n",
       "      <td>High Price</td>\n",
       "      <td>106</td>\n",
       "    </tr>\n",
       "  </tbody>\n",
       "</table>\n",
       "<p>5 rows × 28 columns</p>\n",
       "</div>"
      ],
      "text/plain": [
       "     Promotion Name   Store Kind  Is Recyclable?  Grocery Area  Meat Area  \\\n",
       "0         Dimes Off       Deluxe            True       2037.64     323.00   \n",
       "1   Budget Bargains  Supermarket           False       2049.72     305.02   \n",
       "2    Shelf Emptiers  Supermarket            True       1322.21     348.85   \n",
       "3      Sale Winners       Deluxe           False       1872.19     395.95   \n",
       "4  Weekend Discount  Supermarket            True       1236.07     293.95   \n",
       "\n",
       "    Cost Marriage  Gender  Children               Degree  ...  \\\n",
       "0 602.76   Single  Female         4    bachelors degree   ...   \n",
       "1 708.66   Single  Female         3    bachelors degree   ...   \n",
       "2 564.26  Married    Male         2  high school degree   ...   \n",
       "3 519.76  Married  Female         5    bachelors degree   ...   \n",
       "4 364.16   Single    Male         4  high school degree   ...   \n",
       "\n",
       "  Min. Person Yearly Income Amenities Score Family Expenses Store Efficiency  \\\n",
       "0                  10000.00               5         2000.00          3082.09   \n",
       "1                  50000.00               0        12500.00          2259.37   \n",
       "2                  30000.00               1         7500.00          4953.66   \n",
       "3                  50000.00               5         7142.86          4038.71   \n",
       "4                  30000.00               1         6000.00          2649.52   \n",
       "\n",
       "  Promotion Name Length Store Kind Length  Promotion Frequency  Income Level  \\\n",
       "0                     9                 6                  539           Low   \n",
       "1                    15                11                  615        Middle   \n",
       "2                    14                11                  393        Middle   \n",
       "3                    12                 6                  438        Middle   \n",
       "4                    16                11                 1085        Middle   \n",
       "\n",
       "   Price Tier  Order Popularity  \n",
       "0  High Price               368  \n",
       "1  High Price              3243  \n",
       "2  High Price               431  \n",
       "3  High Price              3604  \n",
       "4  High Price               106  \n",
       "\n",
       "[5 rows x 28 columns]"
      ]
     },
     "execution_count": 4,
     "metadata": {},
     "output_type": "execute_result"
    }
   ],
   "source": [
    "df.head()"
   ]
  },
  {
   "cell_type": "code",
   "execution_count": 52,
   "id": "ffc21627",
   "metadata": {},
   "outputs": [],
   "source": [
    "target = \"Cost\"\n",
    "X = df.drop(columns=target)\n",
    "y = df[target]"
   ]
  },
  {
   "cell_type": "code",
   "execution_count": 53,
   "id": "1414b816",
   "metadata": {},
   "outputs": [],
   "source": [
    "X_train, X_test, y_train, y_test = train_test_split(X, y, test_size=0.2, random_state=42)"
   ]
  },
  {
   "cell_type": "code",
   "execution_count": 54,
   "id": "743b94c5",
   "metadata": {},
   "outputs": [],
   "source": [
    "ord_categorical_columns = df.select_dtypes(\"object\").drop(columns=['Marriage', 'Gender']).columns\n",
    "\n",
    "hot_categorical_columns = ['Marriage', 'Gender', 'Is Recyclable?', \"Income Level\", \"Price Tier\"]\n",
    "\n",
    "numeric_columns = X.select_dtypes(\"float\").columns"
   ]
  },
  {
   "cell_type": "code",
   "execution_count": 55,
   "id": "30bb9249",
   "metadata": {},
   "outputs": [],
   "source": [
    "preprocessor = ColumnTransformer(\n",
    "    transformers=[\n",
    "        ('cat', OrdinalEncoder(), ord_categorical_columns),\n",
    "        ('ohe', OneHotEncoder(), hot_categorical_columns),\n",
    "        ('num', StandardScaler(), numeric_columns)\n",
    "    ]\n",
    ")"
   ]
  },
  {
   "cell_type": "code",
   "execution_count": 56,
   "id": "fed89b9c",
   "metadata": {},
   "outputs": [
    {
     "data": {
      "text/plain": [
       "Pipeline(steps=[('columntransformer',\n",
       "                 ColumnTransformer(transformers=[('cat', OrdinalEncoder(),\n",
       "                                                  Index(['Promotion Name', 'Store Kind', 'Degree', 'Work', 'Store Code',\n",
       "       'Country ISO2', 'Order Brand', 'Order', 'Department', 'Income Level',\n",
       "       'Price Tier'],\n",
       "      dtype='object')),\n",
       "                                                 ('ohe', OneHotEncoder(),\n",
       "                                                  ['Marriage', 'Gender',\n",
       "                                                   'Is Recyclable?',\n",
       "                                                   'Income Level',\n",
       "                                                   'Price Tier']),\n",
       "                                                 ('num', RobustScaler(),\n",
       "                                                  Index(['Grocery Area', 'Meat Area', 'Gross Weight', 'Package Weight',\n",
       "       'Min. Person Yearly Income', 'Family Expenses', 'Store Efficiency'],\n",
       "      dtype='object'))])),\n",
       "                ('decisiontreeregressor',\n",
       "                 DecisionTreeRegressor(max_depth=16, random_state=42))])"
      ]
     },
     "execution_count": 56,
     "metadata": {},
     "output_type": "execute_result"
    }
   ],
   "source": [
    "model = make_pipeline(\n",
    "    preprocessor,\n",
    "    DecisionTreeRegressor(max_depth=16, random_state=42)\n",
    ")\n",
    "model.fit(X_train, y_train)"
   ]
  },
  {
   "cell_type": "code",
   "execution_count": 57,
   "id": "5d2c57da",
   "metadata": {},
   "outputs": [
    {
     "data": {
      "text/plain": [
       "30.34461151439718"
      ]
     },
     "execution_count": 57,
     "metadata": {},
     "output_type": "execute_result"
    }
   ],
   "source": [
    "# Check if the model fitted well or not\n",
    "predictions = model.predict(X_train)\n",
    "\n",
    "mse = mean_squared_error(y_train, predictions)\n",
    "rmse = np.sqrt(mse)\n",
    "rmse"
   ]
  },
  {
   "cell_type": "code",
   "execution_count": 58,
   "id": "7ea2f1fd",
   "metadata": {},
   "outputs": [
    {
     "data": {
      "text/plain": [
       "60.514139085534296"
      ]
     },
     "execution_count": 58,
     "metadata": {},
     "output_type": "execute_result"
    }
   ],
   "source": [
    "predictions = model.predict(X_test)\n",
    "\n",
    "mse = mean_squared_error(y_test, predictions)\n",
    "rmse = np.sqrt(mse)\n",
    "rmse"
   ]
  },
  {
   "cell_type": "code",
   "execution_count": 59,
   "id": "8aeb123a",
   "metadata": {},
   "outputs": [
    {
     "data": {
      "text/plain": [
       "Pipeline(steps=[('columntransformer',\n",
       "                 ColumnTransformer(transformers=[('cat', OrdinalEncoder(),\n",
       "                                                  Index(['Promotion Name', 'Store Kind', 'Degree', 'Work', 'Store Code',\n",
       "       'Country ISO2', 'Order Brand', 'Order', 'Department', 'Income Level',\n",
       "       'Price Tier'],\n",
       "      dtype='object')),\n",
       "                                                 ('ohe', OneHotEncoder(),\n",
       "                                                  ['Marriage', 'Gender',\n",
       "                                                   'Is Recyclable?',\n",
       "                                                   'Income Level',\n",
       "                                                   'Price Tier']),\n",
       "                                                 ('num', RobustScaler(),\n",
       "                                                  Index(['Grocery Area', 'Meat Area', 'Gross Weight', 'Package Weight',\n",
       "       'Min. Person Yearly Income', 'Family Expenses', 'Store Efficiency'],\n",
       "      dtype='object'))])),\n",
       "                ('randomforestregressor',\n",
       "                 RandomForestRegressor(max_depth=16, n_estimators=512,\n",
       "                                       n_jobs=-1, random_state=42))])"
      ]
     },
     "execution_count": 59,
     "metadata": {},
     "output_type": "execute_result"
    }
   ],
   "source": [
    "rfmodel = make_pipeline(\n",
    "    preprocessor,\n",
    "    RandomForestRegressor(n_estimators=512, max_depth=16, n_jobs=-1, random_state=42)\n",
    ")\n",
    "rfmodel.fit(X_train, y_train)"
   ]
  },
  {
   "cell_type": "code",
   "execution_count": 60,
   "id": "ddddbe21",
   "metadata": {},
   "outputs": [
    {
     "data": {
      "text/plain": [
       "28.13340275271794"
      ]
     },
     "execution_count": 60,
     "metadata": {},
     "output_type": "execute_result"
    }
   ],
   "source": [
    "# Check if the model fitted well or not\n",
    "predictions = rfmodel.predict(X_train)\n",
    "\n",
    "mse = mean_squared_error(y_train, predictions)\n",
    "rmse = np.sqrt(mse)\n",
    "rmse"
   ]
  },
  {
   "cell_type": "code",
   "execution_count": 61,
   "id": "0a30a1be",
   "metadata": {},
   "outputs": [
    {
     "data": {
      "text/plain": [
       "50.92521347156512"
      ]
     },
     "execution_count": 61,
     "metadata": {},
     "output_type": "execute_result"
    }
   ],
   "source": [
    "predictions = rfmodel.predict(X_test)\n",
    "\n",
    "mse = mean_squared_error(y_test, predictions)\n",
    "rmse = np.sqrt(mse)\n",
    "rmse"
   ]
  },
  {
   "cell_type": "code",
   "execution_count": 15,
   "id": "dd868008",
   "metadata": {},
   "outputs": [
    {
     "data": {
      "text/plain": [
       "Index(['Promotion Name', 'Store Kind', 'Is Recyclable?', 'Grocery Area',\n",
       "       'Meat Area', 'Marriage', 'Gender', 'Children', 'Degree', 'Work',\n",
       "       'Store Code', 'Country ISO2', 'Order Brand', 'Order', 'Department',\n",
       "       'Gross Weight', 'Package Weight', 'Min. Person Yearly Income',\n",
       "       'Amenities Score', 'Family Expenses', 'Store Efficiency',\n",
       "       'Promotion Name Length', 'Store Kind Length', 'Promotion Frequency',\n",
       "       'Income Level', 'Price Tier', 'Order Popularity'],\n",
       "      dtype='object')"
      ]
     },
     "execution_count": 15,
     "metadata": {},
     "output_type": "execute_result"
    }
   ],
   "source": [
    "X_train.columns"
   ]
  },
  {
   "cell_type": "code",
   "execution_count": 16,
   "id": "ae365ba7",
   "metadata": {},
   "outputs": [
    {
     "data": {
      "text/plain": [
       "array([4.782e-01, 3.120e-02, 4.200e-03, 3.400e-03, 1.016e-01, 9.710e-02,\n",
       "       7.500e-03, 6.000e-03, 4.900e-03, 7.000e-04, 1.000e-04, 8.000e-04,\n",
       "       8.000e-04, 1.300e-03, 1.000e-03, 6.000e-04, 6.000e-04, 3.000e-04,\n",
       "       2.000e-04, 5.000e-04, 1.000e-04, 1.000e-04, 9.970e-02, 1.234e-01,\n",
       "       8.400e-03, 4.800e-03, 3.000e-03, 8.400e-03, 1.120e-02])"
      ]
     },
     "execution_count": 16,
     "metadata": {},
     "output_type": "execute_result"
    }
   ],
   "source": [
    "rfmodel.named_steps[\"randomforestregressor\"].feature_importances_.round(4)"
   ]
  },
  {
   "cell_type": "code",
   "execution_count": 62,
   "id": "f459f29e",
   "metadata": {},
   "outputs": [
    {
     "data": {
      "text/plain": [
       "Pipeline(steps=[('columntransformer',\n",
       "                 ColumnTransformer(transformers=[('cat', OrdinalEncoder(),\n",
       "                                                  Index(['Promotion Name', 'Store Kind', 'Degree', 'Work', 'Store Code',\n",
       "       'Country ISO2', 'Order Brand', 'Order', 'Department', 'Income Level',\n",
       "       'Price Tier'],\n",
       "      dtype='object')),\n",
       "                                                 ('ohe', OneHotEncoder(),\n",
       "                                                  ['Marriage', 'Gender',\n",
       "                                                   'Is Recyclable?',\n",
       "                                                   'Income Level',\n",
       "                                                   'Price Tier']),\n",
       "                                                 ('num', RobustScaler(),\n",
       "                                                  Index(['Grocery Area', 'Meat Area', 'Gross Weight', 'Package Weight',\n",
       "       'Min. Person Yearly Income', 'Family Expenses', 'Store Efficiency'],\n",
       "      dtype='object'))])),\n",
       "                ('extratreesregressor',\n",
       "                 ExtraTreesRegressor(max_depth=16, n_estimators=512, n_jobs=-1,\n",
       "                                     random_state=42))])"
      ]
     },
     "execution_count": 62,
     "metadata": {},
     "output_type": "execute_result"
    }
   ],
   "source": [
    "exmodel = make_pipeline(\n",
    "    preprocessor,\n",
    "    ExtraTreesRegressor(n_estimators=512, max_depth=16, n_jobs=-1, random_state=42)\n",
    ")\n",
    "exmodel.fit(X_train, y_train)"
   ]
  },
  {
   "cell_type": "code",
   "execution_count": 63,
   "id": "58acf9f7",
   "metadata": {},
   "outputs": [
    {
     "data": {
      "text/plain": [
       "24.29475683975747"
      ]
     },
     "execution_count": 63,
     "metadata": {},
     "output_type": "execute_result"
    }
   ],
   "source": [
    "# Check if the model fitted well or not\n",
    "predictions = exmodel.predict(X_train)\n",
    "\n",
    "mse = mean_squared_error(y_train, predictions)\n",
    "rmse = np.sqrt(mse)\n",
    "rmse"
   ]
  },
  {
   "cell_type": "code",
   "execution_count": 64,
   "id": "b49063f0",
   "metadata": {},
   "outputs": [
    {
     "data": {
      "text/plain": [
       "47.47553182701925"
      ]
     },
     "execution_count": 64,
     "metadata": {},
     "output_type": "execute_result"
    }
   ],
   "source": [
    "predictions = exmodel.predict(X_test)\n",
    "\n",
    "mse = mean_squared_error(y_test, predictions)\n",
    "rmse = np.sqrt(mse)\n",
    "rmse"
   ]
  },
  {
   "cell_type": "code",
   "execution_count": 71,
   "id": "9aa22970",
   "metadata": {},
   "outputs": [
    {
     "data": {
      "text/plain": [
       "<AxesSubplot:>"
      ]
     },
     "execution_count": 71,
     "metadata": {},
     "output_type": "execute_result"
    },
    {
     "data": {
      "image/png": "[encoded data removed]",
      "text/plain": [
       "<Figure size 432x288 with 1 Axes>"
      ]
     },
     "metadata": {
      "needs_background": "light"
     },
     "output_type": "display_data"
    }
   ],
   "source": [
    "\n",
    "pd.Series(exmodel.named_steps[\"extratreesregressor\"].feature_importances_,\n",
    "         index=X_train.columns).sort_values().plot(kind=\"barh\")"
   ]
  },
  {
   "cell_type": "code",
   "execution_count": 187,
   "id": "f750b802",
   "metadata": {},
   "outputs": [
    {
     "name": "stdout",
     "output_type": "stream",
     "text": [
      "Step: 1/20, Train: 20.738205946089984, Test 53.749584156167415 FOR 25 estmators\n",
      "Step: 2/20, Train: 19.74949029168199, Test 53.33527254167905 FOR 50 estmators\n",
      "Step: 3/20, Train: 19.49867390333684, Test 53.195560459734494 FOR 75 estmators\n",
      "Step: 4/20, Train: 19.300728045957193, Test 52.913703485838845 FOR 100 estmators\n",
      "Step: 5/20, Train: 19.248918105310146, Test 52.87113557309438 FOR 125 estmators\n"
     ]
    },
    {
     "ename": "KeyboardInterrupt",
     "evalue": "",
     "output_type": "error",
     "traceback": [
      "\u001b[1;31m---------------------------------------------------------------------------\u001b[0m",
      "\u001b[1;31mKeyboardInterrupt\u001b[0m                         Traceback (most recent call last)",
      "Input \u001b[1;32mIn [187]\u001b[0m, in \u001b[0;36m<cell line: 3>\u001b[1;34m()\u001b[0m\n\u001b[0;32m      4\u001b[0m bag \u001b[38;5;241m=\u001b[39m make_pipeline(\n\u001b[0;32m      5\u001b[0m     preprocessor,\n\u001b[0;32m      6\u001b[0m     BaggingRegressor(n_estimators\u001b[38;5;241m=\u001b[39mn, n_jobs\u001b[38;5;241m=\u001b[39m\u001b[38;5;241m-\u001b[39m\u001b[38;5;241m1\u001b[39m, random_state\u001b[38;5;241m=\u001b[39m\u001b[38;5;241m42\u001b[39m)\n\u001b[0;32m      7\u001b[0m )\n\u001b[0;32m      8\u001b[0m bag\u001b[38;5;241m.\u001b[39mfit(X_train, y_train)\n\u001b[1;32m---> 10\u001b[0m predictions \u001b[38;5;241m=\u001b[39m \u001b[43mbag\u001b[49m\u001b[38;5;241;43m.\u001b[39;49m\u001b[43mpredict\u001b[49m\u001b[43m(\u001b[49m\u001b[43mX_train\u001b[49m\u001b[43m)\u001b[49m\n\u001b[0;32m     11\u001b[0m train_rmse \u001b[38;5;241m=\u001b[39m np\u001b[38;5;241m.\u001b[39msqrt(mean_squared_error(y_train, predictions))\n\u001b[0;32m     13\u001b[0m predictions \u001b[38;5;241m=\u001b[39m bag\u001b[38;5;241m.\u001b[39mpredict(X_test)\n",
      "File \u001b[1;32m~\\anaconda3\\lib\\site-packages\\sklearn\\utils\\metaestimators.py:113\u001b[0m, in \u001b[0;36m_AvailableIfDescriptor.__get__.<locals>.<lambda>\u001b[1;34m(*args, **kwargs)\u001b[0m\n\u001b[0;32m    110\u001b[0m         \u001b[38;5;28;01mraise\u001b[39;00m attr_err\n\u001b[0;32m    112\u001b[0m     \u001b[38;5;66;03m# lambda, but not partial, allows help() to work with update_wrapper\u001b[39;00m\n\u001b[1;32m--> 113\u001b[0m     out \u001b[38;5;241m=\u001b[39m \u001b[38;5;28;01mlambda\u001b[39;00m \u001b[38;5;241m*\u001b[39margs, \u001b[38;5;241m*\u001b[39m\u001b[38;5;241m*\u001b[39mkwargs: \u001b[38;5;28mself\u001b[39m\u001b[38;5;241m.\u001b[39mfn(obj, \u001b[38;5;241m*\u001b[39margs, \u001b[38;5;241m*\u001b[39m\u001b[38;5;241m*\u001b[39mkwargs)  \u001b[38;5;66;03m# noqa\u001b[39;00m\n\u001b[0;32m    114\u001b[0m \u001b[38;5;28;01melse\u001b[39;00m:\n\u001b[0;32m    116\u001b[0m     \u001b[38;5;28;01mdef\u001b[39;00m \u001b[38;5;21mfn\u001b[39m(\u001b[38;5;241m*\u001b[39margs, \u001b[38;5;241m*\u001b[39m\u001b[38;5;241m*\u001b[39mkwargs):\n",
      "File \u001b[1;32m~\\anaconda3\\lib\\site-packages\\sklearn\\pipeline.py:470\u001b[0m, in \u001b[0;36mPipeline.predict\u001b[1;34m(self, X, **predict_params)\u001b[0m\n\u001b[0;32m    468\u001b[0m \u001b[38;5;28;01mfor\u001b[39;00m _, name, transform \u001b[38;5;129;01min\u001b[39;00m \u001b[38;5;28mself\u001b[39m\u001b[38;5;241m.\u001b[39m_iter(with_final\u001b[38;5;241m=\u001b[39m\u001b[38;5;28;01mFalse\u001b[39;00m):\n\u001b[0;32m    469\u001b[0m     Xt \u001b[38;5;241m=\u001b[39m transform\u001b[38;5;241m.\u001b[39mtransform(Xt)\n\u001b[1;32m--> 470\u001b[0m \u001b[38;5;28;01mreturn\u001b[39;00m \u001b[38;5;28mself\u001b[39m\u001b[38;5;241m.\u001b[39msteps[\u001b[38;5;241m-\u001b[39m\u001b[38;5;241m1\u001b[39m][\u001b[38;5;241m1\u001b[39m]\u001b[38;5;241m.\u001b[39mpredict(Xt, \u001b[38;5;241m*\u001b[39m\u001b[38;5;241m*\u001b[39mpredict_params)\n",
      "File \u001b[1;32m~\\anaconda3\\lib\\site-packages\\sklearn\\ensemble\\_bagging.py:1129\u001b[0m, in \u001b[0;36mBaggingRegressor.predict\u001b[1;34m(self, X)\u001b[0m\n\u001b[0;32m   1124\u001b[0m \u001b[38;5;66;03m# Parallel loop\u001b[39;00m\n\u001b[0;32m   1125\u001b[0m n_jobs, n_estimators, starts \u001b[38;5;241m=\u001b[39m _partition_estimators(\n\u001b[0;32m   1126\u001b[0m     \u001b[38;5;28mself\u001b[39m\u001b[38;5;241m.\u001b[39mn_estimators, \u001b[38;5;28mself\u001b[39m\u001b[38;5;241m.\u001b[39mn_jobs\n\u001b[0;32m   1127\u001b[0m )\n\u001b[1;32m-> 1129\u001b[0m all_y_hat \u001b[38;5;241m=\u001b[39m \u001b[43mParallel\u001b[49m\u001b[43m(\u001b[49m\u001b[43mn_jobs\u001b[49m\u001b[38;5;241;43m=\u001b[39;49m\u001b[43mn_jobs\u001b[49m\u001b[43m,\u001b[49m\u001b[43m \u001b[49m\u001b[43mverbose\u001b[49m\u001b[38;5;241;43m=\u001b[39;49m\u001b[38;5;28;43mself\u001b[39;49m\u001b[38;5;241;43m.\u001b[39;49m\u001b[43mverbose\u001b[49m\u001b[43m)\u001b[49m\u001b[43m(\u001b[49m\n\u001b[0;32m   1130\u001b[0m \u001b[43m    \u001b[49m\u001b[43mdelayed\u001b[49m\u001b[43m(\u001b[49m\u001b[43m_parallel_predict_regression\u001b[49m\u001b[43m)\u001b[49m\u001b[43m(\u001b[49m\n\u001b[0;32m   1131\u001b[0m \u001b[43m        \u001b[49m\u001b[38;5;28;43mself\u001b[39;49m\u001b[38;5;241;43m.\u001b[39;49m\u001b[43mestimators_\u001b[49m\u001b[43m[\u001b[49m\u001b[43mstarts\u001b[49m\u001b[43m[\u001b[49m\u001b[43mi\u001b[49m\u001b[43m]\u001b[49m\u001b[43m \u001b[49m\u001b[43m:\u001b[49m\u001b[43m \u001b[49m\u001b[43mstarts\u001b[49m\u001b[43m[\u001b[49m\u001b[43mi\u001b[49m\u001b[43m \u001b[49m\u001b[38;5;241;43m+\u001b[39;49m\u001b[43m \u001b[49m\u001b[38;5;241;43m1\u001b[39;49m\u001b[43m]\u001b[49m\u001b[43m]\u001b[49m\u001b[43m,\u001b[49m\n\u001b[0;32m   1132\u001b[0m \u001b[43m        \u001b[49m\u001b[38;5;28;43mself\u001b[39;49m\u001b[38;5;241;43m.\u001b[39;49m\u001b[43mestimators_features_\u001b[49m\u001b[43m[\u001b[49m\u001b[43mstarts\u001b[49m\u001b[43m[\u001b[49m\u001b[43mi\u001b[49m\u001b[43m]\u001b[49m\u001b[43m \u001b[49m\u001b[43m:\u001b[49m\u001b[43m \u001b[49m\u001b[43mstarts\u001b[49m\u001b[43m[\u001b[49m\u001b[43mi\u001b[49m\u001b[43m \u001b[49m\u001b[38;5;241;43m+\u001b[39;49m\u001b[43m \u001b[49m\u001b[38;5;241;43m1\u001b[39;49m\u001b[43m]\u001b[49m\u001b[43m]\u001b[49m\u001b[43m,\u001b[49m\n\u001b[0;32m   1133\u001b[0m \u001b[43m        \u001b[49m\u001b[43mX\u001b[49m\u001b[43m,\u001b[49m\n\u001b[0;32m   1134\u001b[0m \u001b[43m    \u001b[49m\u001b[43m)\u001b[49m\n\u001b[0;32m   1135\u001b[0m \u001b[43m    \u001b[49m\u001b[38;5;28;43;01mfor\u001b[39;49;00m\u001b[43m \u001b[49m\u001b[43mi\u001b[49m\u001b[43m \u001b[49m\u001b[38;5;129;43;01min\u001b[39;49;00m\u001b[43m \u001b[49m\u001b[38;5;28;43mrange\u001b[39;49m\u001b[43m(\u001b[49m\u001b[43mn_jobs\u001b[49m\u001b[43m)\u001b[49m\n\u001b[0;32m   1136\u001b[0m \u001b[43m\u001b[49m\u001b[43m)\u001b[49m\n\u001b[0;32m   1138\u001b[0m \u001b[38;5;66;03m# Reduce\u001b[39;00m\n\u001b[0;32m   1139\u001b[0m y_hat \u001b[38;5;241m=\u001b[39m \u001b[38;5;28msum\u001b[39m(all_y_hat) \u001b[38;5;241m/\u001b[39m \u001b[38;5;28mself\u001b[39m\u001b[38;5;241m.\u001b[39mn_estimators\n",
      "File \u001b[1;32m~\\anaconda3\\lib\\site-packages\\joblib\\parallel.py:1056\u001b[0m, in \u001b[0;36mParallel.__call__\u001b[1;34m(self, iterable)\u001b[0m\n\u001b[0;32m   1053\u001b[0m     \u001b[38;5;28mself\u001b[39m\u001b[38;5;241m.\u001b[39m_iterating \u001b[38;5;241m=\u001b[39m \u001b[38;5;28;01mFalse\u001b[39;00m\n\u001b[0;32m   1055\u001b[0m \u001b[38;5;28;01mwith\u001b[39;00m \u001b[38;5;28mself\u001b[39m\u001b[38;5;241m.\u001b[39m_backend\u001b[38;5;241m.\u001b[39mretrieval_context():\n\u001b[1;32m-> 1056\u001b[0m     \u001b[38;5;28;43mself\u001b[39;49m\u001b[38;5;241;43m.\u001b[39;49m\u001b[43mretrieve\u001b[49m\u001b[43m(\u001b[49m\u001b[43m)\u001b[49m\n\u001b[0;32m   1057\u001b[0m \u001b[38;5;66;03m# Make sure that we get a last message telling us we are done\u001b[39;00m\n\u001b[0;32m   1058\u001b[0m elapsed_time \u001b[38;5;241m=\u001b[39m time\u001b[38;5;241m.\u001b[39mtime() \u001b[38;5;241m-\u001b[39m \u001b[38;5;28mself\u001b[39m\u001b[38;5;241m.\u001b[39m_start_time\n",
      "File \u001b[1;32m~\\anaconda3\\lib\\site-packages\\joblib\\parallel.py:935\u001b[0m, in \u001b[0;36mParallel.retrieve\u001b[1;34m(self)\u001b[0m\n\u001b[0;32m    933\u001b[0m \u001b[38;5;28;01mtry\u001b[39;00m:\n\u001b[0;32m    934\u001b[0m     \u001b[38;5;28;01mif\u001b[39;00m \u001b[38;5;28mgetattr\u001b[39m(\u001b[38;5;28mself\u001b[39m\u001b[38;5;241m.\u001b[39m_backend, \u001b[38;5;124m'\u001b[39m\u001b[38;5;124msupports_timeout\u001b[39m\u001b[38;5;124m'\u001b[39m, \u001b[38;5;28;01mFalse\u001b[39;00m):\n\u001b[1;32m--> 935\u001b[0m         \u001b[38;5;28mself\u001b[39m\u001b[38;5;241m.\u001b[39m_output\u001b[38;5;241m.\u001b[39mextend(\u001b[43mjob\u001b[49m\u001b[38;5;241;43m.\u001b[39;49m\u001b[43mget\u001b[49m\u001b[43m(\u001b[49m\u001b[43mtimeout\u001b[49m\u001b[38;5;241;43m=\u001b[39;49m\u001b[38;5;28;43mself\u001b[39;49m\u001b[38;5;241;43m.\u001b[39;49m\u001b[43mtimeout\u001b[49m\u001b[43m)\u001b[49m)\n\u001b[0;32m    936\u001b[0m     \u001b[38;5;28;01melse\u001b[39;00m:\n\u001b[0;32m    937\u001b[0m         \u001b[38;5;28mself\u001b[39m\u001b[38;5;241m.\u001b[39m_output\u001b[38;5;241m.\u001b[39mextend(job\u001b[38;5;241m.\u001b[39mget())\n",
      "File \u001b[1;32m~\\anaconda3\\lib\\site-packages\\joblib\\_parallel_backends.py:542\u001b[0m, in \u001b[0;36mLokyBackend.wrap_future_result\u001b[1;34m(future, timeout)\u001b[0m\n\u001b[0;32m    539\u001b[0m \u001b[38;5;124;03m\"\"\"Wrapper for Future.result to implement the same behaviour as\u001b[39;00m\n\u001b[0;32m    540\u001b[0m \u001b[38;5;124;03mAsyncResults.get from multiprocessing.\"\"\"\u001b[39;00m\n\u001b[0;32m    541\u001b[0m \u001b[38;5;28;01mtry\u001b[39;00m:\n\u001b[1;32m--> 542\u001b[0m     \u001b[38;5;28;01mreturn\u001b[39;00m \u001b[43mfuture\u001b[49m\u001b[38;5;241;43m.\u001b[39;49m\u001b[43mresult\u001b[49m\u001b[43m(\u001b[49m\u001b[43mtimeout\u001b[49m\u001b[38;5;241;43m=\u001b[39;49m\u001b[43mtimeout\u001b[49m\u001b[43m)\u001b[49m\n\u001b[0;32m    543\u001b[0m \u001b[38;5;28;01mexcept\u001b[39;00m CfTimeoutError \u001b[38;5;28;01mas\u001b[39;00m e:\n\u001b[0;32m    544\u001b[0m     \u001b[38;5;28;01mraise\u001b[39;00m \u001b[38;5;167;01mTimeoutError\u001b[39;00m \u001b[38;5;28;01mfrom\u001b[39;00m \u001b[38;5;21;01me\u001b[39;00m\n",
      "File \u001b[1;32m~\\anaconda3\\lib\\concurrent\\futures\\_base.py:441\u001b[0m, in \u001b[0;36mFuture.result\u001b[1;34m(self, timeout)\u001b[0m\n\u001b[0;32m    438\u001b[0m \u001b[38;5;28;01melif\u001b[39;00m \u001b[38;5;28mself\u001b[39m\u001b[38;5;241m.\u001b[39m_state \u001b[38;5;241m==\u001b[39m FINISHED:\n\u001b[0;32m    439\u001b[0m     \u001b[38;5;28;01mreturn\u001b[39;00m \u001b[38;5;28mself\u001b[39m\u001b[38;5;241m.\u001b[39m__get_result()\n\u001b[1;32m--> 441\u001b[0m \u001b[38;5;28;43mself\u001b[39;49m\u001b[38;5;241;43m.\u001b[39;49m\u001b[43m_condition\u001b[49m\u001b[38;5;241;43m.\u001b[39;49m\u001b[43mwait\u001b[49m\u001b[43m(\u001b[49m\u001b[43mtimeout\u001b[49m\u001b[43m)\u001b[49m\n\u001b[0;32m    443\u001b[0m \u001b[38;5;28;01mif\u001b[39;00m \u001b[38;5;28mself\u001b[39m\u001b[38;5;241m.\u001b[39m_state \u001b[38;5;129;01min\u001b[39;00m [CANCELLED, CANCELLED_AND_NOTIFIED]:\n\u001b[0;32m    444\u001b[0m     \u001b[38;5;28;01mraise\u001b[39;00m CancelledError()\n",
      "File \u001b[1;32m~\\anaconda3\\lib\\threading.py:312\u001b[0m, in \u001b[0;36mCondition.wait\u001b[1;34m(self, timeout)\u001b[0m\n\u001b[0;32m    310\u001b[0m \u001b[38;5;28;01mtry\u001b[39;00m:    \u001b[38;5;66;03m# restore state no matter what (e.g., KeyboardInterrupt)\u001b[39;00m\n\u001b[0;32m    311\u001b[0m     \u001b[38;5;28;01mif\u001b[39;00m timeout \u001b[38;5;129;01mis\u001b[39;00m \u001b[38;5;28;01mNone\u001b[39;00m:\n\u001b[1;32m--> 312\u001b[0m         \u001b[43mwaiter\u001b[49m\u001b[38;5;241;43m.\u001b[39;49m\u001b[43macquire\u001b[49m\u001b[43m(\u001b[49m\u001b[43m)\u001b[49m\n\u001b[0;32m    313\u001b[0m         gotit \u001b[38;5;241m=\u001b[39m \u001b[38;5;28;01mTrue\u001b[39;00m\n\u001b[0;32m    314\u001b[0m     \u001b[38;5;28;01melse\u001b[39;00m:\n",
      "\u001b[1;31mKeyboardInterrupt\u001b[0m: "
     ]
    }
   ],
   "source": [
    "# iterate over 25 to 500 step 25 on number of estimators for model\n",
    "i=1\n",
    "for n in range(25, 501, 25):\n",
    "    bag = make_pipeline(\n",
    "        preprocessor,\n",
    "        BaggingRegressor(n_estimators=n, n_jobs=-1, random_state=42)\n",
    "    )\n",
    "    bag.fit(X_train, y_train)\n",
    "    \n",
    "    predictions = bag.predict(X_train)\n",
    "    train_rmse = np.sqrt(mean_squared_error(y_train, predictions))\n",
    "    \n",
    "    predictions = bag.predict(X_test)\n",
    "    test_rmse = np.sqrt(mean_squared_error(y_test, predictions))\n",
    "    \n",
    "    print(f\"Step: {i}/{500//25}, Train: {train_rmse}, Test {test_rmse} FOR {n} estmators\")\n",
    "    i+=1"
   ]
  },
  {
   "cell_type": "code",
   "execution_count": 46,
   "id": "7cb7bcf4",
   "metadata": {},
   "outputs": [
    {
     "data": {
      "text/plain": [
       "19.196096765531266"
      ]
     },
     "execution_count": 46,
     "metadata": {},
     "output_type": "execute_result"
    }
   ],
   "source": [
    "# Check if the model fitted well or not\n",
    "predictions = bag.predict(X_train)\n",
    "\n",
    "mse = mean_squared_error(y_train, predictions)\n",
    "rmse = np.sqrt(mse)\n",
    "rmse"
   ]
  },
  {
   "cell_type": "code",
   "execution_count": 47,
   "id": "ea7c5284",
   "metadata": {},
   "outputs": [
    {
     "data": {
      "text/plain": [
       "51.385483385146834"
      ]
     },
     "execution_count": 47,
     "metadata": {},
     "output_type": "execute_result"
    }
   ],
   "source": [
    "# Check if the model fitted well or not\n",
    "predictions = bag.predict(X_test)\n",
    "\n",
    "mse = mean_squared_error(y_test, predictions)\n",
    "rmse = np.sqrt(mse)\n",
    "rmse"
   ]
  },
  {
   "cell_type": "code",
   "execution_count": 95,
   "id": "7e294cf6",
   "metadata": {},
   "outputs": [
    {
     "data": {
      "application/vnd.jupyter.widget-view+json": {
       "model_id": "46c3049b5d514e2f824b5a987d491480",
       "version_major": 2,
       "version_minor": 0
      },
      "text/plain": [
       "MetricVisualizer(layout=Layout(align_self='stretch', height='500px'))"
      ]
     },
     "metadata": {},
     "output_type": "display_data"
    },
    {
     "name": "stdout",
     "output_type": "stream",
     "text": [
      "Learning rate set to 0.126783\n",
      "0:\tlearn: 143.7638921\ttest: 144.6641599\tbest: 144.6641599 (0)\ttotal: 209ms\tremaining: 1m 44s\n",
      "1:\tlearn: 132.2142296\ttest: 132.8335514\tbest: 132.8335514 (1)\ttotal: 276ms\tremaining: 1m 8s\n",
      "2:\tlearn: 123.4039245\ttest: 123.5488701\tbest: 123.5488701 (2)\ttotal: 321ms\tremaining: 53.1s\n",
      "3:\tlearn: 115.3010985\ttest: 115.1629405\tbest: 115.1629405 (3)\ttotal: 371ms\tremaining: 46s\n",
      "4:\tlearn: 108.8596798\ttest: 108.4549824\tbest: 108.4549824 (4)\ttotal: 435ms\tremaining: 43.1s\n",
      "5:\tlearn: 102.8360585\ttest: 102.1193144\tbest: 102.1193144 (5)\ttotal: 490ms\tremaining: 40.4s\n",
      "6:\tlearn: 97.7802599\ttest: 96.8296328\tbest: 96.8296328 (6)\ttotal: 542ms\tremaining: 38.2s\n",
      "7:\tlearn: 93.4167377\ttest: 92.2745212\tbest: 92.2745212 (7)\ttotal: 589ms\tremaining: 36.3s\n",
      "8:\tlearn: 90.0461759\ttest: 88.7138744\tbest: 88.7138744 (8)\ttotal: 635ms\tremaining: 34.7s\n",
      "9:\tlearn: 87.3700757\ttest: 85.8790396\tbest: 85.8790396 (9)\ttotal: 687ms\tremaining: 33.7s\n",
      "10:\tlearn: 84.2957522\ttest: 82.5645578\tbest: 82.5645578 (10)\ttotal: 740ms\tremaining: 32.9s\n",
      "11:\tlearn: 82.2223667\ttest: 80.3650170\tbest: 80.3650170 (11)\ttotal: 778ms\tremaining: 31.6s\n",
      "12:\tlearn: 80.6248610\ttest: 78.7178578\tbest: 78.7178578 (12)\ttotal: 828ms\tremaining: 31s\n",
      "13:\tlearn: 79.4191772\ttest: 77.4068944\tbest: 77.4068944 (13)\ttotal: 875ms\tremaining: 30.4s\n",
      "14:\tlearn: 77.9277632\ttest: 75.8440990\tbest: 75.8440990 (14)\ttotal: 928ms\tremaining: 30s\n",
      "15:\tlearn: 76.7905258\ttest: 74.6326662\tbest: 74.6326662 (15)\ttotal: 981ms\tremaining: 29.7s\n",
      "16:\tlearn: 75.5981708\ttest: 73.4161861\tbest: 73.4161861 (16)\ttotal: 1.03s\tremaining: 29.3s\n",
      "17:\tlearn: 74.7676653\ttest: 72.5770784\tbest: 72.5770784 (17)\ttotal: 1.08s\tremaining: 29s\n",
      "18:\tlearn: 74.0226604\ttest: 71.7143089\tbest: 71.7143089 (18)\ttotal: 1.13s\tremaining: 28.7s\n",
      "19:\tlearn: 73.1326736\ttest: 70.7995062\tbest: 70.7995062 (19)\ttotal: 1.18s\tremaining: 28.4s\n",
      "20:\tlearn: 72.5083046\ttest: 70.3695621\tbest: 70.3695621 (20)\ttotal: 1.22s\tremaining: 27.9s\n",
      "21:\tlearn: 71.8374425\ttest: 69.6593299\tbest: 69.6593299 (21)\ttotal: 1.27s\tremaining: 27.7s\n",
      "22:\tlearn: 71.0015212\ttest: 68.7673639\tbest: 68.7673639 (22)\ttotal: 1.32s\tremaining: 27.5s\n",
      "23:\tlearn: 70.5485457\ttest: 68.3000528\tbest: 68.3000528 (23)\ttotal: 1.38s\tremaining: 27.4s\n",
      "24:\tlearn: 69.9857855\ttest: 67.7227188\tbest: 67.7227188 (24)\ttotal: 1.44s\tremaining: 27.3s\n",
      "25:\tlearn: 69.6637709\ttest: 67.4105347\tbest: 67.4105347 (25)\ttotal: 1.5s\tremaining: 27.3s\n",
      "26:\tlearn: 69.1665629\ttest: 66.9095230\tbest: 66.9095230 (26)\ttotal: 1.55s\tremaining: 27.1s\n",
      "27:\tlearn: 68.4279617\ttest: 66.1172290\tbest: 66.1172290 (27)\ttotal: 1.6s\tremaining: 27s\n",
      "28:\tlearn: 67.8167395\ttest: 65.4899961\tbest: 65.4899961 (28)\ttotal: 1.66s\tremaining: 26.9s\n",
      "29:\tlearn: 67.2142698\ttest: 64.8321800\tbest: 64.8321800 (29)\ttotal: 1.71s\tremaining: 26.7s\n",
      "30:\tlearn: 67.0086032\ttest: 64.6302078\tbest: 64.6302078 (30)\ttotal: 1.75s\tremaining: 26.4s\n",
      "31:\tlearn: 66.5477099\ttest: 64.1997342\tbest: 64.1997342 (31)\ttotal: 1.79s\tremaining: 26.2s\n",
      "32:\tlearn: 66.1375821\ttest: 63.7428714\tbest: 63.7428714 (32)\ttotal: 1.85s\tremaining: 26.2s\n",
      "33:\tlearn: 65.5225922\ttest: 63.1007585\tbest: 63.1007585 (33)\ttotal: 1.9s\tremaining: 26.1s\n",
      "34:\tlearn: 65.0902303\ttest: 62.6518399\tbest: 62.6518399 (34)\ttotal: 1.95s\tremaining: 26s\n",
      "35:\tlearn: 64.7371999\ttest: 62.2579919\tbest: 62.2579919 (35)\ttotal: 2s\tremaining: 25.8s\n",
      "36:\tlearn: 64.3047687\ttest: 61.8123962\tbest: 61.8123962 (36)\ttotal: 2.05s\tremaining: 25.6s\n",
      "37:\tlearn: 64.0243922\ttest: 61.4512150\tbest: 61.4512150 (37)\ttotal: 2.11s\tremaining: 25.6s\n",
      "38:\tlearn: 63.8062493\ttest: 61.2155376\tbest: 61.2155376 (38)\ttotal: 2.15s\tremaining: 25.5s\n",
      "39:\tlearn: 63.5321448\ttest: 60.8814885\tbest: 60.8814885 (39)\ttotal: 2.2s\tremaining: 25.3s\n",
      "40:\tlearn: 63.4639074\ttest: 60.8125813\tbest: 60.8125813 (40)\ttotal: 2.25s\tremaining: 25.3s\n",
      "41:\tlearn: 63.4015881\ttest: 60.7527499\tbest: 60.7527499 (41)\ttotal: 2.31s\tremaining: 25.1s\n",
      "42:\tlearn: 63.1687947\ttest: 60.4596864\tbest: 60.4596864 (42)\ttotal: 2.38s\tremaining: 25.3s\n",
      "43:\tlearn: 62.8645816\ttest: 60.1494983\tbest: 60.1494983 (43)\ttotal: 2.44s\tremaining: 25.3s\n",
      "44:\tlearn: 62.6071486\ttest: 59.8782007\tbest: 59.8782007 (44)\ttotal: 2.5s\tremaining: 25.3s\n",
      "45:\tlearn: 62.4757463\ttest: 59.7514601\tbest: 59.7514601 (45)\ttotal: 2.55s\tremaining: 25.2s\n",
      "46:\tlearn: 62.4177277\ttest: 59.6887829\tbest: 59.6887829 (46)\ttotal: 2.61s\tremaining: 25.2s\n",
      "47:\tlearn: 62.2265939\ttest: 59.4698297\tbest: 59.4698297 (47)\ttotal: 2.67s\tremaining: 25.1s\n",
      "48:\tlearn: 62.0255325\ttest: 59.2383581\tbest: 59.2383581 (48)\ttotal: 2.72s\tremaining: 25s\n",
      "49:\tlearn: 61.6470985\ttest: 58.8728317\tbest: 58.8728317 (49)\ttotal: 2.77s\tremaining: 24.9s\n",
      "50:\tlearn: 61.6388569\ttest: 58.8628050\tbest: 58.8628050 (50)\ttotal: 2.81s\tremaining: 24.8s\n",
      "51:\tlearn: 61.6180546\ttest: 58.8626923\tbest: 58.8626923 (51)\ttotal: 2.86s\tremaining: 24.6s\n",
      "52:\tlearn: 61.4826337\ttest: 58.7059188\tbest: 58.7059188 (52)\ttotal: 2.91s\tremaining: 24.5s\n",
      "53:\tlearn: 61.3356429\ttest: 58.5339874\tbest: 58.5339874 (53)\ttotal: 2.96s\tremaining: 24.4s\n",
      "54:\tlearn: 61.1115180\ttest: 58.2953342\tbest: 58.2953342 (54)\ttotal: 3.01s\tremaining: 24.4s\n",
      "55:\tlearn: 61.0778831\ttest: 58.2650871\tbest: 58.2650871 (55)\ttotal: 3.06s\tremaining: 24.3s\n",
      "56:\tlearn: 60.9810761\ttest: 58.1634652\tbest: 58.1634652 (56)\ttotal: 3.11s\tremaining: 24.1s\n",
      "57:\tlearn: 60.9150394\ttest: 58.0608221\tbest: 58.0608221 (57)\ttotal: 3.16s\tremaining: 24.1s\n",
      "58:\tlearn: 60.7513096\ttest: 57.8858851\tbest: 57.8858851 (58)\ttotal: 3.2s\tremaining: 23.9s\n",
      "59:\tlearn: 60.7175061\ttest: 57.8575774\tbest: 57.8575774 (59)\ttotal: 3.25s\tremaining: 23.8s\n",
      "60:\tlearn: 60.7102315\ttest: 57.8574589\tbest: 57.8574589 (60)\ttotal: 3.28s\tremaining: 23.6s\n",
      "61:\tlearn: 60.5121199\ttest: 57.6539868\tbest: 57.6539868 (61)\ttotal: 3.35s\tremaining: 23.7s\n",
      "62:\tlearn: 60.4878423\ttest: 57.6235078\tbest: 57.6235078 (62)\ttotal: 3.4s\tremaining: 23.6s\n",
      "63:\tlearn: 60.3432680\ttest: 57.4824257\tbest: 57.4824257 (63)\ttotal: 3.45s\tremaining: 23.5s\n",
      "64:\tlearn: 60.1639689\ttest: 57.2941974\tbest: 57.2941974 (64)\ttotal: 3.5s\tremaining: 23.5s\n",
      "65:\tlearn: 60.1568682\ttest: 57.2937443\tbest: 57.2937443 (65)\ttotal: 3.55s\tremaining: 23.3s\n",
      "66:\tlearn: 60.1207328\ttest: 57.2497552\tbest: 57.2497552 (66)\ttotal: 3.61s\tremaining: 23.3s\n",
      "67:\tlearn: 60.0308924\ttest: 57.1613918\tbest: 57.1613918 (67)\ttotal: 3.66s\tremaining: 23.2s\n",
      "68:\tlearn: 60.0092563\ttest: 57.1491085\tbest: 57.1491085 (68)\ttotal: 3.7s\tremaining: 23.1s\n",
      "69:\tlearn: 59.8273316\ttest: 56.9743040\tbest: 56.9743040 (69)\ttotal: 3.75s\tremaining: 23s\n",
      "70:\tlearn: 59.8204242\ttest: 56.9754846\tbest: 56.9743040 (69)\ttotal: 3.79s\tremaining: 22.9s\n",
      "71:\tlearn: 59.7151508\ttest: 56.8348515\tbest: 56.8348515 (71)\ttotal: 3.85s\tremaining: 22.9s\n",
      "72:\tlearn: 59.5497821\ttest: 56.6668383\tbest: 56.6668383 (72)\ttotal: 3.9s\tremaining: 22.8s\n",
      "73:\tlearn: 59.5355238\ttest: 56.6664599\tbest: 56.6664599 (73)\ttotal: 3.95s\tremaining: 22.7s\n",
      "74:\tlearn: 59.5270565\ttest: 56.6660894\tbest: 56.6660894 (74)\ttotal: 3.99s\tremaining: 22.6s\n",
      "75:\tlearn: 59.5133174\ttest: 56.6669890\tbest: 56.6660894 (74)\ttotal: 4.04s\tremaining: 22.5s\n",
      "76:\tlearn: 59.5037540\ttest: 56.6669960\tbest: 56.6660894 (74)\ttotal: 4.1s\tremaining: 22.5s\n",
      "77:\tlearn: 59.5025119\ttest: 56.6653831\tbest: 56.6653831 (77)\ttotal: 4.14s\tremaining: 22.4s\n",
      "78:\tlearn: 59.4410856\ttest: 56.6199516\tbest: 56.6199516 (78)\ttotal: 4.19s\tremaining: 22.3s\n",
      "79:\tlearn: 59.4173731\ttest: 56.6223539\tbest: 56.6199516 (78)\ttotal: 4.24s\tremaining: 22.2s\n",
      "80:\tlearn: 59.3703662\ttest: 56.5831746\tbest: 56.5831746 (80)\ttotal: 4.29s\tremaining: 22.2s\n",
      "81:\tlearn: 59.3307035\ttest: 56.5261311\tbest: 56.5261311 (81)\ttotal: 4.34s\tremaining: 22.1s\n",
      "82:\tlearn: 59.3276260\ttest: 56.5260580\tbest: 56.5260580 (82)\ttotal: 4.38s\tremaining: 22s\n",
      "83:\tlearn: 59.1965285\ttest: 56.3763544\tbest: 56.3763544 (83)\ttotal: 4.44s\tremaining: 22s\n",
      "84:\tlearn: 59.1869858\ttest: 56.3771449\tbest: 56.3763544 (83)\ttotal: 4.49s\tremaining: 21.9s\n",
      "85:\tlearn: 59.0976261\ttest: 56.3258995\tbest: 56.3258995 (85)\ttotal: 4.54s\tremaining: 21.9s\n",
      "86:\tlearn: 59.0467477\ttest: 56.2896709\tbest: 56.2896709 (86)\ttotal: 4.6s\tremaining: 21.8s\n",
      "87:\tlearn: 58.8822021\ttest: 56.1505295\tbest: 56.1505295 (87)\ttotal: 4.65s\tremaining: 21.8s\n",
      "88:\tlearn: 58.7644254\ttest: 56.0365302\tbest: 56.0365302 (88)\ttotal: 4.7s\tremaining: 21.7s\n",
      "89:\tlearn: 58.7545741\ttest: 56.0351837\tbest: 56.0351837 (89)\ttotal: 4.75s\tremaining: 21.6s\n",
      "90:\tlearn: 58.7459278\ttest: 56.0328494\tbest: 56.0328494 (90)\ttotal: 4.79s\tremaining: 21.5s\n"
     ]
    },
    {
     "name": "stdout",
     "output_type": "stream",
     "text": [
      "91:\tlearn: 58.6968431\ttest: 55.9995960\tbest: 55.9995960 (91)\ttotal: 4.85s\tremaining: 21.5s\n",
      "92:\tlearn: 58.6880884\ttest: 55.9964644\tbest: 55.9964644 (92)\ttotal: 4.89s\tremaining: 21.4s\n",
      "93:\tlearn: 58.6703894\ttest: 55.9973731\tbest: 55.9964644 (92)\ttotal: 4.94s\tremaining: 21.3s\n",
      "94:\tlearn: 58.6472075\ttest: 55.9654113\tbest: 55.9654113 (94)\ttotal: 5s\tremaining: 21.3s\n",
      "95:\tlearn: 58.6046570\ttest: 55.9231748\tbest: 55.9231748 (95)\ttotal: 5.04s\tremaining: 21.2s\n",
      "96:\tlearn: 58.5642467\ttest: 55.8911839\tbest: 55.8911839 (96)\ttotal: 5.09s\tremaining: 21.2s\n",
      "97:\tlearn: 58.4981314\ttest: 55.8343740\tbest: 55.8343740 (97)\ttotal: 5.14s\tremaining: 21.1s\n",
      "98:\tlearn: 58.4083604\ttest: 55.7473594\tbest: 55.7473594 (98)\ttotal: 5.19s\tremaining: 21s\n",
      "99:\tlearn: 58.3657152\ttest: 55.7160126\tbest: 55.7160126 (99)\ttotal: 5.23s\tremaining: 20.9s\n",
      "100:\tlearn: 58.2100465\ttest: 55.5703597\tbest: 55.5703597 (100)\ttotal: 5.29s\tremaining: 20.9s\n",
      "101:\tlearn: 58.2032873\ttest: 55.5729489\tbest: 55.5703597 (100)\ttotal: 5.34s\tremaining: 20.8s\n",
      "102:\tlearn: 58.1617524\ttest: 55.5540357\tbest: 55.5540357 (102)\ttotal: 5.39s\tremaining: 20.8s\n",
      "103:\tlearn: 58.1594064\ttest: 55.5540448\tbest: 55.5540357 (102)\ttotal: 5.45s\tremaining: 20.7s\n",
      "104:\tlearn: 58.1433930\ttest: 55.5485788\tbest: 55.5485788 (104)\ttotal: 5.5s\tremaining: 20.7s\n",
      "105:\tlearn: 58.1363580\ttest: 55.5487250\tbest: 55.5485788 (104)\ttotal: 5.54s\tremaining: 20.6s\n",
      "106:\tlearn: 58.1078835\ttest: 55.5412758\tbest: 55.5412758 (106)\ttotal: 5.6s\tremaining: 20.6s\n",
      "107:\tlearn: 58.0538547\ttest: 55.5040322\tbest: 55.5040322 (107)\ttotal: 5.66s\tremaining: 20.6s\n",
      "108:\tlearn: 58.0384841\ttest: 55.5028006\tbest: 55.5028006 (108)\ttotal: 5.72s\tremaining: 20.5s\n",
      "109:\tlearn: 57.9699912\ttest: 55.4389728\tbest: 55.4389728 (109)\ttotal: 5.78s\tremaining: 20.5s\n",
      "110:\tlearn: 57.9620003\ttest: 55.4388043\tbest: 55.4388043 (110)\ttotal: 5.83s\tremaining: 20.4s\n",
      "111:\tlearn: 57.9616569\ttest: 55.4387942\tbest: 55.4387942 (111)\ttotal: 5.87s\tremaining: 20.3s\n",
      "112:\tlearn: 57.9087782\ttest: 55.3618903\tbest: 55.3618903 (112)\ttotal: 5.92s\tremaining: 20.3s\n",
      "113:\tlearn: 57.7121517\ttest: 55.2340944\tbest: 55.2340944 (113)\ttotal: 5.97s\tremaining: 20.2s\n",
      "114:\tlearn: 57.6596108\ttest: 55.1871108\tbest: 55.1871108 (114)\ttotal: 6.02s\tremaining: 20.2s\n",
      "115:\tlearn: 57.6067187\ttest: 55.1907348\tbest: 55.1871108 (114)\ttotal: 6.08s\tremaining: 20.1s\n",
      "116:\tlearn: 57.5997497\ttest: 55.1872097\tbest: 55.1871108 (114)\ttotal: 6.13s\tremaining: 20.1s\n",
      "117:\tlearn: 57.5968878\ttest: 55.1864078\tbest: 55.1864078 (117)\ttotal: 6.19s\tremaining: 20s\n",
      "118:\tlearn: 57.5852880\ttest: 55.1854482\tbest: 55.1854482 (118)\ttotal: 6.24s\tremaining: 20s\n",
      "119:\tlearn: 57.5441357\ttest: 55.1619650\tbest: 55.1619650 (119)\ttotal: 6.3s\tremaining: 20s\n",
      "120:\tlearn: 57.5313729\ttest: 55.1642147\tbest: 55.1619650 (119)\ttotal: 6.34s\tremaining: 19.9s\n",
      "121:\tlearn: 57.4861737\ttest: 55.1715747\tbest: 55.1619650 (119)\ttotal: 6.4s\tremaining: 19.8s\n",
      "122:\tlearn: 57.4119800\ttest: 55.0829281\tbest: 55.0829281 (122)\ttotal: 6.45s\tremaining: 19.8s\n",
      "123:\tlearn: 57.3802235\ttest: 55.0820709\tbest: 55.0820709 (123)\ttotal: 6.5s\tremaining: 19.7s\n",
      "124:\tlearn: 57.3638327\ttest: 55.0813357\tbest: 55.0813357 (124)\ttotal: 6.55s\tremaining: 19.7s\n",
      "125:\tlearn: 57.3207601\ttest: 55.0834040\tbest: 55.0813357 (124)\ttotal: 6.6s\tremaining: 19.6s\n",
      "126:\tlearn: 57.3059624\ttest: 55.0829063\tbest: 55.0813357 (124)\ttotal: 6.65s\tremaining: 19.5s\n",
      "127:\tlearn: 57.2932879\ttest: 55.0833975\tbest: 55.0813357 (124)\ttotal: 6.69s\tremaining: 19.5s\n",
      "128:\tlearn: 57.2061916\ttest: 55.0160457\tbest: 55.0160457 (128)\ttotal: 6.75s\tremaining: 19.4s\n",
      "129:\tlearn: 57.1894727\ttest: 55.0133153\tbest: 55.0133153 (129)\ttotal: 6.79s\tremaining: 19.3s\n",
      "130:\tlearn: 57.1814955\ttest: 55.0052680\tbest: 55.0052680 (130)\ttotal: 6.84s\tremaining: 19.3s\n",
      "131:\tlearn: 57.0812633\ttest: 54.8902286\tbest: 54.8902286 (131)\ttotal: 6.89s\tremaining: 19.2s\n",
      "132:\tlearn: 57.0639580\ttest: 54.8894388\tbest: 54.8894388 (132)\ttotal: 6.94s\tremaining: 19.2s\n",
      "133:\tlearn: 57.0232997\ttest: 54.8741468\tbest: 54.8741468 (133)\ttotal: 7s\tremaining: 19.1s\n",
      "134:\tlearn: 56.9917023\ttest: 54.8531194\tbest: 54.8531194 (134)\ttotal: 7.05s\tremaining: 19.1s\n",
      "135:\tlearn: 56.9413188\ttest: 54.8231113\tbest: 54.8231113 (135)\ttotal: 7.1s\tremaining: 19s\n",
      "136:\tlearn: 56.8135200\ttest: 54.7123960\tbest: 54.7123960 (136)\ttotal: 7.15s\tremaining: 18.9s\n",
      "137:\tlearn: 56.7428398\ttest: 54.6456896\tbest: 54.6456896 (137)\ttotal: 7.2s\tremaining: 18.9s\n",
      "138:\tlearn: 56.7414521\ttest: 54.6456421\tbest: 54.6456421 (138)\ttotal: 7.25s\tremaining: 18.8s\n",
      "139:\tlearn: 56.7175763\ttest: 54.6464664\tbest: 54.6456421 (138)\ttotal: 7.31s\tremaining: 18.8s\n",
      "140:\tlearn: 56.7162071\ttest: 54.6467409\tbest: 54.6456421 (138)\ttotal: 7.35s\tremaining: 18.7s\n",
      "141:\tlearn: 56.6388499\ttest: 54.5658299\tbest: 54.5658299 (141)\ttotal: 7.4s\tremaining: 18.7s\n",
      "142:\tlearn: 56.6126497\ttest: 54.5445806\tbest: 54.5445806 (142)\ttotal: 7.47s\tremaining: 18.7s\n",
      "143:\tlearn: 56.5568277\ttest: 54.5460460\tbest: 54.5445806 (142)\ttotal: 7.52s\tremaining: 18.6s\n",
      "144:\tlearn: 56.5196755\ttest: 54.5019343\tbest: 54.5019343 (144)\ttotal: 7.58s\tremaining: 18.6s\n",
      "145:\tlearn: 56.4572245\ttest: 54.4362637\tbest: 54.4362637 (145)\ttotal: 7.63s\tremaining: 18.5s\n",
      "146:\tlearn: 56.4556320\ttest: 54.4360917\tbest: 54.4360917 (146)\ttotal: 7.67s\tremaining: 18.4s\n",
      "147:\tlearn: 56.4321174\ttest: 54.4344639\tbest: 54.4344639 (147)\ttotal: 7.71s\tremaining: 18.4s\n",
      "148:\tlearn: 56.3411415\ttest: 54.3358287\tbest: 54.3358287 (148)\ttotal: 7.76s\tremaining: 18.3s\n",
      "149:\tlearn: 56.3391130\ttest: 54.3360255\tbest: 54.3358287 (148)\ttotal: 7.81s\tremaining: 18.2s\n",
      "150:\tlearn: 56.2756482\ttest: 54.2930179\tbest: 54.2930179 (150)\ttotal: 7.86s\tremaining: 18.2s\n",
      "151:\tlearn: 56.2266828\ttest: 54.2450301\tbest: 54.2450301 (151)\ttotal: 7.92s\tremaining: 18.1s\n",
      "152:\tlearn: 56.1429955\ttest: 54.1826878\tbest: 54.1826878 (152)\ttotal: 7.96s\tremaining: 18.1s\n",
      "153:\tlearn: 56.0850409\ttest: 54.1381095\tbest: 54.1381095 (153)\ttotal: 8.02s\tremaining: 18s\n",
      "154:\tlearn: 56.0649578\ttest: 54.1393355\tbest: 54.1381095 (153)\ttotal: 8.07s\tremaining: 18s\n",
      "155:\tlearn: 56.0041176\ttest: 54.1259830\tbest: 54.1259830 (155)\ttotal: 8.12s\tremaining: 17.9s\n",
      "156:\tlearn: 55.9435318\ttest: 54.0822930\tbest: 54.0822930 (156)\ttotal: 8.17s\tremaining: 17.9s\n",
      "157:\tlearn: 55.9294802\ttest: 54.0691634\tbest: 54.0691634 (157)\ttotal: 8.22s\tremaining: 17.8s\n",
      "158:\tlearn: 55.8801488\ttest: 54.0599284\tbest: 54.0599284 (158)\ttotal: 8.27s\tremaining: 17.7s\n",
      "159:\tlearn: 55.8146796\ttest: 54.0049102\tbest: 54.0049102 (159)\ttotal: 8.32s\tremaining: 17.7s\n",
      "160:\tlearn: 55.8030704\ttest: 53.9917724\tbest: 53.9917724 (160)\ttotal: 8.35s\tremaining: 17.6s\n",
      "161:\tlearn: 55.7333757\ttest: 53.9450653\tbest: 53.9450653 (161)\ttotal: 8.41s\tremaining: 17.5s\n",
      "162:\tlearn: 55.5985865\ttest: 53.7997114\tbest: 53.7997114 (162)\ttotal: 8.47s\tremaining: 17.5s\n",
      "163:\tlearn: 55.5639651\ttest: 53.8228848\tbest: 53.7997114 (162)\ttotal: 8.52s\tremaining: 17.5s\n",
      "164:\tlearn: 55.5220379\ttest: 53.8094454\tbest: 53.7997114 (162)\ttotal: 8.58s\tremaining: 17.4s\n",
      "165:\tlearn: 55.4854475\ttest: 53.8258085\tbest: 53.7997114 (162)\ttotal: 8.65s\tremaining: 17.4s\n",
      "166:\tlearn: 55.4124720\ttest: 53.7353669\tbest: 53.7353669 (166)\ttotal: 8.71s\tremaining: 17.4s\n",
      "167:\tlearn: 55.3413998\ttest: 53.6446665\tbest: 53.6446665 (167)\ttotal: 8.8s\tremaining: 17.4s\n",
      "168:\tlearn: 55.2647009\ttest: 53.5724450\tbest: 53.5724450 (168)\ttotal: 8.87s\tremaining: 17.4s\n",
      "169:\tlearn: 55.2296147\ttest: 53.5732063\tbest: 53.5724450 (168)\ttotal: 8.93s\tremaining: 17.3s\n",
      "170:\tlearn: 55.2142894\ttest: 53.5632672\tbest: 53.5632672 (170)\ttotal: 8.98s\tremaining: 17.3s\n",
      "171:\tlearn: 55.2115452\ttest: 53.5633033\tbest: 53.5632672 (170)\ttotal: 9.04s\tremaining: 17.2s\n",
      "172:\tlearn: 55.1979655\ttest: 53.5564303\tbest: 53.5564303 (172)\ttotal: 9.11s\tremaining: 17.2s\n",
      "173:\tlearn: 55.1835756\ttest: 53.5669977\tbest: 53.5564303 (172)\ttotal: 9.17s\tremaining: 17.2s\n",
      "174:\tlearn: 55.1350543\ttest: 53.5679867\tbest: 53.5564303 (172)\ttotal: 9.22s\tremaining: 17.1s\n",
      "175:\tlearn: 55.1311397\ttest: 53.5673818\tbest: 53.5564303 (172)\ttotal: 9.29s\tremaining: 17.1s\n",
      "176:\tlearn: 55.0655202\ttest: 53.5234357\tbest: 53.5234357 (176)\ttotal: 9.34s\tremaining: 17s\n",
      "177:\tlearn: 55.0605500\ttest: 53.5234572\tbest: 53.5234357 (176)\ttotal: 9.38s\tremaining: 17s\n",
      "178:\tlearn: 55.0565906\ttest: 53.5229152\tbest: 53.5229152 (178)\ttotal: 9.43s\tremaining: 16.9s\n",
      "179:\tlearn: 55.0179931\ttest: 53.4845778\tbest: 53.4845778 (179)\ttotal: 9.47s\tremaining: 16.8s\n"
     ]
    },
    {
     "name": "stdout",
     "output_type": "stream",
     "text": [
      "180:\tlearn: 54.9500334\ttest: 53.4275290\tbest: 53.4275290 (180)\ttotal: 9.54s\tremaining: 16.8s\n",
      "181:\tlearn: 54.9274179\ttest: 53.4194615\tbest: 53.4194615 (181)\ttotal: 9.59s\tremaining: 16.8s\n",
      "182:\tlearn: 54.9243501\ttest: 53.4195011\tbest: 53.4194615 (181)\ttotal: 9.65s\tremaining: 16.7s\n",
      "183:\tlearn: 54.8995966\ttest: 53.4080935\tbest: 53.4080935 (183)\ttotal: 9.71s\tremaining: 16.7s\n",
      "184:\tlearn: 54.8749109\ttest: 53.4037157\tbest: 53.4037157 (184)\ttotal: 9.77s\tremaining: 16.6s\n",
      "185:\tlearn: 54.8315620\ttest: 53.4077320\tbest: 53.4037157 (184)\ttotal: 9.84s\tremaining: 16.6s\n",
      "186:\tlearn: 54.7898037\ttest: 53.4155842\tbest: 53.4037157 (184)\ttotal: 9.9s\tremaining: 16.6s\n",
      "187:\tlearn: 54.7701745\ttest: 53.4255487\tbest: 53.4037157 (184)\ttotal: 9.96s\tremaining: 16.5s\n",
      "188:\tlearn: 54.7520017\ttest: 53.4281281\tbest: 53.4037157 (184)\ttotal: 10s\tremaining: 16.5s\n",
      "189:\tlearn: 54.7420883\ttest: 53.4268116\tbest: 53.4037157 (184)\ttotal: 10.1s\tremaining: 16.4s\n",
      "190:\tlearn: 54.7089489\ttest: 53.4527396\tbest: 53.4037157 (184)\ttotal: 10.1s\tremaining: 16.4s\n",
      "191:\tlearn: 54.6949994\ttest: 53.4398527\tbest: 53.4037157 (184)\ttotal: 10.2s\tremaining: 16.4s\n",
      "192:\tlearn: 54.6802448\ttest: 53.4422858\tbest: 53.4037157 (184)\ttotal: 10.3s\tremaining: 16.3s\n",
      "193:\tlearn: 54.6000326\ttest: 53.3856333\tbest: 53.3856333 (193)\ttotal: 10.3s\tremaining: 16.3s\n",
      "194:\tlearn: 54.5932922\ttest: 53.3879031\tbest: 53.3856333 (193)\ttotal: 10.4s\tremaining: 16.2s\n",
      "195:\tlearn: 54.5802587\ttest: 53.3867756\tbest: 53.3856333 (193)\ttotal: 10.4s\tremaining: 16.2s\n",
      "196:\tlearn: 54.5731601\ttest: 53.3882253\tbest: 53.3856333 (193)\ttotal: 10.5s\tremaining: 16.1s\n",
      "197:\tlearn: 54.5633818\ttest: 53.3846981\tbest: 53.3846981 (197)\ttotal: 10.5s\tremaining: 16.1s\n",
      "198:\tlearn: 54.5317112\ttest: 53.3740978\tbest: 53.3740978 (198)\ttotal: 10.6s\tremaining: 16s\n",
      "199:\tlearn: 54.5239584\ttest: 53.3699466\tbest: 53.3699466 (199)\ttotal: 10.7s\tremaining: 16s\n",
      "200:\tlearn: 54.4599150\ttest: 53.3082309\tbest: 53.3082309 (200)\ttotal: 10.7s\tremaining: 15.9s\n",
      "201:\tlearn: 54.4359015\ttest: 53.3110583\tbest: 53.3082309 (200)\ttotal: 10.8s\tremaining: 15.9s\n",
      "202:\tlearn: 54.4142580\ttest: 53.3045105\tbest: 53.3045105 (202)\ttotal: 10.8s\tremaining: 15.9s\n",
      "203:\tlearn: 54.3952576\ttest: 53.2918057\tbest: 53.2918057 (203)\ttotal: 10.9s\tremaining: 15.8s\n",
      "204:\tlearn: 54.3872333\ttest: 53.2865377\tbest: 53.2865377 (204)\ttotal: 11s\tremaining: 15.8s\n",
      "205:\tlearn: 54.3691324\ttest: 53.2881319\tbest: 53.2865377 (204)\ttotal: 11s\tremaining: 15.7s\n",
      "206:\tlearn: 54.3474249\ttest: 53.2759553\tbest: 53.2759553 (206)\ttotal: 11.1s\tremaining: 15.7s\n",
      "207:\tlearn: 54.3435321\ttest: 53.2757503\tbest: 53.2757503 (207)\ttotal: 11.2s\tremaining: 15.7s\n",
      "208:\tlearn: 54.3055847\ttest: 53.2606332\tbest: 53.2606332 (208)\ttotal: 11.2s\tremaining: 15.6s\n",
      "209:\tlearn: 54.2641212\ttest: 53.2586290\tbest: 53.2586290 (209)\ttotal: 11.3s\tremaining: 15.5s\n",
      "210:\tlearn: 54.2307142\ttest: 53.2290917\tbest: 53.2290917 (210)\ttotal: 11.3s\tremaining: 15.5s\n",
      "211:\tlearn: 54.2004415\ttest: 53.1835584\tbest: 53.1835584 (211)\ttotal: 11.4s\tremaining: 15.4s\n",
      "212:\tlearn: 54.1667285\ttest: 53.1644115\tbest: 53.1644115 (212)\ttotal: 11.4s\tremaining: 15.4s\n",
      "213:\tlearn: 54.1578416\ttest: 53.1605756\tbest: 53.1605756 (213)\ttotal: 11.5s\tremaining: 15.3s\n",
      "214:\tlearn: 54.1422344\ttest: 53.1602120\tbest: 53.1602120 (214)\ttotal: 11.5s\tremaining: 15.3s\n",
      "215:\tlearn: 54.1329678\ttest: 53.1575733\tbest: 53.1575733 (215)\ttotal: 11.6s\tremaining: 15.2s\n",
      "216:\tlearn: 54.1306942\ttest: 53.1575814\tbest: 53.1575733 (215)\ttotal: 11.6s\tremaining: 15.1s\n",
      "217:\tlearn: 54.1134958\ttest: 53.1485975\tbest: 53.1485975 (217)\ttotal: 11.7s\tremaining: 15.1s\n",
      "218:\tlearn: 54.1103334\ttest: 53.1491331\tbest: 53.1485975 (217)\ttotal: 11.7s\tremaining: 15s\n",
      "219:\tlearn: 54.1092794\ttest: 53.1495583\tbest: 53.1485975 (217)\ttotal: 11.8s\tremaining: 15s\n",
      "220:\tlearn: 54.0947773\ttest: 53.1401305\tbest: 53.1401305 (220)\ttotal: 11.8s\tremaining: 14.9s\n",
      "221:\tlearn: 54.0673183\ttest: 53.1468652\tbest: 53.1401305 (220)\ttotal: 11.9s\tremaining: 14.9s\n",
      "222:\tlearn: 54.0390969\ttest: 53.1226700\tbest: 53.1226700 (222)\ttotal: 11.9s\tremaining: 14.8s\n",
      "223:\tlearn: 54.0110599\ttest: 53.1251745\tbest: 53.1226700 (222)\ttotal: 12s\tremaining: 14.7s\n",
      "224:\tlearn: 53.9768510\ttest: 53.1101262\tbest: 53.1101262 (224)\ttotal: 12s\tremaining: 14.7s\n",
      "225:\tlearn: 53.9505372\ttest: 53.0930073\tbest: 53.0930073 (225)\ttotal: 12.1s\tremaining: 14.6s\n",
      "226:\tlearn: 53.9432947\ttest: 53.0930438\tbest: 53.0930073 (225)\ttotal: 12.1s\tremaining: 14.6s\n",
      "227:\tlearn: 53.9137827\ttest: 53.0800157\tbest: 53.0800157 (227)\ttotal: 12.2s\tremaining: 14.5s\n",
      "228:\tlearn: 53.8987542\ttest: 53.0794617\tbest: 53.0794617 (228)\ttotal: 12.2s\tremaining: 14.5s\n",
      "229:\tlearn: 53.8727441\ttest: 53.0611298\tbest: 53.0611298 (229)\ttotal: 12.3s\tremaining: 14.4s\n",
      "230:\tlearn: 53.8627784\ttest: 53.0603711\tbest: 53.0603711 (230)\ttotal: 12.3s\tremaining: 14.4s\n",
      "231:\tlearn: 53.8591782\ttest: 53.0608175\tbest: 53.0603711 (230)\ttotal: 12.4s\tremaining: 14.3s\n",
      "232:\tlearn: 53.8113669\ttest: 53.0091144\tbest: 53.0091144 (232)\ttotal: 12.4s\tremaining: 14.2s\n",
      "233:\tlearn: 53.7545148\ttest: 52.9244978\tbest: 52.9244978 (233)\ttotal: 12.5s\tremaining: 14.2s\n",
      "234:\tlearn: 53.6808849\ttest: 52.8568271\tbest: 52.8568271 (234)\ttotal: 12.5s\tremaining: 14.1s\n",
      "235:\tlearn: 53.6715147\ttest: 52.8521217\tbest: 52.8521217 (235)\ttotal: 12.6s\tremaining: 14.1s\n",
      "236:\tlearn: 53.6524194\ttest: 52.8400164\tbest: 52.8400164 (236)\ttotal: 12.7s\tremaining: 14s\n",
      "237:\tlearn: 53.6441003\ttest: 52.8421459\tbest: 52.8400164 (236)\ttotal: 12.7s\tremaining: 14s\n",
      "238:\tlearn: 53.6265025\ttest: 52.8503272\tbest: 52.8400164 (236)\ttotal: 12.8s\tremaining: 13.9s\n",
      "239:\tlearn: 53.5588073\ttest: 52.7833509\tbest: 52.7833509 (239)\ttotal: 12.8s\tremaining: 13.9s\n",
      "240:\tlearn: 53.5356184\ttest: 52.7765389\tbest: 52.7765389 (240)\ttotal: 12.9s\tremaining: 13.8s\n",
      "241:\tlearn: 53.4731499\ttest: 52.7013424\tbest: 52.7013424 (241)\ttotal: 12.9s\tremaining: 13.8s\n",
      "242:\tlearn: 53.4588553\ttest: 52.6940793\tbest: 52.6940793 (242)\ttotal: 13s\tremaining: 13.7s\n",
      "243:\tlearn: 53.4307100\ttest: 52.6664766\tbest: 52.6664766 (243)\ttotal: 13s\tremaining: 13.7s\n",
      "244:\tlearn: 53.4248735\ttest: 52.6667147\tbest: 52.6664766 (243)\ttotal: 13.1s\tremaining: 13.6s\n",
      "245:\tlearn: 53.3523659\ttest: 52.5942139\tbest: 52.5942139 (245)\ttotal: 13.1s\tremaining: 13.5s\n",
      "246:\tlearn: 53.3448089\ttest: 52.5941868\tbest: 52.5941868 (246)\ttotal: 13.2s\tremaining: 13.5s\n",
      "247:\tlearn: 53.3414981\ttest: 52.5932631\tbest: 52.5932631 (247)\ttotal: 13.2s\tremaining: 13.4s\n",
      "248:\tlearn: 53.3159981\ttest: 52.5914630\tbest: 52.5914630 (248)\ttotal: 13.3s\tremaining: 13.4s\n",
      "249:\tlearn: 53.2426349\ttest: 52.5403425\tbest: 52.5403425 (249)\ttotal: 13.3s\tremaining: 13.3s\n",
      "250:\tlearn: 53.2160057\ttest: 52.5280211\tbest: 52.5280211 (250)\ttotal: 13.4s\tremaining: 13.3s\n",
      "251:\tlearn: 53.1714031\ttest: 52.5072781\tbest: 52.5072781 (251)\ttotal: 13.4s\tremaining: 13.2s\n",
      "252:\tlearn: 53.1597808\ttest: 52.5067203\tbest: 52.5067203 (252)\ttotal: 13.5s\tremaining: 13.2s\n",
      "253:\tlearn: 53.1153133\ttest: 52.5244388\tbest: 52.5067203 (252)\ttotal: 13.5s\tremaining: 13.1s\n",
      "254:\tlearn: 53.0941108\ttest: 52.5305431\tbest: 52.5067203 (252)\ttotal: 13.6s\tremaining: 13.1s\n",
      "255:\tlearn: 53.0546349\ttest: 52.4877921\tbest: 52.4877921 (255)\ttotal: 13.7s\tremaining: 13s\n",
      "256:\tlearn: 53.0498610\ttest: 52.4870673\tbest: 52.4870673 (256)\ttotal: 13.7s\tremaining: 13s\n",
      "257:\tlearn: 53.0433888\ttest: 52.4906665\tbest: 52.4870673 (256)\ttotal: 13.8s\tremaining: 12.9s\n",
      "258:\tlearn: 52.9985856\ttest: 52.4862126\tbest: 52.4862126 (258)\ttotal: 13.8s\tremaining: 12.8s\n",
      "259:\tlearn: 52.9863991\ttest: 52.4846557\tbest: 52.4846557 (259)\ttotal: 13.9s\tremaining: 12.8s\n",
      "260:\tlearn: 52.9730341\ttest: 52.4851627\tbest: 52.4846557 (259)\ttotal: 13.9s\tremaining: 12.7s\n",
      "261:\tlearn: 52.9471128\ttest: 52.4762689\tbest: 52.4762689 (261)\ttotal: 13.9s\tremaining: 12.7s\n",
      "262:\tlearn: 52.9397844\ttest: 52.4765711\tbest: 52.4762689 (261)\ttotal: 14s\tremaining: 12.6s\n",
      "263:\tlearn: 52.9169650\ttest: 52.4582933\tbest: 52.4582933 (263)\ttotal: 14s\tremaining: 12.6s\n",
      "264:\tlearn: 52.9111939\ttest: 52.4581031\tbest: 52.4581031 (264)\ttotal: 14.1s\tremaining: 12.5s\n",
      "265:\tlearn: 52.9015197\ttest: 52.4583164\tbest: 52.4581031 (264)\ttotal: 14.2s\tremaining: 12.4s\n",
      "266:\tlearn: 52.8781715\ttest: 52.4577525\tbest: 52.4577525 (266)\ttotal: 14.2s\tremaining: 12.4s\n",
      "267:\tlearn: 52.8754789\ttest: 52.4577925\tbest: 52.4577525 (266)\ttotal: 14.3s\tremaining: 12.3s\n",
      "268:\tlearn: 52.8104352\ttest: 52.4579773\tbest: 52.4577525 (266)\ttotal: 14.3s\tremaining: 12.3s\n",
      "269:\tlearn: 52.7894613\ttest: 52.4553961\tbest: 52.4553961 (269)\ttotal: 14.4s\tremaining: 12.2s\n",
      "270:\tlearn: 52.7653785\ttest: 52.4320490\tbest: 52.4320490 (270)\ttotal: 14.4s\tremaining: 12.2s\n",
      "271:\tlearn: 52.7647520\ttest: 52.4315275\tbest: 52.4315275 (271)\ttotal: 14.5s\tremaining: 12.1s\n",
      "272:\tlearn: 52.7056664\ttest: 52.4009866\tbest: 52.4009866 (272)\ttotal: 14.5s\tremaining: 12.1s\n"
     ]
    },
    {
     "name": "stdout",
     "output_type": "stream",
     "text": [
      "273:\tlearn: 52.6936581\ttest: 52.3941022\tbest: 52.3941022 (273)\ttotal: 14.6s\tremaining: 12s\n",
      "274:\tlearn: 52.6378652\ttest: 52.3535744\tbest: 52.3535744 (274)\ttotal: 14.6s\tremaining: 12s\n",
      "275:\tlearn: 52.5968847\ttest: 52.3136884\tbest: 52.3136884 (275)\ttotal: 14.7s\tremaining: 11.9s\n",
      "276:\tlearn: 52.5855254\ttest: 52.3054127\tbest: 52.3054127 (276)\ttotal: 14.7s\tremaining: 11.9s\n",
      "277:\tlearn: 52.5314290\ttest: 52.2747996\tbest: 52.2747996 (277)\ttotal: 14.8s\tremaining: 11.8s\n",
      "278:\tlearn: 52.5299847\ttest: 52.2740162\tbest: 52.2740162 (278)\ttotal: 14.9s\tremaining: 11.8s\n",
      "279:\tlearn: 52.5260663\ttest: 52.2738338\tbest: 52.2738338 (279)\ttotal: 14.9s\tremaining: 11.7s\n",
      "280:\tlearn: 52.4814140\ttest: 52.2995992\tbest: 52.2738338 (279)\ttotal: 15s\tremaining: 11.7s\n",
      "281:\tlearn: 52.4578244\ttest: 52.2829491\tbest: 52.2738338 (279)\ttotal: 15s\tremaining: 11.6s\n",
      "282:\tlearn: 52.3897776\ttest: 52.2452204\tbest: 52.2452204 (282)\ttotal: 15.1s\tremaining: 11.6s\n",
      "283:\tlearn: 52.3879174\ttest: 52.2445509\tbest: 52.2445509 (283)\ttotal: 15.1s\tremaining: 11.5s\n",
      "284:\tlearn: 52.3411107\ttest: 52.2288244\tbest: 52.2288244 (284)\ttotal: 15.2s\tremaining: 11.5s\n",
      "285:\tlearn: 52.3323203\ttest: 52.2219151\tbest: 52.2219151 (285)\ttotal: 15.3s\tremaining: 11.4s\n",
      "286:\tlearn: 52.3161310\ttest: 52.2015331\tbest: 52.2015331 (286)\ttotal: 15.3s\tremaining: 11.4s\n",
      "287:\tlearn: 52.3129947\ttest: 52.2016717\tbest: 52.2015331 (286)\ttotal: 15.4s\tremaining: 11.3s\n",
      "288:\tlearn: 52.2721336\ttest: 52.1927317\tbest: 52.1927317 (288)\ttotal: 15.4s\tremaining: 11.3s\n",
      "289:\tlearn: 52.2312133\ttest: 52.2083052\tbest: 52.1927317 (288)\ttotal: 15.5s\tremaining: 11.2s\n",
      "290:\tlearn: 52.2195371\ttest: 52.2045149\tbest: 52.1927317 (288)\ttotal: 15.5s\tremaining: 11.2s\n",
      "291:\tlearn: 52.2006688\ttest: 52.1961927\tbest: 52.1927317 (288)\ttotal: 15.6s\tremaining: 11.1s\n",
      "292:\tlearn: 52.1707637\ttest: 52.1734618\tbest: 52.1734618 (292)\ttotal: 15.6s\tremaining: 11s\n",
      "293:\tlearn: 52.1167373\ttest: 52.1746164\tbest: 52.1734618 (292)\ttotal: 15.7s\tremaining: 11s\n",
      "294:\tlearn: 52.0623741\ttest: 52.1734576\tbest: 52.1734576 (294)\ttotal: 15.8s\tremaining: 10.9s\n",
      "295:\tlearn: 52.0473098\ttest: 52.1744264\tbest: 52.1734576 (294)\ttotal: 15.8s\tremaining: 10.9s\n",
      "296:\tlearn: 52.0223501\ttest: 52.1807580\tbest: 52.1734576 (294)\ttotal: 15.9s\tremaining: 10.8s\n",
      "297:\tlearn: 52.0011488\ttest: 52.1787850\tbest: 52.1734576 (294)\ttotal: 15.9s\tremaining: 10.8s\n",
      "298:\tlearn: 51.9685435\ttest: 52.1782988\tbest: 52.1734576 (294)\ttotal: 16s\tremaining: 10.7s\n",
      "299:\tlearn: 51.9614714\ttest: 52.1791894\tbest: 52.1734576 (294)\ttotal: 16s\tremaining: 10.7s\n",
      "300:\tlearn: 51.9525988\ttest: 52.1778520\tbest: 52.1734576 (294)\ttotal: 16.1s\tremaining: 10.6s\n",
      "301:\tlearn: 51.9524572\ttest: 52.1776166\tbest: 52.1734576 (294)\ttotal: 16.1s\tremaining: 10.6s\n",
      "302:\tlearn: 51.9211351\ttest: 52.1790592\tbest: 52.1734576 (294)\ttotal: 16.2s\tremaining: 10.5s\n",
      "303:\tlearn: 51.9174161\ttest: 52.1805928\tbest: 52.1734576 (294)\ttotal: 16.2s\tremaining: 10.5s\n",
      "304:\tlearn: 51.9105499\ttest: 52.1841634\tbest: 52.1734576 (294)\ttotal: 16.3s\tremaining: 10.4s\n",
      "305:\tlearn: 51.8563205\ttest: 52.1420866\tbest: 52.1420866 (305)\ttotal: 16.3s\tremaining: 10.4s\n",
      "306:\tlearn: 51.7949021\ttest: 52.1280353\tbest: 52.1280353 (306)\ttotal: 16.4s\tremaining: 10.3s\n",
      "307:\tlearn: 51.7920701\ttest: 52.1249375\tbest: 52.1249375 (307)\ttotal: 16.4s\tremaining: 10.3s\n",
      "308:\tlearn: 51.7529455\ttest: 52.1325728\tbest: 52.1249375 (307)\ttotal: 16.5s\tremaining: 10.2s\n",
      "309:\tlearn: 51.7284302\ttest: 52.1285406\tbest: 52.1249375 (307)\ttotal: 16.6s\tremaining: 10.1s\n",
      "310:\tlearn: 51.7068124\ttest: 52.1449058\tbest: 52.1249375 (307)\ttotal: 16.6s\tremaining: 10.1s\n",
      "311:\tlearn: 51.6833881\ttest: 52.1400157\tbest: 52.1249375 (307)\ttotal: 16.7s\tremaining: 10s\n",
      "312:\tlearn: 51.6793161\ttest: 52.1390965\tbest: 52.1249375 (307)\ttotal: 16.7s\tremaining: 10s\n",
      "313:\tlearn: 51.6617668\ttest: 52.1464312\tbest: 52.1249375 (307)\ttotal: 16.8s\tremaining: 9.94s\n",
      "314:\tlearn: 51.6068434\ttest: 52.0940479\tbest: 52.0940479 (314)\ttotal: 16.8s\tremaining: 9.89s\n",
      "315:\tlearn: 51.5903010\ttest: 52.0977197\tbest: 52.0940479 (314)\ttotal: 16.9s\tremaining: 9.84s\n",
      "316:\tlearn: 51.5319827\ttest: 52.0478384\tbest: 52.0478384 (316)\ttotal: 17s\tremaining: 9.79s\n",
      "317:\tlearn: 51.4927052\ttest: 52.0452079\tbest: 52.0452079 (317)\ttotal: 17s\tremaining: 9.73s\n",
      "318:\tlearn: 51.4748586\ttest: 52.0438278\tbest: 52.0438278 (318)\ttotal: 17.1s\tremaining: 9.68s\n",
      "319:\tlearn: 51.4572957\ttest: 52.0430073\tbest: 52.0430073 (319)\ttotal: 17.1s\tremaining: 9.63s\n",
      "320:\tlearn: 51.4296071\ttest: 51.9930207\tbest: 51.9930207 (320)\ttotal: 17.2s\tremaining: 9.57s\n",
      "321:\tlearn: 51.3479152\ttest: 51.9264898\tbest: 51.9264898 (321)\ttotal: 17.2s\tremaining: 9.52s\n",
      "322:\tlearn: 51.3342433\ttest: 51.9311667\tbest: 51.9264898 (321)\ttotal: 17.3s\tremaining: 9.47s\n",
      "323:\tlearn: 51.3191488\ttest: 51.9242966\tbest: 51.9242966 (323)\ttotal: 17.3s\tremaining: 9.42s\n",
      "324:\tlearn: 51.3145457\ttest: 51.9243220\tbest: 51.9242966 (323)\ttotal: 17.4s\tremaining: 9.37s\n",
      "325:\tlearn: 51.2829105\ttest: 51.9175753\tbest: 51.9175753 (325)\ttotal: 17.5s\tremaining: 9.32s\n",
      "326:\tlearn: 51.2559310\ttest: 51.8745012\tbest: 51.8745012 (326)\ttotal: 17.5s\tremaining: 9.26s\n",
      "327:\tlearn: 51.2472696\ttest: 51.8680754\tbest: 51.8680754 (327)\ttotal: 17.6s\tremaining: 9.21s\n",
      "328:\tlearn: 51.1795777\ttest: 51.8294964\tbest: 51.8294964 (328)\ttotal: 17.6s\tremaining: 9.16s\n",
      "329:\tlearn: 51.1785197\ttest: 51.8294893\tbest: 51.8294893 (329)\ttotal: 17.7s\tremaining: 9.11s\n",
      "330:\tlearn: 51.1660792\ttest: 51.8283097\tbest: 51.8283097 (330)\ttotal: 17.7s\tremaining: 9.05s\n",
      "331:\tlearn: 51.1640777\ttest: 51.8299174\tbest: 51.8283097 (330)\ttotal: 17.8s\tremaining: 9s\n",
      "332:\tlearn: 51.1572770\ttest: 51.8290613\tbest: 51.8283097 (330)\ttotal: 17.8s\tremaining: 8.95s\n",
      "333:\tlearn: 51.1509223\ttest: 51.8278786\tbest: 51.8278786 (333)\ttotal: 17.9s\tremaining: 8.9s\n",
      "334:\tlearn: 51.0980919\ttest: 51.7748006\tbest: 51.7748006 (334)\ttotal: 18s\tremaining: 8.85s\n",
      "335:\tlearn: 51.0811950\ttest: 51.7733096\tbest: 51.7733096 (335)\ttotal: 18s\tremaining: 8.79s\n",
      "336:\tlearn: 51.0763892\ttest: 51.7722750\tbest: 51.7722750 (336)\ttotal: 18.1s\tremaining: 8.74s\n",
      "337:\tlearn: 51.0728097\ttest: 51.7687947\tbest: 51.7687947 (337)\ttotal: 18.1s\tremaining: 8.69s\n",
      "338:\tlearn: 51.0258667\ttest: 51.7257314\tbest: 51.7257314 (338)\ttotal: 18.2s\tremaining: 8.63s\n",
      "339:\tlearn: 50.9519695\ttest: 51.6883451\tbest: 51.6883451 (339)\ttotal: 18.2s\tremaining: 8.59s\n",
      "340:\tlearn: 50.9467722\ttest: 51.6914960\tbest: 51.6883451 (339)\ttotal: 18.3s\tremaining: 8.54s\n",
      "341:\tlearn: 50.9281292\ttest: 51.6837915\tbest: 51.6837915 (341)\ttotal: 18.4s\tremaining: 8.49s\n",
      "342:\tlearn: 50.9254839\ttest: 51.6876606\tbest: 51.6837915 (341)\ttotal: 18.4s\tremaining: 8.44s\n",
      "343:\tlearn: 50.9030237\ttest: 51.6590356\tbest: 51.6590356 (343)\ttotal: 18.5s\tremaining: 8.39s\n",
      "344:\tlearn: 50.8917662\ttest: 51.6560118\tbest: 51.6560118 (344)\ttotal: 18.6s\tremaining: 8.34s\n",
      "345:\tlearn: 50.8877041\ttest: 51.6564207\tbest: 51.6560118 (344)\ttotal: 18.6s\tremaining: 8.28s\n",
      "346:\tlearn: 50.8726790\ttest: 51.6560391\tbest: 51.6560118 (344)\ttotal: 18.7s\tremaining: 8.23s\n",
      "347:\tlearn: 50.8716268\ttest: 51.6562274\tbest: 51.6560118 (344)\ttotal: 18.7s\tremaining: 8.18s\n",
      "348:\tlearn: 50.8557734\ttest: 51.6649153\tbest: 51.6560118 (344)\ttotal: 18.8s\tremaining: 8.13s\n",
      "349:\tlearn: 50.8534068\ttest: 51.6661855\tbest: 51.6560118 (344)\ttotal: 18.9s\tremaining: 8.08s\n",
      "350:\tlearn: 50.8417760\ttest: 51.6786460\tbest: 51.6560118 (344)\ttotal: 18.9s\tremaining: 8.03s\n",
      "351:\tlearn: 50.8328343\ttest: 51.6820953\tbest: 51.6560118 (344)\ttotal: 19s\tremaining: 7.97s\n",
      "352:\tlearn: 50.7842598\ttest: 51.6480517\tbest: 51.6480517 (352)\ttotal: 19s\tremaining: 7.93s\n",
      "353:\tlearn: 50.7667664\ttest: 51.6365174\tbest: 51.6365174 (353)\ttotal: 19.1s\tremaining: 7.88s\n",
      "354:\tlearn: 50.7656963\ttest: 51.6365055\tbest: 51.6365055 (354)\ttotal: 19.2s\tremaining: 7.83s\n",
      "355:\tlearn: 50.7553449\ttest: 51.6506343\tbest: 51.6365055 (354)\ttotal: 19.2s\tremaining: 7.77s\n",
      "356:\tlearn: 50.7478536\ttest: 51.6564058\tbest: 51.6365055 (354)\ttotal: 19.3s\tremaining: 7.72s\n",
      "357:\tlearn: 50.7328406\ttest: 51.6487535\tbest: 51.6365055 (354)\ttotal: 19.3s\tremaining: 7.67s\n",
      "358:\tlearn: 50.7198462\ttest: 51.6499750\tbest: 51.6365055 (354)\ttotal: 19.4s\tremaining: 7.62s\n",
      "359:\tlearn: 50.7032118\ttest: 51.6520686\tbest: 51.6365055 (354)\ttotal: 19.5s\tremaining: 7.57s\n",
      "360:\tlearn: 50.6754449\ttest: 51.6473272\tbest: 51.6365055 (354)\ttotal: 19.5s\tremaining: 7.52s\n",
      "361:\tlearn: 50.6734501\ttest: 51.6474292\tbest: 51.6365055 (354)\ttotal: 19.6s\tremaining: 7.46s\n",
      "362:\tlearn: 50.6621952\ttest: 51.6438977\tbest: 51.6365055 (354)\ttotal: 19.6s\tremaining: 7.41s\n"
     ]
    },
    {
     "name": "stdout",
     "output_type": "stream",
     "text": [
      "363:\tlearn: 50.6244544\ttest: 51.6167943\tbest: 51.6167943 (363)\ttotal: 19.7s\tremaining: 7.36s\n",
      "364:\tlearn: 50.6193478\ttest: 51.6164754\tbest: 51.6164754 (364)\ttotal: 19.7s\tremaining: 7.3s\n",
      "365:\tlearn: 50.6141966\ttest: 51.6146831\tbest: 51.6146831 (365)\ttotal: 19.8s\tremaining: 7.25s\n",
      "366:\tlearn: 50.5628860\ttest: 51.5990139\tbest: 51.5990139 (366)\ttotal: 19.9s\tremaining: 7.2s\n",
      "367:\tlearn: 50.5534608\ttest: 51.6040557\tbest: 51.5990139 (366)\ttotal: 19.9s\tremaining: 7.15s\n",
      "368:\tlearn: 50.5414472\ttest: 51.6191085\tbest: 51.5990139 (366)\ttotal: 20s\tremaining: 7.09s\n",
      "369:\tlearn: 50.5000476\ttest: 51.6030250\tbest: 51.5990139 (366)\ttotal: 20s\tremaining: 7.04s\n",
      "370:\tlearn: 50.4958207\ttest: 51.6031395\tbest: 51.5990139 (366)\ttotal: 20.1s\tremaining: 6.99s\n",
      "371:\tlearn: 50.4645787\ttest: 51.6063678\tbest: 51.5990139 (366)\ttotal: 20.2s\tremaining: 6.93s\n",
      "372:\tlearn: 50.4611460\ttest: 51.6039833\tbest: 51.5990139 (366)\ttotal: 20.2s\tremaining: 6.88s\n",
      "373:\tlearn: 50.4558236\ttest: 51.6091805\tbest: 51.5990139 (366)\ttotal: 20.3s\tremaining: 6.83s\n",
      "374:\tlearn: 50.4544658\ttest: 51.6090236\tbest: 51.5990139 (366)\ttotal: 20.3s\tremaining: 6.77s\n",
      "375:\tlearn: 50.4189522\ttest: 51.6180513\tbest: 51.5990139 (366)\ttotal: 20.4s\tremaining: 6.72s\n",
      "376:\tlearn: 50.3863201\ttest: 51.6227018\tbest: 51.5990139 (366)\ttotal: 20.5s\tremaining: 6.67s\n",
      "377:\tlearn: 50.3395422\ttest: 51.6400852\tbest: 51.5990139 (366)\ttotal: 20.5s\tremaining: 6.62s\n",
      "378:\tlearn: 50.3279875\ttest: 51.6374538\tbest: 51.5990139 (366)\ttotal: 20.6s\tremaining: 6.57s\n",
      "379:\tlearn: 50.3133317\ttest: 51.6326575\tbest: 51.5990139 (366)\ttotal: 20.6s\tremaining: 6.51s\n",
      "380:\tlearn: 50.3085239\ttest: 51.6349881\tbest: 51.5990139 (366)\ttotal: 20.7s\tremaining: 6.46s\n",
      "381:\tlearn: 50.2890623\ttest: 51.6276310\tbest: 51.5990139 (366)\ttotal: 20.7s\tremaining: 6.4s\n",
      "382:\tlearn: 50.2477994\ttest: 51.6257381\tbest: 51.5990139 (366)\ttotal: 20.8s\tremaining: 6.35s\n",
      "383:\tlearn: 50.2438057\ttest: 51.6263252\tbest: 51.5990139 (366)\ttotal: 20.8s\tremaining: 6.3s\n",
      "384:\tlearn: 50.2200452\ttest: 51.6284566\tbest: 51.5990139 (366)\ttotal: 20.9s\tremaining: 6.24s\n",
      "385:\tlearn: 50.1456916\ttest: 51.5893201\tbest: 51.5893201 (385)\ttotal: 21s\tremaining: 6.19s\n",
      "386:\tlearn: 50.1311982\ttest: 51.5805522\tbest: 51.5805522 (386)\ttotal: 21s\tremaining: 6.13s\n",
      "387:\tlearn: 50.0839837\ttest: 51.5715858\tbest: 51.5715858 (387)\ttotal: 21.1s\tremaining: 6.08s\n",
      "388:\tlearn: 50.0681342\ttest: 51.5757472\tbest: 51.5715858 (387)\ttotal: 21.1s\tremaining: 6.03s\n",
      "389:\tlearn: 50.0657901\ttest: 51.5757619\tbest: 51.5715858 (387)\ttotal: 21.2s\tremaining: 5.97s\n",
      "390:\tlearn: 50.0563914\ttest: 51.5760719\tbest: 51.5715858 (387)\ttotal: 21.2s\tremaining: 5.92s\n",
      "391:\tlearn: 50.0016676\ttest: 51.5300252\tbest: 51.5300252 (391)\ttotal: 21.3s\tremaining: 5.87s\n",
      "392:\tlearn: 49.9912083\ttest: 51.5288512\tbest: 51.5288512 (392)\ttotal: 21.4s\tremaining: 5.81s\n",
      "393:\tlearn: 49.9219005\ttest: 51.5389388\tbest: 51.5288512 (392)\ttotal: 21.4s\tremaining: 5.76s\n",
      "394:\tlearn: 49.9115219\ttest: 51.5392244\tbest: 51.5288512 (392)\ttotal: 21.5s\tremaining: 5.71s\n",
      "395:\tlearn: 49.8971029\ttest: 51.5429003\tbest: 51.5288512 (392)\ttotal: 21.5s\tremaining: 5.65s\n",
      "396:\tlearn: 49.8935403\ttest: 51.5426728\tbest: 51.5288512 (392)\ttotal: 21.6s\tremaining: 5.6s\n",
      "397:\tlearn: 49.8793895\ttest: 51.5393015\tbest: 51.5288512 (392)\ttotal: 21.7s\tremaining: 5.55s\n",
      "398:\tlearn: 49.8295199\ttest: 51.5243144\tbest: 51.5243144 (398)\ttotal: 21.7s\tremaining: 5.5s\n",
      "399:\tlearn: 49.7913308\ttest: 51.5071490\tbest: 51.5071490 (399)\ttotal: 21.8s\tremaining: 5.44s\n",
      "400:\tlearn: 49.7630283\ttest: 51.4806738\tbest: 51.4806738 (400)\ttotal: 21.8s\tremaining: 5.39s\n",
      "401:\tlearn: 49.7545539\ttest: 51.4792963\tbest: 51.4792963 (401)\ttotal: 21.9s\tremaining: 5.33s\n",
      "402:\tlearn: 49.6931770\ttest: 51.4350104\tbest: 51.4350104 (402)\ttotal: 21.9s\tremaining: 5.28s\n",
      "403:\tlearn: 49.6861353\ttest: 51.4295621\tbest: 51.4295621 (403)\ttotal: 22s\tremaining: 5.23s\n",
      "404:\tlearn: 49.6699750\ttest: 51.4240325\tbest: 51.4240325 (404)\ttotal: 22.1s\tremaining: 5.17s\n",
      "405:\tlearn: 49.6562352\ttest: 51.4282574\tbest: 51.4240325 (404)\ttotal: 22.1s\tremaining: 5.12s\n",
      "406:\tlearn: 49.6466621\ttest: 51.4307780\tbest: 51.4240325 (404)\ttotal: 22.2s\tremaining: 5.06s\n",
      "407:\tlearn: 49.6442222\ttest: 51.4266029\tbest: 51.4240325 (404)\ttotal: 22.2s\tremaining: 5.01s\n",
      "408:\tlearn: 49.5954172\ttest: 51.3890843\tbest: 51.3890843 (408)\ttotal: 22.3s\tremaining: 4.96s\n",
      "409:\tlearn: 49.5810358\ttest: 51.3923359\tbest: 51.3890843 (408)\ttotal: 22.3s\tremaining: 4.9s\n",
      "410:\tlearn: 49.5401280\ttest: 51.3480218\tbest: 51.3480218 (410)\ttotal: 22.4s\tremaining: 4.85s\n",
      "411:\tlearn: 49.5212250\ttest: 51.3418157\tbest: 51.3418157 (411)\ttotal: 22.5s\tremaining: 4.8s\n",
      "412:\tlearn: 49.5146775\ttest: 51.3429765\tbest: 51.3418157 (411)\ttotal: 22.5s\tremaining: 4.74s\n",
      "413:\tlearn: 49.4850162\ttest: 51.3428982\tbest: 51.3418157 (411)\ttotal: 22.6s\tremaining: 4.69s\n",
      "414:\tlearn: 49.4424393\ttest: 51.3108808\tbest: 51.3108808 (414)\ttotal: 22.6s\tremaining: 4.63s\n",
      "415:\tlearn: 49.4234459\ttest: 51.3128582\tbest: 51.3108808 (414)\ttotal: 22.7s\tremaining: 4.58s\n",
      "416:\tlearn: 49.3796405\ttest: 51.3099559\tbest: 51.3099559 (416)\ttotal: 22.7s\tremaining: 4.53s\n",
      "417:\tlearn: 49.3603085\ttest: 51.3101488\tbest: 51.3099559 (416)\ttotal: 22.8s\tremaining: 4.47s\n",
      "418:\tlearn: 49.3538148\ttest: 51.3103269\tbest: 51.3099559 (416)\ttotal: 22.8s\tremaining: 4.42s\n",
      "419:\tlearn: 49.3352900\ttest: 51.3116072\tbest: 51.3099559 (416)\ttotal: 22.9s\tremaining: 4.36s\n",
      "420:\tlearn: 49.3157714\ttest: 51.3025745\tbest: 51.3025745 (420)\ttotal: 23s\tremaining: 4.31s\n",
      "421:\tlearn: 49.2994808\ttest: 51.2817832\tbest: 51.2817832 (421)\ttotal: 23s\tremaining: 4.25s\n",
      "422:\tlearn: 49.2850501\ttest: 51.2799113\tbest: 51.2799113 (422)\ttotal: 23.1s\tremaining: 4.2s\n",
      "423:\tlearn: 49.2844844\ttest: 51.2799061\tbest: 51.2799061 (423)\ttotal: 23.1s\tremaining: 4.14s\n",
      "424:\tlearn: 49.2833854\ttest: 51.2787936\tbest: 51.2787936 (424)\ttotal: 23.2s\tremaining: 4.09s\n",
      "425:\tlearn: 49.2697529\ttest: 51.2728184\tbest: 51.2728184 (425)\ttotal: 23.2s\tremaining: 4.04s\n",
      "426:\tlearn: 49.2676592\ttest: 51.2735378\tbest: 51.2728184 (425)\ttotal: 23.3s\tremaining: 3.98s\n",
      "427:\tlearn: 49.2624728\ttest: 51.2793105\tbest: 51.2728184 (425)\ttotal: 23.4s\tremaining: 3.93s\n",
      "428:\tlearn: 49.2452940\ttest: 51.2665591\tbest: 51.2665591 (428)\ttotal: 23.4s\tremaining: 3.88s\n",
      "429:\tlearn: 49.2290425\ttest: 51.2727718\tbest: 51.2665591 (428)\ttotal: 23.5s\tremaining: 3.82s\n",
      "430:\tlearn: 49.2159287\ttest: 51.2761312\tbest: 51.2665591 (428)\ttotal: 23.5s\tremaining: 3.77s\n",
      "431:\tlearn: 49.1724971\ttest: 51.2851251\tbest: 51.2665591 (428)\ttotal: 23.6s\tremaining: 3.72s\n",
      "432:\tlearn: 49.1498453\ttest: 51.2877450\tbest: 51.2665591 (428)\ttotal: 23.7s\tremaining: 3.66s\n",
      "433:\tlearn: 49.1256428\ttest: 51.2931035\tbest: 51.2665591 (428)\ttotal: 23.7s\tremaining: 3.61s\n",
      "434:\tlearn: 49.1049720\ttest: 51.2861683\tbest: 51.2665591 (428)\ttotal: 23.8s\tremaining: 3.55s\n",
      "435:\tlearn: 49.0731695\ttest: 51.2834439\tbest: 51.2665591 (428)\ttotal: 23.8s\tremaining: 3.5s\n",
      "436:\tlearn: 49.0368175\ttest: 51.2824880\tbest: 51.2665591 (428)\ttotal: 23.9s\tremaining: 3.44s\n",
      "437:\tlearn: 49.0186437\ttest: 51.2900599\tbest: 51.2665591 (428)\ttotal: 24s\tremaining: 3.39s\n",
      "438:\tlearn: 48.9968226\ttest: 51.2880558\tbest: 51.2665591 (428)\ttotal: 24s\tremaining: 3.34s\n",
      "439:\tlearn: 48.9827196\ttest: 51.2873575\tbest: 51.2665591 (428)\ttotal: 24.1s\tremaining: 3.28s\n",
      "440:\tlearn: 48.9668415\ttest: 51.2745623\tbest: 51.2665591 (428)\ttotal: 24.1s\tremaining: 3.23s\n",
      "441:\tlearn: 48.9002586\ttest: 51.2511066\tbest: 51.2511066 (441)\ttotal: 24.2s\tremaining: 3.17s\n",
      "442:\tlearn: 48.8980505\ttest: 51.2519495\tbest: 51.2511066 (441)\ttotal: 24.2s\tremaining: 3.12s\n",
      "443:\tlearn: 48.8746896\ttest: 51.2235518\tbest: 51.2235518 (443)\ttotal: 24.3s\tremaining: 3.06s\n",
      "444:\tlearn: 48.8639846\ttest: 51.2207947\tbest: 51.2207947 (444)\ttotal: 24.3s\tremaining: 3.01s\n",
      "445:\tlearn: 48.8460777\ttest: 51.2283619\tbest: 51.2207947 (444)\ttotal: 24.4s\tremaining: 2.95s\n",
      "446:\tlearn: 48.8309355\ttest: 51.2324835\tbest: 51.2207947 (444)\ttotal: 24.5s\tremaining: 2.9s\n",
      "447:\tlearn: 48.7350449\ttest: 51.1416693\tbest: 51.1416693 (447)\ttotal: 24.5s\tremaining: 2.85s\n",
      "448:\tlearn: 48.7239315\ttest: 51.1381561\tbest: 51.1381561 (448)\ttotal: 24.6s\tremaining: 2.79s\n",
      "449:\tlearn: 48.7045253\ttest: 51.1297043\tbest: 51.1297043 (449)\ttotal: 24.6s\tremaining: 2.74s\n",
      "450:\tlearn: 48.7022264\ttest: 51.1308228\tbest: 51.1297043 (449)\ttotal: 24.7s\tremaining: 2.68s\n",
      "451:\tlearn: 48.6881880\ttest: 51.1311964\tbest: 51.1297043 (449)\ttotal: 24.7s\tremaining: 2.63s\n",
      "452:\tlearn: 48.6842497\ttest: 51.1300547\tbest: 51.1297043 (449)\ttotal: 24.8s\tremaining: 2.57s\n",
      "453:\tlearn: 48.6627293\ttest: 51.0997583\tbest: 51.0997583 (453)\ttotal: 24.9s\tremaining: 2.52s\n",
      "454:\tlearn: 48.6588369\ttest: 51.1003198\tbest: 51.0997583 (453)\ttotal: 24.9s\tremaining: 2.46s\n"
     ]
    },
    {
     "name": "stdout",
     "output_type": "stream",
     "text": [
      "455:\tlearn: 48.6553224\ttest: 51.1008221\tbest: 51.0997583 (453)\ttotal: 25.1s\tremaining: 2.42s\n",
      "456:\tlearn: 48.6022237\ttest: 51.1279668\tbest: 51.0997583 (453)\ttotal: 25.2s\tremaining: 2.37s\n",
      "457:\tlearn: 48.5811523\ttest: 51.1342496\tbest: 51.0997583 (453)\ttotal: 25.2s\tremaining: 2.31s\n",
      "458:\tlearn: 48.5668119\ttest: 51.1361710\tbest: 51.0997583 (453)\ttotal: 25.3s\tremaining: 2.26s\n",
      "459:\tlearn: 48.5445604\ttest: 51.1355113\tbest: 51.0997583 (453)\ttotal: 25.3s\tremaining: 2.2s\n",
      "460:\tlearn: 48.5396034\ttest: 51.1347025\tbest: 51.0997583 (453)\ttotal: 25.4s\tremaining: 2.15s\n",
      "461:\tlearn: 48.5278281\ttest: 51.1319659\tbest: 51.0997583 (453)\ttotal: 25.4s\tremaining: 2.09s\n",
      "462:\tlearn: 48.4953190\ttest: 51.1570083\tbest: 51.0997583 (453)\ttotal: 25.5s\tremaining: 2.04s\n",
      "463:\tlearn: 48.4776914\ttest: 51.1572688\tbest: 51.0997583 (453)\ttotal: 25.6s\tremaining: 1.98s\n",
      "464:\tlearn: 48.4713119\ttest: 51.1534316\tbest: 51.0997583 (453)\ttotal: 25.6s\tremaining: 1.93s\n",
      "465:\tlearn: 48.4585603\ttest: 51.1494344\tbest: 51.0997583 (453)\ttotal: 25.7s\tremaining: 1.87s\n",
      "466:\tlearn: 48.4515186\ttest: 51.1516124\tbest: 51.0997583 (453)\ttotal: 25.7s\tremaining: 1.82s\n",
      "467:\tlearn: 48.4469102\ttest: 51.1474778\tbest: 51.0997583 (453)\ttotal: 25.8s\tremaining: 1.76s\n",
      "468:\tlearn: 48.4060019\ttest: 51.1352016\tbest: 51.0997583 (453)\ttotal: 25.8s\tremaining: 1.71s\n",
      "469:\tlearn: 48.3643219\ttest: 51.1071066\tbest: 51.0997583 (453)\ttotal: 25.9s\tremaining: 1.65s\n",
      "470:\tlearn: 48.3497181\ttest: 51.1174260\tbest: 51.0997583 (453)\ttotal: 25.9s\tremaining: 1.6s\n",
      "471:\tlearn: 48.3442251\ttest: 51.1174757\tbest: 51.0997583 (453)\ttotal: 26s\tremaining: 1.54s\n",
      "472:\tlearn: 48.3160724\ttest: 51.1264005\tbest: 51.0997583 (453)\ttotal: 26.1s\tremaining: 1.49s\n",
      "473:\tlearn: 48.2918810\ttest: 51.1007152\tbest: 51.0997583 (453)\ttotal: 26.1s\tremaining: 1.43s\n",
      "474:\tlearn: 48.2650731\ttest: 51.1225588\tbest: 51.0997583 (453)\ttotal: 26.2s\tremaining: 1.38s\n",
      "475:\tlearn: 48.2612409\ttest: 51.1224662\tbest: 51.0997583 (453)\ttotal: 26.2s\tremaining: 1.32s\n",
      "476:\tlearn: 48.2411394\ttest: 51.1154718\tbest: 51.0997583 (453)\ttotal: 26.3s\tremaining: 1.27s\n",
      "477:\tlearn: 48.2160092\ttest: 51.1145806\tbest: 51.0997583 (453)\ttotal: 26.4s\tremaining: 1.21s\n",
      "478:\tlearn: 48.2140215\ttest: 51.1142671\tbest: 51.0997583 (453)\ttotal: 26.4s\tremaining: 1.16s\n",
      "479:\tlearn: 48.1934278\ttest: 51.1216567\tbest: 51.0997583 (453)\ttotal: 26.5s\tremaining: 1.1s\n",
      "480:\tlearn: 48.1892170\ttest: 51.1239644\tbest: 51.0997583 (453)\ttotal: 26.5s\tremaining: 1.05s\n",
      "481:\tlearn: 48.1852220\ttest: 51.1233805\tbest: 51.0997583 (453)\ttotal: 26.6s\tremaining: 992ms\n",
      "482:\tlearn: 48.1779453\ttest: 51.1285011\tbest: 51.0997583 (453)\ttotal: 26.6s\tremaining: 937ms\n",
      "483:\tlearn: 48.1647397\ttest: 51.1262331\tbest: 51.0997583 (453)\ttotal: 26.7s\tremaining: 882ms\n",
      "484:\tlearn: 48.1626904\ttest: 51.1199258\tbest: 51.0997583 (453)\ttotal: 26.7s\tremaining: 827ms\n",
      "485:\tlearn: 48.1489893\ttest: 51.1276022\tbest: 51.0997583 (453)\ttotal: 26.8s\tremaining: 772ms\n",
      "486:\tlearn: 48.1129125\ttest: 51.1319552\tbest: 51.0997583 (453)\ttotal: 26.8s\tremaining: 716ms\n",
      "487:\tlearn: 48.1030441\ttest: 51.1422625\tbest: 51.0997583 (453)\ttotal: 26.9s\tremaining: 662ms\n",
      "488:\tlearn: 48.0754055\ttest: 51.1368885\tbest: 51.0997583 (453)\ttotal: 27s\tremaining: 608ms\n",
      "489:\tlearn: 48.0677843\ttest: 51.1368876\tbest: 51.0997583 (453)\ttotal: 27.1s\tremaining: 553ms\n",
      "490:\tlearn: 48.0549724\ttest: 51.1434400\tbest: 51.0997583 (453)\ttotal: 27.1s\tremaining: 498ms\n",
      "491:\tlearn: 48.0425016\ttest: 51.1416812\tbest: 51.0997583 (453)\ttotal: 27.2s\tremaining: 442ms\n",
      "492:\tlearn: 48.0369549\ttest: 51.1430563\tbest: 51.0997583 (453)\ttotal: 27.3s\tremaining: 387ms\n",
      "493:\tlearn: 48.0074738\ttest: 51.1467383\tbest: 51.0997583 (453)\ttotal: 27.3s\tremaining: 332ms\n",
      "494:\tlearn: 47.9966838\ttest: 51.1480404\tbest: 51.0997583 (453)\ttotal: 27.4s\tremaining: 276ms\n",
      "495:\tlearn: 47.9869679\ttest: 51.1481893\tbest: 51.0997583 (453)\ttotal: 27.4s\tremaining: 221ms\n",
      "496:\tlearn: 47.9838157\ttest: 51.1484202\tbest: 51.0997583 (453)\ttotal: 27.5s\tremaining: 166ms\n",
      "497:\tlearn: 47.9784786\ttest: 51.1488901\tbest: 51.0997583 (453)\ttotal: 27.5s\tremaining: 111ms\n",
      "498:\tlearn: 47.9672999\ttest: 51.1516376\tbest: 51.0997583 (453)\ttotal: 27.6s\tremaining: 55.3ms\n",
      "499:\tlearn: 47.9496739\ttest: 51.1299089\tbest: 51.0997583 (453)\ttotal: 27.7s\tremaining: 0us\n",
      "\n",
      "bestTest = 51.09975831\n",
      "bestIteration = 453\n",
      "\n",
      "Shrink model to first 454 iterations.\n"
     ]
    },
    {
     "data": {
      "text/plain": [
       "<catboost.core.CatBoostRegressor at 0x219b0596cd0>"
      ]
     },
     "execution_count": 95,
     "metadata": {},
     "output_type": "execute_result"
    }
   ],
   "source": [
    "cat = CatBoostRegressor(\n",
    "    iterations=500,\n",
    "    random_state=42,\n",
    "    loss_function='RMSE',\n",
    ")\n",
    "cat.fit(\n",
    "    X_train,\n",
    "    y_train,\n",
    "    cat_features=list(X_train.select_dtypes(\"object\").columns),\n",
    "    eval_set=(X_test, y_test),\n",
    "    plot=True\n",
    ")"
   ]
  },
  {
   "cell_type": "code",
   "execution_count": 96,
   "id": "4860205c",
   "metadata": {},
   "outputs": [
    {
     "data": {
      "text/plain": [
       "47.75860505663966"
      ]
     },
     "execution_count": 96,
     "metadata": {},
     "output_type": "execute_result"
    }
   ],
   "source": [
    "np.sqrt(mean_squared_error(y_train, cat.predict(X_train)))"
   ]
  },
  {
   "cell_type": "code",
   "execution_count": 97,
   "id": "b6587b6a",
   "metadata": {},
   "outputs": [
    {
     "data": {
      "text/plain": [
       "51.09975770960958"
      ]
     },
     "execution_count": 97,
     "metadata": {},
     "output_type": "execute_result"
    }
   ],
   "source": [
    "np.sqrt(mean_squared_error(y_test, cat.predict(X_test)))"
   ]
  },
  {
   "cell_type": "code",
   "execution_count": 4,
   "id": "2c9cc99b",
   "metadata": {},
   "outputs": [],
   "source": []
  },
  {
   "cell_type": "code",
   "execution_count": 118,
   "id": "904444ff",
   "metadata": {},
   "outputs": [],
   "source": []
  },
  {
   "cell_type": "code",
   "execution_count": 107,
   "id": "c28bd25c",
   "metadata": {},
   "outputs": [],
   "source": []
  },
  {
   "cell_type": "code",
   "execution_count": 117,
   "id": "47a2f625",
   "metadata": {},
   "outputs": [],
   "source": []
  },
  {
   "cell_type": "code",
   "execution_count": null,
   "id": "0edabccd",
   "metadata": {},
   "outputs": [],
   "source": []
  },
  {
   "cell_type": "code",
   "execution_count": null,
   "id": "6b210e63",
   "metadata": {},
   "outputs": [],
   "source": []
  },
  {
   "cell_type": "code",
   "execution_count": null,
   "id": "3388c215",
   "metadata": {},
   "outputs": [],
   "source": []
  },
  {
   "cell_type": "code",
   "execution_count": null,
   "id": "bec780fe",
   "metadata": {},
   "outputs": [],
   "source": []
  },
  {
   "cell_type": "code",
   "execution_count": null,
   "id": "72fa402a",
   "metadata": {},
   "outputs": [],
   "source": []
  },
  {
   "cell_type": "code",
   "execution_count": 167,
   "id": "9eddfb4b",
   "metadata": {},
   "outputs": [],
   "source": []
  },
  {
   "cell_type": "code",
   "execution_count": null,
   "id": "8c8acfd7",
   "metadata": {},
   "outputs": [],
   "source": []
  },
  {
   "cell_type": "code",
   "execution_count": null,
   "id": "c03eb917",
   "metadata": {},
   "outputs": [],
   "source": []
  },
  {
   "cell_type": "code",
   "execution_count": null,
   "id": "a1c34ee6",
   "metadata": {},
   "outputs": [],
   "source": []
  },
  {
   "cell_type": "code",
   "execution_count": 21,
   "id": "c958ea07",
   "metadata": {},
   "outputs": [
    {
     "data": {
      "image/png": "[encoded data removed]",
      "text/plain": [
       "<Figure size 1152x864 with 2 Axes>"
      ]
     },
     "metadata": {
      "needs_background": "light"
     },
     "output_type": "display_data"
    }
   ],
   "source": [
    "plt.figure(figsize=(16, 12)) \n",
    "sns.heatmap(df.corr(), cmap='YlGnBu', annot=True, fmt='.3f', linewidths=0.5);"
   ]
  },
  {
   "cell_type": "markdown",
   "id": "0cd9ff52",
   "metadata": {},
   "source": [
    "## Try Lazypredict"
   ]
  },
  {
   "cell_type": "code",
   "execution_count": 201,
   "id": "d7a85d62",
   "metadata": {},
   "outputs": [],
   "source": [
    "preprocessor.fit(X_train)\n",
    "\n",
    "X_train_transformed = preprocessor.transform(X_train)\n",
    "X_test_transformed = preprocessor.transform(X_test)"
   ]
  },
  {
   "cell_type": "code",
   "execution_count": 202,
   "id": "542dc7d7",
   "metadata": {},
   "outputs": [
    {
     "name": "stderr",
     "output_type": "stream",
     "text": [
      "  2%|█▉                                                                                 | 1/42 [00:00<00:38,  1.06it/s]"
     ]
    },
    {
     "name": "stdout",
     "output_type": "stream",
     "text": [
      "{'Model': 'AdaBoostRegressor', 'R-Squared': 0.11951398275585512, 'Adjusted R-Squared': 0.11496731350726541, 'RMSE': 148.32596671558773, 'Time taken': 0.9390995502471924}\n"
     ]
    },
    {
     "name": "stderr",
     "output_type": "stream",
     "text": [
      "  7%|█████▉                                                                             | 3/42 [00:02<00:32,  1.21it/s]"
     ]
    },
    {
     "name": "stdout",
     "output_type": "stream",
     "text": [
      "{'Model': 'BaggingRegressor', 'R-Squared': 0.883198461036519, 'Adjusted R-Squared': 0.8825953191864583, 'RMSE': 54.0231916402976, 'Time taken': 1.737999439239502}\n",
      "{'Model': 'BayesianRidge', 'R-Squared': 0.016954023854418576, 'Adjusted R-Squared': 0.011877753678453229, 'RMSE': 156.72665721884587, 'Time taken': 0.1269996166229248}\n"
     ]
    },
    {
     "name": "stderr",
     "output_type": "stream",
     "text": [
      " 14%|███████████▊                                                                       | 6/42 [00:03<00:12,  2.94it/s]"
     ]
    },
    {
     "name": "stdout",
     "output_type": "stream",
     "text": [
      "{'Model': 'DecisionTreeRegressor', 'R-Squared': 0.8129080435696533, 'Adjusted R-Squared': 0.8119419348202801, 'RMSE': 68.37282338929582, 'Time taken': 0.32084035873413086}\n",
      "{'Model': 'DummyRegressor', 'R-Squared': -0.00035584667892929467, 'Adjusted R-Squared': -0.005521501870113132, 'RMSE': 158.1004889993646, 'Time taken': 0.061963796615600586}\n",
      "{'Model': 'ElasticNet', 'R-Squared': 0.013369005246233967, 'Adjusted R-Squared': 0.008274222687854604, 'RMSE': 157.01217624156013, 'Time taken': 0.10863113403320312}\n"
     ]
    },
    {
     "name": "stderr",
     "output_type": "stream",
     "text": [
      " 19%|███████████████▊                                                                   | 8/42 [00:04<00:13,  2.44it/s]"
     ]
    },
    {
     "name": "stdout",
     "output_type": "stream",
     "text": [
      "{'Model': 'ElasticNetCV', 'R-Squared': 0.017362691412113218, 'Adjusted R-Squared': 0.012288531520900925, 'RMSE': 156.69407697350522, 'Time taken': 0.9368021488189697}\n",
      "{'Model': 'ExtraTreeRegressor', 'R-Squared': 0.7490987628790684, 'Adjusted R-Squared': 0.7478031546389496, 'RMSE': 79.17851589353039, 'Time taken': 0.16990327835083008}\n"
     ]
    },
    {
     "name": "stderr",
     "output_type": "stream",
     "text": [
      " 19%|███████████████▊                                                                   | 8/42 [00:09<00:40,  1.20s/it]\n"
     ]
    },
    {
     "ename": "KeyboardInterrupt",
     "evalue": "",
     "output_type": "error",
     "traceback": [
      "\u001b[1;31m---------------------------------------------------------------------------\u001b[0m",
      "\u001b[1;31mKeyboardInterrupt\u001b[0m                         Traceback (most recent call last)",
      "Input \u001b[1;32mIn [202]\u001b[0m, in \u001b[0;36m<cell line: 2>\u001b[1;34m()\u001b[0m\n\u001b[0;32m      1\u001b[0m reg \u001b[38;5;241m=\u001b[39m LazyRegressor(verbose\u001b[38;5;241m=\u001b[39m\u001b[38;5;241m1\u001b[39m,ignore_warnings\u001b[38;5;241m=\u001b[39m\u001b[38;5;28;01mFalse\u001b[39;00m, custom_metric\u001b[38;5;241m=\u001b[39m\u001b[38;5;28;01mNone\u001b[39;00m)\n\u001b[1;32m----> 2\u001b[0m models,predictions \u001b[38;5;241m=\u001b[39m \u001b[43mreg\u001b[49m\u001b[38;5;241;43m.\u001b[39;49m\u001b[43mfit\u001b[49m\u001b[43m(\u001b[49m\u001b[43mX_train_transformed\u001b[49m\u001b[43m,\u001b[49m\u001b[43m \u001b[49m\u001b[43mX_test_transformed\u001b[49m\u001b[43m,\u001b[49m\u001b[43m \u001b[49m\u001b[43my_train\u001b[49m\u001b[43m,\u001b[49m\u001b[43m \u001b[49m\u001b[43my_test\u001b[49m\u001b[43m)\u001b[49m\n",
      "File \u001b[1;32m~\\anaconda3\\lib\\site-packages\\lazypredict\\Supervised.py:603\u001b[0m, in \u001b[0;36mLazyRegressor.fit\u001b[1;34m(self, X_train, X_test, y_train, y_test)\u001b[0m\n\u001b[0;32m    598\u001b[0m \u001b[38;5;28;01melse\u001b[39;00m:\n\u001b[0;32m    599\u001b[0m     pipe \u001b[38;5;241m=\u001b[39m Pipeline(\n\u001b[0;32m    600\u001b[0m         steps\u001b[38;5;241m=\u001b[39m[(\u001b[38;5;124m\"\u001b[39m\u001b[38;5;124mpreprocessor\u001b[39m\u001b[38;5;124m\"\u001b[39m, preprocessor), (\u001b[38;5;124m\"\u001b[39m\u001b[38;5;124mregressor\u001b[39m\u001b[38;5;124m\"\u001b[39m, model())]\n\u001b[0;32m    601\u001b[0m     )\n\u001b[1;32m--> 603\u001b[0m \u001b[43mpipe\u001b[49m\u001b[38;5;241;43m.\u001b[39;49m\u001b[43mfit\u001b[49m\u001b[43m(\u001b[49m\u001b[43mX_train\u001b[49m\u001b[43m,\u001b[49m\u001b[43m \u001b[49m\u001b[43my_train\u001b[49m\u001b[43m)\u001b[49m\n\u001b[0;32m    604\u001b[0m \u001b[38;5;28mself\u001b[39m\u001b[38;5;241m.\u001b[39mmodels[name] \u001b[38;5;241m=\u001b[39m pipe\n\u001b[0;32m    605\u001b[0m y_pred \u001b[38;5;241m=\u001b[39m pipe\u001b[38;5;241m.\u001b[39mpredict(X_test)\n",
      "File \u001b[1;32m~\\anaconda3\\lib\\site-packages\\sklearn\\pipeline.py:394\u001b[0m, in \u001b[0;36mPipeline.fit\u001b[1;34m(self, X, y, **fit_params)\u001b[0m\n\u001b[0;32m    392\u001b[0m     \u001b[38;5;28;01mif\u001b[39;00m \u001b[38;5;28mself\u001b[39m\u001b[38;5;241m.\u001b[39m_final_estimator \u001b[38;5;241m!=\u001b[39m \u001b[38;5;124m\"\u001b[39m\u001b[38;5;124mpassthrough\u001b[39m\u001b[38;5;124m\"\u001b[39m:\n\u001b[0;32m    393\u001b[0m         fit_params_last_step \u001b[38;5;241m=\u001b[39m fit_params_steps[\u001b[38;5;28mself\u001b[39m\u001b[38;5;241m.\u001b[39msteps[\u001b[38;5;241m-\u001b[39m\u001b[38;5;241m1\u001b[39m][\u001b[38;5;241m0\u001b[39m]]\n\u001b[1;32m--> 394\u001b[0m         \u001b[38;5;28mself\u001b[39m\u001b[38;5;241m.\u001b[39m_final_estimator\u001b[38;5;241m.\u001b[39mfit(Xt, y, \u001b[38;5;241m*\u001b[39m\u001b[38;5;241m*\u001b[39mfit_params_last_step)\n\u001b[0;32m    396\u001b[0m \u001b[38;5;28;01mreturn\u001b[39;00m \u001b[38;5;28mself\u001b[39m\n",
      "File \u001b[1;32m~\\anaconda3\\lib\\site-packages\\sklearn\\ensemble\\_forest.py:450\u001b[0m, in \u001b[0;36mBaseForest.fit\u001b[1;34m(self, X, y, sample_weight)\u001b[0m\n\u001b[0;32m    439\u001b[0m trees \u001b[38;5;241m=\u001b[39m [\n\u001b[0;32m    440\u001b[0m     \u001b[38;5;28mself\u001b[39m\u001b[38;5;241m.\u001b[39m_make_estimator(append\u001b[38;5;241m=\u001b[39m\u001b[38;5;28;01mFalse\u001b[39;00m, random_state\u001b[38;5;241m=\u001b[39mrandom_state)\n\u001b[0;32m    441\u001b[0m     \u001b[38;5;28;01mfor\u001b[39;00m i \u001b[38;5;129;01min\u001b[39;00m \u001b[38;5;28mrange\u001b[39m(n_more_estimators)\n\u001b[0;32m    442\u001b[0m ]\n\u001b[0;32m    444\u001b[0m \u001b[38;5;66;03m# Parallel loop: we prefer the threading backend as the Cython code\u001b[39;00m\n\u001b[0;32m    445\u001b[0m \u001b[38;5;66;03m# for fitting the trees is internally releasing the Python GIL\u001b[39;00m\n\u001b[0;32m    446\u001b[0m \u001b[38;5;66;03m# making threading more efficient than multiprocessing in\u001b[39;00m\n\u001b[0;32m    447\u001b[0m \u001b[38;5;66;03m# that case. However, for joblib 0.12+ we respect any\u001b[39;00m\n\u001b[0;32m    448\u001b[0m \u001b[38;5;66;03m# parallel_backend contexts set at a higher level,\u001b[39;00m\n\u001b[0;32m    449\u001b[0m \u001b[38;5;66;03m# since correctness does not rely on using threads.\u001b[39;00m\n\u001b[1;32m--> 450\u001b[0m trees \u001b[38;5;241m=\u001b[39m \u001b[43mParallel\u001b[49m\u001b[43m(\u001b[49m\n\u001b[0;32m    451\u001b[0m \u001b[43m    \u001b[49m\u001b[43mn_jobs\u001b[49m\u001b[38;5;241;43m=\u001b[39;49m\u001b[38;5;28;43mself\u001b[39;49m\u001b[38;5;241;43m.\u001b[39;49m\u001b[43mn_jobs\u001b[49m\u001b[43m,\u001b[49m\n\u001b[0;32m    452\u001b[0m \u001b[43m    \u001b[49m\u001b[43mverbose\u001b[49m\u001b[38;5;241;43m=\u001b[39;49m\u001b[38;5;28;43mself\u001b[39;49m\u001b[38;5;241;43m.\u001b[39;49m\u001b[43mverbose\u001b[49m\u001b[43m,\u001b[49m\n\u001b[0;32m    453\u001b[0m \u001b[43m    \u001b[49m\u001b[38;5;241;43m*\u001b[39;49m\u001b[38;5;241;43m*\u001b[39;49m\u001b[43m_joblib_parallel_args\u001b[49m\u001b[43m(\u001b[49m\u001b[43mprefer\u001b[49m\u001b[38;5;241;43m=\u001b[39;49m\u001b[38;5;124;43m\"\u001b[39;49m\u001b[38;5;124;43mthreads\u001b[39;49m\u001b[38;5;124;43m\"\u001b[39;49m\u001b[43m)\u001b[49m\u001b[43m,\u001b[49m\n\u001b[0;32m    454\u001b[0m \u001b[43m\u001b[49m\u001b[43m)\u001b[49m\u001b[43m(\u001b[49m\n\u001b[0;32m    455\u001b[0m \u001b[43m    \u001b[49m\u001b[43mdelayed\u001b[49m\u001b[43m(\u001b[49m\u001b[43m_parallel_build_trees\u001b[49m\u001b[43m)\u001b[49m\u001b[43m(\u001b[49m\n\u001b[0;32m    456\u001b[0m \u001b[43m        \u001b[49m\u001b[43mt\u001b[49m\u001b[43m,\u001b[49m\n\u001b[0;32m    457\u001b[0m \u001b[43m        \u001b[49m\u001b[38;5;28;43mself\u001b[39;49m\u001b[43m,\u001b[49m\n\u001b[0;32m    458\u001b[0m \u001b[43m        \u001b[49m\u001b[43mX\u001b[49m\u001b[43m,\u001b[49m\n\u001b[0;32m    459\u001b[0m \u001b[43m        \u001b[49m\u001b[43my\u001b[49m\u001b[43m,\u001b[49m\n\u001b[0;32m    460\u001b[0m \u001b[43m        \u001b[49m\u001b[43msample_weight\u001b[49m\u001b[43m,\u001b[49m\n\u001b[0;32m    461\u001b[0m \u001b[43m        \u001b[49m\u001b[43mi\u001b[49m\u001b[43m,\u001b[49m\n\u001b[0;32m    462\u001b[0m \u001b[43m        \u001b[49m\u001b[38;5;28;43mlen\u001b[39;49m\u001b[43m(\u001b[49m\u001b[43mtrees\u001b[49m\u001b[43m)\u001b[49m\u001b[43m,\u001b[49m\n\u001b[0;32m    463\u001b[0m \u001b[43m        \u001b[49m\u001b[43mverbose\u001b[49m\u001b[38;5;241;43m=\u001b[39;49m\u001b[38;5;28;43mself\u001b[39;49m\u001b[38;5;241;43m.\u001b[39;49m\u001b[43mverbose\u001b[49m\u001b[43m,\u001b[49m\n\u001b[0;32m    464\u001b[0m \u001b[43m        \u001b[49m\u001b[43mclass_weight\u001b[49m\u001b[38;5;241;43m=\u001b[39;49m\u001b[38;5;28;43mself\u001b[39;49m\u001b[38;5;241;43m.\u001b[39;49m\u001b[43mclass_weight\u001b[49m\u001b[43m,\u001b[49m\n\u001b[0;32m    465\u001b[0m \u001b[43m        \u001b[49m\u001b[43mn_samples_bootstrap\u001b[49m\u001b[38;5;241;43m=\u001b[39;49m\u001b[43mn_samples_bootstrap\u001b[49m\u001b[43m,\u001b[49m\n\u001b[0;32m    466\u001b[0m \u001b[43m    \u001b[49m\u001b[43m)\u001b[49m\n\u001b[0;32m    467\u001b[0m \u001b[43m    \u001b[49m\u001b[38;5;28;43;01mfor\u001b[39;49;00m\u001b[43m \u001b[49m\u001b[43mi\u001b[49m\u001b[43m,\u001b[49m\u001b[43m \u001b[49m\u001b[43mt\u001b[49m\u001b[43m \u001b[49m\u001b[38;5;129;43;01min\u001b[39;49;00m\u001b[43m \u001b[49m\u001b[38;5;28;43menumerate\u001b[39;49m\u001b[43m(\u001b[49m\u001b[43mtrees\u001b[49m\u001b[43m)\u001b[49m\n\u001b[0;32m    468\u001b[0m \u001b[43m\u001b[49m\u001b[43m)\u001b[49m\n\u001b[0;32m    470\u001b[0m \u001b[38;5;66;03m# Collect newly grown trees\u001b[39;00m\n\u001b[0;32m    471\u001b[0m \u001b[38;5;28mself\u001b[39m\u001b[38;5;241m.\u001b[39mestimators_\u001b[38;5;241m.\u001b[39mextend(trees)\n",
      "File \u001b[1;32m~\\anaconda3\\lib\\site-packages\\joblib\\parallel.py:1046\u001b[0m, in \u001b[0;36mParallel.__call__\u001b[1;34m(self, iterable)\u001b[0m\n\u001b[0;32m   1043\u001b[0m \u001b[38;5;28;01mif\u001b[39;00m \u001b[38;5;28mself\u001b[39m\u001b[38;5;241m.\u001b[39mdispatch_one_batch(iterator):\n\u001b[0;32m   1044\u001b[0m     \u001b[38;5;28mself\u001b[39m\u001b[38;5;241m.\u001b[39m_iterating \u001b[38;5;241m=\u001b[39m \u001b[38;5;28mself\u001b[39m\u001b[38;5;241m.\u001b[39m_original_iterator \u001b[38;5;129;01mis\u001b[39;00m \u001b[38;5;129;01mnot\u001b[39;00m \u001b[38;5;28;01mNone\u001b[39;00m\n\u001b[1;32m-> 1046\u001b[0m \u001b[38;5;28;01mwhile\u001b[39;00m \u001b[38;5;28;43mself\u001b[39;49m\u001b[38;5;241;43m.\u001b[39;49m\u001b[43mdispatch_one_batch\u001b[49m\u001b[43m(\u001b[49m\u001b[43miterator\u001b[49m\u001b[43m)\u001b[49m:\n\u001b[0;32m   1047\u001b[0m     \u001b[38;5;28;01mpass\u001b[39;00m\n\u001b[0;32m   1049\u001b[0m \u001b[38;5;28;01mif\u001b[39;00m pre_dispatch \u001b[38;5;241m==\u001b[39m \u001b[38;5;124m\"\u001b[39m\u001b[38;5;124mall\u001b[39m\u001b[38;5;124m\"\u001b[39m \u001b[38;5;129;01mor\u001b[39;00m n_jobs \u001b[38;5;241m==\u001b[39m \u001b[38;5;241m1\u001b[39m:\n\u001b[0;32m   1050\u001b[0m     \u001b[38;5;66;03m# The iterable was consumed all at once by the above for loop.\u001b[39;00m\n\u001b[0;32m   1051\u001b[0m     \u001b[38;5;66;03m# No need to wait for async callbacks to trigger to\u001b[39;00m\n\u001b[0;32m   1052\u001b[0m     \u001b[38;5;66;03m# consumption.\u001b[39;00m\n",
      "File \u001b[1;32m~\\anaconda3\\lib\\site-packages\\joblib\\parallel.py:861\u001b[0m, in \u001b[0;36mParallel.dispatch_one_batch\u001b[1;34m(self, iterator)\u001b[0m\n\u001b[0;32m    859\u001b[0m     \u001b[38;5;28;01mreturn\u001b[39;00m \u001b[38;5;28;01mFalse\u001b[39;00m\n\u001b[0;32m    860\u001b[0m \u001b[38;5;28;01melse\u001b[39;00m:\n\u001b[1;32m--> 861\u001b[0m     \u001b[38;5;28;43mself\u001b[39;49m\u001b[38;5;241;43m.\u001b[39;49m\u001b[43m_dispatch\u001b[49m\u001b[43m(\u001b[49m\u001b[43mtasks\u001b[49m\u001b[43m)\u001b[49m\n\u001b[0;32m    862\u001b[0m     \u001b[38;5;28;01mreturn\u001b[39;00m \u001b[38;5;28;01mTrue\u001b[39;00m\n",
      "File \u001b[1;32m~\\anaconda3\\lib\\site-packages\\joblib\\parallel.py:779\u001b[0m, in \u001b[0;36mParallel._dispatch\u001b[1;34m(self, batch)\u001b[0m\n\u001b[0;32m    777\u001b[0m \u001b[38;5;28;01mwith\u001b[39;00m \u001b[38;5;28mself\u001b[39m\u001b[38;5;241m.\u001b[39m_lock:\n\u001b[0;32m    778\u001b[0m     job_idx \u001b[38;5;241m=\u001b[39m \u001b[38;5;28mlen\u001b[39m(\u001b[38;5;28mself\u001b[39m\u001b[38;5;241m.\u001b[39m_jobs)\n\u001b[1;32m--> 779\u001b[0m     job \u001b[38;5;241m=\u001b[39m \u001b[38;5;28;43mself\u001b[39;49m\u001b[38;5;241;43m.\u001b[39;49m\u001b[43m_backend\u001b[49m\u001b[38;5;241;43m.\u001b[39;49m\u001b[43mapply_async\u001b[49m\u001b[43m(\u001b[49m\u001b[43mbatch\u001b[49m\u001b[43m,\u001b[49m\u001b[43m \u001b[49m\u001b[43mcallback\u001b[49m\u001b[38;5;241;43m=\u001b[39;49m\u001b[43mcb\u001b[49m\u001b[43m)\u001b[49m\n\u001b[0;32m    780\u001b[0m     \u001b[38;5;66;03m# A job can complete so quickly than its callback is\u001b[39;00m\n\u001b[0;32m    781\u001b[0m     \u001b[38;5;66;03m# called before we get here, causing self._jobs to\u001b[39;00m\n\u001b[0;32m    782\u001b[0m     \u001b[38;5;66;03m# grow. To ensure correct results ordering, .insert is\u001b[39;00m\n\u001b[0;32m    783\u001b[0m     \u001b[38;5;66;03m# used (rather than .append) in the following line\u001b[39;00m\n\u001b[0;32m    784\u001b[0m     \u001b[38;5;28mself\u001b[39m\u001b[38;5;241m.\u001b[39m_jobs\u001b[38;5;241m.\u001b[39minsert(job_idx, job)\n",
      "File \u001b[1;32m~\\anaconda3\\lib\\site-packages\\joblib\\_parallel_backends.py:208\u001b[0m, in \u001b[0;36mSequentialBackend.apply_async\u001b[1;34m(self, func, callback)\u001b[0m\n\u001b[0;32m    206\u001b[0m \u001b[38;5;28;01mdef\u001b[39;00m \u001b[38;5;21mapply_async\u001b[39m(\u001b[38;5;28mself\u001b[39m, func, callback\u001b[38;5;241m=\u001b[39m\u001b[38;5;28;01mNone\u001b[39;00m):\n\u001b[0;32m    207\u001b[0m     \u001b[38;5;124;03m\"\"\"Schedule a func to be run\"\"\"\u001b[39;00m\n\u001b[1;32m--> 208\u001b[0m     result \u001b[38;5;241m=\u001b[39m \u001b[43mImmediateResult\u001b[49m\u001b[43m(\u001b[49m\u001b[43mfunc\u001b[49m\u001b[43m)\u001b[49m\n\u001b[0;32m    209\u001b[0m     \u001b[38;5;28;01mif\u001b[39;00m callback:\n\u001b[0;32m    210\u001b[0m         callback(result)\n",
      "File \u001b[1;32m~\\anaconda3\\lib\\site-packages\\joblib\\_parallel_backends.py:572\u001b[0m, in \u001b[0;36mImmediateResult.__init__\u001b[1;34m(self, batch)\u001b[0m\n\u001b[0;32m    569\u001b[0m \u001b[38;5;28;01mdef\u001b[39;00m \u001b[38;5;21m__init__\u001b[39m(\u001b[38;5;28mself\u001b[39m, batch):\n\u001b[0;32m    570\u001b[0m     \u001b[38;5;66;03m# Don't delay the application, to avoid keeping the input\u001b[39;00m\n\u001b[0;32m    571\u001b[0m     \u001b[38;5;66;03m# arguments in memory\u001b[39;00m\n\u001b[1;32m--> 572\u001b[0m     \u001b[38;5;28mself\u001b[39m\u001b[38;5;241m.\u001b[39mresults \u001b[38;5;241m=\u001b[39m \u001b[43mbatch\u001b[49m\u001b[43m(\u001b[49m\u001b[43m)\u001b[49m\n",
      "File \u001b[1;32m~\\anaconda3\\lib\\site-packages\\joblib\\parallel.py:262\u001b[0m, in \u001b[0;36mBatchedCalls.__call__\u001b[1;34m(self)\u001b[0m\n\u001b[0;32m    258\u001b[0m \u001b[38;5;28;01mdef\u001b[39;00m \u001b[38;5;21m__call__\u001b[39m(\u001b[38;5;28mself\u001b[39m):\n\u001b[0;32m    259\u001b[0m     \u001b[38;5;66;03m# Set the default nested backend to self._backend but do not set the\u001b[39;00m\n\u001b[0;32m    260\u001b[0m     \u001b[38;5;66;03m# change the default number of processes to -1\u001b[39;00m\n\u001b[0;32m    261\u001b[0m     \u001b[38;5;28;01mwith\u001b[39;00m parallel_backend(\u001b[38;5;28mself\u001b[39m\u001b[38;5;241m.\u001b[39m_backend, n_jobs\u001b[38;5;241m=\u001b[39m\u001b[38;5;28mself\u001b[39m\u001b[38;5;241m.\u001b[39m_n_jobs):\n\u001b[1;32m--> 262\u001b[0m         \u001b[38;5;28;01mreturn\u001b[39;00m [func(\u001b[38;5;241m*\u001b[39margs, \u001b[38;5;241m*\u001b[39m\u001b[38;5;241m*\u001b[39mkwargs)\n\u001b[0;32m    263\u001b[0m                 \u001b[38;5;28;01mfor\u001b[39;00m func, args, kwargs \u001b[38;5;129;01min\u001b[39;00m \u001b[38;5;28mself\u001b[39m\u001b[38;5;241m.\u001b[39mitems]\n",
      "File \u001b[1;32m~\\anaconda3\\lib\\site-packages\\joblib\\parallel.py:262\u001b[0m, in \u001b[0;36m<listcomp>\u001b[1;34m(.0)\u001b[0m\n\u001b[0;32m    258\u001b[0m \u001b[38;5;28;01mdef\u001b[39;00m \u001b[38;5;21m__call__\u001b[39m(\u001b[38;5;28mself\u001b[39m):\n\u001b[0;32m    259\u001b[0m     \u001b[38;5;66;03m# Set the default nested backend to self._backend but do not set the\u001b[39;00m\n\u001b[0;32m    260\u001b[0m     \u001b[38;5;66;03m# change the default number of processes to -1\u001b[39;00m\n\u001b[0;32m    261\u001b[0m     \u001b[38;5;28;01mwith\u001b[39;00m parallel_backend(\u001b[38;5;28mself\u001b[39m\u001b[38;5;241m.\u001b[39m_backend, n_jobs\u001b[38;5;241m=\u001b[39m\u001b[38;5;28mself\u001b[39m\u001b[38;5;241m.\u001b[39m_n_jobs):\n\u001b[1;32m--> 262\u001b[0m         \u001b[38;5;28;01mreturn\u001b[39;00m [func(\u001b[38;5;241m*\u001b[39margs, \u001b[38;5;241m*\u001b[39m\u001b[38;5;241m*\u001b[39mkwargs)\n\u001b[0;32m    263\u001b[0m                 \u001b[38;5;28;01mfor\u001b[39;00m func, args, kwargs \u001b[38;5;129;01min\u001b[39;00m \u001b[38;5;28mself\u001b[39m\u001b[38;5;241m.\u001b[39mitems]\n",
      "File \u001b[1;32m~\\anaconda3\\lib\\site-packages\\sklearn\\utils\\fixes.py:216\u001b[0m, in \u001b[0;36m_FuncWrapper.__call__\u001b[1;34m(self, *args, **kwargs)\u001b[0m\n\u001b[0;32m    214\u001b[0m \u001b[38;5;28;01mdef\u001b[39;00m \u001b[38;5;21m__call__\u001b[39m(\u001b[38;5;28mself\u001b[39m, \u001b[38;5;241m*\u001b[39margs, \u001b[38;5;241m*\u001b[39m\u001b[38;5;241m*\u001b[39mkwargs):\n\u001b[0;32m    215\u001b[0m     \u001b[38;5;28;01mwith\u001b[39;00m config_context(\u001b[38;5;241m*\u001b[39m\u001b[38;5;241m*\u001b[39m\u001b[38;5;28mself\u001b[39m\u001b[38;5;241m.\u001b[39mconfig):\n\u001b[1;32m--> 216\u001b[0m         \u001b[38;5;28;01mreturn\u001b[39;00m \u001b[38;5;28mself\u001b[39m\u001b[38;5;241m.\u001b[39mfunction(\u001b[38;5;241m*\u001b[39margs, \u001b[38;5;241m*\u001b[39m\u001b[38;5;241m*\u001b[39mkwargs)\n",
      "File \u001b[1;32m~\\anaconda3\\lib\\site-packages\\sklearn\\ensemble\\_forest.py:187\u001b[0m, in \u001b[0;36m_parallel_build_trees\u001b[1;34m(tree, forest, X, y, sample_weight, tree_idx, n_trees, verbose, class_weight, n_samples_bootstrap)\u001b[0m\n\u001b[0;32m    185\u001b[0m     tree\u001b[38;5;241m.\u001b[39mfit(X, y, sample_weight\u001b[38;5;241m=\u001b[39mcurr_sample_weight, check_input\u001b[38;5;241m=\u001b[39m\u001b[38;5;28;01mFalse\u001b[39;00m)\n\u001b[0;32m    186\u001b[0m \u001b[38;5;28;01melse\u001b[39;00m:\n\u001b[1;32m--> 187\u001b[0m     \u001b[43mtree\u001b[49m\u001b[38;5;241;43m.\u001b[39;49m\u001b[43mfit\u001b[49m\u001b[43m(\u001b[49m\u001b[43mX\u001b[49m\u001b[43m,\u001b[49m\u001b[43m \u001b[49m\u001b[43my\u001b[49m\u001b[43m,\u001b[49m\u001b[43m \u001b[49m\u001b[43msample_weight\u001b[49m\u001b[38;5;241;43m=\u001b[39;49m\u001b[43msample_weight\u001b[49m\u001b[43m,\u001b[49m\u001b[43m \u001b[49m\u001b[43mcheck_input\u001b[49m\u001b[38;5;241;43m=\u001b[39;49m\u001b[38;5;28;43;01mFalse\u001b[39;49;00m\u001b[43m)\u001b[49m\n\u001b[0;32m    189\u001b[0m \u001b[38;5;28;01mreturn\u001b[39;00m tree\n",
      "File \u001b[1;32m~\\anaconda3\\lib\\site-packages\\sklearn\\tree\\_classes.py:1315\u001b[0m, in \u001b[0;36mDecisionTreeRegressor.fit\u001b[1;34m(self, X, y, sample_weight, check_input, X_idx_sorted)\u001b[0m\n\u001b[0;32m   1278\u001b[0m \u001b[38;5;28;01mdef\u001b[39;00m \u001b[38;5;21mfit\u001b[39m(\n\u001b[0;32m   1279\u001b[0m     \u001b[38;5;28mself\u001b[39m, X, y, sample_weight\u001b[38;5;241m=\u001b[39m\u001b[38;5;28;01mNone\u001b[39;00m, check_input\u001b[38;5;241m=\u001b[39m\u001b[38;5;28;01mTrue\u001b[39;00m, X_idx_sorted\u001b[38;5;241m=\u001b[39m\u001b[38;5;124m\"\u001b[39m\u001b[38;5;124mdeprecated\u001b[39m\u001b[38;5;124m\"\u001b[39m\n\u001b[0;32m   1280\u001b[0m ):\n\u001b[0;32m   1281\u001b[0m     \u001b[38;5;124;03m\"\"\"Build a decision tree regressor from the training set (X, y).\u001b[39;00m\n\u001b[0;32m   1282\u001b[0m \n\u001b[0;32m   1283\u001b[0m \u001b[38;5;124;03m    Parameters\u001b[39;00m\n\u001b[1;32m   (...)\u001b[0m\n\u001b[0;32m   1312\u001b[0m \u001b[38;5;124;03m        Fitted estimator.\u001b[39;00m\n\u001b[0;32m   1313\u001b[0m \u001b[38;5;124;03m    \"\"\"\u001b[39;00m\n\u001b[1;32m-> 1315\u001b[0m     \u001b[38;5;28;43msuper\u001b[39;49m\u001b[43m(\u001b[49m\u001b[43m)\u001b[49m\u001b[38;5;241;43m.\u001b[39;49m\u001b[43mfit\u001b[49m\u001b[43m(\u001b[49m\n\u001b[0;32m   1316\u001b[0m \u001b[43m        \u001b[49m\u001b[43mX\u001b[49m\u001b[43m,\u001b[49m\n\u001b[0;32m   1317\u001b[0m \u001b[43m        \u001b[49m\u001b[43my\u001b[49m\u001b[43m,\u001b[49m\n\u001b[0;32m   1318\u001b[0m \u001b[43m        \u001b[49m\u001b[43msample_weight\u001b[49m\u001b[38;5;241;43m=\u001b[39;49m\u001b[43msample_weight\u001b[49m\u001b[43m,\u001b[49m\n\u001b[0;32m   1319\u001b[0m \u001b[43m        \u001b[49m\u001b[43mcheck_input\u001b[49m\u001b[38;5;241;43m=\u001b[39;49m\u001b[43mcheck_input\u001b[49m\u001b[43m,\u001b[49m\n\u001b[0;32m   1320\u001b[0m \u001b[43m        \u001b[49m\u001b[43mX_idx_sorted\u001b[49m\u001b[38;5;241;43m=\u001b[39;49m\u001b[43mX_idx_sorted\u001b[49m\u001b[43m,\u001b[49m\n\u001b[0;32m   1321\u001b[0m \u001b[43m    \u001b[49m\u001b[43m)\u001b[49m\n\u001b[0;32m   1322\u001b[0m     \u001b[38;5;28;01mreturn\u001b[39;00m \u001b[38;5;28mself\u001b[39m\n",
      "File \u001b[1;32m~\\anaconda3\\lib\\site-packages\\sklearn\\tree\\_classes.py:420\u001b[0m, in \u001b[0;36mBaseDecisionTree.fit\u001b[1;34m(self, X, y, sample_weight, check_input, X_idx_sorted)\u001b[0m\n\u001b[0;32m    409\u001b[0m \u001b[38;5;28;01melse\u001b[39;00m:\n\u001b[0;32m    410\u001b[0m     builder \u001b[38;5;241m=\u001b[39m BestFirstTreeBuilder(\n\u001b[0;32m    411\u001b[0m         splitter,\n\u001b[0;32m    412\u001b[0m         min_samples_split,\n\u001b[1;32m   (...)\u001b[0m\n\u001b[0;32m    417\u001b[0m         \u001b[38;5;28mself\u001b[39m\u001b[38;5;241m.\u001b[39mmin_impurity_decrease,\n\u001b[0;32m    418\u001b[0m     )\n\u001b[1;32m--> 420\u001b[0m \u001b[43mbuilder\u001b[49m\u001b[38;5;241;43m.\u001b[39;49m\u001b[43mbuild\u001b[49m\u001b[43m(\u001b[49m\u001b[38;5;28;43mself\u001b[39;49m\u001b[38;5;241;43m.\u001b[39;49m\u001b[43mtree_\u001b[49m\u001b[43m,\u001b[49m\u001b[43m \u001b[49m\u001b[43mX\u001b[49m\u001b[43m,\u001b[49m\u001b[43m \u001b[49m\u001b[43my\u001b[49m\u001b[43m,\u001b[49m\u001b[43m \u001b[49m\u001b[43msample_weight\u001b[49m\u001b[43m)\u001b[49m\n\u001b[0;32m    422\u001b[0m \u001b[38;5;28;01mif\u001b[39;00m \u001b[38;5;28mself\u001b[39m\u001b[38;5;241m.\u001b[39mn_outputs_ \u001b[38;5;241m==\u001b[39m \u001b[38;5;241m1\u001b[39m \u001b[38;5;129;01mand\u001b[39;00m is_classifier(\u001b[38;5;28mself\u001b[39m):\n\u001b[0;32m    423\u001b[0m     \u001b[38;5;28mself\u001b[39m\u001b[38;5;241m.\u001b[39mn_classes_ \u001b[38;5;241m=\u001b[39m \u001b[38;5;28mself\u001b[39m\u001b[38;5;241m.\u001b[39mn_classes_[\u001b[38;5;241m0\u001b[39m]\n",
      "\u001b[1;31mKeyboardInterrupt\u001b[0m: "
     ]
    }
   ],
   "source": [
    "reg = LazyRegressor(verbose=1,ignore_warnings=False, custom_metric=None)\n",
    "models,predictions = reg.fit(X_train_transformed, X_test_transformed, y_train, y_test)"
   ]
  },
  {
   "cell_type": "code",
   "execution_count": null,
   "id": "2361b879",
   "metadata": {},
   "outputs": [],
   "source": [
    "print(models)"
   ]
  },
  {
   "cell_type": "markdown",
   "id": "23acb3cb",
   "metadata": {},
   "source": [
    "## ExtraTreesRegressor"
   ]
  },
  {
   "cell_type": "code",
   "execution_count": null,
   "id": "f8c20f68",
   "metadata": {},
   "outputs": [],
   "source": [
    "# GridSearch for ExtraTree Regressor\n",
    "params = {\n",
    "    'n_estimators': range(100, 501, 100),\n",
    "    'max_depth': [2, 8, 16, 32, 64],\n",
    "    'min_samples_split': [2,4],\n",
    "    'min_samples_leaf': [1,2],\n",
    "}\n",
    "\n",
    "GS_EXTRA = GridSearchCV(\n",
    "    ExtraTreesRegressor(random_state=42, n_jobs=-1),\n",
    "    param_grid=params,\n",
    "    cv=3,\n",
    "    n_jobs=-1,\n",
    "    verbose=1\n",
    ")\n",
    "\n",
    "GS_EXTRA.fit(X_train_transformed, y_train)"
   ]
  },
  {
   "cell_type": "code",
   "execution_count": null,
   "id": "771c68ed",
   "metadata": {},
   "outputs": [],
   "source": [
    "GS_EXTRA.best_params_"
   ]
  },
  {
   "cell_type": "code",
   "execution_count": null,
   "id": "f39f8d26",
   "metadata": {},
   "outputs": [],
   "source": [
    "EXTRA = GS_EXTRA.best_estimator_\n",
    "EXTRA"
   ]
  },
  {
   "cell_type": "markdown",
   "id": "02bf1c02",
   "metadata": {},
   "source": [
    "## RandomForestRegressor"
   ]
  },
  {
   "cell_type": "code",
   "execution_count": 15,
   "id": "44854899",
   "metadata": {},
   "outputs": [
    {
     "name": "stdout",
     "output_type": "stream",
     "text": [
      "Fitting 3 folds for each of 450 candidates, totalling 1350 fits\n"
     ]
    },
    {
     "data": {
      "text/plain": [
       "GridSearchCV(cv=3, estimator=RandomForestRegressor(n_jobs=-1, random_state=42),\n",
       "             n_jobs=-1,\n",
       "             param_grid={'max_depth': [2, 8, 16, 32, 64],\n",
       "                         'max_features': ['sqrt', 'log2'],\n",
       "                         'min_samples_leaf': [1, 2, 3],\n",
       "                         'min_samples_split': [2, 4, 6],\n",
       "                         'n_estimators': range(100, 501, 100)},\n",
       "             verbose=1)"
      ]
     },
     "execution_count": 15,
     "metadata": {},
     "output_type": "execute_result"
    }
   ],
   "source": [
    "# GridSearch for RandomForest Regressor\n",
    "params = {\n",
    "    'n_estimators': range(100, 501, 100),\n",
    "    'max_depth': [2, 8, 16, 32, 64],\n",
    "    'min_samples_split': [2,4,6],\n",
    "    'min_samples_leaf': [1,2,3],\n",
    "    # 'max_features': [\"sqrt\", \"log2\"] add 1 is the default\n",
    "}\n",
    "\n",
    "GS_RF = GridSearchCV(\n",
    "    RandomForestRegressor(random_state=42, n_jobs=-1),\n",
    "    param_grid=params,\n",
    "    cv=3,\n",
    "    n_jobs=-1,\n",
    "    verbose=1\n",
    ")\n",
    "\n",
    "GS_RF.fit(X_train_transformed, y_train)"
   ]
  },
  {
   "cell_type": "code",
   "execution_count": 16,
   "id": "193d7475",
   "metadata": {},
   "outputs": [
    {
     "data": {
      "text/plain": [
       "{'max_depth': 32,\n",
       " 'max_features': 'sqrt',\n",
       " 'min_samples_leaf': 1,\n",
       " 'min_samples_split': 2,\n",
       " 'n_estimators': 500}"
      ]
     },
     "execution_count": 16,
     "metadata": {},
     "output_type": "execute_result"
    }
   ],
   "source": [
    "GS_RF.best_params_"
   ]
  },
  {
   "cell_type": "code",
   "execution_count": 19,
   "id": "9418c456",
   "metadata": {},
   "outputs": [
    {
     "data": {
      "text/plain": [
       "RandomForestRegressor(max_depth=32, max_features='sqrt', n_estimators=500,\n",
       "                      n_jobs=-1, random_state=42)"
      ]
     },
     "execution_count": 19,
     "metadata": {},
     "output_type": "execute_result"
    }
   ],
   "source": [
    "RF = GS_RF.best_estimator_\n",
    "RF"
   ]
  },
  {
   "cell_type": "markdown",
   "id": "cb52d014",
   "metadata": {},
   "source": [
    "## BaggingRegressor"
   ]
  },
  {
   "cell_type": "code",
   "execution_count": null,
   "id": "07d2d39c",
   "metadata": {},
   "outputs": [
    {
     "name": "stdout",
     "output_type": "stream",
     "text": [
      "Fitting 3 folds for each of 36 candidates, totalling 108 fits\n"
     ]
    }
   ],
   "source": [
    "# GridSearch for Bagging Regressor\n",
    "params = {\n",
    "    'n_estimators': range(100, 801, 20),\n",
    "}\n",
    "\n",
    "BAG_RF = GridSearchCV(\n",
    "    BaggingRegressor(random_state=42, n_jobs=-1),\n",
    "    param_grid=params,\n",
    "    cv=3,\n",
    "    n_jobs=-1,\n",
    "    verbose=1\n",
    ")\n",
    "\n",
    "BAG_RF.fit(X_train_transformed, y_train)"
   ]
  },
  {
   "cell_type": "code",
   "execution_count": null,
   "id": "624338bb",
   "metadata": {},
   "outputs": [],
   "source": [
    "BAG_RF.best_params_"
   ]
  },
  {
   "cell_type": "code",
   "execution_count": null,
   "id": "f2baa2ce",
   "metadata": {},
   "outputs": [],
   "source": [
    "BAG = BAG_RF.best_estimator_\n",
    "BAG"
   ]
  },
  {
   "cell_type": "code",
   "execution_count": null,
   "id": "ed7111c3",
   "metadata": {},
   "outputs": [],
   "source": []
  },
  {
   "cell_type": "markdown",
   "id": "879bab2d",
   "metadata": {},
   "source": [
    "## XGBRegressor"
   ]
  },
  {
   "cell_type": "code",
   "execution_count": 22,
   "id": "edd87f66",
   "metadata": {},
   "outputs": [
    {
     "data": {
      "text/plain": [
       "Pipeline(steps=[('columntransformer',\n",
       "                 ColumnTransformer(transformers=[('cat', OrdinalEncoder(),\n",
       "                                                  Index(['Promotion Name', 'Store Kind', 'Degree', 'Work', 'Store Code',\n",
       "       'Country ISO2', 'Order Brand', 'Order', 'Department', 'Income Level',\n",
       "       'Price Tier'],\n",
       "      dtype='object')),\n",
       "                                                 ('ohe', OneHotEncoder(),\n",
       "                                                  ['Marriage', 'Gender',\n",
       "                                                   'Is Recyclable?',\n",
       "                                                   'Income Level',\n",
       "                                                   'Price Tier']),\n",
       "                                                 ('num', Standar...\n",
       "                              feature_types=None, gamma=None, gpu_id=None,\n",
       "                              grow_policy=None, importance_type=None,\n",
       "                              interaction_constraints=None, learning_rate=0.1,\n",
       "                              max_bin=None, max_cat_threshold=None,\n",
       "                              max_cat_to_onehot=None, max_delta_step=None,\n",
       "                              max_depth=12, max_leaves=None,\n",
       "                              min_child_weight=None, min_split_loss=5,\n",
       "                              missing=nan, monotone_constraints=None,\n",
       "                              n_estimators=500, n_jobs=None,\n",
       "                              num_parallel_tree=None, predictor=None, ...))])"
      ]
     },
     "execution_count": 22,
     "metadata": {},
     "output_type": "execute_result"
    }
   ],
   "source": [
    "model = make_pipeline(preprocessor, XGBRegressor(n_estimators=500, learning_rate=0.1, max_depth=12, min_split_loss=5))\n",
    "model.fit(X_train, y_train)"
   ]
  },
  {
   "cell_type": "code",
   "execution_count": 23,
   "id": "d9745b79",
   "metadata": {},
   "outputs": [
    {
     "name": "stdout",
     "output_type": "stream",
     "text": [
      "Root Mean Squared Error: 52.29\n"
     ]
    }
   ],
   "source": [
    "y_pred = model.predict(X_test)\n",
    "rmse = mean_squared_error(y_test, y_pred, squared=False)\n",
    "print(f'Root Mean Squared Error: {rmse:.2f}')"
   ]
  },
  {
   "cell_type": "code",
   "execution_count": null,
   "id": "6a9c6b6f",
   "metadata": {},
   "outputs": [],
   "source": [
    "param_grid = {\n",
    "    'xgbregressor__learning_rate': [0.01, 0.1],\n",
    "    'xgbregressor__n_estimators': range(50, 501, 50),\n",
    "    'xgbregressor__max_depth': [2, 4, 8, 16, 32],\n",
    "    'xgbregressor__min_split_loss': range(0, 7, 2)\n",
    "    \n",
    "}\n",
    "\n",
    "\n",
    "grid_search = GridSearchCV(\n",
    "    model,\n",
    "    param_grid=param_grid,\n",
    "    cv=5,\n",
    "    n_jobs=-1,\n",
    "    verbose=1\n",
    ")\n",
    "\n",
    "grid_search.fit(X_train_transformed, y_train)"
   ]
  },
  {
   "cell_type": "code",
   "execution_count": null,
   "id": "e6fd6f69",
   "metadata": {},
   "outputs": [],
   "source": [
    "y_pred = grid_search.predict(X_test_transformed)\n",
    "rmse = mean_squared_error(y_test, y_pred, squared=False)\n",
    "print(f'Root Mean Squared Error: {rmse:.2f}')"
   ]
  },
  {
   "cell_type": "code",
   "execution_count": null,
   "id": "a869287c",
   "metadata": {},
   "outputs": [],
   "source": [
    "print(f'Best hyperparameters: {grid_search.best_params_}')"
   ]
  },
  {
   "cell_type": "markdown",
   "id": "9aad317c",
   "metadata": {},
   "source": [
    "## LGBMRegressor"
   ]
  },
  {
   "cell_type": "code",
   "execution_count": 24,
   "id": "5c238ed4",
   "metadata": {},
   "outputs": [
    {
     "name": "stdout",
     "output_type": "stream",
     "text": [
      "[LightGBM] [Warning] Auto-choosing row-wise multi-threading, the overhead of testing was 0.001821 seconds.\n",
      "You can set `force_row_wise=true` to remove the overhead.\n",
      "And if memory is not enough, you can set `force_col_wise=true`.\n",
      "[LightGBM] [Info] Total Bins 1584\n",
      "[LightGBM] [Info] Number of data points in the train set: 22581, number of used features: 29\n",
      "[LightGBM] [Info] Start training from score 518.858765\n"
     ]
    },
    {
     "data": {
      "text/plain": [
       "Pipeline(steps=[('columntransformer',\n",
       "                 ColumnTransformer(transformers=[('cat', OrdinalEncoder(),\n",
       "                                                  Index(['Promotion Name', 'Store Kind', 'Degree', 'Work', 'Store Code',\n",
       "       'Country ISO2', 'Order Brand', 'Order', 'Department', 'Income Level',\n",
       "       'Price Tier'],\n",
       "      dtype='object')),\n",
       "                                                 ('ohe', OneHotEncoder(),\n",
       "                                                  ['Marriage', 'Gender',\n",
       "                                                   'Is Recyclable?',\n",
       "                                                   'Income Level',\n",
       "                                                   'Price Tier']),\n",
       "                                                 ('num', StandardScaler(),\n",
       "                                                  Index(['Grocery Area', 'Meat Area', 'Gross Weight', 'Package Weight',\n",
       "       'Min. Person Yearly Income', 'Family Expenses', 'Store Efficiency'],\n",
       "      dtype='object'))])),\n",
       "                ('lgbmregressor', LGBMRegressor())])"
      ]
     },
     "execution_count": 24,
     "metadata": {},
     "output_type": "execute_result"
    }
   ],
   "source": [
    "model = make_pipeline(preprocessor, LGBMRegressor())\n",
    "model.fit(X_train, y_train)"
   ]
  },
  {
   "cell_type": "code",
   "execution_count": 25,
   "id": "47152a7d",
   "metadata": {},
   "outputs": [
    {
     "name": "stdout",
     "output_type": "stream",
     "text": [
      "Root Mean Squared Error: 61.68\n"
     ]
    }
   ],
   "source": [
    "y_pred = model.predict(X_test)\n",
    "rmse = mean_squared_error(y_test, y_pred, squared=False)\n",
    "print(f'Root Mean Squared Error: {rmse:.2f}')"
   ]
  },
  {
   "cell_type": "code",
   "execution_count": null,
   "id": "48012fbc",
   "metadata": {},
   "outputs": [],
   "source": [
    "param_grid = {\n",
    "    'lgbmregressor__learning_rate': [0.01, 0.1],\n",
    "    'lgbmregressor__n_estimators': range(50, 501, 50),\n",
    "    'lgbmregressor__num_leaves': [31, 45, 61],\n",
    "    'lgbmregressor__max_depth': [2, 4, 8, 16, 32],\n",
    "}\n",
    "\n",
    "grid_search = GridSearchCV(\n",
    "    model,\n",
    "    param_grid=param_grid,\n",
    "    cv=5,\n",
    "    n_jobs=-1,\n",
    "    verbose=1\n",
    ")\n",
    "\n",
    "grid_search.fit(X_train_transformed, y_train)"
   ]
  },
  {
   "cell_type": "code",
   "execution_count": 161,
   "id": "cfc81a2c",
   "metadata": {},
   "outputs": [],
   "source": [
    "y_pred = grid_search.predict(X_test_transformed)\n",
    "rmse = mean_squared_error(y_test, y_pred, squared=False)\n",
    "print(f'Root Mean Squared Error: {rmse:.2f}')"
   ]
  },
  {
   "cell_type": "code",
   "execution_count": null,
   "id": "3171c4ee",
   "metadata": {},
   "outputs": [],
   "source": [
    "print(f'Best hyperparameters: {grid_search.best_params_}')"
   ]
  },
  {
   "cell_type": "markdown",
   "id": "2f06dccf",
   "metadata": {},
   "source": [
    "## Stacking & Boosting"
   ]
  },
  {
   "cell_type": "code",
   "execution_count": 27,
   "id": "1f42c775",
   "metadata": {},
   "outputs": [],
   "source": [
    "rf = make_pipeline(\n",
    "    preprocessor,\n",
    "    RandomForestRegressor(n_estimators=512, max_depth=16, n_jobs=-1, random_state=42)\n",
    ")\n",
    "\n",
    "et = make_pipeline(\n",
    "    preprocessor,\n",
    "    ExtraTreesRegressor(n_estimators=512, max_depth=16, n_jobs=-1, random_state=42)\n",
    ")\n",
    "\n",
    "bag = make_pipeline(\n",
    "    preprocessor,\n",
    "    BaggingRegressor(n_estimators=75, n_jobs=-1, random_state=42)\n",
    ")\n",
    "\n",
    "\n",
    "#lr = LogisticRegression(random_state=0, max_iter=500, C = 10, penalty= 'l2', solver= 'newton-cg')\n",
    "\n",
    "#mlp = MLPClassifier(random_state=0, hidden_layer_sizes = (512,) , max_iter=100, early_stopping=True,\n",
    "              #      solver='adam', learning_rate = 'adaptive', alpha=0.001, activation='relu', batch_size=128)\n",
    "\n",
    "#gb = GradientBoostingClassifier(random_state=0, learning_rate=0.1, n_estimators=100)\n",
    "\n",
    "#hgb = HistGradientBoostingClassifier(random_state=0, learning_rate=0.01, l2_regularization=0.001)\n",
    "\n",
    "#lgbm = LGBMClassifier(random_state=0, learning_rate=0.01, n_estimators=1000, num_leaves=10)\n",
    "\n",
    "#cat = CatBoostClassifier(n_estimators=1500, learning_rate=0.05, random_state=0, eval_metric= 'MultiClass')"
   ]
  },
  {
   "cell_type": "code",
   "execution_count": 50,
   "id": "d60d2ee9",
   "metadata": {},
   "outputs": [
    {
     "ename": "ValueError",
     "evalue": "Specifying the columns using strings is only supported for pandas DataFrames",
     "output_type": "error",
     "traceback": [
      "\u001b[1;31m---------------------------------------------------------------------------\u001b[0m",
      "\u001b[1;31mAttributeError\u001b[0m                            Traceback (most recent call last)",
      "File \u001b[1;32m~\\anaconda3\\lib\\site-packages\\sklearn\\utils\\__init__.py:409\u001b[0m, in \u001b[0;36m_get_column_indices\u001b[1;34m(X, key)\u001b[0m\n\u001b[0;32m    408\u001b[0m \u001b[38;5;28;01mtry\u001b[39;00m:\n\u001b[1;32m--> 409\u001b[0m     all_columns \u001b[38;5;241m=\u001b[39m \u001b[43mX\u001b[49m\u001b[38;5;241;43m.\u001b[39;49m\u001b[43mcolumns\u001b[49m\n\u001b[0;32m    410\u001b[0m \u001b[38;5;28;01mexcept\u001b[39;00m \u001b[38;5;167;01mAttributeError\u001b[39;00m:\n",
      "\u001b[1;31mAttributeError\u001b[0m: 'numpy.ndarray' object has no attribute 'columns'",
      "\nDuring handling of the above exception, another exception occurred:\n",
      "\u001b[1;31mValueError\u001b[0m                                Traceback (most recent call last)",
      "Input \u001b[1;32mIn [50]\u001b[0m, in \u001b[0;36m<cell line: 9>\u001b[1;34m()\u001b[0m\n\u001b[0;32m      1\u001b[0m estimators \u001b[38;5;241m=\u001b[39m [\n\u001b[0;32m      2\u001b[0m               (\u001b[38;5;124m'\u001b[39m\u001b[38;5;124mrf\u001b[39m\u001b[38;5;124m'\u001b[39m, rf),\n\u001b[0;32m      3\u001b[0m               (\u001b[38;5;124m'\u001b[39m\u001b[38;5;124met\u001b[39m\u001b[38;5;124m'\u001b[39m, et),\n\u001b[0;32m      4\u001b[0m               \u001b[38;5;66;03m# ('bag', bag),\u001b[39;00m\n\u001b[0;32m      5\u001b[0m              ]\n\u001b[0;32m      7\u001b[0m stack_model \u001b[38;5;241m=\u001b[39m StackingRegressor(estimators\u001b[38;5;241m=\u001b[39mestimators, final_estimator\u001b[38;5;241m=\u001b[39mbag)\n\u001b[1;32m----> 9\u001b[0m \u001b[43mstack_model\u001b[49m\u001b[38;5;241;43m.\u001b[39;49m\u001b[43mfit\u001b[49m\u001b[43m(\u001b[49m\u001b[43mX_train\u001b[49m\u001b[43m,\u001b[49m\u001b[43m \u001b[49m\u001b[43my_train\u001b[49m\u001b[43m)\u001b[49m\n",
      "File \u001b[1;32m~\\anaconda3\\lib\\site-packages\\sklearn\\ensemble\\_stacking.py:759\u001b[0m, in \u001b[0;36mStackingRegressor.fit\u001b[1;34m(self, X, y, sample_weight)\u001b[0m\n\u001b[0;32m    737\u001b[0m \u001b[38;5;124;03m\"\"\"Fit the estimators.\u001b[39;00m\n\u001b[0;32m    738\u001b[0m \n\u001b[0;32m    739\u001b[0m \u001b[38;5;124;03mParameters\u001b[39;00m\n\u001b[1;32m   (...)\u001b[0m\n\u001b[0;32m    756\u001b[0m \u001b[38;5;124;03m    Returns a fitted instance.\u001b[39;00m\n\u001b[0;32m    757\u001b[0m \u001b[38;5;124;03m\"\"\"\u001b[39;00m\n\u001b[0;32m    758\u001b[0m y \u001b[38;5;241m=\u001b[39m column_or_1d(y, warn\u001b[38;5;241m=\u001b[39m\u001b[38;5;28;01mTrue\u001b[39;00m)\n\u001b[1;32m--> 759\u001b[0m \u001b[38;5;28;01mreturn\u001b[39;00m \u001b[38;5;28;43msuper\u001b[39;49m\u001b[43m(\u001b[49m\u001b[43m)\u001b[49m\u001b[38;5;241;43m.\u001b[39;49m\u001b[43mfit\u001b[49m\u001b[43m(\u001b[49m\u001b[43mX\u001b[49m\u001b[43m,\u001b[49m\u001b[43m \u001b[49m\u001b[43my\u001b[49m\u001b[43m,\u001b[49m\u001b[43m \u001b[49m\u001b[43msample_weight\u001b[49m\u001b[43m)\u001b[49m\n",
      "File \u001b[1;32m~\\anaconda3\\lib\\site-packages\\sklearn\\ensemble\\_stacking.py:217\u001b[0m, in \u001b[0;36m_BaseStacking.fit\u001b[1;34m(self, X, y, sample_weight)\u001b[0m\n\u001b[0;32m    210\u001b[0m \u001b[38;5;28mself\u001b[39m\u001b[38;5;241m.\u001b[39mstack_method_ \u001b[38;5;241m=\u001b[39m [\n\u001b[0;32m    211\u001b[0m     meth\n\u001b[0;32m    212\u001b[0m     \u001b[38;5;28;01mfor\u001b[39;00m (meth, est) \u001b[38;5;129;01min\u001b[39;00m \u001b[38;5;28mzip\u001b[39m(\u001b[38;5;28mself\u001b[39m\u001b[38;5;241m.\u001b[39mstack_method_, all_estimators)\n\u001b[0;32m    213\u001b[0m     \u001b[38;5;28;01mif\u001b[39;00m est \u001b[38;5;241m!=\u001b[39m \u001b[38;5;124m\"\u001b[39m\u001b[38;5;124mdrop\u001b[39m\u001b[38;5;124m\"\u001b[39m\n\u001b[0;32m    214\u001b[0m ]\n\u001b[0;32m    216\u001b[0m X_meta \u001b[38;5;241m=\u001b[39m \u001b[38;5;28mself\u001b[39m\u001b[38;5;241m.\u001b[39m_concatenate_predictions(X, predictions)\n\u001b[1;32m--> 217\u001b[0m \u001b[43m_fit_single_estimator\u001b[49m\u001b[43m(\u001b[49m\n\u001b[0;32m    218\u001b[0m \u001b[43m    \u001b[49m\u001b[38;5;28;43mself\u001b[39;49m\u001b[38;5;241;43m.\u001b[39;49m\u001b[43mfinal_estimator_\u001b[49m\u001b[43m,\u001b[49m\u001b[43m \u001b[49m\u001b[43mX_meta\u001b[49m\u001b[43m,\u001b[49m\u001b[43m \u001b[49m\u001b[43my\u001b[49m\u001b[43m,\u001b[49m\u001b[43m \u001b[49m\u001b[43msample_weight\u001b[49m\u001b[38;5;241;43m=\u001b[39;49m\u001b[43msample_weight\u001b[49m\n\u001b[0;32m    219\u001b[0m \u001b[43m\u001b[49m\u001b[43m)\u001b[49m\n\u001b[0;32m    221\u001b[0m \u001b[38;5;28;01mreturn\u001b[39;00m \u001b[38;5;28mself\u001b[39m\n",
      "File \u001b[1;32m~\\anaconda3\\lib\\site-packages\\sklearn\\ensemble\\_base.py:42\u001b[0m, in \u001b[0;36m_fit_single_estimator\u001b[1;34m(estimator, X, y, sample_weight, message_clsname, message)\u001b[0m\n\u001b[0;32m     40\u001b[0m \u001b[38;5;28;01melse\u001b[39;00m:\n\u001b[0;32m     41\u001b[0m     \u001b[38;5;28;01mwith\u001b[39;00m _print_elapsed_time(message_clsname, message):\n\u001b[1;32m---> 42\u001b[0m         \u001b[43mestimator\u001b[49m\u001b[38;5;241;43m.\u001b[39;49m\u001b[43mfit\u001b[49m\u001b[43m(\u001b[49m\u001b[43mX\u001b[49m\u001b[43m,\u001b[49m\u001b[43m \u001b[49m\u001b[43my\u001b[49m\u001b[43m)\u001b[49m\n\u001b[0;32m     43\u001b[0m \u001b[38;5;28;01mreturn\u001b[39;00m estimator\n",
      "File \u001b[1;32m~\\anaconda3\\lib\\site-packages\\sklearn\\pipeline.py:390\u001b[0m, in \u001b[0;36mPipeline.fit\u001b[1;34m(self, X, y, **fit_params)\u001b[0m\n\u001b[0;32m    364\u001b[0m \u001b[38;5;124;03m\"\"\"Fit the model.\u001b[39;00m\n\u001b[0;32m    365\u001b[0m \n\u001b[0;32m    366\u001b[0m \u001b[38;5;124;03mFit all the transformers one after the other and transform the\u001b[39;00m\n\u001b[1;32m   (...)\u001b[0m\n\u001b[0;32m    387\u001b[0m \u001b[38;5;124;03m    Pipeline with fitted steps.\u001b[39;00m\n\u001b[0;32m    388\u001b[0m \u001b[38;5;124;03m\"\"\"\u001b[39;00m\n\u001b[0;32m    389\u001b[0m fit_params_steps \u001b[38;5;241m=\u001b[39m \u001b[38;5;28mself\u001b[39m\u001b[38;5;241m.\u001b[39m_check_fit_params(\u001b[38;5;241m*\u001b[39m\u001b[38;5;241m*\u001b[39mfit_params)\n\u001b[1;32m--> 390\u001b[0m Xt \u001b[38;5;241m=\u001b[39m \u001b[38;5;28mself\u001b[39m\u001b[38;5;241m.\u001b[39m_fit(X, y, \u001b[38;5;241m*\u001b[39m\u001b[38;5;241m*\u001b[39mfit_params_steps)\n\u001b[0;32m    391\u001b[0m \u001b[38;5;28;01mwith\u001b[39;00m _print_elapsed_time(\u001b[38;5;124m\"\u001b[39m\u001b[38;5;124mPipeline\u001b[39m\u001b[38;5;124m\"\u001b[39m, \u001b[38;5;28mself\u001b[39m\u001b[38;5;241m.\u001b[39m_log_message(\u001b[38;5;28mlen\u001b[39m(\u001b[38;5;28mself\u001b[39m\u001b[38;5;241m.\u001b[39msteps) \u001b[38;5;241m-\u001b[39m \u001b[38;5;241m1\u001b[39m)):\n\u001b[0;32m    392\u001b[0m     \u001b[38;5;28;01mif\u001b[39;00m \u001b[38;5;28mself\u001b[39m\u001b[38;5;241m.\u001b[39m_final_estimator \u001b[38;5;241m!=\u001b[39m \u001b[38;5;124m\"\u001b[39m\u001b[38;5;124mpassthrough\u001b[39m\u001b[38;5;124m\"\u001b[39m:\n",
      "File \u001b[1;32m~\\anaconda3\\lib\\site-packages\\sklearn\\pipeline.py:348\u001b[0m, in \u001b[0;36mPipeline._fit\u001b[1;34m(self, X, y, **fit_params_steps)\u001b[0m\n\u001b[0;32m    346\u001b[0m     cloned_transformer \u001b[38;5;241m=\u001b[39m clone(transformer)\n\u001b[0;32m    347\u001b[0m \u001b[38;5;66;03m# Fit or load from cache the current transformer\u001b[39;00m\n\u001b[1;32m--> 348\u001b[0m X, fitted_transformer \u001b[38;5;241m=\u001b[39m fit_transform_one_cached(\n\u001b[0;32m    349\u001b[0m     cloned_transformer,\n\u001b[0;32m    350\u001b[0m     X,\n\u001b[0;32m    351\u001b[0m     y,\n\u001b[0;32m    352\u001b[0m     \u001b[38;5;28;01mNone\u001b[39;00m,\n\u001b[0;32m    353\u001b[0m     message_clsname\u001b[38;5;241m=\u001b[39m\u001b[38;5;124m\"\u001b[39m\u001b[38;5;124mPipeline\u001b[39m\u001b[38;5;124m\"\u001b[39m,\n\u001b[0;32m    354\u001b[0m     message\u001b[38;5;241m=\u001b[39m\u001b[38;5;28mself\u001b[39m\u001b[38;5;241m.\u001b[39m_log_message(step_idx),\n\u001b[0;32m    355\u001b[0m     \u001b[38;5;241m*\u001b[39m\u001b[38;5;241m*\u001b[39mfit_params_steps[name],\n\u001b[0;32m    356\u001b[0m )\n\u001b[0;32m    357\u001b[0m \u001b[38;5;66;03m# Replace the transformer of the step with the fitted\u001b[39;00m\n\u001b[0;32m    358\u001b[0m \u001b[38;5;66;03m# transformer. This is necessary when loading the transformer\u001b[39;00m\n\u001b[0;32m    359\u001b[0m \u001b[38;5;66;03m# from the cache.\u001b[39;00m\n\u001b[0;32m    360\u001b[0m \u001b[38;5;28mself\u001b[39m\u001b[38;5;241m.\u001b[39msteps[step_idx] \u001b[38;5;241m=\u001b[39m (name, fitted_transformer)\n",
      "File \u001b[1;32m~\\anaconda3\\lib\\site-packages\\joblib\\memory.py:349\u001b[0m, in \u001b[0;36mNotMemorizedFunc.__call__\u001b[1;34m(self, *args, **kwargs)\u001b[0m\n\u001b[0;32m    348\u001b[0m \u001b[38;5;28;01mdef\u001b[39;00m \u001b[38;5;21m__call__\u001b[39m(\u001b[38;5;28mself\u001b[39m, \u001b[38;5;241m*\u001b[39margs, \u001b[38;5;241m*\u001b[39m\u001b[38;5;241m*\u001b[39mkwargs):\n\u001b[1;32m--> 349\u001b[0m     \u001b[38;5;28;01mreturn\u001b[39;00m \u001b[38;5;28mself\u001b[39m\u001b[38;5;241m.\u001b[39mfunc(\u001b[38;5;241m*\u001b[39margs, \u001b[38;5;241m*\u001b[39m\u001b[38;5;241m*\u001b[39mkwargs)\n",
      "File \u001b[1;32m~\\anaconda3\\lib\\site-packages\\sklearn\\pipeline.py:893\u001b[0m, in \u001b[0;36m_fit_transform_one\u001b[1;34m(transformer, X, y, weight, message_clsname, message, **fit_params)\u001b[0m\n\u001b[0;32m    891\u001b[0m \u001b[38;5;28;01mwith\u001b[39;00m _print_elapsed_time(message_clsname, message):\n\u001b[0;32m    892\u001b[0m     \u001b[38;5;28;01mif\u001b[39;00m \u001b[38;5;28mhasattr\u001b[39m(transformer, \u001b[38;5;124m\"\u001b[39m\u001b[38;5;124mfit_transform\u001b[39m\u001b[38;5;124m\"\u001b[39m):\n\u001b[1;32m--> 893\u001b[0m         res \u001b[38;5;241m=\u001b[39m transformer\u001b[38;5;241m.\u001b[39mfit_transform(X, y, \u001b[38;5;241m*\u001b[39m\u001b[38;5;241m*\u001b[39mfit_params)\n\u001b[0;32m    894\u001b[0m     \u001b[38;5;28;01melse\u001b[39;00m:\n\u001b[0;32m    895\u001b[0m         res \u001b[38;5;241m=\u001b[39m transformer\u001b[38;5;241m.\u001b[39mfit(X, y, \u001b[38;5;241m*\u001b[39m\u001b[38;5;241m*\u001b[39mfit_params)\u001b[38;5;241m.\u001b[39mtransform(X)\n",
      "File \u001b[1;32m~\\anaconda3\\lib\\site-packages\\sklearn\\compose\\_column_transformer.py:672\u001b[0m, in \u001b[0;36mColumnTransformer.fit_transform\u001b[1;34m(self, X, y)\u001b[0m\n\u001b[0;32m    670\u001b[0m \u001b[38;5;28mself\u001b[39m\u001b[38;5;241m.\u001b[39m_check_n_features(X, reset\u001b[38;5;241m=\u001b[39m\u001b[38;5;28;01mTrue\u001b[39;00m)\n\u001b[0;32m    671\u001b[0m \u001b[38;5;28mself\u001b[39m\u001b[38;5;241m.\u001b[39m_validate_transformers()\n\u001b[1;32m--> 672\u001b[0m \u001b[38;5;28;43mself\u001b[39;49m\u001b[38;5;241;43m.\u001b[39;49m\u001b[43m_validate_column_callables\u001b[49m\u001b[43m(\u001b[49m\u001b[43mX\u001b[49m\u001b[43m)\u001b[49m\n\u001b[0;32m    673\u001b[0m \u001b[38;5;28mself\u001b[39m\u001b[38;5;241m.\u001b[39m_validate_remainder(X)\n\u001b[0;32m    675\u001b[0m result \u001b[38;5;241m=\u001b[39m \u001b[38;5;28mself\u001b[39m\u001b[38;5;241m.\u001b[39m_fit_transform(X, y, _fit_transform_one)\n",
      "File \u001b[1;32m~\\anaconda3\\lib\\site-packages\\sklearn\\compose\\_column_transformer.py:352\u001b[0m, in \u001b[0;36mColumnTransformer._validate_column_callables\u001b[1;34m(self, X)\u001b[0m\n\u001b[0;32m    350\u001b[0m         columns \u001b[38;5;241m=\u001b[39m columns(X)\n\u001b[0;32m    351\u001b[0m     all_columns\u001b[38;5;241m.\u001b[39mappend(columns)\n\u001b[1;32m--> 352\u001b[0m     transformer_to_input_indices[name] \u001b[38;5;241m=\u001b[39m \u001b[43m_get_column_indices\u001b[49m\u001b[43m(\u001b[49m\u001b[43mX\u001b[49m\u001b[43m,\u001b[49m\u001b[43m \u001b[49m\u001b[43mcolumns\u001b[49m\u001b[43m)\u001b[49m\n\u001b[0;32m    354\u001b[0m \u001b[38;5;28mself\u001b[39m\u001b[38;5;241m.\u001b[39m_columns \u001b[38;5;241m=\u001b[39m all_columns\n\u001b[0;32m    355\u001b[0m \u001b[38;5;28mself\u001b[39m\u001b[38;5;241m.\u001b[39m_transformer_to_input_indices \u001b[38;5;241m=\u001b[39m transformer_to_input_indices\n",
      "File \u001b[1;32m~\\anaconda3\\lib\\site-packages\\sklearn\\utils\\__init__.py:411\u001b[0m, in \u001b[0;36m_get_column_indices\u001b[1;34m(X, key)\u001b[0m\n\u001b[0;32m    409\u001b[0m     all_columns \u001b[38;5;241m=\u001b[39m X\u001b[38;5;241m.\u001b[39mcolumns\n\u001b[0;32m    410\u001b[0m \u001b[38;5;28;01mexcept\u001b[39;00m \u001b[38;5;167;01mAttributeError\u001b[39;00m:\n\u001b[1;32m--> 411\u001b[0m     \u001b[38;5;28;01mraise\u001b[39;00m \u001b[38;5;167;01mValueError\u001b[39;00m(\n\u001b[0;32m    412\u001b[0m         \u001b[38;5;124m\"\u001b[39m\u001b[38;5;124mSpecifying the columns using strings is only \u001b[39m\u001b[38;5;124m\"\u001b[39m\n\u001b[0;32m    413\u001b[0m         \u001b[38;5;124m\"\u001b[39m\u001b[38;5;124msupported for pandas DataFrames\u001b[39m\u001b[38;5;124m\"\u001b[39m\n\u001b[0;32m    414\u001b[0m     )\n\u001b[0;32m    415\u001b[0m \u001b[38;5;28;01mif\u001b[39;00m \u001b[38;5;28misinstance\u001b[39m(key, \u001b[38;5;28mstr\u001b[39m):\n\u001b[0;32m    416\u001b[0m     columns \u001b[38;5;241m=\u001b[39m [key]\n",
      "\u001b[1;31mValueError\u001b[0m: Specifying the columns using strings is only supported for pandas DataFrames"
     ]
    }
   ],
   "source": [
    "estimators = [\n",
    "              ('rf', rf),\n",
    "              ('et', et),\n",
    "              # ('bag', bag),\n",
    "             ]\n",
    "\n",
    "stack_model = StackingRegressor(estimators=estimators, final_estimator=bag)\n",
    "\n",
    "stack_model.fit(X_train, y_train)"
   ]
  },
  {
   "cell_type": "code",
   "execution_count": 37,
   "id": "05c33dd2",
   "metadata": {},
   "outputs": [
    {
     "data": {
      "text/plain": [
       "32.003467789896284"
      ]
     },
     "execution_count": 37,
     "metadata": {},
     "output_type": "execute_result"
    }
   ],
   "source": [
    "# Check if the model fitted well or not\n",
    "predictions = stack_model.predict(X_train)\n",
    "\n",
    "mse = mean_squared_error(y_train, predictions)\n",
    "rmse = np.sqrt(mse)\n",
    "rmse"
   ]
  },
  {
   "cell_type": "code",
   "execution_count": 38,
   "id": "0f683930",
   "metadata": {},
   "outputs": [
    {
     "data": {
      "text/plain": [
       "52.91357827365574"
      ]
     },
     "execution_count": 38,
     "metadata": {},
     "output_type": "execute_result"
    }
   ],
   "source": [
    "# Check if the model fitted well or not\n",
    "predictions = stack_model.predict(X_test)\n",
    "\n",
    "mse = mean_squared_error(y_test, predictions)\n",
    "rmse = np.sqrt(mse)\n",
    "rmse"
   ]
  },
  {
   "cell_type": "code",
   "execution_count": 32,
   "id": "4fd7079a",
   "metadata": {},
   "outputs": [
    {
     "data": {
      "text/plain": [
       "VotingRegressor(estimators=[('rf',\n",
       "                             Pipeline(steps=[('columntransformer',\n",
       "                                              ColumnTransformer(transformers=[('cat',\n",
       "                                                                               OrdinalEncoder(),\n",
       "                                                                               Index(['Promotion Name', 'Store Kind', 'Degree', 'Work', 'Store Code',\n",
       "       'Country ISO2', 'Order Brand', 'Order', 'Department', 'Income Level',\n",
       "       'Price Tier'],\n",
       "      dtype='object')),\n",
       "                                                                              ('ohe',\n",
       "                                                                               OneHotEncoder(),\n",
       "                                                                               ['Marriage',\n",
       "                                                                                'Gender',\n",
       "                                                                                'Is '\n",
       "                                                                                'Recyclable?',\n",
       "                                                                                'Incom...\n",
       "                                                                               OneHotEncoder(),\n",
       "                                                                               ['Marriage',\n",
       "                                                                                'Gender',\n",
       "                                                                                'Is '\n",
       "                                                                                'Recyclable?',\n",
       "                                                                                'Income '\n",
       "                                                                                'Level',\n",
       "                                                                                'Price '\n",
       "                                                                                'Tier']),\n",
       "                                                                              ('num',\n",
       "                                                                               StandardScaler(),\n",
       "                                                                               Index(['Grocery Area', 'Meat Area', 'Gross Weight', 'Package Weight',\n",
       "       'Min. Person Yearly Income', 'Family Expenses', 'Store Efficiency'],\n",
       "      dtype='object'))])),\n",
       "                                             ('extratreesregressor',\n",
       "                                              ExtraTreesRegressor(max_depth=16,\n",
       "                                                                  n_estimators=512,\n",
       "                                                                  n_jobs=-1,\n",
       "                                                                  random_state=42))]))])"
      ]
     },
     "execution_count": 32,
     "metadata": {},
     "output_type": "execute_result"
    }
   ],
   "source": [
    "estimators = [\n",
    "              ('rf', rf),\n",
    "              ('et', et),\n",
    "              # ('bag', bag),\n",
    "             ]\n",
    "\n",
    "voting_model = VotingRegressor(estimators=estimators)\n",
    "\n",
    "voting_model.fit(X_train, y_train)"
   ]
  },
  {
   "cell_type": "code",
   "execution_count": 34,
   "id": "b8bbd4ad",
   "metadata": {},
   "outputs": [
    {
     "data": {
      "text/plain": [
       "25.514620525696635"
      ]
     },
     "execution_count": 34,
     "metadata": {},
     "output_type": "execute_result"
    }
   ],
   "source": [
    "# Check if the model fitted well or not\n",
    "predictions = voting_model.predict(X_train)\n",
    "\n",
    "mse = mean_squared_error(y_train, predictions)\n",
    "rmse = np.sqrt(mse)\n",
    "rmse"
   ]
  },
  {
   "cell_type": "code",
   "execution_count": 35,
   "id": "f525ac2c",
   "metadata": {},
   "outputs": [
    {
     "data": {
      "text/plain": [
       "48.38512358051683"
      ]
     },
     "execution_count": 35,
     "metadata": {},
     "output_type": "execute_result"
    }
   ],
   "source": [
    "predictions = voting_model.predict(X_test)\n",
    "\n",
    "mse = mean_squared_error(y_test, predictions)\n",
    "rmse = np.sqrt(mse)\n",
    "rmse"
   ]
  },
  {
   "cell_type": "markdown",
   "id": "4677ed5e",
   "metadata": {},
   "source": [
    "## Optuna Optimization"
   ]
  },
  {
   "cell_type": "code",
   "execution_count": null,
   "id": "9fca49b5",
   "metadata": {},
   "outputs": [],
   "source": [
    "def rmse(y_true, y_pred):\n",
    "    return np.sqrt(np.mean((y_true - y_pred)**2))\n",
    "\n",
    "rmse_scorer = make_scorer(rmse, greater_is_better=False)\n",
    "\n",
    "def objective(trial):\n",
    "\n",
    "    params = {\n",
    "        'n_estimators': trial.suggest_int('n_estimators', 100, 1000),\n",
    "        'max_depth': trial.suggest_int('max_depth', 4, 64),\n",
    "        'min_samples_split': trial.suggest_int('min_samples_split', 2, 6),\n",
    "        'min_samples_leaf': trial.suggest_int('min_samples_leaf', 1, 4),\n",
    "    }\n",
    "    \n",
    "    model = ExtraTreesRegressor(**params, n_jobs=-1, random_state=42)\n",
    "\n",
    "\n",
    "    kf = KFold(n_splits=5, shuffle=True, random_state=42)\n",
    "\n",
    "    scores=cross_val_score(model, X_train_transformed, y_train, cv=kf, scoring=rmse_scorer)\n",
    "    positive_scores = (-scores).mean()\n",
    "\n",
    "\n",
    "    return positive_scores\n",
    "\n",
    "study = optuna.create_study(direction='minimize')\n",
    "study.optimize(objective, n_trials=50)"
   ]
  },
  {
   "cell_type": "code",
   "execution_count": null,
   "id": "2a70e3e6",
   "metadata": {},
   "outputs": [],
   "source": [
    "# Print the best hyperparameters and corresponding RMSE\n",
    "print(\"Best trial:\")\n",
    "trial = study.best_trial\n",
    "print(\"Value (RMSE): {}\".format(trial.value))\n",
    "print(\"Params: \")\n",
    "for key, value in trial.params.items():\n",
    "    print(\"    {}: {}\".format(key, value))"
   ]
  },
  {
   "cell_type": "code",
   "execution_count": null,
   "id": "30b2fd2a",
   "metadata": {},
   "outputs": [],
   "source": []
  },
  {
   "cell_type": "code",
   "execution_count": null,
   "id": "916f0504",
   "metadata": {},
   "outputs": [],
   "source": []
  },
  {
   "cell_type": "markdown",
   "id": "9e3877de",
   "metadata": {},
   "source": [
    "## Extract submissions"
   ]
  },
  {
   "cell_type": "code",
   "execution_count": 39,
   "id": "8b291afc",
   "metadata": {},
   "outputs": [
    {
     "data": {
      "text/html": [
       "<div>\n",
       "<style scoped>\n",
       "    .dataframe tbody tr th:only-of-type {\n",
       "        vertical-align: middle;\n",
       "    }\n",
       "\n",
       "    .dataframe tbody tr th {\n",
       "        vertical-align: top;\n",
       "    }\n",
       "\n",
       "    .dataframe thead th {\n",
       "        text-align: right;\n",
       "    }\n",
       "</style>\n",
       "<table border=\"1\" class=\"dataframe\">\n",
       "  <thead>\n",
       "    <tr style=\"text-align: right;\">\n",
       "      <th></th>\n",
       "      <th>ID</th>\n",
       "      <th>Cost</th>\n",
       "    </tr>\n",
       "  </thead>\n",
       "  <tbody>\n",
       "    <tr>\n",
       "      <th>0</th>\n",
       "      <td>0</td>\n",
       "      <td>0</td>\n",
       "    </tr>\n",
       "    <tr>\n",
       "      <th>1</th>\n",
       "      <td>1</td>\n",
       "      <td>0</td>\n",
       "    </tr>\n",
       "    <tr>\n",
       "      <th>2</th>\n",
       "      <td>2</td>\n",
       "      <td>0</td>\n",
       "    </tr>\n",
       "    <tr>\n",
       "      <th>3</th>\n",
       "      <td>3</td>\n",
       "      <td>0</td>\n",
       "    </tr>\n",
       "    <tr>\n",
       "      <th>4</th>\n",
       "      <td>4</td>\n",
       "      <td>0</td>\n",
       "    </tr>\n",
       "  </tbody>\n",
       "</table>\n",
       "</div>"
      ],
      "text/plain": [
       "   ID  Cost\n",
       "0   0     0\n",
       "1   1     0\n",
       "2   2     0\n",
       "3   3     0\n",
       "4   4     0"
      ]
     },
     "execution_count": 39,
     "metadata": {},
     "output_type": "execute_result"
    }
   ],
   "source": [
    "samples = pd.read_csv('data/sample_submission.csv')\n",
    "samples.head()"
   ]
  },
  {
   "cell_type": "code",
   "execution_count": 40,
   "id": "47086017",
   "metadata": {},
   "outputs": [
    {
     "data": {
      "text/html": [
       "<div>\n",
       "<style scoped>\n",
       "    .dataframe tbody tr th:only-of-type {\n",
       "        vertical-align: middle;\n",
       "    }\n",
       "\n",
       "    .dataframe tbody tr th {\n",
       "        vertical-align: top;\n",
       "    }\n",
       "\n",
       "    .dataframe thead th {\n",
       "        text-align: right;\n",
       "    }\n",
       "</style>\n",
       "<table border=\"1\" class=\"dataframe\">\n",
       "  <thead>\n",
       "    <tr style=\"text-align: right;\">\n",
       "      <th></th>\n",
       "      <th>Promotion Name</th>\n",
       "      <th>Store Kind</th>\n",
       "      <th>Is Recyclable?</th>\n",
       "      <th>Grocery Area</th>\n",
       "      <th>Meat Area</th>\n",
       "      <th>Marriage</th>\n",
       "      <th>Gender</th>\n",
       "      <th>Children</th>\n",
       "      <th>Degree</th>\n",
       "      <th>Work</th>\n",
       "      <th>...</th>\n",
       "      <th>Min. Person Yearly Income</th>\n",
       "      <th>Amenities Score</th>\n",
       "      <th>Family Expenses</th>\n",
       "      <th>Store Efficiency</th>\n",
       "      <th>Promotion Name Length</th>\n",
       "      <th>Store Kind Length</th>\n",
       "      <th>Promotion Frequency</th>\n",
       "      <th>Income Level</th>\n",
       "      <th>Price Tier</th>\n",
       "      <th>Order Popularity</th>\n",
       "    </tr>\n",
       "  </thead>\n",
       "  <tbody>\n",
       "    <tr>\n",
       "      <th>0</th>\n",
       "      <td>Fantastic Discounts</td>\n",
       "      <td>Gourmet</td>\n",
       "      <td>True</td>\n",
       "      <td>1424.85</td>\n",
       "      <td>308.73</td>\n",
       "      <td>Single</td>\n",
       "      <td>Male</td>\n",
       "      <td>4</td>\n",
       "      <td>partial high school</td>\n",
       "      <td>skilled manual</td>\n",
       "      <td>...</td>\n",
       "      <td>50000.00</td>\n",
       "      <td>5</td>\n",
       "      <td>10000.00</td>\n",
       "      <td>5342.88</td>\n",
       "      <td>19</td>\n",
       "      <td>7</td>\n",
       "      <td>58</td>\n",
       "      <td>Middle</td>\n",
       "      <td>High Price</td>\n",
       "      <td>485</td>\n",
       "    </tr>\n",
       "    <tr>\n",
       "      <th>1</th>\n",
       "      <td>Bag Stuffer</td>\n",
       "      <td>Deluxe</td>\n",
       "      <td>False</td>\n",
       "      <td>1735.17</td>\n",
       "      <td>336.59</td>\n",
       "      <td>Married</td>\n",
       "      <td>Female</td>\n",
       "      <td>3</td>\n",
       "      <td>graduate degree</td>\n",
       "      <td>professional</td>\n",
       "      <td>...</td>\n",
       "      <td>70000.00</td>\n",
       "      <td>5</td>\n",
       "      <td>14000.00</td>\n",
       "      <td>838.13</td>\n",
       "      <td>11</td>\n",
       "      <td>6</td>\n",
       "      <td>361</td>\n",
       "      <td>High</td>\n",
       "      <td>High Price</td>\n",
       "      <td>2337</td>\n",
       "    </tr>\n",
       "    <tr>\n",
       "      <th>2</th>\n",
       "      <td>Pick Your Savings</td>\n",
       "      <td>Deluxe</td>\n",
       "      <td>False</td>\n",
       "      <td>2038.11</td>\n",
       "      <td>321.26</td>\n",
       "      <td>Single</td>\n",
       "      <td>Female</td>\n",
       "      <td>3</td>\n",
       "      <td>partial high school</td>\n",
       "      <td>management</td>\n",
       "      <td>...</td>\n",
       "      <td>130000.00</td>\n",
       "      <td>5</td>\n",
       "      <td>32500.00</td>\n",
       "      <td>644.92</td>\n",
       "      <td>17</td>\n",
       "      <td>6</td>\n",
       "      <td>291</td>\n",
       "      <td>High</td>\n",
       "      <td>High Price</td>\n",
       "      <td>1292</td>\n",
       "    </tr>\n",
       "    <tr>\n",
       "      <th>3</th>\n",
       "      <td>Price Winners</td>\n",
       "      <td>Deluxe</td>\n",
       "      <td>False</td>\n",
       "      <td>1871.16</td>\n",
       "      <td>394.58</td>\n",
       "      <td>Single</td>\n",
       "      <td>Male</td>\n",
       "      <td>3</td>\n",
       "      <td>partial high school</td>\n",
       "      <td>manual</td>\n",
       "      <td>...</td>\n",
       "      <td>10000.00</td>\n",
       "      <td>5</td>\n",
       "      <td>2500.00</td>\n",
       "      <td>3084.95</td>\n",
       "      <td>13</td>\n",
       "      <td>6</td>\n",
       "      <td>665</td>\n",
       "      <td>Low</td>\n",
       "      <td>High Price</td>\n",
       "      <td>476</td>\n",
       "    </tr>\n",
       "    <tr>\n",
       "      <th>4</th>\n",
       "      <td>Dollar Days</td>\n",
       "      <td>Supermarket</td>\n",
       "      <td>False</td>\n",
       "      <td>1320.15</td>\n",
       "      <td>348.85</td>\n",
       "      <td>Single</td>\n",
       "      <td>Male</td>\n",
       "      <td>2</td>\n",
       "      <td>high school degree</td>\n",
       "      <td>manual</td>\n",
       "      <td>...</td>\n",
       "      <td>30000.00</td>\n",
       "      <td>1</td>\n",
       "      <td>10000.00</td>\n",
       "      <td>1969.03</td>\n",
       "      <td>11</td>\n",
       "      <td>11</td>\n",
       "      <td>174</td>\n",
       "      <td>Middle</td>\n",
       "      <td>High Price</td>\n",
       "      <td>308</td>\n",
       "    </tr>\n",
       "  </tbody>\n",
       "</table>\n",
       "<p>5 rows × 27 columns</p>\n",
       "</div>"
      ],
      "text/plain": [
       "        Promotion Name   Store Kind  Is Recyclable?  Grocery Area  Meat Area  \\\n",
       "0  Fantastic Discounts      Gourmet            True       1424.85     308.73   \n",
       "1          Bag Stuffer       Deluxe           False       1735.17     336.59   \n",
       "2    Pick Your Savings       Deluxe           False       2038.11     321.26   \n",
       "3        Price Winners       Deluxe           False       1871.16     394.58   \n",
       "4          Dollar Days  Supermarket           False       1320.15     348.85   \n",
       "\n",
       "  Marriage  Gender  Children                Degree             Work  ...  \\\n",
       "0   Single    Male         4  partial high school    skilled manual  ...   \n",
       "1  Married  Female         3      graduate degree      professional  ...   \n",
       "2   Single  Female         3  partial high school        management  ...   \n",
       "3   Single    Male         3  partial high school            manual  ...   \n",
       "4   Single    Male         2   high school degree            manual  ...   \n",
       "\n",
       "  Min. Person Yearly Income Amenities Score Family Expenses Store Efficiency  \\\n",
       "0                  50000.00               5        10000.00          5342.88   \n",
       "1                  70000.00               5        14000.00           838.13   \n",
       "2                 130000.00               5        32500.00           644.92   \n",
       "3                  10000.00               5         2500.00          3084.95   \n",
       "4                  30000.00               1        10000.00          1969.03   \n",
       "\n",
       "  Promotion Name Length  Store Kind Length  Promotion Frequency  Income Level  \\\n",
       "0                    19                  7                   58        Middle   \n",
       "1                    11                  6                  361          High   \n",
       "2                    17                  6                  291          High   \n",
       "3                    13                  6                  665           Low   \n",
       "4                    11                 11                  174        Middle   \n",
       "\n",
       "   Price Tier  Order Popularity  \n",
       "0  High Price               485  \n",
       "1  High Price              2337  \n",
       "2  High Price              1292  \n",
       "3  High Price               476  \n",
       "4  High Price               308  \n",
       "\n",
       "[5 rows x 27 columns]"
      ]
     },
     "execution_count": 40,
     "metadata": {},
     "output_type": "execute_result"
    }
   ],
   "source": [
    "test = pre.pd.read_csv(\"data/cleaned_test.csv\")\n",
    "test.head()"
   ]
  },
  {
   "cell_type": "code",
   "execution_count": 41,
   "id": "a9e62c7e",
   "metadata": {},
   "outputs": [
    {
     "data": {
      "text/plain": [
       "Promotion Name               0\n",
       "Store Kind                   0\n",
       "Is Recyclable?               0\n",
       "Grocery Area                 0\n",
       "Meat Area                    0\n",
       "Marriage                     0\n",
       "Gender                       0\n",
       "Children                     0\n",
       "Degree                       0\n",
       "Work                         0\n",
       "Store Code                   0\n",
       "Country ISO2                 0\n",
       "Order Brand                  0\n",
       "Order                        0\n",
       "Department                   0\n",
       "Gross Weight                 0\n",
       "Package Weight               0\n",
       "Min. Person Yearly Income    0\n",
       "Amenities Score              0\n",
       "Family Expenses              0\n",
       "Store Efficiency             0\n",
       "Promotion Name Length        0\n",
       "Store Kind Length            0\n",
       "Promotion Frequency          0\n",
       "Income Level                 0\n",
       "Price Tier                   0\n",
       "Order Popularity             0\n",
       "dtype: int64"
      ]
     },
     "execution_count": 41,
     "metadata": {},
     "output_type": "execute_result"
    }
   ],
   "source": [
    "test.isna().sum()"
   ]
  },
  {
   "cell_type": "code",
   "execution_count": 42,
   "id": "c504c264",
   "metadata": {},
   "outputs": [],
   "source": [
    "y_sub_pred = exmodel.predict(test)"
   ]
  },
  {
   "cell_type": "code",
   "execution_count": 43,
   "id": "ddd74515",
   "metadata": {},
   "outputs": [],
   "source": [
    "samples[\"Cost\"] = y_sub_pred"
   ]
  },
  {
   "cell_type": "code",
   "execution_count": 44,
   "id": "c218e8d6",
   "metadata": {},
   "outputs": [],
   "source": [
    "samples.to_csv(\"data/submission.csv\", index=False)"
   ]
  },
  {
   "cell_type": "code",
   "execution_count": null,
   "id": "1d31cd00",
   "metadata": {},
   "outputs": [],
   "source": []
  }
 ],
 "metadata": {
  "kernelspec": {
   "display_name": "Python 3 (ipykernel)",
   "language": "python",
   "name": "python3"
  },
  "language_info": {
   "codemirror_mode": {
    "name": "ipython",
    "version": 3
   },
   "file_extension": ".py",
   "mimetype": "text/x-python",
   "name": "python",
   "nbconvert_exporter": "python",
   "pygments_lexer": "ipython3",
   "version": "3.9.12"
  }
 },
 "nbformat": 4,
 "nbformat_minor": 5
}
